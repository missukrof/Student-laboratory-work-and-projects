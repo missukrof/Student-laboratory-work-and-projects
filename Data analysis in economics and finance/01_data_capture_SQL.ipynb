{
 "cells": [
  {
   "cell_type": "markdown",
   "metadata": {},
   "source": [
    "# <center> Data Analysis Project<br><br>Курс \"Анализ данных в экономике и финансах\"<br><br>Сбор и загрузка первичных данных: II ЭТАП</center>"
   ]
  },
  {
   "cell_type": "code",
   "execution_count": 1,
   "metadata": {},
   "outputs": [],
   "source": [
    "import json\n",
    "import numpy as np\n",
    "import pandas as pd"
   ]
  },
  {
   "cell_type": "code",
   "execution_count": 2,
   "metadata": {},
   "outputs": [],
   "source": [
    "# pip install mysql-connector-python"
   ]
  },
  {
   "cell_type": "code",
   "execution_count": 3,
   "metadata": {},
   "outputs": [],
   "source": [
    "from getpass import getpass\n",
    "from mysql.connector import connect, Error"
   ]
  },
  {
   "cell_type": "markdown",
   "metadata": {},
   "source": [
    "## 📺Таблица Movies"
   ]
  },
  {
   "cell_type": "markdown",
   "metadata": {},
   "source": [
    "**[Сбор данных при помощи API](https://colab.research.google.com/drive/17OMgnKrUu2EXH6cf8URhZZ_zlbKgS0Vj?usp=sharing)**\n",
    "<br>\n",
    "<br>Открываем собранные данные:\n",
    " 1. список премьер в российских кинотеатрах с 2011 по 2022 гг.;\n",
    " 2. основная информация по каждому из фильмов;\n",
    " 3. информация о кассовых сборах и бюджете каждого из кинопроизведений."
   ]
  },
  {
   "cell_type": "code",
   "execution_count": 4,
   "metadata": {},
   "outputs": [],
   "source": [
    "with open('kinopoisk_premiers.json') as json_file:\n",
    "    kinopoisk_premiers = json.load(json_file)"
   ]
  },
  {
   "cell_type": "code",
   "execution_count": 5,
   "metadata": {},
   "outputs": [],
   "source": [
    "with open('kinopoisk_media_film_info.json') as json_file:\n",
    "    kinopoisk_media_film_info = json.load(json_file)"
   ]
  },
  {
   "cell_type": "code",
   "execution_count": 6,
   "metadata": {},
   "outputs": [],
   "source": [
    "with open('kinopoisk_media_box_office.json') as json_file:\n",
    "    kinopoisk_media_box_office = json.load(json_file)"
   ]
  },
  {
   "cell_type": "markdown",
   "metadata": {},
   "source": [
    "В читабельном варианте json-файл с информацией о кассовых сборах и бюджете представить без предварительной обработки невозможно, поэтому создаём функцию, которая будет доставать информацию:\n",
    "1. Бюджет фильма (+ валюта бюджета);\n",
    "2. Российские кассовые сборы (+ валюта российских кассовых сборов);\n",
    "3. Мировые кассовые сборы (+ валюта мировых кассовых сборов)."
   ]
  },
  {
   "cell_type": "code",
   "execution_count": 7,
   "metadata": {},
   "outputs": [],
   "source": [
    "def getFilmBoxOffice(json_file, box_office_list):\n",
    "    for i in range(len(json_file)):\n",
    "        d = {}\n",
    "        budget = []\n",
    "        currency_budget = []\n",
    "        rus = []\n",
    "        currency_rus = []\n",
    "        world = []\n",
    "        currency_world = []\n",
    "        trial_list = list(json_file[i].values())[0]\n",
    "        for k in range(len(trial_list)):\n",
    "            if trial_list[k]['type'] == 'BUDGET':\n",
    "                budget.append(trial_list[k]['amount'])\n",
    "                currency_budget.append(trial_list[k]['currencyCode'])\n",
    "            elif trial_list[k]['type'] == 'RUS':\n",
    "                rus.append(trial_list[k]['amount'])\n",
    "                currency_rus.append(trial_list[k]['currencyCode'])\n",
    "            elif trial_list[k]['type'] == 'WORLD':\n",
    "                world.append(trial_list[k]['amount'])\n",
    "                currency_world.append(trial_list[k]['currencyCode'])\n",
    "        d['kinopoiskId'] = int(list(json_file[i].keys())[0])\n",
    "        if len(budget) == 0:\n",
    "            d['budget'] = None\n",
    "            d['currency_budget'] = None\n",
    "        else:\n",
    "            d['budget'] = budget[0]\n",
    "            d['currency_budget'] = currency_budget[0]\n",
    "        if len(rus) == 0:\n",
    "            d['rus'] = None\n",
    "            d['currency_rus'] = None\n",
    "        else:\n",
    "            d['rus'] = rus[0]\n",
    "            d['currency_rus'] = currency_rus[0]\n",
    "        if len(world) == 0:\n",
    "            d['world'] = None\n",
    "            d['currency_world'] = None\n",
    "        else:\n",
    "            d['world'] = world[0]\n",
    "            d['currency_world'] = currency_world[0]\n",
    "        box_office_list.append(d)"
   ]
  },
  {
   "cell_type": "markdown",
   "metadata": {},
   "source": [
    "Вся информация при выполнении функции записывается в python-словарь, затем добавляется в общий список (таким образом принимая вид, схожий с json-файлом)."
   ]
  },
  {
   "cell_type": "code",
   "execution_count": 8,
   "metadata": {},
   "outputs": [],
   "source": [
    "kinopoisk_media_box_office_tr = []\n",
    "getFilmBoxOffice(kinopoisk_media_box_office, kinopoisk_media_box_office_tr)"
   ]
  },
  {
   "cell_type": "markdown",
   "metadata": {},
   "source": [
    "Считываем все три файла."
   ]
  },
  {
   "cell_type": "code",
   "execution_count": 9,
   "metadata": {},
   "outputs": [],
   "source": [
    "kinopoisk_premiers_df = pd.json_normalize(kinopoisk_premiers)\n",
    "kinopoisk_media_film_info_df = pd.json_normalize(kinopoisk_media_film_info)\n",
    "kinopoisk_media_box_office_df = pd.json_normalize(kinopoisk_media_box_office_tr)"
   ]
  },
  {
   "cell_type": "markdown",
   "metadata": {},
   "source": [
    "Для сопоставимости таблиц, меняем название колонки \"filmId\" на \"kinopoiskId\"."
   ]
  },
  {
   "cell_type": "code",
   "execution_count": 10,
   "metadata": {},
   "outputs": [],
   "source": [
    "kinopoisk_media_film_info_df = kinopoisk_media_film_info_df.rename(columns={'filmId': 'kinopoiskId'})"
   ]
  },
  {
   "cell_type": "markdown",
   "metadata": {},
   "source": [
    "Удаляем возможные дубликаты записей."
   ]
  },
  {
   "cell_type": "code",
   "execution_count": 11,
   "metadata": {},
   "outputs": [],
   "source": [
    "kinopoisk_premiers_df = kinopoisk_premiers_df.drop_duplicates(\n",
    "    subset=['kinopoiskId', 'nameRu'], keep='first', ignore_index=True)\n",
    "kinopoisk_media_film_info_df = kinopoisk_media_film_info_df.drop_duplicates(\n",
    "    subset=['kinopoiskId', 'webUrl'], keep='first', ignore_index=True)\n",
    "kinopoisk_media_box_office_df = kinopoisk_media_box_office_df.drop_duplicates(\n",
    "    subset=['kinopoiskId', 'budget'], keep='first', ignore_index=True)"
   ]
  },
  {
   "cell_type": "markdown",
   "metadata": {},
   "source": [
    "## 👔 Таблица Staff"
   ]
  },
  {
   "cell_type": "markdown",
   "metadata": {},
   "source": [
    "Открываем файл с информацией о создателях каждого из фильмов."
   ]
  },
  {
   "cell_type": "code",
   "execution_count": 12,
   "metadata": {},
   "outputs": [],
   "source": [
    "with open('kinopoisk_media_staff.json') as json_file:\n",
    "    kinopoisk_media_staff = json.load(json_file)"
   ]
  },
  {
   "cell_type": "markdown",
   "metadata": {},
   "source": [
    "Так же, как и с кассовыми сборами и бюджетами, создаём функцию, которая будет доставать информацию об id, имени (в русском и английском варианте), наименование должности (в титрах). Причем выбираем первые (главные) имена для каждого фильма:\n",
    "\n",
    "1. Режиссер;\n",
    "2. Актер;\n",
    "3. Продюсер;\n",
    "4. Сценарист;\n",
    "5. Оператор;\n",
    "6. Монтажер."
   ]
  },
  {
   "cell_type": "code",
   "execution_count": 13,
   "metadata": {},
   "outputs": [],
   "source": [
    "def getFilmStaff(json_file, staff_list):\n",
    "    for i in range(len(json_file)):\n",
    "        d = {}\n",
    "        \n",
    "        director_id = []\n",
    "        director_nameRu = []\n",
    "        director_nameEn = []\n",
    "        director_professionKey = []\n",
    "        \n",
    "        actor_id = []\n",
    "        actor_nameRu = []\n",
    "        actor_nameEn = []\n",
    "        actor_professionKey = []\n",
    "        \n",
    "        producer_id = []\n",
    "        producer_nameRu = []\n",
    "        producer_nameEn = []\n",
    "        producer_professionKey = []\n",
    "        \n",
    "        writer_id = []\n",
    "        writer_nameRu = []\n",
    "        writer_nameEn = []\n",
    "        writer_professionKey = []\n",
    "        \n",
    "        operator_id = []\n",
    "        operator_nameRu = []\n",
    "        operator_nameEn = []\n",
    "        operator_professionKey = []\n",
    "        \n",
    "        editor_id = []\n",
    "        editor_nameRu = []\n",
    "        editor_nameEn = []\n",
    "        editor_professionKey = []\n",
    "        \n",
    "        trial_list = list(json_file[i].values())[0]\n",
    "        for k in range(len(trial_list)):\n",
    "            if trial_list[k]['professionKey'] == 'DIRECTOR' and len(director_id) == 0:\n",
    "                director_id.append(trial_list[k]['staffId'])\n",
    "                director_nameRu.append(trial_list[k]['nameRu'])\n",
    "                director_nameEn.append(trial_list[k]['nameEn'])\n",
    "                director_professionKey.append(trial_list[k]['professionKey'])\n",
    "            elif trial_list[k]['professionKey'] == 'ACTOR' and len(actor_id) == 0:\n",
    "                actor_id.append(trial_list[k]['staffId'])\n",
    "                actor_nameRu.append(trial_list[k]['nameRu'])\n",
    "                actor_nameEn.append(trial_list[k]['nameEn'])\n",
    "                actor_professionKey.append(trial_list[k]['professionKey'])\n",
    "            elif trial_list[k]['professionKey'] == 'PRODUCER' and len(producer_id) == 0:\n",
    "                producer_id.append(trial_list[k]['staffId'])\n",
    "                producer_nameRu.append(trial_list[k]['nameRu'])\n",
    "                producer_nameEn.append(trial_list[k]['nameEn'])\n",
    "                producer_professionKey.append(trial_list[k]['professionKey'])\n",
    "            elif trial_list[k]['professionKey'] == 'WRITER' and len(writer_id) == 0:\n",
    "                writer_id.append(trial_list[k]['staffId'])\n",
    "                writer_nameRu.append(trial_list[k]['nameRu'])\n",
    "                writer_nameEn.append(trial_list[k]['nameEn'])\n",
    "                writer_professionKey.append(trial_list[k]['professionKey'])\n",
    "            elif trial_list[k]['professionKey'] == 'OPERATOR' and len(operator_id) == 0:\n",
    "                operator_id.append(trial_list[k]['staffId'])\n",
    "                operator_nameRu.append(trial_list[k]['nameRu'])\n",
    "                operator_nameEn.append(trial_list[k]['nameEn'])\n",
    "                operator_professionKey.append(trial_list[k]['professionKey'])\n",
    "            elif trial_list[k]['professionKey'] == 'EDITOR' and len(editor_id) == 0:\n",
    "                editor_id.append(trial_list[k]['staffId'])\n",
    "                editor_nameRu.append(trial_list[k]['nameRu'])\n",
    "                editor_nameEn.append(trial_list[k]['nameEn'])\n",
    "                editor_professionKey.append(trial_list[k]['professionKey'])\n",
    "        d['kinopoiskId'] = int(list(json_file[i].keys())[0])\n",
    "        \n",
    "        staff = ['director', 'actor', 'producer', 'writer', 'operator', 'editor']\n",
    "        \n",
    "        trial_staff_dir = [director_id, director_nameRu, director_nameEn, director_professionKey]\n",
    "        trial_staff_act = [actor_id, actor_nameRu, actor_nameEn, actor_professionKey]\n",
    "        trial_staff_prod = [producer_id, producer_nameRu, producer_nameEn, producer_professionKey]\n",
    "        trial_staff_writ = [writer_id, writer_nameRu, writer_nameEn, writer_professionKey]\n",
    "        trial_staff_oper = [operator_id, operator_nameRu, operator_nameEn, operator_professionKey]\n",
    "        trial_staff_edit = [editor_id, editor_nameRu, editor_nameEn, editor_professionKey]\n",
    "        \n",
    "        trial_staff_array = [trial_staff_dir, trial_staff_act, trial_staff_prod, \n",
    "                             trial_staff_writ, trial_staff_oper, trial_staff_edit]\n",
    "        \n",
    "        for s in range(len(staff)):\n",
    "            if len(trial_staff_array[s][0]) == 0:\n",
    "                d[str(staff[s]) + '_id'] = None\n",
    "                d[str(staff[s]) + '_nameRu'] = None\n",
    "                d[str(staff[s]) + '_nameEn'] = None\n",
    "                d[str(staff[s]) + '_professionKey'] = None\n",
    "            else:\n",
    "                d[str(staff[s]) + '_id'] = trial_staff_array[s][0][0]\n",
    "                d[str(staff[s]) + '_nameRu'] = trial_staff_array[s][1][0]\n",
    "                d[str(staff[s]) + '_nameEn'] = trial_staff_array[s][2][0]\n",
    "                d[str(staff[s]) + '_professionKey'] = trial_staff_array[s][3][0]\n",
    "                \n",
    "        staff_list.append(d)"
   ]
  },
  {
   "cell_type": "markdown",
   "metadata": {},
   "source": [
    "Осущетслвяем функцию, записываем информацию в список таким образом, чтобы содержание приняло вид json-файла."
   ]
  },
  {
   "cell_type": "code",
   "execution_count": 14,
   "metadata": {},
   "outputs": [],
   "source": [
    "kinopoisk_media_staff_tr = []\n",
    "getFilmStaff(kinopoisk_media_staff, kinopoisk_media_staff_tr)"
   ]
  },
  {
   "cell_type": "markdown",
   "metadata": {},
   "source": [
    "Считываем список в формат датафрейм."
   ]
  },
  {
   "cell_type": "code",
   "execution_count": 15,
   "metadata": {},
   "outputs": [],
   "source": [
    "kinopoisk_media_staff_df = pd.json_normalize(kinopoisk_media_staff_tr)"
   ]
  },
  {
   "cell_type": "markdown",
   "metadata": {},
   "source": [
    "Переводим тип признаков, содержащих id, в integer."
   ]
  },
  {
   "cell_type": "code",
   "execution_count": 16,
   "metadata": {},
   "outputs": [],
   "source": [
    "for s in ['director', 'actor', 'producer', 'writer', 'operator', 'editor']:\n",
    "    kinopoisk_media_staff_df[s + '_id'] = pd.to_numeric(\n",
    "        kinopoisk_media_staff_df[s + '_id'], errors='coerce'\n",
    "    ).astype(pd.Int64Dtype())"
   ]
  },
  {
   "cell_type": "code",
   "execution_count": 17,
   "metadata": {},
   "outputs": [],
   "source": [
    "kinopoisk_media_staff_df = kinopoisk_media_staff_df.drop_duplicates(\n",
    "    subset=['kinopoiskId', 'actor_id'], keep='first', ignore_index=True)"
   ]
  },
  {
   "cell_type": "markdown",
   "metadata": {},
   "source": [
    "Делаем временную таблицу только с id создателей каждого из фильмов."
   ]
  },
  {
   "cell_type": "code",
   "execution_count": 18,
   "metadata": {
    "scrolled": false
   },
   "outputs": [],
   "source": [
    "kinopoisk_media_staff_df_1 = kinopoisk_media_staff_df[['kinopoiskId', 'director_id', 'actor_id', 'producer_id', 'writer_id', 'operator_id', 'editor_id']]"
   ]
  },
  {
   "cell_type": "markdown",
   "metadata": {},
   "source": [
    "## 🔗 Соединение и перенос таблиц из Pandas в MySQL DB"
   ]
  },
  {
   "cell_type": "markdown",
   "metadata": {},
   "source": [
    "Поэтапно соединяем таблицы между собой: сначала список кинопремьер с информацией о каждой из них."
   ]
  },
  {
   "cell_type": "code",
   "execution_count": 19,
   "metadata": {},
   "outputs": [],
   "source": [
    "kinopoisk_movies_merged = kinopoisk_premiers_df.merge(kinopoisk_media_film_info_df, how='left', on='kinopoiskId')"
   ]
  },
  {
   "cell_type": "markdown",
   "metadata": {},
   "source": [
    "Удаляем дублирующиеся столбцы."
   ]
  },
  {
   "cell_type": "code",
   "execution_count": 20,
   "metadata": {},
   "outputs": [],
   "source": [
    "kinopoisk_movies_merged = kinopoisk_movies_merged.drop(['nameRu_y', 'nameEn_y', 'countries_y', 'genres_y',\n",
    "                                                        'year_y', 'premiereRu_y', 'posterUrl_y', 'posterUrlPreview_y'], axis=1)"
   ]
  },
  {
   "cell_type": "markdown",
   "metadata": {},
   "source": [
    "Переименовываем измененные названия столбцов."
   ]
  },
  {
   "cell_type": "code",
   "execution_count": 21,
   "metadata": {},
   "outputs": [],
   "source": [
    "kinopoisk_movies_merged = kinopoisk_media_film_info_df.rename(columns={'nameRu_x': 'nameRu',\n",
    "                                                                       'nameEn_x': 'nameEn',\n",
    "                                                                       'year_x': 'year',\n",
    "                                                                       'posterUrl_x': 'posterUrl',\n",
    "                                                                       'posterUrlPreview_x': 'posterUrlPreview',\n",
    "                                                                       'countries_x': 'countries',\n",
    "                                                                       'genres_x': 'genres',\n",
    "                                                                       'premiereRu_x': 'premiereRu'})"
   ]
  },
  {
   "cell_type": "markdown",
   "metadata": {},
   "source": [
    "Присоединяем: информацию о кассовых сборах и бюджете каждого из фильмов, id создателей (разделены по столбцам в зависимости от должности)."
   ]
  },
  {
   "cell_type": "code",
   "execution_count": 22,
   "metadata": {},
   "outputs": [],
   "source": [
    "kinopoisk_movies_merged = kinopoisk_movies_merged.merge(kinopoisk_media_box_office_df, how='left', on='kinopoiskId')"
   ]
  },
  {
   "cell_type": "code",
   "execution_count": 23,
   "metadata": {},
   "outputs": [],
   "source": [
    "kinopoisk_movies_merged = kinopoisk_movies_merged.merge(kinopoisk_media_staff_df_1, how='inner', on='kinopoiskId')"
   ]
  },
  {
   "cell_type": "markdown",
   "metadata": {},
   "source": [
    "Некоторые данные смотрятся некрасиво (представлены в виде кортежа). Переведем эти признаки в строчный вид с разделителем в виде запятой с пробелом."
   ]
  },
  {
   "cell_type": "code",
   "execution_count": 24,
   "metadata": {},
   "outputs": [],
   "source": [
    "def convertValues(df, column):\n",
    "#     ', '.join(sorted(set().union(*(d.values() for d in kinopoisk_movies_merged['countries'][1]))))\n",
    "    df[column] = df[column].apply(lambda x: ', '.join(sorted(set().union(*(d.values() for d in x)))))"
   ]
  },
  {
   "cell_type": "code",
   "execution_count": 25,
   "metadata": {},
   "outputs": [],
   "source": [
    "convertValues(kinopoisk_movies_merged, 'countries')\n",
    "convertValues(kinopoisk_movies_merged, 'genres')"
   ]
  },
  {
   "cell_type": "markdown",
   "metadata": {},
   "source": [
    "Формируем подключение к локальному серверу MySQL."
   ]
  },
  {
   "cell_type": "code",
   "execution_count": 26,
   "metadata": {},
   "outputs": [],
   "source": [
    "conn_data = connect(host=\"localhost\",\n",
    "                    user='root',\n",
    "                    password='Kinopoisk231.')\n",
    "cur_data = conn_data.cursor()"
   ]
  },
  {
   "cell_type": "markdown",
   "metadata": {},
   "source": [
    "Создаём новую пустую базу данных фильмов Кинопоиска."
   ]
  },
  {
   "cell_type": "code",
   "execution_count": 27,
   "metadata": {},
   "outputs": [],
   "source": [
    "create_db_query = \"CREATE DATABASE kinopoisk_movies\"\n",
    "cur_data.execute(create_db_query)"
   ]
  },
  {
   "cell_type": "markdown",
   "metadata": {},
   "source": [
    "Обращаемся уже конкретно к созданной базе данных."
   ]
  },
  {
   "cell_type": "code",
   "execution_count": 28,
   "metadata": {},
   "outputs": [],
   "source": [
    "conn_data = connect(host=\"localhost\",\n",
    "                    user='root',\n",
    "                    password='Kinopoisk231.',\n",
    "                    database='kinopoisk_movies')\n",
    "cur_data = conn_data.cursor()"
   ]
  },
  {
   "cell_type": "markdown",
   "metadata": {},
   "source": [
    "Формируем новую таблицу с информацией о фильмах."
   ]
  },
  {
   "cell_type": "code",
   "execution_count": 29,
   "metadata": {},
   "outputs": [],
   "source": [
    "cur_data.execute('''\n",
    "    CREATE TABLE IF NOT EXISTS movies (\n",
    "        kinopoiskId     INTEGER UNIQUE NOT NULL PRIMARY KEY,\n",
    "        nameRu          TEXT,\n",
    "        nameEn          TEXT,\n",
    "        year            INT,\n",
    "        webUrl          TEXT NOT NULL,\n",
    "        description     TEXT,\n",
    "        ratingAgeLimits INT,\n",
    "        countries       TEXT,\n",
    "        genres          TEXT,\n",
    "        filmLength      TEXT, \n",
    "        premiereRu      TEXT,\n",
    "        premiereWorld   TEXT,\n",
    "        distributors    TEXT,\n",
    "        budget          FLOAT,\n",
    "        currency_budget TEXT,\n",
    "        rus             FLOAT,\n",
    "        currency_rus    TEXT,\n",
    "        world           FLOAT,\n",
    "        currency_world  TEXT,\n",
    "        director_id     INT,\n",
    "        actor_id        INT,\n",
    "        producer_id     INT,\n",
    "        writer_id       INT,\n",
    "        operator_id     INT,\n",
    "        editor_id       INT\n",
    "    );\n",
    "''')\n",
    "conn_data.commit()\n",
    "# filmLength ПОСМОТРЕТЬ НА ЭТАПЕ ОБРАБОТКИ В ПАНДАС И КОНВЕРТИРОВАТЬ В МИНУТЫ"
   ]
  },
  {
   "cell_type": "code",
   "execution_count": 30,
   "metadata": {},
   "outputs": [],
   "source": [
    "# create_db_query = \"DROP TABLE movies\"\n",
    "# cur_data.execute(create_db_query)"
   ]
  },
  {
   "cell_type": "markdown",
   "metadata": {},
   "source": [
    "Перенесём построчно данные из пандас датафрейма в MySQL таблицу \"movies\" при помощи функции."
   ]
  },
  {
   "cell_type": "code",
   "execution_count": 31,
   "metadata": {},
   "outputs": [],
   "source": [
    "def fillTableSQL(df, table):\n",
    "    create_db_query = '''INSERT INTO {} ({})\n",
    "                         VALUES ({})'''.format(table, ', '.join(df.columns), \n",
    "                                               ', '.join(['%s' for i in range(len(df.columns))]))\n",
    "#     print(create_db_query)\n",
    "    for r in range(df.shape[0]):\n",
    "        values = tuple(np.where(pd.isnull(df.values[r]) == True, None, df.values[r]))\n",
    "        cur_data.execute(create_db_query, values)"
   ]
  },
  {
   "cell_type": "markdown",
   "metadata": {},
   "source": [
    "Финальная выборка данных:"
   ]
  },
  {
   "cell_type": "code",
   "execution_count": 32,
   "metadata": {},
   "outputs": [],
   "source": [
    "final_df = kinopoisk_movies_merged[['kinopoiskId', 'nameRu', 'nameEn', 'year', 'webUrl', 'description', 'ratingAgeLimits',\n",
    "                                    'countries', 'genres', 'filmLength', 'premiereRu', 'premiereWorld', 'distributors', \n",
    "                                    'budget', 'currency_budget', 'rus', 'currency_rus', 'world', 'currency_world',\n",
    "                                    'director_id', 'actor_id', 'producer_id', 'writer_id', 'operator_id', 'editor_id']]"
   ]
  },
  {
   "cell_type": "markdown",
   "metadata": {},
   "source": [
    "### 🧩 Заполнение таблицы Movies"
   ]
  },
  {
   "cell_type": "code",
   "execution_count": 33,
   "metadata": {},
   "outputs": [],
   "source": [
    "fillTableSQL(final_df, 'movies')\n",
    "conn_data.commit()"
   ]
  },
  {
   "cell_type": "markdown",
   "metadata": {},
   "source": [
    "Переходим к созданию и заполнению второй таблицы MySQL - создатели фильмов (\"staff\")."
   ]
  },
  {
   "cell_type": "code",
   "execution_count": 34,
   "metadata": {},
   "outputs": [],
   "source": [
    "staff = ['director', 'actor', 'producer', 'writer', 'operator', 'editor']\n",
    "df_list = ['kinopoisk_media_staff_df_' + str(s) for s in range(len(staff))]\n",
    "\n",
    "for s in range(len(staff)):\n",
    "    df_list[s] = kinopoisk_media_staff_df[[staff[s] + '_id', staff[s] + '_nameRu', staff[s] + '_nameEn']]\n",
    "    df_list[s] = df_list[s].rename(columns={staff[s] + '_id': 'staff_id',\n",
    "                                            staff[s] + '_nameRu': 'nameRu',\n",
    "                                            staff[s] + '_nameEn': 'nameEn'})"
   ]
  },
  {
   "cell_type": "markdown",
   "metadata": {},
   "source": [
    "В Pandas создаём объединенную таблицу всех создателей фильмов."
   ]
  },
  {
   "cell_type": "code",
   "execution_count": 35,
   "metadata": {},
   "outputs": [],
   "source": [
    "staff_media_df = pd.concat([df_list[0], df_list[1], df_list[2],\n",
    "                            df_list[3], df_list[4], df_list[5]], ignore_index=True)"
   ]
  },
  {
   "cell_type": "code",
   "execution_count": 36,
   "metadata": {},
   "outputs": [],
   "source": [
    "staff_media_df = staff_media_df.drop_duplicates(\n",
    "    subset=['staff_id', 'nameRu'], keep='first', ignore_index=True)\n",
    "staff_media_df = staff_media_df.dropna()"
   ]
  },
  {
   "cell_type": "markdown",
   "metadata": {},
   "source": [
    "Формируем новую таблицу в MySQL - \"staff\"."
   ]
  },
  {
   "cell_type": "code",
   "execution_count": 37,
   "metadata": {},
   "outputs": [],
   "source": [
    "cur_data.execute('''\n",
    "    CREATE TABLE IF NOT EXISTS staff (\n",
    "        staff_id     INTEGER UNIQUE NOT NULL PRIMARY KEY,\n",
    "        nameRu       TEXT,\n",
    "        nameEn       TEXT\n",
    "    );\n",
    "''')\n",
    "conn_data.commit()"
   ]
  },
  {
   "cell_type": "code",
   "execution_count": 38,
   "metadata": {},
   "outputs": [],
   "source": [
    "# create_db_query = \"DROP TABLE staff\"\n",
    "# cur_data.execute(create_db_query)"
   ]
  },
  {
   "cell_type": "code",
   "execution_count": 39,
   "metadata": {},
   "outputs": [],
   "source": [
    "fillTableSQL(staff_media_df, 'staff')\n",
    "conn_data.commit()"
   ]
  },
  {
   "cell_type": "markdown",
   "metadata": {},
   "source": [
    "Добавляем связку - отношение id персоны из таблицы \"staff\" с id режиссеров, актеров, продюсеров, сценаристов, операторов и монтажеров из таблицы \"movies\"."
   ]
  },
  {
   "cell_type": "code",
   "execution_count": 40,
   "metadata": {},
   "outputs": [],
   "source": [
    "for s in staff:\n",
    "    create_db_query = '''ALTER TABLE movies\n",
    "                         ADD CONSTRAINT FOREIGN KEY (`{}_id`)\n",
    "                         REFERENCES staff (`staff_id`);'''.format(s)\n",
    "    cur_data.execute(create_db_query)\n",
    "conn_data.commit()"
   ]
  },
  {
   "cell_type": "markdown",
   "metadata": {},
   "source": [
    "Выгружаем id создателей для дополнительной выгрузки данных из API."
   ]
  },
  {
   "cell_type": "code",
   "execution_count": 41,
   "metadata": {},
   "outputs": [],
   "source": [
    "np.savez(\"staff_id\", staff_media_df['staff_id'].to_list())"
   ]
  },
  {
   "cell_type": "markdown",
   "metadata": {},
   "source": [
    "### 💡 Добаление инфо о рейтингах Кинопоиск и о работниках"
   ]
  },
  {
   "cell_type": "markdown",
   "metadata": {},
   "source": [
    "После дополнительной выгрузки информации о создателях фильмов, считываем файл и переводим его в удобный формат Pandas DataFrame."
   ]
  },
  {
   "cell_type": "code",
   "execution_count": 42,
   "metadata": {},
   "outputs": [],
   "source": [
    "with open('kinopoisk_media_staff_info.json') as json_file:\n",
    "    kinopoisk_media_staff_info = json.load(json_file)"
   ]
  },
  {
   "cell_type": "code",
   "execution_count": 43,
   "metadata": {},
   "outputs": [],
   "source": [
    "kinopoisk_media_staff_info_df = pd.json_normalize(kinopoisk_media_staff_info)"
   ]
  },
  {
   "cell_type": "code",
   "execution_count": 44,
   "metadata": {},
   "outputs": [],
   "source": [
    "staff_info_df = kinopoisk_media_staff_info_df[['personId', 'webUrl', 'birthday', 'sex', 'birthplace', 'hasAwards', 'profession']]"
   ]
  },
  {
   "cell_type": "markdown",
   "metadata": {},
   "source": [
    "Добавляем новые колонки в существующую таблицу \"staff\", а также создаем временную таблицу \"staff_info\", из которой будем переносить колонки."
   ]
  },
  {
   "cell_type": "code",
   "execution_count": 45,
   "metadata": {},
   "outputs": [],
   "source": [
    "create_db_query = '''ALTER TABLE staff\n",
    "                     ADD COLUMN webUrl     TEXT,\n",
    "                     ADD COLUMN birthday   TEXT,\n",
    "                     ADD COLUMN sex        TEXT,\n",
    "                     ADD COLUMN birthplace TEXT,\n",
    "                     ADD COLUMN hasAwards  TEXT,\n",
    "                     ADD COLUMN profession TEXT;\n",
    "                     \n",
    "                     CREATE TABLE IF NOT EXISTS staff_info (\n",
    "                         personId       INT,\n",
    "                         webUrl         TEXT,\n",
    "                         birthday       TEXT,\n",
    "                         sex            TEXT,\n",
    "                         birthplace     TEXT,\n",
    "                         hasAwards      TEXT,\n",
    "                         profession     TEXT);'''\n",
    "cur_data.execute(create_db_query)"
   ]
  },
  {
   "cell_type": "code",
   "execution_count": 46,
   "metadata": {},
   "outputs": [],
   "source": [
    "conn_data = connect(host=\"localhost\",\n",
    "                    user='root',\n",
    "                    password='Kinopoisk231.',\n",
    "                    database='kinopoisk_movies')\n",
    "cur_data = conn_data.cursor()"
   ]
  },
  {
   "cell_type": "markdown",
   "metadata": {},
   "source": [
    "Заполняем временную таблицу."
   ]
  },
  {
   "cell_type": "code",
   "execution_count": 47,
   "metadata": {},
   "outputs": [],
   "source": [
    "fillTableSQL(staff_info_df, 'staff_info')\n",
    "conn_data.commit()"
   ]
  },
  {
   "cell_type": "markdown",
   "metadata": {},
   "source": [
    "Обновляем старую таблицу создателей переносом столбцов из новой."
   ]
  },
  {
   "cell_type": "code",
   "execution_count": 48,
   "metadata": {},
   "outputs": [],
   "source": [
    "create_db_query = '''UPDATE staff \n",
    "                     LEFT JOIN staff_info \n",
    "                     ON staff.staff_id = staff_info.personId\n",
    "                     SET staff.webUrl = staff_info.webUrl,\n",
    "                         staff.birthday = staff_info.birthday,\n",
    "                         staff.sex = staff_info.sex,\n",
    "                         staff.birthplace = staff_info.birthplace,\n",
    "                         staff.hasAwards = staff_info.hasAwards,\n",
    "                         staff.profession = staff_info.profession\n",
    "                     ;'''\n",
    "cur_data.execute(create_db_query)"
   ]
  },
  {
   "cell_type": "markdown",
   "metadata": {},
   "source": [
    "Удаляем временную таблицу с информацией о создателях."
   ]
  },
  {
   "cell_type": "code",
   "execution_count": 49,
   "metadata": {},
   "outputs": [],
   "source": [
    "create_db_query = \"DROP TABLE staff_info\"\n",
    "cur_data.execute(create_db_query)"
   ]
  },
  {
   "cell_type": "code",
   "execution_count": 50,
   "metadata": {},
   "outputs": [],
   "source": [
    "conn_data.commit()"
   ]
  },
  {
   "cell_type": "markdown",
   "metadata": {},
   "source": [
    "Выгружаем рейтинг Кинопоиска для каждого фильма."
   ]
  },
  {
   "cell_type": "code",
   "execution_count": 51,
   "metadata": {},
   "outputs": [],
   "source": [
    "def getRating(json_file, staff_list):\n",
    "    for k in range(len(json_file)):\n",
    "        for i in json_file[k]['films']:\n",
    "            d = {}\n",
    "            d['kinopoiskId'] = i['filmId']\n",
    "            d['nameRu'] = i['nameRu']\n",
    "            d['nameEn'] = i['nameEn']\n",
    "            d['rating'] = i['rating']\n",
    "            staff_list.append(d)"
   ]
  },
  {
   "cell_type": "code",
   "execution_count": 52,
   "metadata": {},
   "outputs": [],
   "source": [
    "kinopoisk_media_ratings = []\n",
    "getRating(kinopoisk_media_staff_info, kinopoisk_media_ratings)"
   ]
  },
  {
   "cell_type": "code",
   "execution_count": 53,
   "metadata": {},
   "outputs": [],
   "source": [
    "kinopoisk_media_ratings_df = pd.json_normalize(kinopoisk_media_ratings)"
   ]
  },
  {
   "cell_type": "code",
   "execution_count": 54,
   "metadata": {},
   "outputs": [],
   "source": [
    "kinopoisk_media_ratings_df = kinopoisk_media_ratings_df.drop_duplicates(\n",
    "    subset=['kinopoiskId', 'nameRu'], keep='first', ignore_index=True)"
   ]
  },
  {
   "cell_type": "markdown",
   "metadata": {},
   "source": [
    "Аналогично таблице создателей фильмов, создаем временную таблицу с рейтингами."
   ]
  },
  {
   "cell_type": "code",
   "execution_count": 55,
   "metadata": {},
   "outputs": [],
   "source": [
    "create_db_query = '''ALTER TABLE movies\n",
    "                     ADD COLUMN ratingKinopoisk     FLOAT;\n",
    "                     \n",
    "                     CREATE TABLE IF NOT EXISTS rating_info (\n",
    "                         kinopoiskId       INT,\n",
    "                         nameRu       TEXT,\n",
    "                         nameEn       TEXT,\n",
    "                         rating       FLOAT);'''\n",
    "cur_data.execute(create_db_query)"
   ]
  },
  {
   "cell_type": "code",
   "execution_count": 56,
   "metadata": {},
   "outputs": [],
   "source": [
    "conn_data = connect(host=\"localhost\",\n",
    "                    user='root',\n",
    "                    password='Kinopoisk231.',\n",
    "                    database='kinopoisk_movies')\n",
    "cur_data = conn_data.cursor()"
   ]
  },
  {
   "cell_type": "markdown",
   "metadata": {},
   "source": [
    "На всякий случай обновляем общую таблицу Pandas с фильмами."
   ]
  },
  {
   "cell_type": "code",
   "execution_count": 57,
   "metadata": {},
   "outputs": [],
   "source": [
    "final_df = final_df.merge(kinopoisk_media_ratings_df[['kinopoiskId', 'rating']], how='left', on='kinopoiskId')"
   ]
  },
  {
   "cell_type": "markdown",
   "metadata": {},
   "source": [
    "Заполняем временную таблицу с рейтингами."
   ]
  },
  {
   "cell_type": "code",
   "execution_count": 58,
   "metadata": {},
   "outputs": [],
   "source": [
    "fillTableSQL(final_df[['kinopoiskId', 'rating']], 'rating_info')\n",
    "conn_data.commit()"
   ]
  },
  {
   "cell_type": "markdown",
   "metadata": {},
   "source": [
    "Обновляем общую таблицу с фильмами столбцами из временной."
   ]
  },
  {
   "cell_type": "code",
   "execution_count": 59,
   "metadata": {},
   "outputs": [],
   "source": [
    "create_db_query = '''UPDATE movies \n",
    "                     LEFT JOIN rating_info \n",
    "                     ON movies.kinopoiskId = rating_info.kinopoiskId\n",
    "                     SET movies.ratingKinopoisk = rating_info.rating\n",
    "                     ;'''\n",
    "cur_data.execute(create_db_query)"
   ]
  },
  {
   "cell_type": "markdown",
   "metadata": {},
   "source": [
    "Удаляем временную таблицу с рейтингами."
   ]
  },
  {
   "cell_type": "code",
   "execution_count": 60,
   "metadata": {},
   "outputs": [],
   "source": [
    "create_db_query = \"DROP TABLE rating_info\" # movies, staff, staff_info, rating_info\n",
    "cur_data.execute(create_db_query)"
   ]
  },
  {
   "cell_type": "code",
   "execution_count": 61,
   "metadata": {},
   "outputs": [],
   "source": [
    "conn_data.commit()"
   ]
  }
 ],
 "metadata": {
  "kernelspec": {
   "display_name": "Python 3",
   "language": "python",
   "name": "python3"
  },
  "language_info": {
   "codemirror_mode": {
    "name": "ipython",
    "version": 3
   },
   "file_extension": ".py",
   "mimetype": "text/x-python",
   "name": "python",
   "nbconvert_exporter": "python",
   "pygments_lexer": "ipython3",
   "version": "3.8.3"
  }
 },
 "nbformat": 4,
 "nbformat_minor": 4
}
