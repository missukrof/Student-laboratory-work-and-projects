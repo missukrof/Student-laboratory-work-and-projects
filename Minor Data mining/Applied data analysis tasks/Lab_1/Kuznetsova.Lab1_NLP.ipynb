{
 "cells": [
  {
   "cell_type": "markdown",
   "metadata": {},
   "source": [
    "## [Part of laboratory work](#lab)\n",
    "\n",
    "0. [Функция для вывода графиков Training Loss, MSE/MAE.](#graph)\n",
    "1. [Развить СNN архитектуру (2 балла)](#first)\n",
    "2. [Pooling слои стандартные (1 балла)](#second)\n",
    "3. [Используйте предобученные эмбеддинги (2 балла)](#third)\n",
    "4. [Замените сверточные слои на рекуррентные (3 балла)](#fourth)\n",
    "5. [Вытащите признаки из нейронной сети и используйте их в ансамбле деревьев решений. (2 балла)](#fifth)"
   ]
  },
  {
   "cell_type": "markdown",
   "metadata": {},
   "source": [
    "### Overview\n",
    "\n",
    "Были выполнены все задания, протестировано достаточно большое количество предложенных моделей. К некоторым заданиям не сохраняла модели, дающие низкие результаты, старалась акцентировать внимание на лучших. Результаты всех моделей примерно одинаковые: MSE/MAE варьируются в пределах от 0.02 до 0.3, лучшая модель (спойлер) построена на основе предобученных эмбеддингов.\n",
    "\n",
    "Каждое представленное решение проиллюстрировано графиком, который содержит данные о динамике train loss, MSE/MAE, а также стандартными статистиками: макс, мин, среднее, медиана, дисперсия.\n",
    "\n",
    "Количество эпох практически во всех примерах - 3, так как большее не позволяют выполнить мощности ноутбука."
   ]
  },
  {
   "cell_type": "markdown",
   "metadata": {
    "id": "9t75zdooZe8j"
   },
   "source": [
    "# Large scale text analysis with deep learning (3 points)\n",
    "\n",
    "Today we're gonna apply the newly learned tools for the task of predicting job salary.\n",
    "\n",
    "<img src=\"https://storage.googleapis.com/kaggle-competitions/kaggle/3342/media/salary%20prediction%20engine%20v2.png\" width=400px>\n",
    "\n",
    "_Special thanks to [Oleg Vasilev](https://github.com/Omrigan/) for the core assignment idea._"
   ]
  },
  {
   "cell_type": "code",
   "execution_count": 1,
   "metadata": {
    "executionInfo": {
     "elapsed": 1124,
     "status": "ok",
     "timestamp": 1615965762377,
     "user": {
      "displayName": "Aleksey Shimko",
      "photoUrl": "",
      "userId": "06639583344500545085"
     },
     "user_tz": -180
    },
    "id": "YWS0E8OHZe8s"
   },
   "outputs": [],
   "source": [
    "import numpy as np\n",
    "import pandas as pd\n",
    "import matplotlib.pyplot as plt\n",
    "%matplotlib inline"
   ]
  },
  {
   "cell_type": "markdown",
   "metadata": {
    "id": "JbjrfFspZe8s"
   },
   "source": [
    "### About the challenge\n",
    "For starters, let's download and unpack the data from [here]. \n",
    "\n",
    "You can also get it from [yadisk url](https://yadi.sk/d/vVEOWPFY3NruT7) the competition [page](https://www.kaggle.com/c/job-salary-prediction/data) (pick `Train_rev1.*`)."
   ]
  },
  {
   "cell_type": "code",
   "execution_count": 2,
   "metadata": {
    "colab": {
     "base_uri": "https://localhost:8080/"
    },
    "executionInfo": {
     "elapsed": 8367,
     "status": "ok",
     "timestamp": 1615965816497,
     "user": {
      "displayName": "Aleksey Shimko",
      "photoUrl": "",
      "userId": "06639583344500545085"
     },
     "user_tz": -180
    },
    "id": "qsBw4DmiZe8t",
    "outputId": "2d29c10e-308d-4b91-da6a-6ab6d0ef8550"
   },
   "outputs": [
    {
     "data": {
      "text/plain": [
       "(244768, 12)"
      ]
     },
     "execution_count": 2,
     "metadata": {},
     "output_type": "execute_result"
    }
   ],
   "source": [
    "# !wget https://ysda-seminars.s3.eu-central-1.amazonaws.com/Train_rev1.zip\n",
    "# !unzip Train_rev1.zip\n",
    "data = pd.read_csv(\"Train_rev1.csv\", index_col=None)\n",
    "data.shape"
   ]
  },
  {
   "cell_type": "code",
   "execution_count": 3,
   "metadata": {
    "colab": {
     "base_uri": "https://localhost:8080/",
     "height": 496
    },
    "executionInfo": {
     "elapsed": 7262,
     "status": "ok",
     "timestamp": 1615965816498,
     "user": {
      "displayName": "Aleksey Shimko",
      "photoUrl": "",
      "userId": "06639583344500545085"
     },
     "user_tz": -180
    },
    "id": "NaYFLUUsZe8u",
    "outputId": "6a27353e-7314-4ed1-a20b-dd7740c263b7"
   },
   "outputs": [
    {
     "data": {
      "text/html": [
       "<div>\n",
       "<style scoped>\n",
       "    .dataframe tbody tr th:only-of-type {\n",
       "        vertical-align: middle;\n",
       "    }\n",
       "\n",
       "    .dataframe tbody tr th {\n",
       "        vertical-align: top;\n",
       "    }\n",
       "\n",
       "    .dataframe thead th {\n",
       "        text-align: right;\n",
       "    }\n",
       "</style>\n",
       "<table border=\"1\" class=\"dataframe\">\n",
       "  <thead>\n",
       "    <tr style=\"text-align: right;\">\n",
       "      <th></th>\n",
       "      <th>Id</th>\n",
       "      <th>Title</th>\n",
       "      <th>FullDescription</th>\n",
       "      <th>LocationRaw</th>\n",
       "      <th>LocationNormalized</th>\n",
       "      <th>ContractType</th>\n",
       "      <th>ContractTime</th>\n",
       "      <th>Company</th>\n",
       "      <th>Category</th>\n",
       "      <th>SalaryRaw</th>\n",
       "      <th>SalaryNormalized</th>\n",
       "      <th>SourceName</th>\n",
       "    </tr>\n",
       "  </thead>\n",
       "  <tbody>\n",
       "    <tr>\n",
       "      <th>0</th>\n",
       "      <td>12612628</td>\n",
       "      <td>Engineering Systems Analyst</td>\n",
       "      <td>Engineering Systems Analyst Dorking Surrey Sal...</td>\n",
       "      <td>Dorking, Surrey, Surrey</td>\n",
       "      <td>Dorking</td>\n",
       "      <td>NaN</td>\n",
       "      <td>permanent</td>\n",
       "      <td>Gregory Martin International</td>\n",
       "      <td>Engineering Jobs</td>\n",
       "      <td>20000 - 30000/annum 20-30K</td>\n",
       "      <td>25000</td>\n",
       "      <td>cv-library.co.uk</td>\n",
       "    </tr>\n",
       "    <tr>\n",
       "      <th>1</th>\n",
       "      <td>12612830</td>\n",
       "      <td>Stress Engineer Glasgow</td>\n",
       "      <td>Stress Engineer Glasgow Salary **** to **** We...</td>\n",
       "      <td>Glasgow, Scotland, Scotland</td>\n",
       "      <td>Glasgow</td>\n",
       "      <td>NaN</td>\n",
       "      <td>permanent</td>\n",
       "      <td>Gregory Martin International</td>\n",
       "      <td>Engineering Jobs</td>\n",
       "      <td>25000 - 35000/annum 25-35K</td>\n",
       "      <td>30000</td>\n",
       "      <td>cv-library.co.uk</td>\n",
       "    </tr>\n",
       "    <tr>\n",
       "      <th>2</th>\n",
       "      <td>12612844</td>\n",
       "      <td>Modelling and simulation analyst</td>\n",
       "      <td>Mathematical Modeller / Simulation Analyst / O...</td>\n",
       "      <td>Hampshire, South East, South East</td>\n",
       "      <td>Hampshire</td>\n",
       "      <td>NaN</td>\n",
       "      <td>permanent</td>\n",
       "      <td>Gregory Martin International</td>\n",
       "      <td>Engineering Jobs</td>\n",
       "      <td>20000 - 40000/annum 20-40K</td>\n",
       "      <td>30000</td>\n",
       "      <td>cv-library.co.uk</td>\n",
       "    </tr>\n",
       "    <tr>\n",
       "      <th>3</th>\n",
       "      <td>12613049</td>\n",
       "      <td>Engineering Systems Analyst / Mathematical Mod...</td>\n",
       "      <td>Engineering Systems Analyst / Mathematical Mod...</td>\n",
       "      <td>Surrey, South East, South East</td>\n",
       "      <td>Surrey</td>\n",
       "      <td>NaN</td>\n",
       "      <td>permanent</td>\n",
       "      <td>Gregory Martin International</td>\n",
       "      <td>Engineering Jobs</td>\n",
       "      <td>25000 - 30000/annum 25K-30K negotiable</td>\n",
       "      <td>27500</td>\n",
       "      <td>cv-library.co.uk</td>\n",
       "    </tr>\n",
       "    <tr>\n",
       "      <th>4</th>\n",
       "      <td>12613647</td>\n",
       "      <td>Pioneer, Miser Engineering Systems Analyst</td>\n",
       "      <td>Pioneer, Miser  Engineering Systems Analyst Do...</td>\n",
       "      <td>Surrey, South East, South East</td>\n",
       "      <td>Surrey</td>\n",
       "      <td>NaN</td>\n",
       "      <td>permanent</td>\n",
       "      <td>Gregory Martin International</td>\n",
       "      <td>Engineering Jobs</td>\n",
       "      <td>20000 - 30000/annum 20-30K</td>\n",
       "      <td>25000</td>\n",
       "      <td>cv-library.co.uk</td>\n",
       "    </tr>\n",
       "  </tbody>\n",
       "</table>\n",
       "</div>"
      ],
      "text/plain": [
       "         Id                                              Title  \\\n",
       "0  12612628                        Engineering Systems Analyst   \n",
       "1  12612830                            Stress Engineer Glasgow   \n",
       "2  12612844                   Modelling and simulation analyst   \n",
       "3  12613049  Engineering Systems Analyst / Mathematical Mod...   \n",
       "4  12613647         Pioneer, Miser Engineering Systems Analyst   \n",
       "\n",
       "                                     FullDescription  \\\n",
       "0  Engineering Systems Analyst Dorking Surrey Sal...   \n",
       "1  Stress Engineer Glasgow Salary **** to **** We...   \n",
       "2  Mathematical Modeller / Simulation Analyst / O...   \n",
       "3  Engineering Systems Analyst / Mathematical Mod...   \n",
       "4  Pioneer, Miser  Engineering Systems Analyst Do...   \n",
       "\n",
       "                         LocationRaw LocationNormalized ContractType  \\\n",
       "0            Dorking, Surrey, Surrey            Dorking          NaN   \n",
       "1        Glasgow, Scotland, Scotland            Glasgow          NaN   \n",
       "2  Hampshire, South East, South East          Hampshire          NaN   \n",
       "3     Surrey, South East, South East             Surrey          NaN   \n",
       "4     Surrey, South East, South East             Surrey          NaN   \n",
       "\n",
       "  ContractTime                       Company          Category  \\\n",
       "0    permanent  Gregory Martin International  Engineering Jobs   \n",
       "1    permanent  Gregory Martin International  Engineering Jobs   \n",
       "2    permanent  Gregory Martin International  Engineering Jobs   \n",
       "3    permanent  Gregory Martin International  Engineering Jobs   \n",
       "4    permanent  Gregory Martin International  Engineering Jobs   \n",
       "\n",
       "                                SalaryRaw  SalaryNormalized        SourceName  \n",
       "0              20000 - 30000/annum 20-30K             25000  cv-library.co.uk  \n",
       "1              25000 - 35000/annum 25-35K             30000  cv-library.co.uk  \n",
       "2              20000 - 40000/annum 20-40K             30000  cv-library.co.uk  \n",
       "3  25000 - 30000/annum 25K-30K negotiable             27500  cv-library.co.uk  \n",
       "4              20000 - 30000/annum 20-30K             25000  cv-library.co.uk  "
      ]
     },
     "execution_count": 3,
     "metadata": {},
     "output_type": "execute_result"
    }
   ],
   "source": [
    "data.head()"
   ]
  },
  {
   "cell_type": "markdown",
   "metadata": {
    "id": "GzN578PlZe8v"
   },
   "source": [
    "One problem with salary prediction is that it's oddly distributed: there are many people who are paid standard salaries and a few that get tons o money. The distribution is fat-tailed on the right side, which is inconvenient for MSE minimization.\n",
    "\n",
    "There are several techniques to combat this: using a different loss function, predicting log-target instead of raw target or even replacing targets with their percentiles among all salaries in the training set. We gonna use logarithm for now.\n",
    "\n",
    "_You can read more [in the official description](https://www.kaggle.com/c/job-salary-prediction#description)._"
   ]
  },
  {
   "cell_type": "code",
   "execution_count": 4,
   "metadata": {
    "colab": {
     "base_uri": "https://localhost:8080/",
     "height": 265
    },
    "executionInfo": {
     "elapsed": 5290,
     "status": "ok",
     "timestamp": 1615965816770,
     "user": {
      "displayName": "Aleksey Shimko",
      "photoUrl": "",
      "userId": "06639583344500545085"
     },
     "user_tz": -180
    },
    "id": "7m4_nPD5Ze8v",
    "outputId": "69fc0a25-6adf-407e-f8d8-87e1a4b80efe"
   },
   "outputs": [
    {
     "data": {
      "image/png": "[encoded data removed]",
      "text/plain": [
       "<Figure size 576x288 with 2 Axes>"
      ]
     },
     "metadata": {
      "needs_background": "light"
     },
     "output_type": "display_data"
    }
   ],
   "source": [
    "data['Log1pSalary'] = np.log1p(data['SalaryNormalized']).astype('float32')\n",
    "\n",
    "plt.figure(figsize=[8, 4])\n",
    "plt.subplot(1, 2, 1)\n",
    "plt.hist(data[\"SalaryNormalized\"], bins=20);\n",
    "\n",
    "plt.subplot(1, 2, 2)\n",
    "plt.hist(data['Log1pSalary'], bins=20);"
   ]
  },
  {
   "cell_type": "markdown",
   "metadata": {
    "id": "FQ4sxIXDZe8w"
   },
   "source": [
    "Our task is to predict one number, __Log1pSalary__.\n",
    "\n",
    "To do so, our model can access a number of features:\n",
    "* Free text: __`Title`__ and  __`FullDescription`__\n",
    "* Categorical: __`Category`__, __`Company`__, __`LocationNormalized`__, __`ContractType`__, and __`ContractTime`__."
   ]
  },
  {
   "cell_type": "code",
   "execution_count": 5,
   "metadata": {
    "colab": {
     "base_uri": "https://localhost:8080/",
     "height": 298
    },
    "executionInfo": {
     "elapsed": 2964,
     "status": "ok",
     "timestamp": 1615965816770,
     "user": {
      "displayName": "Aleksey Shimko",
      "photoUrl": "",
      "userId": "06639583344500545085"
     },
     "user_tz": -180
    },
    "id": "6dYdc8PIZe8w",
    "outputId": "dac06b68-c2c7-4ac3-a521-0821542f5ec4"
   },
   "outputs": [
    {
     "data": {
      "text/html": [
       "<div>\n",
       "<style scoped>\n",
       "    .dataframe tbody tr th:only-of-type {\n",
       "        vertical-align: middle;\n",
       "    }\n",
       "\n",
       "    .dataframe tbody tr th {\n",
       "        vertical-align: top;\n",
       "    }\n",
       "\n",
       "    .dataframe thead th {\n",
       "        text-align: right;\n",
       "    }\n",
       "</style>\n",
       "<table border=\"1\" class=\"dataframe\">\n",
       "  <thead>\n",
       "    <tr style=\"text-align: right;\">\n",
       "      <th></th>\n",
       "      <th>Id</th>\n",
       "      <th>Title</th>\n",
       "      <th>FullDescription</th>\n",
       "      <th>LocationRaw</th>\n",
       "      <th>LocationNormalized</th>\n",
       "      <th>ContractType</th>\n",
       "      <th>ContractTime</th>\n",
       "      <th>Company</th>\n",
       "      <th>Category</th>\n",
       "      <th>SalaryRaw</th>\n",
       "      <th>SalaryNormalized</th>\n",
       "      <th>SourceName</th>\n",
       "      <th>Log1pSalary</th>\n",
       "    </tr>\n",
       "  </thead>\n",
       "  <tbody>\n",
       "    <tr>\n",
       "      <th>133255</th>\n",
       "      <td>70239482</td>\n",
       "      <td>Senior Credit Risk Modelling Consultant</td>\n",
       "      <td>Our client is an established consultancy with ...</td>\n",
       "      <td>North West England, Cheshire</td>\n",
       "      <td>Cheshire</td>\n",
       "      <td>NaN</td>\n",
       "      <td>NaN</td>\n",
       "      <td>Aspire Data Recrutiment</td>\n",
       "      <td>Other/General Jobs</td>\n",
       "      <td>50,000-74,999 yearly</td>\n",
       "      <td>62499</td>\n",
       "      <td>theladders.co.uk</td>\n",
       "      <td>11.042922</td>\n",
       "    </tr>\n",
       "    <tr>\n",
       "      <th>24941</th>\n",
       "      <td>67751933</td>\n",
       "      <td>Net Analyst/Developer  Financial Services X****</td>\n",
       "      <td>Analyst/Developer Financial Services; Our clie...</td>\n",
       "      <td>City of London London England</td>\n",
       "      <td>The City</td>\n",
       "      <td>NaN</td>\n",
       "      <td>NaN</td>\n",
       "      <td>Interquest Financial Markets</td>\n",
       "      <td>IT Jobs</td>\n",
       "      <td>55000 -65000 per annum</td>\n",
       "      <td>60000</td>\n",
       "      <td>gojobsearch.co.uk</td>\n",
       "      <td>11.002116</td>\n",
       "    </tr>\n",
       "    <tr>\n",
       "      <th>202201</th>\n",
       "      <td>71885992</td>\n",
       "      <td>Deputy Manager Nursing Home RGN</td>\n",
       "      <td>Deputy Nursing Home Manager (RGN)  Shropshire ...</td>\n",
       "      <td>Shropshire, Shropshire</td>\n",
       "      <td>Shropshire</td>\n",
       "      <td>NaN</td>\n",
       "      <td>NaN</td>\n",
       "      <td>NaN</td>\n",
       "      <td>Healthcare &amp; Nursing Jobs</td>\n",
       "      <td>27000 to 35000 per year</td>\n",
       "      <td>31000</td>\n",
       "      <td>careworx.co.uk</td>\n",
       "      <td>10.341775</td>\n",
       "    </tr>\n",
       "  </tbody>\n",
       "</table>\n",
       "</div>"
      ],
      "text/plain": [
       "              Id                                            Title  \\\n",
       "133255  70239482          Senior Credit Risk Modelling Consultant   \n",
       "24941   67751933  Net Analyst/Developer  Financial Services X****   \n",
       "202201  71885992                  Deputy Manager Nursing Home RGN   \n",
       "\n",
       "                                          FullDescription  \\\n",
       "133255  Our client is an established consultancy with ...   \n",
       "24941   Analyst/Developer Financial Services; Our clie...   \n",
       "202201  Deputy Nursing Home Manager (RGN)  Shropshire ...   \n",
       "\n",
       "                          LocationRaw LocationNormalized ContractType  \\\n",
       "133255   North West England, Cheshire           Cheshire          NaN   \n",
       "24941   City of London London England           The City          NaN   \n",
       "202201         Shropshire, Shropshire         Shropshire          NaN   \n",
       "\n",
       "       ContractTime                       Company                   Category  \\\n",
       "133255          NaN       Aspire Data Recrutiment         Other/General Jobs   \n",
       "24941           NaN  Interquest Financial Markets                    IT Jobs   \n",
       "202201          NaN                           NaN  Healthcare & Nursing Jobs   \n",
       "\n",
       "                      SalaryRaw  SalaryNormalized         SourceName  \\\n",
       "133255     50,000-74,999 yearly             62499   theladders.co.uk   \n",
       "24941    55000 -65000 per annum             60000  gojobsearch.co.uk   \n",
       "202201  27000 to 35000 per year             31000     careworx.co.uk   \n",
       "\n",
       "        Log1pSalary  \n",
       "133255    11.042922  \n",
       "24941     11.002116  \n",
       "202201    10.341775  "
      ]
     },
     "execution_count": 5,
     "metadata": {},
     "output_type": "execute_result"
    }
   ],
   "source": [
    "text_columns = [\"Title\", \"FullDescription\"]\n",
    "categorical_columns = [\"Category\", \"Company\", \"LocationNormalized\", \"ContractType\", \"ContractTime\"]\n",
    "TARGET_COLUMN = \"Log1pSalary\"\n",
    "\n",
    "data[categorical_columns] = data[categorical_columns].fillna('NaN') # cast missing values to string \"NaN\"\n",
    "data[text_columns] = data[text_columns].fillna('NaN')\n",
    "\n",
    "data.sample(3)"
   ]
  },
  {
   "cell_type": "markdown",
   "metadata": {
    "id": "sJGyz6vgZe8w"
   },
   "source": [
    "### Preprocessing text data\n",
    "\n",
    "Just like last week, applying NLP to a problem begins from tokenization: splitting raw text into sequences of tokens (words, punctuation, etc).\n",
    "\n",
    "__Your task__ is to lowercase and tokenize all texts under `Title` and `FullDescription` columns. Store the tokenized data as a __space-separated__ string of tokens for performance reasons.\n",
    "\n",
    "It's okay to use nltk tokenizers. Assertions were designed for WordPunctTokenizer, slight deviations are okay."
   ]
  },
  {
   "cell_type": "code",
   "execution_count": 6,
   "metadata": {
    "colab": {
     "base_uri": "https://localhost:8080/"
    },
    "executionInfo": {
     "elapsed": 572,
     "status": "ok",
     "timestamp": 1615965817923,
     "user": {
      "displayName": "Aleksey Shimko",
      "photoUrl": "",
      "userId": "06639583344500545085"
     },
     "user_tz": -180
    },
    "id": "djOwAHFHZe8w",
    "outputId": "87e7893d-bf37-4446-bb39-8d64455f2a03",
    "scrolled": true
   },
   "outputs": [
    {
     "name": "stdout",
     "output_type": "stream",
     "text": [
      "Raw text:\n",
      "2         Mathematical Modeller / Simulation Analyst / O...\n",
      "100002    A successful and high achieving specialist sch...\n",
      "200002    Web Designer  HTML, CSS, JavaScript, Photoshop...\n",
      "Name: FullDescription, dtype: object\n"
     ]
    }
   ],
   "source": [
    "print(\"Raw text:\")\n",
    "print(data[\"FullDescription\"][2::100000])"
   ]
  },
  {
   "cell_type": "code",
   "execution_count": 7,
   "metadata": {
    "executionInfo": {
     "elapsed": 19715,
     "status": "ok",
     "timestamp": 1615965838081,
     "user": {
      "displayName": "Aleksey Shimko",
      "photoUrl": "",
      "userId": "06639583344500545085"
     },
     "user_tz": -180
    },
    "id": "pNGh27ebZe8x"
   },
   "outputs": [],
   "source": [
    "import nltk\n",
    "#TODO YOUR CODE HERE\n",
    "\n",
    "tokenizer = nltk.tokenize.WordPunctTokenizer()\n",
    "# YOUR CODE HERE\n",
    "\n",
    "data[text_columns] = data[text_columns].applymap(lambda x: \" \".join(tokenizer.tokenize(x.lower())))"
   ]
  },
  {
   "cell_type": "markdown",
   "metadata": {
    "id": "HSSSLCO1Ze8x"
   },
   "source": [
    "Now we can assume that our text is a space-separated list of tokens:"
   ]
  },
  {
   "cell_type": "code",
   "execution_count": 8,
   "metadata": {
    "colab": {
     "base_uri": "https://localhost:8080/"
    },
    "executionInfo": {
     "elapsed": 17581,
     "status": "ok",
     "timestamp": 1615965838083,
     "user": {
      "displayName": "Aleksey Shimko",
      "photoUrl": "",
      "userId": "06639583344500545085"
     },
     "user_tz": -180
    },
    "id": "iWpQuVt7Ze8x",
    "outputId": "a9808b51-ef25-4f7f-baa8-5380d9c3f5e9"
   },
   "outputs": [
    {
     "name": "stdout",
     "output_type": "stream",
     "text": [
      "Tokenized:\n",
      "2         mathematical modeller / simulation analyst / o...\n",
      "100002    a successful and high achieving specialist sch...\n",
      "200002    web designer html , css , javascript , photosh...\n",
      "Name: FullDescription, dtype: object\n"
     ]
    }
   ],
   "source": [
    "print(\"Tokenized:\")\n",
    "print(data[\"FullDescription\"][2::100000])\n",
    "assert data[\"FullDescription\"][2][:50] == 'mathematical modeller / simulation analyst / opera'\n",
    "assert data[\"Title\"][54321] == 'international digital account manager ( german )'"
   ]
  },
  {
   "cell_type": "markdown",
   "metadata": {
    "id": "2OeLTODAZe8x"
   },
   "source": [
    "Not all words are equally useful. Some of them are typos or rare words that are only present a few times. \n",
    "\n",
    "Let's count how many times is each word present in the data so that we can build a \"white list\" of known words."
   ]
  },
  {
   "cell_type": "code",
   "execution_count": 9,
   "metadata": {
    "executionInfo": {
     "elapsed": 26953,
     "status": "ok",
     "timestamp": 1615965849179,
     "user": {
      "displayName": "Aleksey Shimko",
      "photoUrl": "",
      "userId": "06639583344500545085"
     },
     "user_tz": -180
    },
    "id": "bVN-jztCZe8x"
   },
   "outputs": [],
   "source": [
    "from collections import Counter\n",
    "token_counts = Counter()\n",
    "# Count how many times does each token occur in both \"Title\" and \"FullDescription\" in total\n",
    "#TODO <YOUR CODE>\n",
    "\n",
    "for col in text_columns:\n",
    "    for line in data[col].values:\n",
    "        token_counts.update(line.split(\" \"))"
   ]
  },
  {
   "cell_type": "code",
   "execution_count": 10,
   "metadata": {
    "colab": {
     "base_uri": "https://localhost:8080/"
    },
    "executionInfo": {
     "elapsed": 24857,
     "status": "ok",
     "timestamp": 1615965849181,
     "user": {
      "displayName": "Aleksey Shimko",
      "photoUrl": "",
      "userId": "06639583344500545085"
     },
     "user_tz": -180
    },
    "id": "b-40HetcZe8y",
    "outputId": "8f26e3d9-4e32-41bb-85c2-f0a5e98cfe97"
   },
   "outputs": [
    {
     "name": "stdout",
     "output_type": "stream",
     "text": [
      "Total unique tokens : 202704\n",
      "('and', 2657388)\n",
      "('.', 2523216)\n",
      "(',', 2318606)\n",
      "('the', 2080994)\n",
      "('to', 2019884)\n",
      "...\n",
      "('stephanietraveltraderecruitmnt', 1)\n",
      "('ruabon', 1)\n",
      "('lowehays', 1)\n",
      "Correct!\n"
     ]
    }
   ],
   "source": [
    "print(\"Total unique tokens :\", len(token_counts))\n",
    "print('\\n'.join(map(str, token_counts.most_common(n=5))))\n",
    "print('...')\n",
    "print('\\n'.join(map(str, token_counts.most_common()[-3:])))\n",
    "\n",
    "assert token_counts.most_common(1)[0][1] in  range(2600000, 2700000)\n",
    "assert len(token_counts) in range(200000, 210000)\n",
    "print('Correct!')"
   ]
  },
  {
   "cell_type": "code",
   "execution_count": 11,
   "metadata": {
    "colab": {
     "base_uri": "https://localhost:8080/",
     "height": 279
    },
    "executionInfo": {
     "elapsed": 23497,
     "status": "ok",
     "timestamp": 1615965849871,
     "user": {
      "displayName": "Aleksey Shimko",
      "photoUrl": "",
      "userId": "06639583344500545085"
     },
     "user_tz": -180
    },
    "id": "GNCP31cKZe8y",
    "outputId": "f0323c37-e774-452a-917b-afb8e3609146"
   },
   "outputs": [
    {
     "data": {
      "image/png": "[encoded data removed]",
      "text/plain": [
       "<Figure size 432x288 with 1 Axes>"
      ]
     },
     "metadata": {
      "needs_background": "light"
     },
     "output_type": "display_data"
    }
   ],
   "source": [
    "# Let's see how many words are there for each count\n",
    "plt.hist(list(token_counts.values()), range=[0, 10**4], bins=50, log=True)\n",
    "plt.xlabel(\"Word counts\");"
   ]
  },
  {
   "cell_type": "markdown",
   "metadata": {
    "id": "cIWo0dm5Ze8y"
   },
   "source": [
    "__Task 1.1__ Get a list of all tokens that occur at least 10 times."
   ]
  },
  {
   "cell_type": "code",
   "execution_count": 12,
   "metadata": {
    "executionInfo": {
     "elapsed": 21919,
     "status": "ok",
     "timestamp": 1615965849871,
     "user": {
      "displayName": "Aleksey Shimko",
      "photoUrl": "",
      "userId": "06639583344500545085"
     },
     "user_tz": -180
    },
    "id": "iUB3KExsZe8y"
   },
   "outputs": [],
   "source": [
    "min_count = 10\n",
    "\n",
    "# tokens from token_counts keys that had at least min_count occurrences throughout the dataset\n",
    "#TODO <YOUR CODE>\n",
    "tokens = sorted(t for t, c in token_counts.items() if c >= min_count)\n",
    "\n",
    "# Add a special tokens for unknown and empty words\n",
    "UNK, PAD = \"UNK\", \"PAD\"\n",
    "tokens = [UNK, PAD] + tokens"
   ]
  },
  {
   "cell_type": "code",
   "execution_count": 13,
   "metadata": {
    "colab": {
     "base_uri": "https://localhost:8080/"
    },
    "executionInfo": {
     "elapsed": 20180,
     "status": "ok",
     "timestamp": 1615965849872,
     "user": {
      "displayName": "Aleksey Shimko",
      "photoUrl": "",
      "userId": "06639583344500545085"
     },
     "user_tz": -180
    },
    "id": "kqDMQVGyZe8y",
    "outputId": "a05a3f42-a7d7-4c3a-9f24-892a239fb728"
   },
   "outputs": [
    {
     "name": "stdout",
     "output_type": "stream",
     "text": [
      "Vocabulary size: 34158\n",
      "Correct!\n"
     ]
    }
   ],
   "source": [
    "print(\"Vocabulary size:\", len(tokens))\n",
    "assert type(tokens) == list\n",
    "assert len(tokens) in range(32000, 35000)\n",
    "assert 'me' in tokens\n",
    "assert UNK in tokens\n",
    "print(\"Correct!\")"
   ]
  },
  {
   "cell_type": "markdown",
   "metadata": {
    "id": "Z8JGwF9VZe8z"
   },
   "source": [
    "__Task 1.2__ Build an inverse token index: a dictionary from token(string) to it's index in `tokens` (int)"
   ]
  },
  {
   "cell_type": "code",
   "execution_count": 14,
   "metadata": {
    "executionInfo": {
     "elapsed": 18145,
     "status": "ok",
     "timestamp": 1615965849873,
     "user": {
      "displayName": "Aleksey Shimko",
      "photoUrl": "",
      "userId": "06639583344500545085"
     },
     "user_tz": -180
    },
    "id": "XcrdkC_RZe8z"
   },
   "outputs": [],
   "source": [
    "# TODO <YOUR CODE>\n",
    "token_to_id = {t: i for i, t in enumerate(tokens)}"
   ]
  },
  {
   "cell_type": "code",
   "execution_count": 15,
   "metadata": {
    "colab": {
     "base_uri": "https://localhost:8080/"
    },
    "executionInfo": {
     "elapsed": 1817,
     "status": "ok",
     "timestamp": 1615965849873,
     "user": {
      "displayName": "Aleksey Shimko",
      "photoUrl": "",
      "userId": "06639583344500545085"
     },
     "user_tz": -180
    },
    "id": "MrfWfH7MZe8z",
    "outputId": "c89a083a-6d4e-4996-8ff6-b8440f9fa31c"
   },
   "outputs": [
    {
     "name": "stdout",
     "output_type": "stream",
     "text": [
      "Correct!\n"
     ]
    }
   ],
   "source": [
    "assert isinstance(token_to_id, dict)\n",
    "assert len(token_to_id) == len(tokens)\n",
    "for tok in tokens:\n",
    "    assert tokens[token_to_id[tok]] == tok\n",
    "\n",
    "print(\"Correct!\")"
   ]
  },
  {
   "cell_type": "markdown",
   "metadata": {
    "id": "wYj9cyTXZe8z"
   },
   "source": [
    "And finally, let's use the vocabulary you've built to map text lines into neural network-digestible matrices."
   ]
  },
  {
   "cell_type": "code",
   "execution_count": 16,
   "metadata": {
    "executionInfo": {
     "elapsed": 578,
     "status": "ok",
     "timestamp": 1615965850840,
     "user": {
      "displayName": "Aleksey Shimko",
      "photoUrl": "",
      "userId": "06639583344500545085"
     },
     "user_tz": -180
    },
    "id": "ExQNSGMrZe8z"
   },
   "outputs": [],
   "source": [
    "UNK_IX, PAD_IX = map(token_to_id.get, [UNK, PAD])\n",
    "\n",
    "def as_matrix(sequences, max_len=None):\n",
    "    \"\"\" Convert a list of tokens into a matrix with padding \"\"\"\n",
    "    if isinstance(sequences[0], str):\n",
    "        sequences = list(map(str.split, sequences))\n",
    "        \n",
    "    max_len = min(max(map(len, sequences)), max_len or float('inf'))\n",
    "    \n",
    "    matrix = np.full((len(sequences), max_len), np.int32(PAD_IX))\n",
    "    for i,seq in enumerate(sequences):\n",
    "        row_ix = [token_to_id.get(word, UNK_IX) for word in seq[:max_len]]\n",
    "        matrix[i, :len(row_ix)] = row_ix\n",
    "    \n",
    "    return matrix"
   ]
  },
  {
   "cell_type": "code",
   "execution_count": 17,
   "metadata": {
    "colab": {
     "base_uri": "https://localhost:8080/"
    },
    "executionInfo": {
     "elapsed": 578,
     "status": "ok",
     "timestamp": 1615965853519,
     "user": {
      "displayName": "Aleksey Shimko",
      "photoUrl": "",
      "userId": "06639583344500545085"
     },
     "user_tz": -180
    },
    "id": "5bd1OxoyZe80",
    "outputId": "ee466c49-54a8-457d-ce2c-1c4214559283"
   },
   "outputs": [
    {
     "name": "stdout",
     "output_type": "stream",
     "text": [
      "Lines:\n",
      "engineering systems analyst\n",
      "hr assistant\n",
      "senior ec & i engineer\n",
      "\n",
      "Matrix:\n",
      "[[10807 30161  2166     1     1]\n",
      " [15020  2844     1     1     1]\n",
      " [27645 10201    16 15215 10804]]\n"
     ]
    }
   ],
   "source": [
    "print(\"Lines:\")\n",
    "print('\\n'.join(data[\"Title\"][::100000].values), end='\\n\\n')\n",
    "print(\"Matrix:\")\n",
    "print(as_matrix(data[\"Title\"][::100000]))"
   ]
  },
  {
   "cell_type": "markdown",
   "metadata": {
    "id": "DsXCKzrUZe80"
   },
   "source": [
    "Now let's  encode the categirical data we have.\n",
    "\n",
    "As usual, we shall use one-hot encoding for simplicity. Kudos if you implement more advanced encodings: tf-idf, pseudo-time-series, etc."
   ]
  },
  {
   "cell_type": "code",
   "execution_count": 18,
   "metadata": {
    "colab": {
     "base_uri": "https://localhost:8080/"
    },
    "executionInfo": {
     "elapsed": 6680,
     "status": "ok",
     "timestamp": 1615965862274,
     "user": {
      "displayName": "Aleksey Shimko",
      "photoUrl": "",
      "userId": "06639583344500545085"
     },
     "user_tz": -180
    },
    "id": "cr-qdrh3Ze81",
    "outputId": "63fe9989-f02e-4108-81a2-8927bc3637ed"
   },
   "outputs": [
    {
     "data": {
      "text/plain": [
       "DictVectorizer(dtype=<class 'numpy.float32'>, sparse=False)"
      ]
     },
     "execution_count": 18,
     "metadata": {},
     "output_type": "execute_result"
    }
   ],
   "source": [
    "from sklearn.feature_extraction import DictVectorizer\n",
    "\n",
    "# we only consider top-1k most frequent companies to minimize memory usage\n",
    "top_companies, top_counts = zip(*Counter(data['Company']).most_common(1000))\n",
    "recognized_companies = set(top_companies)\n",
    "data[\"Company\"] = data[\"Company\"].apply(lambda comp: comp if comp in recognized_companies else \"Other\")\n",
    "\n",
    "categorical_vectorizer = DictVectorizer(dtype=np.float32, sparse=False)\n",
    "categorical_vectorizer.fit(data[categorical_columns].apply(dict, axis=1))"
   ]
  },
  {
   "cell_type": "markdown",
   "metadata": {
    "id": "mJDgbkHZZe81"
   },
   "source": [
    "### The deep learning part\n",
    "\n",
    "Once we've learned to tokenize the data, let's design a machine learning experiment.\n",
    "\n",
    "As before, we won't focus too much on validation, opting for a simple train-test split.\n",
    "\n",
    "__To be completely rigorous,__ we've comitted a small crime here: we used the whole data for tokenization and vocabulary building. A more strict way would be to do that part on training set only. You may want to do that and measure the magnitude of changes."
   ]
  },
  {
   "cell_type": "code",
   "execution_count": 19,
   "metadata": {
    "colab": {
     "base_uri": "https://localhost:8080/"
    },
    "executionInfo": {
     "elapsed": 576,
     "status": "ok",
     "timestamp": 1615972591804,
     "user": {
      "displayName": "Aleksey Shimko",
      "photoUrl": "",
      "userId": "06639583344500545085"
     },
     "user_tz": -180
    },
    "id": "3sURw9HXZe81",
    "outputId": "8c3272ea-0333-4a83-9f5d-f991e827365b"
   },
   "outputs": [
    {
     "name": "stdout",
     "output_type": "stream",
     "text": [
      "Train size =  220291\n",
      "Validation size =  24477\n"
     ]
    }
   ],
   "source": [
    "from sklearn.model_selection import train_test_split\n",
    "\n",
    "data_train, data_val = train_test_split(data, test_size=0.1, random_state=77)\n",
    "data_train.index = range(len(data_train))\n",
    "data_val.index = range(len(data_val))\n",
    "\n",
    "print(\"Train size = \", len(data_train))\n",
    "print(\"Validation size = \", len(data_val))"
   ]
  },
  {
   "cell_type": "code",
   "execution_count": 20,
   "metadata": {
    "executionInfo": {
     "elapsed": 1114,
     "status": "ok",
     "timestamp": 1615972592359,
     "user": {
      "displayName": "Aleksey Shimko",
      "photoUrl": "",
      "userId": "06639583344500545085"
     },
     "user_tz": -180
    },
    "id": "Il8wpyN1Ze81"
   },
   "outputs": [],
   "source": [
    "import torch\n",
    "\n",
    "def to_tensors(batch, device):\n",
    "    batch_tensors = dict()\n",
    "    for key, arr in batch.items():\n",
    "        if key in [\"FullDescription\", \"Title\"]:\n",
    "            batch_tensors[key] = torch.tensor(arr, device=device, dtype=torch.int64)\n",
    "        else:\n",
    "            batch_tensors[key] = torch.tensor(arr, device=device)\n",
    "    return batch_tensors\n",
    "\n",
    "def make_batch(data, max_len=None, word_dropout=0, device=torch.device('cpu')):\n",
    "    \"\"\"\n",
    "    Creates a keras-friendly dict from the batch data.\n",
    "    :param word_dropout: replaces token index with UNK_IX with this probability\n",
    "    :returns: a dict with {'title' : int64[batch, title_max_len]\n",
    "    \"\"\"\n",
    "    batch = {}\n",
    "    batch[\"Title\"] = as_matrix(data[\"Title\"].values, max_len)\n",
    "    batch[\"FullDescription\"] = as_matrix(data[\"FullDescription\"].values, max_len)\n",
    "    batch['Categorical'] = categorical_vectorizer.transform(data[categorical_columns].apply(dict, axis=1))\n",
    "    \n",
    "    if word_dropout != 0:\n",
    "        batch[\"FullDescription\"] = apply_word_dropout(batch[\"FullDescription\"], 1. - word_dropout)\n",
    "    \n",
    "    if TARGET_COLUMN in data.columns:\n",
    "        batch[TARGET_COLUMN] = data[TARGET_COLUMN].values\n",
    "    \n",
    "    return to_tensors(batch, device)\n",
    "\n",
    "def apply_word_dropout(matrix, keep_prop, replace_with=UNK_IX, pad_ix=PAD_IX,):\n",
    "    dropout_mask = np.random.choice(2, np.shape(matrix), p=[keep_prop, 1 - keep_prop])\n",
    "    dropout_mask &= matrix != pad_ix\n",
    "    return np.choose(dropout_mask, [matrix, np.full_like(matrix, replace_with)])"
   ]
  },
  {
   "cell_type": "code",
   "execution_count": 21,
   "metadata": {
    "colab": {
     "base_uri": "https://localhost:8080/"
    },
    "executionInfo": {
     "elapsed": 1111,
     "status": "ok",
     "timestamp": 1615972592360,
     "user": {
      "displayName": "Aleksey Shimko",
      "photoUrl": "",
      "userId": "06639583344500545085"
     },
     "user_tz": -180
    },
    "id": "dRKoBF_gZe82",
    "outputId": "e93566ed-a861-4495-ea31-17f7193d2b2f",
    "scrolled": true
   },
   "outputs": [
    {
     "data": {
      "text/plain": [
       "{'Title': tensor([[27645, 26986,  1587,   197, 11192,  1700],\n",
       "         [27280, 13650, 30409,  2844,     1,     1],\n",
       "         [ 4986,  9083, 18864,     1,     1,     1]]),\n",
       " 'FullDescription': tensor([[32937, 31100, 33664, 12587,   982, 17753, 11192,  1693,   943,  8110],\n",
       "         [ 2572, 33996,   982, 13650,   158, 33554,   982,   437, 22021,    82],\n",
       "         [33996, 33435, 30323, 33554,  3002, 20893, 11312,   158,  7151, 31100]]),\n",
       " 'Categorical': tensor([[0., 0., 0.,  ..., 0., 0., 0.],\n",
       "         [0., 0., 0.,  ..., 0., 0., 0.],\n",
       "         [0., 0., 0.,  ..., 0., 0., 0.]]),\n",
       " 'Log1pSalary': tensor([10.5967,  9.5325, 10.4631])}"
      ]
     },
     "execution_count": 21,
     "metadata": {},
     "output_type": "execute_result"
    }
   ],
   "source": [
    "make_batch(data_train[:3], max_len=10)"
   ]
  },
  {
   "cell_type": "markdown",
   "metadata": {
    "id": "J8f9-Y01Ze82"
   },
   "source": [
    "#### Architecture\n",
    "\n",
    "Our basic model consists of three branches:\n",
    "* Title encoder\n",
    "* Description encoder\n",
    "* Categorical features encoder\n",
    "\n",
    "We will then feed all 3 branches into one common network that predicts salary.\n",
    "\n",
    "![scheme](https://github.com/yandexdataschool/nlp_course/raw/master/resources/w2_conv_arch.png)"
   ]
  },
  {
   "cell_type": "markdown",
   "metadata": {
    "id": "x-zT-Hu_Ze82"
   },
   "source": [
    "This clearly doesn't fit into keras' __Sequential__ interface. To build such a network, one will have to use PyTorch."
   ]
  },
  {
   "cell_type": "code",
   "execution_count": 22,
   "metadata": {
    "executionInfo": {
     "elapsed": 558,
     "status": "ok",
     "timestamp": 1615972951518,
     "user": {
      "displayName": "Aleksey Shimko",
      "photoUrl": "",
      "userId": "06639583344500545085"
     },
     "user_tz": -180
    },
    "id": "obkMJ46pZe83"
   },
   "outputs": [],
   "source": [
    "import torch\n",
    "import torch.nn as nn\n",
    "import torch.functional as F"
   ]
  },
  {
   "cell_type": "code",
   "execution_count": 23,
   "metadata": {
    "executionInfo": {
     "elapsed": 591,
     "status": "ok",
     "timestamp": 1615973185381,
     "user": {
      "displayName": "Aleksey Shimko",
      "photoUrl": "",
      "userId": "06639583344500545085"
     },
     "user_tz": -180
    },
    "id": "F4LgLJtEZe83"
   },
   "outputs": [],
   "source": [
    "class SalaryPredictor(nn.Module):\n",
    "    def __init__(self, n_tokens=len(tokens), n_cat_features=len(categorical_vectorizer.vocabulary_), hid_size=8):\n",
    "        super().__init__()\n",
    "        self.embedder = nn.Embedding(n_tokens, hid_size)\n",
    "        self.title_encoder = nn.Sequential(\n",
    "            nn.Conv1d(hid_size, hid_size, kernel_size=2),\n",
    "            nn.Dropout(p=0.25),\n",
    "            nn.ReLU(),\n",
    "            nn.AdaptiveMaxPool1d(output_size=1)\n",
    "        )\n",
    "        self.description_encoder = nn.Sequential(\n",
    "            nn.Conv1d(hid_size, hid_size, kernel_size=2),\n",
    "            nn.Dropout(p=0.25),\n",
    "            nn.ReLU(),\n",
    "            nn.AdaptiveMaxPool1d(output_size=1)\n",
    "        )\n",
    "        self.categorical_encoder = nn.Sequential(\n",
    "            nn.Linear(n_cat_features, hid_size * 2),\n",
    "            nn.ReLU(),\n",
    "            nn.Linear(hid_size * 2, hid_size * 2),\n",
    "            nn.ReLU()\n",
    "        )\n",
    "        self.final_predictor = nn.Sequential(\n",
    "            nn.Linear(hid_size * 4, hid_size),\n",
    "            nn.ReLU(),\n",
    "            nn.Linear(hid_size, 1)\n",
    "        )\n",
    "        #  YOUR CODE HERE\n",
    "\n",
    "        \n",
    "    def forward(self, batch):\n",
    "        # YOUR CODE HERE\n",
    "        title_embeddings = self.embedder(batch['Title']).permute(0, 2, 1)\n",
    "        title_features = self.title_encoder(title_embeddings).squeeze()\n",
    "\n",
    "        description_embeddings = self.embedder(batch['FullDescription']).permute(0, 2, 1)\n",
    "        description_features = self.description_encoder(description_embeddings).squeeze()\n",
    "\n",
    "        categorical_features = self.categorical_encoder(batch['Categorical'])\n",
    "\n",
    "        features = torch.cat(\n",
    "            [title_features, description_features, categorical_features], dim=1)\n",
    "        \n",
    "        return self.final_predictor(features).squeeze()"
   ]
  },
  {
   "cell_type": "code",
   "execution_count": 24,
   "metadata": {
    "executionInfo": {
     "elapsed": 1263,
     "status": "ok",
     "timestamp": 1615972952237,
     "user": {
      "displayName": "Aleksey Shimko",
      "photoUrl": "",
      "userId": "06639583344500545085"
     },
     "user_tz": -180
    },
    "id": "JBS7PlCrZe83"
   },
   "outputs": [],
   "source": [
    "model = SalaryPredictor()\n",
    "batch = make_batch(data_train[:100])\n",
    "criterion = nn.MSELoss()\n",
    "\n",
    "dummy_pred = model(batch)\n",
    "dummy_loss = criterion(dummy_pred, batch[TARGET_COLUMN])\n",
    "assert dummy_pred.shape == torch.Size([100])\n",
    "assert len(np.unique(dummy_pred.detach().numpy())) > 20, \"model returns suspiciously few unique outputs. Check your initialization\"\n",
    "assert dummy_loss.ndim == 0 and 0. <= dummy_loss <= 250., \"make sure you minimize MSE\""
   ]
  },
  {
   "cell_type": "markdown",
   "metadata": {
    "id": "WmImJv70Ze83"
   },
   "source": [
    "#### Training and evaluation\n",
    "\n",
    "As usual, we gonna feed our monster with random minibatches of data. \n",
    "\n",
    "As we train, we want to monitor not only loss function, which is computed in log-space, but also the actual error measured in dollars."
   ]
  },
  {
   "cell_type": "code",
   "execution_count": 25,
   "metadata": {
    "executionInfo": {
     "elapsed": 1260,
     "status": "ok",
     "timestamp": 1615972952238,
     "user": {
      "displayName": "Aleksey Shimko",
      "photoUrl": "",
      "userId": "06639583344500545085"
     },
     "user_tz": -180
    },
    "id": "lBwOV5duZe84"
   },
   "outputs": [],
   "source": [
    "def iterate_minibatches(data, batch_size=256, shuffle=True, cycle=False, **kwargs):\n",
    "    \"\"\" iterates minibatches of data in random order \"\"\"\n",
    "    while True:\n",
    "        indices = np.arange(len(data))\n",
    "        if shuffle:\n",
    "            indices = np.random.permutation(indices)\n",
    "\n",
    "        for start in range(0, len(indices), batch_size):\n",
    "            batch = make_batch(data.iloc[indices[start : start + batch_size]], **kwargs)\n",
    "            yield batch\n",
    "        \n",
    "        if not cycle: break"
   ]
  },
  {
   "cell_type": "markdown",
   "metadata": {
    "id": "H7ExfuFkZe84"
   },
   "source": [
    "### Model training\n",
    "\n",
    "We can now fit our model the usual minibatch way. The interesting part is that we train on an infinite stream of minibatches, produced by `iterate_minibatches` function."
   ]
  },
  {
   "cell_type": "code",
   "execution_count": 26,
   "metadata": {
    "executionInfo": {
     "elapsed": 588,
     "status": "ok",
     "timestamp": 1615973219541,
     "user": {
      "displayName": "Aleksey Shimko",
      "photoUrl": "",
      "userId": "06639583344500545085"
     },
     "user_tz": -180
    },
    "id": "qNW1PL0mZe84"
   },
   "outputs": [],
   "source": [
    "import tqdm\n",
    "\n",
    "BATCH_SIZE = 128\n",
    "EPOCHS = 3\n",
    "DEVICE = torch.device('cuda' if torch.cuda.is_available() else 'cpu')"
   ]
  },
  {
   "cell_type": "code",
   "execution_count": 27,
   "metadata": {
    "executionInfo": {
     "elapsed": 581,
     "status": "ok",
     "timestamp": 1615973702871,
     "user": {
      "displayName": "Aleksey Shimko",
      "photoUrl": "",
      "userId": "06639583344500545085"
     },
     "user_tz": -180
    },
    "id": "Bsu0gequZe84"
   },
   "outputs": [],
   "source": [
    "def print_metrics(model, data, list_mse, list_mae, batch_size=BATCH_SIZE, name=\"\", **kw):\n",
    "    squared_error = abs_error = num_samples = 0.0\n",
    "    model.eval()\n",
    "    with torch.no_grad():\n",
    "        for batch in iterate_minibatches(data, batch_size=batch_size, shuffle=False, **kw):\n",
    "            batch_pred = model(batch)\n",
    "            squared_error += torch.mean(torch.square(batch_pred - batch[TARGET_COLUMN]))\n",
    "            abs_error += torch.mean(torch.abs(batch_pred - batch[TARGET_COLUMN]))\n",
    "            num_samples += len(batch)\n",
    "    mse = squared_error.detach().cpu().numpy() / num_samples\n",
    "    list_mse.append(mse)\n",
    "    mae = abs_error.detach().cpu().numpy() / num_samples\n",
    "    list_mae.append(mae)\n",
    "    print(\"%s results:\" % (name or \"\"))\n",
    "    print(\"Mean square error: %.5f\" % mse)\n",
    "    print(\"Mean absolute error: %.5f\" % mae)\n",
    "    return mse, mae"
   ]
  },
  {
   "cell_type": "code",
   "execution_count": 28,
   "metadata": {
    "colab": {
     "base_uri": "https://localhost:8080/",
     "height": 1000,
     "referenced_widgets": [
      "b60f626f5af24cd2a5da08b69e5fa0a4",
      "95f2fd000f564836bbd92a23dd45dc4a",
      "69ff883912e2485ead2772471a51e049",
      "b42c005eed2448b59acaf8c8497f8049",
      "7df985e91b3246759786a6000119f3e4",
      "7baa68643da842baa7c8c57442c6ea56",
      "e6848159df574f03bce01306607ae5cc",
      "4a1242a11d3649a685d745b195ac83fd",
      "35e0b8011a3e4a09b549c91128e6efeb",
      "6d1a80fa13e9428fb3ef47552b39752b",
      "03f11c5e7e00439cb3d2b2d2b7686cb5",
      "426f02a100ba4a50a4c428d2215fca1e",
      "f1a3091f5ff0491a84e95ed35dfe81e4",
      "16d2b792e6cf49cc8380a223a64495dd",
      "810e2fcd62c749d898b9db1a2b5cc4e6",
      "9b37a2a98204452eab3455ddea0bee2e",
      "600cec0f9a8a45c099c5d3a38c655deb",
      "2453cfecaf814b27986da75e45d9fe5e",
      "d81052a8fcbd4b0d9c2f999e8819c676",
      "20a09116eab6463baefb4d477c1e410c",
      "c720a880d9e24d31a8d7f3f8c326252a",
      "e1fa412f3b83433e872e619cdaf2fc51",
      "edd9456f344b44dab1ab189764d83a37",
      "c942b73284194cc39320af47794f185d"
     ]
    },
    "executionInfo": {
     "elapsed": 299283,
     "status": "ok",
     "timestamp": 1615974005685,
     "user": {
      "displayName": "Aleksey Shimko",
      "photoUrl": "",
      "userId": "06639583344500545085"
     },
     "user_tz": -180
    },
    "id": "guTdyDx1Ze84",
    "outputId": "e4b29796-474f-4ec2-eca0-8d09644cf728"
   },
   "outputs": [
    {
     "name": "stdout",
     "output_type": "stream",
     "text": [
      "epoch: 0\n"
     ]
    },
    {
     "data": {
      "application/vnd.jupyter.widget-view+json": {
       "model_id": "9eee6726c32949a5ad5ce044f930ee8f",
       "version_major": 2,
       "version_minor": 0
      },
      "text/plain": [
       "HBox(children=(FloatProgress(value=0.0, max=1721.0), HTML(value='')))"
      ]
     },
     "metadata": {},
     "output_type": "display_data"
    },
    {
     "name": "stdout",
     "output_type": "stream",
     "text": [
      "train_loss 5.680886745452881\n",
      "val results:\n",
      "Mean square error: 3.38062\n",
      "Mean absolute error: 0.90840\n",
      "train_loss 0.46588006615638733\n",
      "val results:\n",
      "Mean square error: 0.90797\n",
      "Mean absolute error: 0.45397\n",
      "train_loss 0.2983931601047516\n",
      "val results:\n",
      "Mean square error: 0.88974\n",
      "Mean absolute error: 0.45138\n",
      "train_loss 0.3978468179702759\n",
      "val results:\n",
      "Mean square error: 0.84508\n",
      "Mean absolute error: 0.44072\n",
      "train_loss 0.33900174498558044\n",
      "val results:\n",
      "Mean square error: 0.84784\n",
      "Mean absolute error: 0.44301\n",
      "train_loss 0.3814780116081238\n",
      "val results:\n",
      "Mean square error: 0.84443\n",
      "Mean absolute error: 0.44323\n",
      "train_loss 0.3178771734237671\n",
      "val results:\n",
      "Mean square error: 0.83875\n",
      "Mean absolute error: 0.44246\n",
      "train_loss 0.26624777913093567\n",
      "val results:\n",
      "Mean square error: 0.80168\n",
      "Mean absolute error: 0.43258\n",
      "train_loss 0.2721179723739624\n",
      "val results:\n",
      "Mean square error: 0.77602\n",
      "Mean absolute error: 0.42573\n",
      "train_loss 0.2262079119682312\n",
      "val results:\n",
      "Mean square error: 0.78206\n",
      "Mean absolute error: 0.42803\n",
      "train_loss 0.22797329723834991\n",
      "val results:\n",
      "Mean square error: 0.75245\n",
      "Mean absolute error: 0.41982\n",
      "train_loss 0.21021169424057007\n",
      "val results:\n",
      "Mean square error: 0.75356\n",
      "Mean absolute error: 0.42058\n",
      "train_loss 0.24311457574367523\n",
      "val results:\n",
      "Mean square error: 0.75179\n",
      "Mean absolute error: 0.42044\n",
      "train_loss 0.21853439509868622\n",
      "val results:\n",
      "Mean square error: 0.72374\n",
      "Mean absolute error: 0.41238\n",
      "train_loss 0.22813592851161957\n",
      "val results:\n",
      "Mean square error: 0.69978\n",
      "Mean absolute error: 0.40545\n",
      "train_loss 0.17116296291351318\n",
      "val results:\n",
      "Mean square error: 0.67327\n",
      "Mean absolute error: 0.39753\n",
      "train_loss 0.214517742395401\n",
      "val results:\n",
      "Mean square error: 0.67047\n",
      "Mean absolute error: 0.39686\n",
      "\n",
      "epoch: 1\n"
     ]
    },
    {
     "data": {
      "application/vnd.jupyter.widget-view+json": {
       "model_id": "12e879c41ff44325b20c7f3386d76893",
       "version_major": 2,
       "version_minor": 0
      },
      "text/plain": [
       "HBox(children=(FloatProgress(value=0.0, max=1721.0), HTML(value='')))"
      ]
     },
     "metadata": {},
     "output_type": "display_data"
    },
    {
     "name": "stdout",
     "output_type": "stream",
     "text": [
      "train_loss 0.16926760971546173\n",
      "val results:\n",
      "Mean square error: 0.60761\n",
      "Mean absolute error: 0.37698\n",
      "train_loss 0.17368389666080475\n",
      "val results:\n",
      "Mean square error: 0.62300\n",
      "Mean absolute error: 0.38222\n",
      "train_loss 0.1835559606552124\n",
      "val results:\n",
      "Mean square error: 0.60606\n",
      "Mean absolute error: 0.37689\n",
      "train_loss 0.1890726536512375\n",
      "val results:\n",
      "Mean square error: 0.56960\n",
      "Mean absolute error: 0.36485\n",
      "train_loss 0.151182159781456\n",
      "val results:\n",
      "Mean square error: 0.55337\n",
      "Mean absolute error: 0.35944\n",
      "train_loss 0.18213969469070435\n",
      "val results:\n",
      "Mean square error: 0.54970\n",
      "Mean absolute error: 0.35841\n",
      "train_loss 0.1687617301940918\n",
      "val results:\n",
      "Mean square error: 0.53984\n",
      "Mean absolute error: 0.35524\n",
      "train_loss 0.19337908923625946\n",
      "val results:\n",
      "Mean square error: 0.53910\n",
      "Mean absolute error: 0.35519\n",
      "train_loss 0.1499251425266266\n",
      "val results:\n",
      "Mean square error: 0.52160\n",
      "Mean absolute error: 0.34915\n",
      "train_loss 0.1504993587732315\n",
      "val results:\n",
      "Mean square error: 0.51821\n",
      "Mean absolute error: 0.34809\n",
      "train_loss 0.1578661948442459\n",
      "val results:\n",
      "Mean square error: 0.49217\n",
      "Mean absolute error: 0.33880\n",
      "train_loss 0.14829330146312714\n",
      "val results:\n",
      "Mean square error: 0.49072\n",
      "Mean absolute error: 0.33852\n",
      "train_loss 0.10781296342611313\n",
      "val results:\n",
      "Mean square error: 0.46751\n",
      "Mean absolute error: 0.32997\n",
      "train_loss 0.14027364552021027\n",
      "val results:\n",
      "Mean square error: 0.44350\n",
      "Mean absolute error: 0.32095\n",
      "train_loss 0.11243447661399841\n",
      "val results:\n",
      "Mean square error: 0.44107\n",
      "Mean absolute error: 0.32017\n",
      "train_loss 0.12046399712562561\n",
      "val results:\n",
      "Mean square error: 0.45632\n",
      "Mean absolute error: 0.32615\n",
      "train_loss 0.10171189904212952\n",
      "val results:\n",
      "Mean square error: 0.44769\n",
      "Mean absolute error: 0.32292\n",
      "\n",
      "epoch: 2\n"
     ]
    },
    {
     "data": {
      "application/vnd.jupyter.widget-view+json": {
       "model_id": "8f89d2be9419476cacdbaf74ea444484",
       "version_major": 2,
       "version_minor": 0
      },
      "text/plain": [
       "HBox(children=(FloatProgress(value=0.0, max=1721.0), HTML(value='')))"
      ]
     },
     "metadata": {},
     "output_type": "display_data"
    },
    {
     "name": "stdout",
     "output_type": "stream",
     "text": [
      "train_loss 0.1015489250421524\n",
      "val results:\n",
      "Mean square error: 0.41555\n",
      "Mean absolute error: 0.31037\n",
      "train_loss 0.15778231620788574\n",
      "val results:\n",
      "Mean square error: 0.42051\n",
      "Mean absolute error: 0.31245\n",
      "train_loss 0.12496434897184372\n",
      "val results:\n",
      "Mean square error: 0.40836\n",
      "Mean absolute error: 0.30767\n",
      "train_loss 0.11393605172634125\n",
      "val results:\n",
      "Mean square error: 0.43051\n",
      "Mean absolute error: 0.31666\n",
      "train_loss 0.12034003436565399\n",
      "val results:\n",
      "Mean square error: 0.38672\n",
      "Mean absolute error: 0.29901\n",
      "train_loss 0.12835055589675903\n",
      "val results:\n",
      "Mean square error: 0.38062\n",
      "Mean absolute error: 0.29654\n",
      "train_loss 0.11490476131439209\n",
      "val results:\n",
      "Mean square error: 0.37538\n",
      "Mean absolute error: 0.29434\n",
      "train_loss 0.1259652078151703\n",
      "val results:\n",
      "Mean square error: 0.37429\n",
      "Mean absolute error: 0.29402\n",
      "train_loss 0.11528874933719635\n",
      "val results:\n",
      "Mean square error: 0.36735\n",
      "Mean absolute error: 0.29110\n",
      "train_loss 0.10789896547794342\n",
      "val results:\n",
      "Mean square error: 0.36095\n",
      "Mean absolute error: 0.28849\n",
      "train_loss 0.12037769705057144\n",
      "val results:\n",
      "Mean square error: 0.36660\n",
      "Mean absolute error: 0.29099\n",
      "train_loss 0.11801782250404358\n",
      "val results:\n",
      "Mean square error: 0.32209\n",
      "Mean absolute error: 0.27138\n",
      "train_loss 0.12016979604959488\n",
      "val results:\n",
      "Mean square error: 0.32235\n",
      "Mean absolute error: 0.27167\n",
      "train_loss 0.12612512707710266\n",
      "val results:\n",
      "Mean square error: 0.32446\n",
      "Mean absolute error: 0.27266\n",
      "train_loss 0.13447365164756775\n",
      "val results:\n",
      "Mean square error: 0.30346\n",
      "Mean absolute error: 0.26301\n",
      "train_loss 0.08946873247623444\n",
      "val results:\n",
      "Mean square error: 0.31853\n",
      "Mean absolute error: 0.27006\n",
      "train_loss 0.09117358922958374\n",
      "val results:\n",
      "Mean square error: 0.30002\n",
      "Mean absolute error: 0.26151\n",
      "\n"
     ]
    }
   ],
   "source": [
    "model = SalaryPredictor().to(DEVICE)\n",
    "criterion = nn.MSELoss(reduction='mean')\n",
    "optimizer = torch.optim.Adam(model.parameters(), lr=1e-3)\n",
    "list_mse_1 = []\n",
    "list_mae_1 = []\n",
    "train_loss_1 = []\n",
    "\n",
    "for epoch in range(EPOCHS):\n",
    "    print(f\"epoch: {epoch}\")\n",
    "    for i, batch in tqdm.notebook.tqdm(enumerate(\n",
    "            iterate_minibatches(\n",
    "                    data_train, \n",
    "                    batch_size=BATCH_SIZE, \n",
    "                    device=DEVICE)), \n",
    "                total=len(data_train) // BATCH_SIZE\n",
    "        ):\n",
    "        model.train()\n",
    "        pred = model(batch)\n",
    "        optimizer.zero_grad()\n",
    "        loss = criterion(pred, batch[TARGET_COLUMN])\n",
    "        loss.backward()\n",
    "        optimizer.step()\n",
    "\n",
    "        if i % 100 == 99:\n",
    "            print('train_loss', loss.item())\n",
    "            train_loss_1.append(loss.item())\n",
    "            print_metrics(model, data_val, list_mse=list_mse_1, list_mae=list_mae_1, \n",
    "                          name='val', batch_size=BATCH_SIZE, device=DEVICE)"
   ]
  },
  {
   "cell_type": "code",
   "execution_count": 29,
   "metadata": {},
   "outputs": [],
   "source": [
    "# conda install pytorch torchvision cudatoolkit=10.2 -c pytorch"
   ]
  },
  {
   "cell_type": "markdown",
   "metadata": {},
   "source": [
    "### Part of laboratory work <a name=\"lab\"></a>"
   ]
  },
  {
   "cell_type": "markdown",
   "metadata": {},
   "source": [
    "**0. Функция для вывода графиков Training Loss, MSE/MAE.**<a name=\"graph\"></a>"
   ]
  },
  {
   "cell_type": "code",
   "execution_count": 28,
   "metadata": {},
   "outputs": [
    {
     "data": {
      "text/html": [
       "        <script type=\"text/javascript\">\n",
       "        window.PlotlyConfig = {MathJaxConfig: 'local'};\n",
       "        if (window.MathJax) {MathJax.Hub.Config({SVG: {font: \"STIX-Web\"}});}\n",
       "        if (typeof require !== 'undefined') {\n",
       "        require.undef(\"plotly\");\n",
       "        requirejs.config({\n",
       "            paths: {\n",
       "                'plotly': ['https://cdn.plot.ly/plotly-latest.min']\n",
       "            }\n",
       "        });\n",
       "        require(['plotly'], function(Plotly) {\n",
       "            window._Plotly = Plotly;\n",
       "        });\n",
       "        }\n",
       "        </script>\n",
       "        "
      ]
     },
     "metadata": {},
     "output_type": "display_data"
    }
   ],
   "source": [
    "import plotly.offline as py\n",
    "import plotly.express as px\n",
    "import plotly.graph_objs as go\n",
    "import plotly.figure_factory as ff\n",
    "from plotly.subplots import make_subplots\n",
    "py.init_notebook_mode(connected=True)"
   ]
  },
  {
   "cell_type": "code",
   "execution_count": 29,
   "metadata": {},
   "outputs": [],
   "source": [
    "def draw_loss_acc_plot(model, train_loss, list_mae, list_mse):\n",
    "    \n",
    "    trace1 = go.Scatter(x=np.arange(len(train_loss)), y=train_loss,\n",
    "                        mode='lines',\n",
    "                        name='Train Loss', showlegend=False)\n",
    "    \n",
    "    trace2 = go.Scatter(x=np.arange(len(list_mae)), y=list_mae,\n",
    "                        mode='lines',\n",
    "                        name='MAE')\n",
    "    trace3 = go.Scatter(x=np.arange(len(list_mse)), y=list_mse,\n",
    "                        mode='lines',\n",
    "                        name='MSE')\n",
    "\n",
    "    fig = make_subplots(rows=2, cols=1, print_grid=False, \n",
    "                        specs=[[{}], \n",
    "                               [{}]],\n",
    "                        subplot_titles=('<b>Train Loss</b>', '<b>Test Metrics</b>'),\n",
    "                       )\n",
    "    \n",
    "    fig.append_trace(trace1, 1, 1)\n",
    "    fig.append_trace(trace2, 2, 1)\n",
    "    fig.append_trace(trace3, 2, 1)\n",
    "    \n",
    "    train_loss_stats = [np.max(train_loss), np.mean(train_loss), np.min(train_loss), np.median(train_loss), np.var(train_loss)]\n",
    "    list_mae_stats = [np.max(list_mae), np.mean(list_mae), np.min(list_mae), np.median(list_mae), np.var(list_mae)]\n",
    "    list_mse_stats = [np.max(list_mse), np.mean(list_mse), np.min(list_mse), np.median(list_mse), np.var(list_mse)]\n",
    "    \n",
    "    fig[\"layout\"].update(legend=dict(x=1, y=0.15),\n",
    "                         title={'text': '<b>Model performance report</b><br>' + str(model) + '<br>' * 24 \\\n",
    "                                                  + '<b><i>Train Loss Stat Values:</i></b><br>' \\\n",
    "                                                  + 'Max: {:.2f}   Mean: {:.2f}   Min: {:.2f}   Median: {:.2f}   Var: {:.2f}'.format(*train_loss_stats) \\\n",
    "                                                  + '<br><br><b><i>Mean Absolute Error Stat Values:</i></b><br>' \\\n",
    "                                                  + 'Max: {:.2f}   Mean: {:.2f}   Min: {:.2f}   Median: {:.2f}   Var: {:.2f}'.format(*list_mae_stats) \\\n",
    "                                                  + '<br><br><b><i>Mean Squared Error Stat Values:</i></b><br>' \\\n",
    "                                                  + 'Max: {:.2f}   Mean: {:.2f}   Min: {:.2f}   Median: {:.2f}   Var: {:.2f}'.format(*list_mse_stats),\n",
    "                                                  'x': 0.5,\n",
    "                                                  'y': 0.95,\n",
    "                                                  'xanchor': 'center',\n",
    "                                                  'yanchor': 'top'},\n",
    "                         autosize=False, height=780, width=900,\n",
    "                         plot_bgcolor='rgba(240, 240, 240, 0.95)',\n",
    "                         paper_bgcolor='rgba(240, 240, 240, 0.95)',\n",
    "                         margin=dict(b=270))\n",
    "    \n",
    "    fig[\"layout\"][\"yaxis1\"].update(dict(range=[0, 1]))\n",
    "    fig[\"layout\"][\"yaxis2\"].update(dict(range=[0, 1]))\n",
    "    \n",
    "    py.iplot(fig)"
   ]
  },
  {
   "cell_type": "markdown",
   "metadata": {},
   "source": [
    "Вам нужно будет взять [ноутбук](https://drive.google.com/file/d/1euxnmvVeE5byHiTd-axQz4pF9wgEHXmQ/view?usp=sharing) с предсказанием заработной платы, который  Вы разбирали на практике, и улучшить его.\n",
    "\n",
    "Несколько советов по оформлениею работы:\n",
    "*   В начале ноутбука добавьте небольшое резюме - что Вами было сделано в ноутбуке: что попробовали, какие результаты получили.\n",
    "*   Все эксперименты оформите с графиками функции потерь и метриками MAE, MSE. Графики постройте на тренировочных, тестовых и валидационных данных. В конце каждого эксперимента выведите лучшие значения.\n",
    "*   В конце каждого эксперимента напишите свои выводы. Подкрепите их визуализацией и/или метриками."
   ]
  },
  {
   "cell_type": "markdown",
   "metadata": {},
   "source": [
    "**1. Развить СNN архитектуру (2 балла)**<a name=\"first\"></a>\n",
    "\n",
    "Добавить в пайплайн:\n",
    "\n",
    "*   Batch Norm (nn.BatchNorm)\n",
    "*   Параллельные сверточные слои. Идея в том, чтобы применить несколько nn.Conv1d к одному и тому же эмбеддингу и после этого сконкатенировать выходные каналы\n",
    "*   Больше слоев...\n",
    "*   Добавить раннюю остановку\n",
    "\n",
    "На каких примерах модели ведут себя максимально различно/похоже? Предположите с чем это может быть связано. \n",
    "\n",
    "Как модель ведет себя в зависимости от количества обучаемых параметров?"
   ]
  },
  {
   "cell_type": "markdown",
   "metadata": {},
   "source": [
    "**Добавление слоя nn.BatchNorm1d**"
   ]
  },
  {
   "cell_type": "code",
   "execution_count": 32,
   "metadata": {},
   "outputs": [],
   "source": [
    "class SalaryPredictorwBatchNorm(nn.Module):\n",
    "    def __init__(self, n_tokens=len(tokens), n_cat_features=len(categorical_vectorizer.vocabulary_), hid_size=8):\n",
    "        super().__init__()\n",
    "        self.embedder = nn.Embedding(n_tokens, hid_size)\n",
    "        self.title_encoder = nn.Sequential(\n",
    "            nn.Conv1d(hid_size, hid_size, kernel_size=2),\n",
    "            nn.Dropout(p=0.25),\n",
    "            nn.BatchNorm1d(hid_size),\n",
    "            nn.ReLU(),\n",
    "            nn.AdaptiveMaxPool1d(output_size=1)\n",
    "        )\n",
    "        self.description_encoder = nn.Sequential(\n",
    "            nn.Conv1d(hid_size, hid_size, kernel_size=2),\n",
    "            nn.Dropout(p=0.25),\n",
    "            nn.BatchNorm1d(hid_size),\n",
    "            nn.ReLU(),\n",
    "            nn.AdaptiveMaxPool1d(output_size=1)\n",
    "        )\n",
    "        self.categorical_encoder = nn.Sequential(\n",
    "            nn.Linear(n_cat_features, hid_size * 2),\n",
    "            nn.BatchNorm1d(hid_size * 2),\n",
    "            nn.ReLU(),\n",
    "            nn.Linear(hid_size * 2, hid_size * 2),\n",
    "            nn.ReLU()\n",
    "        )\n",
    "        self.final_predictor = nn.Sequential(\n",
    "            nn.Linear(hid_size * 4, hid_size),\n",
    "            nn.BatchNorm1d(hid_size),\n",
    "            nn.ReLU(),\n",
    "            nn.Linear(hid_size, 1)\n",
    "        )\n",
    "    \n",
    "    def forward(self, batch):\n",
    "        \n",
    "        title_embeddings = self.embedder(batch['Title']).permute(0, 2, 1)\n",
    "        title_features = self.title_encoder(title_embeddings).squeeze()\n",
    "\n",
    "        description_embeddings = self.embedder(batch['FullDescription']).permute(0, 2, 1)\n",
    "        description_features = self.description_encoder(description_embeddings).squeeze()\n",
    "\n",
    "        categorical_features = self.categorical_encoder(batch['Categorical'])\n",
    "\n",
    "        features = torch.cat(\n",
    "            [title_features, description_features, categorical_features], dim=1)\n",
    "        \n",
    "        return self.final_predictor(features).squeeze()"
   ]
  },
  {
   "cell_type": "code",
   "execution_count": 33,
   "metadata": {},
   "outputs": [],
   "source": [
    "model = SalaryPredictorwBatchNorm()\n",
    "batch = make_batch(data_train[:100])\n",
    "criterion = nn.MSELoss()\n",
    "\n",
    "dummy_pred = model(batch)\n",
    "dummy_loss = criterion(dummy_pred, batch[TARGET_COLUMN])\n",
    "assert dummy_pred.shape == torch.Size([100])\n",
    "assert len(np.unique(dummy_pred.detach().numpy())) > 20, \"model returns suspiciously few unique outputs. Check your initialization\"\n",
    "assert dummy_loss.ndim == 0 and 0. <= dummy_loss <= 250., \"make sure you minimize MSE\""
   ]
  },
  {
   "cell_type": "code",
   "execution_count": 34,
   "metadata": {},
   "outputs": [
    {
     "name": "stdout",
     "output_type": "stream",
     "text": [
      "epoch: 0\n"
     ]
    },
    {
     "data": {
      "application/vnd.jupyter.widget-view+json": {
       "model_id": "e54142b2e6df4e0fa32b71a97b56ff38",
       "version_major": 2,
       "version_minor": 0
      },
      "text/plain": [
       "HBox(children=(FloatProgress(value=0.0, max=1721.0), HTML(value='')))"
      ]
     },
     "metadata": {},
     "output_type": "display_data"
    },
    {
     "name": "stdout",
     "output_type": "stream",
     "text": [
      "train_loss 89.75553131103516\n",
      "val results:\n",
      "Mean square error: 22.58736\n",
      "Mean absolute error: 2.37258\n",
      "train_loss 73.69219970703125\n",
      "val results:\n",
      "Mean square error: 19.10619\n",
      "Mean absolute error: 2.18182\n",
      "train_loss 54.730716705322266\n",
      "val results:\n",
      "Mean square error: 14.01105\n",
      "Mean absolute error: 1.86642\n",
      "train_loss 36.54741287231445\n",
      "val results:\n",
      "Mean square error: 9.41030\n",
      "Mean absolute error: 1.52563\n",
      "train_loss 22.134138107299805\n",
      "val results:\n",
      "Mean square error: 5.78977\n",
      "Mean absolute error: 1.18835\n",
      "train_loss 10.451841354370117\n",
      "val results:\n",
      "Mean square error: 2.94355\n",
      "Mean absolute error: 0.83276\n",
      "train_loss 4.6217145919799805\n",
      "val results:\n",
      "Mean square error: 1.59845\n",
      "Mean absolute error: 0.59899\n",
      "train_loss 1.5466071367263794\n",
      "val results:\n",
      "Mean square error: 0.95273\n",
      "Mean absolute error: 0.44267\n",
      "train_loss 0.6198590397834778\n",
      "val results:\n",
      "Mean square error: 0.37592\n",
      "Mean absolute error: 0.26005\n",
      "train_loss 0.7001397609710693\n",
      "val results:\n",
      "Mean square error: 0.19474\n",
      "Mean absolute error: 0.18297\n",
      "train_loss 0.5077153444290161\n",
      "val results:\n",
      "Mean square error: 0.15551\n",
      "Mean absolute error: 0.16215\n",
      "train_loss 0.30984604358673096\n",
      "val results:\n",
      "Mean square error: 0.14206\n",
      "Mean absolute error: 0.15508\n",
      "train_loss 0.2395724058151245\n",
      "val results:\n",
      "Mean square error: 0.17258\n",
      "Mean absolute error: 0.17140\n",
      "train_loss 0.26218003034591675\n",
      "val results:\n",
      "Mean square error: 0.21105\n",
      "Mean absolute error: 0.19254\n",
      "train_loss 0.23706091940402985\n",
      "val results:\n",
      "Mean square error: 0.13059\n",
      "Mean absolute error: 0.14754\n",
      "train_loss 0.31610795855522156\n",
      "val results:\n",
      "Mean square error: 0.14622\n",
      "Mean absolute error: 0.15734\n",
      "train_loss 0.28514114022254944\n",
      "val results:\n",
      "Mean square error: 0.12852\n",
      "Mean absolute error: 0.14533\n",
      "\n",
      "epoch: 1\n"
     ]
    },
    {
     "data": {
      "application/vnd.jupyter.widget-view+json": {
       "model_id": "dad6e5e1e6ec4f54a5218d490b852a2e",
       "version_major": 2,
       "version_minor": 0
      },
      "text/plain": [
       "HBox(children=(FloatProgress(value=0.0, max=1721.0), HTML(value='')))"
      ]
     },
     "metadata": {},
     "output_type": "display_data"
    },
    {
     "name": "stdout",
     "output_type": "stream",
     "text": [
      "train_loss 0.2308236062526703\n",
      "val results:\n",
      "Mean square error: 0.14624\n",
      "Mean absolute error: 0.15745\n",
      "train_loss 0.3124167323112488\n",
      "val results:\n",
      "Mean square error: 0.10819\n",
      "Mean absolute error: 0.13268\n",
      "train_loss 0.20998071134090424\n",
      "val results:\n",
      "Mean square error: 0.09994\n",
      "Mean absolute error: 0.12701\n",
      "train_loss 0.2337658405303955\n",
      "val results:\n",
      "Mean square error: 0.13656\n",
      "Mean absolute error: 0.15002\n",
      "train_loss 0.2197832614183426\n",
      "val results:\n",
      "Mean square error: 0.09802\n",
      "Mean absolute error: 0.12665\n",
      "train_loss 0.20295287668704987\n",
      "val results:\n",
      "Mean square error: 0.08782\n",
      "Mean absolute error: 0.11810\n",
      "train_loss 0.18855951726436615\n",
      "val results:\n",
      "Mean square error: 0.09502\n",
      "Mean absolute error: 0.12342\n",
      "train_loss 0.2345656156539917\n",
      "val results:\n",
      "Mean square error: 0.09849\n",
      "Mean absolute error: 0.12485\n",
      "train_loss 0.23774179816246033\n",
      "val results:\n",
      "Mean square error: 0.09347\n",
      "Mean absolute error: 0.12143\n",
      "train_loss 0.15135852992534637\n",
      "val results:\n",
      "Mean square error: 0.10756\n",
      "Mean absolute error: 0.13113\n",
      "train_loss 0.16502515971660614\n",
      "val results:\n",
      "Mean square error: 0.10712\n",
      "Mean absolute error: 0.13208\n",
      "train_loss 0.1949859857559204\n",
      "val results:\n",
      "Mean square error: 0.08682\n",
      "Mean absolute error: 0.11649\n",
      "train_loss 0.20053447782993317\n",
      "val results:\n",
      "Mean square error: 0.09421\n",
      "Mean absolute error: 0.12309\n",
      "train_loss 0.19022665917873383\n",
      "val results:\n",
      "Mean square error: 0.11326\n",
      "Mean absolute error: 0.13506\n",
      "train_loss 0.18733705580234528\n",
      "val results:\n",
      "Mean square error: 0.11102\n",
      "Mean absolute error: 0.13592\n",
      "train_loss 0.16787223517894745\n",
      "val results:\n",
      "Mean square error: 0.07666\n",
      "Mean absolute error: 0.10860\n",
      "train_loss 0.23526394367218018\n",
      "val results:\n",
      "Mean square error: 0.09323\n",
      "Mean absolute error: 0.12187\n",
      "\n",
      "epoch: 2\n"
     ]
    },
    {
     "data": {
      "application/vnd.jupyter.widget-view+json": {
       "model_id": "2448562055a043e08fd4bbfc27fbfde2",
       "version_major": 2,
       "version_minor": 0
      },
      "text/plain": [
       "HBox(children=(FloatProgress(value=0.0, max=1721.0), HTML(value='')))"
      ]
     },
     "metadata": {},
     "output_type": "display_data"
    },
    {
     "name": "stdout",
     "output_type": "stream",
     "text": [
      "train_loss 0.14105388522148132\n",
      "val results:\n",
      "Mean square error: 0.06930\n",
      "Mean absolute error: 0.10377\n",
      "train_loss 0.18966911733150482\n",
      "val results:\n",
      "Mean square error: 0.07935\n",
      "Mean absolute error: 0.11128\n",
      "train_loss 0.1297878473997116\n",
      "val results:\n",
      "Mean square error: 0.06689\n",
      "Mean absolute error: 0.10197\n",
      "train_loss 0.21387675404548645\n",
      "val results:\n",
      "Mean square error: 0.06860\n",
      "Mean absolute error: 0.10325\n",
      "train_loss 0.1599457561969757\n",
      "val results:\n",
      "Mean square error: 0.07480\n",
      "Mean absolute error: 0.10818\n",
      "train_loss 0.15079322457313538\n",
      "val results:\n",
      "Mean square error: 0.05966\n",
      "Mean absolute error: 0.09743\n",
      "train_loss 0.1687903106212616\n",
      "val results:\n",
      "Mean square error: 0.08970\n",
      "Mean absolute error: 0.12177\n",
      "train_loss 0.18250615894794464\n",
      "val results:\n",
      "Mean square error: 0.08076\n",
      "Mean absolute error: 0.11318\n",
      "train_loss 0.16538399457931519\n",
      "val results:\n",
      "Mean square error: 0.06261\n",
      "Mean absolute error: 0.09836\n",
      "train_loss 0.11359822750091553\n",
      "val results:\n",
      "Mean square error: 0.07756\n",
      "Mean absolute error: 0.11076\n",
      "train_loss 0.1661820411682129\n",
      "val results:\n",
      "Mean square error: 0.08042\n",
      "Mean absolute error: 0.11447\n",
      "train_loss 0.14224472641944885\n",
      "val results:\n",
      "Mean square error: 0.07489\n",
      "Mean absolute error: 0.10906\n",
      "train_loss 0.15157866477966309\n",
      "val results:\n",
      "Mean square error: 0.08099\n",
      "Mean absolute error: 0.11423\n",
      "train_loss 0.17040157318115234\n",
      "val results:\n",
      "Mean square error: 0.06479\n",
      "Mean absolute error: 0.10122\n",
      "train_loss 0.15995129942893982\n",
      "val results:\n",
      "Mean square error: 0.07907\n",
      "Mean absolute error: 0.11376\n",
      "train_loss 0.19462382793426514\n",
      "val results:\n",
      "Mean square error: 0.07513\n",
      "Mean absolute error: 0.11148\n",
      "train_loss 0.21634003520011902\n",
      "val results:\n",
      "Mean square error: 0.10494\n",
      "Mean absolute error: 0.13691\n",
      "\n"
     ]
    }
   ],
   "source": [
    "model = SalaryPredictorwBatchNorm().to(DEVICE)\n",
    "criterion = nn.MSELoss(reduction='mean')\n",
    "optimizer = torch.optim.Adam(model.parameters(), lr=1e-3)\n",
    "list_mse_2 = []\n",
    "list_mae_2 = []\n",
    "train_loss_2 = []\n",
    "\n",
    "for epoch in range(EPOCHS):\n",
    "    print(f\"epoch: {epoch}\")\n",
    "    for i, batch in tqdm.notebook.tqdm(enumerate(\n",
    "            iterate_minibatches(\n",
    "                    data_train, \n",
    "                    batch_size=BATCH_SIZE, \n",
    "                    device=DEVICE)), \n",
    "                total=len(data_train) // BATCH_SIZE\n",
    "        ):\n",
    "        model.train()\n",
    "        pred = model(batch)\n",
    "        optimizer.zero_grad()\n",
    "        loss = criterion(pred, batch[TARGET_COLUMN])\n",
    "        loss.backward()\n",
    "        optimizer.step()\n",
    "\n",
    "        if i % 100 == 99:\n",
    "            print('train_loss', loss.item())\n",
    "            train_loss_2.append(loss.item())\n",
    "            print_metrics(model, data_val, list_mse=list_mse_2, list_mae=list_mae_2, \n",
    "                          name='val', batch_size=BATCH_SIZE, device=DEVICE)"
   ]
  },
  {
   "cell_type": "code",
   "execution_count": 35,
   "metadata": {},
   "outputs": [
    {
     "data": {
      "application/vnd.plotly.v1+json": {
       "config": {
        "linkText": "Export to plot.ly",
        "plotlyServerURL": "https://plot.ly",
        "showLink": false
       },
       "data": [
        {
         "mode": "lines",
         "name": "Train Loss",
         "showlegend": false,
         "type": "scatter",
         "x": [
          0,
          1,
          2,
          3,
          4,
          5,
          6,
          7,
          8,
          9,
          10,
          11,
          12,
          13,
          14,
          15,
          16,
          17,
          18,
          19,
          20,
          21,
          22,
          23,
          24,
          25,
          26,
          27,
          28,
          29,
          30,
          31,
          32,
          33,
          34,
          35,
          36,
          37,
          38,
          39,
          40,
          41,
          42,
          43,
          44,
          45,
          46,
          47,
          48,
          49,
          50
         ],
         "xaxis": "x",
         "y": [
          89.75553131103516,
          73.69219970703125,
          54.730716705322266,
          36.54741287231445,
          22.134138107299805,
          10.451841354370117,
          4.6217145919799805,
          1.5466071367263794,
          0.6198590397834778,
          0.7001397609710693,
          0.5077153444290161,
          0.30984604358673096,
          0.2395724058151245,
          0.26218003034591675,
          0.23706091940402985,
          0.31610795855522156,
          0.28514114022254944,
          0.2308236062526703,
          0.3124167323112488,
          0.20998071134090424,
          0.2337658405303955,
          0.2197832614183426,
          0.20295287668704987,
          0.18855951726436615,
          0.2345656156539917,
          0.23774179816246033,
          0.15135852992534637,
          0.16502515971660614,
          0.1949859857559204,
          0.20053447782993317,
          0.19022665917873383,
          0.18733705580234528,
          0.16787223517894745,
          0.23526394367218018,
          0.14105388522148132,
          0.18966911733150482,
          0.1297878473997116,
          0.21387675404548645,
          0.1599457561969757,
          0.15079322457313538,
          0.1687903106212616,
          0.18250615894794464,
          0.16538399457931519,
          0.11359822750091553,
          0.1661820411682129,
          0.14224472641944885,
          0.15157866477966309,
          0.17040157318115234,
          0.15995129942893982,
          0.19462382793426514,
          0.21634003520011902
         ],
         "yaxis": "y"
        },
        {
         "mode": "lines",
         "name": "MAE",
         "type": "scatter",
         "x": [
          0,
          1,
          2,
          3,
          4,
          5,
          6,
          7,
          8,
          9,
          10,
          11,
          12,
          13,
          14,
          15,
          16,
          17,
          18,
          19,
          20,
          21,
          22,
          23,
          24,
          25,
          26,
          27,
          28,
          29,
          30,
          31,
          32,
          33,
          34,
          35,
          36,
          37,
          38,
          39,
          40,
          41,
          42,
          43,
          44,
          45,
          46,
          47,
          48,
          49,
          50
         ],
         "xaxis": "x2",
         "y": [
          2.372578779856364,
          2.181818167368571,
          1.8664178848266602,
          1.5256330172220867,
          1.188352902730306,
          0.8327568372090658,
          0.598992665608724,
          0.44267261028289795,
          0.26005176703135174,
          0.1829702059427897,
          0.16215446591377258,
          0.1550826927026113,
          0.17139923572540283,
          0.19253695011138916,
          0.14754138390223184,
          0.1573382019996643,
          0.14532766739527384,
          0.15744938453038534,
          0.13268029689788818,
          0.12701486547787985,
          0.15001797676086426,
          0.12664751211802164,
          0.11810171604156494,
          0.12341936429341634,
          0.12484823664029439,
          0.1214258869489034,
          0.1311300297578176,
          0.1320840318997701,
          0.11649309595425923,
          0.12308837970097859,
          0.13506242632865906,
          0.13591558734575906,
          0.10860226551691692,
          0.12186951438585918,
          0.1037663718064626,
          0.11127738157908122,
          0.10197008649508159,
          0.103250652551651,
          0.10818480451901753,
          0.09742529193560283,
          0.12177234888076782,
          0.11317535241444905,
          0.09836302200953166,
          0.1107550064722697,
          0.1144661804040273,
          0.10906290014584859,
          0.11423096060752869,
          0.10121519366900127,
          0.11375520626703899,
          0.11148157715797424,
          0.13691171010335287
         ],
         "yaxis": "y2"
        },
        {
         "mode": "lines",
         "name": "MSE",
         "type": "scatter",
         "x": [
          0,
          1,
          2,
          3,
          4,
          5,
          6,
          7,
          8,
          9,
          10,
          11,
          12,
          13,
          14,
          15,
          16,
          17,
          18,
          19,
          20,
          21,
          22,
          23,
          24,
          25,
          26,
          27,
          28,
          29,
          30,
          31,
          32,
          33,
          34,
          35,
          36,
          37,
          38,
          39,
          40,
          41,
          42,
          43,
          44,
          45,
          46,
          47,
          48,
          49,
          50
         ],
         "xaxis": "x2",
         "y": [
          22.587359110514324,
          19.10618845621745,
          14.01104736328125,
          9.410298665364584,
          5.789766311645508,
          2.943547248840332,
          1.5984484354654949,
          0.952731211980184,
          0.3759189049402873,
          0.1947372555732727,
          0.15551188588142395,
          0.1420596440633138,
          0.1725849707921346,
          0.21105078856150308,
          0.13058902819951376,
          0.14621973037719727,
          0.12851693232854208,
          0.14624197284380594,
          0.1081933081150055,
          0.09994081656138103,
          0.13655966520309448,
          0.09801897406578064,
          0.08781593044598897,
          0.09501847624778748,
          0.0984869400660197,
          0.09347135821978252,
          0.10756085316340129,
          0.1071212887763977,
          0.08681654930114746,
          0.09421156843503316,
          0.11326321959495544,
          0.11101904511451721,
          0.07666016618410747,
          0.09322602550188701,
          0.06930254896481831,
          0.07935145994027455,
          0.06688614189624786,
          0.06860121587912242,
          0.07479891677697499,
          0.05965995788574219,
          0.08969991405804952,
          0.0807596246401469,
          0.06261373062928517,
          0.07755909363428752,
          0.08042339483896892,
          0.07488503555456798,
          0.08098897337913513,
          0.06478518744309743,
          0.07907060782114665,
          0.07512620588143666,
          0.10493772228558858
         ],
         "yaxis": "y2"
        }
       ],
       "layout": {
        "annotations": [
         {
          "font": {
           "size": 16
          },
          "showarrow": false,
          "text": "<b>Train Loss</b>",
          "x": 0.5,
          "xanchor": "center",
          "xref": "paper",
          "y": 1,
          "yanchor": "bottom",
          "yref": "paper"
         },
         {
          "font": {
           "size": 16
          },
          "showarrow": false,
          "text": "<b>Test Metrics</b>",
          "x": 0.5,
          "xanchor": "center",
          "xref": "paper",
          "y": 0.375,
          "yanchor": "bottom",
          "yref": "paper"
         }
        ],
        "autosize": false,
        "height": 780,
        "legend": {
         "x": 1,
         "y": 0.15
        },
        "margin": {
         "b": 270
        },
        "paper_bgcolor": "rgba(240, 240, 240, 0.95)",
        "plot_bgcolor": "rgba(240, 240, 240, 0.95)",
        "template": {
         "data": {
          "bar": [
           {
            "error_x": {
             "color": "#2a3f5f"
            },
            "error_y": {
             "color": "#2a3f5f"
            },
            "marker": {
             "line": {
              "color": "#E5ECF6",
              "width": 0.5
             }
            },
            "type": "bar"
           }
          ],
          "barpolar": [
           {
            "marker": {
             "line": {
              "color": "#E5ECF6",
              "width": 0.5
             }
            },
            "type": "barpolar"
           }
          ],
          "carpet": [
           {
            "aaxis": {
             "endlinecolor": "#2a3f5f",
             "gridcolor": "white",
             "linecolor": "white",
             "minorgridcolor": "white",
             "startlinecolor": "#2a3f5f"
            },
            "baxis": {
             "endlinecolor": "#2a3f5f",
             "gridcolor": "white",
             "linecolor": "white",
             "minorgridcolor": "white",
             "startlinecolor": "#2a3f5f"
            },
            "type": "carpet"
           }
          ],
          "choropleth": [
           {
            "colorbar": {
             "outlinewidth": 0,
             "ticks": ""
            },
            "type": "choropleth"
           }
          ],
          "contour": [
           {
            "colorbar": {
             "outlinewidth": 0,
             "ticks": ""
            },
            "colorscale": [
             [
              0,
              "#0d0887"
             ],
             [
              0.1111111111111111,
              "#46039f"
             ],
             [
              0.2222222222222222,
              "#7201a8"
             ],
             [
              0.3333333333333333,
              "#9c179e"
             ],
             [
              0.4444444444444444,
              "#bd3786"
             ],
             [
              0.5555555555555556,
              "#d8576b"
             ],
             [
              0.6666666666666666,
              "#ed7953"
             ],
             [
              0.7777777777777778,
              "#fb9f3a"
             ],
             [
              0.8888888888888888,
              "#fdca26"
             ],
             [
              1,
              "#f0f921"
             ]
            ],
            "type": "contour"
           }
          ],
          "contourcarpet": [
           {
            "colorbar": {
             "outlinewidth": 0,
             "ticks": ""
            },
            "type": "contourcarpet"
           }
          ],
          "heatmap": [
           {
            "colorbar": {
             "outlinewidth": 0,
             "ticks": ""
            },
            "colorscale": [
             [
              0,
              "#0d0887"
             ],
             [
              0.1111111111111111,
              "#46039f"
             ],
             [
              0.2222222222222222,
              "#7201a8"
             ],
             [
              0.3333333333333333,
              "#9c179e"
             ],
             [
              0.4444444444444444,
              "#bd3786"
             ],
             [
              0.5555555555555556,
              "#d8576b"
             ],
             [
              0.6666666666666666,
              "#ed7953"
             ],
             [
              0.7777777777777778,
              "#fb9f3a"
             ],
             [
              0.8888888888888888,
              "#fdca26"
             ],
             [
              1,
              "#f0f921"
             ]
            ],
            "type": "heatmap"
           }
          ],
          "heatmapgl": [
           {
            "colorbar": {
             "outlinewidth": 0,
             "ticks": ""
            },
            "colorscale": [
             [
              0,
              "#0d0887"
             ],
             [
              0.1111111111111111,
              "#46039f"
             ],
             [
              0.2222222222222222,
              "#7201a8"
             ],
             [
              0.3333333333333333,
              "#9c179e"
             ],
             [
              0.4444444444444444,
              "#bd3786"
             ],
             [
              0.5555555555555556,
              "#d8576b"
             ],
             [
              0.6666666666666666,
              "#ed7953"
             ],
             [
              0.7777777777777778,
              "#fb9f3a"
             ],
             [
              0.8888888888888888,
              "#fdca26"
             ],
             [
              1,
              "#f0f921"
             ]
            ],
            "type": "heatmapgl"
           }
          ],
          "histogram": [
           {
            "marker": {
             "colorbar": {
              "outlinewidth": 0,
              "ticks": ""
             }
            },
            "type": "histogram"
           }
          ],
          "histogram2d": [
           {
            "colorbar": {
             "outlinewidth": 0,
             "ticks": ""
            },
            "colorscale": [
             [
              0,
              "#0d0887"
             ],
             [
              0.1111111111111111,
              "#46039f"
             ],
             [
              0.2222222222222222,
              "#7201a8"
             ],
             [
              0.3333333333333333,
              "#9c179e"
             ],
             [
              0.4444444444444444,
              "#bd3786"
             ],
             [
              0.5555555555555556,
              "#d8576b"
             ],
             [
              0.6666666666666666,
              "#ed7953"
             ],
             [
              0.7777777777777778,
              "#fb9f3a"
             ],
             [
              0.8888888888888888,
              "#fdca26"
             ],
             [
              1,
              "#f0f921"
             ]
            ],
            "type": "histogram2d"
           }
          ],
          "histogram2dcontour": [
           {
            "colorbar": {
             "outlinewidth": 0,
             "ticks": ""
            },
            "colorscale": [
             [
              0,
              "#0d0887"
             ],
             [
              0.1111111111111111,
              "#46039f"
             ],
             [
              0.2222222222222222,
              "#7201a8"
             ],
             [
              0.3333333333333333,
              "#9c179e"
             ],
             [
              0.4444444444444444,
              "#bd3786"
             ],
             [
              0.5555555555555556,
              "#d8576b"
             ],
             [
              0.6666666666666666,
              "#ed7953"
             ],
             [
              0.7777777777777778,
              "#fb9f3a"
             ],
             [
              0.8888888888888888,
              "#fdca26"
             ],
             [
              1,
              "#f0f921"
             ]
            ],
            "type": "histogram2dcontour"
           }
          ],
          "mesh3d": [
           {
            "colorbar": {
             "outlinewidth": 0,
             "ticks": ""
            },
            "type": "mesh3d"
           }
          ],
          "parcoords": [
           {
            "line": {
             "colorbar": {
              "outlinewidth": 0,
              "ticks": ""
             }
            },
            "type": "parcoords"
           }
          ],
          "pie": [
           {
            "automargin": true,
            "type": "pie"
           }
          ],
          "scatter": [
           {
            "marker": {
             "colorbar": {
              "outlinewidth": 0,
              "ticks": ""
             }
            },
            "type": "scatter"
           }
          ],
          "scatter3d": [
           {
            "line": {
             "colorbar": {
              "outlinewidth": 0,
              "ticks": ""
             }
            },
            "marker": {
             "colorbar": {
              "outlinewidth": 0,
              "ticks": ""
             }
            },
            "type": "scatter3d"
           }
          ],
          "scattercarpet": [
           {
            "marker": {
             "colorbar": {
              "outlinewidth": 0,
              "ticks": ""
             }
            },
            "type": "scattercarpet"
           }
          ],
          "scattergeo": [
           {
            "marker": {
             "colorbar": {
              "outlinewidth": 0,
              "ticks": ""
             }
            },
            "type": "scattergeo"
           }
          ],
          "scattergl": [
           {
            "marker": {
             "colorbar": {
              "outlinewidth": 0,
              "ticks": ""
             }
            },
            "type": "scattergl"
           }
          ],
          "scattermapbox": [
           {
            "marker": {
             "colorbar": {
              "outlinewidth": 0,
              "ticks": ""
             }
            },
            "type": "scattermapbox"
           }
          ],
          "scatterpolar": [
           {
            "marker": {
             "colorbar": {
              "outlinewidth": 0,
              "ticks": ""
             }
            },
            "type": "scatterpolar"
           }
          ],
          "scatterpolargl": [
           {
            "marker": {
             "colorbar": {
              "outlinewidth": 0,
              "ticks": ""
             }
            },
            "type": "scatterpolargl"
           }
          ],
          "scatterternary": [
           {
            "marker": {
             "colorbar": {
              "outlinewidth": 0,
              "ticks": ""
             }
            },
            "type": "scatterternary"
           }
          ],
          "surface": [
           {
            "colorbar": {
             "outlinewidth": 0,
             "ticks": ""
            },
            "colorscale": [
             [
              0,
              "#0d0887"
             ],
             [
              0.1111111111111111,
              "#46039f"
             ],
             [
              0.2222222222222222,
              "#7201a8"
             ],
             [
              0.3333333333333333,
              "#9c179e"
             ],
             [
              0.4444444444444444,
              "#bd3786"
             ],
             [
              0.5555555555555556,
              "#d8576b"
             ],
             [
              0.6666666666666666,
              "#ed7953"
             ],
             [
              0.7777777777777778,
              "#fb9f3a"
             ],
             [
              0.8888888888888888,
              "#fdca26"
             ],
             [
              1,
              "#f0f921"
             ]
            ],
            "type": "surface"
           }
          ],
          "table": [
           {
            "cells": {
             "fill": {
              "color": "#EBF0F8"
             },
             "line": {
              "color": "white"
             }
            },
            "header": {
             "fill": {
              "color": "#C8D4E3"
             },
             "line": {
              "color": "white"
             }
            },
            "type": "table"
           }
          ]
         },
         "layout": {
          "annotationdefaults": {
           "arrowcolor": "#2a3f5f",
           "arrowhead": 0,
           "arrowwidth": 1
          },
          "coloraxis": {
           "colorbar": {
            "outlinewidth": 0,
            "ticks": ""
           }
          },
          "colorscale": {
           "diverging": [
            [
             0,
             "#8e0152"
            ],
            [
             0.1,
             "#c51b7d"
            ],
            [
             0.2,
             "#de77ae"
            ],
            [
             0.3,
             "#f1b6da"
            ],
            [
             0.4,
             "#fde0ef"
            ],
            [
             0.5,
             "#f7f7f7"
            ],
            [
             0.6,
             "#e6f5d0"
            ],
            [
             0.7,
             "#b8e186"
            ],
            [
             0.8,
             "#7fbc41"
            ],
            [
             0.9,
             "#4d9221"
            ],
            [
             1,
             "#276419"
            ]
           ],
           "sequential": [
            [
             0,
             "#0d0887"
            ],
            [
             0.1111111111111111,
             "#46039f"
            ],
            [
             0.2222222222222222,
             "#7201a8"
            ],
            [
             0.3333333333333333,
             "#9c179e"
            ],
            [
             0.4444444444444444,
             "#bd3786"
            ],
            [
             0.5555555555555556,
             "#d8576b"
            ],
            [
             0.6666666666666666,
             "#ed7953"
            ],
            [
             0.7777777777777778,
             "#fb9f3a"
            ],
            [
             0.8888888888888888,
             "#fdca26"
            ],
            [
             1,
             "#f0f921"
            ]
           ],
           "sequentialminus": [
            [
             0,
             "#0d0887"
            ],
            [
             0.1111111111111111,
             "#46039f"
            ],
            [
             0.2222222222222222,
             "#7201a8"
            ],
            [
             0.3333333333333333,
             "#9c179e"
            ],
            [
             0.4444444444444444,
             "#bd3786"
            ],
            [
             0.5555555555555556,
             "#d8576b"
            ],
            [
             0.6666666666666666,
             "#ed7953"
            ],
            [
             0.7777777777777778,
             "#fb9f3a"
            ],
            [
             0.8888888888888888,
             "#fdca26"
            ],
            [
             1,
             "#f0f921"
            ]
           ]
          },
          "colorway": [
           "#636efa",
           "#EF553B",
           "#00cc96",
           "#ab63fa",
           "#FFA15A",
           "#19d3f3",
           "#FF6692",
           "#B6E880",
           "#FF97FF",
           "#FECB52"
          ],
          "font": {
           "color": "#2a3f5f"
          },
          "geo": {
           "bgcolor": "white",
           "lakecolor": "white",
           "landcolor": "#E5ECF6",
           "showlakes": true,
           "showland": true,
           "subunitcolor": "white"
          },
          "hoverlabel": {
           "align": "left"
          },
          "hovermode": "closest",
          "mapbox": {
           "style": "light"
          },
          "paper_bgcolor": "white",
          "plot_bgcolor": "#E5ECF6",
          "polar": {
           "angularaxis": {
            "gridcolor": "white",
            "linecolor": "white",
            "ticks": ""
           },
           "bgcolor": "#E5ECF6",
           "radialaxis": {
            "gridcolor": "white",
            "linecolor": "white",
            "ticks": ""
           }
          },
          "scene": {
           "xaxis": {
            "backgroundcolor": "#E5ECF6",
            "gridcolor": "white",
            "gridwidth": 2,
            "linecolor": "white",
            "showbackground": true,
            "ticks": "",
            "zerolinecolor": "white"
           },
           "yaxis": {
            "backgroundcolor": "#E5ECF6",
            "gridcolor": "white",
            "gridwidth": 2,
            "linecolor": "white",
            "showbackground": true,
            "ticks": "",
            "zerolinecolor": "white"
           },
           "zaxis": {
            "backgroundcolor": "#E5ECF6",
            "gridcolor": "white",
            "gridwidth": 2,
            "linecolor": "white",
            "showbackground": true,
            "ticks": "",
            "zerolinecolor": "white"
           }
          },
          "shapedefaults": {
           "line": {
            "color": "#2a3f5f"
           }
          },
          "ternary": {
           "aaxis": {
            "gridcolor": "white",
            "linecolor": "white",
            "ticks": ""
           },
           "baxis": {
            "gridcolor": "white",
            "linecolor": "white",
            "ticks": ""
           },
           "bgcolor": "#E5ECF6",
           "caxis": {
            "gridcolor": "white",
            "linecolor": "white",
            "ticks": ""
           }
          },
          "title": {
           "x": 0.05
          },
          "xaxis": {
           "automargin": true,
           "gridcolor": "white",
           "linecolor": "white",
           "ticks": "",
           "title": {
            "standoff": 15
           },
           "zerolinecolor": "white",
           "zerolinewidth": 2
          },
          "yaxis": {
           "automargin": true,
           "gridcolor": "white",
           "linecolor": "white",
           "ticks": "",
           "title": {
            "standoff": 15
           },
           "zerolinecolor": "white",
           "zerolinewidth": 2
          }
         }
        },
        "title": {
         "text": "<b>Model performance report</b><br>Salary Predictor with BatchNorm<br><br><br><br><br><br><br><br><br><br><br><br><br><br><br><br><br><br><br><br><br><br><br><br><b><i>Train Loss Stat Values:</i></b><br>Max: 89.76   Mean: 5.95   Min: 0.11   Median: 0.21   Var: 326.26<br><br><b><i>Mean Absolute Error Stat Values:</i></b><br>Max: 2.37   Mean: 0.33   Min: 0.10   Median: 0.13   Var: 0.28<br><br><b><i>Mean Mean Squared Error Stat Values:</i></b><br>Max: 22.59   Mean: 1.59   Min: 0.06   Median: 0.10   Var: 21.13",
         "x": 0.5,
         "xanchor": "center",
         "y": 0.95,
         "yanchor": "top"
        },
        "width": 900,
        "xaxis": {
         "anchor": "y",
         "domain": [
          0,
          1
         ]
        },
        "xaxis2": {
         "anchor": "y2",
         "domain": [
          0,
          1
         ]
        },
        "yaxis": {
         "anchor": "x",
         "domain": [
          0.625,
          1
         ],
         "range": [
          0,
          1
         ]
        },
        "yaxis2": {
         "anchor": "x2",
         "domain": [
          0,
          0.375
         ],
         "range": [
          0,
          1
         ]
        }
       }
      },
      "text/html": [
       "<div>                            <div id=\"1bb5a339-729c-4596-b92a-2f29ae5d5754\" class=\"plotly-graph-div\" style=\"height:780px; width:900px;\"></div>            <script type=\"text/javascript\">                require([\"plotly\"], function(Plotly) {                    window.PLOTLYENV=window.PLOTLYENV || {};                                    if (document.getElementById(\"1bb5a339-729c-4596-b92a-2f29ae5d5754\")) {                    Plotly.newPlot(                        \"1bb5a339-729c-4596-b92a-2f29ae5d5754\",                        [{\"mode\": \"lines\", \"name\": \"Train Loss\", \"showlegend\": false, \"type\": \"scatter\", \"x\": [0, 1, 2, 3, 4, 5, 6, 7, 8, 9, 10, 11, 12, 13, 14, 15, 16, 17, 18, 19, 20, 21, 22, 23, 24, 25, 26, 27, 28, 29, 30, 31, 32, 33, 34, 35, 36, 37, 38, 39, 40, 41, 42, 43, 44, 45, 46, 47, 48, 49, 50], \"xaxis\": \"x\", \"y\": [89.75553131103516, 73.69219970703125, 54.730716705322266, 36.54741287231445, 22.134138107299805, 10.451841354370117, 4.6217145919799805, 1.5466071367263794, 0.6198590397834778, 0.7001397609710693, 0.5077153444290161, 0.30984604358673096, 0.2395724058151245, 0.26218003034591675, 0.23706091940402985, 0.31610795855522156, 0.28514114022254944, 0.2308236062526703, 0.3124167323112488, 0.20998071134090424, 0.2337658405303955, 0.2197832614183426, 0.20295287668704987, 0.18855951726436615, 0.2345656156539917, 0.23774179816246033, 0.15135852992534637, 0.16502515971660614, 0.1949859857559204, 0.20053447782993317, 0.19022665917873383, 0.18733705580234528, 0.16787223517894745, 0.23526394367218018, 0.14105388522148132, 0.18966911733150482, 0.1297878473997116, 0.21387675404548645, 0.1599457561969757, 0.15079322457313538, 0.1687903106212616, 0.18250615894794464, 0.16538399457931519, 0.11359822750091553, 0.1661820411682129, 0.14224472641944885, 0.15157866477966309, 0.17040157318115234, 0.15995129942893982, 0.19462382793426514, 0.21634003520011902], \"yaxis\": \"y\"}, {\"mode\": \"lines\", \"name\": \"MAE\", \"type\": \"scatter\", \"x\": [0, 1, 2, 3, 4, 5, 6, 7, 8, 9, 10, 11, 12, 13, 14, 15, 16, 17, 18, 19, 20, 21, 22, 23, 24, 25, 26, 27, 28, 29, 30, 31, 32, 33, 34, 35, 36, 37, 38, 39, 40, 41, 42, 43, 44, 45, 46, 47, 48, 49, 50], \"xaxis\": \"x2\", \"y\": [2.372578779856364, 2.181818167368571, 1.8664178848266602, 1.5256330172220867, 1.188352902730306, 0.8327568372090658, 0.598992665608724, 0.44267261028289795, 0.26005176703135174, 0.1829702059427897, 0.16215446591377258, 0.1550826927026113, 0.17139923572540283, 0.19253695011138916, 0.14754138390223184, 0.1573382019996643, 0.14532766739527384, 0.15744938453038534, 0.13268029689788818, 0.12701486547787985, 0.15001797676086426, 0.12664751211802164, 0.11810171604156494, 0.12341936429341634, 0.12484823664029439, 0.1214258869489034, 0.1311300297578176, 0.1320840318997701, 0.11649309595425923, 0.12308837970097859, 0.13506242632865906, 0.13591558734575906, 0.10860226551691692, 0.12186951438585918, 0.1037663718064626, 0.11127738157908122, 0.10197008649508159, 0.103250652551651, 0.10818480451901753, 0.09742529193560283, 0.12177234888076782, 0.11317535241444905, 0.09836302200953166, 0.1107550064722697, 0.1144661804040273, 0.10906290014584859, 0.11423096060752869, 0.10121519366900127, 0.11375520626703899, 0.11148157715797424, 0.13691171010335287], \"yaxis\": \"y2\"}, {\"mode\": \"lines\", \"name\": \"MSE\", \"type\": \"scatter\", \"x\": [0, 1, 2, 3, 4, 5, 6, 7, 8, 9, 10, 11, 12, 13, 14, 15, 16, 17, 18, 19, 20, 21, 22, 23, 24, 25, 26, 27, 28, 29, 30, 31, 32, 33, 34, 35, 36, 37, 38, 39, 40, 41, 42, 43, 44, 45, 46, 47, 48, 49, 50], \"xaxis\": \"x2\", \"y\": [22.587359110514324, 19.10618845621745, 14.01104736328125, 9.410298665364584, 5.789766311645508, 2.943547248840332, 1.5984484354654949, 0.952731211980184, 0.3759189049402873, 0.1947372555732727, 0.15551188588142395, 0.1420596440633138, 0.1725849707921346, 0.21105078856150308, 0.13058902819951376, 0.14621973037719727, 0.12851693232854208, 0.14624197284380594, 0.1081933081150055, 0.09994081656138103, 0.13655966520309448, 0.09801897406578064, 0.08781593044598897, 0.09501847624778748, 0.0984869400660197, 0.09347135821978252, 0.10756085316340129, 0.1071212887763977, 0.08681654930114746, 0.09421156843503316, 0.11326321959495544, 0.11101904511451721, 0.07666016618410747, 0.09322602550188701, 0.06930254896481831, 0.07935145994027455, 0.06688614189624786, 0.06860121587912242, 0.07479891677697499, 0.05965995788574219, 0.08969991405804952, 0.0807596246401469, 0.06261373062928517, 0.07755909363428752, 0.08042339483896892, 0.07488503555456798, 0.08098897337913513, 0.06478518744309743, 0.07907060782114665, 0.07512620588143666, 0.10493772228558858], \"yaxis\": \"y2\"}],                        {\"annotations\": [{\"font\": {\"size\": 16}, \"showarrow\": false, \"text\": \"<b>Train Loss</b>\", \"x\": 0.5, \"xanchor\": \"center\", \"xref\": \"paper\", \"y\": 1.0, \"yanchor\": \"bottom\", \"yref\": \"paper\"}, {\"font\": {\"size\": 16}, \"showarrow\": false, \"text\": \"<b>Test Metrics</b>\", \"x\": 0.5, \"xanchor\": \"center\", \"xref\": \"paper\", \"y\": 0.375, \"yanchor\": \"bottom\", \"yref\": \"paper\"}], \"autosize\": false, \"height\": 780, \"legend\": {\"x\": 1, \"y\": 0.15}, \"margin\": {\"b\": 270}, \"paper_bgcolor\": \"rgba(240, 240, 240, 0.95)\", \"plot_bgcolor\": \"rgba(240, 240, 240, 0.95)\", \"template\": {\"data\": {\"bar\": [{\"error_x\": {\"color\": \"#2a3f5f\"}, \"error_y\": {\"color\": \"#2a3f5f\"}, \"marker\": {\"line\": {\"color\": \"#E5ECF6\", \"width\": 0.5}}, \"type\": \"bar\"}], \"barpolar\": [{\"marker\": {\"line\": {\"color\": \"#E5ECF6\", \"width\": 0.5}}, \"type\": \"barpolar\"}], \"carpet\": [{\"aaxis\": {\"endlinecolor\": \"#2a3f5f\", \"gridcolor\": \"white\", \"linecolor\": \"white\", \"minorgridcolor\": \"white\", \"startlinecolor\": \"#2a3f5f\"}, \"baxis\": {\"endlinecolor\": \"#2a3f5f\", \"gridcolor\": \"white\", \"linecolor\": \"white\", \"minorgridcolor\": \"white\", \"startlinecolor\": \"#2a3f5f\"}, \"type\": \"carpet\"}], \"choropleth\": [{\"colorbar\": {\"outlinewidth\": 0, \"ticks\": \"\"}, \"type\": \"choropleth\"}], \"contour\": [{\"colorbar\": {\"outlinewidth\": 0, \"ticks\": \"\"}, \"colorscale\": [[0.0, \"#0d0887\"], [0.1111111111111111, \"#46039f\"], [0.2222222222222222, \"#7201a8\"], [0.3333333333333333, \"#9c179e\"], [0.4444444444444444, \"#bd3786\"], [0.5555555555555556, \"#d8576b\"], [0.6666666666666666, \"#ed7953\"], [0.7777777777777778, \"#fb9f3a\"], [0.8888888888888888, \"#fdca26\"], [1.0, \"#f0f921\"]], \"type\": \"contour\"}], \"contourcarpet\": [{\"colorbar\": {\"outlinewidth\": 0, \"ticks\": \"\"}, \"type\": \"contourcarpet\"}], \"heatmap\": [{\"colorbar\": {\"outlinewidth\": 0, \"ticks\": \"\"}, \"colorscale\": [[0.0, \"#0d0887\"], [0.1111111111111111, \"#46039f\"], [0.2222222222222222, \"#7201a8\"], [0.3333333333333333, \"#9c179e\"], [0.4444444444444444, \"#bd3786\"], [0.5555555555555556, \"#d8576b\"], [0.6666666666666666, \"#ed7953\"], [0.7777777777777778, \"#fb9f3a\"], [0.8888888888888888, \"#fdca26\"], [1.0, \"#f0f921\"]], \"type\": \"heatmap\"}], \"heatmapgl\": [{\"colorbar\": {\"outlinewidth\": 0, \"ticks\": \"\"}, \"colorscale\": [[0.0, \"#0d0887\"], [0.1111111111111111, \"#46039f\"], [0.2222222222222222, \"#7201a8\"], [0.3333333333333333, \"#9c179e\"], [0.4444444444444444, \"#bd3786\"], [0.5555555555555556, \"#d8576b\"], [0.6666666666666666, \"#ed7953\"], [0.7777777777777778, \"#fb9f3a\"], [0.8888888888888888, \"#fdca26\"], [1.0, \"#f0f921\"]], \"type\": \"heatmapgl\"}], \"histogram\": [{\"marker\": {\"colorbar\": {\"outlinewidth\": 0, \"ticks\": \"\"}}, \"type\": \"histogram\"}], \"histogram2d\": [{\"colorbar\": {\"outlinewidth\": 0, \"ticks\": \"\"}, \"colorscale\": [[0.0, \"#0d0887\"], [0.1111111111111111, \"#46039f\"], [0.2222222222222222, \"#7201a8\"], [0.3333333333333333, \"#9c179e\"], [0.4444444444444444, \"#bd3786\"], [0.5555555555555556, \"#d8576b\"], [0.6666666666666666, \"#ed7953\"], [0.7777777777777778, \"#fb9f3a\"], [0.8888888888888888, \"#fdca26\"], [1.0, \"#f0f921\"]], \"type\": \"histogram2d\"}], \"histogram2dcontour\": [{\"colorbar\": {\"outlinewidth\": 0, \"ticks\": \"\"}, \"colorscale\": [[0.0, \"#0d0887\"], [0.1111111111111111, \"#46039f\"], [0.2222222222222222, \"#7201a8\"], [0.3333333333333333, \"#9c179e\"], [0.4444444444444444, \"#bd3786\"], [0.5555555555555556, \"#d8576b\"], [0.6666666666666666, \"#ed7953\"], [0.7777777777777778, \"#fb9f3a\"], [0.8888888888888888, \"#fdca26\"], [1.0, \"#f0f921\"]], \"type\": \"histogram2dcontour\"}], \"mesh3d\": [{\"colorbar\": {\"outlinewidth\": 0, \"ticks\": \"\"}, \"type\": \"mesh3d\"}], \"parcoords\": [{\"line\": {\"colorbar\": {\"outlinewidth\": 0, \"ticks\": \"\"}}, \"type\": \"parcoords\"}], \"pie\": [{\"automargin\": true, \"type\": \"pie\"}], \"scatter\": [{\"marker\": {\"colorbar\": {\"outlinewidth\": 0, \"ticks\": \"\"}}, \"type\": \"scatter\"}], \"scatter3d\": [{\"line\": {\"colorbar\": {\"outlinewidth\": 0, \"ticks\": \"\"}}, \"marker\": {\"colorbar\": {\"outlinewidth\": 0, \"ticks\": \"\"}}, \"type\": \"scatter3d\"}], \"scattercarpet\": [{\"marker\": {\"colorbar\": {\"outlinewidth\": 0, \"ticks\": \"\"}}, \"type\": \"scattercarpet\"}], \"scattergeo\": [{\"marker\": {\"colorbar\": {\"outlinewidth\": 0, \"ticks\": \"\"}}, \"type\": \"scattergeo\"}], \"scattergl\": [{\"marker\": {\"colorbar\": {\"outlinewidth\": 0, \"ticks\": \"\"}}, \"type\": \"scattergl\"}], \"scattermapbox\": [{\"marker\": {\"colorbar\": {\"outlinewidth\": 0, \"ticks\": \"\"}}, \"type\": \"scattermapbox\"}], \"scatterpolar\": [{\"marker\": {\"colorbar\": {\"outlinewidth\": 0, \"ticks\": \"\"}}, \"type\": \"scatterpolar\"}], \"scatterpolargl\": [{\"marker\": {\"colorbar\": {\"outlinewidth\": 0, \"ticks\": \"\"}}, \"type\": \"scatterpolargl\"}], \"scatterternary\": [{\"marker\": {\"colorbar\": {\"outlinewidth\": 0, \"ticks\": \"\"}}, \"type\": \"scatterternary\"}], \"surface\": [{\"colorbar\": {\"outlinewidth\": 0, \"ticks\": \"\"}, \"colorscale\": [[0.0, \"#0d0887\"], [0.1111111111111111, \"#46039f\"], [0.2222222222222222, \"#7201a8\"], [0.3333333333333333, \"#9c179e\"], [0.4444444444444444, \"#bd3786\"], [0.5555555555555556, \"#d8576b\"], [0.6666666666666666, \"#ed7953\"], [0.7777777777777778, \"#fb9f3a\"], [0.8888888888888888, \"#fdca26\"], [1.0, \"#f0f921\"]], \"type\": \"surface\"}], \"table\": [{\"cells\": {\"fill\": {\"color\": \"#EBF0F8\"}, \"line\": {\"color\": \"white\"}}, \"header\": {\"fill\": {\"color\": \"#C8D4E3\"}, \"line\": {\"color\": \"white\"}}, \"type\": \"table\"}]}, \"layout\": {\"annotationdefaults\": {\"arrowcolor\": \"#2a3f5f\", \"arrowhead\": 0, \"arrowwidth\": 1}, \"coloraxis\": {\"colorbar\": {\"outlinewidth\": 0, \"ticks\": \"\"}}, \"colorscale\": {\"diverging\": [[0, \"#8e0152\"], [0.1, \"#c51b7d\"], [0.2, \"#de77ae\"], [0.3, \"#f1b6da\"], [0.4, \"#fde0ef\"], [0.5, \"#f7f7f7\"], [0.6, \"#e6f5d0\"], [0.7, \"#b8e186\"], [0.8, \"#7fbc41\"], [0.9, \"#4d9221\"], [1, \"#276419\"]], \"sequential\": [[0.0, \"#0d0887\"], [0.1111111111111111, \"#46039f\"], [0.2222222222222222, \"#7201a8\"], [0.3333333333333333, \"#9c179e\"], [0.4444444444444444, \"#bd3786\"], [0.5555555555555556, \"#d8576b\"], [0.6666666666666666, \"#ed7953\"], [0.7777777777777778, \"#fb9f3a\"], [0.8888888888888888, \"#fdca26\"], [1.0, \"#f0f921\"]], \"sequentialminus\": [[0.0, \"#0d0887\"], [0.1111111111111111, \"#46039f\"], [0.2222222222222222, \"#7201a8\"], [0.3333333333333333, \"#9c179e\"], [0.4444444444444444, \"#bd3786\"], [0.5555555555555556, \"#d8576b\"], [0.6666666666666666, \"#ed7953\"], [0.7777777777777778, \"#fb9f3a\"], [0.8888888888888888, \"#fdca26\"], [1.0, \"#f0f921\"]]}, \"colorway\": [\"#636efa\", \"#EF553B\", \"#00cc96\", \"#ab63fa\", \"#FFA15A\", \"#19d3f3\", \"#FF6692\", \"#B6E880\", \"#FF97FF\", \"#FECB52\"], \"font\": {\"color\": \"#2a3f5f\"}, \"geo\": {\"bgcolor\": \"white\", \"lakecolor\": \"white\", \"landcolor\": \"#E5ECF6\", \"showlakes\": true, \"showland\": true, \"subunitcolor\": \"white\"}, \"hoverlabel\": {\"align\": \"left\"}, \"hovermode\": \"closest\", \"mapbox\": {\"style\": \"light\"}, \"paper_bgcolor\": \"white\", \"plot_bgcolor\": \"#E5ECF6\", \"polar\": {\"angularaxis\": {\"gridcolor\": \"white\", \"linecolor\": \"white\", \"ticks\": \"\"}, \"bgcolor\": \"#E5ECF6\", \"radialaxis\": {\"gridcolor\": \"white\", \"linecolor\": \"white\", \"ticks\": \"\"}}, \"scene\": {\"xaxis\": {\"backgroundcolor\": \"#E5ECF6\", \"gridcolor\": \"white\", \"gridwidth\": 2, \"linecolor\": \"white\", \"showbackground\": true, \"ticks\": \"\", \"zerolinecolor\": \"white\"}, \"yaxis\": {\"backgroundcolor\": \"#E5ECF6\", \"gridcolor\": \"white\", \"gridwidth\": 2, \"linecolor\": \"white\", \"showbackground\": true, \"ticks\": \"\", \"zerolinecolor\": \"white\"}, \"zaxis\": {\"backgroundcolor\": \"#E5ECF6\", \"gridcolor\": \"white\", \"gridwidth\": 2, \"linecolor\": \"white\", \"showbackground\": true, \"ticks\": \"\", \"zerolinecolor\": \"white\"}}, \"shapedefaults\": {\"line\": {\"color\": \"#2a3f5f\"}}, \"ternary\": {\"aaxis\": {\"gridcolor\": \"white\", \"linecolor\": \"white\", \"ticks\": \"\"}, \"baxis\": {\"gridcolor\": \"white\", \"linecolor\": \"white\", \"ticks\": \"\"}, \"bgcolor\": \"#E5ECF6\", \"caxis\": {\"gridcolor\": \"white\", \"linecolor\": \"white\", \"ticks\": \"\"}}, \"title\": {\"x\": 0.05}, \"xaxis\": {\"automargin\": true, \"gridcolor\": \"white\", \"linecolor\": \"white\", \"ticks\": \"\", \"title\": {\"standoff\": 15}, \"zerolinecolor\": \"white\", \"zerolinewidth\": 2}, \"yaxis\": {\"automargin\": true, \"gridcolor\": \"white\", \"linecolor\": \"white\", \"ticks\": \"\", \"title\": {\"standoff\": 15}, \"zerolinecolor\": \"white\", \"zerolinewidth\": 2}}}, \"title\": {\"text\": \"<b>Model performance report</b><br>Salary Predictor with BatchNorm<br><br><br><br><br><br><br><br><br><br><br><br><br><br><br><br><br><br><br><br><br><br><br><br><b><i>Train Loss Stat Values:</i></b><br>Max: 89.76   Mean: 5.95   Min: 0.11   Median: 0.21   Var: 326.26<br><br><b><i>Mean Absolute Error Stat Values:</i></b><br>Max: 2.37   Mean: 0.33   Min: 0.10   Median: 0.13   Var: 0.28<br><br><b><i>Mean Mean Squared Error Stat Values:</i></b><br>Max: 22.59   Mean: 1.59   Min: 0.06   Median: 0.10   Var: 21.13\", \"x\": 0.5, \"xanchor\": \"center\", \"y\": 0.95, \"yanchor\": \"top\"}, \"width\": 900, \"xaxis\": {\"anchor\": \"y\", \"domain\": [0.0, 1.0]}, \"xaxis2\": {\"anchor\": \"y2\", \"domain\": [0.0, 1.0]}, \"yaxis\": {\"anchor\": \"x\", \"domain\": [0.625, 1.0], \"range\": [0, 1]}, \"yaxis2\": {\"anchor\": \"x2\", \"domain\": [0.0, 0.375], \"range\": [0, 1]}},                        {\"responsive\": true}                    ).then(function(){\n",
       "                            \n",
       "var gd = document.getElementById('1bb5a339-729c-4596-b92a-2f29ae5d5754');\n",
       "var x = new MutationObserver(function (mutations, observer) {{\n",
       "        var display = window.getComputedStyle(gd).display;\n",
       "        if (!display || display === 'none') {{\n",
       "            console.log([gd, 'removed!']);\n",
       "            Plotly.purge(gd);\n",
       "            observer.disconnect();\n",
       "        }}\n",
       "}});\n",
       "\n",
       "// Listen for the removal of the full notebook cells\n",
       "var notebookContainer = gd.closest('#notebook-container');\n",
       "if (notebookContainer) {{\n",
       "    x.observe(notebookContainer, {childList: true});\n",
       "}}\n",
       "\n",
       "// Listen for the clearing of the current output cell\n",
       "var outputEl = gd.closest('.output');\n",
       "if (outputEl) {{\n",
       "    x.observe(outputEl, {childList: true});\n",
       "}}\n",
       "\n",
       "                        })                };                });            </script>        </div>"
      ]
     },
     "metadata": {},
     "output_type": "display_data"
    }
   ],
   "source": [
    "draw_loss_acc_plot('Salary Predictor with BatchNorm', train_loss_2, list_mae_2, list_mse_2)"
   ]
  },
  {
   "cell_type": "markdown",
   "metadata": {},
   "source": [
    "**Добавление дополнительных слоёв nn.Conv1d (лучшая модель, которая получилась методом проб и ошибок)**"
   ]
  },
  {
   "cell_type": "code",
   "execution_count": 46,
   "metadata": {},
   "outputs": [],
   "source": [
    "class SalaryPredictorwBatchNormAddLayers(nn.Module):\n",
    "    def __init__(self, n_tokens=len(tokens), n_cat_features=len(categorical_vectorizer.vocabulary_), hid_size=8):\n",
    "        super().__init__()\n",
    "        self.embedder = nn.Embedding(n_tokens, hid_size)\n",
    "        self.conv1 = nn.Sequential(\n",
    "            nn.Conv1d(hid_size, hid_size, kernel_size=3),\n",
    "            nn.Dropout(p=0.25),\n",
    "            nn.BatchNorm1d(hid_size),\n",
    "            nn.ReLU()\n",
    "        )\n",
    "        self.pool1 = nn.AdaptiveAvgPool1d(output_size=1)\n",
    "        \n",
    "        self.conv2 = nn.Sequential(\n",
    "            nn.Conv1d(hid_size, hid_size, kernel_size=2),\n",
    "            nn.Conv1d(hid_size, hid_size, kernel_size=2),\n",
    "            nn.Dropout(p=0.25),\n",
    "            nn.BatchNorm1d(hid_size),\n",
    "            nn.ReLU())\n",
    "        self.pool2 = nn.AdaptiveAvgPool1d(output_size=1)\n",
    "        \n",
    "        self.description_encoder = nn.Sequential(\n",
    "            nn.Conv1d(hid_size, hid_size, kernel_size=2),\n",
    "            nn.Dropout(p=0.25),\n",
    "            nn.BatchNorm1d(hid_size),\n",
    "            nn.ReLU(),\n",
    "            nn.AdaptiveMaxPool1d(output_size=1)\n",
    "        )\n",
    "        self.categorical_encoder = nn.Sequential(\n",
    "            nn.Linear(n_cat_features, hid_size * 2),\n",
    "            nn.BatchNorm1d(hid_size * 2),\n",
    "            nn.ReLU(),\n",
    "            nn.Linear(hid_size * 2, hid_size * 2),\n",
    "            nn.ReLU()\n",
    "        )\n",
    "        self.final_predictor = nn.Sequential(\n",
    "            nn.Linear(hid_size * 5, hid_size),\n",
    "            nn.BatchNorm1d(hid_size),\n",
    "            nn.ReLU(),\n",
    "            nn.Linear(hid_size, 1)\n",
    "        )\n",
    "\n",
    "    def forward(self, batch):\n",
    "        title_embeddings = self.embedder(batch['Title']).permute(0, 2, 1)\n",
    "\n",
    "        title_conv_features1 = self.conv1(title_embeddings)\n",
    "        title_features1 = self.pool1(title_conv_features1).squeeze()\n",
    "\n",
    "        title_conv_features2 = self.conv2(title_embeddings)\n",
    "        title_features2 = self.pool2(title_conv_features2).squeeze()\n",
    "\n",
    "        description_embeddings = self.embedder(batch['FullDescription']).permute(0, 2, 1)\n",
    "        description_features = self.description_encoder(description_embeddings).squeeze()\n",
    "\n",
    "        categorical_features = self.categorical_encoder(batch['Categorical'].float())\n",
    "\n",
    "        features = torch.cat(\n",
    "            [title_features1, title_features2, description_features, categorical_features], dim=1)\n",
    "\n",
    "        return self.final_predictor(features).squeeze()"
   ]
  },
  {
   "cell_type": "code",
   "execution_count": 47,
   "metadata": {},
   "outputs": [],
   "source": [
    "model = SalaryPredictorwBatchNormAddLayers()\n",
    "batch = make_batch(data_train[:100])\n",
    "criterion = nn.MSELoss()\n",
    "\n",
    "dummy_pred = model(batch)\n",
    "dummy_loss = criterion(dummy_pred, batch[TARGET_COLUMN])\n",
    "assert dummy_pred.shape == torch.Size([100])\n",
    "assert len(np.unique(dummy_pred.detach().numpy())) > 20, \"model returns suspiciously few unique outputs. Check your initialization\"\n",
    "assert dummy_loss.ndim == 0 and 0. <= dummy_loss <= 250., \"make sure you minimize MSE\""
   ]
  },
  {
   "cell_type": "code",
   "execution_count": 106,
   "metadata": {},
   "outputs": [
    {
     "name": "stdout",
     "output_type": "stream",
     "text": [
      "epoch: 0\n"
     ]
    },
    {
     "data": {
      "application/vnd.jupyter.widget-view+json": {
       "model_id": "95dad7eeb69343318b2030e1f8e5efcd",
       "version_major": 2,
       "version_minor": 0
      },
      "text/plain": [
       "HBox(children=(FloatProgress(value=0.0, max=1721.0), HTML(value='')))"
      ]
     },
     "metadata": {},
     "output_type": "display_data"
    },
    {
     "name": "stdout",
     "output_type": "stream",
     "text": [
      "train_loss 101.52289581298828\n",
      "val results:\n",
      "Mean square error: 24.00486\n",
      "Mean absolute error: 2.44569\n",
      "train_loss 90.66921997070312\n",
      "val results:\n",
      "Mean square error: 22.22759\n",
      "Mean absolute error: 2.35247\n",
      "train_loss 76.26687622070312\n",
      "val results:\n",
      "Mean square error: 18.68001\n",
      "Mean absolute error: 2.15474\n",
      "train_loss 57.38813781738281\n",
      "val results:\n",
      "Mean square error: 13.92986\n",
      "Mean absolute error: 1.85850\n",
      "train_loss 39.011810302734375\n",
      "val results:\n",
      "Mean square error: 9.42909\n",
      "Mean absolute error: 1.52414\n",
      "train_loss 23.219078063964844\n",
      "val results:\n",
      "Mean square error: 5.50487\n",
      "Mean absolute error: 1.15592\n",
      "train_loss 11.526031494140625\n",
      "val results:\n",
      "Mean square error: 2.89098\n",
      "Mean absolute error: 0.83478\n",
      "train_loss 4.556109428405762\n",
      "val results:\n",
      "Mean square error: 1.20453\n",
      "Mean absolute error: 0.52812\n",
      "train_loss 1.762228012084961\n",
      "val results:\n",
      "Mean square error: 0.54632\n",
      "Mean absolute error: 0.34670\n",
      "train_loss 0.7428078651428223\n",
      "val results:\n",
      "Mean square error: 0.13218\n",
      "Mean absolute error: 0.15274\n",
      "train_loss 0.6046770215034485\n",
      "val results:\n",
      "Mean square error: 0.07583\n",
      "Mean absolute error: 0.10957\n",
      "train_loss 0.20894820988178253\n",
      "val results:\n",
      "Mean square error: 0.05411\n",
      "Mean absolute error: 0.09120\n",
      "train_loss 0.22681990265846252\n",
      "val results:\n",
      "Mean square error: 0.04949\n",
      "Mean absolute error: 0.08726\n",
      "train_loss 0.15130366384983063\n",
      "val results:\n",
      "Mean square error: 0.04236\n",
      "Mean absolute error: 0.07956\n",
      "train_loss 0.13928568363189697\n",
      "val results:\n",
      "Mean square error: 0.04062\n",
      "Mean absolute error: 0.07830\n",
      "train_loss 0.16468782722949982\n",
      "val results:\n",
      "Mean square error: 0.04268\n",
      "Mean absolute error: 0.08106\n",
      "train_loss 0.2035405933856964\n",
      "val results:\n",
      "Mean square error: 0.03690\n",
      "Mean absolute error: 0.07449\n",
      "\n",
      "epoch: 1\n"
     ]
    },
    {
     "data": {
      "application/vnd.jupyter.widget-view+json": {
       "model_id": "704affba03554c1c8ff9264ca041a5f6",
       "version_major": 2,
       "version_minor": 0
      },
      "text/plain": [
       "HBox(children=(FloatProgress(value=0.0, max=1721.0), HTML(value='')))"
      ]
     },
     "metadata": {},
     "output_type": "display_data"
    },
    {
     "name": "stdout",
     "output_type": "stream",
     "text": [
      "train_loss 0.22401291131973267\n",
      "val results:\n",
      "Mean square error: 0.06825\n",
      "Mean absolute error: 0.10589\n",
      "train_loss 0.23748862743377686\n",
      "val results:\n",
      "Mean square error: 0.04051\n",
      "Mean absolute error: 0.07793\n",
      "train_loss 0.15031380951404572\n",
      "val results:\n",
      "Mean square error: 0.03852\n",
      "Mean absolute error: 0.07584\n",
      "train_loss 0.1945267617702484\n",
      "val results:\n",
      "Mean square error: 0.03729\n",
      "Mean absolute error: 0.07431\n",
      "train_loss 0.16539925336837769\n",
      "val results:\n",
      "Mean square error: 0.04530\n",
      "Mean absolute error: 0.08289\n",
      "train_loss 0.1769336462020874\n",
      "val results:\n",
      "Mean square error: 0.03598\n",
      "Mean absolute error: 0.07322\n",
      "train_loss 0.11116160452365875\n",
      "val results:\n",
      "Mean square error: 0.03620\n",
      "Mean absolute error: 0.07328\n",
      "train_loss 0.12532499432563782\n",
      "val results:\n",
      "Mean square error: 0.03694\n",
      "Mean absolute error: 0.07419\n",
      "train_loss 0.09452591836452484\n",
      "val results:\n",
      "Mean square error: 0.04080\n",
      "Mean absolute error: 0.07840\n",
      "train_loss 0.1826002448797226\n",
      "val results:\n",
      "Mean square error: 0.04149\n",
      "Mean absolute error: 0.07934\n",
      "train_loss 0.1312624216079712\n",
      "val results:\n",
      "Mean square error: 0.04004\n",
      "Mean absolute error: 0.07778\n",
      "train_loss 0.1314205527305603\n",
      "val results:\n",
      "Mean square error: 0.03576\n",
      "Mean absolute error: 0.07267\n",
      "train_loss 0.20035357773303986\n",
      "val results:\n",
      "Mean square error: 0.04761\n",
      "Mean absolute error: 0.08689\n",
      "train_loss 0.17357487976551056\n",
      "val results:\n",
      "Mean square error: 0.03460\n",
      "Mean absolute error: 0.07151\n",
      "train_loss 0.1158890575170517\n",
      "val results:\n",
      "Mean square error: 0.03146\n",
      "Mean absolute error: 0.06820\n",
      "train_loss 0.11763206124305725\n",
      "val results:\n",
      "Mean square error: 0.05148\n",
      "Mean absolute error: 0.09152\n",
      "train_loss 0.15646052360534668\n",
      "val results:\n",
      "Mean square error: 0.04004\n",
      "Mean absolute error: 0.07735\n",
      "\n",
      "epoch: 2\n"
     ]
    },
    {
     "data": {
      "application/vnd.jupyter.widget-view+json": {
       "model_id": "e8f90bd5f3cc43c69d480a4c849c14d2",
       "version_major": 2,
       "version_minor": 0
      },
      "text/plain": [
       "HBox(children=(FloatProgress(value=0.0, max=1721.0), HTML(value='')))"
      ]
     },
     "metadata": {},
     "output_type": "display_data"
    },
    {
     "name": "stdout",
     "output_type": "stream",
     "text": [
      "train_loss 0.13679367303848267\n",
      "val results:\n",
      "Mean square error: 0.03435\n",
      "Mean absolute error: 0.07095\n",
      "train_loss 0.16093666851520538\n",
      "val results:\n",
      "Mean square error: 0.04029\n",
      "Mean absolute error: 0.07852\n",
      "train_loss 0.15871106088161469\n",
      "val results:\n",
      "Mean square error: 0.04216\n",
      "Mean absolute error: 0.07975\n",
      "train_loss 0.12037989497184753\n",
      "val results:\n",
      "Mean square error: 0.03210\n",
      "Mean absolute error: 0.06900\n",
      "train_loss 0.10163909196853638\n",
      "val results:\n",
      "Mean square error: 0.04752\n",
      "Mean absolute error: 0.08768\n",
      "train_loss 0.1270923614501953\n",
      "val results:\n",
      "Mean square error: 0.03582\n",
      "Mean absolute error: 0.07319\n",
      "train_loss 0.10047648102045059\n",
      "val results:\n",
      "Mean square error: 0.02880\n",
      "Mean absolute error: 0.06462\n",
      "train_loss 0.17946606874465942\n",
      "val results:\n",
      "Mean square error: 0.04200\n",
      "Mean absolute error: 0.08103\n",
      "train_loss 0.10904713720083237\n",
      "val results:\n",
      "Mean square error: 0.07437\n",
      "Mean absolute error: 0.11370\n",
      "train_loss 0.14010658860206604\n",
      "val results:\n",
      "Mean square error: 0.03598\n",
      "Mean absolute error: 0.07380\n",
      "train_loss 0.18471679091453552\n",
      "val results:\n",
      "Mean square error: 0.03502\n",
      "Mean absolute error: 0.07217\n",
      "train_loss 0.13396523892879486\n",
      "val results:\n",
      "Mean square error: 0.02782\n",
      "Mean absolute error: 0.06344\n",
      "train_loss 0.12818056344985962\n",
      "val results:\n",
      "Mean square error: 0.04125\n",
      "Mean absolute error: 0.08055\n",
      "train_loss 0.11716169118881226\n",
      "val results:\n",
      "Mean square error: 0.03954\n",
      "Mean absolute error: 0.07796\n",
      "train_loss 0.13793188333511353\n",
      "val results:\n",
      "Mean square error: 0.03570\n",
      "Mean absolute error: 0.07333\n",
      "train_loss 0.10640798509120941\n",
      "val results:\n",
      "Mean square error: 0.03407\n",
      "Mean absolute error: 0.07188\n",
      "train_loss 0.14154838025569916\n",
      "val results:\n",
      "Mean square error: 0.04077\n",
      "Mean absolute error: 0.07901\n",
      "\n"
     ]
    }
   ],
   "source": [
    "model = SalaryPredictorwBatchNormAddLayers().to(DEVICE)\n",
    "criterion = nn.MSELoss(reduction='mean')\n",
    "optimizer = torch.optim.Adam(model.parameters(), lr=1e-3)\n",
    "list_mse_3 = []\n",
    "list_mae_3 = []\n",
    "train_loss_3 = []\n",
    "\n",
    "for epoch in range(EPOCHS):\n",
    "    print(f\"epoch: {epoch}\")\n",
    "    for i, batch in tqdm.notebook.tqdm(enumerate(\n",
    "            iterate_minibatches(\n",
    "                    data_train, \n",
    "                    batch_size=BATCH_SIZE, \n",
    "                    device=DEVICE)), \n",
    "                total=len(data_train) // BATCH_SIZE\n",
    "        ):\n",
    "        model.train()\n",
    "        pred = model(batch)\n",
    "        optimizer.zero_grad()\n",
    "        loss = criterion(pred, batch[TARGET_COLUMN])\n",
    "        loss.backward()\n",
    "        optimizer.step()\n",
    "\n",
    "        if i % 100 == 99:\n",
    "            print('train_loss', loss.item())\n",
    "            train_loss_3.append(loss.item())\n",
    "            print_metrics(model, data_val, list_mse=list_mse_3, list_mae=list_mae_3, \n",
    "                          name='val', batch_size=BATCH_SIZE, device=DEVICE)"
   ]
  },
  {
   "cell_type": "code",
   "execution_count": 107,
   "metadata": {},
   "outputs": [
    {
     "data": {
      "application/vnd.plotly.v1+json": {
       "config": {
        "linkText": "Export to plot.ly",
        "plotlyServerURL": "https://plot.ly",
        "showLink": false
       },
       "data": [
        {
         "mode": "lines",
         "name": "Train Loss",
         "showlegend": false,
         "type": "scatter",
         "x": [
          0,
          1,
          2,
          3,
          4,
          5,
          6,
          7,
          8,
          9,
          10,
          11,
          12,
          13,
          14,
          15,
          16,
          17,
          18,
          19,
          20,
          21,
          22,
          23,
          24,
          25,
          26,
          27,
          28,
          29,
          30,
          31,
          32,
          33,
          34,
          35,
          36,
          37,
          38,
          39,
          40,
          41,
          42,
          43,
          44,
          45,
          46,
          47,
          48,
          49,
          50
         ],
         "xaxis": "x",
         "y": [
          101.52289581298828,
          90.66921997070312,
          76.26687622070312,
          57.38813781738281,
          39.011810302734375,
          23.219078063964844,
          11.526031494140625,
          4.556109428405762,
          1.762228012084961,
          0.7428078651428223,
          0.6046770215034485,
          0.20894820988178253,
          0.22681990265846252,
          0.15130366384983063,
          0.13928568363189697,
          0.16468782722949982,
          0.2035405933856964,
          0.22401291131973267,
          0.23748862743377686,
          0.15031380951404572,
          0.1945267617702484,
          0.16539925336837769,
          0.1769336462020874,
          0.11116160452365875,
          0.12532499432563782,
          0.09452591836452484,
          0.1826002448797226,
          0.1312624216079712,
          0.1314205527305603,
          0.20035357773303986,
          0.17357487976551056,
          0.1158890575170517,
          0.11763206124305725,
          0.15646052360534668,
          0.13679367303848267,
          0.16093666851520538,
          0.15871106088161469,
          0.12037989497184753,
          0.10163909196853638,
          0.1270923614501953,
          0.10047648102045059,
          0.17946606874465942,
          0.10904713720083237,
          0.14010658860206604,
          0.18471679091453552,
          0.13396523892879486,
          0.12818056344985962,
          0.11716169118881226,
          0.13793188333511353,
          0.10640798509120941,
          0.14154838025569916
         ],
         "yaxis": "y"
        },
        {
         "mode": "lines",
         "name": "MAE",
         "type": "scatter",
         "x": [
          0,
          1,
          2,
          3,
          4,
          5,
          6,
          7,
          8,
          9,
          10,
          11,
          12,
          13,
          14,
          15,
          16,
          17,
          18,
          19,
          20,
          21,
          22,
          23,
          24,
          25,
          26,
          27,
          28,
          29,
          30,
          31,
          32,
          33,
          34,
          35,
          36,
          37,
          38,
          39,
          40,
          41,
          42,
          43,
          44,
          45,
          46,
          47,
          48,
          49,
          50
         ],
         "xaxis": "x2",
         "y": [
          2.445687770843506,
          2.3524719874064126,
          2.154742399851481,
          1.8584953943888347,
          1.5241446495056152,
          1.1559230486551921,
          0.8347751299540201,
          0.5281161864598592,
          0.3467048803965251,
          0.15273874004681906,
          0.1095707615216573,
          0.09120109677314758,
          0.08726164698600769,
          0.07956153651078542,
          0.07829606533050537,
          0.08106118440628052,
          0.07448538641134898,
          0.10589293638865153,
          0.0779278427362442,
          0.0758400708436966,
          0.07430550952752431,
          0.08288891116778056,
          0.07322123150030772,
          0.07328403492768605,
          0.07419384022553761,
          0.07839585840702057,
          0.0793372889359792,
          0.07777609427769978,
          0.07267073293526967,
          0.08689053853352864,
          0.0715149740378062,
          0.06820495426654816,
          0.09151915709177653,
          0.07734525700410207,
          0.07094717522462209,
          0.07851775487263997,
          0.07975017527739207,
          0.06900013486544292,
          0.08767666419347127,
          0.07318904499212901,
          0.06462266544500987,
          0.0810261716445287,
          0.11369842290878296,
          0.07379934191703796,
          0.07217412690321605,
          0.0634443461894989,
          0.08054648836453755,
          0.07796455423037212,
          0.07333458463350932,
          0.07187738517920177,
          0.07900531589984894
         ],
         "yaxis": "y2"
        },
        {
         "mode": "lines",
         "name": "MSE",
         "type": "scatter",
         "x": [
          0,
          1,
          2,
          3,
          4,
          5,
          6,
          7,
          8,
          9,
          10,
          11,
          12,
          13,
          14,
          15,
          16,
          17,
          18,
          19,
          20,
          21,
          22,
          23,
          24,
          25,
          26,
          27,
          28,
          29,
          30,
          31,
          32,
          33,
          34,
          35,
          36,
          37,
          38,
          39,
          40,
          41,
          42,
          43,
          44,
          45,
          46,
          47,
          48,
          49,
          50
         ],
         "xaxis": "x2",
         "y": [
          24.004857381184895,
          22.227589925130207,
          18.68000666300456,
          13.929864247639975,
          9.429089228312174,
          5.504874547322591,
          2.8909835815429688,
          1.2045294443766277,
          0.5463249683380127,
          0.1321819027264913,
          0.07582968970139821,
          0.0541063000758489,
          0.04948990046977997,
          0.042362535993258156,
          0.04061946521202723,
          0.0426839143037796,
          0.03689758479595184,
          0.06825382014115651,
          0.040509290993213654,
          0.03852094461520513,
          0.03729086617628733,
          0.045298109451929726,
          0.035979057351748146,
          0.03619751830895742,
          0.03693936268488566,
          0.04079824437697729,
          0.04149463276068369,
          0.04003568241993586,
          0.03575617323319117,
          0.04760750631491343,
          0.03459529081980387,
          0.03146254022916158,
          0.05147723356882731,
          0.04003903269767761,
          0.03435045977433523,
          0.040290666123231254,
          0.04216234882672628,
          0.032100786765416466,
          0.04752300182978312,
          0.03582073996464411,
          0.028801520665486652,
          0.04199895262718201,
          0.07436810930569966,
          0.035975935558478035,
          0.035024488965670265,
          0.02781706800063451,
          0.04125373810529709,
          0.039535450438658394,
          0.03570405145486196,
          0.03407017141580582,
          0.04077066481113434
         ],
         "yaxis": "y2"
        }
       ],
       "layout": {
        "annotations": [
         {
          "font": {
           "size": 16
          },
          "showarrow": false,
          "text": "<b>Train Loss</b>",
          "x": 0.5,
          "xanchor": "center",
          "xref": "paper",
          "y": 1,
          "yanchor": "bottom",
          "yref": "paper"
         },
         {
          "font": {
           "size": 16
          },
          "showarrow": false,
          "text": "<b>Test Metrics</b>",
          "x": 0.5,
          "xanchor": "center",
          "xref": "paper",
          "y": 0.375,
          "yanchor": "bottom",
          "yref": "paper"
         }
        ],
        "autosize": false,
        "height": 780,
        "legend": {
         "x": 1,
         "y": 0.15
        },
        "margin": {
         "b": 270
        },
        "paper_bgcolor": "rgba(240, 240, 240, 0.95)",
        "plot_bgcolor": "rgba(240, 240, 240, 0.95)",
        "template": {
         "data": {
          "bar": [
           {
            "error_x": {
             "color": "#2a3f5f"
            },
            "error_y": {
             "color": "#2a3f5f"
            },
            "marker": {
             "line": {
              "color": "#E5ECF6",
              "width": 0.5
             }
            },
            "type": "bar"
           }
          ],
          "barpolar": [
           {
            "marker": {
             "line": {
              "color": "#E5ECF6",
              "width": 0.5
             }
            },
            "type": "barpolar"
           }
          ],
          "carpet": [
           {
            "aaxis": {
             "endlinecolor": "#2a3f5f",
             "gridcolor": "white",
             "linecolor": "white",
             "minorgridcolor": "white",
             "startlinecolor": "#2a3f5f"
            },
            "baxis": {
             "endlinecolor": "#2a3f5f",
             "gridcolor": "white",
             "linecolor": "white",
             "minorgridcolor": "white",
             "startlinecolor": "#2a3f5f"
            },
            "type": "carpet"
           }
          ],
          "choropleth": [
           {
            "colorbar": {
             "outlinewidth": 0,
             "ticks": ""
            },
            "type": "choropleth"
           }
          ],
          "contour": [
           {
            "colorbar": {
             "outlinewidth": 0,
             "ticks": ""
            },
            "colorscale": [
             [
              0,
              "#0d0887"
             ],
             [
              0.1111111111111111,
              "#46039f"
             ],
             [
              0.2222222222222222,
              "#7201a8"
             ],
             [
              0.3333333333333333,
              "#9c179e"
             ],
             [
              0.4444444444444444,
              "#bd3786"
             ],
             [
              0.5555555555555556,
              "#d8576b"
             ],
             [
              0.6666666666666666,
              "#ed7953"
             ],
             [
              0.7777777777777778,
              "#fb9f3a"
             ],
             [
              0.8888888888888888,
              "#fdca26"
             ],
             [
              1,
              "#f0f921"
             ]
            ],
            "type": "contour"
           }
          ],
          "contourcarpet": [
           {
            "colorbar": {
             "outlinewidth": 0,
             "ticks": ""
            },
            "type": "contourcarpet"
           }
          ],
          "heatmap": [
           {
            "colorbar": {
             "outlinewidth": 0,
             "ticks": ""
            },
            "colorscale": [
             [
              0,
              "#0d0887"
             ],
             [
              0.1111111111111111,
              "#46039f"
             ],
             [
              0.2222222222222222,
              "#7201a8"
             ],
             [
              0.3333333333333333,
              "#9c179e"
             ],
             [
              0.4444444444444444,
              "#bd3786"
             ],
             [
              0.5555555555555556,
              "#d8576b"
             ],
             [
              0.6666666666666666,
              "#ed7953"
             ],
             [
              0.7777777777777778,
              "#fb9f3a"
             ],
             [
              0.8888888888888888,
              "#fdca26"
             ],
             [
              1,
              "#f0f921"
             ]
            ],
            "type": "heatmap"
           }
          ],
          "heatmapgl": [
           {
            "colorbar": {
             "outlinewidth": 0,
             "ticks": ""
            },
            "colorscale": [
             [
              0,
              "#0d0887"
             ],
             [
              0.1111111111111111,
              "#46039f"
             ],
             [
              0.2222222222222222,
              "#7201a8"
             ],
             [
              0.3333333333333333,
              "#9c179e"
             ],
             [
              0.4444444444444444,
              "#bd3786"
             ],
             [
              0.5555555555555556,
              "#d8576b"
             ],
             [
              0.6666666666666666,
              "#ed7953"
             ],
             [
              0.7777777777777778,
              "#fb9f3a"
             ],
             [
              0.8888888888888888,
              "#fdca26"
             ],
             [
              1,
              "#f0f921"
             ]
            ],
            "type": "heatmapgl"
           }
          ],
          "histogram": [
           {
            "marker": {
             "colorbar": {
              "outlinewidth": 0,
              "ticks": ""
             }
            },
            "type": "histogram"
           }
          ],
          "histogram2d": [
           {
            "colorbar": {
             "outlinewidth": 0,
             "ticks": ""
            },
            "colorscale": [
             [
              0,
              "#0d0887"
             ],
             [
              0.1111111111111111,
              "#46039f"
             ],
             [
              0.2222222222222222,
              "#7201a8"
             ],
             [
              0.3333333333333333,
              "#9c179e"
             ],
             [
              0.4444444444444444,
              "#bd3786"
             ],
             [
              0.5555555555555556,
              "#d8576b"
             ],
             [
              0.6666666666666666,
              "#ed7953"
             ],
             [
              0.7777777777777778,
              "#fb9f3a"
             ],
             [
              0.8888888888888888,
              "#fdca26"
             ],
             [
              1,
              "#f0f921"
             ]
            ],
            "type": "histogram2d"
           }
          ],
          "histogram2dcontour": [
           {
            "colorbar": {
             "outlinewidth": 0,
             "ticks": ""
            },
            "colorscale": [
             [
              0,
              "#0d0887"
             ],
             [
              0.1111111111111111,
              "#46039f"
             ],
             [
              0.2222222222222222,
              "#7201a8"
             ],
             [
              0.3333333333333333,
              "#9c179e"
             ],
             [
              0.4444444444444444,
              "#bd3786"
             ],
             [
              0.5555555555555556,
              "#d8576b"
             ],
             [
              0.6666666666666666,
              "#ed7953"
             ],
             [
              0.7777777777777778,
              "#fb9f3a"
             ],
             [
              0.8888888888888888,
              "#fdca26"
             ],
             [
              1,
              "#f0f921"
             ]
            ],
            "type": "histogram2dcontour"
           }
          ],
          "mesh3d": [
           {
            "colorbar": {
             "outlinewidth": 0,
             "ticks": ""
            },
            "type": "mesh3d"
           }
          ],
          "parcoords": [
           {
            "line": {
             "colorbar": {
              "outlinewidth": 0,
              "ticks": ""
             }
            },
            "type": "parcoords"
           }
          ],
          "pie": [
           {
            "automargin": true,
            "type": "pie"
           }
          ],
          "scatter": [
           {
            "marker": {
             "colorbar": {
              "outlinewidth": 0,
              "ticks": ""
             }
            },
            "type": "scatter"
           }
          ],
          "scatter3d": [
           {
            "line": {
             "colorbar": {
              "outlinewidth": 0,
              "ticks": ""
             }
            },
            "marker": {
             "colorbar": {
              "outlinewidth": 0,
              "ticks": ""
             }
            },
            "type": "scatter3d"
           }
          ],
          "scattercarpet": [
           {
            "marker": {
             "colorbar": {
              "outlinewidth": 0,
              "ticks": ""
             }
            },
            "type": "scattercarpet"
           }
          ],
          "scattergeo": [
           {
            "marker": {
             "colorbar": {
              "outlinewidth": 0,
              "ticks": ""
             }
            },
            "type": "scattergeo"
           }
          ],
          "scattergl": [
           {
            "marker": {
             "colorbar": {
              "outlinewidth": 0,
              "ticks": ""
             }
            },
            "type": "scattergl"
           }
          ],
          "scattermapbox": [
           {
            "marker": {
             "colorbar": {
              "outlinewidth": 0,
              "ticks": ""
             }
            },
            "type": "scattermapbox"
           }
          ],
          "scatterpolar": [
           {
            "marker": {
             "colorbar": {
              "outlinewidth": 0,
              "ticks": ""
             }
            },
            "type": "scatterpolar"
           }
          ],
          "scatterpolargl": [
           {
            "marker": {
             "colorbar": {
              "outlinewidth": 0,
              "ticks": ""
             }
            },
            "type": "scatterpolargl"
           }
          ],
          "scatterternary": [
           {
            "marker": {
             "colorbar": {
              "outlinewidth": 0,
              "ticks": ""
             }
            },
            "type": "scatterternary"
           }
          ],
          "surface": [
           {
            "colorbar": {
             "outlinewidth": 0,
             "ticks": ""
            },
            "colorscale": [
             [
              0,
              "#0d0887"
             ],
             [
              0.1111111111111111,
              "#46039f"
             ],
             [
              0.2222222222222222,
              "#7201a8"
             ],
             [
              0.3333333333333333,
              "#9c179e"
             ],
             [
              0.4444444444444444,
              "#bd3786"
             ],
             [
              0.5555555555555556,
              "#d8576b"
             ],
             [
              0.6666666666666666,
              "#ed7953"
             ],
             [
              0.7777777777777778,
              "#fb9f3a"
             ],
             [
              0.8888888888888888,
              "#fdca26"
             ],
             [
              1,
              "#f0f921"
             ]
            ],
            "type": "surface"
           }
          ],
          "table": [
           {
            "cells": {
             "fill": {
              "color": "#EBF0F8"
             },
             "line": {
              "color": "white"
             }
            },
            "header": {
             "fill": {
              "color": "#C8D4E3"
             },
             "line": {
              "color": "white"
             }
            },
            "type": "table"
           }
          ]
         },
         "layout": {
          "annotationdefaults": {
           "arrowcolor": "#2a3f5f",
           "arrowhead": 0,
           "arrowwidth": 1
          },
          "coloraxis": {
           "colorbar": {
            "outlinewidth": 0,
            "ticks": ""
           }
          },
          "colorscale": {
           "diverging": [
            [
             0,
             "#8e0152"
            ],
            [
             0.1,
             "#c51b7d"
            ],
            [
             0.2,
             "#de77ae"
            ],
            [
             0.3,
             "#f1b6da"
            ],
            [
             0.4,
             "#fde0ef"
            ],
            [
             0.5,
             "#f7f7f7"
            ],
            [
             0.6,
             "#e6f5d0"
            ],
            [
             0.7,
             "#b8e186"
            ],
            [
             0.8,
             "#7fbc41"
            ],
            [
             0.9,
             "#4d9221"
            ],
            [
             1,
             "#276419"
            ]
           ],
           "sequential": [
            [
             0,
             "#0d0887"
            ],
            [
             0.1111111111111111,
             "#46039f"
            ],
            [
             0.2222222222222222,
             "#7201a8"
            ],
            [
             0.3333333333333333,
             "#9c179e"
            ],
            [
             0.4444444444444444,
             "#bd3786"
            ],
            [
             0.5555555555555556,
             "#d8576b"
            ],
            [
             0.6666666666666666,
             "#ed7953"
            ],
            [
             0.7777777777777778,
             "#fb9f3a"
            ],
            [
             0.8888888888888888,
             "#fdca26"
            ],
            [
             1,
             "#f0f921"
            ]
           ],
           "sequentialminus": [
            [
             0,
             "#0d0887"
            ],
            [
             0.1111111111111111,
             "#46039f"
            ],
            [
             0.2222222222222222,
             "#7201a8"
            ],
            [
             0.3333333333333333,
             "#9c179e"
            ],
            [
             0.4444444444444444,
             "#bd3786"
            ],
            [
             0.5555555555555556,
             "#d8576b"
            ],
            [
             0.6666666666666666,
             "#ed7953"
            ],
            [
             0.7777777777777778,
             "#fb9f3a"
            ],
            [
             0.8888888888888888,
             "#fdca26"
            ],
            [
             1,
             "#f0f921"
            ]
           ]
          },
          "colorway": [
           "#636efa",
           "#EF553B",
           "#00cc96",
           "#ab63fa",
           "#FFA15A",
           "#19d3f3",
           "#FF6692",
           "#B6E880",
           "#FF97FF",
           "#FECB52"
          ],
          "font": {
           "color": "#2a3f5f"
          },
          "geo": {
           "bgcolor": "white",
           "lakecolor": "white",
           "landcolor": "#E5ECF6",
           "showlakes": true,
           "showland": true,
           "subunitcolor": "white"
          },
          "hoverlabel": {
           "align": "left"
          },
          "hovermode": "closest",
          "mapbox": {
           "style": "light"
          },
          "paper_bgcolor": "white",
          "plot_bgcolor": "#E5ECF6",
          "polar": {
           "angularaxis": {
            "gridcolor": "white",
            "linecolor": "white",
            "ticks": ""
           },
           "bgcolor": "#E5ECF6",
           "radialaxis": {
            "gridcolor": "white",
            "linecolor": "white",
            "ticks": ""
           }
          },
          "scene": {
           "xaxis": {
            "backgroundcolor": "#E5ECF6",
            "gridcolor": "white",
            "gridwidth": 2,
            "linecolor": "white",
            "showbackground": true,
            "ticks": "",
            "zerolinecolor": "white"
           },
           "yaxis": {
            "backgroundcolor": "#E5ECF6",
            "gridcolor": "white",
            "gridwidth": 2,
            "linecolor": "white",
            "showbackground": true,
            "ticks": "",
            "zerolinecolor": "white"
           },
           "zaxis": {
            "backgroundcolor": "#E5ECF6",
            "gridcolor": "white",
            "gridwidth": 2,
            "linecolor": "white",
            "showbackground": true,
            "ticks": "",
            "zerolinecolor": "white"
           }
          },
          "shapedefaults": {
           "line": {
            "color": "#2a3f5f"
           }
          },
          "ternary": {
           "aaxis": {
            "gridcolor": "white",
            "linecolor": "white",
            "ticks": ""
           },
           "baxis": {
            "gridcolor": "white",
            "linecolor": "white",
            "ticks": ""
           },
           "bgcolor": "#E5ECF6",
           "caxis": {
            "gridcolor": "white",
            "linecolor": "white",
            "ticks": ""
           }
          },
          "title": {
           "x": 0.05
          },
          "xaxis": {
           "automargin": true,
           "gridcolor": "white",
           "linecolor": "white",
           "ticks": "",
           "title": {
            "standoff": 15
           },
           "zerolinecolor": "white",
           "zerolinewidth": 2
          },
          "yaxis": {
           "automargin": true,
           "gridcolor": "white",
           "linecolor": "white",
           "ticks": "",
           "title": {
            "standoff": 15
           },
           "zerolinecolor": "white",
           "zerolinewidth": 2
          }
         }
        },
        "title": {
         "text": "<b>Model performance report</b><br>Salary Predictor with BatchNorm<br><br><br><br><br><br><br><br><br><br><br><br><br><br><br><br><br><br><br><br><br><br><br><br><b><i>Train Loss Stat Values:</i></b><br>Max: 101.52   Mean: 8.10   Min: 0.09   Median: 0.16   Var: 519.76<br><br><b><i>Mean Absolute Error Stat Values:</i></b><br>Max: 2.45   Mean: 0.33   Min: 0.06   Median: 0.08   Var: 0.38<br><br><b><i>Mean Mean Squared Error Stat Values:</i></b><br>Max: 24.00   Mean: 1.97   Min: 0.03   Median: 0.04   Var: 30.31",
         "x": 0.5,
         "xanchor": "center",
         "y": 0.95,
         "yanchor": "top"
        },
        "width": 900,
        "xaxis": {
         "anchor": "y",
         "domain": [
          0,
          1
         ]
        },
        "xaxis2": {
         "anchor": "y2",
         "domain": [
          0,
          1
         ]
        },
        "yaxis": {
         "anchor": "x",
         "domain": [
          0.625,
          1
         ],
         "range": [
          0,
          1
         ]
        },
        "yaxis2": {
         "anchor": "x2",
         "domain": [
          0,
          0.375
         ],
         "range": [
          0,
          1
         ]
        }
       }
      },
      "text/html": [
       "<div>                            <div id=\"1a41979f-38a4-4143-bb82-f20934b61c32\" class=\"plotly-graph-div\" style=\"height:780px; width:900px;\"></div>            <script type=\"text/javascript\">                require([\"plotly\"], function(Plotly) {                    window.PLOTLYENV=window.PLOTLYENV || {};                                    if (document.getElementById(\"1a41979f-38a4-4143-bb82-f20934b61c32\")) {                    Plotly.newPlot(                        \"1a41979f-38a4-4143-bb82-f20934b61c32\",                        [{\"mode\": \"lines\", \"name\": \"Train Loss\", \"showlegend\": false, \"type\": \"scatter\", \"x\": [0, 1, 2, 3, 4, 5, 6, 7, 8, 9, 10, 11, 12, 13, 14, 15, 16, 17, 18, 19, 20, 21, 22, 23, 24, 25, 26, 27, 28, 29, 30, 31, 32, 33, 34, 35, 36, 37, 38, 39, 40, 41, 42, 43, 44, 45, 46, 47, 48, 49, 50], \"xaxis\": \"x\", \"y\": [101.52289581298828, 90.66921997070312, 76.26687622070312, 57.38813781738281, 39.011810302734375, 23.219078063964844, 11.526031494140625, 4.556109428405762, 1.762228012084961, 0.7428078651428223, 0.6046770215034485, 0.20894820988178253, 0.22681990265846252, 0.15130366384983063, 0.13928568363189697, 0.16468782722949982, 0.2035405933856964, 0.22401291131973267, 0.23748862743377686, 0.15031380951404572, 0.1945267617702484, 0.16539925336837769, 0.1769336462020874, 0.11116160452365875, 0.12532499432563782, 0.09452591836452484, 0.1826002448797226, 0.1312624216079712, 0.1314205527305603, 0.20035357773303986, 0.17357487976551056, 0.1158890575170517, 0.11763206124305725, 0.15646052360534668, 0.13679367303848267, 0.16093666851520538, 0.15871106088161469, 0.12037989497184753, 0.10163909196853638, 0.1270923614501953, 0.10047648102045059, 0.17946606874465942, 0.10904713720083237, 0.14010658860206604, 0.18471679091453552, 0.13396523892879486, 0.12818056344985962, 0.11716169118881226, 0.13793188333511353, 0.10640798509120941, 0.14154838025569916], \"yaxis\": \"y\"}, {\"mode\": \"lines\", \"name\": \"MAE\", \"type\": \"scatter\", \"x\": [0, 1, 2, 3, 4, 5, 6, 7, 8, 9, 10, 11, 12, 13, 14, 15, 16, 17, 18, 19, 20, 21, 22, 23, 24, 25, 26, 27, 28, 29, 30, 31, 32, 33, 34, 35, 36, 37, 38, 39, 40, 41, 42, 43, 44, 45, 46, 47, 48, 49, 50], \"xaxis\": \"x2\", \"y\": [2.445687770843506, 2.3524719874064126, 2.154742399851481, 1.8584953943888347, 1.5241446495056152, 1.1559230486551921, 0.8347751299540201, 0.5281161864598592, 0.3467048803965251, 0.15273874004681906, 0.1095707615216573, 0.09120109677314758, 0.08726164698600769, 0.07956153651078542, 0.07829606533050537, 0.08106118440628052, 0.07448538641134898, 0.10589293638865153, 0.0779278427362442, 0.0758400708436966, 0.07430550952752431, 0.08288891116778056, 0.07322123150030772, 0.07328403492768605, 0.07419384022553761, 0.07839585840702057, 0.0793372889359792, 0.07777609427769978, 0.07267073293526967, 0.08689053853352864, 0.0715149740378062, 0.06820495426654816, 0.09151915709177653, 0.07734525700410207, 0.07094717522462209, 0.07851775487263997, 0.07975017527739207, 0.06900013486544292, 0.08767666419347127, 0.07318904499212901, 0.06462266544500987, 0.0810261716445287, 0.11369842290878296, 0.07379934191703796, 0.07217412690321605, 0.0634443461894989, 0.08054648836453755, 0.07796455423037212, 0.07333458463350932, 0.07187738517920177, 0.07900531589984894], \"yaxis\": \"y2\"}, {\"mode\": \"lines\", \"name\": \"MSE\", \"type\": \"scatter\", \"x\": [0, 1, 2, 3, 4, 5, 6, 7, 8, 9, 10, 11, 12, 13, 14, 15, 16, 17, 18, 19, 20, 21, 22, 23, 24, 25, 26, 27, 28, 29, 30, 31, 32, 33, 34, 35, 36, 37, 38, 39, 40, 41, 42, 43, 44, 45, 46, 47, 48, 49, 50], \"xaxis\": \"x2\", \"y\": [24.004857381184895, 22.227589925130207, 18.68000666300456, 13.929864247639975, 9.429089228312174, 5.504874547322591, 2.8909835815429688, 1.2045294443766277, 0.5463249683380127, 0.1321819027264913, 0.07582968970139821, 0.0541063000758489, 0.04948990046977997, 0.042362535993258156, 0.04061946521202723, 0.0426839143037796, 0.03689758479595184, 0.06825382014115651, 0.040509290993213654, 0.03852094461520513, 0.03729086617628733, 0.045298109451929726, 0.035979057351748146, 0.03619751830895742, 0.03693936268488566, 0.04079824437697729, 0.04149463276068369, 0.04003568241993586, 0.03575617323319117, 0.04760750631491343, 0.03459529081980387, 0.03146254022916158, 0.05147723356882731, 0.04003903269767761, 0.03435045977433523, 0.040290666123231254, 0.04216234882672628, 0.032100786765416466, 0.04752300182978312, 0.03582073996464411, 0.028801520665486652, 0.04199895262718201, 0.07436810930569966, 0.035975935558478035, 0.035024488965670265, 0.02781706800063451, 0.04125373810529709, 0.039535450438658394, 0.03570405145486196, 0.03407017141580582, 0.04077066481113434], \"yaxis\": \"y2\"}],                        {\"annotations\": [{\"font\": {\"size\": 16}, \"showarrow\": false, \"text\": \"<b>Train Loss</b>\", \"x\": 0.5, \"xanchor\": \"center\", \"xref\": \"paper\", \"y\": 1.0, \"yanchor\": \"bottom\", \"yref\": \"paper\"}, {\"font\": {\"size\": 16}, \"showarrow\": false, \"text\": \"<b>Test Metrics</b>\", \"x\": 0.5, \"xanchor\": \"center\", \"xref\": \"paper\", \"y\": 0.375, \"yanchor\": \"bottom\", \"yref\": \"paper\"}], \"autosize\": false, \"height\": 780, \"legend\": {\"x\": 1, \"y\": 0.15}, \"margin\": {\"b\": 270}, \"paper_bgcolor\": \"rgba(240, 240, 240, 0.95)\", \"plot_bgcolor\": \"rgba(240, 240, 240, 0.95)\", \"template\": {\"data\": {\"bar\": [{\"error_x\": {\"color\": \"#2a3f5f\"}, \"error_y\": {\"color\": \"#2a3f5f\"}, \"marker\": {\"line\": {\"color\": \"#E5ECF6\", \"width\": 0.5}}, \"type\": \"bar\"}], \"barpolar\": [{\"marker\": {\"line\": {\"color\": \"#E5ECF6\", \"width\": 0.5}}, \"type\": \"barpolar\"}], \"carpet\": [{\"aaxis\": {\"endlinecolor\": \"#2a3f5f\", \"gridcolor\": \"white\", \"linecolor\": \"white\", \"minorgridcolor\": \"white\", \"startlinecolor\": \"#2a3f5f\"}, \"baxis\": {\"endlinecolor\": \"#2a3f5f\", \"gridcolor\": \"white\", \"linecolor\": \"white\", \"minorgridcolor\": \"white\", \"startlinecolor\": \"#2a3f5f\"}, \"type\": \"carpet\"}], \"choropleth\": [{\"colorbar\": {\"outlinewidth\": 0, \"ticks\": \"\"}, \"type\": \"choropleth\"}], \"contour\": [{\"colorbar\": {\"outlinewidth\": 0, \"ticks\": \"\"}, \"colorscale\": [[0.0, \"#0d0887\"], [0.1111111111111111, \"#46039f\"], [0.2222222222222222, \"#7201a8\"], [0.3333333333333333, \"#9c179e\"], [0.4444444444444444, \"#bd3786\"], [0.5555555555555556, \"#d8576b\"], [0.6666666666666666, \"#ed7953\"], [0.7777777777777778, \"#fb9f3a\"], [0.8888888888888888, \"#fdca26\"], [1.0, \"#f0f921\"]], \"type\": \"contour\"}], \"contourcarpet\": [{\"colorbar\": {\"outlinewidth\": 0, \"ticks\": \"\"}, \"type\": \"contourcarpet\"}], \"heatmap\": [{\"colorbar\": {\"outlinewidth\": 0, \"ticks\": \"\"}, \"colorscale\": [[0.0, \"#0d0887\"], [0.1111111111111111, \"#46039f\"], [0.2222222222222222, \"#7201a8\"], [0.3333333333333333, \"#9c179e\"], [0.4444444444444444, \"#bd3786\"], [0.5555555555555556, \"#d8576b\"], [0.6666666666666666, \"#ed7953\"], [0.7777777777777778, \"#fb9f3a\"], [0.8888888888888888, \"#fdca26\"], [1.0, \"#f0f921\"]], \"type\": \"heatmap\"}], \"heatmapgl\": [{\"colorbar\": {\"outlinewidth\": 0, \"ticks\": \"\"}, \"colorscale\": [[0.0, \"#0d0887\"], [0.1111111111111111, \"#46039f\"], [0.2222222222222222, \"#7201a8\"], [0.3333333333333333, \"#9c179e\"], [0.4444444444444444, \"#bd3786\"], [0.5555555555555556, \"#d8576b\"], [0.6666666666666666, \"#ed7953\"], [0.7777777777777778, \"#fb9f3a\"], [0.8888888888888888, \"#fdca26\"], [1.0, \"#f0f921\"]], \"type\": \"heatmapgl\"}], \"histogram\": [{\"marker\": {\"colorbar\": {\"outlinewidth\": 0, \"ticks\": \"\"}}, \"type\": \"histogram\"}], \"histogram2d\": [{\"colorbar\": {\"outlinewidth\": 0, \"ticks\": \"\"}, \"colorscale\": [[0.0, \"#0d0887\"], [0.1111111111111111, \"#46039f\"], [0.2222222222222222, \"#7201a8\"], [0.3333333333333333, \"#9c179e\"], [0.4444444444444444, \"#bd3786\"], [0.5555555555555556, \"#d8576b\"], [0.6666666666666666, \"#ed7953\"], [0.7777777777777778, \"#fb9f3a\"], [0.8888888888888888, \"#fdca26\"], [1.0, \"#f0f921\"]], \"type\": \"histogram2d\"}], \"histogram2dcontour\": [{\"colorbar\": {\"outlinewidth\": 0, \"ticks\": \"\"}, \"colorscale\": [[0.0, \"#0d0887\"], [0.1111111111111111, \"#46039f\"], [0.2222222222222222, \"#7201a8\"], [0.3333333333333333, \"#9c179e\"], [0.4444444444444444, \"#bd3786\"], [0.5555555555555556, \"#d8576b\"], [0.6666666666666666, \"#ed7953\"], [0.7777777777777778, \"#fb9f3a\"], [0.8888888888888888, \"#fdca26\"], [1.0, \"#f0f921\"]], \"type\": \"histogram2dcontour\"}], \"mesh3d\": [{\"colorbar\": {\"outlinewidth\": 0, \"ticks\": \"\"}, \"type\": \"mesh3d\"}], \"parcoords\": [{\"line\": {\"colorbar\": {\"outlinewidth\": 0, \"ticks\": \"\"}}, \"type\": \"parcoords\"}], \"pie\": [{\"automargin\": true, \"type\": \"pie\"}], \"scatter\": [{\"marker\": {\"colorbar\": {\"outlinewidth\": 0, \"ticks\": \"\"}}, \"type\": \"scatter\"}], \"scatter3d\": [{\"line\": {\"colorbar\": {\"outlinewidth\": 0, \"ticks\": \"\"}}, \"marker\": {\"colorbar\": {\"outlinewidth\": 0, \"ticks\": \"\"}}, \"type\": \"scatter3d\"}], \"scattercarpet\": [{\"marker\": {\"colorbar\": {\"outlinewidth\": 0, \"ticks\": \"\"}}, \"type\": \"scattercarpet\"}], \"scattergeo\": [{\"marker\": {\"colorbar\": {\"outlinewidth\": 0, \"ticks\": \"\"}}, \"type\": \"scattergeo\"}], \"scattergl\": [{\"marker\": {\"colorbar\": {\"outlinewidth\": 0, \"ticks\": \"\"}}, \"type\": \"scattergl\"}], \"scattermapbox\": [{\"marker\": {\"colorbar\": {\"outlinewidth\": 0, \"ticks\": \"\"}}, \"type\": \"scattermapbox\"}], \"scatterpolar\": [{\"marker\": {\"colorbar\": {\"outlinewidth\": 0, \"ticks\": \"\"}}, \"type\": \"scatterpolar\"}], \"scatterpolargl\": [{\"marker\": {\"colorbar\": {\"outlinewidth\": 0, \"ticks\": \"\"}}, \"type\": \"scatterpolargl\"}], \"scatterternary\": [{\"marker\": {\"colorbar\": {\"outlinewidth\": 0, \"ticks\": \"\"}}, \"type\": \"scatterternary\"}], \"surface\": [{\"colorbar\": {\"outlinewidth\": 0, \"ticks\": \"\"}, \"colorscale\": [[0.0, \"#0d0887\"], [0.1111111111111111, \"#46039f\"], [0.2222222222222222, \"#7201a8\"], [0.3333333333333333, \"#9c179e\"], [0.4444444444444444, \"#bd3786\"], [0.5555555555555556, \"#d8576b\"], [0.6666666666666666, \"#ed7953\"], [0.7777777777777778, \"#fb9f3a\"], [0.8888888888888888, \"#fdca26\"], [1.0, \"#f0f921\"]], \"type\": \"surface\"}], \"table\": [{\"cells\": {\"fill\": {\"color\": \"#EBF0F8\"}, \"line\": {\"color\": \"white\"}}, \"header\": {\"fill\": {\"color\": \"#C8D4E3\"}, \"line\": {\"color\": \"white\"}}, \"type\": \"table\"}]}, \"layout\": {\"annotationdefaults\": {\"arrowcolor\": \"#2a3f5f\", \"arrowhead\": 0, \"arrowwidth\": 1}, \"coloraxis\": {\"colorbar\": {\"outlinewidth\": 0, \"ticks\": \"\"}}, \"colorscale\": {\"diverging\": [[0, \"#8e0152\"], [0.1, \"#c51b7d\"], [0.2, \"#de77ae\"], [0.3, \"#f1b6da\"], [0.4, \"#fde0ef\"], [0.5, \"#f7f7f7\"], [0.6, \"#e6f5d0\"], [0.7, \"#b8e186\"], [0.8, \"#7fbc41\"], [0.9, \"#4d9221\"], [1, \"#276419\"]], \"sequential\": [[0.0, \"#0d0887\"], [0.1111111111111111, \"#46039f\"], [0.2222222222222222, \"#7201a8\"], [0.3333333333333333, \"#9c179e\"], [0.4444444444444444, \"#bd3786\"], [0.5555555555555556, \"#d8576b\"], [0.6666666666666666, \"#ed7953\"], [0.7777777777777778, \"#fb9f3a\"], [0.8888888888888888, \"#fdca26\"], [1.0, \"#f0f921\"]], \"sequentialminus\": [[0.0, \"#0d0887\"], [0.1111111111111111, \"#46039f\"], [0.2222222222222222, \"#7201a8\"], [0.3333333333333333, \"#9c179e\"], [0.4444444444444444, \"#bd3786\"], [0.5555555555555556, \"#d8576b\"], [0.6666666666666666, \"#ed7953\"], [0.7777777777777778, \"#fb9f3a\"], [0.8888888888888888, \"#fdca26\"], [1.0, \"#f0f921\"]]}, \"colorway\": [\"#636efa\", \"#EF553B\", \"#00cc96\", \"#ab63fa\", \"#FFA15A\", \"#19d3f3\", \"#FF6692\", \"#B6E880\", \"#FF97FF\", \"#FECB52\"], \"font\": {\"color\": \"#2a3f5f\"}, \"geo\": {\"bgcolor\": \"white\", \"lakecolor\": \"white\", \"landcolor\": \"#E5ECF6\", \"showlakes\": true, \"showland\": true, \"subunitcolor\": \"white\"}, \"hoverlabel\": {\"align\": \"left\"}, \"hovermode\": \"closest\", \"mapbox\": {\"style\": \"light\"}, \"paper_bgcolor\": \"white\", \"plot_bgcolor\": \"#E5ECF6\", \"polar\": {\"angularaxis\": {\"gridcolor\": \"white\", \"linecolor\": \"white\", \"ticks\": \"\"}, \"bgcolor\": \"#E5ECF6\", \"radialaxis\": {\"gridcolor\": \"white\", \"linecolor\": \"white\", \"ticks\": \"\"}}, \"scene\": {\"xaxis\": {\"backgroundcolor\": \"#E5ECF6\", \"gridcolor\": \"white\", \"gridwidth\": 2, \"linecolor\": \"white\", \"showbackground\": true, \"ticks\": \"\", \"zerolinecolor\": \"white\"}, \"yaxis\": {\"backgroundcolor\": \"#E5ECF6\", \"gridcolor\": \"white\", \"gridwidth\": 2, \"linecolor\": \"white\", \"showbackground\": true, \"ticks\": \"\", \"zerolinecolor\": \"white\"}, \"zaxis\": {\"backgroundcolor\": \"#E5ECF6\", \"gridcolor\": \"white\", \"gridwidth\": 2, \"linecolor\": \"white\", \"showbackground\": true, \"ticks\": \"\", \"zerolinecolor\": \"white\"}}, \"shapedefaults\": {\"line\": {\"color\": \"#2a3f5f\"}}, \"ternary\": {\"aaxis\": {\"gridcolor\": \"white\", \"linecolor\": \"white\", \"ticks\": \"\"}, \"baxis\": {\"gridcolor\": \"white\", \"linecolor\": \"white\", \"ticks\": \"\"}, \"bgcolor\": \"#E5ECF6\", \"caxis\": {\"gridcolor\": \"white\", \"linecolor\": \"white\", \"ticks\": \"\"}}, \"title\": {\"x\": 0.05}, \"xaxis\": {\"automargin\": true, \"gridcolor\": \"white\", \"linecolor\": \"white\", \"ticks\": \"\", \"title\": {\"standoff\": 15}, \"zerolinecolor\": \"white\", \"zerolinewidth\": 2}, \"yaxis\": {\"automargin\": true, \"gridcolor\": \"white\", \"linecolor\": \"white\", \"ticks\": \"\", \"title\": {\"standoff\": 15}, \"zerolinecolor\": \"white\", \"zerolinewidth\": 2}}}, \"title\": {\"text\": \"<b>Model performance report</b><br>Salary Predictor with BatchNorm<br><br><br><br><br><br><br><br><br><br><br><br><br><br><br><br><br><br><br><br><br><br><br><br><b><i>Train Loss Stat Values:</i></b><br>Max: 101.52   Mean: 8.10   Min: 0.09   Median: 0.16   Var: 519.76<br><br><b><i>Mean Absolute Error Stat Values:</i></b><br>Max: 2.45   Mean: 0.33   Min: 0.06   Median: 0.08   Var: 0.38<br><br><b><i>Mean Mean Squared Error Stat Values:</i></b><br>Max: 24.00   Mean: 1.97   Min: 0.03   Median: 0.04   Var: 30.31\", \"x\": 0.5, \"xanchor\": \"center\", \"y\": 0.95, \"yanchor\": \"top\"}, \"width\": 900, \"xaxis\": {\"anchor\": \"y\", \"domain\": [0.0, 1.0]}, \"xaxis2\": {\"anchor\": \"y2\", \"domain\": [0.0, 1.0]}, \"yaxis\": {\"anchor\": \"x\", \"domain\": [0.625, 1.0], \"range\": [0, 1]}, \"yaxis2\": {\"anchor\": \"x2\", \"domain\": [0.0, 0.375], \"range\": [0, 1]}},                        {\"responsive\": true}                    ).then(function(){\n",
       "                            \n",
       "var gd = document.getElementById('1a41979f-38a4-4143-bb82-f20934b61c32');\n",
       "var x = new MutationObserver(function (mutations, observer) {{\n",
       "        var display = window.getComputedStyle(gd).display;\n",
       "        if (!display || display === 'none') {{\n",
       "            console.log([gd, 'removed!']);\n",
       "            Plotly.purge(gd);\n",
       "            observer.disconnect();\n",
       "        }}\n",
       "}});\n",
       "\n",
       "// Listen for the removal of the full notebook cells\n",
       "var notebookContainer = gd.closest('#notebook-container');\n",
       "if (notebookContainer) {{\n",
       "    x.observe(notebookContainer, {childList: true});\n",
       "}}\n",
       "\n",
       "// Listen for the clearing of the current output cell\n",
       "var outputEl = gd.closest('.output');\n",
       "if (outputEl) {{\n",
       "    x.observe(outputEl, {childList: true});\n",
       "}}\n",
       "\n",
       "                        })                };                });            </script>        </div>"
      ]
     },
     "metadata": {},
     "output_type": "display_data"
    }
   ],
   "source": [
    "draw_loss_acc_plot('Salary Predictor with BatchNorm and One Additional Layer', train_loss_3, list_mae_3, list_mse_3)"
   ]
  },
  {
   "cell_type": "markdown",
   "metadata": {},
   "source": [
    "**Ещё добавление дополнительных слоёв nn.Conv1d**"
   ]
  },
  {
   "cell_type": "code",
   "execution_count": 94,
   "metadata": {},
   "outputs": [],
   "source": [
    "class SalaryPredictorwBatchNormAddLayers1(nn.Module):\n",
    "    def __init__(self, n_tokens=len(tokens), n_cat_features=len(categorical_vectorizer.vocabulary_), hid_size=8):\n",
    "        super().__init__()\n",
    "        self.embedder = nn.Embedding(n_tokens, hid_size)\n",
    "        self.conv1 = nn.Sequential(\n",
    "            nn.Conv1d(hid_size, hid_size, kernel_size=3),\n",
    "            nn.Dropout(p=0.25),\n",
    "            nn.BatchNorm1d(hid_size),\n",
    "            nn.ReLU()\n",
    "        )\n",
    "        self.pool1 = nn.AdaptiveAvgPool1d(output_size=1)\n",
    "        \n",
    "        self.conv2 = nn.Sequential(\n",
    "            nn.Conv1d(hid_size, hid_size, kernel_size=3),\n",
    "            nn.Conv1d(hid_size, hid_size, kernel_size=3),\n",
    "            nn.Dropout(p=0.25),\n",
    "            nn.BatchNorm1d(hid_size),\n",
    "            nn.ReLU())\n",
    "        self.pool2 = nn.AdaptiveAvgPool1d(output_size=1)\n",
    "        \n",
    "        self.conv3 = nn.Sequential(\n",
    "            nn.Conv1d(hid_size, hid_size, kernel_size=3),\n",
    "            nn.Conv1d(hid_size, hid_size, kernel_size=3),\n",
    "            nn.Conv1d(hid_size, hid_size, kernel_size=3),\n",
    "            nn.Dropout(p=0.25),\n",
    "            nn.BatchNorm1d(hid_size),\n",
    "            nn.ReLU())\n",
    "        self.pool3 = nn.AdaptiveAvgPool1d(output_size=1)\n",
    "        \n",
    "        self.description_encoder = nn.Sequential(\n",
    "            nn.Conv1d(hid_size, hid_size, kernel_size=2),\n",
    "            nn.Dropout(p=0.25),\n",
    "            nn.BatchNorm1d(hid_size),\n",
    "            nn.ReLU(),\n",
    "            nn.AdaptiveMaxPool1d(output_size=1)\n",
    "        )\n",
    "        self.categorical_encoder = nn.Sequential(\n",
    "            nn.Linear(n_cat_features, hid_size * 2),\n",
    "            nn.BatchNorm1d(hid_size * 2),\n",
    "            nn.ReLU(),\n",
    "            nn.Linear(hid_size * 2, hid_size * 2),\n",
    "            nn.ReLU()\n",
    "        )\n",
    "        self.final_predictor = nn.Sequential(\n",
    "            nn.Linear(hid_size * 6, hid_size),\n",
    "            nn.BatchNorm1d(hid_size),\n",
    "            nn.ReLU(),\n",
    "            nn.Linear(hid_size, 1)\n",
    "        )\n",
    "\n",
    "    def forward(self, batch):\n",
    "        title_embeddings = self.embedder(batch['Title']).permute(0, 2, 1)\n",
    "\n",
    "        title_conv_features1 = self.conv1(title_embeddings)\n",
    "        title_features1 = self.pool1(title_conv_features1).squeeze()\n",
    "\n",
    "        title_conv_features2 = self.conv2(title_embeddings)\n",
    "        title_features2 = self.pool2(title_conv_features2).squeeze()\n",
    "\n",
    "        title_conv_features3 = self.conv3(title_embeddings)\n",
    "        title_features3 = self.pool3(title_conv_features3).squeeze()\n",
    "        \n",
    "        description_embeddings = self.embedder(batch['FullDescription']).permute(0, 2, 1)\n",
    "        description_features = self.description_encoder(description_embeddings).squeeze()\n",
    "\n",
    "        categorical_features = self.categorical_encoder(batch['Categorical'].float())\n",
    "\n",
    "        features = torch.cat(\n",
    "            [title_features1, title_features2, title_features3, description_features, categorical_features], dim=1)\n",
    "\n",
    "        return self.final_predictor(features).squeeze()"
   ]
  },
  {
   "cell_type": "code",
   "execution_count": 95,
   "metadata": {},
   "outputs": [
    {
     "name": "stdout",
     "output_type": "stream",
     "text": [
      "epoch: 0\n"
     ]
    },
    {
     "data": {
      "application/vnd.jupyter.widget-view+json": {
       "model_id": "8bd9d7febbd64a4c998fbdb4e52f36e2",
       "version_major": 2,
       "version_minor": 0
      },
      "text/plain": [
       "HBox(children=(FloatProgress(value=0.0, max=1721.0), HTML(value='')))"
      ]
     },
     "metadata": {},
     "output_type": "display_data"
    },
    {
     "name": "stdout",
     "output_type": "stream",
     "text": [
      "train_loss 81.50096893310547\n",
      "val results:\n",
      "Mean square error: 21.25392\n",
      "Mean absolute error: 2.30111\n",
      "train_loss 65.27278137207031\n",
      "val results:\n",
      "Mean square error: 16.19559\n",
      "Mean absolute error: 2.00633\n",
      "train_loss 50.26544189453125\n",
      "val results:\n",
      "Mean square error: 12.41097\n",
      "Mean absolute error: 1.75414\n",
      "train_loss 36.622528076171875\n",
      "val results:\n",
      "Mean square error: 8.96244\n",
      "Mean absolute error: 1.48815\n",
      "train_loss 22.836894989013672\n",
      "val results:\n",
      "Mean square error: 5.39795\n",
      "Mean absolute error: 1.14882\n",
      "train_loss 11.974799156188965\n",
      "val results:\n",
      "Mean square error: 3.14036\n",
      "Mean absolute error: 0.87196\n",
      "train_loss 7.861319541931152\n",
      "val results:\n",
      "Mean square error: 1.59721\n",
      "Mean absolute error: 0.61671\n",
      "train_loss 2.361323356628418\n",
      "val results:\n",
      "Mean square error: 0.78594\n",
      "Mean absolute error: 0.42241\n",
      "train_loss 0.9938887357711792\n",
      "val results:\n",
      "Mean square error: 0.40371\n",
      "Mean absolute error: 0.29261\n",
      "train_loss 0.4405716061592102\n",
      "val results:\n",
      "Mean square error: 0.23525\n",
      "Mean absolute error: 0.20839\n",
      "train_loss 0.3799290955066681\n",
      "val results:\n",
      "Mean square error: 0.12273\n",
      "Mean absolute error: 0.13789\n",
      "train_loss 0.3621569871902466\n",
      "val results:\n",
      "Mean square error: 0.10631\n",
      "Mean absolute error: 0.12612\n",
      "train_loss 0.24354487657546997\n",
      "val results:\n",
      "Mean square error: 0.10538\n",
      "Mean absolute error: 0.12504\n",
      "train_loss 0.3748159110546112\n",
      "val results:\n",
      "Mean square error: 0.09580\n",
      "Mean absolute error: 0.11924\n",
      "train_loss 0.38859623670578003\n",
      "val results:\n",
      "Mean square error: 0.08621\n",
      "Mean absolute error: 0.11117\n",
      "train_loss 0.24350109696388245\n",
      "val results:\n",
      "Mean square error: 0.11280\n",
      "Mean absolute error: 0.13251\n",
      "train_loss 0.20805777609348297\n",
      "val results:\n",
      "Mean square error: 0.07180\n",
      "Mean absolute error: 0.10243\n",
      "\n",
      "epoch: 1\n"
     ]
    },
    {
     "data": {
      "application/vnd.jupyter.widget-view+json": {
       "model_id": "9f05252cf1b0454086342d20bc927ebf",
       "version_major": 2,
       "version_minor": 0
      },
      "text/plain": [
       "HBox(children=(FloatProgress(value=0.0, max=1721.0), HTML(value='')))"
      ]
     },
     "metadata": {},
     "output_type": "display_data"
    },
    {
     "name": "stdout",
     "output_type": "stream",
     "text": [
      "train_loss 0.3007611036300659\n",
      "val results:\n",
      "Mean square error: 0.08359\n",
      "Mean absolute error: 0.11723\n",
      "train_loss 0.19706463813781738\n",
      "val results:\n",
      "Mean square error: 0.06359\n",
      "Mean absolute error: 0.09827\n",
      "train_loss 0.23339062929153442\n",
      "val results:\n",
      "Mean square error: 0.06217\n",
      "Mean absolute error: 0.09930\n",
      "train_loss 0.2436155378818512\n",
      "val results:\n",
      "Mean square error: 0.05649\n",
      "Mean absolute error: 0.09374\n",
      "train_loss 0.21155378222465515\n",
      "val results:\n",
      "Mean square error: 0.05612\n",
      "Mean absolute error: 0.09219\n",
      "train_loss 0.19714762270450592\n",
      "val results:\n",
      "Mean square error: 0.05442\n",
      "Mean absolute error: 0.08982\n",
      "train_loss 0.18307793140411377\n",
      "val results:\n",
      "Mean square error: 0.05933\n",
      "Mean absolute error: 0.09443\n",
      "train_loss 0.22091397643089294\n",
      "val results:\n",
      "Mean square error: 0.05028\n",
      "Mean absolute error: 0.08649\n",
      "train_loss 0.19389063119888306\n",
      "val results:\n",
      "Mean square error: 0.05917\n",
      "Mean absolute error: 0.09432\n",
      "train_loss 0.19259989261627197\n",
      "val results:\n",
      "Mean square error: 0.05251\n",
      "Mean absolute error: 0.08863\n",
      "train_loss 0.20453190803527832\n",
      "val results:\n",
      "Mean square error: 0.04717\n",
      "Mean absolute error: 0.08408\n",
      "train_loss 0.24609366059303284\n",
      "val results:\n",
      "Mean square error: 0.04738\n",
      "Mean absolute error: 0.08421\n",
      "train_loss 0.21907120943069458\n",
      "val results:\n",
      "Mean square error: 0.05221\n",
      "Mean absolute error: 0.08921\n",
      "train_loss 0.21951720118522644\n",
      "val results:\n",
      "Mean square error: 0.05413\n",
      "Mean absolute error: 0.09036\n",
      "train_loss 0.19716902077198029\n",
      "val results:\n",
      "Mean square error: 0.04987\n",
      "Mean absolute error: 0.08674\n",
      "train_loss 0.25097838044166565\n",
      "val results:\n",
      "Mean square error: 0.06074\n",
      "Mean absolute error: 0.09645\n",
      "train_loss 0.19822488725185394\n",
      "val results:\n",
      "Mean square error: 0.05704\n",
      "Mean absolute error: 0.09326\n",
      "\n",
      "epoch: 2\n"
     ]
    },
    {
     "data": {
      "application/vnd.jupyter.widget-view+json": {
       "model_id": "cf0c5d66de9b4b8ba9cd335d28404037",
       "version_major": 2,
       "version_minor": 0
      },
      "text/plain": [
       "HBox(children=(FloatProgress(value=0.0, max=1721.0), HTML(value='')))"
      ]
     },
     "metadata": {},
     "output_type": "display_data"
    },
    {
     "name": "stdout",
     "output_type": "stream",
     "text": [
      "train_loss 0.2148781716823578\n",
      "val results:\n",
      "Mean square error: 0.05263\n",
      "Mean absolute error: 0.08923\n",
      "train_loss 0.2201855182647705\n",
      "val results:\n",
      "Mean square error: 0.04755\n",
      "Mean absolute error: 0.08470\n",
      "train_loss 0.1567983478307724\n",
      "val results:\n",
      "Mean square error: 0.05104\n",
      "Mean absolute error: 0.08750\n",
      "train_loss 0.1843024492263794\n",
      "val results:\n",
      "Mean square error: 0.05643\n",
      "Mean absolute error: 0.09283\n",
      "train_loss 0.17232707142829895\n",
      "val results:\n",
      "Mean square error: 0.05562\n",
      "Mean absolute error: 0.09226\n",
      "train_loss 0.1802239716053009\n",
      "val results:\n",
      "Mean square error: 0.04674\n",
      "Mean absolute error: 0.08367\n",
      "train_loss 0.15436388552188873\n",
      "val results:\n",
      "Mean square error: 0.04595\n",
      "Mean absolute error: 0.08292\n",
      "train_loss 0.16076317429542542\n",
      "val results:\n",
      "Mean square error: 0.04500\n",
      "Mean absolute error: 0.08216\n",
      "train_loss 0.1914668083190918\n",
      "val results:\n",
      "Mean square error: 0.04654\n",
      "Mean absolute error: 0.08348\n",
      "train_loss 0.12990981340408325\n",
      "val results:\n",
      "Mean square error: 0.04790\n",
      "Mean absolute error: 0.08549\n",
      "train_loss 0.14208301901817322\n",
      "val results:\n",
      "Mean square error: 0.04758\n",
      "Mean absolute error: 0.08462\n",
      "train_loss 0.1182536855340004\n",
      "val results:\n",
      "Mean square error: 0.04236\n",
      "Mean absolute error: 0.07984\n",
      "train_loss 0.15678660571575165\n",
      "val results:\n",
      "Mean square error: 0.05546\n",
      "Mean absolute error: 0.09278\n",
      "train_loss 0.1463371217250824\n",
      "val results:\n",
      "Mean square error: 0.04151\n",
      "Mean absolute error: 0.07898\n",
      "train_loss 0.12006581574678421\n",
      "val results:\n",
      "Mean square error: 0.03626\n",
      "Mean absolute error: 0.07286\n",
      "train_loss 0.16676148772239685\n",
      "val results:\n",
      "Mean square error: 0.05174\n",
      "Mean absolute error: 0.08970\n",
      "train_loss 0.17165778577327728\n",
      "val results:\n",
      "Mean square error: 0.05714\n",
      "Mean absolute error: 0.09484\n",
      "\n"
     ]
    }
   ],
   "source": [
    "model = SalaryPredictorwBatchNormAddLayers1().to(DEVICE)\n",
    "criterion = nn.MSELoss(reduction='mean')\n",
    "optimizer = torch.optim.Adam(model.parameters(), lr=1e-3)\n",
    "list_mse_4 = []\n",
    "list_mae_4 = []\n",
    "train_loss_4 = []\n",
    "\n",
    "for epoch in range(EPOCHS):\n",
    "    print(f\"epoch: {epoch}\")\n",
    "    for i, batch in tqdm.notebook.tqdm(enumerate(\n",
    "            iterate_minibatches(\n",
    "                    data_train, \n",
    "                    batch_size=BATCH_SIZE, \n",
    "                    device=DEVICE)), \n",
    "                total=len(data_train) // BATCH_SIZE\n",
    "        ):\n",
    "        model.train()\n",
    "        pred = model(batch)\n",
    "        optimizer.zero_grad()\n",
    "        loss = criterion(pred, batch[TARGET_COLUMN])\n",
    "        loss.backward()\n",
    "        optimizer.step()\n",
    "\n",
    "        if i % 100 == 99:\n",
    "            print('train_loss', loss.item())\n",
    "            train_loss_4.append(loss.item())\n",
    "            print_metrics(model, data_val, list_mse=list_mse_4, list_mae=list_mae_4, \n",
    "                          name='val', batch_size=BATCH_SIZE, device=DEVICE)"
   ]
  },
  {
   "cell_type": "code",
   "execution_count": 96,
   "metadata": {},
   "outputs": [
    {
     "data": {
      "application/vnd.plotly.v1+json": {
       "config": {
        "linkText": "Export to plot.ly",
        "plotlyServerURL": "https://plot.ly",
        "showLink": false
       },
       "data": [
        {
         "mode": "lines",
         "name": "Train Loss",
         "showlegend": false,
         "type": "scatter",
         "x": [
          0,
          1,
          2,
          3,
          4,
          5,
          6,
          7,
          8,
          9,
          10,
          11,
          12,
          13,
          14,
          15,
          16,
          17,
          18,
          19,
          20,
          21,
          22,
          23,
          24,
          25,
          26,
          27,
          28,
          29,
          30,
          31,
          32,
          33,
          34,
          35,
          36,
          37,
          38,
          39,
          40,
          41,
          42,
          43,
          44,
          45,
          46,
          47,
          48,
          49,
          50
         ],
         "xaxis": "x",
         "y": [
          81.50096893310547,
          65.27278137207031,
          50.26544189453125,
          36.622528076171875,
          22.836894989013672,
          11.974799156188965,
          7.861319541931152,
          2.361323356628418,
          0.9938887357711792,
          0.4405716061592102,
          0.3799290955066681,
          0.3621569871902466,
          0.24354487657546997,
          0.3748159110546112,
          0.38859623670578003,
          0.24350109696388245,
          0.20805777609348297,
          0.3007611036300659,
          0.19706463813781738,
          0.23339062929153442,
          0.2436155378818512,
          0.21155378222465515,
          0.19714762270450592,
          0.18307793140411377,
          0.22091397643089294,
          0.19389063119888306,
          0.19259989261627197,
          0.20453190803527832,
          0.24609366059303284,
          0.21907120943069458,
          0.21951720118522644,
          0.19716902077198029,
          0.25097838044166565,
          0.19822488725185394,
          0.2148781716823578,
          0.2201855182647705,
          0.1567983478307724,
          0.1843024492263794,
          0.17232707142829895,
          0.1802239716053009,
          0.15436388552188873,
          0.16076317429542542,
          0.1914668083190918,
          0.12990981340408325,
          0.14208301901817322,
          0.1182536855340004,
          0.15678660571575165,
          0.1463371217250824,
          0.12006581574678421,
          0.16676148772239685,
          0.17165778577327728
         ],
         "yaxis": "y"
        },
        {
         "mode": "lines",
         "name": "MAE",
         "type": "scatter",
         "x": [
          0,
          1,
          2,
          3,
          4,
          5,
          6,
          7,
          8,
          9,
          10,
          11,
          12,
          13,
          14,
          15,
          16,
          17,
          18,
          19,
          20,
          21,
          22,
          23,
          24,
          25,
          26,
          27,
          28,
          29,
          30,
          31,
          32,
          33,
          34,
          35,
          36,
          37,
          38,
          39,
          40,
          41,
          42,
          43,
          44,
          45,
          46,
          47,
          48,
          49,
          50
         ],
         "xaxis": "x2",
         "y": [
          2.3011067708333335,
          2.0063300132751465,
          1.754137357076009,
          1.4881517092386882,
          1.1488221486409504,
          0.8719596862792969,
          0.6167068878809611,
          0.4224115212758382,
          0.29261310895284015,
          0.20839166641235352,
          0.1378917396068573,
          0.12612158060073853,
          0.1250408093134562,
          0.11924102902412415,
          0.11117479205131531,
          0.13250823815663657,
          0.10243416825930278,
          0.11723112066586812,
          0.09826570749282837,
          0.09930471579233806,
          0.09373550613721211,
          0.09219204386075337,
          0.08981645107269287,
          0.09442925453186035,
          0.08648542563120525,
          0.09432432055473328,
          0.08862892786661784,
          0.08407739798227946,
          0.08421117067337036,
          0.08921365936597188,
          0.09036114811897278,
          0.08674453695615132,
          0.0964534084002177,
          0.09325745701789856,
          0.08923442165056865,
          0.0847023328145345,
          0.08750004569689433,
          0.09283194939295451,
          0.09225990374883015,
          0.08367207646369934,
          0.08292439083258311,
          0.08215896288553874,
          0.08347720901171367,
          0.08549209435780843,
          0.08462438980738322,
          0.07984244326750438,
          0.09277900060017903,
          0.07897597551345825,
          0.07286008695761363,
          0.08969863255818684,
          0.09483705957730611
         ],
         "yaxis": "y2"
        },
        {
         "mode": "lines",
         "name": "MSE",
         "type": "scatter",
         "x": [
          0,
          1,
          2,
          3,
          4,
          5,
          6,
          7,
          8,
          9,
          10,
          11,
          12,
          13,
          14,
          15,
          16,
          17,
          18,
          19,
          20,
          21,
          22,
          23,
          24,
          25,
          26,
          27,
          28,
          29,
          30,
          31,
          32,
          33,
          34,
          35,
          36,
          37,
          38,
          39,
          40,
          41,
          42,
          43,
          44,
          45,
          46,
          47,
          48,
          49,
          50
         ],
         "xaxis": "x2",
         "y": [
          21.25391896565755,
          16.19559097290039,
          12.410970052083334,
          8.962443033854166,
          5.397950490315755,
          3.140360196431478,
          1.5972062746683757,
          0.7859384218851725,
          0.40370925267537433,
          0.23525110880533853,
          0.12272810935974121,
          0.10630793372790019,
          0.10538456837336223,
          0.0958045522371928,
          0.08620623747507732,
          0.11280197898546855,
          0.07179779311021169,
          0.0835914413134257,
          0.06358695526917775,
          0.06216829021771749,
          0.05649002889792124,
          0.056116352478663124,
          0.0544226864973704,
          0.05933199326197306,
          0.05027568837006887,
          0.05917323629061381,
          0.052507251501083374,
          0.04716675480206808,
          0.04738097886244456,
          0.05221168200174967,
          0.05412607888380686,
          0.04987343649069468,
          0.06074078877766927,
          0.05703637500603994,
          0.052626570065816246,
          0.047545820474624634,
          0.05104212462902069,
          0.05643414954344431,
          0.05562286078929901,
          0.046736727158228554,
          0.045952762166659035,
          0.04499683280785879,
          0.04654218256473541,
          0.04790337383747101,
          0.047581419348716736,
          0.042361289262771606,
          0.05545662840207418,
          0.041512347757816315,
          0.03625894089539846,
          0.051738277077674866,
          0.0571397989988327
         ],
         "yaxis": "y2"
        }
       ],
       "layout": {
        "annotations": [
         {
          "font": {
           "size": 16
          },
          "showarrow": false,
          "text": "<b>Train Loss</b>",
          "x": 0.5,
          "xanchor": "center",
          "xref": "paper",
          "y": 1,
          "yanchor": "bottom",
          "yref": "paper"
         },
         {
          "font": {
           "size": 16
          },
          "showarrow": false,
          "text": "<b>Test Metrics</b>",
          "x": 0.5,
          "xanchor": "center",
          "xref": "paper",
          "y": 0.375,
          "yanchor": "bottom",
          "yref": "paper"
         }
        ],
        "autosize": false,
        "height": 780,
        "legend": {
         "x": 1,
         "y": 0.15
        },
        "margin": {
         "b": 270
        },
        "paper_bgcolor": "rgba(240, 240, 240, 0.95)",
        "plot_bgcolor": "rgba(240, 240, 240, 0.95)",
        "template": {
         "data": {
          "bar": [
           {
            "error_x": {
             "color": "#2a3f5f"
            },
            "error_y": {
             "color": "#2a3f5f"
            },
            "marker": {
             "line": {
              "color": "#E5ECF6",
              "width": 0.5
             }
            },
            "type": "bar"
           }
          ],
          "barpolar": [
           {
            "marker": {
             "line": {
              "color": "#E5ECF6",
              "width": 0.5
             }
            },
            "type": "barpolar"
           }
          ],
          "carpet": [
           {
            "aaxis": {
             "endlinecolor": "#2a3f5f",
             "gridcolor": "white",
             "linecolor": "white",
             "minorgridcolor": "white",
             "startlinecolor": "#2a3f5f"
            },
            "baxis": {
             "endlinecolor": "#2a3f5f",
             "gridcolor": "white",
             "linecolor": "white",
             "minorgridcolor": "white",
             "startlinecolor": "#2a3f5f"
            },
            "type": "carpet"
           }
          ],
          "choropleth": [
           {
            "colorbar": {
             "outlinewidth": 0,
             "ticks": ""
            },
            "type": "choropleth"
           }
          ],
          "contour": [
           {
            "colorbar": {
             "outlinewidth": 0,
             "ticks": ""
            },
            "colorscale": [
             [
              0,
              "#0d0887"
             ],
             [
              0.1111111111111111,
              "#46039f"
             ],
             [
              0.2222222222222222,
              "#7201a8"
             ],
             [
              0.3333333333333333,
              "#9c179e"
             ],
             [
              0.4444444444444444,
              "#bd3786"
             ],
             [
              0.5555555555555556,
              "#d8576b"
             ],
             [
              0.6666666666666666,
              "#ed7953"
             ],
             [
              0.7777777777777778,
              "#fb9f3a"
             ],
             [
              0.8888888888888888,
              "#fdca26"
             ],
             [
              1,
              "#f0f921"
             ]
            ],
            "type": "contour"
           }
          ],
          "contourcarpet": [
           {
            "colorbar": {
             "outlinewidth": 0,
             "ticks": ""
            },
            "type": "contourcarpet"
           }
          ],
          "heatmap": [
           {
            "colorbar": {
             "outlinewidth": 0,
             "ticks": ""
            },
            "colorscale": [
             [
              0,
              "#0d0887"
             ],
             [
              0.1111111111111111,
              "#46039f"
             ],
             [
              0.2222222222222222,
              "#7201a8"
             ],
             [
              0.3333333333333333,
              "#9c179e"
             ],
             [
              0.4444444444444444,
              "#bd3786"
             ],
             [
              0.5555555555555556,
              "#d8576b"
             ],
             [
              0.6666666666666666,
              "#ed7953"
             ],
             [
              0.7777777777777778,
              "#fb9f3a"
             ],
             [
              0.8888888888888888,
              "#fdca26"
             ],
             [
              1,
              "#f0f921"
             ]
            ],
            "type": "heatmap"
           }
          ],
          "heatmapgl": [
           {
            "colorbar": {
             "outlinewidth": 0,
             "ticks": ""
            },
            "colorscale": [
             [
              0,
              "#0d0887"
             ],
             [
              0.1111111111111111,
              "#46039f"
             ],
             [
              0.2222222222222222,
              "#7201a8"
             ],
             [
              0.3333333333333333,
              "#9c179e"
             ],
             [
              0.4444444444444444,
              "#bd3786"
             ],
             [
              0.5555555555555556,
              "#d8576b"
             ],
             [
              0.6666666666666666,
              "#ed7953"
             ],
             [
              0.7777777777777778,
              "#fb9f3a"
             ],
             [
              0.8888888888888888,
              "#fdca26"
             ],
             [
              1,
              "#f0f921"
             ]
            ],
            "type": "heatmapgl"
           }
          ],
          "histogram": [
           {
            "marker": {
             "colorbar": {
              "outlinewidth": 0,
              "ticks": ""
             }
            },
            "type": "histogram"
           }
          ],
          "histogram2d": [
           {
            "colorbar": {
             "outlinewidth": 0,
             "ticks": ""
            },
            "colorscale": [
             [
              0,
              "#0d0887"
             ],
             [
              0.1111111111111111,
              "#46039f"
             ],
             [
              0.2222222222222222,
              "#7201a8"
             ],
             [
              0.3333333333333333,
              "#9c179e"
             ],
             [
              0.4444444444444444,
              "#bd3786"
             ],
             [
              0.5555555555555556,
              "#d8576b"
             ],
             [
              0.6666666666666666,
              "#ed7953"
             ],
             [
              0.7777777777777778,
              "#fb9f3a"
             ],
             [
              0.8888888888888888,
              "#fdca26"
             ],
             [
              1,
              "#f0f921"
             ]
            ],
            "type": "histogram2d"
           }
          ],
          "histogram2dcontour": [
           {
            "colorbar": {
             "outlinewidth": 0,
             "ticks": ""
            },
            "colorscale": [
             [
              0,
              "#0d0887"
             ],
             [
              0.1111111111111111,
              "#46039f"
             ],
             [
              0.2222222222222222,
              "#7201a8"
             ],
             [
              0.3333333333333333,
              "#9c179e"
             ],
             [
              0.4444444444444444,
              "#bd3786"
             ],
             [
              0.5555555555555556,
              "#d8576b"
             ],
             [
              0.6666666666666666,
              "#ed7953"
             ],
             [
              0.7777777777777778,
              "#fb9f3a"
             ],
             [
              0.8888888888888888,
              "#fdca26"
             ],
             [
              1,
              "#f0f921"
             ]
            ],
            "type": "histogram2dcontour"
           }
          ],
          "mesh3d": [
           {
            "colorbar": {
             "outlinewidth": 0,
             "ticks": ""
            },
            "type": "mesh3d"
           }
          ],
          "parcoords": [
           {
            "line": {
             "colorbar": {
              "outlinewidth": 0,
              "ticks": ""
             }
            },
            "type": "parcoords"
           }
          ],
          "pie": [
           {
            "automargin": true,
            "type": "pie"
           }
          ],
          "scatter": [
           {
            "marker": {
             "colorbar": {
              "outlinewidth": 0,
              "ticks": ""
             }
            },
            "type": "scatter"
           }
          ],
          "scatter3d": [
           {
            "line": {
             "colorbar": {
              "outlinewidth": 0,
              "ticks": ""
             }
            },
            "marker": {
             "colorbar": {
              "outlinewidth": 0,
              "ticks": ""
             }
            },
            "type": "scatter3d"
           }
          ],
          "scattercarpet": [
           {
            "marker": {
             "colorbar": {
              "outlinewidth": 0,
              "ticks": ""
             }
            },
            "type": "scattercarpet"
           }
          ],
          "scattergeo": [
           {
            "marker": {
             "colorbar": {
              "outlinewidth": 0,
              "ticks": ""
             }
            },
            "type": "scattergeo"
           }
          ],
          "scattergl": [
           {
            "marker": {
             "colorbar": {
              "outlinewidth": 0,
              "ticks": ""
             }
            },
            "type": "scattergl"
           }
          ],
          "scattermapbox": [
           {
            "marker": {
             "colorbar": {
              "outlinewidth": 0,
              "ticks": ""
             }
            },
            "type": "scattermapbox"
           }
          ],
          "scatterpolar": [
           {
            "marker": {
             "colorbar": {
              "outlinewidth": 0,
              "ticks": ""
             }
            },
            "type": "scatterpolar"
           }
          ],
          "scatterpolargl": [
           {
            "marker": {
             "colorbar": {
              "outlinewidth": 0,
              "ticks": ""
             }
            },
            "type": "scatterpolargl"
           }
          ],
          "scatterternary": [
           {
            "marker": {
             "colorbar": {
              "outlinewidth": 0,
              "ticks": ""
             }
            },
            "type": "scatterternary"
           }
          ],
          "surface": [
           {
            "colorbar": {
             "outlinewidth": 0,
             "ticks": ""
            },
            "colorscale": [
             [
              0,
              "#0d0887"
             ],
             [
              0.1111111111111111,
              "#46039f"
             ],
             [
              0.2222222222222222,
              "#7201a8"
             ],
             [
              0.3333333333333333,
              "#9c179e"
             ],
             [
              0.4444444444444444,
              "#bd3786"
             ],
             [
              0.5555555555555556,
              "#d8576b"
             ],
             [
              0.6666666666666666,
              "#ed7953"
             ],
             [
              0.7777777777777778,
              "#fb9f3a"
             ],
             [
              0.8888888888888888,
              "#fdca26"
             ],
             [
              1,
              "#f0f921"
             ]
            ],
            "type": "surface"
           }
          ],
          "table": [
           {
            "cells": {
             "fill": {
              "color": "#EBF0F8"
             },
             "line": {
              "color": "white"
             }
            },
            "header": {
             "fill": {
              "color": "#C8D4E3"
             },
             "line": {
              "color": "white"
             }
            },
            "type": "table"
           }
          ]
         },
         "layout": {
          "annotationdefaults": {
           "arrowcolor": "#2a3f5f",
           "arrowhead": 0,
           "arrowwidth": 1
          },
          "coloraxis": {
           "colorbar": {
            "outlinewidth": 0,
            "ticks": ""
           }
          },
          "colorscale": {
           "diverging": [
            [
             0,
             "#8e0152"
            ],
            [
             0.1,
             "#c51b7d"
            ],
            [
             0.2,
             "#de77ae"
            ],
            [
             0.3,
             "#f1b6da"
            ],
            [
             0.4,
             "#fde0ef"
            ],
            [
             0.5,
             "#f7f7f7"
            ],
            [
             0.6,
             "#e6f5d0"
            ],
            [
             0.7,
             "#b8e186"
            ],
            [
             0.8,
             "#7fbc41"
            ],
            [
             0.9,
             "#4d9221"
            ],
            [
             1,
             "#276419"
            ]
           ],
           "sequential": [
            [
             0,
             "#0d0887"
            ],
            [
             0.1111111111111111,
             "#46039f"
            ],
            [
             0.2222222222222222,
             "#7201a8"
            ],
            [
             0.3333333333333333,
             "#9c179e"
            ],
            [
             0.4444444444444444,
             "#bd3786"
            ],
            [
             0.5555555555555556,
             "#d8576b"
            ],
            [
             0.6666666666666666,
             "#ed7953"
            ],
            [
             0.7777777777777778,
             "#fb9f3a"
            ],
            [
             0.8888888888888888,
             "#fdca26"
            ],
            [
             1,
             "#f0f921"
            ]
           ],
           "sequentialminus": [
            [
             0,
             "#0d0887"
            ],
            [
             0.1111111111111111,
             "#46039f"
            ],
            [
             0.2222222222222222,
             "#7201a8"
            ],
            [
             0.3333333333333333,
             "#9c179e"
            ],
            [
             0.4444444444444444,
             "#bd3786"
            ],
            [
             0.5555555555555556,
             "#d8576b"
            ],
            [
             0.6666666666666666,
             "#ed7953"
            ],
            [
             0.7777777777777778,
             "#fb9f3a"
            ],
            [
             0.8888888888888888,
             "#fdca26"
            ],
            [
             1,
             "#f0f921"
            ]
           ]
          },
          "colorway": [
           "#636efa",
           "#EF553B",
           "#00cc96",
           "#ab63fa",
           "#FFA15A",
           "#19d3f3",
           "#FF6692",
           "#B6E880",
           "#FF97FF",
           "#FECB52"
          ],
          "font": {
           "color": "#2a3f5f"
          },
          "geo": {
           "bgcolor": "white",
           "lakecolor": "white",
           "landcolor": "#E5ECF6",
           "showlakes": true,
           "showland": true,
           "subunitcolor": "white"
          },
          "hoverlabel": {
           "align": "left"
          },
          "hovermode": "closest",
          "mapbox": {
           "style": "light"
          },
          "paper_bgcolor": "white",
          "plot_bgcolor": "#E5ECF6",
          "polar": {
           "angularaxis": {
            "gridcolor": "white",
            "linecolor": "white",
            "ticks": ""
           },
           "bgcolor": "#E5ECF6",
           "radialaxis": {
            "gridcolor": "white",
            "linecolor": "white",
            "ticks": ""
           }
          },
          "scene": {
           "xaxis": {
            "backgroundcolor": "#E5ECF6",
            "gridcolor": "white",
            "gridwidth": 2,
            "linecolor": "white",
            "showbackground": true,
            "ticks": "",
            "zerolinecolor": "white"
           },
           "yaxis": {
            "backgroundcolor": "#E5ECF6",
            "gridcolor": "white",
            "gridwidth": 2,
            "linecolor": "white",
            "showbackground": true,
            "ticks": "",
            "zerolinecolor": "white"
           },
           "zaxis": {
            "backgroundcolor": "#E5ECF6",
            "gridcolor": "white",
            "gridwidth": 2,
            "linecolor": "white",
            "showbackground": true,
            "ticks": "",
            "zerolinecolor": "white"
           }
          },
          "shapedefaults": {
           "line": {
            "color": "#2a3f5f"
           }
          },
          "ternary": {
           "aaxis": {
            "gridcolor": "white",
            "linecolor": "white",
            "ticks": ""
           },
           "baxis": {
            "gridcolor": "white",
            "linecolor": "white",
            "ticks": ""
           },
           "bgcolor": "#E5ECF6",
           "caxis": {
            "gridcolor": "white",
            "linecolor": "white",
            "ticks": ""
           }
          },
          "title": {
           "x": 0.05
          },
          "xaxis": {
           "automargin": true,
           "gridcolor": "white",
           "linecolor": "white",
           "ticks": "",
           "title": {
            "standoff": 15
           },
           "zerolinecolor": "white",
           "zerolinewidth": 2
          },
          "yaxis": {
           "automargin": true,
           "gridcolor": "white",
           "linecolor": "white",
           "ticks": "",
           "title": {
            "standoff": 15
           },
           "zerolinecolor": "white",
           "zerolinewidth": 2
          }
         }
        },
        "title": {
         "text": "<b>Model performance report</b><br>Salary Predictor with BatchNorm<br><br><br><br><br><br><br><br><br><br><br><br><br><br><br><br><br><br><br><br><br><br><br><br><b><i>Train Loss Stat Values:</i></b><br>Max: 81.50   Mean: 5.66   Min: 0.12   Median: 0.21   Var: 271.97<br><br><b><i>Mean Absolute Error Stat Values:</i></b><br>Max: 2.30   Mean: 0.29   Min: 0.07   Median: 0.09   Var: 0.26<br><br><b><i>Mean Mean Squared Error Stat Values:</i></b><br>Max: 21.25   Mean: 1.43   Min: 0.04   Median: 0.06   Var: 17.39",
         "x": 0.5,
         "xanchor": "center",
         "y": 0.95,
         "yanchor": "top"
        },
        "width": 900,
        "xaxis": {
         "anchor": "y",
         "domain": [
          0,
          1
         ]
        },
        "xaxis2": {
         "anchor": "y2",
         "domain": [
          0,
          1
         ]
        },
        "yaxis": {
         "anchor": "x",
         "domain": [
          0.625,
          1
         ],
         "range": [
          0,
          1
         ]
        },
        "yaxis2": {
         "anchor": "x2",
         "domain": [
          0,
          0.375
         ],
         "range": [
          0,
          1
         ]
        }
       }
      },
      "text/html": [
       "<div>                            <div id=\"a7bbf8b2-3922-459c-bee5-e4841fa8a802\" class=\"plotly-graph-div\" style=\"height:780px; width:900px;\"></div>            <script type=\"text/javascript\">                require([\"plotly\"], function(Plotly) {                    window.PLOTLYENV=window.PLOTLYENV || {};                                    if (document.getElementById(\"a7bbf8b2-3922-459c-bee5-e4841fa8a802\")) {                    Plotly.newPlot(                        \"a7bbf8b2-3922-459c-bee5-e4841fa8a802\",                        [{\"mode\": \"lines\", \"name\": \"Train Loss\", \"showlegend\": false, \"type\": \"scatter\", \"x\": [0, 1, 2, 3, 4, 5, 6, 7, 8, 9, 10, 11, 12, 13, 14, 15, 16, 17, 18, 19, 20, 21, 22, 23, 24, 25, 26, 27, 28, 29, 30, 31, 32, 33, 34, 35, 36, 37, 38, 39, 40, 41, 42, 43, 44, 45, 46, 47, 48, 49, 50], \"xaxis\": \"x\", \"y\": [81.50096893310547, 65.27278137207031, 50.26544189453125, 36.622528076171875, 22.836894989013672, 11.974799156188965, 7.861319541931152, 2.361323356628418, 0.9938887357711792, 0.4405716061592102, 0.3799290955066681, 0.3621569871902466, 0.24354487657546997, 0.3748159110546112, 0.38859623670578003, 0.24350109696388245, 0.20805777609348297, 0.3007611036300659, 0.19706463813781738, 0.23339062929153442, 0.2436155378818512, 0.21155378222465515, 0.19714762270450592, 0.18307793140411377, 0.22091397643089294, 0.19389063119888306, 0.19259989261627197, 0.20453190803527832, 0.24609366059303284, 0.21907120943069458, 0.21951720118522644, 0.19716902077198029, 0.25097838044166565, 0.19822488725185394, 0.2148781716823578, 0.2201855182647705, 0.1567983478307724, 0.1843024492263794, 0.17232707142829895, 0.1802239716053009, 0.15436388552188873, 0.16076317429542542, 0.1914668083190918, 0.12990981340408325, 0.14208301901817322, 0.1182536855340004, 0.15678660571575165, 0.1463371217250824, 0.12006581574678421, 0.16676148772239685, 0.17165778577327728], \"yaxis\": \"y\"}, {\"mode\": \"lines\", \"name\": \"MAE\", \"type\": \"scatter\", \"x\": [0, 1, 2, 3, 4, 5, 6, 7, 8, 9, 10, 11, 12, 13, 14, 15, 16, 17, 18, 19, 20, 21, 22, 23, 24, 25, 26, 27, 28, 29, 30, 31, 32, 33, 34, 35, 36, 37, 38, 39, 40, 41, 42, 43, 44, 45, 46, 47, 48, 49, 50], \"xaxis\": \"x2\", \"y\": [2.3011067708333335, 2.0063300132751465, 1.754137357076009, 1.4881517092386882, 1.1488221486409504, 0.8719596862792969, 0.6167068878809611, 0.4224115212758382, 0.29261310895284015, 0.20839166641235352, 0.1378917396068573, 0.12612158060073853, 0.1250408093134562, 0.11924102902412415, 0.11117479205131531, 0.13250823815663657, 0.10243416825930278, 0.11723112066586812, 0.09826570749282837, 0.09930471579233806, 0.09373550613721211, 0.09219204386075337, 0.08981645107269287, 0.09442925453186035, 0.08648542563120525, 0.09432432055473328, 0.08862892786661784, 0.08407739798227946, 0.08421117067337036, 0.08921365936597188, 0.09036114811897278, 0.08674453695615132, 0.0964534084002177, 0.09325745701789856, 0.08923442165056865, 0.0847023328145345, 0.08750004569689433, 0.09283194939295451, 0.09225990374883015, 0.08367207646369934, 0.08292439083258311, 0.08215896288553874, 0.08347720901171367, 0.08549209435780843, 0.08462438980738322, 0.07984244326750438, 0.09277900060017903, 0.07897597551345825, 0.07286008695761363, 0.08969863255818684, 0.09483705957730611], \"yaxis\": \"y2\"}, {\"mode\": \"lines\", \"name\": \"MSE\", \"type\": \"scatter\", \"x\": [0, 1, 2, 3, 4, 5, 6, 7, 8, 9, 10, 11, 12, 13, 14, 15, 16, 17, 18, 19, 20, 21, 22, 23, 24, 25, 26, 27, 28, 29, 30, 31, 32, 33, 34, 35, 36, 37, 38, 39, 40, 41, 42, 43, 44, 45, 46, 47, 48, 49, 50], \"xaxis\": \"x2\", \"y\": [21.25391896565755, 16.19559097290039, 12.410970052083334, 8.962443033854166, 5.397950490315755, 3.140360196431478, 1.5972062746683757, 0.7859384218851725, 0.40370925267537433, 0.23525110880533853, 0.12272810935974121, 0.10630793372790019, 0.10538456837336223, 0.0958045522371928, 0.08620623747507732, 0.11280197898546855, 0.07179779311021169, 0.0835914413134257, 0.06358695526917775, 0.06216829021771749, 0.05649002889792124, 0.056116352478663124, 0.0544226864973704, 0.05933199326197306, 0.05027568837006887, 0.05917323629061381, 0.052507251501083374, 0.04716675480206808, 0.04738097886244456, 0.05221168200174967, 0.05412607888380686, 0.04987343649069468, 0.06074078877766927, 0.05703637500603994, 0.052626570065816246, 0.047545820474624634, 0.05104212462902069, 0.05643414954344431, 0.05562286078929901, 0.046736727158228554, 0.045952762166659035, 0.04499683280785879, 0.04654218256473541, 0.04790337383747101, 0.047581419348716736, 0.042361289262771606, 0.05545662840207418, 0.041512347757816315, 0.03625894089539846, 0.051738277077674866, 0.0571397989988327], \"yaxis\": \"y2\"}],                        {\"annotations\": [{\"font\": {\"size\": 16}, \"showarrow\": false, \"text\": \"<b>Train Loss</b>\", \"x\": 0.5, \"xanchor\": \"center\", \"xref\": \"paper\", \"y\": 1.0, \"yanchor\": \"bottom\", \"yref\": \"paper\"}, {\"font\": {\"size\": 16}, \"showarrow\": false, \"text\": \"<b>Test Metrics</b>\", \"x\": 0.5, \"xanchor\": \"center\", \"xref\": \"paper\", \"y\": 0.375, \"yanchor\": \"bottom\", \"yref\": \"paper\"}], \"autosize\": false, \"height\": 780, \"legend\": {\"x\": 1, \"y\": 0.15}, \"margin\": {\"b\": 270}, \"paper_bgcolor\": \"rgba(240, 240, 240, 0.95)\", \"plot_bgcolor\": \"rgba(240, 240, 240, 0.95)\", \"template\": {\"data\": {\"bar\": [{\"error_x\": {\"color\": \"#2a3f5f\"}, \"error_y\": {\"color\": \"#2a3f5f\"}, \"marker\": {\"line\": {\"color\": \"#E5ECF6\", \"width\": 0.5}}, \"type\": \"bar\"}], \"barpolar\": [{\"marker\": {\"line\": {\"color\": \"#E5ECF6\", \"width\": 0.5}}, \"type\": \"barpolar\"}], \"carpet\": [{\"aaxis\": {\"endlinecolor\": \"#2a3f5f\", \"gridcolor\": \"white\", \"linecolor\": \"white\", \"minorgridcolor\": \"white\", \"startlinecolor\": \"#2a3f5f\"}, \"baxis\": {\"endlinecolor\": \"#2a3f5f\", \"gridcolor\": \"white\", \"linecolor\": \"white\", \"minorgridcolor\": \"white\", \"startlinecolor\": \"#2a3f5f\"}, \"type\": \"carpet\"}], \"choropleth\": [{\"colorbar\": {\"outlinewidth\": 0, \"ticks\": \"\"}, \"type\": \"choropleth\"}], \"contour\": [{\"colorbar\": {\"outlinewidth\": 0, \"ticks\": \"\"}, \"colorscale\": [[0.0, \"#0d0887\"], [0.1111111111111111, \"#46039f\"], [0.2222222222222222, \"#7201a8\"], [0.3333333333333333, \"#9c179e\"], [0.4444444444444444, \"#bd3786\"], [0.5555555555555556, \"#d8576b\"], [0.6666666666666666, \"#ed7953\"], [0.7777777777777778, \"#fb9f3a\"], [0.8888888888888888, \"#fdca26\"], [1.0, \"#f0f921\"]], \"type\": \"contour\"}], \"contourcarpet\": [{\"colorbar\": {\"outlinewidth\": 0, \"ticks\": \"\"}, \"type\": \"contourcarpet\"}], \"heatmap\": [{\"colorbar\": {\"outlinewidth\": 0, \"ticks\": \"\"}, \"colorscale\": [[0.0, \"#0d0887\"], [0.1111111111111111, \"#46039f\"], [0.2222222222222222, \"#7201a8\"], [0.3333333333333333, \"#9c179e\"], [0.4444444444444444, \"#bd3786\"], [0.5555555555555556, \"#d8576b\"], [0.6666666666666666, \"#ed7953\"], [0.7777777777777778, \"#fb9f3a\"], [0.8888888888888888, \"#fdca26\"], [1.0, \"#f0f921\"]], \"type\": \"heatmap\"}], \"heatmapgl\": [{\"colorbar\": {\"outlinewidth\": 0, \"ticks\": \"\"}, \"colorscale\": [[0.0, \"#0d0887\"], [0.1111111111111111, \"#46039f\"], [0.2222222222222222, \"#7201a8\"], [0.3333333333333333, \"#9c179e\"], [0.4444444444444444, \"#bd3786\"], [0.5555555555555556, \"#d8576b\"], [0.6666666666666666, \"#ed7953\"], [0.7777777777777778, \"#fb9f3a\"], [0.8888888888888888, \"#fdca26\"], [1.0, \"#f0f921\"]], \"type\": \"heatmapgl\"}], \"histogram\": [{\"marker\": {\"colorbar\": {\"outlinewidth\": 0, \"ticks\": \"\"}}, \"type\": \"histogram\"}], \"histogram2d\": [{\"colorbar\": {\"outlinewidth\": 0, \"ticks\": \"\"}, \"colorscale\": [[0.0, \"#0d0887\"], [0.1111111111111111, \"#46039f\"], [0.2222222222222222, \"#7201a8\"], [0.3333333333333333, \"#9c179e\"], [0.4444444444444444, \"#bd3786\"], [0.5555555555555556, \"#d8576b\"], [0.6666666666666666, \"#ed7953\"], [0.7777777777777778, \"#fb9f3a\"], [0.8888888888888888, \"#fdca26\"], [1.0, \"#f0f921\"]], \"type\": \"histogram2d\"}], \"histogram2dcontour\": [{\"colorbar\": {\"outlinewidth\": 0, \"ticks\": \"\"}, \"colorscale\": [[0.0, \"#0d0887\"], [0.1111111111111111, \"#46039f\"], [0.2222222222222222, \"#7201a8\"], [0.3333333333333333, \"#9c179e\"], [0.4444444444444444, \"#bd3786\"], [0.5555555555555556, \"#d8576b\"], [0.6666666666666666, \"#ed7953\"], [0.7777777777777778, \"#fb9f3a\"], [0.8888888888888888, \"#fdca26\"], [1.0, \"#f0f921\"]], \"type\": \"histogram2dcontour\"}], \"mesh3d\": [{\"colorbar\": {\"outlinewidth\": 0, \"ticks\": \"\"}, \"type\": \"mesh3d\"}], \"parcoords\": [{\"line\": {\"colorbar\": {\"outlinewidth\": 0, \"ticks\": \"\"}}, \"type\": \"parcoords\"}], \"pie\": [{\"automargin\": true, \"type\": \"pie\"}], \"scatter\": [{\"marker\": {\"colorbar\": {\"outlinewidth\": 0, \"ticks\": \"\"}}, \"type\": \"scatter\"}], \"scatter3d\": [{\"line\": {\"colorbar\": {\"outlinewidth\": 0, \"ticks\": \"\"}}, \"marker\": {\"colorbar\": {\"outlinewidth\": 0, \"ticks\": \"\"}}, \"type\": \"scatter3d\"}], \"scattercarpet\": [{\"marker\": {\"colorbar\": {\"outlinewidth\": 0, \"ticks\": \"\"}}, \"type\": \"scattercarpet\"}], \"scattergeo\": [{\"marker\": {\"colorbar\": {\"outlinewidth\": 0, \"ticks\": \"\"}}, \"type\": \"scattergeo\"}], \"scattergl\": [{\"marker\": {\"colorbar\": {\"outlinewidth\": 0, \"ticks\": \"\"}}, \"type\": \"scattergl\"}], \"scattermapbox\": [{\"marker\": {\"colorbar\": {\"outlinewidth\": 0, \"ticks\": \"\"}}, \"type\": \"scattermapbox\"}], \"scatterpolar\": [{\"marker\": {\"colorbar\": {\"outlinewidth\": 0, \"ticks\": \"\"}}, \"type\": \"scatterpolar\"}], \"scatterpolargl\": [{\"marker\": {\"colorbar\": {\"outlinewidth\": 0, \"ticks\": \"\"}}, \"type\": \"scatterpolargl\"}], \"scatterternary\": [{\"marker\": {\"colorbar\": {\"outlinewidth\": 0, \"ticks\": \"\"}}, \"type\": \"scatterternary\"}], \"surface\": [{\"colorbar\": {\"outlinewidth\": 0, \"ticks\": \"\"}, \"colorscale\": [[0.0, \"#0d0887\"], [0.1111111111111111, \"#46039f\"], [0.2222222222222222, \"#7201a8\"], [0.3333333333333333, \"#9c179e\"], [0.4444444444444444, \"#bd3786\"], [0.5555555555555556, \"#d8576b\"], [0.6666666666666666, \"#ed7953\"], [0.7777777777777778, \"#fb9f3a\"], [0.8888888888888888, \"#fdca26\"], [1.0, \"#f0f921\"]], \"type\": \"surface\"}], \"table\": [{\"cells\": {\"fill\": {\"color\": \"#EBF0F8\"}, \"line\": {\"color\": \"white\"}}, \"header\": {\"fill\": {\"color\": \"#C8D4E3\"}, \"line\": {\"color\": \"white\"}}, \"type\": \"table\"}]}, \"layout\": {\"annotationdefaults\": {\"arrowcolor\": \"#2a3f5f\", \"arrowhead\": 0, \"arrowwidth\": 1}, \"coloraxis\": {\"colorbar\": {\"outlinewidth\": 0, \"ticks\": \"\"}}, \"colorscale\": {\"diverging\": [[0, \"#8e0152\"], [0.1, \"#c51b7d\"], [0.2, \"#de77ae\"], [0.3, \"#f1b6da\"], [0.4, \"#fde0ef\"], [0.5, \"#f7f7f7\"], [0.6, \"#e6f5d0\"], [0.7, \"#b8e186\"], [0.8, \"#7fbc41\"], [0.9, \"#4d9221\"], [1, \"#276419\"]], \"sequential\": [[0.0, \"#0d0887\"], [0.1111111111111111, \"#46039f\"], [0.2222222222222222, \"#7201a8\"], [0.3333333333333333, \"#9c179e\"], [0.4444444444444444, \"#bd3786\"], [0.5555555555555556, \"#d8576b\"], [0.6666666666666666, \"#ed7953\"], [0.7777777777777778, \"#fb9f3a\"], [0.8888888888888888, \"#fdca26\"], [1.0, \"#f0f921\"]], \"sequentialminus\": [[0.0, \"#0d0887\"], [0.1111111111111111, \"#46039f\"], [0.2222222222222222, \"#7201a8\"], [0.3333333333333333, \"#9c179e\"], [0.4444444444444444, \"#bd3786\"], [0.5555555555555556, \"#d8576b\"], [0.6666666666666666, \"#ed7953\"], [0.7777777777777778, \"#fb9f3a\"], [0.8888888888888888, \"#fdca26\"], [1.0, \"#f0f921\"]]}, \"colorway\": [\"#636efa\", \"#EF553B\", \"#00cc96\", \"#ab63fa\", \"#FFA15A\", \"#19d3f3\", \"#FF6692\", \"#B6E880\", \"#FF97FF\", \"#FECB52\"], \"font\": {\"color\": \"#2a3f5f\"}, \"geo\": {\"bgcolor\": \"white\", \"lakecolor\": \"white\", \"landcolor\": \"#E5ECF6\", \"showlakes\": true, \"showland\": true, \"subunitcolor\": \"white\"}, \"hoverlabel\": {\"align\": \"left\"}, \"hovermode\": \"closest\", \"mapbox\": {\"style\": \"light\"}, \"paper_bgcolor\": \"white\", \"plot_bgcolor\": \"#E5ECF6\", \"polar\": {\"angularaxis\": {\"gridcolor\": \"white\", \"linecolor\": \"white\", \"ticks\": \"\"}, \"bgcolor\": \"#E5ECF6\", \"radialaxis\": {\"gridcolor\": \"white\", \"linecolor\": \"white\", \"ticks\": \"\"}}, \"scene\": {\"xaxis\": {\"backgroundcolor\": \"#E5ECF6\", \"gridcolor\": \"white\", \"gridwidth\": 2, \"linecolor\": \"white\", \"showbackground\": true, \"ticks\": \"\", \"zerolinecolor\": \"white\"}, \"yaxis\": {\"backgroundcolor\": \"#E5ECF6\", \"gridcolor\": \"white\", \"gridwidth\": 2, \"linecolor\": \"white\", \"showbackground\": true, \"ticks\": \"\", \"zerolinecolor\": \"white\"}, \"zaxis\": {\"backgroundcolor\": \"#E5ECF6\", \"gridcolor\": \"white\", \"gridwidth\": 2, \"linecolor\": \"white\", \"showbackground\": true, \"ticks\": \"\", \"zerolinecolor\": \"white\"}}, \"shapedefaults\": {\"line\": {\"color\": \"#2a3f5f\"}}, \"ternary\": {\"aaxis\": {\"gridcolor\": \"white\", \"linecolor\": \"white\", \"ticks\": \"\"}, \"baxis\": {\"gridcolor\": \"white\", \"linecolor\": \"white\", \"ticks\": \"\"}, \"bgcolor\": \"#E5ECF6\", \"caxis\": {\"gridcolor\": \"white\", \"linecolor\": \"white\", \"ticks\": \"\"}}, \"title\": {\"x\": 0.05}, \"xaxis\": {\"automargin\": true, \"gridcolor\": \"white\", \"linecolor\": \"white\", \"ticks\": \"\", \"title\": {\"standoff\": 15}, \"zerolinecolor\": \"white\", \"zerolinewidth\": 2}, \"yaxis\": {\"automargin\": true, \"gridcolor\": \"white\", \"linecolor\": \"white\", \"ticks\": \"\", \"title\": {\"standoff\": 15}, \"zerolinecolor\": \"white\", \"zerolinewidth\": 2}}}, \"title\": {\"text\": \"<b>Model performance report</b><br>Salary Predictor with BatchNorm<br><br><br><br><br><br><br><br><br><br><br><br><br><br><br><br><br><br><br><br><br><br><br><br><b><i>Train Loss Stat Values:</i></b><br>Max: 81.50   Mean: 5.66   Min: 0.12   Median: 0.21   Var: 271.97<br><br><b><i>Mean Absolute Error Stat Values:</i></b><br>Max: 2.30   Mean: 0.29   Min: 0.07   Median: 0.09   Var: 0.26<br><br><b><i>Mean Mean Squared Error Stat Values:</i></b><br>Max: 21.25   Mean: 1.43   Min: 0.04   Median: 0.06   Var: 17.39\", \"x\": 0.5, \"xanchor\": \"center\", \"y\": 0.95, \"yanchor\": \"top\"}, \"width\": 900, \"xaxis\": {\"anchor\": \"y\", \"domain\": [0.0, 1.0]}, \"xaxis2\": {\"anchor\": \"y2\", \"domain\": [0.0, 1.0]}, \"yaxis\": {\"anchor\": \"x\", \"domain\": [0.625, 1.0], \"range\": [0, 1]}, \"yaxis2\": {\"anchor\": \"x2\", \"domain\": [0.0, 0.375], \"range\": [0, 1]}},                        {\"responsive\": true}                    ).then(function(){\n",
       "                            \n",
       "var gd = document.getElementById('a7bbf8b2-3922-459c-bee5-e4841fa8a802');\n",
       "var x = new MutationObserver(function (mutations, observer) {{\n",
       "        var display = window.getComputedStyle(gd).display;\n",
       "        if (!display || display === 'none') {{\n",
       "            console.log([gd, 'removed!']);\n",
       "            Plotly.purge(gd);\n",
       "            observer.disconnect();\n",
       "        }}\n",
       "}});\n",
       "\n",
       "// Listen for the removal of the full notebook cells\n",
       "var notebookContainer = gd.closest('#notebook-container');\n",
       "if (notebookContainer) {{\n",
       "    x.observe(notebookContainer, {childList: true});\n",
       "}}\n",
       "\n",
       "// Listen for the clearing of the current output cell\n",
       "var outputEl = gd.closest('.output');\n",
       "if (outputEl) {{\n",
       "    x.observe(outputEl, {childList: true});\n",
       "}}\n",
       "\n",
       "                        })                };                });            </script>        </div>"
      ]
     },
     "metadata": {},
     "output_type": "display_data"
    }
   ],
   "source": [
    "draw_loss_acc_plot('Salary Predictor with BatchNorm and Two Additional Layer', train_loss_4, list_mae_4, list_mse_4)"
   ]
  },
  {
   "cell_type": "markdown",
   "metadata": {},
   "source": [
    "**Добавление и ещё чуть-чуть дополнительных слоёв nn.Conv1d + рання остановка, когда разница метрик при каждой итерации не превышает 0.005 (крайне мала).**\n",
    "\n",
    "<br>(Спойлер: ранняя остановка не понадобилась, так как чисто эпох достаточно мало (если увеличить, то она подействует) и большее (нежели изначально задано) изменение величины метрик.)"
   ]
  },
  {
   "cell_type": "code",
   "execution_count": 330,
   "metadata": {},
   "outputs": [],
   "source": [
    "class SalaryPredictorwBatchNormAddLayers2(nn.Module):\n",
    "    def __init__(self, n_tokens=len(tokens), n_cat_features=len(categorical_vectorizer.vocabulary_), hid_size=8):\n",
    "        super().__init__()\n",
    "        self.embedder = nn.Embedding(n_tokens, hid_size)\n",
    "        self.conv1 = nn.Sequential(\n",
    "            nn.Conv1d(hid_size, hid_size, kernel_size=1),\n",
    "            nn.Dropout(p=0.25),\n",
    "            nn.BatchNorm1d(hid_size),\n",
    "            nn.ReLU()\n",
    "        )\n",
    "        self.pool1 = nn.AdaptiveAvgPool1d(output_size=1)\n",
    "        \n",
    "        self.conv2 = nn.Sequential(\n",
    "            nn.Conv1d(hid_size, hid_size, kernel_size=1),\n",
    "            nn.Conv1d(hid_size, hid_size, kernel_size=1),\n",
    "            nn.Dropout(p=0.25),\n",
    "            nn.BatchNorm1d(hid_size),\n",
    "            nn.ReLU())\n",
    "        self.pool2 = nn.AdaptiveAvgPool1d(output_size=1)\n",
    "        \n",
    "        self.conv3 = nn.Sequential(\n",
    "            nn.Conv1d(hid_size, hid_size, kernel_size=1),\n",
    "            nn.Conv1d(hid_size, hid_size, kernel_size=1),\n",
    "            nn.Conv1d(hid_size, hid_size, kernel_size=1),\n",
    "            nn.Dropout(p=0.25),\n",
    "            nn.BatchNorm1d(hid_size),\n",
    "            nn.ReLU())\n",
    "        self.pool3 = nn.AdaptiveAvgPool1d(output_size=1)\n",
    "        \n",
    "        self.conv4 = nn.Sequential(\n",
    "            nn.Conv1d(hid_size, hid_size, kernel_size=1),\n",
    "            nn.Conv1d(hid_size, hid_size, kernel_size=1),\n",
    "            nn.Conv1d(hid_size, hid_size, kernel_size=1),\n",
    "            nn.Conv1d(hid_size, hid_size, kernel_size=1),\n",
    "            nn.Dropout(p=0.25),\n",
    "            nn.BatchNorm1d(hid_size),\n",
    "            nn.ReLU())\n",
    "        self.pool4 = nn.AdaptiveAvgPool1d(output_size=1)\n",
    "        \n",
    "        self.description_encoder = nn.Sequential(\n",
    "            nn.Conv1d(hid_size, hid_size, kernel_size=2),\n",
    "            nn.Dropout(p=0.25),\n",
    "            nn.BatchNorm1d(hid_size),\n",
    "            nn.ReLU(),\n",
    "            nn.AdaptiveMaxPool1d(output_size=1)\n",
    "        )\n",
    "        self.categorical_encoder = nn.Sequential(\n",
    "            nn.Linear(n_cat_features, hid_size * 2),\n",
    "            nn.BatchNorm1d(hid_size * 2),\n",
    "            nn.ReLU(),\n",
    "            nn.Linear(hid_size * 2, hid_size * 2),\n",
    "            nn.ReLU()\n",
    "        )\n",
    "        self.final_predictor = nn.Sequential(\n",
    "            nn.Linear(hid_size * 7, hid_size),\n",
    "            nn.BatchNorm1d(hid_size),\n",
    "            nn.ReLU(),\n",
    "            nn.Linear(hid_size, 1)\n",
    "        )\n",
    "\n",
    "    def forward(self, batch):\n",
    "        title_embeddings = self.embedder(batch['Title']).permute(0, 2, 1)\n",
    "\n",
    "        title_conv_features1 = self.conv1(title_embeddings)\n",
    "        title_features1 = self.pool1(title_conv_features1).squeeze()\n",
    "\n",
    "        title_conv_features2 = self.conv2(title_embeddings)\n",
    "        title_features2 = self.pool2(title_conv_features2).squeeze()\n",
    "\n",
    "        title_conv_features3 = self.conv3(title_embeddings)\n",
    "        title_features3 = self.pool3(title_conv_features3).squeeze()\n",
    "        \n",
    "        title_conv_features4 = self.conv4(title_embeddings)\n",
    "        title_features4 = self.pool4(title_conv_features4).squeeze()\n",
    "        \n",
    "        description_embeddings = self.embedder(batch['FullDescription']).permute(0, 2, 1)\n",
    "        description_features = self.description_encoder(description_embeddings).squeeze()\n",
    "\n",
    "        categorical_features = self.categorical_encoder(batch['Categorical'].float())\n",
    "\n",
    "        features = torch.cat(\n",
    "            [title_features1, title_features2, title_features3, title_features4, \n",
    "             description_features, categorical_features], dim=1)\n",
    "\n",
    "        return self.final_predictor(features).squeeze()"
   ]
  },
  {
   "cell_type": "code",
   "execution_count": 335,
   "metadata": {
    "scrolled": true
   },
   "outputs": [
    {
     "name": "stdout",
     "output_type": "stream",
     "text": [
      "epoch: 0\n"
     ]
    },
    {
     "data": {
      "application/vnd.jupyter.widget-view+json": {
       "model_id": "fd42a75c273b4ce2924d03c4c6e91bea",
       "version_major": 2,
       "version_minor": 0
      },
      "text/plain": [
       "HBox(children=(FloatProgress(value=0.0, max=1721.0), HTML(value='')))"
      ]
     },
     "metadata": {},
     "output_type": "display_data"
    },
    {
     "name": "stdout",
     "output_type": "stream",
     "text": [
      "train_loss 100.85041046142578\n",
      "val results:\n",
      "Mean square error: 27.56951\n",
      "Mean absolute error: 2.62227\n",
      "train_loss 90.68252563476562\n",
      "val results:\n",
      "Mean square error: 23.15978\n",
      "Mean absolute error: 2.40140\n",
      "train_loss 72.47437286376953\n",
      "val results:\n",
      "Mean square error: 18.20532\n",
      "Mean absolute error: 2.12621\n",
      "train_loss 55.26518630981445\n",
      "val results:\n",
      "Mean square error: 14.47612\n",
      "Mean absolute error: 1.89192\n",
      "train_loss 38.800575256347656\n",
      "val results:\n",
      "Mean square error: 10.49592\n",
      "Mean absolute error: 1.60375\n",
      "train_loss 26.026294708251953\n",
      "val results:\n",
      "Mean square error: 7.09136\n",
      "Mean absolute error: 1.30279\n",
      "train_loss 13.038322448730469\n",
      "val results:\n",
      "Mean square error: 3.84529\n",
      "Mean absolute error: 0.92856\n",
      "train_loss 5.521770000457764\n",
      "val results:\n",
      "Mean square error: 1.62141\n",
      "Mean absolute error: 0.55662\n",
      "train_loss 2.387181043624878\n",
      "val results:\n",
      "Mean square error: 0.86623\n",
      "Mean absolute error: 0.37376\n",
      "train_loss 1.2406717538833618\n",
      "val results:\n",
      "Mean square error: 0.45874\n",
      "Mean absolute error: 0.29603\n",
      "train_loss 0.5965246558189392\n",
      "val results:\n",
      "Mean square error: 0.44763\n",
      "Mean absolute error: 0.29544\n",
      "train_loss 0.26772844791412354\n",
      "val results:\n",
      "Mean square error: 0.45190\n",
      "Mean absolute error: 0.30129\n",
      "train_loss 0.6522415280342102\n",
      "val results:\n",
      "Mean square error: 0.42354\n",
      "Mean absolute error: 0.28900\n",
      "train_loss 0.4119269847869873\n",
      "val results:\n",
      "Mean square error: 0.39696\n",
      "Mean absolute error: 0.26862\n",
      "train_loss 0.5978339314460754\n",
      "val results:\n",
      "Mean square error: 0.28485\n",
      "Mean absolute error: 0.23223\n",
      "train_loss 0.2665667235851288\n",
      "val results:\n",
      "Mean square error: 0.28373\n",
      "Mean absolute error: 0.22890\n",
      "train_loss 0.18818005919456482\n",
      "val results:\n",
      "Mean square error: 0.27249\n",
      "Mean absolute error: 0.21554\n",
      "\n",
      "epoch: 1\n"
     ]
    },
    {
     "data": {
      "application/vnd.jupyter.widget-view+json": {
       "model_id": "a6968d74174d41859d2d6ecda0d56c07",
       "version_major": 2,
       "version_minor": 0
      },
      "text/plain": [
       "HBox(children=(FloatProgress(value=0.0, max=1721.0), HTML(value='')))"
      ]
     },
     "metadata": {},
     "output_type": "display_data"
    },
    {
     "name": "stdout",
     "output_type": "stream",
     "text": [
      "train_loss 0.1952652782201767\n",
      "val results:\n",
      "Mean square error: 0.25904\n",
      "Mean absolute error: 0.20281\n",
      "train_loss 0.2261727750301361\n",
      "val results:\n",
      "Mean square error: 0.23779\n",
      "Mean absolute error: 0.19474\n",
      "train_loss 0.21162384748458862\n",
      "val results:\n",
      "Mean square error: 0.20765\n",
      "Mean absolute error: 0.17937\n",
      "train_loss 0.22030727565288544\n",
      "val results:\n",
      "Mean square error: 0.17355\n",
      "Mean absolute error: 0.16359\n",
      "train_loss 0.16740046441555023\n",
      "val results:\n",
      "Mean square error: 0.17650\n",
      "Mean absolute error: 0.16147\n",
      "train_loss 0.22960254549980164\n",
      "val results:\n",
      "Mean square error: 0.14995\n",
      "Mean absolute error: 0.14917\n",
      "train_loss 0.18195578455924988\n",
      "val results:\n",
      "Mean square error: 0.13244\n",
      "Mean absolute error: 0.14141\n",
      "train_loss 0.16598932445049286\n",
      "val results:\n",
      "Mean square error: 0.14153\n",
      "Mean absolute error: 0.14322\n",
      "train_loss 0.23394833505153656\n",
      "val results:\n",
      "Mean square error: 0.11970\n",
      "Mean absolute error: 0.13038\n",
      "train_loss 0.17418019473552704\n",
      "val results:\n",
      "Mean square error: 0.10834\n",
      "Mean absolute error: 0.12862\n",
      "train_loss 0.14367511868476868\n",
      "val results:\n",
      "Mean square error: 0.07685\n",
      "Mean absolute error: 0.10393\n",
      "train_loss 0.15524455904960632\n",
      "val results:\n",
      "Mean square error: 0.07621\n",
      "Mean absolute error: 0.10477\n",
      "train_loss 0.1484537124633789\n",
      "val results:\n",
      "Mean square error: 0.06321\n",
      "Mean absolute error: 0.09566\n",
      "train_loss 0.21538423001766205\n",
      "val results:\n",
      "Mean square error: 0.04825\n",
      "Mean absolute error: 0.08351\n",
      "train_loss 0.19997446238994598\n",
      "val results:\n",
      "Mean square error: 0.05943\n",
      "Mean absolute error: 0.09471\n",
      "train_loss 0.19340595602989197\n",
      "val results:\n",
      "Mean square error: 0.05247\n",
      "Mean absolute error: 0.08814\n",
      "train_loss 0.13773493468761444\n",
      "val results:\n",
      "Mean square error: 0.04355\n",
      "Mean absolute error: 0.08080\n",
      "\n",
      "epoch: 2\n"
     ]
    },
    {
     "data": {
      "application/vnd.jupyter.widget-view+json": {
       "model_id": "e6823c48f5d3440eb724d8913ae9109b",
       "version_major": 2,
       "version_minor": 0
      },
      "text/plain": [
       "HBox(children=(FloatProgress(value=0.0, max=1721.0), HTML(value='')))"
      ]
     },
     "metadata": {},
     "output_type": "display_data"
    },
    {
     "name": "stdout",
     "output_type": "stream",
     "text": [
      "train_loss 0.11029279232025146\n",
      "val results:\n",
      "Mean square error: 0.04386\n",
      "Mean absolute error: 0.08102\n",
      "train_loss 0.1420687884092331\n",
      "val results:\n",
      "Mean square error: 0.03646\n",
      "Mean absolute error: 0.07285\n",
      "train_loss 0.15189771354198456\n",
      "val results:\n",
      "Mean square error: 0.03574\n",
      "Mean absolute error: 0.07210\n",
      "train_loss 0.15414859354496002\n",
      "val results:\n",
      "Mean square error: 0.03720\n",
      "Mean absolute error: 0.07383\n",
      "train_loss 0.1463915854692459\n",
      "val results:\n",
      "Mean square error: 0.05555\n",
      "Mean absolute error: 0.09480\n",
      "train_loss 0.15524300932884216\n",
      "val results:\n",
      "Mean square error: 0.03794\n",
      "Mean absolute error: 0.07632\n",
      "train_loss 0.14552128314971924\n",
      "val results:\n",
      "Mean square error: 0.03393\n",
      "Mean absolute error: 0.07061\n",
      "train_loss 0.2527806758880615\n",
      "val results:\n",
      "Mean square error: 0.03726\n",
      "Mean absolute error: 0.07435\n",
      "train_loss 0.11954554915428162\n",
      "val results:\n",
      "Mean square error: 0.03538\n",
      "Mean absolute error: 0.07305\n",
      "train_loss 0.1319158673286438\n",
      "val results:\n",
      "Mean square error: 0.03244\n",
      "Mean absolute error: 0.06910\n",
      "train_loss 0.14446425437927246\n",
      "val results:\n",
      "Mean square error: 0.03035\n",
      "Mean absolute error: 0.06670\n",
      "train_loss 0.13484741747379303\n",
      "val results:\n",
      "Mean square error: 0.03140\n",
      "Mean absolute error: 0.06786\n",
      "train_loss 0.1383417248725891\n",
      "val results:\n",
      "Mean square error: 0.03444\n",
      "Mean absolute error: 0.07259\n",
      "train_loss 0.14887483417987823\n",
      "val results:\n",
      "Mean square error: 0.02954\n",
      "Mean absolute error: 0.06562\n",
      "train_loss 0.21923618018627167\n",
      "val results:\n",
      "Mean square error: 0.03942\n",
      "Mean absolute error: 0.07851\n",
      "train_loss 0.18008549511432648\n",
      "val results:\n",
      "Mean square error: 0.03131\n",
      "Mean absolute error: 0.06855\n",
      "train_loss 0.12718968093395233\n",
      "val results:\n",
      "Mean square error: 0.03263\n",
      "Mean absolute error: 0.07004\n",
      "\n"
     ]
    }
   ],
   "source": [
    "model = SalaryPredictorwBatchNormAddLayers2().to(DEVICE)\n",
    "criterion = nn.MSELoss(reduction='mean')\n",
    "optimizer = torch.optim.Adam(model.parameters(), lr=1e-3)\n",
    "list_mse_5 = []\n",
    "list_mae_5 = []\n",
    "train_loss_5 = []\n",
    "\n",
    "for epoch in range(EPOCHS):\n",
    "    print(f\"epoch: {epoch}\")\n",
    "    for i, batch in tqdm.notebook.tqdm(enumerate(\n",
    "            iterate_minibatches(\n",
    "                    data_train, \n",
    "                    batch_size=BATCH_SIZE, \n",
    "                    device=DEVICE)), \n",
    "                total=len(data_train) // BATCH_SIZE\n",
    "        ):\n",
    "        model.train()\n",
    "        pred = model(batch)\n",
    "        optimizer.zero_grad()\n",
    "        loss = criterion(pred, batch[TARGET_COLUMN])\n",
    "        loss.backward()\n",
    "        optimizer.step()\n",
    "\n",
    "        if i % 100 == 99:\n",
    "            print('train_loss', loss.item())\n",
    "            train_loss_5.append(loss.item())\n",
    "            \n",
    "            print_metrics(model, data_val, list_mse=list_mse_5, list_mae=list_mae_5, \n",
    "                          name='val', batch_size=BATCH_SIZE, device=DEVICE)\n",
    "            \n",
    "            count = 0\n",
    "            if len(list_mse_5) >= 20:\n",
    "                for n in range(1, 20):\n",
    "                    if abs(list_mse_5[-n] - list_mse_5[-(n + 1)]) < 0.005 and abs(list_mae_5[-n] - list_mae_5[-(n + 1)]) < 0.005:\n",
    "                        count += 1\n",
    "            \n",
    "            if count == 19:\n",
    "                print('Early stopping!')\n",
    "                break"
   ]
  },
  {
   "cell_type": "code",
   "execution_count": 336,
   "metadata": {},
   "outputs": [
    {
     "data": {
      "application/vnd.plotly.v1+json": {
       "config": {
        "linkText": "Export to plot.ly",
        "plotlyServerURL": "https://plot.ly",
        "showLink": false
       },
       "data": [
        {
         "mode": "lines",
         "name": "Train Loss",
         "showlegend": false,
         "type": "scatter",
         "x": [
          0,
          1,
          2,
          3,
          4,
          5,
          6,
          7,
          8,
          9,
          10,
          11,
          12,
          13,
          14,
          15,
          16,
          17,
          18,
          19,
          20,
          21,
          22,
          23,
          24,
          25,
          26,
          27,
          28,
          29,
          30,
          31,
          32,
          33,
          34,
          35,
          36,
          37,
          38,
          39,
          40,
          41,
          42,
          43,
          44,
          45,
          46,
          47,
          48,
          49,
          50
         ],
         "xaxis": "x",
         "y": [
          100.85041046142578,
          90.68252563476562,
          72.47437286376953,
          55.26518630981445,
          38.800575256347656,
          26.026294708251953,
          13.038322448730469,
          5.521770000457764,
          2.387181043624878,
          1.2406717538833618,
          0.5965246558189392,
          0.26772844791412354,
          0.6522415280342102,
          0.4119269847869873,
          0.5978339314460754,
          0.2665667235851288,
          0.18818005919456482,
          0.1952652782201767,
          0.2261727750301361,
          0.21162384748458862,
          0.22030727565288544,
          0.16740046441555023,
          0.22960254549980164,
          0.18195578455924988,
          0.16598932445049286,
          0.23394833505153656,
          0.17418019473552704,
          0.14367511868476868,
          0.15524455904960632,
          0.1484537124633789,
          0.21538423001766205,
          0.19997446238994598,
          0.19340595602989197,
          0.13773493468761444,
          0.11029279232025146,
          0.1420687884092331,
          0.15189771354198456,
          0.15414859354496002,
          0.1463915854692459,
          0.15524300932884216,
          0.14552128314971924,
          0.2527806758880615,
          0.11954554915428162,
          0.1319158673286438,
          0.14446425437927246,
          0.13484741747379303,
          0.1383417248725891,
          0.14887483417987823,
          0.21923618018627167,
          0.18008549511432648,
          0.12718968093395233
         ],
         "yaxis": "y"
        },
        {
         "mode": "lines",
         "name": "MAE",
         "type": "scatter",
         "x": [
          0,
          1,
          2,
          3,
          4,
          5,
          6,
          7,
          8,
          9,
          10,
          11,
          12,
          13,
          14,
          15,
          16,
          17,
          18,
          19,
          20,
          21,
          22,
          23,
          24,
          25,
          26,
          27,
          28,
          29,
          30,
          31,
          32,
          33,
          34,
          35,
          36,
          37,
          38,
          39,
          40,
          41,
          42,
          43,
          44,
          45,
          46,
          47,
          48,
          49,
          50
         ],
         "xaxis": "x2",
         "y": [
          2.622267246246338,
          2.401404698689779,
          2.126213550567627,
          1.891920566558838,
          1.6037508646647136,
          1.3027902444203694,
          0.9285648663838705,
          0.5566152334213257,
          0.373762845993042,
          0.29603107770284015,
          0.2954418857892354,
          0.30129124720891315,
          0.28900039196014404,
          0.26862049102783203,
          0.23223423957824707,
          0.22890331347783408,
          0.21553566058476767,
          0.20281330744425455,
          0.1947393218676249,
          0.1793652574221293,
          0.16359244783719382,
          0.16147173444430032,
          0.1491741438706716,
          0.14141494035720825,
          0.14322301745414734,
          0.13037572304407755,
          0.1286208430926005,
          0.10392642021179199,
          0.10476849476496379,
          0.0956577757994334,
          0.08351338903109233,
          0.0947122573852539,
          0.08813806374867757,
          0.08080371220906575,
          0.08102456231911977,
          0.0728533963362376,
          0.07209533452987671,
          0.07383052508036296,
          0.0947999656200409,
          0.07632214327653249,
          0.07061497867107391,
          0.07434876263141632,
          0.0730464259783427,
          0.06910199920336406,
          0.06669658422470093,
          0.0678615669409434,
          0.07258919378121693,
          0.06562105814615886,
          0.07850637535254161,
          0.06854965289433797,
          0.07003520429134369
         ],
         "yaxis": "y2"
        },
        {
         "mode": "lines",
         "name": "MSE",
         "type": "scatter",
         "x": [
          0,
          1,
          2,
          3,
          4,
          5,
          6,
          7,
          8,
          9,
          10,
          11,
          12,
          13,
          14,
          15,
          16,
          17,
          18,
          19,
          20,
          21,
          22,
          23,
          24,
          25,
          26,
          27,
          28,
          29,
          30,
          31,
          32,
          33,
          34,
          35,
          36,
          37,
          38,
          39,
          40,
          41,
          42,
          43,
          44,
          45,
          46,
          47,
          48,
          49,
          50
         ],
         "xaxis": "x2",
         "y": [
          27.56951141357422,
          23.15978240966797,
          18.20531717936198,
          14.476118723551432,
          10.495917638142904,
          7.091362635294597,
          3.8452866872151694,
          1.6214079856872559,
          0.866232713063558,
          0.4587366580963135,
          0.4476253588994344,
          0.4519047737121582,
          0.4235445261001587,
          0.39695854981740314,
          0.28484684228897095,
          0.2837272485097249,
          0.2724870642026265,
          0.2590428392092387,
          0.23779437939325967,
          0.20764940977096558,
          0.1735543211301168,
          0.17650051911671957,
          0.14994698762893677,
          0.13244413336118063,
          0.14152679840723673,
          0.11970221996307373,
          0.108339657386144,
          0.0768526941537857,
          0.07621099054813385,
          0.06320740282535553,
          0.04824574291706085,
          0.0594296803077062,
          0.05246591567993164,
          0.0435477743546168,
          0.04386167724927267,
          0.03646376480658849,
          0.03574216365814209,
          0.03720332682132721,
          0.055548518896102905,
          0.037943934400876365,
          0.03392705818017324,
          0.03725734849770864,
          0.0353849803407987,
          0.03243840237458547,
          0.03035067766904831,
          0.03139804055293401,
          0.034436240792274475,
          0.029540350039800007,
          0.03942087789376577,
          0.031311834851900734,
          0.032629517217477165
         ],
         "yaxis": "y2"
        }
       ],
       "layout": {
        "annotations": [
         {
          "font": {
           "size": 16
          },
          "showarrow": false,
          "text": "<b>Train Loss</b>",
          "x": 0.5,
          "xanchor": "center",
          "xref": "paper",
          "y": 1,
          "yanchor": "bottom",
          "yref": "paper"
         },
         {
          "font": {
           "size": 16
          },
          "showarrow": false,
          "text": "<b>Test Metrics</b>",
          "x": 0.5,
          "xanchor": "center",
          "xref": "paper",
          "y": 0.375,
          "yanchor": "bottom",
          "yref": "paper"
         }
        ],
        "autosize": false,
        "height": 780,
        "legend": {
         "x": 1,
         "y": 0.15
        },
        "margin": {
         "b": 270
        },
        "paper_bgcolor": "rgba(240, 240, 240, 0.95)",
        "plot_bgcolor": "rgba(240, 240, 240, 0.95)",
        "template": {
         "data": {
          "bar": [
           {
            "error_x": {
             "color": "#2a3f5f"
            },
            "error_y": {
             "color": "#2a3f5f"
            },
            "marker": {
             "line": {
              "color": "#E5ECF6",
              "width": 0.5
             }
            },
            "type": "bar"
           }
          ],
          "barpolar": [
           {
            "marker": {
             "line": {
              "color": "#E5ECF6",
              "width": 0.5
             }
            },
            "type": "barpolar"
           }
          ],
          "carpet": [
           {
            "aaxis": {
             "endlinecolor": "#2a3f5f",
             "gridcolor": "white",
             "linecolor": "white",
             "minorgridcolor": "white",
             "startlinecolor": "#2a3f5f"
            },
            "baxis": {
             "endlinecolor": "#2a3f5f",
             "gridcolor": "white",
             "linecolor": "white",
             "minorgridcolor": "white",
             "startlinecolor": "#2a3f5f"
            },
            "type": "carpet"
           }
          ],
          "choropleth": [
           {
            "colorbar": {
             "outlinewidth": 0,
             "ticks": ""
            },
            "type": "choropleth"
           }
          ],
          "contour": [
           {
            "colorbar": {
             "outlinewidth": 0,
             "ticks": ""
            },
            "colorscale": [
             [
              0,
              "#0d0887"
             ],
             [
              0.1111111111111111,
              "#46039f"
             ],
             [
              0.2222222222222222,
              "#7201a8"
             ],
             [
              0.3333333333333333,
              "#9c179e"
             ],
             [
              0.4444444444444444,
              "#bd3786"
             ],
             [
              0.5555555555555556,
              "#d8576b"
             ],
             [
              0.6666666666666666,
              "#ed7953"
             ],
             [
              0.7777777777777778,
              "#fb9f3a"
             ],
             [
              0.8888888888888888,
              "#fdca26"
             ],
             [
              1,
              "#f0f921"
             ]
            ],
            "type": "contour"
           }
          ],
          "contourcarpet": [
           {
            "colorbar": {
             "outlinewidth": 0,
             "ticks": ""
            },
            "type": "contourcarpet"
           }
          ],
          "heatmap": [
           {
            "colorbar": {
             "outlinewidth": 0,
             "ticks": ""
            },
            "colorscale": [
             [
              0,
              "#0d0887"
             ],
             [
              0.1111111111111111,
              "#46039f"
             ],
             [
              0.2222222222222222,
              "#7201a8"
             ],
             [
              0.3333333333333333,
              "#9c179e"
             ],
             [
              0.4444444444444444,
              "#bd3786"
             ],
             [
              0.5555555555555556,
              "#d8576b"
             ],
             [
              0.6666666666666666,
              "#ed7953"
             ],
             [
              0.7777777777777778,
              "#fb9f3a"
             ],
             [
              0.8888888888888888,
              "#fdca26"
             ],
             [
              1,
              "#f0f921"
             ]
            ],
            "type": "heatmap"
           }
          ],
          "heatmapgl": [
           {
            "colorbar": {
             "outlinewidth": 0,
             "ticks": ""
            },
            "colorscale": [
             [
              0,
              "#0d0887"
             ],
             [
              0.1111111111111111,
              "#46039f"
             ],
             [
              0.2222222222222222,
              "#7201a8"
             ],
             [
              0.3333333333333333,
              "#9c179e"
             ],
             [
              0.4444444444444444,
              "#bd3786"
             ],
             [
              0.5555555555555556,
              "#d8576b"
             ],
             [
              0.6666666666666666,
              "#ed7953"
             ],
             [
              0.7777777777777778,
              "#fb9f3a"
             ],
             [
              0.8888888888888888,
              "#fdca26"
             ],
             [
              1,
              "#f0f921"
             ]
            ],
            "type": "heatmapgl"
           }
          ],
          "histogram": [
           {
            "marker": {
             "colorbar": {
              "outlinewidth": 0,
              "ticks": ""
             }
            },
            "type": "histogram"
           }
          ],
          "histogram2d": [
           {
            "colorbar": {
             "outlinewidth": 0,
             "ticks": ""
            },
            "colorscale": [
             [
              0,
              "#0d0887"
             ],
             [
              0.1111111111111111,
              "#46039f"
             ],
             [
              0.2222222222222222,
              "#7201a8"
             ],
             [
              0.3333333333333333,
              "#9c179e"
             ],
             [
              0.4444444444444444,
              "#bd3786"
             ],
             [
              0.5555555555555556,
              "#d8576b"
             ],
             [
              0.6666666666666666,
              "#ed7953"
             ],
             [
              0.7777777777777778,
              "#fb9f3a"
             ],
             [
              0.8888888888888888,
              "#fdca26"
             ],
             [
              1,
              "#f0f921"
             ]
            ],
            "type": "histogram2d"
           }
          ],
          "histogram2dcontour": [
           {
            "colorbar": {
             "outlinewidth": 0,
             "ticks": ""
            },
            "colorscale": [
             [
              0,
              "#0d0887"
             ],
             [
              0.1111111111111111,
              "#46039f"
             ],
             [
              0.2222222222222222,
              "#7201a8"
             ],
             [
              0.3333333333333333,
              "#9c179e"
             ],
             [
              0.4444444444444444,
              "#bd3786"
             ],
             [
              0.5555555555555556,
              "#d8576b"
             ],
             [
              0.6666666666666666,
              "#ed7953"
             ],
             [
              0.7777777777777778,
              "#fb9f3a"
             ],
             [
              0.8888888888888888,
              "#fdca26"
             ],
             [
              1,
              "#f0f921"
             ]
            ],
            "type": "histogram2dcontour"
           }
          ],
          "mesh3d": [
           {
            "colorbar": {
             "outlinewidth": 0,
             "ticks": ""
            },
            "type": "mesh3d"
           }
          ],
          "parcoords": [
           {
            "line": {
             "colorbar": {
              "outlinewidth": 0,
              "ticks": ""
             }
            },
            "type": "parcoords"
           }
          ],
          "pie": [
           {
            "automargin": true,
            "type": "pie"
           }
          ],
          "scatter": [
           {
            "marker": {
             "colorbar": {
              "outlinewidth": 0,
              "ticks": ""
             }
            },
            "type": "scatter"
           }
          ],
          "scatter3d": [
           {
            "line": {
             "colorbar": {
              "outlinewidth": 0,
              "ticks": ""
             }
            },
            "marker": {
             "colorbar": {
              "outlinewidth": 0,
              "ticks": ""
             }
            },
            "type": "scatter3d"
           }
          ],
          "scattercarpet": [
           {
            "marker": {
             "colorbar": {
              "outlinewidth": 0,
              "ticks": ""
             }
            },
            "type": "scattercarpet"
           }
          ],
          "scattergeo": [
           {
            "marker": {
             "colorbar": {
              "outlinewidth": 0,
              "ticks": ""
             }
            },
            "type": "scattergeo"
           }
          ],
          "scattergl": [
           {
            "marker": {
             "colorbar": {
              "outlinewidth": 0,
              "ticks": ""
             }
            },
            "type": "scattergl"
           }
          ],
          "scattermapbox": [
           {
            "marker": {
             "colorbar": {
              "outlinewidth": 0,
              "ticks": ""
             }
            },
            "type": "scattermapbox"
           }
          ],
          "scatterpolar": [
           {
            "marker": {
             "colorbar": {
              "outlinewidth": 0,
              "ticks": ""
             }
            },
            "type": "scatterpolar"
           }
          ],
          "scatterpolargl": [
           {
            "marker": {
             "colorbar": {
              "outlinewidth": 0,
              "ticks": ""
             }
            },
            "type": "scatterpolargl"
           }
          ],
          "scatterternary": [
           {
            "marker": {
             "colorbar": {
              "outlinewidth": 0,
              "ticks": ""
             }
            },
            "type": "scatterternary"
           }
          ],
          "surface": [
           {
            "colorbar": {
             "outlinewidth": 0,
             "ticks": ""
            },
            "colorscale": [
             [
              0,
              "#0d0887"
             ],
             [
              0.1111111111111111,
              "#46039f"
             ],
             [
              0.2222222222222222,
              "#7201a8"
             ],
             [
              0.3333333333333333,
              "#9c179e"
             ],
             [
              0.4444444444444444,
              "#bd3786"
             ],
             [
              0.5555555555555556,
              "#d8576b"
             ],
             [
              0.6666666666666666,
              "#ed7953"
             ],
             [
              0.7777777777777778,
              "#fb9f3a"
             ],
             [
              0.8888888888888888,
              "#fdca26"
             ],
             [
              1,
              "#f0f921"
             ]
            ],
            "type": "surface"
           }
          ],
          "table": [
           {
            "cells": {
             "fill": {
              "color": "#EBF0F8"
             },
             "line": {
              "color": "white"
             }
            },
            "header": {
             "fill": {
              "color": "#C8D4E3"
             },
             "line": {
              "color": "white"
             }
            },
            "type": "table"
           }
          ]
         },
         "layout": {
          "annotationdefaults": {
           "arrowcolor": "#2a3f5f",
           "arrowhead": 0,
           "arrowwidth": 1
          },
          "coloraxis": {
           "colorbar": {
            "outlinewidth": 0,
            "ticks": ""
           }
          },
          "colorscale": {
           "diverging": [
            [
             0,
             "#8e0152"
            ],
            [
             0.1,
             "#c51b7d"
            ],
            [
             0.2,
             "#de77ae"
            ],
            [
             0.3,
             "#f1b6da"
            ],
            [
             0.4,
             "#fde0ef"
            ],
            [
             0.5,
             "#f7f7f7"
            ],
            [
             0.6,
             "#e6f5d0"
            ],
            [
             0.7,
             "#b8e186"
            ],
            [
             0.8,
             "#7fbc41"
            ],
            [
             0.9,
             "#4d9221"
            ],
            [
             1,
             "#276419"
            ]
           ],
           "sequential": [
            [
             0,
             "#0d0887"
            ],
            [
             0.1111111111111111,
             "#46039f"
            ],
            [
             0.2222222222222222,
             "#7201a8"
            ],
            [
             0.3333333333333333,
             "#9c179e"
            ],
            [
             0.4444444444444444,
             "#bd3786"
            ],
            [
             0.5555555555555556,
             "#d8576b"
            ],
            [
             0.6666666666666666,
             "#ed7953"
            ],
            [
             0.7777777777777778,
             "#fb9f3a"
            ],
            [
             0.8888888888888888,
             "#fdca26"
            ],
            [
             1,
             "#f0f921"
            ]
           ],
           "sequentialminus": [
            [
             0,
             "#0d0887"
            ],
            [
             0.1111111111111111,
             "#46039f"
            ],
            [
             0.2222222222222222,
             "#7201a8"
            ],
            [
             0.3333333333333333,
             "#9c179e"
            ],
            [
             0.4444444444444444,
             "#bd3786"
            ],
            [
             0.5555555555555556,
             "#d8576b"
            ],
            [
             0.6666666666666666,
             "#ed7953"
            ],
            [
             0.7777777777777778,
             "#fb9f3a"
            ],
            [
             0.8888888888888888,
             "#fdca26"
            ],
            [
             1,
             "#f0f921"
            ]
           ]
          },
          "colorway": [
           "#636efa",
           "#EF553B",
           "#00cc96",
           "#ab63fa",
           "#FFA15A",
           "#19d3f3",
           "#FF6692",
           "#B6E880",
           "#FF97FF",
           "#FECB52"
          ],
          "font": {
           "color": "#2a3f5f"
          },
          "geo": {
           "bgcolor": "white",
           "lakecolor": "white",
           "landcolor": "#E5ECF6",
           "showlakes": true,
           "showland": true,
           "subunitcolor": "white"
          },
          "hoverlabel": {
           "align": "left"
          },
          "hovermode": "closest",
          "mapbox": {
           "style": "light"
          },
          "paper_bgcolor": "white",
          "plot_bgcolor": "#E5ECF6",
          "polar": {
           "angularaxis": {
            "gridcolor": "white",
            "linecolor": "white",
            "ticks": ""
           },
           "bgcolor": "#E5ECF6",
           "radialaxis": {
            "gridcolor": "white",
            "linecolor": "white",
            "ticks": ""
           }
          },
          "scene": {
           "xaxis": {
            "backgroundcolor": "#E5ECF6",
            "gridcolor": "white",
            "gridwidth": 2,
            "linecolor": "white",
            "showbackground": true,
            "ticks": "",
            "zerolinecolor": "white"
           },
           "yaxis": {
            "backgroundcolor": "#E5ECF6",
            "gridcolor": "white",
            "gridwidth": 2,
            "linecolor": "white",
            "showbackground": true,
            "ticks": "",
            "zerolinecolor": "white"
           },
           "zaxis": {
            "backgroundcolor": "#E5ECF6",
            "gridcolor": "white",
            "gridwidth": 2,
            "linecolor": "white",
            "showbackground": true,
            "ticks": "",
            "zerolinecolor": "white"
           }
          },
          "shapedefaults": {
           "line": {
            "color": "#2a3f5f"
           }
          },
          "ternary": {
           "aaxis": {
            "gridcolor": "white",
            "linecolor": "white",
            "ticks": ""
           },
           "baxis": {
            "gridcolor": "white",
            "linecolor": "white",
            "ticks": ""
           },
           "bgcolor": "#E5ECF6",
           "caxis": {
            "gridcolor": "white",
            "linecolor": "white",
            "ticks": ""
           }
          },
          "title": {
           "x": 0.05
          },
          "xaxis": {
           "automargin": true,
           "gridcolor": "white",
           "linecolor": "white",
           "ticks": "",
           "title": {
            "standoff": 15
           },
           "zerolinecolor": "white",
           "zerolinewidth": 2
          },
          "yaxis": {
           "automargin": true,
           "gridcolor": "white",
           "linecolor": "white",
           "ticks": "",
           "title": {
            "standoff": 15
           },
           "zerolinecolor": "white",
           "zerolinewidth": 2
          }
         }
        },
        "title": {
         "text": "<b>Model performance report</b><br>Salary Predictor with BatchNorm and Three Additional Layers<br><br><br><br><br><br><br><br><br><br><br><br><br><br><br><br><br><br><br><br><br><br><br><br><b><i>Train Loss Stat Values:</i></b><br>Max: 100.85   Mean: 8.14   Min: 0.11   Median: 0.20   Var: 504.23<br><br><b><i>Mean Absolute Error Stat Values:</i></b><br>Max: 2.62   Mean: 0.38   Min: 0.07   Median: 0.13   Var: 0.39<br><br><b><i>Mean Mean Squared Error Stat Values:</i></b><br>Max: 27.57   Mean: 2.22   Min: 0.03   Median: 0.12   Var: 34.64",
         "x": 0.5,
         "xanchor": "center",
         "y": 0.95,
         "yanchor": "top"
        },
        "width": 900,
        "xaxis": {
         "anchor": "y",
         "domain": [
          0,
          1
         ]
        },
        "xaxis2": {
         "anchor": "y2",
         "domain": [
          0,
          1
         ]
        },
        "yaxis": {
         "anchor": "x",
         "domain": [
          0.625,
          1
         ],
         "range": [
          0,
          1
         ]
        },
        "yaxis2": {
         "anchor": "x2",
         "domain": [
          0,
          0.375
         ],
         "range": [
          0,
          1
         ]
        }
       }
      },
      "text/html": [
       "<div>                            <div id=\"c9b81793-5fc6-49e1-a7f3-bd8b79f7da40\" class=\"plotly-graph-div\" style=\"height:780px; width:900px;\"></div>            <script type=\"text/javascript\">                require([\"plotly\"], function(Plotly) {                    window.PLOTLYENV=window.PLOTLYENV || {};                                    if (document.getElementById(\"c9b81793-5fc6-49e1-a7f3-bd8b79f7da40\")) {                    Plotly.newPlot(                        \"c9b81793-5fc6-49e1-a7f3-bd8b79f7da40\",                        [{\"mode\": \"lines\", \"name\": \"Train Loss\", \"showlegend\": false, \"type\": \"scatter\", \"x\": [0, 1, 2, 3, 4, 5, 6, 7, 8, 9, 10, 11, 12, 13, 14, 15, 16, 17, 18, 19, 20, 21, 22, 23, 24, 25, 26, 27, 28, 29, 30, 31, 32, 33, 34, 35, 36, 37, 38, 39, 40, 41, 42, 43, 44, 45, 46, 47, 48, 49, 50], \"xaxis\": \"x\", \"y\": [100.85041046142578, 90.68252563476562, 72.47437286376953, 55.26518630981445, 38.800575256347656, 26.026294708251953, 13.038322448730469, 5.521770000457764, 2.387181043624878, 1.2406717538833618, 0.5965246558189392, 0.26772844791412354, 0.6522415280342102, 0.4119269847869873, 0.5978339314460754, 0.2665667235851288, 0.18818005919456482, 0.1952652782201767, 0.2261727750301361, 0.21162384748458862, 0.22030727565288544, 0.16740046441555023, 0.22960254549980164, 0.18195578455924988, 0.16598932445049286, 0.23394833505153656, 0.17418019473552704, 0.14367511868476868, 0.15524455904960632, 0.1484537124633789, 0.21538423001766205, 0.19997446238994598, 0.19340595602989197, 0.13773493468761444, 0.11029279232025146, 0.1420687884092331, 0.15189771354198456, 0.15414859354496002, 0.1463915854692459, 0.15524300932884216, 0.14552128314971924, 0.2527806758880615, 0.11954554915428162, 0.1319158673286438, 0.14446425437927246, 0.13484741747379303, 0.1383417248725891, 0.14887483417987823, 0.21923618018627167, 0.18008549511432648, 0.12718968093395233], \"yaxis\": \"y\"}, {\"mode\": \"lines\", \"name\": \"MAE\", \"type\": \"scatter\", \"x\": [0, 1, 2, 3, 4, 5, 6, 7, 8, 9, 10, 11, 12, 13, 14, 15, 16, 17, 18, 19, 20, 21, 22, 23, 24, 25, 26, 27, 28, 29, 30, 31, 32, 33, 34, 35, 36, 37, 38, 39, 40, 41, 42, 43, 44, 45, 46, 47, 48, 49, 50], \"xaxis\": \"x2\", \"y\": [2.622267246246338, 2.401404698689779, 2.126213550567627, 1.891920566558838, 1.6037508646647136, 1.3027902444203694, 0.9285648663838705, 0.5566152334213257, 0.373762845993042, 0.29603107770284015, 0.2954418857892354, 0.30129124720891315, 0.28900039196014404, 0.26862049102783203, 0.23223423957824707, 0.22890331347783408, 0.21553566058476767, 0.20281330744425455, 0.1947393218676249, 0.1793652574221293, 0.16359244783719382, 0.16147173444430032, 0.1491741438706716, 0.14141494035720825, 0.14322301745414734, 0.13037572304407755, 0.1286208430926005, 0.10392642021179199, 0.10476849476496379, 0.0956577757994334, 0.08351338903109233, 0.0947122573852539, 0.08813806374867757, 0.08080371220906575, 0.08102456231911977, 0.0728533963362376, 0.07209533452987671, 0.07383052508036296, 0.0947999656200409, 0.07632214327653249, 0.07061497867107391, 0.07434876263141632, 0.0730464259783427, 0.06910199920336406, 0.06669658422470093, 0.0678615669409434, 0.07258919378121693, 0.06562105814615886, 0.07850637535254161, 0.06854965289433797, 0.07003520429134369], \"yaxis\": \"y2\"}, {\"mode\": \"lines\", \"name\": \"MSE\", \"type\": \"scatter\", \"x\": [0, 1, 2, 3, 4, 5, 6, 7, 8, 9, 10, 11, 12, 13, 14, 15, 16, 17, 18, 19, 20, 21, 22, 23, 24, 25, 26, 27, 28, 29, 30, 31, 32, 33, 34, 35, 36, 37, 38, 39, 40, 41, 42, 43, 44, 45, 46, 47, 48, 49, 50], \"xaxis\": \"x2\", \"y\": [27.56951141357422, 23.15978240966797, 18.20531717936198, 14.476118723551432, 10.495917638142904, 7.091362635294597, 3.8452866872151694, 1.6214079856872559, 0.866232713063558, 0.4587366580963135, 0.4476253588994344, 0.4519047737121582, 0.4235445261001587, 0.39695854981740314, 0.28484684228897095, 0.2837272485097249, 0.2724870642026265, 0.2590428392092387, 0.23779437939325967, 0.20764940977096558, 0.1735543211301168, 0.17650051911671957, 0.14994698762893677, 0.13244413336118063, 0.14152679840723673, 0.11970221996307373, 0.108339657386144, 0.0768526941537857, 0.07621099054813385, 0.06320740282535553, 0.04824574291706085, 0.0594296803077062, 0.05246591567993164, 0.0435477743546168, 0.04386167724927267, 0.03646376480658849, 0.03574216365814209, 0.03720332682132721, 0.055548518896102905, 0.037943934400876365, 0.03392705818017324, 0.03725734849770864, 0.0353849803407987, 0.03243840237458547, 0.03035067766904831, 0.03139804055293401, 0.034436240792274475, 0.029540350039800007, 0.03942087789376577, 0.031311834851900734, 0.032629517217477165], \"yaxis\": \"y2\"}],                        {\"annotations\": [{\"font\": {\"size\": 16}, \"showarrow\": false, \"text\": \"<b>Train Loss</b>\", \"x\": 0.5, \"xanchor\": \"center\", \"xref\": \"paper\", \"y\": 1.0, \"yanchor\": \"bottom\", \"yref\": \"paper\"}, {\"font\": {\"size\": 16}, \"showarrow\": false, \"text\": \"<b>Test Metrics</b>\", \"x\": 0.5, \"xanchor\": \"center\", \"xref\": \"paper\", \"y\": 0.375, \"yanchor\": \"bottom\", \"yref\": \"paper\"}], \"autosize\": false, \"height\": 780, \"legend\": {\"x\": 1, \"y\": 0.15}, \"margin\": {\"b\": 270}, \"paper_bgcolor\": \"rgba(240, 240, 240, 0.95)\", \"plot_bgcolor\": \"rgba(240, 240, 240, 0.95)\", \"template\": {\"data\": {\"bar\": [{\"error_x\": {\"color\": \"#2a3f5f\"}, \"error_y\": {\"color\": \"#2a3f5f\"}, \"marker\": {\"line\": {\"color\": \"#E5ECF6\", \"width\": 0.5}}, \"type\": \"bar\"}], \"barpolar\": [{\"marker\": {\"line\": {\"color\": \"#E5ECF6\", \"width\": 0.5}}, \"type\": \"barpolar\"}], \"carpet\": [{\"aaxis\": {\"endlinecolor\": \"#2a3f5f\", \"gridcolor\": \"white\", \"linecolor\": \"white\", \"minorgridcolor\": \"white\", \"startlinecolor\": \"#2a3f5f\"}, \"baxis\": {\"endlinecolor\": \"#2a3f5f\", \"gridcolor\": \"white\", \"linecolor\": \"white\", \"minorgridcolor\": \"white\", \"startlinecolor\": \"#2a3f5f\"}, \"type\": \"carpet\"}], \"choropleth\": [{\"colorbar\": {\"outlinewidth\": 0, \"ticks\": \"\"}, \"type\": \"choropleth\"}], \"contour\": [{\"colorbar\": {\"outlinewidth\": 0, \"ticks\": \"\"}, \"colorscale\": [[0.0, \"#0d0887\"], [0.1111111111111111, \"#46039f\"], [0.2222222222222222, \"#7201a8\"], [0.3333333333333333, \"#9c179e\"], [0.4444444444444444, \"#bd3786\"], [0.5555555555555556, \"#d8576b\"], [0.6666666666666666, \"#ed7953\"], [0.7777777777777778, \"#fb9f3a\"], [0.8888888888888888, \"#fdca26\"], [1.0, \"#f0f921\"]], \"type\": \"contour\"}], \"contourcarpet\": [{\"colorbar\": {\"outlinewidth\": 0, \"ticks\": \"\"}, \"type\": \"contourcarpet\"}], \"heatmap\": [{\"colorbar\": {\"outlinewidth\": 0, \"ticks\": \"\"}, \"colorscale\": [[0.0, \"#0d0887\"], [0.1111111111111111, \"#46039f\"], [0.2222222222222222, \"#7201a8\"], [0.3333333333333333, \"#9c179e\"], [0.4444444444444444, \"#bd3786\"], [0.5555555555555556, \"#d8576b\"], [0.6666666666666666, \"#ed7953\"], [0.7777777777777778, \"#fb9f3a\"], [0.8888888888888888, \"#fdca26\"], [1.0, \"#f0f921\"]], \"type\": \"heatmap\"}], \"heatmapgl\": [{\"colorbar\": {\"outlinewidth\": 0, \"ticks\": \"\"}, \"colorscale\": [[0.0, \"#0d0887\"], [0.1111111111111111, \"#46039f\"], [0.2222222222222222, \"#7201a8\"], [0.3333333333333333, \"#9c179e\"], [0.4444444444444444, \"#bd3786\"], [0.5555555555555556, \"#d8576b\"], [0.6666666666666666, \"#ed7953\"], [0.7777777777777778, \"#fb9f3a\"], [0.8888888888888888, \"#fdca26\"], [1.0, \"#f0f921\"]], \"type\": \"heatmapgl\"}], \"histogram\": [{\"marker\": {\"colorbar\": {\"outlinewidth\": 0, \"ticks\": \"\"}}, \"type\": \"histogram\"}], \"histogram2d\": [{\"colorbar\": {\"outlinewidth\": 0, \"ticks\": \"\"}, \"colorscale\": [[0.0, \"#0d0887\"], [0.1111111111111111, \"#46039f\"], [0.2222222222222222, \"#7201a8\"], [0.3333333333333333, \"#9c179e\"], [0.4444444444444444, \"#bd3786\"], [0.5555555555555556, \"#d8576b\"], [0.6666666666666666, \"#ed7953\"], [0.7777777777777778, \"#fb9f3a\"], [0.8888888888888888, \"#fdca26\"], [1.0, \"#f0f921\"]], \"type\": \"histogram2d\"}], \"histogram2dcontour\": [{\"colorbar\": {\"outlinewidth\": 0, \"ticks\": \"\"}, \"colorscale\": [[0.0, \"#0d0887\"], [0.1111111111111111, \"#46039f\"], [0.2222222222222222, \"#7201a8\"], [0.3333333333333333, \"#9c179e\"], [0.4444444444444444, \"#bd3786\"], [0.5555555555555556, \"#d8576b\"], [0.6666666666666666, \"#ed7953\"], [0.7777777777777778, \"#fb9f3a\"], [0.8888888888888888, \"#fdca26\"], [1.0, \"#f0f921\"]], \"type\": \"histogram2dcontour\"}], \"mesh3d\": [{\"colorbar\": {\"outlinewidth\": 0, \"ticks\": \"\"}, \"type\": \"mesh3d\"}], \"parcoords\": [{\"line\": {\"colorbar\": {\"outlinewidth\": 0, \"ticks\": \"\"}}, \"type\": \"parcoords\"}], \"pie\": [{\"automargin\": true, \"type\": \"pie\"}], \"scatter\": [{\"marker\": {\"colorbar\": {\"outlinewidth\": 0, \"ticks\": \"\"}}, \"type\": \"scatter\"}], \"scatter3d\": [{\"line\": {\"colorbar\": {\"outlinewidth\": 0, \"ticks\": \"\"}}, \"marker\": {\"colorbar\": {\"outlinewidth\": 0, \"ticks\": \"\"}}, \"type\": \"scatter3d\"}], \"scattercarpet\": [{\"marker\": {\"colorbar\": {\"outlinewidth\": 0, \"ticks\": \"\"}}, \"type\": \"scattercarpet\"}], \"scattergeo\": [{\"marker\": {\"colorbar\": {\"outlinewidth\": 0, \"ticks\": \"\"}}, \"type\": \"scattergeo\"}], \"scattergl\": [{\"marker\": {\"colorbar\": {\"outlinewidth\": 0, \"ticks\": \"\"}}, \"type\": \"scattergl\"}], \"scattermapbox\": [{\"marker\": {\"colorbar\": {\"outlinewidth\": 0, \"ticks\": \"\"}}, \"type\": \"scattermapbox\"}], \"scatterpolar\": [{\"marker\": {\"colorbar\": {\"outlinewidth\": 0, \"ticks\": \"\"}}, \"type\": \"scatterpolar\"}], \"scatterpolargl\": [{\"marker\": {\"colorbar\": {\"outlinewidth\": 0, \"ticks\": \"\"}}, \"type\": \"scatterpolargl\"}], \"scatterternary\": [{\"marker\": {\"colorbar\": {\"outlinewidth\": 0, \"ticks\": \"\"}}, \"type\": \"scatterternary\"}], \"surface\": [{\"colorbar\": {\"outlinewidth\": 0, \"ticks\": \"\"}, \"colorscale\": [[0.0, \"#0d0887\"], [0.1111111111111111, \"#46039f\"], [0.2222222222222222, \"#7201a8\"], [0.3333333333333333, \"#9c179e\"], [0.4444444444444444, \"#bd3786\"], [0.5555555555555556, \"#d8576b\"], [0.6666666666666666, \"#ed7953\"], [0.7777777777777778, \"#fb9f3a\"], [0.8888888888888888, \"#fdca26\"], [1.0, \"#f0f921\"]], \"type\": \"surface\"}], \"table\": [{\"cells\": {\"fill\": {\"color\": \"#EBF0F8\"}, \"line\": {\"color\": \"white\"}}, \"header\": {\"fill\": {\"color\": \"#C8D4E3\"}, \"line\": {\"color\": \"white\"}}, \"type\": \"table\"}]}, \"layout\": {\"annotationdefaults\": {\"arrowcolor\": \"#2a3f5f\", \"arrowhead\": 0, \"arrowwidth\": 1}, \"coloraxis\": {\"colorbar\": {\"outlinewidth\": 0, \"ticks\": \"\"}}, \"colorscale\": {\"diverging\": [[0, \"#8e0152\"], [0.1, \"#c51b7d\"], [0.2, \"#de77ae\"], [0.3, \"#f1b6da\"], [0.4, \"#fde0ef\"], [0.5, \"#f7f7f7\"], [0.6, \"#e6f5d0\"], [0.7, \"#b8e186\"], [0.8, \"#7fbc41\"], [0.9, \"#4d9221\"], [1, \"#276419\"]], \"sequential\": [[0.0, \"#0d0887\"], [0.1111111111111111, \"#46039f\"], [0.2222222222222222, \"#7201a8\"], [0.3333333333333333, \"#9c179e\"], [0.4444444444444444, \"#bd3786\"], [0.5555555555555556, \"#d8576b\"], [0.6666666666666666, \"#ed7953\"], [0.7777777777777778, \"#fb9f3a\"], [0.8888888888888888, \"#fdca26\"], [1.0, \"#f0f921\"]], \"sequentialminus\": [[0.0, \"#0d0887\"], [0.1111111111111111, \"#46039f\"], [0.2222222222222222, \"#7201a8\"], [0.3333333333333333, \"#9c179e\"], [0.4444444444444444, \"#bd3786\"], [0.5555555555555556, \"#d8576b\"], [0.6666666666666666, \"#ed7953\"], [0.7777777777777778, \"#fb9f3a\"], [0.8888888888888888, \"#fdca26\"], [1.0, \"#f0f921\"]]}, \"colorway\": [\"#636efa\", \"#EF553B\", \"#00cc96\", \"#ab63fa\", \"#FFA15A\", \"#19d3f3\", \"#FF6692\", \"#B6E880\", \"#FF97FF\", \"#FECB52\"], \"font\": {\"color\": \"#2a3f5f\"}, \"geo\": {\"bgcolor\": \"white\", \"lakecolor\": \"white\", \"landcolor\": \"#E5ECF6\", \"showlakes\": true, \"showland\": true, \"subunitcolor\": \"white\"}, \"hoverlabel\": {\"align\": \"left\"}, \"hovermode\": \"closest\", \"mapbox\": {\"style\": \"light\"}, \"paper_bgcolor\": \"white\", \"plot_bgcolor\": \"#E5ECF6\", \"polar\": {\"angularaxis\": {\"gridcolor\": \"white\", \"linecolor\": \"white\", \"ticks\": \"\"}, \"bgcolor\": \"#E5ECF6\", \"radialaxis\": {\"gridcolor\": \"white\", \"linecolor\": \"white\", \"ticks\": \"\"}}, \"scene\": {\"xaxis\": {\"backgroundcolor\": \"#E5ECF6\", \"gridcolor\": \"white\", \"gridwidth\": 2, \"linecolor\": \"white\", \"showbackground\": true, \"ticks\": \"\", \"zerolinecolor\": \"white\"}, \"yaxis\": {\"backgroundcolor\": \"#E5ECF6\", \"gridcolor\": \"white\", \"gridwidth\": 2, \"linecolor\": \"white\", \"showbackground\": true, \"ticks\": \"\", \"zerolinecolor\": \"white\"}, \"zaxis\": {\"backgroundcolor\": \"#E5ECF6\", \"gridcolor\": \"white\", \"gridwidth\": 2, \"linecolor\": \"white\", \"showbackground\": true, \"ticks\": \"\", \"zerolinecolor\": \"white\"}}, \"shapedefaults\": {\"line\": {\"color\": \"#2a3f5f\"}}, \"ternary\": {\"aaxis\": {\"gridcolor\": \"white\", \"linecolor\": \"white\", \"ticks\": \"\"}, \"baxis\": {\"gridcolor\": \"white\", \"linecolor\": \"white\", \"ticks\": \"\"}, \"bgcolor\": \"#E5ECF6\", \"caxis\": {\"gridcolor\": \"white\", \"linecolor\": \"white\", \"ticks\": \"\"}}, \"title\": {\"x\": 0.05}, \"xaxis\": {\"automargin\": true, \"gridcolor\": \"white\", \"linecolor\": \"white\", \"ticks\": \"\", \"title\": {\"standoff\": 15}, \"zerolinecolor\": \"white\", \"zerolinewidth\": 2}, \"yaxis\": {\"automargin\": true, \"gridcolor\": \"white\", \"linecolor\": \"white\", \"ticks\": \"\", \"title\": {\"standoff\": 15}, \"zerolinecolor\": \"white\", \"zerolinewidth\": 2}}}, \"title\": {\"text\": \"<b>Model performance report</b><br>Salary Predictor with BatchNorm and Three Additional Layers<br><br><br><br><br><br><br><br><br><br><br><br><br><br><br><br><br><br><br><br><br><br><br><br><b><i>Train Loss Stat Values:</i></b><br>Max: 100.85   Mean: 8.14   Min: 0.11   Median: 0.20   Var: 504.23<br><br><b><i>Mean Absolute Error Stat Values:</i></b><br>Max: 2.62   Mean: 0.38   Min: 0.07   Median: 0.13   Var: 0.39<br><br><b><i>Mean Mean Squared Error Stat Values:</i></b><br>Max: 27.57   Mean: 2.22   Min: 0.03   Median: 0.12   Var: 34.64\", \"x\": 0.5, \"xanchor\": \"center\", \"y\": 0.95, \"yanchor\": \"top\"}, \"width\": 900, \"xaxis\": {\"anchor\": \"y\", \"domain\": [0.0, 1.0]}, \"xaxis2\": {\"anchor\": \"y2\", \"domain\": [0.0, 1.0]}, \"yaxis\": {\"anchor\": \"x\", \"domain\": [0.625, 1.0], \"range\": [0, 1]}, \"yaxis2\": {\"anchor\": \"x2\", \"domain\": [0.0, 0.375], \"range\": [0, 1]}},                        {\"responsive\": true}                    ).then(function(){\n",
       "                            \n",
       "var gd = document.getElementById('c9b81793-5fc6-49e1-a7f3-bd8b79f7da40');\n",
       "var x = new MutationObserver(function (mutations, observer) {{\n",
       "        var display = window.getComputedStyle(gd).display;\n",
       "        if (!display || display === 'none') {{\n",
       "            console.log([gd, 'removed!']);\n",
       "            Plotly.purge(gd);\n",
       "            observer.disconnect();\n",
       "        }}\n",
       "}});\n",
       "\n",
       "// Listen for the removal of the full notebook cells\n",
       "var notebookContainer = gd.closest('#notebook-container');\n",
       "if (notebookContainer) {{\n",
       "    x.observe(notebookContainer, {childList: true});\n",
       "}}\n",
       "\n",
       "// Listen for the clearing of the current output cell\n",
       "var outputEl = gd.closest('.output');\n",
       "if (outputEl) {{\n",
       "    x.observe(outputEl, {childList: true});\n",
       "}}\n",
       "\n",
       "                        })                };                });            </script>        </div>"
      ]
     },
     "metadata": {},
     "output_type": "display_data"
    }
   ],
   "source": [
    "draw_loss_acc_plot('Salary Predictor with BatchNorm and Three Additional Layers', train_loss_5, list_mae_5, list_mse_5)"
   ]
  },
  {
   "cell_type": "markdown",
   "metadata": {},
   "source": [
    "Добавление дополнительных сверточных слоев незначительно уменьшают точность модели, примерно на 0.01 по обеим метрикам (если больше 1 доп. слоя), однако увеличивает в 2 или 3 раза время, затрачиваемое на обучение модели. Поэтому в дальнейшем дополнительные сверточные слои (в количестве больше одного) использоваться не будут."
   ]
  },
  {
   "cell_type": "markdown",
   "metadata": {},
   "source": [
    "**2. Pooling слои стандартные (1 балла)**<a name=\"second\"></a>\n",
    "\n",
    "*   Опишите своими словами как работает Pooling слой.\n",
    "*   Взять максимум по временной компоненте (незавимисо для каждой фичи)\n",
    "*   Взять среднее по временной компоненте (исключая PAD символы)\n",
    "\n",
    "Применять можно к любой архитектуре (CNN/RNN)"
   ]
  },
  {
   "cell_type": "markdown",
   "metadata": {},
   "source": [
    "**Субдискретизирующий слой (англ. subsampling layers или англ. pooling layers, слой подвыборки)** - ещё один блок, составляющий CNN, представляющий собой нелинейное уплотнение карты признаков. Его функция заключается в постепенном уменьшении пространственного размера представления для уменьшения количества параметров и вычислений в сети: pooling-слои уменьшают размеры данных за счет объединения выходных сигналов кластеров нейронов на одном уровне в один нейрон на следующем уровне. Локальный Pooling-слой объединяет небольшие кластеры, обычно размеров 2 x 2. Глобальный pooling-слой действует на все нейроны карты признаков. Также выделяют два наиболее распространенных типа пула: максимальный и средний. Максимальный слой подвыборки использует максимальное значение каждого локального кластера нейронов в карте функций, в то время как средний pooling-слой принимает среднее значение. Pooling-слой работает с каждой картой объектов независимо."
   ]
  },
  {
   "cell_type": "code",
   "execution_count": 322,
   "metadata": {},
   "outputs": [],
   "source": [
    "class GlobalAvgPooling(nn.Module):\n",
    "    def __init__(self):\n",
    "        super(GlobalAvgPooling, self).__init__()\n",
    "    \n",
    "    def forward(self, t):\n",
    "        mask = t.eq(PAD_IX)\n",
    "        t[mask] = 0\n",
    "        t_mean = t.sum(2) / (~mask).sum(2)\n",
    "        t_mean = torch.where(torch.isnan(t_mean), torch.zeros_like(t_mean), t_mean)\n",
    "        return t_mean"
   ]
  },
  {
   "cell_type": "code",
   "execution_count": 325,
   "metadata": {},
   "outputs": [],
   "source": [
    "class SalaryPredictorwBatchNormAvgPooling(nn.Module):\n",
    "    def __init__(self, n_tokens=len(tokens), n_cat_features=len(categorical_vectorizer.vocabulary_), hid_size=8):\n",
    "        super().__init__()\n",
    "        self.embedder = nn.Embedding(n_tokens, hid_size)\n",
    "        self.title_encoder = nn.Sequential(\n",
    "            nn.Conv1d(hid_size, hid_size, kernel_size=2),\n",
    "            nn.Dropout(p=0.25),\n",
    "            nn.BatchNorm1d(hid_size),\n",
    "            nn.ReLU(),\n",
    "            GlobalAvgPooling()\n",
    "        )\n",
    "        self.description_encoder = nn.Sequential(\n",
    "            nn.Conv1d(hid_size, hid_size, kernel_size=2),\n",
    "            nn.Dropout(p=0.25),\n",
    "            nn.BatchNorm1d(hid_size),\n",
    "            nn.ReLU(),\n",
    "            GlobalAvgPooling()\n",
    "        )\n",
    "        self.categorical_encoder = nn.Sequential(\n",
    "            nn.Linear(n_cat_features, hid_size * 2),\n",
    "            nn.BatchNorm1d(hid_size * 2),\n",
    "            nn.ReLU(),\n",
    "            nn.Linear(hid_size * 2, hid_size * 2),\n",
    "            nn.ReLU()\n",
    "        )\n",
    "        self.final_predictor = nn.Sequential(\n",
    "            nn.Linear(hid_size * 4, hid_size),\n",
    "            nn.BatchNorm1d(hid_size),\n",
    "            nn.ReLU(),\n",
    "            nn.Linear(hid_size, 1)\n",
    "        )\n",
    "    \n",
    "    def forward(self, batch):\n",
    "        \n",
    "        title_embeddings = self.embedder(batch['Title']).permute(0, 2, 1)\n",
    "        title_features = self.title_encoder(title_embeddings).squeeze()\n",
    "\n",
    "        description_embeddings = self.embedder(batch['FullDescription']).permute(0, 2, 1)\n",
    "        description_features = self.description_encoder(description_embeddings).squeeze()\n",
    "\n",
    "        categorical_features = self.categorical_encoder(batch['Categorical'])\n",
    "\n",
    "        features = torch.cat(\n",
    "            [title_features, description_features, categorical_features], dim=1)\n",
    "        \n",
    "        return self.final_predictor(features).squeeze()"
   ]
  },
  {
   "cell_type": "code",
   "execution_count": 326,
   "metadata": {},
   "outputs": [
    {
     "name": "stdout",
     "output_type": "stream",
     "text": [
      "epoch: 0\n"
     ]
    },
    {
     "data": {
      "application/vnd.jupyter.widget-view+json": {
       "model_id": "b9950fd643bd481f81e1f2a90ed0f146",
       "version_major": 2,
       "version_minor": 0
      },
      "text/plain": [
       "HBox(children=(FloatProgress(value=0.0, max=1721.0), HTML(value='')))"
      ]
     },
     "metadata": {},
     "output_type": "display_data"
    },
    {
     "name": "stdout",
     "output_type": "stream",
     "text": [
      "train_loss 101.60389709472656\n",
      "val results:\n",
      "Mean square error: 25.18414\n",
      "Mean absolute error: 2.50469\n",
      "train_loss 91.56523132324219\n",
      "val results:\n",
      "Mean square error: 22.87447\n",
      "Mean absolute error: 2.38779\n",
      "train_loss 81.9599380493164\n",
      "val results:\n",
      "Mean square error: 20.41552\n",
      "Mean absolute error: 2.25507\n",
      "train_loss 70.1205825805664\n",
      "val results:\n",
      "Mean square error: 17.65356\n",
      "Mean absolute error: 2.09603\n",
      "train_loss 56.77052688598633\n",
      "val results:\n",
      "Mean square error: 14.25436\n",
      "Mean absolute error: 1.88068\n",
      "train_loss 43.27753448486328\n",
      "val results:\n",
      "Mean square error: 10.65067\n",
      "Mean absolute error: 1.61946\n",
      "train_loss 30.69009017944336\n",
      "val results:\n",
      "Mean square error: 7.91853\n",
      "Mean absolute error: 1.39347\n",
      "train_loss 19.85581398010254\n",
      "val results:\n",
      "Mean square error: 5.08013\n",
      "Mean absolute error: 1.09966\n",
      "train_loss 12.387031555175781\n",
      "val results:\n",
      "Mean square error: 3.13579\n",
      "Mean absolute error: 0.84623\n",
      "train_loss 7.522193908691406\n",
      "val results:\n",
      "Mean square error: 1.91374\n",
      "Mean absolute error: 0.62568\n",
      "train_loss 4.056717395782471\n",
      "val results:\n",
      "Mean square error: 1.13267\n",
      "Mean absolute error: 0.46683\n",
      "train_loss 3.1253137588500977\n",
      "val results:\n",
      "Mean square error: 0.65227\n",
      "Mean absolute error: 0.30071\n",
      "train_loss 2.305954694747925\n",
      "val results:\n",
      "Mean square error: 0.36923\n",
      "Mean absolute error: 0.22186\n",
      "train_loss 0.8345165848731995\n",
      "val results:\n",
      "Mean square error: 0.19932\n",
      "Mean absolute error: 0.16222\n",
      "train_loss 0.8998503684997559\n",
      "val results:\n",
      "Mean square error: 0.14590\n",
      "Mean absolute error: 0.13842\n",
      "train_loss 0.2671944200992584\n",
      "val results:\n",
      "Mean square error: 0.09057\n",
      "Mean absolute error: 0.11218\n",
      "train_loss 0.4053199589252472\n",
      "val results:\n",
      "Mean square error: 0.07317\n",
      "Mean absolute error: 0.10882\n",
      "\n",
      "epoch: 1\n"
     ]
    },
    {
     "data": {
      "application/vnd.jupyter.widget-view+json": {
       "model_id": "20252021347144dcbcbcf256b4aac9c7",
       "version_major": 2,
       "version_minor": 0
      },
      "text/plain": [
       "HBox(children=(FloatProgress(value=0.0, max=1721.0), HTML(value='')))"
      ]
     },
     "metadata": {},
     "output_type": "display_data"
    },
    {
     "name": "stdout",
     "output_type": "stream",
     "text": [
      "train_loss 1.2514687776565552\n",
      "val results:\n",
      "Mean square error: 0.05483\n",
      "Mean absolute error: 0.08894\n",
      "train_loss 0.1549186110496521\n",
      "val results:\n",
      "Mean square error: 0.04714\n",
      "Mean absolute error: 0.08588\n",
      "train_loss 0.18210355937480927\n",
      "val results:\n",
      "Mean square error: 0.03717\n",
      "Mean absolute error: 0.07388\n",
      "train_loss 0.22342978417873383\n",
      "val results:\n",
      "Mean square error: 0.04068\n",
      "Mean absolute error: 0.07784\n",
      "train_loss 0.29692426323890686\n",
      "val results:\n",
      "Mean square error: 0.03466\n",
      "Mean absolute error: 0.07126\n",
      "train_loss 0.34623444080352783\n",
      "val results:\n",
      "Mean square error: 0.03814\n",
      "Mean absolute error: 0.07543\n",
      "train_loss 0.5676282048225403\n",
      "val results:\n",
      "Mean square error: 0.03544\n",
      "Mean absolute error: 0.07220\n",
      "train_loss 0.2004382312297821\n",
      "val results:\n",
      "Mean square error: 0.03388\n",
      "Mean absolute error: 0.07026\n",
      "train_loss 0.1455134153366089\n",
      "val results:\n",
      "Mean square error: 0.03524\n",
      "Mean absolute error: 0.07174\n",
      "train_loss 0.18770001828670502\n",
      "val results:\n",
      "Mean square error: 0.04611\n",
      "Mean absolute error: 0.08248\n",
      "train_loss 0.27082252502441406\n",
      "val results:\n",
      "Mean square error: 0.03892\n",
      "Mean absolute error: 0.07625\n",
      "train_loss 0.11986906826496124\n",
      "val results:\n",
      "Mean square error: 0.03311\n",
      "Mean absolute error: 0.06930\n",
      "train_loss 0.2764265239238739\n",
      "val results:\n",
      "Mean square error: 0.02886\n",
      "Mean absolute error: 0.06455\n",
      "train_loss 0.19228637218475342\n",
      "val results:\n",
      "Mean square error: 0.02970\n",
      "Mean absolute error: 0.06572\n",
      "train_loss 0.13781046867370605\n",
      "val results:\n",
      "Mean square error: 0.03134\n",
      "Mean absolute error: 0.06728\n",
      "train_loss 0.2492874264717102\n",
      "val results:\n",
      "Mean square error: 0.02736\n",
      "Mean absolute error: 0.06273\n",
      "train_loss 0.13292011618614197\n",
      "val results:\n",
      "Mean square error: 0.03137\n",
      "Mean absolute error: 0.06844\n",
      "\n",
      "epoch: 2\n"
     ]
    },
    {
     "data": {
      "application/vnd.jupyter.widget-view+json": {
       "model_id": "360fa64d5fa14cdf8ca3b6a3535a884b",
       "version_major": 2,
       "version_minor": 0
      },
      "text/plain": [
       "HBox(children=(FloatProgress(value=0.0, max=1721.0), HTML(value='')))"
      ]
     },
     "metadata": {},
     "output_type": "display_data"
    },
    {
     "name": "stdout",
     "output_type": "stream",
     "text": [
      "train_loss 0.1386585682630539\n",
      "val results:\n",
      "Mean square error: 0.03008\n",
      "Mean absolute error: 0.06619\n",
      "train_loss 0.16182956099510193\n",
      "val results:\n",
      "Mean square error: 0.02802\n",
      "Mean absolute error: 0.06341\n",
      "train_loss 0.17984861135482788\n",
      "val results:\n",
      "Mean square error: 0.03106\n",
      "Mean absolute error: 0.06731\n",
      "train_loss 0.13742893934249878\n",
      "val results:\n",
      "Mean square error: 0.02912\n",
      "Mean absolute error: 0.06514\n",
      "train_loss 0.10745732486248016\n",
      "val results:\n",
      "Mean square error: 0.03491\n",
      "Mean absolute error: 0.07311\n",
      "train_loss 0.16034527122974396\n",
      "val results:\n",
      "Mean square error: 0.02969\n",
      "Mean absolute error: 0.06588\n",
      "train_loss 0.2256169319152832\n",
      "val results:\n",
      "Mean square error: 0.03391\n",
      "Mean absolute error: 0.07148\n",
      "train_loss 0.09695498645305634\n",
      "val results:\n",
      "Mean square error: 0.02924\n",
      "Mean absolute error: 0.06538\n",
      "train_loss 0.2656657099723816\n",
      "val results:\n",
      "Mean square error: 0.02806\n",
      "Mean absolute error: 0.06405\n",
      "train_loss 0.12361613661050797\n",
      "val results:\n",
      "Mean square error: 0.03175\n",
      "Mean absolute error: 0.06894\n",
      "train_loss 0.10322121530771255\n",
      "val results:\n",
      "Mean square error: 0.02972\n",
      "Mean absolute error: 0.06626\n",
      "train_loss 0.07785763591527939\n",
      "val results:\n",
      "Mean square error: 0.02873\n",
      "Mean absolute error: 0.06510\n",
      "train_loss 0.09366103261709213\n",
      "val results:\n",
      "Mean square error: 0.02712\n",
      "Mean absolute error: 0.06279\n",
      "train_loss 0.0873788595199585\n",
      "val results:\n",
      "Mean square error: 0.02921\n",
      "Mean absolute error: 0.06591\n",
      "train_loss 0.12756827473640442\n",
      "val results:\n",
      "Mean square error: 0.02606\n",
      "Mean absolute error: 0.06166\n",
      "train_loss 0.09066726267337799\n",
      "val results:\n",
      "Mean square error: 0.02555\n",
      "Mean absolute error: 0.06091\n",
      "train_loss 0.09723816812038422\n",
      "val results:\n",
      "Mean square error: 0.03381\n",
      "Mean absolute error: 0.07230\n",
      "\n"
     ]
    }
   ],
   "source": [
    "model = SalaryPredictorwBatchNormAvgPooling().to(DEVICE)\n",
    "criterion = nn.MSELoss(reduction='mean')\n",
    "optimizer = torch.optim.Adam(model.parameters(), lr=1e-3)\n",
    "list_mse_6 = []\n",
    "list_mae_6 = []\n",
    "train_loss_6 = []\n",
    "\n",
    "for epoch in range(EPOCHS):\n",
    "    print(f\"epoch: {epoch}\")\n",
    "    for i, batch in tqdm.notebook.tqdm(enumerate(\n",
    "            iterate_minibatches(\n",
    "                    data_train, \n",
    "                    batch_size=BATCH_SIZE, \n",
    "                    device=DEVICE)), \n",
    "                total=len(data_train) // BATCH_SIZE\n",
    "        ):\n",
    "        model.train()\n",
    "        pred = model(batch)\n",
    "        optimizer.zero_grad()\n",
    "        loss = criterion(pred, batch[TARGET_COLUMN])\n",
    "        loss.backward()\n",
    "        optimizer.step()\n",
    "\n",
    "        if i % 100 == 99:\n",
    "            print('train_loss', loss.item())\n",
    "            train_loss_6.append(loss.item())\n",
    "            print_metrics(model, data_val, list_mse=list_mse_6, list_mae=list_mae_6, \n",
    "                          name='val', batch_size=BATCH_SIZE, device=DEVICE)"
   ]
  },
  {
   "cell_type": "code",
   "execution_count": 327,
   "metadata": {},
   "outputs": [
    {
     "data": {
      "application/vnd.plotly.v1+json": {
       "config": {
        "linkText": "Export to plot.ly",
        "plotlyServerURL": "https://plot.ly",
        "showLink": false
       },
       "data": [
        {
         "mode": "lines",
         "name": "Train Loss",
         "showlegend": false,
         "type": "scatter",
         "x": [
          0,
          1,
          2,
          3,
          4,
          5,
          6,
          7,
          8,
          9,
          10,
          11,
          12,
          13,
          14,
          15,
          16,
          17,
          18,
          19,
          20,
          21,
          22,
          23,
          24,
          25,
          26,
          27,
          28,
          29,
          30,
          31,
          32,
          33,
          34,
          35,
          36,
          37,
          38,
          39,
          40,
          41,
          42,
          43,
          44,
          45,
          46,
          47,
          48,
          49,
          50
         ],
         "xaxis": "x",
         "y": [
          101.60389709472656,
          91.56523132324219,
          81.9599380493164,
          70.1205825805664,
          56.77052688598633,
          43.27753448486328,
          30.69009017944336,
          19.85581398010254,
          12.387031555175781,
          7.522193908691406,
          4.056717395782471,
          3.1253137588500977,
          2.305954694747925,
          0.8345165848731995,
          0.8998503684997559,
          0.2671944200992584,
          0.4053199589252472,
          1.2514687776565552,
          0.1549186110496521,
          0.18210355937480927,
          0.22342978417873383,
          0.29692426323890686,
          0.34623444080352783,
          0.5676282048225403,
          0.2004382312297821,
          0.1455134153366089,
          0.18770001828670502,
          0.27082252502441406,
          0.11986906826496124,
          0.2764265239238739,
          0.19228637218475342,
          0.13781046867370605,
          0.2492874264717102,
          0.13292011618614197,
          0.1386585682630539,
          0.16182956099510193,
          0.17984861135482788,
          0.13742893934249878,
          0.10745732486248016,
          0.16034527122974396,
          0.2256169319152832,
          0.09695498645305634,
          0.2656657099723816,
          0.12361613661050797,
          0.10322121530771255,
          0.07785763591527939,
          0.09366103261709213,
          0.0873788595199585,
          0.12756827473640442,
          0.09066726267337799,
          0.09723816812038422
         ],
         "yaxis": "y"
        },
        {
         "mode": "lines",
         "name": "MAE",
         "type": "scatter",
         "x": [
          0,
          1,
          2,
          3,
          4,
          5,
          6,
          7,
          8,
          9,
          10,
          11,
          12,
          13,
          14,
          15,
          16,
          17,
          18,
          19,
          20,
          21,
          22,
          23,
          24,
          25,
          26,
          27,
          28,
          29,
          30,
          31,
          32,
          33,
          34,
          35,
          36,
          37,
          38,
          39,
          40,
          41,
          42,
          43,
          44,
          45,
          46,
          47,
          48,
          49,
          50
         ],
         "xaxis": "x2",
         "y": [
          2.5046923955281577,
          2.3877944946289062,
          2.255074659983317,
          2.0960264205932617,
          1.880684534708659,
          1.6194556554158528,
          1.3934742609659831,
          1.099661906560262,
          0.8462326526641846,
          0.6256750822067261,
          0.46683021386464435,
          0.3007059097290039,
          0.22185871998469034,
          0.162215918302536,
          0.13842175404230753,
          0.11217676599820454,
          0.10882025957107544,
          0.08893568317095439,
          0.08588094512621562,
          0.07387507955233256,
          0.07784077028433482,
          0.07125567893187205,
          0.07543230056762695,
          0.07220133642355601,
          0.07026086250940959,
          0.07173790037631989,
          0.08248416582743327,
          0.07625482976436615,
          0.06929670770963033,
          0.0645476480325063,
          0.06572103500366211,
          0.06728393336137135,
          0.06273272136847179,
          0.06843627989292145,
          0.06619458397229512,
          0.06341089804967244,
          0.06731050709883372,
          0.06513688464959462,
          0.07311308880647023,
          0.0658815602461497,
          0.0714823454618454,
          0.06537801524003346,
          0.0640519807736079,
          0.06893779337406158,
          0.06626402338345845,
          0.0650952011346817,
          0.06279398500919342,
          0.06590963900089264,
          0.061657210191090904,
          0.06090560555458069,
          0.07230192919572194
         ],
         "yaxis": "y2"
        },
        {
         "mode": "lines",
         "name": "MSE",
         "type": "scatter",
         "x": [
          0,
          1,
          2,
          3,
          4,
          5,
          6,
          7,
          8,
          9,
          10,
          11,
          12,
          13,
          14,
          15,
          16,
          17,
          18,
          19,
          20,
          21,
          22,
          23,
          24,
          25,
          26,
          27,
          28,
          29,
          30,
          31,
          32,
          33,
          34,
          35,
          36,
          37,
          38,
          39,
          40,
          41,
          42,
          43,
          44,
          45,
          46,
          47,
          48,
          49,
          50
         ],
         "xaxis": "x2",
         "y": [
          25.18414306640625,
          22.874465942382812,
          20.41552225748698,
          17.653558095296223,
          14.25436019897461,
          10.650667826334635,
          7.9185333251953125,
          5.080125490824382,
          3.1357901891072593,
          1.9137355486551921,
          1.132665793100993,
          0.6522708733876547,
          0.36923126379648846,
          0.19932440916697183,
          0.1459039350350698,
          0.09057037035624187,
          0.07317117353280385,
          0.054831852515538536,
          0.04713966449101766,
          0.037171704073747,
          0.04068481922149658,
          0.034656437734762825,
          0.03814305613438288,
          0.03544376293818156,
          0.03387650599082311,
          0.03524121890465418,
          0.04610827565193176,
          0.03892351190249125,
          0.03310786932706833,
          0.028856053948402405,
          0.029696722825368244,
          0.03133769333362579,
          0.027363670368989308,
          0.03137267380952835,
          0.03008211652437846,
          0.028024102250734966,
          0.031058500210444134,
          0.0291207159558932,
          0.03490728636582693,
          0.02968564381202062,
          0.03390592088301977,
          0.029241882264614105,
          0.028062107662359875,
          0.031747810542583466,
          0.02971528470516205,
          0.02872670938571294,
          0.027118513981501263,
          0.02921278526385625,
          0.026057156423727672,
          0.025551078220208485,
          0.03380601853132248
         ],
         "yaxis": "y2"
        }
       ],
       "layout": {
        "annotations": [
         {
          "font": {
           "size": 16
          },
          "showarrow": false,
          "text": "<b>Train Loss</b>",
          "x": 0.5,
          "xanchor": "center",
          "xref": "paper",
          "y": 1,
          "yanchor": "bottom",
          "yref": "paper"
         },
         {
          "font": {
           "size": 16
          },
          "showarrow": false,
          "text": "<b>Test Metrics</b>",
          "x": 0.5,
          "xanchor": "center",
          "xref": "paper",
          "y": 0.375,
          "yanchor": "bottom",
          "yref": "paper"
         }
        ],
        "autosize": false,
        "height": 780,
        "legend": {
         "x": 1,
         "y": 0.15
        },
        "margin": {
         "b": 270
        },
        "paper_bgcolor": "rgba(240, 240, 240, 0.95)",
        "plot_bgcolor": "rgba(240, 240, 240, 0.95)",
        "template": {
         "data": {
          "bar": [
           {
            "error_x": {
             "color": "#2a3f5f"
            },
            "error_y": {
             "color": "#2a3f5f"
            },
            "marker": {
             "line": {
              "color": "#E5ECF6",
              "width": 0.5
             }
            },
            "type": "bar"
           }
          ],
          "barpolar": [
           {
            "marker": {
             "line": {
              "color": "#E5ECF6",
              "width": 0.5
             }
            },
            "type": "barpolar"
           }
          ],
          "carpet": [
           {
            "aaxis": {
             "endlinecolor": "#2a3f5f",
             "gridcolor": "white",
             "linecolor": "white",
             "minorgridcolor": "white",
             "startlinecolor": "#2a3f5f"
            },
            "baxis": {
             "endlinecolor": "#2a3f5f",
             "gridcolor": "white",
             "linecolor": "white",
             "minorgridcolor": "white",
             "startlinecolor": "#2a3f5f"
            },
            "type": "carpet"
           }
          ],
          "choropleth": [
           {
            "colorbar": {
             "outlinewidth": 0,
             "ticks": ""
            },
            "type": "choropleth"
           }
          ],
          "contour": [
           {
            "colorbar": {
             "outlinewidth": 0,
             "ticks": ""
            },
            "colorscale": [
             [
              0,
              "#0d0887"
             ],
             [
              0.1111111111111111,
              "#46039f"
             ],
             [
              0.2222222222222222,
              "#7201a8"
             ],
             [
              0.3333333333333333,
              "#9c179e"
             ],
             [
              0.4444444444444444,
              "#bd3786"
             ],
             [
              0.5555555555555556,
              "#d8576b"
             ],
             [
              0.6666666666666666,
              "#ed7953"
             ],
             [
              0.7777777777777778,
              "#fb9f3a"
             ],
             [
              0.8888888888888888,
              "#fdca26"
             ],
             [
              1,
              "#f0f921"
             ]
            ],
            "type": "contour"
           }
          ],
          "contourcarpet": [
           {
            "colorbar": {
             "outlinewidth": 0,
             "ticks": ""
            },
            "type": "contourcarpet"
           }
          ],
          "heatmap": [
           {
            "colorbar": {
             "outlinewidth": 0,
             "ticks": ""
            },
            "colorscale": [
             [
              0,
              "#0d0887"
             ],
             [
              0.1111111111111111,
              "#46039f"
             ],
             [
              0.2222222222222222,
              "#7201a8"
             ],
             [
              0.3333333333333333,
              "#9c179e"
             ],
             [
              0.4444444444444444,
              "#bd3786"
             ],
             [
              0.5555555555555556,
              "#d8576b"
             ],
             [
              0.6666666666666666,
              "#ed7953"
             ],
             [
              0.7777777777777778,
              "#fb9f3a"
             ],
             [
              0.8888888888888888,
              "#fdca26"
             ],
             [
              1,
              "#f0f921"
             ]
            ],
            "type": "heatmap"
           }
          ],
          "heatmapgl": [
           {
            "colorbar": {
             "outlinewidth": 0,
             "ticks": ""
            },
            "colorscale": [
             [
              0,
              "#0d0887"
             ],
             [
              0.1111111111111111,
              "#46039f"
             ],
             [
              0.2222222222222222,
              "#7201a8"
             ],
             [
              0.3333333333333333,
              "#9c179e"
             ],
             [
              0.4444444444444444,
              "#bd3786"
             ],
             [
              0.5555555555555556,
              "#d8576b"
             ],
             [
              0.6666666666666666,
              "#ed7953"
             ],
             [
              0.7777777777777778,
              "#fb9f3a"
             ],
             [
              0.8888888888888888,
              "#fdca26"
             ],
             [
              1,
              "#f0f921"
             ]
            ],
            "type": "heatmapgl"
           }
          ],
          "histogram": [
           {
            "marker": {
             "colorbar": {
              "outlinewidth": 0,
              "ticks": ""
             }
            },
            "type": "histogram"
           }
          ],
          "histogram2d": [
           {
            "colorbar": {
             "outlinewidth": 0,
             "ticks": ""
            },
            "colorscale": [
             [
              0,
              "#0d0887"
             ],
             [
              0.1111111111111111,
              "#46039f"
             ],
             [
              0.2222222222222222,
              "#7201a8"
             ],
             [
              0.3333333333333333,
              "#9c179e"
             ],
             [
              0.4444444444444444,
              "#bd3786"
             ],
             [
              0.5555555555555556,
              "#d8576b"
             ],
             [
              0.6666666666666666,
              "#ed7953"
             ],
             [
              0.7777777777777778,
              "#fb9f3a"
             ],
             [
              0.8888888888888888,
              "#fdca26"
             ],
             [
              1,
              "#f0f921"
             ]
            ],
            "type": "histogram2d"
           }
          ],
          "histogram2dcontour": [
           {
            "colorbar": {
             "outlinewidth": 0,
             "ticks": ""
            },
            "colorscale": [
             [
              0,
              "#0d0887"
             ],
             [
              0.1111111111111111,
              "#46039f"
             ],
             [
              0.2222222222222222,
              "#7201a8"
             ],
             [
              0.3333333333333333,
              "#9c179e"
             ],
             [
              0.4444444444444444,
              "#bd3786"
             ],
             [
              0.5555555555555556,
              "#d8576b"
             ],
             [
              0.6666666666666666,
              "#ed7953"
             ],
             [
              0.7777777777777778,
              "#fb9f3a"
             ],
             [
              0.8888888888888888,
              "#fdca26"
             ],
             [
              1,
              "#f0f921"
             ]
            ],
            "type": "histogram2dcontour"
           }
          ],
          "mesh3d": [
           {
            "colorbar": {
             "outlinewidth": 0,
             "ticks": ""
            },
            "type": "mesh3d"
           }
          ],
          "parcoords": [
           {
            "line": {
             "colorbar": {
              "outlinewidth": 0,
              "ticks": ""
             }
            },
            "type": "parcoords"
           }
          ],
          "pie": [
           {
            "automargin": true,
            "type": "pie"
           }
          ],
          "scatter": [
           {
            "marker": {
             "colorbar": {
              "outlinewidth": 0,
              "ticks": ""
             }
            },
            "type": "scatter"
           }
          ],
          "scatter3d": [
           {
            "line": {
             "colorbar": {
              "outlinewidth": 0,
              "ticks": ""
             }
            },
            "marker": {
             "colorbar": {
              "outlinewidth": 0,
              "ticks": ""
             }
            },
            "type": "scatter3d"
           }
          ],
          "scattercarpet": [
           {
            "marker": {
             "colorbar": {
              "outlinewidth": 0,
              "ticks": ""
             }
            },
            "type": "scattercarpet"
           }
          ],
          "scattergeo": [
           {
            "marker": {
             "colorbar": {
              "outlinewidth": 0,
              "ticks": ""
             }
            },
            "type": "scattergeo"
           }
          ],
          "scattergl": [
           {
            "marker": {
             "colorbar": {
              "outlinewidth": 0,
              "ticks": ""
             }
            },
            "type": "scattergl"
           }
          ],
          "scattermapbox": [
           {
            "marker": {
             "colorbar": {
              "outlinewidth": 0,
              "ticks": ""
             }
            },
            "type": "scattermapbox"
           }
          ],
          "scatterpolar": [
           {
            "marker": {
             "colorbar": {
              "outlinewidth": 0,
              "ticks": ""
             }
            },
            "type": "scatterpolar"
           }
          ],
          "scatterpolargl": [
           {
            "marker": {
             "colorbar": {
              "outlinewidth": 0,
              "ticks": ""
             }
            },
            "type": "scatterpolargl"
           }
          ],
          "scatterternary": [
           {
            "marker": {
             "colorbar": {
              "outlinewidth": 0,
              "ticks": ""
             }
            },
            "type": "scatterternary"
           }
          ],
          "surface": [
           {
            "colorbar": {
             "outlinewidth": 0,
             "ticks": ""
            },
            "colorscale": [
             [
              0,
              "#0d0887"
             ],
             [
              0.1111111111111111,
              "#46039f"
             ],
             [
              0.2222222222222222,
              "#7201a8"
             ],
             [
              0.3333333333333333,
              "#9c179e"
             ],
             [
              0.4444444444444444,
              "#bd3786"
             ],
             [
              0.5555555555555556,
              "#d8576b"
             ],
             [
              0.6666666666666666,
              "#ed7953"
             ],
             [
              0.7777777777777778,
              "#fb9f3a"
             ],
             [
              0.8888888888888888,
              "#fdca26"
             ],
             [
              1,
              "#f0f921"
             ]
            ],
            "type": "surface"
           }
          ],
          "table": [
           {
            "cells": {
             "fill": {
              "color": "#EBF0F8"
             },
             "line": {
              "color": "white"
             }
            },
            "header": {
             "fill": {
              "color": "#C8D4E3"
             },
             "line": {
              "color": "white"
             }
            },
            "type": "table"
           }
          ]
         },
         "layout": {
          "annotationdefaults": {
           "arrowcolor": "#2a3f5f",
           "arrowhead": 0,
           "arrowwidth": 1
          },
          "coloraxis": {
           "colorbar": {
            "outlinewidth": 0,
            "ticks": ""
           }
          },
          "colorscale": {
           "diverging": [
            [
             0,
             "#8e0152"
            ],
            [
             0.1,
             "#c51b7d"
            ],
            [
             0.2,
             "#de77ae"
            ],
            [
             0.3,
             "#f1b6da"
            ],
            [
             0.4,
             "#fde0ef"
            ],
            [
             0.5,
             "#f7f7f7"
            ],
            [
             0.6,
             "#e6f5d0"
            ],
            [
             0.7,
             "#b8e186"
            ],
            [
             0.8,
             "#7fbc41"
            ],
            [
             0.9,
             "#4d9221"
            ],
            [
             1,
             "#276419"
            ]
           ],
           "sequential": [
            [
             0,
             "#0d0887"
            ],
            [
             0.1111111111111111,
             "#46039f"
            ],
            [
             0.2222222222222222,
             "#7201a8"
            ],
            [
             0.3333333333333333,
             "#9c179e"
            ],
            [
             0.4444444444444444,
             "#bd3786"
            ],
            [
             0.5555555555555556,
             "#d8576b"
            ],
            [
             0.6666666666666666,
             "#ed7953"
            ],
            [
             0.7777777777777778,
             "#fb9f3a"
            ],
            [
             0.8888888888888888,
             "#fdca26"
            ],
            [
             1,
             "#f0f921"
            ]
           ],
           "sequentialminus": [
            [
             0,
             "#0d0887"
            ],
            [
             0.1111111111111111,
             "#46039f"
            ],
            [
             0.2222222222222222,
             "#7201a8"
            ],
            [
             0.3333333333333333,
             "#9c179e"
            ],
            [
             0.4444444444444444,
             "#bd3786"
            ],
            [
             0.5555555555555556,
             "#d8576b"
            ],
            [
             0.6666666666666666,
             "#ed7953"
            ],
            [
             0.7777777777777778,
             "#fb9f3a"
            ],
            [
             0.8888888888888888,
             "#fdca26"
            ],
            [
             1,
             "#f0f921"
            ]
           ]
          },
          "colorway": [
           "#636efa",
           "#EF553B",
           "#00cc96",
           "#ab63fa",
           "#FFA15A",
           "#19d3f3",
           "#FF6692",
           "#B6E880",
           "#FF97FF",
           "#FECB52"
          ],
          "font": {
           "color": "#2a3f5f"
          },
          "geo": {
           "bgcolor": "white",
           "lakecolor": "white",
           "landcolor": "#E5ECF6",
           "showlakes": true,
           "showland": true,
           "subunitcolor": "white"
          },
          "hoverlabel": {
           "align": "left"
          },
          "hovermode": "closest",
          "mapbox": {
           "style": "light"
          },
          "paper_bgcolor": "white",
          "plot_bgcolor": "#E5ECF6",
          "polar": {
           "angularaxis": {
            "gridcolor": "white",
            "linecolor": "white",
            "ticks": ""
           },
           "bgcolor": "#E5ECF6",
           "radialaxis": {
            "gridcolor": "white",
            "linecolor": "white",
            "ticks": ""
           }
          },
          "scene": {
           "xaxis": {
            "backgroundcolor": "#E5ECF6",
            "gridcolor": "white",
            "gridwidth": 2,
            "linecolor": "white",
            "showbackground": true,
            "ticks": "",
            "zerolinecolor": "white"
           },
           "yaxis": {
            "backgroundcolor": "#E5ECF6",
            "gridcolor": "white",
            "gridwidth": 2,
            "linecolor": "white",
            "showbackground": true,
            "ticks": "",
            "zerolinecolor": "white"
           },
           "zaxis": {
            "backgroundcolor": "#E5ECF6",
            "gridcolor": "white",
            "gridwidth": 2,
            "linecolor": "white",
            "showbackground": true,
            "ticks": "",
            "zerolinecolor": "white"
           }
          },
          "shapedefaults": {
           "line": {
            "color": "#2a3f5f"
           }
          },
          "ternary": {
           "aaxis": {
            "gridcolor": "white",
            "linecolor": "white",
            "ticks": ""
           },
           "baxis": {
            "gridcolor": "white",
            "linecolor": "white",
            "ticks": ""
           },
           "bgcolor": "#E5ECF6",
           "caxis": {
            "gridcolor": "white",
            "linecolor": "white",
            "ticks": ""
           }
          },
          "title": {
           "x": 0.05
          },
          "xaxis": {
           "automargin": true,
           "gridcolor": "white",
           "linecolor": "white",
           "ticks": "",
           "title": {
            "standoff": 15
           },
           "zerolinecolor": "white",
           "zerolinewidth": 2
          },
          "yaxis": {
           "automargin": true,
           "gridcolor": "white",
           "linecolor": "white",
           "ticks": "",
           "title": {
            "standoff": 15
           },
           "zerolinecolor": "white",
           "zerolinewidth": 2
          }
         }
        },
        "title": {
         "text": "<b>Model performance report</b><br>Salary Predictor with BatchNorm and Average over time (excluding PAD) Pooling<br><br><br><br><br><br><br><br><br><br><br><br><br><br><br><br><br><br><br><br><br><br><br><br><b><i>Train Loss Stat Values:</i></b><br>Max: 101.60   Mean: 10.49   Min: 0.08   Median: 0.23   Var: 615.90<br><br><b><i>Mean Absolute Error Stat Values:</i></b><br>Max: 2.50   Mean: 0.40   Min: 0.06   Median: 0.07   Var: 0.47<br><br><b><i>Mean Mean Squared Error Stat Values:</i></b><br>Max: 25.18   Mean: 2.61   Min: 0.03   Median: 0.04   Var: 38.44",
         "x": 0.5,
         "xanchor": "center",
         "y": 0.95,
         "yanchor": "top"
        },
        "width": 900,
        "xaxis": {
         "anchor": "y",
         "domain": [
          0,
          1
         ]
        },
        "xaxis2": {
         "anchor": "y2",
         "domain": [
          0,
          1
         ]
        },
        "yaxis": {
         "anchor": "x",
         "domain": [
          0.625,
          1
         ],
         "range": [
          0,
          1
         ]
        },
        "yaxis2": {
         "anchor": "x2",
         "domain": [
          0,
          0.375
         ],
         "range": [
          0,
          1
         ]
        }
       }
      },
      "text/html": [
       "<div>                            <div id=\"bc503476-c0a1-4fbb-873c-e646c4226141\" class=\"plotly-graph-div\" style=\"height:780px; width:900px;\"></div>            <script type=\"text/javascript\">                require([\"plotly\"], function(Plotly) {                    window.PLOTLYENV=window.PLOTLYENV || {};                                    if (document.getElementById(\"bc503476-c0a1-4fbb-873c-e646c4226141\")) {                    Plotly.newPlot(                        \"bc503476-c0a1-4fbb-873c-e646c4226141\",                        [{\"mode\": \"lines\", \"name\": \"Train Loss\", \"showlegend\": false, \"type\": \"scatter\", \"x\": [0, 1, 2, 3, 4, 5, 6, 7, 8, 9, 10, 11, 12, 13, 14, 15, 16, 17, 18, 19, 20, 21, 22, 23, 24, 25, 26, 27, 28, 29, 30, 31, 32, 33, 34, 35, 36, 37, 38, 39, 40, 41, 42, 43, 44, 45, 46, 47, 48, 49, 50], \"xaxis\": \"x\", \"y\": [101.60389709472656, 91.56523132324219, 81.9599380493164, 70.1205825805664, 56.77052688598633, 43.27753448486328, 30.69009017944336, 19.85581398010254, 12.387031555175781, 7.522193908691406, 4.056717395782471, 3.1253137588500977, 2.305954694747925, 0.8345165848731995, 0.8998503684997559, 0.2671944200992584, 0.4053199589252472, 1.2514687776565552, 0.1549186110496521, 0.18210355937480927, 0.22342978417873383, 0.29692426323890686, 0.34623444080352783, 0.5676282048225403, 0.2004382312297821, 0.1455134153366089, 0.18770001828670502, 0.27082252502441406, 0.11986906826496124, 0.2764265239238739, 0.19228637218475342, 0.13781046867370605, 0.2492874264717102, 0.13292011618614197, 0.1386585682630539, 0.16182956099510193, 0.17984861135482788, 0.13742893934249878, 0.10745732486248016, 0.16034527122974396, 0.2256169319152832, 0.09695498645305634, 0.2656657099723816, 0.12361613661050797, 0.10322121530771255, 0.07785763591527939, 0.09366103261709213, 0.0873788595199585, 0.12756827473640442, 0.09066726267337799, 0.09723816812038422], \"yaxis\": \"y\"}, {\"mode\": \"lines\", \"name\": \"MAE\", \"type\": \"scatter\", \"x\": [0, 1, 2, 3, 4, 5, 6, 7, 8, 9, 10, 11, 12, 13, 14, 15, 16, 17, 18, 19, 20, 21, 22, 23, 24, 25, 26, 27, 28, 29, 30, 31, 32, 33, 34, 35, 36, 37, 38, 39, 40, 41, 42, 43, 44, 45, 46, 47, 48, 49, 50], \"xaxis\": \"x2\", \"y\": [2.5046923955281577, 2.3877944946289062, 2.255074659983317, 2.0960264205932617, 1.880684534708659, 1.6194556554158528, 1.3934742609659831, 1.099661906560262, 0.8462326526641846, 0.6256750822067261, 0.46683021386464435, 0.3007059097290039, 0.22185871998469034, 0.162215918302536, 0.13842175404230753, 0.11217676599820454, 0.10882025957107544, 0.08893568317095439, 0.08588094512621562, 0.07387507955233256, 0.07784077028433482, 0.07125567893187205, 0.07543230056762695, 0.07220133642355601, 0.07026086250940959, 0.07173790037631989, 0.08248416582743327, 0.07625482976436615, 0.06929670770963033, 0.0645476480325063, 0.06572103500366211, 0.06728393336137135, 0.06273272136847179, 0.06843627989292145, 0.06619458397229512, 0.06341089804967244, 0.06731050709883372, 0.06513688464959462, 0.07311308880647023, 0.0658815602461497, 0.0714823454618454, 0.06537801524003346, 0.0640519807736079, 0.06893779337406158, 0.06626402338345845, 0.0650952011346817, 0.06279398500919342, 0.06590963900089264, 0.061657210191090904, 0.06090560555458069, 0.07230192919572194], \"yaxis\": \"y2\"}, {\"mode\": \"lines\", \"name\": \"MSE\", \"type\": \"scatter\", \"x\": [0, 1, 2, 3, 4, 5, 6, 7, 8, 9, 10, 11, 12, 13, 14, 15, 16, 17, 18, 19, 20, 21, 22, 23, 24, 25, 26, 27, 28, 29, 30, 31, 32, 33, 34, 35, 36, 37, 38, 39, 40, 41, 42, 43, 44, 45, 46, 47, 48, 49, 50], \"xaxis\": \"x2\", \"y\": [25.18414306640625, 22.874465942382812, 20.41552225748698, 17.653558095296223, 14.25436019897461, 10.650667826334635, 7.9185333251953125, 5.080125490824382, 3.1357901891072593, 1.9137355486551921, 1.132665793100993, 0.6522708733876547, 0.36923126379648846, 0.19932440916697183, 0.1459039350350698, 0.09057037035624187, 0.07317117353280385, 0.054831852515538536, 0.04713966449101766, 0.037171704073747, 0.04068481922149658, 0.034656437734762825, 0.03814305613438288, 0.03544376293818156, 0.03387650599082311, 0.03524121890465418, 0.04610827565193176, 0.03892351190249125, 0.03310786932706833, 0.028856053948402405, 0.029696722825368244, 0.03133769333362579, 0.027363670368989308, 0.03137267380952835, 0.03008211652437846, 0.028024102250734966, 0.031058500210444134, 0.0291207159558932, 0.03490728636582693, 0.02968564381202062, 0.03390592088301977, 0.029241882264614105, 0.028062107662359875, 0.031747810542583466, 0.02971528470516205, 0.02872670938571294, 0.027118513981501263, 0.02921278526385625, 0.026057156423727672, 0.025551078220208485, 0.03380601853132248], \"yaxis\": \"y2\"}],                        {\"annotations\": [{\"font\": {\"size\": 16}, \"showarrow\": false, \"text\": \"<b>Train Loss</b>\", \"x\": 0.5, \"xanchor\": \"center\", \"xref\": \"paper\", \"y\": 1.0, \"yanchor\": \"bottom\", \"yref\": \"paper\"}, {\"font\": {\"size\": 16}, \"showarrow\": false, \"text\": \"<b>Test Metrics</b>\", \"x\": 0.5, \"xanchor\": \"center\", \"xref\": \"paper\", \"y\": 0.375, \"yanchor\": \"bottom\", \"yref\": \"paper\"}], \"autosize\": false, \"height\": 780, \"legend\": {\"x\": 1, \"y\": 0.15}, \"margin\": {\"b\": 270}, \"paper_bgcolor\": \"rgba(240, 240, 240, 0.95)\", \"plot_bgcolor\": \"rgba(240, 240, 240, 0.95)\", \"template\": {\"data\": {\"bar\": [{\"error_x\": {\"color\": \"#2a3f5f\"}, \"error_y\": {\"color\": \"#2a3f5f\"}, \"marker\": {\"line\": {\"color\": \"#E5ECF6\", \"width\": 0.5}}, \"type\": \"bar\"}], \"barpolar\": [{\"marker\": {\"line\": {\"color\": \"#E5ECF6\", \"width\": 0.5}}, \"type\": \"barpolar\"}], \"carpet\": [{\"aaxis\": {\"endlinecolor\": \"#2a3f5f\", \"gridcolor\": \"white\", \"linecolor\": \"white\", \"minorgridcolor\": \"white\", \"startlinecolor\": \"#2a3f5f\"}, \"baxis\": {\"endlinecolor\": \"#2a3f5f\", \"gridcolor\": \"white\", \"linecolor\": \"white\", \"minorgridcolor\": \"white\", \"startlinecolor\": \"#2a3f5f\"}, \"type\": \"carpet\"}], \"choropleth\": [{\"colorbar\": {\"outlinewidth\": 0, \"ticks\": \"\"}, \"type\": \"choropleth\"}], \"contour\": [{\"colorbar\": {\"outlinewidth\": 0, \"ticks\": \"\"}, \"colorscale\": [[0.0, \"#0d0887\"], [0.1111111111111111, \"#46039f\"], [0.2222222222222222, \"#7201a8\"], [0.3333333333333333, \"#9c179e\"], [0.4444444444444444, \"#bd3786\"], [0.5555555555555556, \"#d8576b\"], [0.6666666666666666, \"#ed7953\"], [0.7777777777777778, \"#fb9f3a\"], [0.8888888888888888, \"#fdca26\"], [1.0, \"#f0f921\"]], \"type\": \"contour\"}], \"contourcarpet\": [{\"colorbar\": {\"outlinewidth\": 0, \"ticks\": \"\"}, \"type\": \"contourcarpet\"}], \"heatmap\": [{\"colorbar\": {\"outlinewidth\": 0, \"ticks\": \"\"}, \"colorscale\": [[0.0, \"#0d0887\"], [0.1111111111111111, \"#46039f\"], [0.2222222222222222, \"#7201a8\"], [0.3333333333333333, \"#9c179e\"], [0.4444444444444444, \"#bd3786\"], [0.5555555555555556, \"#d8576b\"], [0.6666666666666666, \"#ed7953\"], [0.7777777777777778, \"#fb9f3a\"], [0.8888888888888888, \"#fdca26\"], [1.0, \"#f0f921\"]], \"type\": \"heatmap\"}], \"heatmapgl\": [{\"colorbar\": {\"outlinewidth\": 0, \"ticks\": \"\"}, \"colorscale\": [[0.0, \"#0d0887\"], [0.1111111111111111, \"#46039f\"], [0.2222222222222222, \"#7201a8\"], [0.3333333333333333, \"#9c179e\"], [0.4444444444444444, \"#bd3786\"], [0.5555555555555556, \"#d8576b\"], [0.6666666666666666, \"#ed7953\"], [0.7777777777777778, \"#fb9f3a\"], [0.8888888888888888, \"#fdca26\"], [1.0, \"#f0f921\"]], \"type\": \"heatmapgl\"}], \"histogram\": [{\"marker\": {\"colorbar\": {\"outlinewidth\": 0, \"ticks\": \"\"}}, \"type\": \"histogram\"}], \"histogram2d\": [{\"colorbar\": {\"outlinewidth\": 0, \"ticks\": \"\"}, \"colorscale\": [[0.0, \"#0d0887\"], [0.1111111111111111, \"#46039f\"], [0.2222222222222222, \"#7201a8\"], [0.3333333333333333, \"#9c179e\"], [0.4444444444444444, \"#bd3786\"], [0.5555555555555556, \"#d8576b\"], [0.6666666666666666, \"#ed7953\"], [0.7777777777777778, \"#fb9f3a\"], [0.8888888888888888, \"#fdca26\"], [1.0, \"#f0f921\"]], \"type\": \"histogram2d\"}], \"histogram2dcontour\": [{\"colorbar\": {\"outlinewidth\": 0, \"ticks\": \"\"}, \"colorscale\": [[0.0, \"#0d0887\"], [0.1111111111111111, \"#46039f\"], [0.2222222222222222, \"#7201a8\"], [0.3333333333333333, \"#9c179e\"], [0.4444444444444444, \"#bd3786\"], [0.5555555555555556, \"#d8576b\"], [0.6666666666666666, \"#ed7953\"], [0.7777777777777778, \"#fb9f3a\"], [0.8888888888888888, \"#fdca26\"], [1.0, \"#f0f921\"]], \"type\": \"histogram2dcontour\"}], \"mesh3d\": [{\"colorbar\": {\"outlinewidth\": 0, \"ticks\": \"\"}, \"type\": \"mesh3d\"}], \"parcoords\": [{\"line\": {\"colorbar\": {\"outlinewidth\": 0, \"ticks\": \"\"}}, \"type\": \"parcoords\"}], \"pie\": [{\"automargin\": true, \"type\": \"pie\"}], \"scatter\": [{\"marker\": {\"colorbar\": {\"outlinewidth\": 0, \"ticks\": \"\"}}, \"type\": \"scatter\"}], \"scatter3d\": [{\"line\": {\"colorbar\": {\"outlinewidth\": 0, \"ticks\": \"\"}}, \"marker\": {\"colorbar\": {\"outlinewidth\": 0, \"ticks\": \"\"}}, \"type\": \"scatter3d\"}], \"scattercarpet\": [{\"marker\": {\"colorbar\": {\"outlinewidth\": 0, \"ticks\": \"\"}}, \"type\": \"scattercarpet\"}], \"scattergeo\": [{\"marker\": {\"colorbar\": {\"outlinewidth\": 0, \"ticks\": \"\"}}, \"type\": \"scattergeo\"}], \"scattergl\": [{\"marker\": {\"colorbar\": {\"outlinewidth\": 0, \"ticks\": \"\"}}, \"type\": \"scattergl\"}], \"scattermapbox\": [{\"marker\": {\"colorbar\": {\"outlinewidth\": 0, \"ticks\": \"\"}}, \"type\": \"scattermapbox\"}], \"scatterpolar\": [{\"marker\": {\"colorbar\": {\"outlinewidth\": 0, \"ticks\": \"\"}}, \"type\": \"scatterpolar\"}], \"scatterpolargl\": [{\"marker\": {\"colorbar\": {\"outlinewidth\": 0, \"ticks\": \"\"}}, \"type\": \"scatterpolargl\"}], \"scatterternary\": [{\"marker\": {\"colorbar\": {\"outlinewidth\": 0, \"ticks\": \"\"}}, \"type\": \"scatterternary\"}], \"surface\": [{\"colorbar\": {\"outlinewidth\": 0, \"ticks\": \"\"}, \"colorscale\": [[0.0, \"#0d0887\"], [0.1111111111111111, \"#46039f\"], [0.2222222222222222, \"#7201a8\"], [0.3333333333333333, \"#9c179e\"], [0.4444444444444444, \"#bd3786\"], [0.5555555555555556, \"#d8576b\"], [0.6666666666666666, \"#ed7953\"], [0.7777777777777778, \"#fb9f3a\"], [0.8888888888888888, \"#fdca26\"], [1.0, \"#f0f921\"]], \"type\": \"surface\"}], \"table\": [{\"cells\": {\"fill\": {\"color\": \"#EBF0F8\"}, \"line\": {\"color\": \"white\"}}, \"header\": {\"fill\": {\"color\": \"#C8D4E3\"}, \"line\": {\"color\": \"white\"}}, \"type\": \"table\"}]}, \"layout\": {\"annotationdefaults\": {\"arrowcolor\": \"#2a3f5f\", \"arrowhead\": 0, \"arrowwidth\": 1}, \"coloraxis\": {\"colorbar\": {\"outlinewidth\": 0, \"ticks\": \"\"}}, \"colorscale\": {\"diverging\": [[0, \"#8e0152\"], [0.1, \"#c51b7d\"], [0.2, \"#de77ae\"], [0.3, \"#f1b6da\"], [0.4, \"#fde0ef\"], [0.5, \"#f7f7f7\"], [0.6, \"#e6f5d0\"], [0.7, \"#b8e186\"], [0.8, \"#7fbc41\"], [0.9, \"#4d9221\"], [1, \"#276419\"]], \"sequential\": [[0.0, \"#0d0887\"], [0.1111111111111111, \"#46039f\"], [0.2222222222222222, \"#7201a8\"], [0.3333333333333333, \"#9c179e\"], [0.4444444444444444, \"#bd3786\"], [0.5555555555555556, \"#d8576b\"], [0.6666666666666666, \"#ed7953\"], [0.7777777777777778, \"#fb9f3a\"], [0.8888888888888888, \"#fdca26\"], [1.0, \"#f0f921\"]], \"sequentialminus\": [[0.0, \"#0d0887\"], [0.1111111111111111, \"#46039f\"], [0.2222222222222222, \"#7201a8\"], [0.3333333333333333, \"#9c179e\"], [0.4444444444444444, \"#bd3786\"], [0.5555555555555556, \"#d8576b\"], [0.6666666666666666, \"#ed7953\"], [0.7777777777777778, \"#fb9f3a\"], [0.8888888888888888, \"#fdca26\"], [1.0, \"#f0f921\"]]}, \"colorway\": [\"#636efa\", \"#EF553B\", \"#00cc96\", \"#ab63fa\", \"#FFA15A\", \"#19d3f3\", \"#FF6692\", \"#B6E880\", \"#FF97FF\", \"#FECB52\"], \"font\": {\"color\": \"#2a3f5f\"}, \"geo\": {\"bgcolor\": \"white\", \"lakecolor\": \"white\", \"landcolor\": \"#E5ECF6\", \"showlakes\": true, \"showland\": true, \"subunitcolor\": \"white\"}, \"hoverlabel\": {\"align\": \"left\"}, \"hovermode\": \"closest\", \"mapbox\": {\"style\": \"light\"}, \"paper_bgcolor\": \"white\", \"plot_bgcolor\": \"#E5ECF6\", \"polar\": {\"angularaxis\": {\"gridcolor\": \"white\", \"linecolor\": \"white\", \"ticks\": \"\"}, \"bgcolor\": \"#E5ECF6\", \"radialaxis\": {\"gridcolor\": \"white\", \"linecolor\": \"white\", \"ticks\": \"\"}}, \"scene\": {\"xaxis\": {\"backgroundcolor\": \"#E5ECF6\", \"gridcolor\": \"white\", \"gridwidth\": 2, \"linecolor\": \"white\", \"showbackground\": true, \"ticks\": \"\", \"zerolinecolor\": \"white\"}, \"yaxis\": {\"backgroundcolor\": \"#E5ECF6\", \"gridcolor\": \"white\", \"gridwidth\": 2, \"linecolor\": \"white\", \"showbackground\": true, \"ticks\": \"\", \"zerolinecolor\": \"white\"}, \"zaxis\": {\"backgroundcolor\": \"#E5ECF6\", \"gridcolor\": \"white\", \"gridwidth\": 2, \"linecolor\": \"white\", \"showbackground\": true, \"ticks\": \"\", \"zerolinecolor\": \"white\"}}, \"shapedefaults\": {\"line\": {\"color\": \"#2a3f5f\"}}, \"ternary\": {\"aaxis\": {\"gridcolor\": \"white\", \"linecolor\": \"white\", \"ticks\": \"\"}, \"baxis\": {\"gridcolor\": \"white\", \"linecolor\": \"white\", \"ticks\": \"\"}, \"bgcolor\": \"#E5ECF6\", \"caxis\": {\"gridcolor\": \"white\", \"linecolor\": \"white\", \"ticks\": \"\"}}, \"title\": {\"x\": 0.05}, \"xaxis\": {\"automargin\": true, \"gridcolor\": \"white\", \"linecolor\": \"white\", \"ticks\": \"\", \"title\": {\"standoff\": 15}, \"zerolinecolor\": \"white\", \"zerolinewidth\": 2}, \"yaxis\": {\"automargin\": true, \"gridcolor\": \"white\", \"linecolor\": \"white\", \"ticks\": \"\", \"title\": {\"standoff\": 15}, \"zerolinecolor\": \"white\", \"zerolinewidth\": 2}}}, \"title\": {\"text\": \"<b>Model performance report</b><br>Salary Predictor with BatchNorm and Average over time (excluding PAD) Pooling<br><br><br><br><br><br><br><br><br><br><br><br><br><br><br><br><br><br><br><br><br><br><br><br><b><i>Train Loss Stat Values:</i></b><br>Max: 101.60   Mean: 10.49   Min: 0.08   Median: 0.23   Var: 615.90<br><br><b><i>Mean Absolute Error Stat Values:</i></b><br>Max: 2.50   Mean: 0.40   Min: 0.06   Median: 0.07   Var: 0.47<br><br><b><i>Mean Mean Squared Error Stat Values:</i></b><br>Max: 25.18   Mean: 2.61   Min: 0.03   Median: 0.04   Var: 38.44\", \"x\": 0.5, \"xanchor\": \"center\", \"y\": 0.95, \"yanchor\": \"top\"}, \"width\": 900, \"xaxis\": {\"anchor\": \"y\", \"domain\": [0.0, 1.0]}, \"xaxis2\": {\"anchor\": \"y2\", \"domain\": [0.0, 1.0]}, \"yaxis\": {\"anchor\": \"x\", \"domain\": [0.625, 1.0], \"range\": [0, 1]}, \"yaxis2\": {\"anchor\": \"x2\", \"domain\": [0.0, 0.375], \"range\": [0, 1]}},                        {\"responsive\": true}                    ).then(function(){\n",
       "                            \n",
       "var gd = document.getElementById('bc503476-c0a1-4fbb-873c-e646c4226141');\n",
       "var x = new MutationObserver(function (mutations, observer) {{\n",
       "        var display = window.getComputedStyle(gd).display;\n",
       "        if (!display || display === 'none') {{\n",
       "            console.log([gd, 'removed!']);\n",
       "            Plotly.purge(gd);\n",
       "            observer.disconnect();\n",
       "        }}\n",
       "}});\n",
       "\n",
       "// Listen for the removal of the full notebook cells\n",
       "var notebookContainer = gd.closest('#notebook-container');\n",
       "if (notebookContainer) {{\n",
       "    x.observe(notebookContainer, {childList: true});\n",
       "}}\n",
       "\n",
       "// Listen for the clearing of the current output cell\n",
       "var outputEl = gd.closest('.output');\n",
       "if (outputEl) {{\n",
       "    x.observe(outputEl, {childList: true});\n",
       "}}\n",
       "\n",
       "                        })                };                });            </script>        </div>"
      ]
     },
     "metadata": {},
     "output_type": "display_data"
    }
   ],
   "source": [
    "draw_loss_acc_plot('Salary Predictor with BatchNorm and Average over time (excluding PAD) Pooling', train_loss_6, list_mae_6, list_mse_6)"
   ]
  },
  {
   "cell_type": "markdown",
   "metadata": {},
   "source": [
    "Метрики практически не изменились с GlobalAvgPooling по сравнению с AdaptiveMaxPool1d."
   ]
  },
  {
   "cell_type": "markdown",
   "metadata": {},
   "source": [
    "**3. Используйте предобученные эмбеддинги (2 балла)**<a name=\"third\"></a>\n",
    "\n",
    "*   Загрузите предобученные эмбеддинги с помощью gensim.downloader.load\n",
    "*   Используйте метод [from_pretrained](https://pytorch.org/docs/stable/generated/torch.nn.Embedding.html) слоя torch.nn.Embedding для инициализации эмбеддингов с помощью предобученных весов. Можете попровать несколько типов предобученных эмбеддингов.\n",
    "*   Проведите эксперементы с обучаемыми/замороженными весами эмбеддингов.\n",
    "Используйте одни и те же эмбеддинги для Title и FullDescription.\n",
    "\n",
    "Сравните результаты:\n",
    "1.   Эмбеддингов, инициализируемых случайно из $$\\mathcal{N}(0,1)$$ (по умолчанию у слоя torch.nn.Embedding)\n",
    "2.   Предобученных эмбеддингов с замороженными весами\n",
    "3.   Предобученных эмбеддингов с обучаемыми весами\n",
    "\n",
    "Что изменяется в поведении модели? Какой эксперимент дал лучший результат?"
   ]
  },
  {
   "cell_type": "code",
   "execution_count": 339,
   "metadata": {},
   "outputs": [],
   "source": [
    "# pip install --upgrade gensim"
   ]
  },
  {
   "cell_type": "code",
   "execution_count": 342,
   "metadata": {},
   "outputs": [],
   "source": [
    "import gensim\n",
    "import gensim.downloader as api\n",
    "from gensim.test.utils import datapath"
   ]
  },
  {
   "cell_type": "code",
   "execution_count": 352,
   "metadata": {},
   "outputs": [
    {
     "name": "stdout",
     "output_type": "stream",
     "text": [
      "['fasttext-wiki-news-subwords-300', 'conceptnet-numberbatch-17-06-300', 'word2vec-ruscorpora-300', 'word2vec-google-news-300', 'glove-wiki-gigaword-50', 'glove-wiki-gigaword-100', 'glove-wiki-gigaword-200', 'glove-wiki-gigaword-300', 'glove-twitter-25', 'glove-twitter-50', 'glove-twitter-100', 'glove-twitter-200', '__testing_word2vec-matrix-synopsis']\n"
     ]
    }
   ],
   "source": [
    "print(list(api.info()['models'].keys()))"
   ]
  },
  {
   "cell_type": "code",
   "execution_count": 360,
   "metadata": {},
   "outputs": [
    {
     "data": {
      "text/plain": [
       "{'corpora': {'semeval-2016-2017-task3-subtaskBC': {'num_records': -1,\n",
       "   'record_format': 'dict',\n",
       "   'file_size': 6344358,\n",
       "   'reader_code': 'https://github.com/RaRe-Technologies/gensim-data/releases/download/semeval-2016-2017-task3-subtaskB-eng/__init__.py',\n",
       "   'license': 'All files released for the task are free for general research use',\n",
       "   'fields': {'2016-train': ['...'],\n",
       "    '2016-dev': ['...'],\n",
       "    '2017-test': ['...'],\n",
       "    '2016-test': ['...']},\n",
       "   'description': 'SemEval 2016 / 2017 Task 3 Subtask B and C datasets contain train+development (317 original questions, 3,169 related questions, and 31,690 comments), and test datasets in English. The description of the tasks and the collected data is given in sections 3 and 4.1 of the task paper http://alt.qcri.org/semeval2016/task3/data/uploads/semeval2016-task3-report.pdf linked in section “Papers” of https://github.com/RaRe-Technologies/gensim-data/issues/18.',\n",
       "   'checksum': '701ea67acd82e75f95e1d8e62fb0ad29',\n",
       "   'file_name': 'semeval-2016-2017-task3-subtaskBC.gz',\n",
       "   'read_more': ['http://alt.qcri.org/semeval2017/task3/',\n",
       "    'http://alt.qcri.org/semeval2017/task3/data/uploads/semeval2017-task3.pdf',\n",
       "    'https://github.com/RaRe-Technologies/gensim-data/issues/18',\n",
       "    'https://github.com/Witiko/semeval-2016_2017-task3-subtaskB-english'],\n",
       "   'parts': 1},\n",
       "  'semeval-2016-2017-task3-subtaskA-unannotated': {'num_records': 189941,\n",
       "   'record_format': 'dict',\n",
       "   'file_size': 234373151,\n",
       "   'reader_code': 'https://github.com/RaRe-Technologies/gensim-data/releases/download/semeval-2016-2017-task3-subtaskA-unannotated-eng/__init__.py',\n",
       "   'license': 'These datasets are free for general research use.',\n",
       "   'fields': {'THREAD_SEQUENCE': '',\n",
       "    'RelQuestion': {'RELQ_CATEGORY': 'question category, according to the Qatar Living taxonomy',\n",
       "     'RELQ_DATE': 'date of posting',\n",
       "     'RELQ_ID': 'question indentifier',\n",
       "     'RELQ_USERID': 'identifier of the user asking the question',\n",
       "     'RELQ_USERNAME': 'name of the user asking the question',\n",
       "     'RelQBody': 'body of question',\n",
       "     'RelQSubject': 'subject of question'},\n",
       "    'RelComments': [{'RelCText': 'text of answer',\n",
       "      'RELC_USERID': 'identifier of the user posting the comment',\n",
       "      'RELC_ID': 'comment identifier',\n",
       "      'RELC_USERNAME': 'name of the user posting the comment',\n",
       "      'RELC_DATE': 'date of posting'}]},\n",
       "   'description': 'SemEval 2016 / 2017 Task 3 Subtask A unannotated dataset contains 189,941 questions and 1,894,456 comments in English collected from the Community Question Answering (CQA) web forum of Qatar Living. These can be used as a corpus for language modelling.',\n",
       "   'checksum': '2de0e2f2c4f91c66ae4fcf58d50ba816',\n",
       "   'file_name': 'semeval-2016-2017-task3-subtaskA-unannotated.gz',\n",
       "   'read_more': ['http://alt.qcri.org/semeval2016/task3/',\n",
       "    'http://alt.qcri.org/semeval2016/task3/data/uploads/semeval2016-task3-report.pdf',\n",
       "    'https://github.com/RaRe-Technologies/gensim-data/issues/18',\n",
       "    'https://github.com/Witiko/semeval-2016_2017-task3-subtaskA-unannotated-english'],\n",
       "   'parts': 1},\n",
       "  'patent-2017': {'num_records': 353197,\n",
       "   'record_format': 'dict',\n",
       "   'file_size': 3087262469,\n",
       "   'reader_code': 'https://github.com/RaRe-Technologies/gensim-data/releases/download/patent-2017/__init__.py',\n",
       "   'license': 'not found',\n",
       "   'description': \"Patent Grant Full Text. Contains the full text including tables, sequence data and 'in-line' mathematical expressions of each patent grant issued in 2017.\",\n",
       "   'checksum-0': '818501f0b9af62d3b88294d86d509f8f',\n",
       "   'checksum-1': '66c05635c1d3c7a19b4a335829d09ffa',\n",
       "   'file_name': 'patent-2017.gz',\n",
       "   'read_more': ['http://patents.reedtech.com/pgrbft.php'],\n",
       "   'parts': 2},\n",
       "  'quora-duplicate-questions': {'num_records': 404290,\n",
       "   'record_format': 'dict',\n",
       "   'file_size': 21684784,\n",
       "   'reader_code': 'https://github.com/RaRe-Technologies/gensim-data/releases/download/quora-duplicate-questions/__init__.py',\n",
       "   'license': 'probably https://www.quora.com/about/tos',\n",
       "   'fields': {'question1': 'the full text of each question',\n",
       "    'question2': 'the full text of each question',\n",
       "    'qid1': 'unique ids of each question',\n",
       "    'qid2': 'unique ids of each question',\n",
       "    'id': 'the id of a training set question pair',\n",
       "    'is_duplicate': 'the target variable, set to 1 if question1 and question2 have essentially the same meaning, and 0 otherwise'},\n",
       "   'description': 'Over 400,000 lines of potential question duplicate pairs. Each line contains IDs for each question in the pair, the full text for each question, and a binary value that indicates whether the line contains a duplicate pair or not.',\n",
       "   'checksum': 'd7cfa7fbc6e2ec71ab74c495586c6365',\n",
       "   'file_name': 'quora-duplicate-questions.gz',\n",
       "   'read_more': ['https://data.quora.com/First-Quora-Dataset-Release-Question-Pairs'],\n",
       "   'parts': 1},\n",
       "  'wiki-english-20171001': {'num_records': 4924894,\n",
       "   'record_format': 'dict',\n",
       "   'file_size': 6516051717,\n",
       "   'reader_code': 'https://github.com/RaRe-Technologies/gensim-data/releases/download/wiki-english-20171001/__init__.py',\n",
       "   'license': 'https://dumps.wikimedia.org/legal.html',\n",
       "   'fields': {'section_texts': 'list of body of sections',\n",
       "    'section_titles': 'list of titles of sections',\n",
       "    'title': 'Title of wiki article'},\n",
       "   'description': 'Extracted Wikipedia dump from October 2017. Produced by `python -m gensim.scripts.segment_wiki -f enwiki-20171001-pages-articles.xml.bz2 -o wiki-en.gz`',\n",
       "   'checksum-0': 'a7d7d7fd41ea7e2d7fa32ec1bb640d71',\n",
       "   'checksum-1': 'b2683e3356ffbca3b6c2dca6e9801f9f',\n",
       "   'checksum-2': 'c5cde2a9ae77b3c4ebce804f6df542c2',\n",
       "   'checksum-3': '00b71144ed5e3aeeb885de84f7452b81',\n",
       "   'file_name': 'wiki-english-20171001.gz',\n",
       "   'read_more': ['https://dumps.wikimedia.org/enwiki/20171001/'],\n",
       "   'parts': 4},\n",
       "  'text8': {'num_records': 1701,\n",
       "   'record_format': 'list of str (tokens)',\n",
       "   'file_size': 33182058,\n",
       "   'reader_code': 'https://github.com/RaRe-Technologies/gensim-data/releases/download/text8/__init__.py',\n",
       "   'license': 'not found',\n",
       "   'description': 'First 100,000,000 bytes of plain text from Wikipedia. Used for testing purposes; see wiki-english-* for proper full Wikipedia datasets.',\n",
       "   'checksum': '68799af40b6bda07dfa47a32612e5364',\n",
       "   'file_name': 'text8.gz',\n",
       "   'read_more': ['http://mattmahoney.net/dc/textdata.html'],\n",
       "   'parts': 1},\n",
       "  'fake-news': {'num_records': 12999,\n",
       "   'record_format': 'dict',\n",
       "   'file_size': 20102776,\n",
       "   'reader_code': 'https://github.com/RaRe-Technologies/gensim-data/releases/download/fake-news/__init__.py',\n",
       "   'license': 'https://creativecommons.org/publicdomain/zero/1.0/',\n",
       "   'fields': {'crawled': 'date the story was archived',\n",
       "    'ord_in_thread': '',\n",
       "    'published': 'date published',\n",
       "    'participants_count': 'number of participants',\n",
       "    'shares': 'number of Facebook shares',\n",
       "    'replies_count': 'number of replies',\n",
       "    'main_img_url': 'image from story',\n",
       "    'spam_score': 'data from webhose.io',\n",
       "    'uuid': 'unique identifier',\n",
       "    'language': 'data from webhose.io',\n",
       "    'title': 'title of story',\n",
       "    'country': 'data from webhose.io',\n",
       "    'domain_rank': 'data from webhose.io',\n",
       "    'author': 'author of story',\n",
       "    'comments': 'number of Facebook comments',\n",
       "    'site_url': 'site URL from BS detector',\n",
       "    'text': 'text of story',\n",
       "    'thread_title': '',\n",
       "    'type': 'type of website (label from BS detector)',\n",
       "    'likes': 'number of Facebook likes'},\n",
       "   'description': \"News dataset, contains text and metadata from 244 websites and represents 12,999 posts in total from a specific window of 30 days. The data was pulled using the webhose.io API, and because it's coming from their crawler, not all websites identified by their BS Detector are present in this dataset. Data sources that were missing a label were simply assigned a label of 'bs'. There are (ostensibly) no genuine, reliable, or trustworthy news sources represented in this dataset (so far), so don't trust anything you read.\",\n",
       "   'checksum': '5e64e942df13219465927f92dcefd5fe',\n",
       "   'file_name': 'fake-news.gz',\n",
       "   'read_more': ['https://www.kaggle.com/mrisdal/fake-news'],\n",
       "   'parts': 1},\n",
       "  '20-newsgroups': {'num_records': 18846,\n",
       "   'record_format': 'dict',\n",
       "   'file_size': 14483581,\n",
       "   'reader_code': 'https://github.com/RaRe-Technologies/gensim-data/releases/download/20-newsgroups/__init__.py',\n",
       "   'license': 'not found',\n",
       "   'fields': {'topic': 'name of topic (20 variant of possible values)',\n",
       "    'set': \"marker of original split (possible values 'train' and 'test')\",\n",
       "    'data': '',\n",
       "    'id': 'original id inferred from folder name'},\n",
       "   'description': 'The notorious collection of approximately 20,000 newsgroup posts, partitioned (nearly) evenly across 20 different newsgroups.',\n",
       "   'checksum': 'c92fd4f6640a86d5ba89eaad818a9891',\n",
       "   'file_name': '20-newsgroups.gz',\n",
       "   'read_more': ['http://qwone.com/~jason/20Newsgroups/'],\n",
       "   'parts': 1},\n",
       "  '__testing_matrix-synopsis': {'description': '[THIS IS ONLY FOR TESTING] Synopsis of the movie matrix.',\n",
       "   'checksum': '1767ac93a089b43899d54944b07d9dc5',\n",
       "   'file_name': '__testing_matrix-synopsis.gz',\n",
       "   'read_more': ['http://www.imdb.com/title/tt0133093/plotsummary?ref_=ttpl_pl_syn#synopsis'],\n",
       "   'parts': 1},\n",
       "  '__testing_multipart-matrix-synopsis': {'description': '[THIS IS ONLY FOR TESTING] Synopsis of the movie matrix.',\n",
       "   'checksum-0': 'c8b0c7d8cf562b1b632c262a173ac338',\n",
       "   'checksum-1': '5ff7fc6818e9a5d9bc1cf12c35ed8b96',\n",
       "   'checksum-2': '966db9d274d125beaac7987202076cba',\n",
       "   'file_name': '__testing_multipart-matrix-synopsis.gz',\n",
       "   'read_more': ['http://www.imdb.com/title/tt0133093/plotsummary?ref_=ttpl_pl_syn#synopsis'],\n",
       "   'parts': 3}},\n",
       " 'models': {'fasttext-wiki-news-subwords-300': {'num_records': 999999,\n",
       "   'file_size': 1005007116,\n",
       "   'base_dataset': 'Wikipedia 2017, UMBC webbase corpus and statmt.org news dataset (16B tokens)',\n",
       "   'reader_code': 'https://github.com/RaRe-Technologies/gensim-data/releases/download/fasttext-wiki-news-subwords-300/__init__.py',\n",
       "   'license': 'https://creativecommons.org/licenses/by-sa/3.0/',\n",
       "   'parameters': {'dimension': 300},\n",
       "   'description': '1 million word vectors trained on Wikipedia 2017, UMBC webbase corpus and statmt.org news dataset (16B tokens).',\n",
       "   'read_more': ['https://fasttext.cc/docs/en/english-vectors.html',\n",
       "    'https://arxiv.org/abs/1712.09405',\n",
       "    'https://arxiv.org/abs/1607.01759'],\n",
       "   'checksum': 'de2bb3a20c46ce65c9c131e1ad9a77af',\n",
       "   'file_name': 'fasttext-wiki-news-subwords-300.gz',\n",
       "   'parts': 1},\n",
       "  'conceptnet-numberbatch-17-06-300': {'num_records': 1917247,\n",
       "   'file_size': 1225497562,\n",
       "   'base_dataset': 'ConceptNet, word2vec, GloVe, and OpenSubtitles 2016',\n",
       "   'reader_code': 'https://github.com/RaRe-Technologies/gensim-data/releases/download/conceptnet-numberbatch-17-06-300/__init__.py',\n",
       "   'license': 'https://github.com/commonsense/conceptnet-numberbatch/blob/master/LICENSE.txt',\n",
       "   'parameters': {'dimension': 300},\n",
       "   'description': 'ConceptNet Numberbatch consists of state-of-the-art semantic vectors (also known as word embeddings) that can be used directly as a representation of word meanings or as a starting point for further machine learning. ConceptNet Numberbatch is part of the ConceptNet open data project. ConceptNet provides lots of ways to compute with word meanings, one of which is word embeddings. ConceptNet Numberbatch is a snapshot of just the word embeddings. It is built using an ensemble that combines data from ConceptNet, word2vec, GloVe, and OpenSubtitles 2016, using a variation on retrofitting.',\n",
       "   'read_more': ['http://aaai.org/ocs/index.php/AAAI/AAAI17/paper/view/14972',\n",
       "    'https://github.com/commonsense/conceptnet-numberbatch',\n",
       "    'http://conceptnet.io/'],\n",
       "   'checksum': 'fd642d457adcd0ea94da0cd21b150847',\n",
       "   'file_name': 'conceptnet-numberbatch-17-06-300.gz',\n",
       "   'parts': 1},\n",
       "  'word2vec-ruscorpora-300': {'num_records': 184973,\n",
       "   'file_size': 208427381,\n",
       "   'base_dataset': 'Russian National Corpus (about 250M words)',\n",
       "   'reader_code': 'https://github.com/RaRe-Technologies/gensim-data/releases/download/word2vec-ruscorpora-300/__init__.py',\n",
       "   'license': 'https://creativecommons.org/licenses/by/4.0/deed.en',\n",
       "   'parameters': {'dimension': 300, 'window_size': 10},\n",
       "   'description': 'Word2vec Continuous Skipgram vectors trained on full Russian National Corpus (about 250M words). The model contains 185K words.',\n",
       "   'preprocessing': 'The corpus was lemmatized and tagged with Universal PoS',\n",
       "   'read_more': ['https://www.academia.edu/24306935/WebVectors_a_Toolkit_for_Building_Web_Interfaces_for_Vector_Semantic_Models',\n",
       "    'http://rusvectores.org/en/',\n",
       "    'https://github.com/RaRe-Technologies/gensim-data/issues/3'],\n",
       "   'checksum': '9bdebdc8ae6d17d20839dd9b5af10bc4',\n",
       "   'file_name': 'word2vec-ruscorpora-300.gz',\n",
       "   'parts': 1},\n",
       "  'word2vec-google-news-300': {'num_records': 3000000,\n",
       "   'file_size': 1743563840,\n",
       "   'base_dataset': 'Google News (about 100 billion words)',\n",
       "   'reader_code': 'https://github.com/RaRe-Technologies/gensim-data/releases/download/word2vec-google-news-300/__init__.py',\n",
       "   'license': 'not found',\n",
       "   'parameters': {'dimension': 300},\n",
       "   'description': \"Pre-trained vectors trained on a part of the Google News dataset (about 100 billion words). The model contains 300-dimensional vectors for 3 million words and phrases. The phrases were obtained using a simple data-driven approach described in 'Distributed Representations of Words and Phrases and their Compositionality' (https://code.google.com/archive/p/word2vec/).\",\n",
       "   'read_more': ['https://code.google.com/archive/p/word2vec/',\n",
       "    'https://arxiv.org/abs/1301.3781',\n",
       "    'https://arxiv.org/abs/1310.4546',\n",
       "    'https://www.microsoft.com/en-us/research/publication/linguistic-regularities-in-continuous-space-word-representations/?from=http%3A%2F%2Fresearch.microsoft.com%2Fpubs%2F189726%2Frvecs.pdf'],\n",
       "   'checksum': 'a5e5354d40acb95f9ec66d5977d140ef',\n",
       "   'file_name': 'word2vec-google-news-300.gz',\n",
       "   'parts': 1},\n",
       "  'glove-wiki-gigaword-50': {'num_records': 400000,\n",
       "   'file_size': 69182535,\n",
       "   'base_dataset': 'Wikipedia 2014 + Gigaword 5 (6B tokens, uncased)',\n",
       "   'reader_code': 'https://github.com/RaRe-Technologies/gensim-data/releases/download/glove-wiki-gigaword-50/__init__.py',\n",
       "   'license': 'http://opendatacommons.org/licenses/pddl/',\n",
       "   'parameters': {'dimension': 50},\n",
       "   'description': 'Pre-trained vectors based on Wikipedia 2014 + Gigaword, 5.6B tokens, 400K vocab, uncased (https://nlp.stanford.edu/projects/glove/).',\n",
       "   'preprocessing': 'Converted to w2v format with `python -m gensim.scripts.glove2word2vec -i <fname> -o glove-wiki-gigaword-50.txt`.',\n",
       "   'read_more': ['https://nlp.stanford.edu/projects/glove/',\n",
       "    'https://nlp.stanford.edu/pubs/glove.pdf'],\n",
       "   'checksum': 'c289bc5d7f2f02c6dc9f2f9b67641813',\n",
       "   'file_name': 'glove-wiki-gigaword-50.gz',\n",
       "   'parts': 1},\n",
       "  'glove-wiki-gigaword-100': {'num_records': 400000,\n",
       "   'file_size': 134300434,\n",
       "   'base_dataset': 'Wikipedia 2014 + Gigaword 5 (6B tokens, uncased)',\n",
       "   'reader_code': 'https://github.com/RaRe-Technologies/gensim-data/releases/download/glove-wiki-gigaword-100/__init__.py',\n",
       "   'license': 'http://opendatacommons.org/licenses/pddl/',\n",
       "   'parameters': {'dimension': 100},\n",
       "   'description': 'Pre-trained vectors based on Wikipedia 2014 + Gigaword 5.6B tokens, 400K vocab, uncased (https://nlp.stanford.edu/projects/glove/).',\n",
       "   'preprocessing': 'Converted to w2v format with `python -m gensim.scripts.glove2word2vec -i <fname> -o glove-wiki-gigaword-100.txt`.',\n",
       "   'read_more': ['https://nlp.stanford.edu/projects/glove/',\n",
       "    'https://nlp.stanford.edu/pubs/glove.pdf'],\n",
       "   'checksum': '40ec481866001177b8cd4cb0df92924f',\n",
       "   'file_name': 'glove-wiki-gigaword-100.gz',\n",
       "   'parts': 1},\n",
       "  'glove-wiki-gigaword-200': {'num_records': 400000,\n",
       "   'file_size': 264336934,\n",
       "   'base_dataset': 'Wikipedia 2014 + Gigaword 5 (6B tokens, uncased)',\n",
       "   'reader_code': 'https://github.com/RaRe-Technologies/gensim-data/releases/download/glove-wiki-gigaword-200/__init__.py',\n",
       "   'license': 'http://opendatacommons.org/licenses/pddl/',\n",
       "   'parameters': {'dimension': 200},\n",
       "   'description': 'Pre-trained vectors based on Wikipedia 2014 + Gigaword, 5.6B tokens, 400K vocab, uncased (https://nlp.stanford.edu/projects/glove/).',\n",
       "   'preprocessing': 'Converted to w2v format with `python -m gensim.scripts.glove2word2vec -i <fname> -o glove-wiki-gigaword-200.txt`.',\n",
       "   'read_more': ['https://nlp.stanford.edu/projects/glove/',\n",
       "    'https://nlp.stanford.edu/pubs/glove.pdf'],\n",
       "   'checksum': '59652db361b7a87ee73834a6c391dfc1',\n",
       "   'file_name': 'glove-wiki-gigaword-200.gz',\n",
       "   'parts': 1},\n",
       "  'glove-wiki-gigaword-300': {'num_records': 400000,\n",
       "   'file_size': 394362229,\n",
       "   'base_dataset': 'Wikipedia 2014 + Gigaword 5 (6B tokens, uncased)',\n",
       "   'reader_code': 'https://github.com/RaRe-Technologies/gensim-data/releases/download/glove-wiki-gigaword-300/__init__.py',\n",
       "   'license': 'http://opendatacommons.org/licenses/pddl/',\n",
       "   'parameters': {'dimension': 300},\n",
       "   'description': 'Pre-trained vectors based on Wikipedia 2014 + Gigaword, 5.6B tokens, 400K vocab, uncased (https://nlp.stanford.edu/projects/glove/).',\n",
       "   'preprocessing': 'Converted to w2v format with `python -m gensim.scripts.glove2word2vec -i <fname> -o glove-wiki-gigaword-300.txt`.',\n",
       "   'read_more': ['https://nlp.stanford.edu/projects/glove/',\n",
       "    'https://nlp.stanford.edu/pubs/glove.pdf'],\n",
       "   'checksum': '29e9329ac2241937d55b852e8284e89b',\n",
       "   'file_name': 'glove-wiki-gigaword-300.gz',\n",
       "   'parts': 1},\n",
       "  'glove-twitter-25': {'num_records': 1193514,\n",
       "   'file_size': 109885004,\n",
       "   'base_dataset': 'Twitter (2B tweets, 27B tokens, 1.2M vocab, uncased)',\n",
       "   'reader_code': 'https://github.com/RaRe-Technologies/gensim-data/releases/download/glove-twitter-25/__init__.py',\n",
       "   'license': 'http://opendatacommons.org/licenses/pddl/',\n",
       "   'parameters': {'dimension': 25},\n",
       "   'description': 'Pre-trained vectors based on 2B tweets, 27B tokens, 1.2M vocab, uncased (https://nlp.stanford.edu/projects/glove/).',\n",
       "   'preprocessing': 'Converted to w2v format with `python -m gensim.scripts.glove2word2vec -i <fname> -o glove-twitter-25.txt`.',\n",
       "   'read_more': ['https://nlp.stanford.edu/projects/glove/',\n",
       "    'https://nlp.stanford.edu/pubs/glove.pdf'],\n",
       "   'checksum': '50db0211d7e7a2dcd362c6b774762793',\n",
       "   'file_name': 'glove-twitter-25.gz',\n",
       "   'parts': 1},\n",
       "  'glove-twitter-50': {'num_records': 1193514,\n",
       "   'file_size': 209216938,\n",
       "   'base_dataset': 'Twitter (2B tweets, 27B tokens, 1.2M vocab, uncased)',\n",
       "   'reader_code': 'https://github.com/RaRe-Technologies/gensim-data/releases/download/glove-twitter-50/__init__.py',\n",
       "   'license': 'http://opendatacommons.org/licenses/pddl/',\n",
       "   'parameters': {'dimension': 50},\n",
       "   'description': 'Pre-trained vectors based on 2B tweets, 27B tokens, 1.2M vocab, uncased (https://nlp.stanford.edu/projects/glove/)',\n",
       "   'preprocessing': 'Converted to w2v format with `python -m gensim.scripts.glove2word2vec -i <fname> -o glove-twitter-50.txt`.',\n",
       "   'read_more': ['https://nlp.stanford.edu/projects/glove/',\n",
       "    'https://nlp.stanford.edu/pubs/glove.pdf'],\n",
       "   'checksum': 'c168f18641f8c8a00fe30984c4799b2b',\n",
       "   'file_name': 'glove-twitter-50.gz',\n",
       "   'parts': 1},\n",
       "  'glove-twitter-100': {'num_records': 1193514,\n",
       "   'file_size': 405932991,\n",
       "   'base_dataset': 'Twitter (2B tweets, 27B tokens, 1.2M vocab, uncased)',\n",
       "   'reader_code': 'https://github.com/RaRe-Technologies/gensim-data/releases/download/glove-twitter-100/__init__.py',\n",
       "   'license': 'http://opendatacommons.org/licenses/pddl/',\n",
       "   'parameters': {'dimension': 100},\n",
       "   'description': 'Pre-trained vectors based on  2B tweets, 27B tokens, 1.2M vocab, uncased (https://nlp.stanford.edu/projects/glove/)',\n",
       "   'preprocessing': 'Converted to w2v format with `python -m gensim.scripts.glove2word2vec -i <fname> -o glove-twitter-100.txt`.',\n",
       "   'read_more': ['https://nlp.stanford.edu/projects/glove/',\n",
       "    'https://nlp.stanford.edu/pubs/glove.pdf'],\n",
       "   'checksum': 'b04f7bed38756d64cf55b58ce7e97b15',\n",
       "   'file_name': 'glove-twitter-100.gz',\n",
       "   'parts': 1},\n",
       "  'glove-twitter-200': {'num_records': 1193514,\n",
       "   'file_size': 795373100,\n",
       "   'base_dataset': 'Twitter (2B tweets, 27B tokens, 1.2M vocab, uncased)',\n",
       "   'reader_code': 'https://github.com/RaRe-Technologies/gensim-data/releases/download/glove-twitter-200/__init__.py',\n",
       "   'license': 'http://opendatacommons.org/licenses/pddl/',\n",
       "   'parameters': {'dimension': 200},\n",
       "   'description': 'Pre-trained vectors based on 2B tweets, 27B tokens, 1.2M vocab, uncased (https://nlp.stanford.edu/projects/glove/).',\n",
       "   'preprocessing': 'Converted to w2v format with `python -m gensim.scripts.glove2word2vec -i <fname> -o glove-twitter-200.txt`.',\n",
       "   'read_more': ['https://nlp.stanford.edu/projects/glove/',\n",
       "    'https://nlp.stanford.edu/pubs/glove.pdf'],\n",
       "   'checksum': 'e52e8392d1860b95d5308a525817d8f9',\n",
       "   'file_name': 'glove-twitter-200.gz',\n",
       "   'parts': 1},\n",
       "  '__testing_word2vec-matrix-synopsis': {'description': '[THIS IS ONLY FOR TESTING] Word vecrors of the movie matrix.',\n",
       "   'parameters': {'dimensions': 50},\n",
       "   'preprocessing': 'Converted to w2v using a preprocessed corpus. Converted to w2v format with `python3.5 -m gensim.models.word2vec -train <input_filename> -iter 50 -output <output_filename>`.',\n",
       "   'read_more': [],\n",
       "   'checksum': '534dcb8b56a360977a269b7bfc62d124',\n",
       "   'file_name': '__testing_word2vec-matrix-synopsis.gz',\n",
       "   'parts': 1}}}"
      ]
     },
     "execution_count": 360,
     "metadata": {},
     "output_type": "execute_result"
    }
   ],
   "source": [
    "api.info()"
   ]
  },
  {
   "cell_type": "code",
   "execution_count": 361,
   "metadata": {},
   "outputs": [
    {
     "name": "stdout",
     "output_type": "stream",
     "text": [
      "[==================================================] 100.0% 104.8/104.8MB downloaded\n"
     ]
    }
   ],
   "source": [
    "glove_vectors = gensim.downloader.load('glove-twitter-25')"
   ]
  },
  {
   "cell_type": "code",
   "execution_count": 367,
   "metadata": {},
   "outputs": [],
   "source": [
    "weights = torch.FloatTensor(glove_vectors.vectors)"
   ]
  },
  {
   "cell_type": "code",
   "execution_count": 371,
   "metadata": {},
   "outputs": [
    {
     "data": {
      "text/plain": [
       "torch.Size([1193514, 25])"
      ]
     },
     "execution_count": 371,
     "metadata": {},
     "output_type": "execute_result"
    }
   ],
   "source": [
    "weights.shape"
   ]
  },
  {
   "cell_type": "code",
   "execution_count": 372,
   "metadata": {},
   "outputs": [],
   "source": [
    "class SalaryPredictorwBatchNormPretrained(nn.Module):\n",
    "    def __init__(self, n_tokens=len(tokens), n_cat_features=len(categorical_vectorizer.vocabulary_), hid_size=25):\n",
    "        super().__init__()\n",
    "        self.embedder = nn.Embedding.from_pretrained(weights, freeze=True)\n",
    "        self.title_encoder = nn.Sequential(\n",
    "            nn.Conv1d(hid_size, hid_size, kernel_size=2),\n",
    "            nn.Dropout(p=0.25),\n",
    "            nn.BatchNorm1d(hid_size),\n",
    "            nn.ReLU(),\n",
    "            nn.AdaptiveMaxPool1d(output_size=1)\n",
    "        )\n",
    "        self.description_encoder = nn.Sequential(\n",
    "            nn.Conv1d(hid_size, hid_size, kernel_size=2),\n",
    "            nn.Dropout(p=0.25),\n",
    "            nn.BatchNorm1d(hid_size),\n",
    "            nn.ReLU(),\n",
    "            nn.AdaptiveMaxPool1d(output_size=1)\n",
    "        )\n",
    "        self.categorical_encoder = nn.Sequential(\n",
    "            nn.Linear(n_cat_features, hid_size * 2),\n",
    "            nn.BatchNorm1d(hid_size * 2),\n",
    "            nn.ReLU(),\n",
    "            nn.Linear(hid_size * 2, hid_size * 2),\n",
    "            nn.ReLU()\n",
    "        )\n",
    "        self.final_predictor = nn.Sequential(\n",
    "            nn.Linear(hid_size * 4, hid_size),\n",
    "            nn.BatchNorm1d(hid_size),\n",
    "            nn.ReLU(),\n",
    "            nn.Linear(hid_size, 1)\n",
    "        )\n",
    "    \n",
    "    def forward(self, batch):\n",
    "        \n",
    "        title_embeddings = self.embedder(batch['Title']).permute(0, 2, 1)\n",
    "        title_features = self.title_encoder(title_embeddings).squeeze()\n",
    "\n",
    "        description_embeddings = self.embedder(batch['FullDescription']).permute(0, 2, 1)\n",
    "        description_features = self.description_encoder(description_embeddings).squeeze()\n",
    "\n",
    "        categorical_features = self.categorical_encoder(batch['Categorical'])\n",
    "\n",
    "        features = torch.cat(\n",
    "            [title_features, description_features, categorical_features], dim=1)\n",
    "        \n",
    "        return self.final_predictor(features).squeeze()"
   ]
  },
  {
   "cell_type": "code",
   "execution_count": 373,
   "metadata": {},
   "outputs": [
    {
     "name": "stdout",
     "output_type": "stream",
     "text": [
      "epoch: 0\n"
     ]
    },
    {
     "data": {
      "application/vnd.jupyter.widget-view+json": {
       "model_id": "d4552e7d16784ae38c0b6c40dd1fa2d4",
       "version_major": 2,
       "version_minor": 0
      },
      "text/plain": [
       "HBox(children=(FloatProgress(value=0.0, max=1721.0), HTML(value='')))"
      ]
     },
     "metadata": {},
     "output_type": "display_data"
    },
    {
     "name": "stdout",
     "output_type": "stream",
     "text": [
      "train_loss 71.75691986083984\n",
      "val results:\n",
      "Mean square error: 17.48564\n",
      "Mean absolute error: 2.08485\n",
      "train_loss 38.82606506347656\n",
      "val results:\n",
      "Mean square error: 9.48223\n",
      "Mean absolute error: 1.52250\n",
      "train_loss 13.807738304138184\n",
      "val results:\n",
      "Mean square error: 2.90782\n",
      "Mean absolute error: 0.78760\n",
      "train_loss 4.0672502517700195\n",
      "val results:\n",
      "Mean square error: 0.76735\n",
      "Mean absolute error: 0.31055\n",
      "train_loss 1.0508805513381958\n",
      "val results:\n",
      "Mean square error: 0.96352\n",
      "Mean absolute error: 0.46293\n",
      "train_loss 0.517536461353302\n",
      "val results:\n",
      "Mean square error: 2.36045\n",
      "Mean absolute error: 0.71678\n",
      "train_loss 0.5166341662406921\n",
      "val results:\n",
      "Mean square error: 1.22183\n",
      "Mean absolute error: 0.52313\n",
      "train_loss 0.30878347158432007\n",
      "val results:\n",
      "Mean square error: 0.81998\n",
      "Mean absolute error: 0.41764\n",
      "train_loss 0.3447752296924591\n",
      "val results:\n",
      "Mean square error: 0.80398\n",
      "Mean absolute error: 0.41473\n",
      "train_loss 0.5906848907470703\n",
      "val results:\n",
      "Mean square error: 0.61361\n",
      "Mean absolute error: 0.35468\n",
      "train_loss 0.3197372853755951\n",
      "val results:\n",
      "Mean square error: 0.54045\n",
      "Mean absolute error: 0.33839\n",
      "train_loss 0.17454655468463898\n",
      "val results:\n",
      "Mean square error: 0.53046\n",
      "Mean absolute error: 0.34039\n",
      "train_loss 0.23741164803504944\n",
      "val results:\n",
      "Mean square error: 0.49018\n",
      "Mean absolute error: 0.32456\n",
      "train_loss 0.1619296371936798\n",
      "val results:\n",
      "Mean square error: 0.40977\n",
      "Mean absolute error: 0.29022\n",
      "train_loss 0.3365488052368164\n",
      "val results:\n",
      "Mean square error: 0.54028\n",
      "Mean absolute error: 0.33439\n",
      "train_loss 0.21084155142307281\n",
      "val results:\n",
      "Mean square error: 0.39917\n",
      "Mean absolute error: 0.28369\n",
      "train_loss 0.2005532681941986\n",
      "val results:\n",
      "Mean square error: 0.45980\n",
      "Mean absolute error: 0.30612\n",
      "\n",
      "epoch: 1\n"
     ]
    },
    {
     "data": {
      "application/vnd.jupyter.widget-view+json": {
       "model_id": "9d3ba9c0f14e41158620fe7d9b4028f0",
       "version_major": 2,
       "version_minor": 0
      },
      "text/plain": [
       "HBox(children=(FloatProgress(value=0.0, max=1721.0), HTML(value='')))"
      ]
     },
     "metadata": {},
     "output_type": "display_data"
    },
    {
     "name": "stdout",
     "output_type": "stream",
     "text": [
      "train_loss 0.13258600234985352\n",
      "val results:\n",
      "Mean square error: 0.40010\n",
      "Mean absolute error: 0.28400\n",
      "train_loss 0.22303283214569092\n",
      "val results:\n",
      "Mean square error: 0.30178\n",
      "Mean absolute error: 0.24539\n",
      "train_loss 0.17585715651512146\n",
      "val results:\n",
      "Mean square error: 0.32066\n",
      "Mean absolute error: 0.25377\n",
      "train_loss 0.14535756409168243\n",
      "val results:\n",
      "Mean square error: 0.25092\n",
      "Mean absolute error: 0.22368\n",
      "train_loss 0.2316165268421173\n",
      "val results:\n",
      "Mean square error: 0.25165\n",
      "Mean absolute error: 0.22228\n",
      "train_loss 0.19456253945827484\n",
      "val results:\n",
      "Mean square error: 0.33972\n",
      "Mean absolute error: 0.26256\n",
      "train_loss 0.16965578496456146\n",
      "val results:\n",
      "Mean square error: 0.24909\n",
      "Mean absolute error: 0.22035\n",
      "train_loss 0.23275722563266754\n",
      "val results:\n",
      "Mean square error: 0.26461\n",
      "Mean absolute error: 0.22736\n",
      "train_loss 0.2013581097126007\n",
      "val results:\n",
      "Mean square error: 0.23167\n",
      "Mean absolute error: 0.21583\n",
      "train_loss 0.27095213532447815\n",
      "val results:\n",
      "Mean square error: 0.28490\n",
      "Mean absolute error: 0.24108\n",
      "train_loss 0.1790841519832611\n",
      "val results:\n",
      "Mean square error: 0.19241\n",
      "Mean absolute error: 0.19258\n",
      "train_loss 0.18446579575538635\n",
      "val results:\n",
      "Mean square error: 0.16748\n",
      "Mean absolute error: 0.17743\n",
      "train_loss 0.17544712126255035\n",
      "val results:\n",
      "Mean square error: 0.16114\n",
      "Mean absolute error: 0.16941\n",
      "train_loss 0.14854788780212402\n",
      "val results:\n",
      "Mean square error: 0.15057\n",
      "Mean absolute error: 0.17021\n",
      "train_loss 0.15641537308692932\n",
      "val results:\n",
      "Mean square error: 0.13719\n",
      "Mean absolute error: 0.15297\n",
      "train_loss 0.1421097368001938\n",
      "val results:\n",
      "Mean square error: 0.17008\n",
      "Mean absolute error: 0.18290\n",
      "train_loss 0.1425139605998993\n",
      "val results:\n",
      "Mean square error: 0.14796\n",
      "Mean absolute error: 0.16535\n",
      "\n",
      "epoch: 2\n"
     ]
    },
    {
     "data": {
      "application/vnd.jupyter.widget-view+json": {
       "model_id": "9185a242db1b45f0b358606505554cf9",
       "version_major": 2,
       "version_minor": 0
      },
      "text/plain": [
       "HBox(children=(FloatProgress(value=0.0, max=1721.0), HTML(value='')))"
      ]
     },
     "metadata": {},
     "output_type": "display_data"
    },
    {
     "name": "stdout",
     "output_type": "stream",
     "text": [
      "train_loss 0.14996077120304108\n",
      "val results:\n",
      "Mean square error: 0.10604\n",
      "Mean absolute error: 0.13162\n",
      "train_loss 0.180642768740654\n",
      "val results:\n",
      "Mean square error: 0.10804\n",
      "Mean absolute error: 0.13942\n",
      "train_loss 0.1615721434354782\n",
      "val results:\n",
      "Mean square error: 0.10709\n",
      "Mean absolute error: 0.13542\n",
      "train_loss 0.11107411980628967\n",
      "val results:\n",
      "Mean square error: 0.12612\n",
      "Mean absolute error: 0.15139\n",
      "train_loss 0.13843026757240295\n",
      "val results:\n",
      "Mean square error: 0.10848\n",
      "Mean absolute error: 0.14204\n",
      "train_loss 0.14349982142448425\n",
      "val results:\n",
      "Mean square error: 0.10228\n",
      "Mean absolute error: 0.13650\n",
      "train_loss 0.1227288693189621\n",
      "val results:\n",
      "Mean square error: 0.09788\n",
      "Mean absolute error: 0.12715\n",
      "train_loss 0.15571777522563934\n",
      "val results:\n",
      "Mean square error: 0.11540\n",
      "Mean absolute error: 0.14382\n",
      "train_loss 0.1675245761871338\n",
      "val results:\n",
      "Mean square error: 0.08397\n",
      "Mean absolute error: 0.11874\n",
      "train_loss 0.14132459461688995\n",
      "val results:\n",
      "Mean square error: 0.09424\n",
      "Mean absolute error: 0.12722\n",
      "train_loss 0.14790992438793182\n",
      "val results:\n",
      "Mean square error: 0.09353\n",
      "Mean absolute error: 0.12685\n",
      "train_loss 0.16469356417655945\n",
      "val results:\n",
      "Mean square error: 0.07862\n",
      "Mean absolute error: 0.11802\n",
      "train_loss 0.1964206099510193\n",
      "val results:\n",
      "Mean square error: 0.07108\n",
      "Mean absolute error: 0.10795\n",
      "train_loss 0.13401080667972565\n",
      "val results:\n",
      "Mean square error: 0.08026\n",
      "Mean absolute error: 0.11379\n",
      "train_loss 0.11081364005804062\n",
      "val results:\n",
      "Mean square error: 0.08085\n",
      "Mean absolute error: 0.11316\n",
      "train_loss 0.13629277050495148\n",
      "val results:\n",
      "Mean square error: 0.08303\n",
      "Mean absolute error: 0.10964\n",
      "train_loss 0.14623114466667175\n",
      "val results:\n",
      "Mean square error: 0.06806\n",
      "Mean absolute error: 0.10396\n",
      "\n"
     ]
    }
   ],
   "source": [
    "model = SalaryPredictorwBatchNormPretrained().to(DEVICE)\n",
    "criterion = nn.MSELoss(reduction='mean')\n",
    "optimizer = torch.optim.Adam(model.parameters(), lr=1e-3)\n",
    "list_mse_7 = []\n",
    "list_mae_7 = []\n",
    "train_loss_7 = []\n",
    "\n",
    "for epoch in range(EPOCHS):\n",
    "    print(f\"epoch: {epoch}\")\n",
    "    for i, batch in tqdm.notebook.tqdm(enumerate(\n",
    "            iterate_minibatches(\n",
    "                    data_train, \n",
    "                    batch_size=BATCH_SIZE, \n",
    "                    device=DEVICE)), \n",
    "                total=len(data_train) // BATCH_SIZE\n",
    "        ):\n",
    "        model.train()\n",
    "        pred = model(batch)\n",
    "        optimizer.zero_grad()\n",
    "        loss = criterion(pred, batch[TARGET_COLUMN])\n",
    "        loss.backward()\n",
    "        optimizer.step()\n",
    "\n",
    "        if i % 100 == 99:\n",
    "            print('train_loss', loss.item())\n",
    "            train_loss_7.append(loss.item())\n",
    "            print_metrics(model, data_val, list_mse=list_mse_7, list_mae=list_mae_7, \n",
    "                          name='val', batch_size=BATCH_SIZE, device=DEVICE)"
   ]
  },
  {
   "cell_type": "code",
   "execution_count": 388,
   "metadata": {},
   "outputs": [
    {
     "data": {
      "application/vnd.plotly.v1+json": {
       "config": {
        "linkText": "Export to plot.ly",
        "plotlyServerURL": "https://plot.ly",
        "showLink": false
       },
       "data": [
        {
         "mode": "lines",
         "name": "Train Loss",
         "showlegend": false,
         "type": "scatter",
         "x": [
          0,
          1,
          2,
          3,
          4,
          5,
          6,
          7,
          8,
          9,
          10,
          11,
          12,
          13,
          14,
          15,
          16,
          17,
          18,
          19,
          20,
          21,
          22,
          23,
          24,
          25,
          26,
          27,
          28,
          29,
          30,
          31,
          32,
          33,
          34,
          35,
          36,
          37,
          38,
          39,
          40,
          41,
          42,
          43,
          44,
          45,
          46,
          47,
          48,
          49,
          50
         ],
         "xaxis": "x",
         "y": [
          71.75691986083984,
          38.82606506347656,
          13.807738304138184,
          4.0672502517700195,
          1.0508805513381958,
          0.517536461353302,
          0.5166341662406921,
          0.30878347158432007,
          0.3447752296924591,
          0.5906848907470703,
          0.3197372853755951,
          0.17454655468463898,
          0.23741164803504944,
          0.1619296371936798,
          0.3365488052368164,
          0.21084155142307281,
          0.2005532681941986,
          0.13258600234985352,
          0.22303283214569092,
          0.17585715651512146,
          0.14535756409168243,
          0.2316165268421173,
          0.19456253945827484,
          0.16965578496456146,
          0.23275722563266754,
          0.2013581097126007,
          0.27095213532447815,
          0.1790841519832611,
          0.18446579575538635,
          0.17544712126255035,
          0.14854788780212402,
          0.15641537308692932,
          0.1421097368001938,
          0.1425139605998993,
          0.14996077120304108,
          0.180642768740654,
          0.1615721434354782,
          0.11107411980628967,
          0.13843026757240295,
          0.14349982142448425,
          0.1227288693189621,
          0.15571777522563934,
          0.1675245761871338,
          0.14132459461688995,
          0.14790992438793182,
          0.16469356417655945,
          0.1964206099510193,
          0.13401080667972565,
          0.11081364005804062,
          0.13629277050495148,
          0.14623114466667175
         ],
         "yaxis": "y"
        },
        {
         "mode": "lines",
         "name": "MAE",
         "type": "scatter",
         "x": [
          0,
          1,
          2,
          3,
          4,
          5,
          6,
          7,
          8,
          9,
          10,
          11,
          12,
          13,
          14,
          15,
          16,
          17,
          18,
          19,
          20,
          21,
          22,
          23,
          24,
          25,
          26,
          27,
          28,
          29,
          30,
          31,
          32,
          33,
          34,
          35,
          36,
          37,
          38,
          39,
          40,
          41,
          42,
          43,
          44,
          45,
          46,
          47,
          48,
          49,
          50
         ],
         "xaxis": "x2",
         "y": [
          2.084845542907715,
          1.5224955876668294,
          0.7875990072886149,
          0.31055434544881183,
          0.4629306395848592,
          0.7167824904123942,
          0.5231268405914307,
          0.4176414410273234,
          0.41472792625427246,
          0.35468260447184247,
          0.3383935292561849,
          0.34038718541463214,
          0.32456378142038983,
          0.2902213931083679,
          0.33438944816589355,
          0.2836927572886149,
          0.30611860752105713,
          0.2840044101079305,
          0.24538580576578775,
          0.2537691791852315,
          0.2236823836962382,
          0.22228360176086426,
          0.2625580628712972,
          0.22035109996795654,
          0.2273641029993693,
          0.2158268690109253,
          0.24107762177785239,
          0.19257736206054688,
          0.17743084828058878,
          0.1694076657295227,
          0.17020748058954874,
          0.15297123789787292,
          0.1829021175702413,
          0.16534845034281412,
          0.13162299990653992,
          0.1394227941830953,
          0.13542158404986063,
          0.1513870358467102,
          0.14204167326291403,
          0.13650394479433695,
          0.12714525063832602,
          0.14381706714630127,
          0.11874260505040486,
          0.1272225280602773,
          0.12685283025105795,
          0.11802186568578084,
          0.10794590910275777,
          0.11378579338391621,
          0.11315669616063435,
          0.10964225729306538,
          0.10396252075831096
         ],
         "yaxis": "y2"
        },
        {
         "mode": "lines",
         "name": "MSE",
         "type": "scatter",
         "x": [
          0,
          1,
          2,
          3,
          4,
          5,
          6,
          7,
          8,
          9,
          10,
          11,
          12,
          13,
          14,
          15,
          16,
          17,
          18,
          19,
          20,
          21,
          22,
          23,
          24,
          25,
          26,
          27,
          28,
          29,
          30,
          31,
          32,
          33,
          34,
          35,
          36,
          37,
          38,
          39,
          40,
          41,
          42,
          43,
          44,
          45,
          46,
          47,
          48,
          49,
          50
         ],
         "xaxis": "x2",
         "y": [
          17.485641479492188,
          9.48222796122233,
          2.9078213373819985,
          0.7673450311024984,
          0.9635196526845297,
          2.3604523340861,
          1.2218342622121174,
          0.8199775218963623,
          0.8039803504943848,
          0.6136107842127482,
          0.5404518445332845,
          0.5304637749989828,
          0.4901821215947469,
          0.40977489948272705,
          0.5402776002883911,
          0.39916539192199707,
          0.4598046938578288,
          0.40009987354278564,
          0.30177779992421466,
          0.3206624984741211,
          0.2509189049402873,
          0.2516489823659261,
          0.3397195339202881,
          0.24908816814422607,
          0.2646067142486572,
          0.23166694243748984,
          0.2849011818567912,
          0.19240885972976685,
          0.16748021046320596,
          0.161141167084376,
          0.1505731741587321,
          0.13719046115875244,
          0.1700806220372518,
          0.1479610006014506,
          0.10604109366734822,
          0.10804466406504314,
          0.10708784063657124,
          0.1261235773563385,
          0.10848475495974223,
          0.10228368639945984,
          0.09787813822428386,
          0.11540001630783081,
          0.08396891752878825,
          0.0942414899667104,
          0.09353414177894592,
          0.07861656447251637,
          0.07108395298322041,
          0.08025965094566345,
          0.08085182805856068,
          0.08302522202332814,
          0.06806457042694092
         ],
         "yaxis": "y2"
        }
       ],
       "layout": {
        "annotations": [
         {
          "font": {
           "size": 16
          },
          "showarrow": false,
          "text": "<b>Train Loss</b>",
          "x": 0.5,
          "xanchor": "center",
          "xref": "paper",
          "y": 1,
          "yanchor": "bottom",
          "yref": "paper"
         },
         {
          "font": {
           "size": 16
          },
          "showarrow": false,
          "text": "<b>Test Metrics</b>",
          "x": 0.5,
          "xanchor": "center",
          "xref": "paper",
          "y": 0.375,
          "yanchor": "bottom",
          "yref": "paper"
         }
        ],
        "autosize": false,
        "height": 780,
        "legend": {
         "x": 1,
         "y": 0.15
        },
        "margin": {
         "b": 270
        },
        "paper_bgcolor": "rgba(240, 240, 240, 0.95)",
        "plot_bgcolor": "rgba(240, 240, 240, 0.95)",
        "template": {
         "data": {
          "bar": [
           {
            "error_x": {
             "color": "#2a3f5f"
            },
            "error_y": {
             "color": "#2a3f5f"
            },
            "marker": {
             "line": {
              "color": "#E5ECF6",
              "width": 0.5
             }
            },
            "type": "bar"
           }
          ],
          "barpolar": [
           {
            "marker": {
             "line": {
              "color": "#E5ECF6",
              "width": 0.5
             }
            },
            "type": "barpolar"
           }
          ],
          "carpet": [
           {
            "aaxis": {
             "endlinecolor": "#2a3f5f",
             "gridcolor": "white",
             "linecolor": "white",
             "minorgridcolor": "white",
             "startlinecolor": "#2a3f5f"
            },
            "baxis": {
             "endlinecolor": "#2a3f5f",
             "gridcolor": "white",
             "linecolor": "white",
             "minorgridcolor": "white",
             "startlinecolor": "#2a3f5f"
            },
            "type": "carpet"
           }
          ],
          "choropleth": [
           {
            "colorbar": {
             "outlinewidth": 0,
             "ticks": ""
            },
            "type": "choropleth"
           }
          ],
          "contour": [
           {
            "colorbar": {
             "outlinewidth": 0,
             "ticks": ""
            },
            "colorscale": [
             [
              0,
              "#0d0887"
             ],
             [
              0.1111111111111111,
              "#46039f"
             ],
             [
              0.2222222222222222,
              "#7201a8"
             ],
             [
              0.3333333333333333,
              "#9c179e"
             ],
             [
              0.4444444444444444,
              "#bd3786"
             ],
             [
              0.5555555555555556,
              "#d8576b"
             ],
             [
              0.6666666666666666,
              "#ed7953"
             ],
             [
              0.7777777777777778,
              "#fb9f3a"
             ],
             [
              0.8888888888888888,
              "#fdca26"
             ],
             [
              1,
              "#f0f921"
             ]
            ],
            "type": "contour"
           }
          ],
          "contourcarpet": [
           {
            "colorbar": {
             "outlinewidth": 0,
             "ticks": ""
            },
            "type": "contourcarpet"
           }
          ],
          "heatmap": [
           {
            "colorbar": {
             "outlinewidth": 0,
             "ticks": ""
            },
            "colorscale": [
             [
              0,
              "#0d0887"
             ],
             [
              0.1111111111111111,
              "#46039f"
             ],
             [
              0.2222222222222222,
              "#7201a8"
             ],
             [
              0.3333333333333333,
              "#9c179e"
             ],
             [
              0.4444444444444444,
              "#bd3786"
             ],
             [
              0.5555555555555556,
              "#d8576b"
             ],
             [
              0.6666666666666666,
              "#ed7953"
             ],
             [
              0.7777777777777778,
              "#fb9f3a"
             ],
             [
              0.8888888888888888,
              "#fdca26"
             ],
             [
              1,
              "#f0f921"
             ]
            ],
            "type": "heatmap"
           }
          ],
          "heatmapgl": [
           {
            "colorbar": {
             "outlinewidth": 0,
             "ticks": ""
            },
            "colorscale": [
             [
              0,
              "#0d0887"
             ],
             [
              0.1111111111111111,
              "#46039f"
             ],
             [
              0.2222222222222222,
              "#7201a8"
             ],
             [
              0.3333333333333333,
              "#9c179e"
             ],
             [
              0.4444444444444444,
              "#bd3786"
             ],
             [
              0.5555555555555556,
              "#d8576b"
             ],
             [
              0.6666666666666666,
              "#ed7953"
             ],
             [
              0.7777777777777778,
              "#fb9f3a"
             ],
             [
              0.8888888888888888,
              "#fdca26"
             ],
             [
              1,
              "#f0f921"
             ]
            ],
            "type": "heatmapgl"
           }
          ],
          "histogram": [
           {
            "marker": {
             "colorbar": {
              "outlinewidth": 0,
              "ticks": ""
             }
            },
            "type": "histogram"
           }
          ],
          "histogram2d": [
           {
            "colorbar": {
             "outlinewidth": 0,
             "ticks": ""
            },
            "colorscale": [
             [
              0,
              "#0d0887"
             ],
             [
              0.1111111111111111,
              "#46039f"
             ],
             [
              0.2222222222222222,
              "#7201a8"
             ],
             [
              0.3333333333333333,
              "#9c179e"
             ],
             [
              0.4444444444444444,
              "#bd3786"
             ],
             [
              0.5555555555555556,
              "#d8576b"
             ],
             [
              0.6666666666666666,
              "#ed7953"
             ],
             [
              0.7777777777777778,
              "#fb9f3a"
             ],
             [
              0.8888888888888888,
              "#fdca26"
             ],
             [
              1,
              "#f0f921"
             ]
            ],
            "type": "histogram2d"
           }
          ],
          "histogram2dcontour": [
           {
            "colorbar": {
             "outlinewidth": 0,
             "ticks": ""
            },
            "colorscale": [
             [
              0,
              "#0d0887"
             ],
             [
              0.1111111111111111,
              "#46039f"
             ],
             [
              0.2222222222222222,
              "#7201a8"
             ],
             [
              0.3333333333333333,
              "#9c179e"
             ],
             [
              0.4444444444444444,
              "#bd3786"
             ],
             [
              0.5555555555555556,
              "#d8576b"
             ],
             [
              0.6666666666666666,
              "#ed7953"
             ],
             [
              0.7777777777777778,
              "#fb9f3a"
             ],
             [
              0.8888888888888888,
              "#fdca26"
             ],
             [
              1,
              "#f0f921"
             ]
            ],
            "type": "histogram2dcontour"
           }
          ],
          "mesh3d": [
           {
            "colorbar": {
             "outlinewidth": 0,
             "ticks": ""
            },
            "type": "mesh3d"
           }
          ],
          "parcoords": [
           {
            "line": {
             "colorbar": {
              "outlinewidth": 0,
              "ticks": ""
             }
            },
            "type": "parcoords"
           }
          ],
          "pie": [
           {
            "automargin": true,
            "type": "pie"
           }
          ],
          "scatter": [
           {
            "marker": {
             "colorbar": {
              "outlinewidth": 0,
              "ticks": ""
             }
            },
            "type": "scatter"
           }
          ],
          "scatter3d": [
           {
            "line": {
             "colorbar": {
              "outlinewidth": 0,
              "ticks": ""
             }
            },
            "marker": {
             "colorbar": {
              "outlinewidth": 0,
              "ticks": ""
             }
            },
            "type": "scatter3d"
           }
          ],
          "scattercarpet": [
           {
            "marker": {
             "colorbar": {
              "outlinewidth": 0,
              "ticks": ""
             }
            },
            "type": "scattercarpet"
           }
          ],
          "scattergeo": [
           {
            "marker": {
             "colorbar": {
              "outlinewidth": 0,
              "ticks": ""
             }
            },
            "type": "scattergeo"
           }
          ],
          "scattergl": [
           {
            "marker": {
             "colorbar": {
              "outlinewidth": 0,
              "ticks": ""
             }
            },
            "type": "scattergl"
           }
          ],
          "scattermapbox": [
           {
            "marker": {
             "colorbar": {
              "outlinewidth": 0,
              "ticks": ""
             }
            },
            "type": "scattermapbox"
           }
          ],
          "scatterpolar": [
           {
            "marker": {
             "colorbar": {
              "outlinewidth": 0,
              "ticks": ""
             }
            },
            "type": "scatterpolar"
           }
          ],
          "scatterpolargl": [
           {
            "marker": {
             "colorbar": {
              "outlinewidth": 0,
              "ticks": ""
             }
            },
            "type": "scatterpolargl"
           }
          ],
          "scatterternary": [
           {
            "marker": {
             "colorbar": {
              "outlinewidth": 0,
              "ticks": ""
             }
            },
            "type": "scatterternary"
           }
          ],
          "surface": [
           {
            "colorbar": {
             "outlinewidth": 0,
             "ticks": ""
            },
            "colorscale": [
             [
              0,
              "#0d0887"
             ],
             [
              0.1111111111111111,
              "#46039f"
             ],
             [
              0.2222222222222222,
              "#7201a8"
             ],
             [
              0.3333333333333333,
              "#9c179e"
             ],
             [
              0.4444444444444444,
              "#bd3786"
             ],
             [
              0.5555555555555556,
              "#d8576b"
             ],
             [
              0.6666666666666666,
              "#ed7953"
             ],
             [
              0.7777777777777778,
              "#fb9f3a"
             ],
             [
              0.8888888888888888,
              "#fdca26"
             ],
             [
              1,
              "#f0f921"
             ]
            ],
            "type": "surface"
           }
          ],
          "table": [
           {
            "cells": {
             "fill": {
              "color": "#EBF0F8"
             },
             "line": {
              "color": "white"
             }
            },
            "header": {
             "fill": {
              "color": "#C8D4E3"
             },
             "line": {
              "color": "white"
             }
            },
            "type": "table"
           }
          ]
         },
         "layout": {
          "annotationdefaults": {
           "arrowcolor": "#2a3f5f",
           "arrowhead": 0,
           "arrowwidth": 1
          },
          "coloraxis": {
           "colorbar": {
            "outlinewidth": 0,
            "ticks": ""
           }
          },
          "colorscale": {
           "diverging": [
            [
             0,
             "#8e0152"
            ],
            [
             0.1,
             "#c51b7d"
            ],
            [
             0.2,
             "#de77ae"
            ],
            [
             0.3,
             "#f1b6da"
            ],
            [
             0.4,
             "#fde0ef"
            ],
            [
             0.5,
             "#f7f7f7"
            ],
            [
             0.6,
             "#e6f5d0"
            ],
            [
             0.7,
             "#b8e186"
            ],
            [
             0.8,
             "#7fbc41"
            ],
            [
             0.9,
             "#4d9221"
            ],
            [
             1,
             "#276419"
            ]
           ],
           "sequential": [
            [
             0,
             "#0d0887"
            ],
            [
             0.1111111111111111,
             "#46039f"
            ],
            [
             0.2222222222222222,
             "#7201a8"
            ],
            [
             0.3333333333333333,
             "#9c179e"
            ],
            [
             0.4444444444444444,
             "#bd3786"
            ],
            [
             0.5555555555555556,
             "#d8576b"
            ],
            [
             0.6666666666666666,
             "#ed7953"
            ],
            [
             0.7777777777777778,
             "#fb9f3a"
            ],
            [
             0.8888888888888888,
             "#fdca26"
            ],
            [
             1,
             "#f0f921"
            ]
           ],
           "sequentialminus": [
            [
             0,
             "#0d0887"
            ],
            [
             0.1111111111111111,
             "#46039f"
            ],
            [
             0.2222222222222222,
             "#7201a8"
            ],
            [
             0.3333333333333333,
             "#9c179e"
            ],
            [
             0.4444444444444444,
             "#bd3786"
            ],
            [
             0.5555555555555556,
             "#d8576b"
            ],
            [
             0.6666666666666666,
             "#ed7953"
            ],
            [
             0.7777777777777778,
             "#fb9f3a"
            ],
            [
             0.8888888888888888,
             "#fdca26"
            ],
            [
             1,
             "#f0f921"
            ]
           ]
          },
          "colorway": [
           "#636efa",
           "#EF553B",
           "#00cc96",
           "#ab63fa",
           "#FFA15A",
           "#19d3f3",
           "#FF6692",
           "#B6E880",
           "#FF97FF",
           "#FECB52"
          ],
          "font": {
           "color": "#2a3f5f"
          },
          "geo": {
           "bgcolor": "white",
           "lakecolor": "white",
           "landcolor": "#E5ECF6",
           "showlakes": true,
           "showland": true,
           "subunitcolor": "white"
          },
          "hoverlabel": {
           "align": "left"
          },
          "hovermode": "closest",
          "mapbox": {
           "style": "light"
          },
          "paper_bgcolor": "white",
          "plot_bgcolor": "#E5ECF6",
          "polar": {
           "angularaxis": {
            "gridcolor": "white",
            "linecolor": "white",
            "ticks": ""
           },
           "bgcolor": "#E5ECF6",
           "radialaxis": {
            "gridcolor": "white",
            "linecolor": "white",
            "ticks": ""
           }
          },
          "scene": {
           "xaxis": {
            "backgroundcolor": "#E5ECF6",
            "gridcolor": "white",
            "gridwidth": 2,
            "linecolor": "white",
            "showbackground": true,
            "ticks": "",
            "zerolinecolor": "white"
           },
           "yaxis": {
            "backgroundcolor": "#E5ECF6",
            "gridcolor": "white",
            "gridwidth": 2,
            "linecolor": "white",
            "showbackground": true,
            "ticks": "",
            "zerolinecolor": "white"
           },
           "zaxis": {
            "backgroundcolor": "#E5ECF6",
            "gridcolor": "white",
            "gridwidth": 2,
            "linecolor": "white",
            "showbackground": true,
            "ticks": "",
            "zerolinecolor": "white"
           }
          },
          "shapedefaults": {
           "line": {
            "color": "#2a3f5f"
           }
          },
          "ternary": {
           "aaxis": {
            "gridcolor": "white",
            "linecolor": "white",
            "ticks": ""
           },
           "baxis": {
            "gridcolor": "white",
            "linecolor": "white",
            "ticks": ""
           },
           "bgcolor": "#E5ECF6",
           "caxis": {
            "gridcolor": "white",
            "linecolor": "white",
            "ticks": ""
           }
          },
          "title": {
           "x": 0.05
          },
          "xaxis": {
           "automargin": true,
           "gridcolor": "white",
           "linecolor": "white",
           "ticks": "",
           "title": {
            "standoff": 15
           },
           "zerolinecolor": "white",
           "zerolinewidth": 2
          },
          "yaxis": {
           "automargin": true,
           "gridcolor": "white",
           "linecolor": "white",
           "ticks": "",
           "title": {
            "standoff": 15
           },
           "zerolinecolor": "white",
           "zerolinewidth": 2
          }
         }
        },
        "title": {
         "text": "<b>Model performance report</b><br>Salary Predictor with BatchNorm and Pre-trained Embeddings (Glove Twitter 25) (Freezed Weights)<br><br><br><br><br><br><br><br><br><br><br><br><br><br><br><br><br><br><br><br><br><br><br><br><b><i>Train Loss Stat Values:</i></b><br>Max: 71.76   Mean: 2.73   Min: 0.11   Median: 0.18   Var: 127.22<br><br><b><i>Mean Absolute Error Stat Values:</i></b><br>Max: 2.08   Mean: 0.31   Min: 0.10   Median: 0.22   Var: 0.12<br><br><b><i>Mean Mean Squared Error Stat Values:</i></b><br>Max: 17.49   Mean: 0.91   Min: 0.07   Median: 0.25   Var: 7.35",
         "x": 0.5,
         "xanchor": "center",
         "y": 0.95,
         "yanchor": "top"
        },
        "width": 900,
        "xaxis": {
         "anchor": "y",
         "domain": [
          0,
          1
         ]
        },
        "xaxis2": {
         "anchor": "y2",
         "domain": [
          0,
          1
         ]
        },
        "yaxis": {
         "anchor": "x",
         "domain": [
          0.625,
          1
         ],
         "range": [
          0,
          1
         ]
        },
        "yaxis2": {
         "anchor": "x2",
         "domain": [
          0,
          0.375
         ],
         "range": [
          0,
          1
         ]
        }
       }
      },
      "text/html": [
       "<div>                            <div id=\"6127f30e-88ea-460f-a05b-ef3d70c0ba03\" class=\"plotly-graph-div\" style=\"height:780px; width:900px;\"></div>            <script type=\"text/javascript\">                require([\"plotly\"], function(Plotly) {                    window.PLOTLYENV=window.PLOTLYENV || {};                                    if (document.getElementById(\"6127f30e-88ea-460f-a05b-ef3d70c0ba03\")) {                    Plotly.newPlot(                        \"6127f30e-88ea-460f-a05b-ef3d70c0ba03\",                        [{\"mode\": \"lines\", \"name\": \"Train Loss\", \"showlegend\": false, \"type\": \"scatter\", \"x\": [0, 1, 2, 3, 4, 5, 6, 7, 8, 9, 10, 11, 12, 13, 14, 15, 16, 17, 18, 19, 20, 21, 22, 23, 24, 25, 26, 27, 28, 29, 30, 31, 32, 33, 34, 35, 36, 37, 38, 39, 40, 41, 42, 43, 44, 45, 46, 47, 48, 49, 50], \"xaxis\": \"x\", \"y\": [71.75691986083984, 38.82606506347656, 13.807738304138184, 4.0672502517700195, 1.0508805513381958, 0.517536461353302, 0.5166341662406921, 0.30878347158432007, 0.3447752296924591, 0.5906848907470703, 0.3197372853755951, 0.17454655468463898, 0.23741164803504944, 0.1619296371936798, 0.3365488052368164, 0.21084155142307281, 0.2005532681941986, 0.13258600234985352, 0.22303283214569092, 0.17585715651512146, 0.14535756409168243, 0.2316165268421173, 0.19456253945827484, 0.16965578496456146, 0.23275722563266754, 0.2013581097126007, 0.27095213532447815, 0.1790841519832611, 0.18446579575538635, 0.17544712126255035, 0.14854788780212402, 0.15641537308692932, 0.1421097368001938, 0.1425139605998993, 0.14996077120304108, 0.180642768740654, 0.1615721434354782, 0.11107411980628967, 0.13843026757240295, 0.14349982142448425, 0.1227288693189621, 0.15571777522563934, 0.1675245761871338, 0.14132459461688995, 0.14790992438793182, 0.16469356417655945, 0.1964206099510193, 0.13401080667972565, 0.11081364005804062, 0.13629277050495148, 0.14623114466667175], \"yaxis\": \"y\"}, {\"mode\": \"lines\", \"name\": \"MAE\", \"type\": \"scatter\", \"x\": [0, 1, 2, 3, 4, 5, 6, 7, 8, 9, 10, 11, 12, 13, 14, 15, 16, 17, 18, 19, 20, 21, 22, 23, 24, 25, 26, 27, 28, 29, 30, 31, 32, 33, 34, 35, 36, 37, 38, 39, 40, 41, 42, 43, 44, 45, 46, 47, 48, 49, 50], \"xaxis\": \"x2\", \"y\": [2.084845542907715, 1.5224955876668294, 0.7875990072886149, 0.31055434544881183, 0.4629306395848592, 0.7167824904123942, 0.5231268405914307, 0.4176414410273234, 0.41472792625427246, 0.35468260447184247, 0.3383935292561849, 0.34038718541463214, 0.32456378142038983, 0.2902213931083679, 0.33438944816589355, 0.2836927572886149, 0.30611860752105713, 0.2840044101079305, 0.24538580576578775, 0.2537691791852315, 0.2236823836962382, 0.22228360176086426, 0.2625580628712972, 0.22035109996795654, 0.2273641029993693, 0.2158268690109253, 0.24107762177785239, 0.19257736206054688, 0.17743084828058878, 0.1694076657295227, 0.17020748058954874, 0.15297123789787292, 0.1829021175702413, 0.16534845034281412, 0.13162299990653992, 0.1394227941830953, 0.13542158404986063, 0.1513870358467102, 0.14204167326291403, 0.13650394479433695, 0.12714525063832602, 0.14381706714630127, 0.11874260505040486, 0.1272225280602773, 0.12685283025105795, 0.11802186568578084, 0.10794590910275777, 0.11378579338391621, 0.11315669616063435, 0.10964225729306538, 0.10396252075831096], \"yaxis\": \"y2\"}, {\"mode\": \"lines\", \"name\": \"MSE\", \"type\": \"scatter\", \"x\": [0, 1, 2, 3, 4, 5, 6, 7, 8, 9, 10, 11, 12, 13, 14, 15, 16, 17, 18, 19, 20, 21, 22, 23, 24, 25, 26, 27, 28, 29, 30, 31, 32, 33, 34, 35, 36, 37, 38, 39, 40, 41, 42, 43, 44, 45, 46, 47, 48, 49, 50], \"xaxis\": \"x2\", \"y\": [17.485641479492188, 9.48222796122233, 2.9078213373819985, 0.7673450311024984, 0.9635196526845297, 2.3604523340861, 1.2218342622121174, 0.8199775218963623, 0.8039803504943848, 0.6136107842127482, 0.5404518445332845, 0.5304637749989828, 0.4901821215947469, 0.40977489948272705, 0.5402776002883911, 0.39916539192199707, 0.4598046938578288, 0.40009987354278564, 0.30177779992421466, 0.3206624984741211, 0.2509189049402873, 0.2516489823659261, 0.3397195339202881, 0.24908816814422607, 0.2646067142486572, 0.23166694243748984, 0.2849011818567912, 0.19240885972976685, 0.16748021046320596, 0.161141167084376, 0.1505731741587321, 0.13719046115875244, 0.1700806220372518, 0.1479610006014506, 0.10604109366734822, 0.10804466406504314, 0.10708784063657124, 0.1261235773563385, 0.10848475495974223, 0.10228368639945984, 0.09787813822428386, 0.11540001630783081, 0.08396891752878825, 0.0942414899667104, 0.09353414177894592, 0.07861656447251637, 0.07108395298322041, 0.08025965094566345, 0.08085182805856068, 0.08302522202332814, 0.06806457042694092], \"yaxis\": \"y2\"}],                        {\"annotations\": [{\"font\": {\"size\": 16}, \"showarrow\": false, \"text\": \"<b>Train Loss</b>\", \"x\": 0.5, \"xanchor\": \"center\", \"xref\": \"paper\", \"y\": 1.0, \"yanchor\": \"bottom\", \"yref\": \"paper\"}, {\"font\": {\"size\": 16}, \"showarrow\": false, \"text\": \"<b>Test Metrics</b>\", \"x\": 0.5, \"xanchor\": \"center\", \"xref\": \"paper\", \"y\": 0.375, \"yanchor\": \"bottom\", \"yref\": \"paper\"}], \"autosize\": false, \"height\": 780, \"legend\": {\"x\": 1, \"y\": 0.15}, \"margin\": {\"b\": 270}, \"paper_bgcolor\": \"rgba(240, 240, 240, 0.95)\", \"plot_bgcolor\": \"rgba(240, 240, 240, 0.95)\", \"template\": {\"data\": {\"bar\": [{\"error_x\": {\"color\": \"#2a3f5f\"}, \"error_y\": {\"color\": \"#2a3f5f\"}, \"marker\": {\"line\": {\"color\": \"#E5ECF6\", \"width\": 0.5}}, \"type\": \"bar\"}], \"barpolar\": [{\"marker\": {\"line\": {\"color\": \"#E5ECF6\", \"width\": 0.5}}, \"type\": \"barpolar\"}], \"carpet\": [{\"aaxis\": {\"endlinecolor\": \"#2a3f5f\", \"gridcolor\": \"white\", \"linecolor\": \"white\", \"minorgridcolor\": \"white\", \"startlinecolor\": \"#2a3f5f\"}, \"baxis\": {\"endlinecolor\": \"#2a3f5f\", \"gridcolor\": \"white\", \"linecolor\": \"white\", \"minorgridcolor\": \"white\", \"startlinecolor\": \"#2a3f5f\"}, \"type\": \"carpet\"}], \"choropleth\": [{\"colorbar\": {\"outlinewidth\": 0, \"ticks\": \"\"}, \"type\": \"choropleth\"}], \"contour\": [{\"colorbar\": {\"outlinewidth\": 0, \"ticks\": \"\"}, \"colorscale\": [[0.0, \"#0d0887\"], [0.1111111111111111, \"#46039f\"], [0.2222222222222222, \"#7201a8\"], [0.3333333333333333, \"#9c179e\"], [0.4444444444444444, \"#bd3786\"], [0.5555555555555556, \"#d8576b\"], [0.6666666666666666, \"#ed7953\"], [0.7777777777777778, \"#fb9f3a\"], [0.8888888888888888, \"#fdca26\"], [1.0, \"#f0f921\"]], \"type\": \"contour\"}], \"contourcarpet\": [{\"colorbar\": {\"outlinewidth\": 0, \"ticks\": \"\"}, \"type\": \"contourcarpet\"}], \"heatmap\": [{\"colorbar\": {\"outlinewidth\": 0, \"ticks\": \"\"}, \"colorscale\": [[0.0, \"#0d0887\"], [0.1111111111111111, \"#46039f\"], [0.2222222222222222, \"#7201a8\"], [0.3333333333333333, \"#9c179e\"], [0.4444444444444444, \"#bd3786\"], [0.5555555555555556, \"#d8576b\"], [0.6666666666666666, \"#ed7953\"], [0.7777777777777778, \"#fb9f3a\"], [0.8888888888888888, \"#fdca26\"], [1.0, \"#f0f921\"]], \"type\": \"heatmap\"}], \"heatmapgl\": [{\"colorbar\": {\"outlinewidth\": 0, \"ticks\": \"\"}, \"colorscale\": [[0.0, \"#0d0887\"], [0.1111111111111111, \"#46039f\"], [0.2222222222222222, \"#7201a8\"], [0.3333333333333333, \"#9c179e\"], [0.4444444444444444, \"#bd3786\"], [0.5555555555555556, \"#d8576b\"], [0.6666666666666666, \"#ed7953\"], [0.7777777777777778, \"#fb9f3a\"], [0.8888888888888888, \"#fdca26\"], [1.0, \"#f0f921\"]], \"type\": \"heatmapgl\"}], \"histogram\": [{\"marker\": {\"colorbar\": {\"outlinewidth\": 0, \"ticks\": \"\"}}, \"type\": \"histogram\"}], \"histogram2d\": [{\"colorbar\": {\"outlinewidth\": 0, \"ticks\": \"\"}, \"colorscale\": [[0.0, \"#0d0887\"], [0.1111111111111111, \"#46039f\"], [0.2222222222222222, \"#7201a8\"], [0.3333333333333333, \"#9c179e\"], [0.4444444444444444, \"#bd3786\"], [0.5555555555555556, \"#d8576b\"], [0.6666666666666666, \"#ed7953\"], [0.7777777777777778, \"#fb9f3a\"], [0.8888888888888888, \"#fdca26\"], [1.0, \"#f0f921\"]], \"type\": \"histogram2d\"}], \"histogram2dcontour\": [{\"colorbar\": {\"outlinewidth\": 0, \"ticks\": \"\"}, \"colorscale\": [[0.0, \"#0d0887\"], [0.1111111111111111, \"#46039f\"], [0.2222222222222222, \"#7201a8\"], [0.3333333333333333, \"#9c179e\"], [0.4444444444444444, \"#bd3786\"], [0.5555555555555556, \"#d8576b\"], [0.6666666666666666, \"#ed7953\"], [0.7777777777777778, \"#fb9f3a\"], [0.8888888888888888, \"#fdca26\"], [1.0, \"#f0f921\"]], \"type\": \"histogram2dcontour\"}], \"mesh3d\": [{\"colorbar\": {\"outlinewidth\": 0, \"ticks\": \"\"}, \"type\": \"mesh3d\"}], \"parcoords\": [{\"line\": {\"colorbar\": {\"outlinewidth\": 0, \"ticks\": \"\"}}, \"type\": \"parcoords\"}], \"pie\": [{\"automargin\": true, \"type\": \"pie\"}], \"scatter\": [{\"marker\": {\"colorbar\": {\"outlinewidth\": 0, \"ticks\": \"\"}}, \"type\": \"scatter\"}], \"scatter3d\": [{\"line\": {\"colorbar\": {\"outlinewidth\": 0, \"ticks\": \"\"}}, \"marker\": {\"colorbar\": {\"outlinewidth\": 0, \"ticks\": \"\"}}, \"type\": \"scatter3d\"}], \"scattercarpet\": [{\"marker\": {\"colorbar\": {\"outlinewidth\": 0, \"ticks\": \"\"}}, \"type\": \"scattercarpet\"}], \"scattergeo\": [{\"marker\": {\"colorbar\": {\"outlinewidth\": 0, \"ticks\": \"\"}}, \"type\": \"scattergeo\"}], \"scattergl\": [{\"marker\": {\"colorbar\": {\"outlinewidth\": 0, \"ticks\": \"\"}}, \"type\": \"scattergl\"}], \"scattermapbox\": [{\"marker\": {\"colorbar\": {\"outlinewidth\": 0, \"ticks\": \"\"}}, \"type\": \"scattermapbox\"}], \"scatterpolar\": [{\"marker\": {\"colorbar\": {\"outlinewidth\": 0, \"ticks\": \"\"}}, \"type\": \"scatterpolar\"}], \"scatterpolargl\": [{\"marker\": {\"colorbar\": {\"outlinewidth\": 0, \"ticks\": \"\"}}, \"type\": \"scatterpolargl\"}], \"scatterternary\": [{\"marker\": {\"colorbar\": {\"outlinewidth\": 0, \"ticks\": \"\"}}, \"type\": \"scatterternary\"}], \"surface\": [{\"colorbar\": {\"outlinewidth\": 0, \"ticks\": \"\"}, \"colorscale\": [[0.0, \"#0d0887\"], [0.1111111111111111, \"#46039f\"], [0.2222222222222222, \"#7201a8\"], [0.3333333333333333, \"#9c179e\"], [0.4444444444444444, \"#bd3786\"], [0.5555555555555556, \"#d8576b\"], [0.6666666666666666, \"#ed7953\"], [0.7777777777777778, \"#fb9f3a\"], [0.8888888888888888, \"#fdca26\"], [1.0, \"#f0f921\"]], \"type\": \"surface\"}], \"table\": [{\"cells\": {\"fill\": {\"color\": \"#EBF0F8\"}, \"line\": {\"color\": \"white\"}}, \"header\": {\"fill\": {\"color\": \"#C8D4E3\"}, \"line\": {\"color\": \"white\"}}, \"type\": \"table\"}]}, \"layout\": {\"annotationdefaults\": {\"arrowcolor\": \"#2a3f5f\", \"arrowhead\": 0, \"arrowwidth\": 1}, \"coloraxis\": {\"colorbar\": {\"outlinewidth\": 0, \"ticks\": \"\"}}, \"colorscale\": {\"diverging\": [[0, \"#8e0152\"], [0.1, \"#c51b7d\"], [0.2, \"#de77ae\"], [0.3, \"#f1b6da\"], [0.4, \"#fde0ef\"], [0.5, \"#f7f7f7\"], [0.6, \"#e6f5d0\"], [0.7, \"#b8e186\"], [0.8, \"#7fbc41\"], [0.9, \"#4d9221\"], [1, \"#276419\"]], \"sequential\": [[0.0, \"#0d0887\"], [0.1111111111111111, \"#46039f\"], [0.2222222222222222, \"#7201a8\"], [0.3333333333333333, \"#9c179e\"], [0.4444444444444444, \"#bd3786\"], [0.5555555555555556, \"#d8576b\"], [0.6666666666666666, \"#ed7953\"], [0.7777777777777778, \"#fb9f3a\"], [0.8888888888888888, \"#fdca26\"], [1.0, \"#f0f921\"]], \"sequentialminus\": [[0.0, \"#0d0887\"], [0.1111111111111111, \"#46039f\"], [0.2222222222222222, \"#7201a8\"], [0.3333333333333333, \"#9c179e\"], [0.4444444444444444, \"#bd3786\"], [0.5555555555555556, \"#d8576b\"], [0.6666666666666666, \"#ed7953\"], [0.7777777777777778, \"#fb9f3a\"], [0.8888888888888888, \"#fdca26\"], [1.0, \"#f0f921\"]]}, \"colorway\": [\"#636efa\", \"#EF553B\", \"#00cc96\", \"#ab63fa\", \"#FFA15A\", \"#19d3f3\", \"#FF6692\", \"#B6E880\", \"#FF97FF\", \"#FECB52\"], \"font\": {\"color\": \"#2a3f5f\"}, \"geo\": {\"bgcolor\": \"white\", \"lakecolor\": \"white\", \"landcolor\": \"#E5ECF6\", \"showlakes\": true, \"showland\": true, \"subunitcolor\": \"white\"}, \"hoverlabel\": {\"align\": \"left\"}, \"hovermode\": \"closest\", \"mapbox\": {\"style\": \"light\"}, \"paper_bgcolor\": \"white\", \"plot_bgcolor\": \"#E5ECF6\", \"polar\": {\"angularaxis\": {\"gridcolor\": \"white\", \"linecolor\": \"white\", \"ticks\": \"\"}, \"bgcolor\": \"#E5ECF6\", \"radialaxis\": {\"gridcolor\": \"white\", \"linecolor\": \"white\", \"ticks\": \"\"}}, \"scene\": {\"xaxis\": {\"backgroundcolor\": \"#E5ECF6\", \"gridcolor\": \"white\", \"gridwidth\": 2, \"linecolor\": \"white\", \"showbackground\": true, \"ticks\": \"\", \"zerolinecolor\": \"white\"}, \"yaxis\": {\"backgroundcolor\": \"#E5ECF6\", \"gridcolor\": \"white\", \"gridwidth\": 2, \"linecolor\": \"white\", \"showbackground\": true, \"ticks\": \"\", \"zerolinecolor\": \"white\"}, \"zaxis\": {\"backgroundcolor\": \"#E5ECF6\", \"gridcolor\": \"white\", \"gridwidth\": 2, \"linecolor\": \"white\", \"showbackground\": true, \"ticks\": \"\", \"zerolinecolor\": \"white\"}}, \"shapedefaults\": {\"line\": {\"color\": \"#2a3f5f\"}}, \"ternary\": {\"aaxis\": {\"gridcolor\": \"white\", \"linecolor\": \"white\", \"ticks\": \"\"}, \"baxis\": {\"gridcolor\": \"white\", \"linecolor\": \"white\", \"ticks\": \"\"}, \"bgcolor\": \"#E5ECF6\", \"caxis\": {\"gridcolor\": \"white\", \"linecolor\": \"white\", \"ticks\": \"\"}}, \"title\": {\"x\": 0.05}, \"xaxis\": {\"automargin\": true, \"gridcolor\": \"white\", \"linecolor\": \"white\", \"ticks\": \"\", \"title\": {\"standoff\": 15}, \"zerolinecolor\": \"white\", \"zerolinewidth\": 2}, \"yaxis\": {\"automargin\": true, \"gridcolor\": \"white\", \"linecolor\": \"white\", \"ticks\": \"\", \"title\": {\"standoff\": 15}, \"zerolinecolor\": \"white\", \"zerolinewidth\": 2}}}, \"title\": {\"text\": \"<b>Model performance report</b><br>Salary Predictor with BatchNorm and Pre-trained Embeddings (Glove Twitter 25) (Freezed Weights)<br><br><br><br><br><br><br><br><br><br><br><br><br><br><br><br><br><br><br><br><br><br><br><br><b><i>Train Loss Stat Values:</i></b><br>Max: 71.76   Mean: 2.73   Min: 0.11   Median: 0.18   Var: 127.22<br><br><b><i>Mean Absolute Error Stat Values:</i></b><br>Max: 2.08   Mean: 0.31   Min: 0.10   Median: 0.22   Var: 0.12<br><br><b><i>Mean Mean Squared Error Stat Values:</i></b><br>Max: 17.49   Mean: 0.91   Min: 0.07   Median: 0.25   Var: 7.35\", \"x\": 0.5, \"xanchor\": \"center\", \"y\": 0.95, \"yanchor\": \"top\"}, \"width\": 900, \"xaxis\": {\"anchor\": \"y\", \"domain\": [0.0, 1.0]}, \"xaxis2\": {\"anchor\": \"y2\", \"domain\": [0.0, 1.0]}, \"yaxis\": {\"anchor\": \"x\", \"domain\": [0.625, 1.0], \"range\": [0, 1]}, \"yaxis2\": {\"anchor\": \"x2\", \"domain\": [0.0, 0.375], \"range\": [0, 1]}},                        {\"responsive\": true}                    ).then(function(){\n",
       "                            \n",
       "var gd = document.getElementById('6127f30e-88ea-460f-a05b-ef3d70c0ba03');\n",
       "var x = new MutationObserver(function (mutations, observer) {{\n",
       "        var display = window.getComputedStyle(gd).display;\n",
       "        if (!display || display === 'none') {{\n",
       "            console.log([gd, 'removed!']);\n",
       "            Plotly.purge(gd);\n",
       "            observer.disconnect();\n",
       "        }}\n",
       "}});\n",
       "\n",
       "// Listen for the removal of the full notebook cells\n",
       "var notebookContainer = gd.closest('#notebook-container');\n",
       "if (notebookContainer) {{\n",
       "    x.observe(notebookContainer, {childList: true});\n",
       "}}\n",
       "\n",
       "// Listen for the clearing of the current output cell\n",
       "var outputEl = gd.closest('.output');\n",
       "if (outputEl) {{\n",
       "    x.observe(outputEl, {childList: true});\n",
       "}}\n",
       "\n",
       "                        })                };                });            </script>        </div>"
      ]
     },
     "metadata": {},
     "output_type": "display_data"
    }
   ],
   "source": [
    "draw_loss_acc_plot('Salary Predictor with BatchNorm and Pre-trained Embeddings (Glove Twitter 25) (Freezed Weights)', train_loss_7, list_mae_7, list_mse_7)"
   ]
  },
  {
   "cell_type": "code",
   "execution_count": 377,
   "metadata": {},
   "outputs": [],
   "source": [
    "class SalaryPredictorwBatchNormPretrainedNotFreezed(nn.Module):\n",
    "    def __init__(self, n_tokens=len(tokens), n_cat_features=len(categorical_vectorizer.vocabulary_), hid_size=25):\n",
    "        super().__init__()\n",
    "        self.embedder = nn.Embedding.from_pretrained(weights, freeze=False)\n",
    "        self.title_encoder = nn.Sequential(\n",
    "            nn.Conv1d(hid_size, hid_size, kernel_size=2),\n",
    "            nn.Dropout(p=0.25),\n",
    "            nn.BatchNorm1d(hid_size),\n",
    "            nn.ReLU(),\n",
    "            nn.AdaptiveMaxPool1d(output_size=1)\n",
    "        )\n",
    "        self.description_encoder = nn.Sequential(\n",
    "            nn.Conv1d(hid_size, hid_size, kernel_size=2),\n",
    "            nn.Dropout(p=0.25),\n",
    "            nn.BatchNorm1d(hid_size),\n",
    "            nn.ReLU(),\n",
    "            nn.AdaptiveMaxPool1d(output_size=1)\n",
    "        )\n",
    "        self.categorical_encoder = nn.Sequential(\n",
    "            nn.Linear(n_cat_features, hid_size * 2),\n",
    "            nn.BatchNorm1d(hid_size * 2),\n",
    "            nn.ReLU(),\n",
    "            nn.Linear(hid_size * 2, hid_size * 2),\n",
    "            nn.ReLU()\n",
    "        )\n",
    "        self.final_predictor = nn.Sequential(\n",
    "            nn.Linear(hid_size * 4, hid_size),\n",
    "            nn.BatchNorm1d(hid_size),\n",
    "            nn.ReLU(),\n",
    "            nn.Linear(hid_size, 1)\n",
    "        )\n",
    "    \n",
    "    def forward(self, batch):\n",
    "        \n",
    "        title_embeddings = self.embedder(batch['Title']).permute(0, 2, 1)\n",
    "        title_features = self.title_encoder(title_embeddings).squeeze()\n",
    "\n",
    "        description_embeddings = self.embedder(batch['FullDescription']).permute(0, 2, 1)\n",
    "        description_features = self.description_encoder(description_embeddings).squeeze()\n",
    "\n",
    "        categorical_features = self.categorical_encoder(batch['Categorical'])\n",
    "\n",
    "        features = torch.cat(\n",
    "            [title_features, description_features, categorical_features], dim=1)\n",
    "        \n",
    "        return self.final_predictor(features).squeeze()"
   ]
  },
  {
   "cell_type": "code",
   "execution_count": 378,
   "metadata": {},
   "outputs": [
    {
     "name": "stdout",
     "output_type": "stream",
     "text": [
      "epoch: 0\n"
     ]
    },
    {
     "data": {
      "application/vnd.jupyter.widget-view+json": {
       "model_id": "0e8b7efee7c04eeeb2a8893dbe598f09",
       "version_major": 2,
       "version_minor": 0
      },
      "text/plain": [
       "HBox(children=(FloatProgress(value=0.0, max=1721.0), HTML(value='')))"
      ]
     },
     "metadata": {},
     "output_type": "display_data"
    },
    {
     "name": "stdout",
     "output_type": "stream",
     "text": [
      "train_loss 75.9339599609375\n",
      "val results:\n",
      "Mean square error: 18.67219\n",
      "Mean absolute error: 2.15555\n",
      "train_loss 47.69648742675781\n",
      "val results:\n",
      "Mean square error: 11.81942\n",
      "Mean absolute error: 1.70071\n",
      "train_loss 19.25438117980957\n",
      "val results:\n",
      "Mean square error: 4.66281\n",
      "Mean absolute error: 1.02884\n",
      "train_loss 5.251309394836426\n",
      "val results:\n",
      "Mean square error: 1.83600\n",
      "Mean absolute error: 0.57988\n",
      "train_loss 1.0605489015579224\n",
      "val results:\n",
      "Mean square error: 0.70460\n",
      "Mean absolute error: 0.33536\n",
      "train_loss 0.5197407603263855\n",
      "val results:\n",
      "Mean square error: 0.50537\n",
      "Mean absolute error: 0.30307\n",
      "train_loss 0.41781914234161377\n",
      "val results:\n",
      "Mean square error: 0.33965\n",
      "Mean absolute error: 0.24870\n",
      "train_loss 0.35738861560821533\n",
      "val results:\n",
      "Mean square error: 0.38528\n",
      "Mean absolute error: 0.26579\n",
      "train_loss 0.31290051341056824\n",
      "val results:\n",
      "Mean square error: 0.37338\n",
      "Mean absolute error: 0.25002\n",
      "train_loss 0.28524595499038696\n",
      "val results:\n",
      "Mean square error: 0.30399\n",
      "Mean absolute error: 0.23535\n",
      "train_loss 0.2540881335735321\n",
      "val results:\n",
      "Mean square error: 0.34508\n",
      "Mean absolute error: 0.24217\n",
      "train_loss 0.20506249368190765\n",
      "val results:\n",
      "Mean square error: 0.24976\n",
      "Mean absolute error: 0.21120\n",
      "train_loss 0.2332189828157425\n",
      "val results:\n",
      "Mean square error: 0.26492\n",
      "Mean absolute error: 0.20304\n",
      "train_loss 0.26634481549263\n",
      "val results:\n",
      "Mean square error: 0.17186\n",
      "Mean absolute error: 0.17151\n",
      "train_loss 0.20179340243339539\n",
      "val results:\n",
      "Mean square error: 0.20204\n",
      "Mean absolute error: 0.19280\n",
      "train_loss 0.17761994898319244\n",
      "val results:\n",
      "Mean square error: 0.16582\n",
      "Mean absolute error: 0.16911\n",
      "train_loss 0.1330624669790268\n",
      "val results:\n",
      "Mean square error: 0.18363\n",
      "Mean absolute error: 0.16634\n",
      "\n",
      "epoch: 1\n"
     ]
    },
    {
     "data": {
      "application/vnd.jupyter.widget-view+json": {
       "model_id": "d42a5b5475ad4beca3af76c9a56f39b7",
       "version_major": 2,
       "version_minor": 0
      },
      "text/plain": [
       "HBox(children=(FloatProgress(value=0.0, max=1721.0), HTML(value='')))"
      ]
     },
     "metadata": {},
     "output_type": "display_data"
    },
    {
     "name": "stdout",
     "output_type": "stream",
     "text": [
      "train_loss 0.19298139214515686\n",
      "val results:\n",
      "Mean square error: 0.18068\n",
      "Mean absolute error: 0.18499\n",
      "train_loss 0.16018348932266235\n",
      "val results:\n",
      "Mean square error: 0.18068\n",
      "Mean absolute error: 0.18380\n",
      "train_loss 0.21724413335323334\n",
      "val results:\n",
      "Mean square error: 0.15130\n",
      "Mean absolute error: 0.16323\n",
      "train_loss 0.1946467161178589\n",
      "val results:\n",
      "Mean square error: 0.16173\n",
      "Mean absolute error: 0.16811\n",
      "train_loss 0.13717085123062134\n",
      "val results:\n",
      "Mean square error: 0.15880\n",
      "Mean absolute error: 0.17170\n",
      "train_loss 0.1822417974472046\n",
      "val results:\n",
      "Mean square error: 0.15801\n",
      "Mean absolute error: 0.17260\n",
      "train_loss 0.21210896968841553\n",
      "val results:\n",
      "Mean square error: 0.14196\n",
      "Mean absolute error: 0.15413\n",
      "train_loss 0.15613871812820435\n",
      "val results:\n",
      "Mean square error: 0.12605\n",
      "Mean absolute error: 0.14874\n",
      "train_loss 0.16804739832878113\n",
      "val results:\n",
      "Mean square error: 0.13011\n",
      "Mean absolute error: 0.15241\n",
      "train_loss 0.11858099699020386\n",
      "val results:\n",
      "Mean square error: 0.11693\n",
      "Mean absolute error: 0.13879\n",
      "train_loss 0.11980000138282776\n",
      "val results:\n",
      "Mean square error: 0.14786\n",
      "Mean absolute error: 0.16409\n",
      "train_loss 0.172636941075325\n",
      "val results:\n",
      "Mean square error: 0.11701\n",
      "Mean absolute error: 0.13989\n",
      "train_loss 0.13903436064720154\n",
      "val results:\n",
      "Mean square error: 0.12449\n",
      "Mean absolute error: 0.14455\n",
      "train_loss 0.0984003096818924\n",
      "val results:\n",
      "Mean square error: 0.14034\n",
      "Mean absolute error: 0.15113\n",
      "train_loss 0.13735449314117432\n",
      "val results:\n",
      "Mean square error: 0.11402\n",
      "Mean absolute error: 0.13937\n",
      "train_loss 0.15747180581092834\n",
      "val results:\n",
      "Mean square error: 0.11889\n",
      "Mean absolute error: 0.13579\n",
      "train_loss 0.10724753886461258\n",
      "val results:\n",
      "Mean square error: 0.11185\n",
      "Mean absolute error: 0.13264\n",
      "\n",
      "epoch: 2\n"
     ]
    },
    {
     "data": {
      "application/vnd.jupyter.widget-view+json": {
       "model_id": "faaaf51bdf9543b5a3129567650585be",
       "version_major": 2,
       "version_minor": 0
      },
      "text/plain": [
       "HBox(children=(FloatProgress(value=0.0, max=1721.0), HTML(value='')))"
      ]
     },
     "metadata": {},
     "output_type": "display_data"
    },
    {
     "name": "stdout",
     "output_type": "stream",
     "text": [
      "train_loss 0.11903123557567596\n",
      "val results:\n",
      "Mean square error: 0.10118\n",
      "Mean absolute error: 0.12557\n",
      "train_loss 0.13535380363464355\n",
      "val results:\n",
      "Mean square error: 0.10687\n",
      "Mean absolute error: 0.12536\n",
      "train_loss 0.1667957901954651\n",
      "val results:\n",
      "Mean square error: 0.12674\n",
      "Mean absolute error: 0.13415\n",
      "train_loss 0.14600013196468353\n",
      "val results:\n",
      "Mean square error: 0.10050\n",
      "Mean absolute error: 0.12170\n",
      "train_loss 0.11324714124202728\n",
      "val results:\n",
      "Mean square error: 0.11050\n",
      "Mean absolute error: 0.12625\n",
      "train_loss 0.12284659594297409\n",
      "val results:\n",
      "Mean square error: 0.09617\n",
      "Mean absolute error: 0.11566\n",
      "train_loss 0.1188376247882843\n",
      "val results:\n",
      "Mean square error: 0.13981\n",
      "Mean absolute error: 0.14654\n",
      "train_loss 0.11516618728637695\n",
      "val results:\n",
      "Mean square error: 0.07612\n",
      "Mean absolute error: 0.10634\n",
      "train_loss 0.10409112274646759\n",
      "val results:\n",
      "Mean square error: 0.10356\n",
      "Mean absolute error: 0.12469\n",
      "train_loss 0.09719927608966827\n",
      "val results:\n",
      "Mean square error: 0.09666\n",
      "Mean absolute error: 0.11827\n",
      "train_loss 0.13255839049816132\n",
      "val results:\n",
      "Mean square error: 0.09059\n",
      "Mean absolute error: 0.11583\n",
      "train_loss 0.15182025730609894\n",
      "val results:\n",
      "Mean square error: 0.13666\n",
      "Mean absolute error: 0.14266\n",
      "train_loss 0.10860124230384827\n",
      "val results:\n",
      "Mean square error: 0.09079\n",
      "Mean absolute error: 0.11343\n",
      "train_loss 0.11056330800056458\n",
      "val results:\n",
      "Mean square error: 0.07308\n",
      "Mean absolute error: 0.10346\n",
      "train_loss 0.14777982234954834\n",
      "val results:\n",
      "Mean square error: 0.09095\n",
      "Mean absolute error: 0.11331\n",
      "train_loss 0.11213210225105286\n",
      "val results:\n",
      "Mean square error: 0.06781\n",
      "Mean absolute error: 0.09798\n",
      "train_loss 0.12094306945800781\n",
      "val results:\n",
      "Mean square error: 0.08739\n",
      "Mean absolute error: 0.11160\n",
      "\n"
     ]
    }
   ],
   "source": [
    "model = SalaryPredictorwBatchNormPretrainedNotFreezed().to(DEVICE)\n",
    "criterion = nn.MSELoss(reduction='mean')\n",
    "optimizer = torch.optim.Adam(model.parameters(), lr=1e-3)\n",
    "list_mse_8 = []\n",
    "list_mae_8 = []\n",
    "train_loss_8 = []\n",
    "\n",
    "for epoch in range(EPOCHS):\n",
    "    print(f\"epoch: {epoch}\")\n",
    "    for i, batch in tqdm.notebook.tqdm(enumerate(\n",
    "            iterate_minibatches(\n",
    "                    data_train, \n",
    "                    batch_size=BATCH_SIZE, \n",
    "                    device=DEVICE)), \n",
    "                total=len(data_train) // BATCH_SIZE\n",
    "        ):\n",
    "        model.train()\n",
    "        pred = model(batch)\n",
    "        optimizer.zero_grad()\n",
    "        loss = criterion(pred, batch[TARGET_COLUMN])\n",
    "        loss.backward()\n",
    "        optimizer.step()\n",
    "\n",
    "        if i % 100 == 99:\n",
    "            print('train_loss', loss.item())\n",
    "            train_loss_8.append(loss.item())\n",
    "            print_metrics(model, data_val, list_mse=list_mse_8, list_mae=list_mae_8, \n",
    "                          name='val', batch_size=BATCH_SIZE, device=DEVICE)"
   ]
  },
  {
   "cell_type": "code",
   "execution_count": 387,
   "metadata": {},
   "outputs": [
    {
     "data": {
      "application/vnd.plotly.v1+json": {
       "config": {
        "linkText": "Export to plot.ly",
        "plotlyServerURL": "https://plot.ly",
        "showLink": false
       },
       "data": [
        {
         "mode": "lines",
         "name": "Train Loss",
         "showlegend": false,
         "type": "scatter",
         "x": [
          0,
          1,
          2,
          3,
          4,
          5,
          6,
          7,
          8,
          9,
          10,
          11,
          12,
          13,
          14,
          15,
          16,
          17,
          18,
          19,
          20,
          21,
          22,
          23,
          24,
          25,
          26,
          27,
          28,
          29,
          30,
          31,
          32,
          33,
          34,
          35,
          36,
          37,
          38,
          39,
          40,
          41,
          42,
          43,
          44,
          45,
          46,
          47,
          48,
          49,
          50
         ],
         "xaxis": "x",
         "y": [
          75.9339599609375,
          47.69648742675781,
          19.25438117980957,
          5.251309394836426,
          1.0605489015579224,
          0.5197407603263855,
          0.41781914234161377,
          0.35738861560821533,
          0.31290051341056824,
          0.28524595499038696,
          0.2540881335735321,
          0.20506249368190765,
          0.2332189828157425,
          0.26634481549263,
          0.20179340243339539,
          0.17761994898319244,
          0.1330624669790268,
          0.19298139214515686,
          0.16018348932266235,
          0.21724413335323334,
          0.1946467161178589,
          0.13717085123062134,
          0.1822417974472046,
          0.21210896968841553,
          0.15613871812820435,
          0.16804739832878113,
          0.11858099699020386,
          0.11980000138282776,
          0.172636941075325,
          0.13903436064720154,
          0.0984003096818924,
          0.13735449314117432,
          0.15747180581092834,
          0.10724753886461258,
          0.11903123557567596,
          0.13535380363464355,
          0.1667957901954651,
          0.14600013196468353,
          0.11324714124202728,
          0.12284659594297409,
          0.1188376247882843,
          0.11516618728637695,
          0.10409112274646759,
          0.09719927608966827,
          0.13255839049816132,
          0.15182025730609894,
          0.10860124230384827,
          0.11056330800056458,
          0.14777982234954834,
          0.11213210225105286,
          0.12094306945800781
         ],
         "yaxis": "y"
        },
        {
         "mode": "lines",
         "name": "MAE",
         "type": "scatter",
         "x": [
          0,
          1,
          2,
          3,
          4,
          5,
          6,
          7,
          8,
          9,
          10,
          11,
          12,
          13,
          14,
          15,
          16,
          17,
          18,
          19,
          20,
          21,
          22,
          23,
          24,
          25,
          26,
          27,
          28,
          29,
          30,
          31,
          32,
          33,
          34,
          35,
          36,
          37,
          38,
          39,
          40,
          41,
          42,
          43,
          44,
          45,
          46,
          47,
          48,
          49,
          50
         ],
         "xaxis": "x2",
         "y": [
          2.155548890431722,
          1.7007144292195637,
          1.028836965560913,
          0.5798836151758829,
          0.33536267280578613,
          0.30306798219680786,
          0.2486962080001831,
          0.2657894293467204,
          0.2500201066335042,
          0.235354483127594,
          0.2421671748161316,
          0.211199422677358,
          0.20304113626480103,
          0.17151041825612387,
          0.1928019920984904,
          0.169113556543986,
          0.1663434108098348,
          0.18498694896697998,
          0.18379835287729898,
          0.16322815418243408,
          0.16811172167460123,
          0.1716982920964559,
          0.17260420322418213,
          0.15413151184717813,
          0.14874019225438437,
          0.15241370598475137,
          0.13878872990608215,
          0.16409225265185037,
          0.13989019393920898,
          0.1445489525794983,
          0.15113208691279092,
          0.13937196135520935,
          0.1357942521572113,
          0.13264365990956625,
          0.1255650818347931,
          0.12535902857780457,
          0.13415206472078958,
          0.1216965119043986,
          0.1262474755446116,
          0.11565609773000081,
          0.14654053250948587,
          0.10633755723635356,
          0.12468792001406352,
          0.11827165881792705,
          0.11582555373509724,
          0.14265665411949158,
          0.11343273520469666,
          0.10346294442812602,
          0.11330511172612508,
          0.09797664483388265,
          0.11159891883532207
         ],
         "yaxis": "y2"
        },
        {
         "mode": "lines",
         "name": "MSE",
         "type": "scatter",
         "x": [
          0,
          1,
          2,
          3,
          4,
          5,
          6,
          7,
          8,
          9,
          10,
          11,
          12,
          13,
          14,
          15,
          16,
          17,
          18,
          19,
          20,
          21,
          22,
          23,
          24,
          25,
          26,
          27,
          28,
          29,
          30,
          31,
          32,
          33,
          34,
          35,
          36,
          37,
          38,
          39,
          40,
          41,
          42,
          43,
          44,
          45,
          46,
          47,
          48,
          49,
          50
         ],
         "xaxis": "x2",
         "y": [
          18.67218780517578,
          11.819419860839844,
          4.6628061930338545,
          1.836001714070638,
          0.7045995394388834,
          0.5053728024164835,
          0.33964653809865314,
          0.38528438409169513,
          0.37338467439015705,
          0.30399225155512494,
          0.34508387247721356,
          0.24976366758346558,
          0.2649237910906474,
          0.17186025778452554,
          0.20204277833302817,
          0.16582167148590088,
          0.18362961212793985,
          0.180678923924764,
          0.180675208568573,
          0.15129684408505759,
          0.16172860066095987,
          0.1588019331296285,
          0.15801053245862326,
          0.14195596178372702,
          0.12605072061220804,
          0.1301118234793345,
          0.1169340709845225,
          0.1478649377822876,
          0.11700505018234253,
          0.12448595960934956,
          0.14034133156140646,
          0.11402170856793721,
          0.11888654033342998,
          0.11184794704119365,
          0.1011844277381897,
          0.10687467455863953,
          0.12674473722775778,
          0.10049919287363689,
          0.11049594481786092,
          0.09617186586062114,
          0.13980676730473837,
          0.07612330218156178,
          0.10355688134829204,
          0.0966639518737793,
          0.09058685104052226,
          0.13666402300198874,
          0.09079288442929585,
          0.07308432459831238,
          0.09094557166099548,
          0.06780840953191121,
          0.08739344278971355
         ],
         "yaxis": "y2"
        }
       ],
       "layout": {
        "annotations": [
         {
          "font": {
           "size": 16
          },
          "showarrow": false,
          "text": "<b>Train Loss</b>",
          "x": 0.5,
          "xanchor": "center",
          "xref": "paper",
          "y": 1,
          "yanchor": "bottom",
          "yref": "paper"
         },
         {
          "font": {
           "size": 16
          },
          "showarrow": false,
          "text": "<b>Test Metrics</b>",
          "x": 0.5,
          "xanchor": "center",
          "xref": "paper",
          "y": 0.375,
          "yanchor": "bottom",
          "yref": "paper"
         }
        ],
        "autosize": false,
        "height": 780,
        "legend": {
         "x": 1,
         "y": 0.15
        },
        "margin": {
         "b": 270
        },
        "paper_bgcolor": "rgba(240, 240, 240, 0.95)",
        "plot_bgcolor": "rgba(240, 240, 240, 0.95)",
        "template": {
         "data": {
          "bar": [
           {
            "error_x": {
             "color": "#2a3f5f"
            },
            "error_y": {
             "color": "#2a3f5f"
            },
            "marker": {
             "line": {
              "color": "#E5ECF6",
              "width": 0.5
             }
            },
            "type": "bar"
           }
          ],
          "barpolar": [
           {
            "marker": {
             "line": {
              "color": "#E5ECF6",
              "width": 0.5
             }
            },
            "type": "barpolar"
           }
          ],
          "carpet": [
           {
            "aaxis": {
             "endlinecolor": "#2a3f5f",
             "gridcolor": "white",
             "linecolor": "white",
             "minorgridcolor": "white",
             "startlinecolor": "#2a3f5f"
            },
            "baxis": {
             "endlinecolor": "#2a3f5f",
             "gridcolor": "white",
             "linecolor": "white",
             "minorgridcolor": "white",
             "startlinecolor": "#2a3f5f"
            },
            "type": "carpet"
           }
          ],
          "choropleth": [
           {
            "colorbar": {
             "outlinewidth": 0,
             "ticks": ""
            },
            "type": "choropleth"
           }
          ],
          "contour": [
           {
            "colorbar": {
             "outlinewidth": 0,
             "ticks": ""
            },
            "colorscale": [
             [
              0,
              "#0d0887"
             ],
             [
              0.1111111111111111,
              "#46039f"
             ],
             [
              0.2222222222222222,
              "#7201a8"
             ],
             [
              0.3333333333333333,
              "#9c179e"
             ],
             [
              0.4444444444444444,
              "#bd3786"
             ],
             [
              0.5555555555555556,
              "#d8576b"
             ],
             [
              0.6666666666666666,
              "#ed7953"
             ],
             [
              0.7777777777777778,
              "#fb9f3a"
             ],
             [
              0.8888888888888888,
              "#fdca26"
             ],
             [
              1,
              "#f0f921"
             ]
            ],
            "type": "contour"
           }
          ],
          "contourcarpet": [
           {
            "colorbar": {
             "outlinewidth": 0,
             "ticks": ""
            },
            "type": "contourcarpet"
           }
          ],
          "heatmap": [
           {
            "colorbar": {
             "outlinewidth": 0,
             "ticks": ""
            },
            "colorscale": [
             [
              0,
              "#0d0887"
             ],
             [
              0.1111111111111111,
              "#46039f"
             ],
             [
              0.2222222222222222,
              "#7201a8"
             ],
             [
              0.3333333333333333,
              "#9c179e"
             ],
             [
              0.4444444444444444,
              "#bd3786"
             ],
             [
              0.5555555555555556,
              "#d8576b"
             ],
             [
              0.6666666666666666,
              "#ed7953"
             ],
             [
              0.7777777777777778,
              "#fb9f3a"
             ],
             [
              0.8888888888888888,
              "#fdca26"
             ],
             [
              1,
              "#f0f921"
             ]
            ],
            "type": "heatmap"
           }
          ],
          "heatmapgl": [
           {
            "colorbar": {
             "outlinewidth": 0,
             "ticks": ""
            },
            "colorscale": [
             [
              0,
              "#0d0887"
             ],
             [
              0.1111111111111111,
              "#46039f"
             ],
             [
              0.2222222222222222,
              "#7201a8"
             ],
             [
              0.3333333333333333,
              "#9c179e"
             ],
             [
              0.4444444444444444,
              "#bd3786"
             ],
             [
              0.5555555555555556,
              "#d8576b"
             ],
             [
              0.6666666666666666,
              "#ed7953"
             ],
             [
              0.7777777777777778,
              "#fb9f3a"
             ],
             [
              0.8888888888888888,
              "#fdca26"
             ],
             [
              1,
              "#f0f921"
             ]
            ],
            "type": "heatmapgl"
           }
          ],
          "histogram": [
           {
            "marker": {
             "colorbar": {
              "outlinewidth": 0,
              "ticks": ""
             }
            },
            "type": "histogram"
           }
          ],
          "histogram2d": [
           {
            "colorbar": {
             "outlinewidth": 0,
             "ticks": ""
            },
            "colorscale": [
             [
              0,
              "#0d0887"
             ],
             [
              0.1111111111111111,
              "#46039f"
             ],
             [
              0.2222222222222222,
              "#7201a8"
             ],
             [
              0.3333333333333333,
              "#9c179e"
             ],
             [
              0.4444444444444444,
              "#bd3786"
             ],
             [
              0.5555555555555556,
              "#d8576b"
             ],
             [
              0.6666666666666666,
              "#ed7953"
             ],
             [
              0.7777777777777778,
              "#fb9f3a"
             ],
             [
              0.8888888888888888,
              "#fdca26"
             ],
             [
              1,
              "#f0f921"
             ]
            ],
            "type": "histogram2d"
           }
          ],
          "histogram2dcontour": [
           {
            "colorbar": {
             "outlinewidth": 0,
             "ticks": ""
            },
            "colorscale": [
             [
              0,
              "#0d0887"
             ],
             [
              0.1111111111111111,
              "#46039f"
             ],
             [
              0.2222222222222222,
              "#7201a8"
             ],
             [
              0.3333333333333333,
              "#9c179e"
             ],
             [
              0.4444444444444444,
              "#bd3786"
             ],
             [
              0.5555555555555556,
              "#d8576b"
             ],
             [
              0.6666666666666666,
              "#ed7953"
             ],
             [
              0.7777777777777778,
              "#fb9f3a"
             ],
             [
              0.8888888888888888,
              "#fdca26"
             ],
             [
              1,
              "#f0f921"
             ]
            ],
            "type": "histogram2dcontour"
           }
          ],
          "mesh3d": [
           {
            "colorbar": {
             "outlinewidth": 0,
             "ticks": ""
            },
            "type": "mesh3d"
           }
          ],
          "parcoords": [
           {
            "line": {
             "colorbar": {
              "outlinewidth": 0,
              "ticks": ""
             }
            },
            "type": "parcoords"
           }
          ],
          "pie": [
           {
            "automargin": true,
            "type": "pie"
           }
          ],
          "scatter": [
           {
            "marker": {
             "colorbar": {
              "outlinewidth": 0,
              "ticks": ""
             }
            },
            "type": "scatter"
           }
          ],
          "scatter3d": [
           {
            "line": {
             "colorbar": {
              "outlinewidth": 0,
              "ticks": ""
             }
            },
            "marker": {
             "colorbar": {
              "outlinewidth": 0,
              "ticks": ""
             }
            },
            "type": "scatter3d"
           }
          ],
          "scattercarpet": [
           {
            "marker": {
             "colorbar": {
              "outlinewidth": 0,
              "ticks": ""
             }
            },
            "type": "scattercarpet"
           }
          ],
          "scattergeo": [
           {
            "marker": {
             "colorbar": {
              "outlinewidth": 0,
              "ticks": ""
             }
            },
            "type": "scattergeo"
           }
          ],
          "scattergl": [
           {
            "marker": {
             "colorbar": {
              "outlinewidth": 0,
              "ticks": ""
             }
            },
            "type": "scattergl"
           }
          ],
          "scattermapbox": [
           {
            "marker": {
             "colorbar": {
              "outlinewidth": 0,
              "ticks": ""
             }
            },
            "type": "scattermapbox"
           }
          ],
          "scatterpolar": [
           {
            "marker": {
             "colorbar": {
              "outlinewidth": 0,
              "ticks": ""
             }
            },
            "type": "scatterpolar"
           }
          ],
          "scatterpolargl": [
           {
            "marker": {
             "colorbar": {
              "outlinewidth": 0,
              "ticks": ""
             }
            },
            "type": "scatterpolargl"
           }
          ],
          "scatterternary": [
           {
            "marker": {
             "colorbar": {
              "outlinewidth": 0,
              "ticks": ""
             }
            },
            "type": "scatterternary"
           }
          ],
          "surface": [
           {
            "colorbar": {
             "outlinewidth": 0,
             "ticks": ""
            },
            "colorscale": [
             [
              0,
              "#0d0887"
             ],
             [
              0.1111111111111111,
              "#46039f"
             ],
             [
              0.2222222222222222,
              "#7201a8"
             ],
             [
              0.3333333333333333,
              "#9c179e"
             ],
             [
              0.4444444444444444,
              "#bd3786"
             ],
             [
              0.5555555555555556,
              "#d8576b"
             ],
             [
              0.6666666666666666,
              "#ed7953"
             ],
             [
              0.7777777777777778,
              "#fb9f3a"
             ],
             [
              0.8888888888888888,
              "#fdca26"
             ],
             [
              1,
              "#f0f921"
             ]
            ],
            "type": "surface"
           }
          ],
          "table": [
           {
            "cells": {
             "fill": {
              "color": "#EBF0F8"
             },
             "line": {
              "color": "white"
             }
            },
            "header": {
             "fill": {
              "color": "#C8D4E3"
             },
             "line": {
              "color": "white"
             }
            },
            "type": "table"
           }
          ]
         },
         "layout": {
          "annotationdefaults": {
           "arrowcolor": "#2a3f5f",
           "arrowhead": 0,
           "arrowwidth": 1
          },
          "coloraxis": {
           "colorbar": {
            "outlinewidth": 0,
            "ticks": ""
           }
          },
          "colorscale": {
           "diverging": [
            [
             0,
             "#8e0152"
            ],
            [
             0.1,
             "#c51b7d"
            ],
            [
             0.2,
             "#de77ae"
            ],
            [
             0.3,
             "#f1b6da"
            ],
            [
             0.4,
             "#fde0ef"
            ],
            [
             0.5,
             "#f7f7f7"
            ],
            [
             0.6,
             "#e6f5d0"
            ],
            [
             0.7,
             "#b8e186"
            ],
            [
             0.8,
             "#7fbc41"
            ],
            [
             0.9,
             "#4d9221"
            ],
            [
             1,
             "#276419"
            ]
           ],
           "sequential": [
            [
             0,
             "#0d0887"
            ],
            [
             0.1111111111111111,
             "#46039f"
            ],
            [
             0.2222222222222222,
             "#7201a8"
            ],
            [
             0.3333333333333333,
             "#9c179e"
            ],
            [
             0.4444444444444444,
             "#bd3786"
            ],
            [
             0.5555555555555556,
             "#d8576b"
            ],
            [
             0.6666666666666666,
             "#ed7953"
            ],
            [
             0.7777777777777778,
             "#fb9f3a"
            ],
            [
             0.8888888888888888,
             "#fdca26"
            ],
            [
             1,
             "#f0f921"
            ]
           ],
           "sequentialminus": [
            [
             0,
             "#0d0887"
            ],
            [
             0.1111111111111111,
             "#46039f"
            ],
            [
             0.2222222222222222,
             "#7201a8"
            ],
            [
             0.3333333333333333,
             "#9c179e"
            ],
            [
             0.4444444444444444,
             "#bd3786"
            ],
            [
             0.5555555555555556,
             "#d8576b"
            ],
            [
             0.6666666666666666,
             "#ed7953"
            ],
            [
             0.7777777777777778,
             "#fb9f3a"
            ],
            [
             0.8888888888888888,
             "#fdca26"
            ],
            [
             1,
             "#f0f921"
            ]
           ]
          },
          "colorway": [
           "#636efa",
           "#EF553B",
           "#00cc96",
           "#ab63fa",
           "#FFA15A",
           "#19d3f3",
           "#FF6692",
           "#B6E880",
           "#FF97FF",
           "#FECB52"
          ],
          "font": {
           "color": "#2a3f5f"
          },
          "geo": {
           "bgcolor": "white",
           "lakecolor": "white",
           "landcolor": "#E5ECF6",
           "showlakes": true,
           "showland": true,
           "subunitcolor": "white"
          },
          "hoverlabel": {
           "align": "left"
          },
          "hovermode": "closest",
          "mapbox": {
           "style": "light"
          },
          "paper_bgcolor": "white",
          "plot_bgcolor": "#E5ECF6",
          "polar": {
           "angularaxis": {
            "gridcolor": "white",
            "linecolor": "white",
            "ticks": ""
           },
           "bgcolor": "#E5ECF6",
           "radialaxis": {
            "gridcolor": "white",
            "linecolor": "white",
            "ticks": ""
           }
          },
          "scene": {
           "xaxis": {
            "backgroundcolor": "#E5ECF6",
            "gridcolor": "white",
            "gridwidth": 2,
            "linecolor": "white",
            "showbackground": true,
            "ticks": "",
            "zerolinecolor": "white"
           },
           "yaxis": {
            "backgroundcolor": "#E5ECF6",
            "gridcolor": "white",
            "gridwidth": 2,
            "linecolor": "white",
            "showbackground": true,
            "ticks": "",
            "zerolinecolor": "white"
           },
           "zaxis": {
            "backgroundcolor": "#E5ECF6",
            "gridcolor": "white",
            "gridwidth": 2,
            "linecolor": "white",
            "showbackground": true,
            "ticks": "",
            "zerolinecolor": "white"
           }
          },
          "shapedefaults": {
           "line": {
            "color": "#2a3f5f"
           }
          },
          "ternary": {
           "aaxis": {
            "gridcolor": "white",
            "linecolor": "white",
            "ticks": ""
           },
           "baxis": {
            "gridcolor": "white",
            "linecolor": "white",
            "ticks": ""
           },
           "bgcolor": "#E5ECF6",
           "caxis": {
            "gridcolor": "white",
            "linecolor": "white",
            "ticks": ""
           }
          },
          "title": {
           "x": 0.05
          },
          "xaxis": {
           "automargin": true,
           "gridcolor": "white",
           "linecolor": "white",
           "ticks": "",
           "title": {
            "standoff": 15
           },
           "zerolinecolor": "white",
           "zerolinewidth": 2
          },
          "yaxis": {
           "automargin": true,
           "gridcolor": "white",
           "linecolor": "white",
           "ticks": "",
           "title": {
            "standoff": 15
           },
           "zerolinecolor": "white",
           "zerolinewidth": 2
          }
         }
        },
        "title": {
         "text": "<b>Model performance report</b><br>Salary Predictor with BatchNorm and Pre-trained Embeddings (Glove Twitter 25) (Not-Freezed Weights)<br><br><br><br><br><br><br><br><br><br><br><br><br><br><br><br><br><br><br><br><br><br><br><br><b><i>Train Loss Stat Values:</i></b><br>Max: 75.93   Mean: 3.09   Min: 0.10   Median: 0.16   Var: 156.01<br><br><b><i>Mean Absolute Error Stat Values:</i></b><br>Max: 2.16   Mean: 0.26   Min: 0.10   Median: 0.15   Var: 0.14<br><br><b><i>Mean Mean Squared Error Stat Values:</i></b><br>Max: 18.67   Mean: 0.89   Min: 0.07   Median: 0.14   Var: 9.32",
         "x": 0.5,
         "xanchor": "center",
         "y": 0.95,
         "yanchor": "top"
        },
        "width": 900,
        "xaxis": {
         "anchor": "y",
         "domain": [
          0,
          1
         ]
        },
        "xaxis2": {
         "anchor": "y2",
         "domain": [
          0,
          1
         ]
        },
        "yaxis": {
         "anchor": "x",
         "domain": [
          0.625,
          1
         ],
         "range": [
          0,
          1
         ]
        },
        "yaxis2": {
         "anchor": "x2",
         "domain": [
          0,
          0.375
         ],
         "range": [
          0,
          1
         ]
        }
       }
      },
      "text/html": [
       "<div>                            <div id=\"6305ea4a-4579-4d7a-a312-d131f89d921d\" class=\"plotly-graph-div\" style=\"height:780px; width:900px;\"></div>            <script type=\"text/javascript\">                require([\"plotly\"], function(Plotly) {                    window.PLOTLYENV=window.PLOTLYENV || {};                                    if (document.getElementById(\"6305ea4a-4579-4d7a-a312-d131f89d921d\")) {                    Plotly.newPlot(                        \"6305ea4a-4579-4d7a-a312-d131f89d921d\",                        [{\"mode\": \"lines\", \"name\": \"Train Loss\", \"showlegend\": false, \"type\": \"scatter\", \"x\": [0, 1, 2, 3, 4, 5, 6, 7, 8, 9, 10, 11, 12, 13, 14, 15, 16, 17, 18, 19, 20, 21, 22, 23, 24, 25, 26, 27, 28, 29, 30, 31, 32, 33, 34, 35, 36, 37, 38, 39, 40, 41, 42, 43, 44, 45, 46, 47, 48, 49, 50], \"xaxis\": \"x\", \"y\": [75.9339599609375, 47.69648742675781, 19.25438117980957, 5.251309394836426, 1.0605489015579224, 0.5197407603263855, 0.41781914234161377, 0.35738861560821533, 0.31290051341056824, 0.28524595499038696, 0.2540881335735321, 0.20506249368190765, 0.2332189828157425, 0.26634481549263, 0.20179340243339539, 0.17761994898319244, 0.1330624669790268, 0.19298139214515686, 0.16018348932266235, 0.21724413335323334, 0.1946467161178589, 0.13717085123062134, 0.1822417974472046, 0.21210896968841553, 0.15613871812820435, 0.16804739832878113, 0.11858099699020386, 0.11980000138282776, 0.172636941075325, 0.13903436064720154, 0.0984003096818924, 0.13735449314117432, 0.15747180581092834, 0.10724753886461258, 0.11903123557567596, 0.13535380363464355, 0.1667957901954651, 0.14600013196468353, 0.11324714124202728, 0.12284659594297409, 0.1188376247882843, 0.11516618728637695, 0.10409112274646759, 0.09719927608966827, 0.13255839049816132, 0.15182025730609894, 0.10860124230384827, 0.11056330800056458, 0.14777982234954834, 0.11213210225105286, 0.12094306945800781], \"yaxis\": \"y\"}, {\"mode\": \"lines\", \"name\": \"MAE\", \"type\": \"scatter\", \"x\": [0, 1, 2, 3, 4, 5, 6, 7, 8, 9, 10, 11, 12, 13, 14, 15, 16, 17, 18, 19, 20, 21, 22, 23, 24, 25, 26, 27, 28, 29, 30, 31, 32, 33, 34, 35, 36, 37, 38, 39, 40, 41, 42, 43, 44, 45, 46, 47, 48, 49, 50], \"xaxis\": \"x2\", \"y\": [2.155548890431722, 1.7007144292195637, 1.028836965560913, 0.5798836151758829, 0.33536267280578613, 0.30306798219680786, 0.2486962080001831, 0.2657894293467204, 0.2500201066335042, 0.235354483127594, 0.2421671748161316, 0.211199422677358, 0.20304113626480103, 0.17151041825612387, 0.1928019920984904, 0.169113556543986, 0.1663434108098348, 0.18498694896697998, 0.18379835287729898, 0.16322815418243408, 0.16811172167460123, 0.1716982920964559, 0.17260420322418213, 0.15413151184717813, 0.14874019225438437, 0.15241370598475137, 0.13878872990608215, 0.16409225265185037, 0.13989019393920898, 0.1445489525794983, 0.15113208691279092, 0.13937196135520935, 0.1357942521572113, 0.13264365990956625, 0.1255650818347931, 0.12535902857780457, 0.13415206472078958, 0.1216965119043986, 0.1262474755446116, 0.11565609773000081, 0.14654053250948587, 0.10633755723635356, 0.12468792001406352, 0.11827165881792705, 0.11582555373509724, 0.14265665411949158, 0.11343273520469666, 0.10346294442812602, 0.11330511172612508, 0.09797664483388265, 0.11159891883532207], \"yaxis\": \"y2\"}, {\"mode\": \"lines\", \"name\": \"MSE\", \"type\": \"scatter\", \"x\": [0, 1, 2, 3, 4, 5, 6, 7, 8, 9, 10, 11, 12, 13, 14, 15, 16, 17, 18, 19, 20, 21, 22, 23, 24, 25, 26, 27, 28, 29, 30, 31, 32, 33, 34, 35, 36, 37, 38, 39, 40, 41, 42, 43, 44, 45, 46, 47, 48, 49, 50], \"xaxis\": \"x2\", \"y\": [18.67218780517578, 11.819419860839844, 4.6628061930338545, 1.836001714070638, 0.7045995394388834, 0.5053728024164835, 0.33964653809865314, 0.38528438409169513, 0.37338467439015705, 0.30399225155512494, 0.34508387247721356, 0.24976366758346558, 0.2649237910906474, 0.17186025778452554, 0.20204277833302817, 0.16582167148590088, 0.18362961212793985, 0.180678923924764, 0.180675208568573, 0.15129684408505759, 0.16172860066095987, 0.1588019331296285, 0.15801053245862326, 0.14195596178372702, 0.12605072061220804, 0.1301118234793345, 0.1169340709845225, 0.1478649377822876, 0.11700505018234253, 0.12448595960934956, 0.14034133156140646, 0.11402170856793721, 0.11888654033342998, 0.11184794704119365, 0.1011844277381897, 0.10687467455863953, 0.12674473722775778, 0.10049919287363689, 0.11049594481786092, 0.09617186586062114, 0.13980676730473837, 0.07612330218156178, 0.10355688134829204, 0.0966639518737793, 0.09058685104052226, 0.13666402300198874, 0.09079288442929585, 0.07308432459831238, 0.09094557166099548, 0.06780840953191121, 0.08739344278971355], \"yaxis\": \"y2\"}],                        {\"annotations\": [{\"font\": {\"size\": 16}, \"showarrow\": false, \"text\": \"<b>Train Loss</b>\", \"x\": 0.5, \"xanchor\": \"center\", \"xref\": \"paper\", \"y\": 1.0, \"yanchor\": \"bottom\", \"yref\": \"paper\"}, {\"font\": {\"size\": 16}, \"showarrow\": false, \"text\": \"<b>Test Metrics</b>\", \"x\": 0.5, \"xanchor\": \"center\", \"xref\": \"paper\", \"y\": 0.375, \"yanchor\": \"bottom\", \"yref\": \"paper\"}], \"autosize\": false, \"height\": 780, \"legend\": {\"x\": 1, \"y\": 0.15}, \"margin\": {\"b\": 270}, \"paper_bgcolor\": \"rgba(240, 240, 240, 0.95)\", \"plot_bgcolor\": \"rgba(240, 240, 240, 0.95)\", \"template\": {\"data\": {\"bar\": [{\"error_x\": {\"color\": \"#2a3f5f\"}, \"error_y\": {\"color\": \"#2a3f5f\"}, \"marker\": {\"line\": {\"color\": \"#E5ECF6\", \"width\": 0.5}}, \"type\": \"bar\"}], \"barpolar\": [{\"marker\": {\"line\": {\"color\": \"#E5ECF6\", \"width\": 0.5}}, \"type\": \"barpolar\"}], \"carpet\": [{\"aaxis\": {\"endlinecolor\": \"#2a3f5f\", \"gridcolor\": \"white\", \"linecolor\": \"white\", \"minorgridcolor\": \"white\", \"startlinecolor\": \"#2a3f5f\"}, \"baxis\": {\"endlinecolor\": \"#2a3f5f\", \"gridcolor\": \"white\", \"linecolor\": \"white\", \"minorgridcolor\": \"white\", \"startlinecolor\": \"#2a3f5f\"}, \"type\": \"carpet\"}], \"choropleth\": [{\"colorbar\": {\"outlinewidth\": 0, \"ticks\": \"\"}, \"type\": \"choropleth\"}], \"contour\": [{\"colorbar\": {\"outlinewidth\": 0, \"ticks\": \"\"}, \"colorscale\": [[0.0, \"#0d0887\"], [0.1111111111111111, \"#46039f\"], [0.2222222222222222, \"#7201a8\"], [0.3333333333333333, \"#9c179e\"], [0.4444444444444444, \"#bd3786\"], [0.5555555555555556, \"#d8576b\"], [0.6666666666666666, \"#ed7953\"], [0.7777777777777778, \"#fb9f3a\"], [0.8888888888888888, \"#fdca26\"], [1.0, \"#f0f921\"]], \"type\": \"contour\"}], \"contourcarpet\": [{\"colorbar\": {\"outlinewidth\": 0, \"ticks\": \"\"}, \"type\": \"contourcarpet\"}], \"heatmap\": [{\"colorbar\": {\"outlinewidth\": 0, \"ticks\": \"\"}, \"colorscale\": [[0.0, \"#0d0887\"], [0.1111111111111111, \"#46039f\"], [0.2222222222222222, \"#7201a8\"], [0.3333333333333333, \"#9c179e\"], [0.4444444444444444, \"#bd3786\"], [0.5555555555555556, \"#d8576b\"], [0.6666666666666666, \"#ed7953\"], [0.7777777777777778, \"#fb9f3a\"], [0.8888888888888888, \"#fdca26\"], [1.0, \"#f0f921\"]], \"type\": \"heatmap\"}], \"heatmapgl\": [{\"colorbar\": {\"outlinewidth\": 0, \"ticks\": \"\"}, \"colorscale\": [[0.0, \"#0d0887\"], [0.1111111111111111, \"#46039f\"], [0.2222222222222222, \"#7201a8\"], [0.3333333333333333, \"#9c179e\"], [0.4444444444444444, \"#bd3786\"], [0.5555555555555556, \"#d8576b\"], [0.6666666666666666, \"#ed7953\"], [0.7777777777777778, \"#fb9f3a\"], [0.8888888888888888, \"#fdca26\"], [1.0, \"#f0f921\"]], \"type\": \"heatmapgl\"}], \"histogram\": [{\"marker\": {\"colorbar\": {\"outlinewidth\": 0, \"ticks\": \"\"}}, \"type\": \"histogram\"}], \"histogram2d\": [{\"colorbar\": {\"outlinewidth\": 0, \"ticks\": \"\"}, \"colorscale\": [[0.0, \"#0d0887\"], [0.1111111111111111, \"#46039f\"], [0.2222222222222222, \"#7201a8\"], [0.3333333333333333, \"#9c179e\"], [0.4444444444444444, \"#bd3786\"], [0.5555555555555556, \"#d8576b\"], [0.6666666666666666, \"#ed7953\"], [0.7777777777777778, \"#fb9f3a\"], [0.8888888888888888, \"#fdca26\"], [1.0, \"#f0f921\"]], \"type\": \"histogram2d\"}], \"histogram2dcontour\": [{\"colorbar\": {\"outlinewidth\": 0, \"ticks\": \"\"}, \"colorscale\": [[0.0, \"#0d0887\"], [0.1111111111111111, \"#46039f\"], [0.2222222222222222, \"#7201a8\"], [0.3333333333333333, \"#9c179e\"], [0.4444444444444444, \"#bd3786\"], [0.5555555555555556, \"#d8576b\"], [0.6666666666666666, \"#ed7953\"], [0.7777777777777778, \"#fb9f3a\"], [0.8888888888888888, \"#fdca26\"], [1.0, \"#f0f921\"]], \"type\": \"histogram2dcontour\"}], \"mesh3d\": [{\"colorbar\": {\"outlinewidth\": 0, \"ticks\": \"\"}, \"type\": \"mesh3d\"}], \"parcoords\": [{\"line\": {\"colorbar\": {\"outlinewidth\": 0, \"ticks\": \"\"}}, \"type\": \"parcoords\"}], \"pie\": [{\"automargin\": true, \"type\": \"pie\"}], \"scatter\": [{\"marker\": {\"colorbar\": {\"outlinewidth\": 0, \"ticks\": \"\"}}, \"type\": \"scatter\"}], \"scatter3d\": [{\"line\": {\"colorbar\": {\"outlinewidth\": 0, \"ticks\": \"\"}}, \"marker\": {\"colorbar\": {\"outlinewidth\": 0, \"ticks\": \"\"}}, \"type\": \"scatter3d\"}], \"scattercarpet\": [{\"marker\": {\"colorbar\": {\"outlinewidth\": 0, \"ticks\": \"\"}}, \"type\": \"scattercarpet\"}], \"scattergeo\": [{\"marker\": {\"colorbar\": {\"outlinewidth\": 0, \"ticks\": \"\"}}, \"type\": \"scattergeo\"}], \"scattergl\": [{\"marker\": {\"colorbar\": {\"outlinewidth\": 0, \"ticks\": \"\"}}, \"type\": \"scattergl\"}], \"scattermapbox\": [{\"marker\": {\"colorbar\": {\"outlinewidth\": 0, \"ticks\": \"\"}}, \"type\": \"scattermapbox\"}], \"scatterpolar\": [{\"marker\": {\"colorbar\": {\"outlinewidth\": 0, \"ticks\": \"\"}}, \"type\": \"scatterpolar\"}], \"scatterpolargl\": [{\"marker\": {\"colorbar\": {\"outlinewidth\": 0, \"ticks\": \"\"}}, \"type\": \"scatterpolargl\"}], \"scatterternary\": [{\"marker\": {\"colorbar\": {\"outlinewidth\": 0, \"ticks\": \"\"}}, \"type\": \"scatterternary\"}], \"surface\": [{\"colorbar\": {\"outlinewidth\": 0, \"ticks\": \"\"}, \"colorscale\": [[0.0, \"#0d0887\"], [0.1111111111111111, \"#46039f\"], [0.2222222222222222, \"#7201a8\"], [0.3333333333333333, \"#9c179e\"], [0.4444444444444444, \"#bd3786\"], [0.5555555555555556, \"#d8576b\"], [0.6666666666666666, \"#ed7953\"], [0.7777777777777778, \"#fb9f3a\"], [0.8888888888888888, \"#fdca26\"], [1.0, \"#f0f921\"]], \"type\": \"surface\"}], \"table\": [{\"cells\": {\"fill\": {\"color\": \"#EBF0F8\"}, \"line\": {\"color\": \"white\"}}, \"header\": {\"fill\": {\"color\": \"#C8D4E3\"}, \"line\": {\"color\": \"white\"}}, \"type\": \"table\"}]}, \"layout\": {\"annotationdefaults\": {\"arrowcolor\": \"#2a3f5f\", \"arrowhead\": 0, \"arrowwidth\": 1}, \"coloraxis\": {\"colorbar\": {\"outlinewidth\": 0, \"ticks\": \"\"}}, \"colorscale\": {\"diverging\": [[0, \"#8e0152\"], [0.1, \"#c51b7d\"], [0.2, \"#de77ae\"], [0.3, \"#f1b6da\"], [0.4, \"#fde0ef\"], [0.5, \"#f7f7f7\"], [0.6, \"#e6f5d0\"], [0.7, \"#b8e186\"], [0.8, \"#7fbc41\"], [0.9, \"#4d9221\"], [1, \"#276419\"]], \"sequential\": [[0.0, \"#0d0887\"], [0.1111111111111111, \"#46039f\"], [0.2222222222222222, \"#7201a8\"], [0.3333333333333333, \"#9c179e\"], [0.4444444444444444, \"#bd3786\"], [0.5555555555555556, \"#d8576b\"], [0.6666666666666666, \"#ed7953\"], [0.7777777777777778, \"#fb9f3a\"], [0.8888888888888888, \"#fdca26\"], [1.0, \"#f0f921\"]], \"sequentialminus\": [[0.0, \"#0d0887\"], [0.1111111111111111, \"#46039f\"], [0.2222222222222222, \"#7201a8\"], [0.3333333333333333, \"#9c179e\"], [0.4444444444444444, \"#bd3786\"], [0.5555555555555556, \"#d8576b\"], [0.6666666666666666, \"#ed7953\"], [0.7777777777777778, \"#fb9f3a\"], [0.8888888888888888, \"#fdca26\"], [1.0, \"#f0f921\"]]}, \"colorway\": [\"#636efa\", \"#EF553B\", \"#00cc96\", \"#ab63fa\", \"#FFA15A\", \"#19d3f3\", \"#FF6692\", \"#B6E880\", \"#FF97FF\", \"#FECB52\"], \"font\": {\"color\": \"#2a3f5f\"}, \"geo\": {\"bgcolor\": \"white\", \"lakecolor\": \"white\", \"landcolor\": \"#E5ECF6\", \"showlakes\": true, \"showland\": true, \"subunitcolor\": \"white\"}, \"hoverlabel\": {\"align\": \"left\"}, \"hovermode\": \"closest\", \"mapbox\": {\"style\": \"light\"}, \"paper_bgcolor\": \"white\", \"plot_bgcolor\": \"#E5ECF6\", \"polar\": {\"angularaxis\": {\"gridcolor\": \"white\", \"linecolor\": \"white\", \"ticks\": \"\"}, \"bgcolor\": \"#E5ECF6\", \"radialaxis\": {\"gridcolor\": \"white\", \"linecolor\": \"white\", \"ticks\": \"\"}}, \"scene\": {\"xaxis\": {\"backgroundcolor\": \"#E5ECF6\", \"gridcolor\": \"white\", \"gridwidth\": 2, \"linecolor\": \"white\", \"showbackground\": true, \"ticks\": \"\", \"zerolinecolor\": \"white\"}, \"yaxis\": {\"backgroundcolor\": \"#E5ECF6\", \"gridcolor\": \"white\", \"gridwidth\": 2, \"linecolor\": \"white\", \"showbackground\": true, \"ticks\": \"\", \"zerolinecolor\": \"white\"}, \"zaxis\": {\"backgroundcolor\": \"#E5ECF6\", \"gridcolor\": \"white\", \"gridwidth\": 2, \"linecolor\": \"white\", \"showbackground\": true, \"ticks\": \"\", \"zerolinecolor\": \"white\"}}, \"shapedefaults\": {\"line\": {\"color\": \"#2a3f5f\"}}, \"ternary\": {\"aaxis\": {\"gridcolor\": \"white\", \"linecolor\": \"white\", \"ticks\": \"\"}, \"baxis\": {\"gridcolor\": \"white\", \"linecolor\": \"white\", \"ticks\": \"\"}, \"bgcolor\": \"#E5ECF6\", \"caxis\": {\"gridcolor\": \"white\", \"linecolor\": \"white\", \"ticks\": \"\"}}, \"title\": {\"x\": 0.05}, \"xaxis\": {\"automargin\": true, \"gridcolor\": \"white\", \"linecolor\": \"white\", \"ticks\": \"\", \"title\": {\"standoff\": 15}, \"zerolinecolor\": \"white\", \"zerolinewidth\": 2}, \"yaxis\": {\"automargin\": true, \"gridcolor\": \"white\", \"linecolor\": \"white\", \"ticks\": \"\", \"title\": {\"standoff\": 15}, \"zerolinecolor\": \"white\", \"zerolinewidth\": 2}}}, \"title\": {\"text\": \"<b>Model performance report</b><br>Salary Predictor with BatchNorm and Pre-trained Embeddings (Glove Twitter 25) (Not-Freezed Weights)<br><br><br><br><br><br><br><br><br><br><br><br><br><br><br><br><br><br><br><br><br><br><br><br><b><i>Train Loss Stat Values:</i></b><br>Max: 75.93   Mean: 3.09   Min: 0.10   Median: 0.16   Var: 156.01<br><br><b><i>Mean Absolute Error Stat Values:</i></b><br>Max: 2.16   Mean: 0.26   Min: 0.10   Median: 0.15   Var: 0.14<br><br><b><i>Mean Mean Squared Error Stat Values:</i></b><br>Max: 18.67   Mean: 0.89   Min: 0.07   Median: 0.14   Var: 9.32\", \"x\": 0.5, \"xanchor\": \"center\", \"y\": 0.95, \"yanchor\": \"top\"}, \"width\": 900, \"xaxis\": {\"anchor\": \"y\", \"domain\": [0.0, 1.0]}, \"xaxis2\": {\"anchor\": \"y2\", \"domain\": [0.0, 1.0]}, \"yaxis\": {\"anchor\": \"x\", \"domain\": [0.625, 1.0], \"range\": [0, 1]}, \"yaxis2\": {\"anchor\": \"x2\", \"domain\": [0.0, 0.375], \"range\": [0, 1]}},                        {\"responsive\": true}                    ).then(function(){\n",
       "                            \n",
       "var gd = document.getElementById('6305ea4a-4579-4d7a-a312-d131f89d921d');\n",
       "var x = new MutationObserver(function (mutations, observer) {{\n",
       "        var display = window.getComputedStyle(gd).display;\n",
       "        if (!display || display === 'none') {{\n",
       "            console.log([gd, 'removed!']);\n",
       "            Plotly.purge(gd);\n",
       "            observer.disconnect();\n",
       "        }}\n",
       "}});\n",
       "\n",
       "// Listen for the removal of the full notebook cells\n",
       "var notebookContainer = gd.closest('#notebook-container');\n",
       "if (notebookContainer) {{\n",
       "    x.observe(notebookContainer, {childList: true});\n",
       "}}\n",
       "\n",
       "// Listen for the clearing of the current output cell\n",
       "var outputEl = gd.closest('.output');\n",
       "if (outputEl) {{\n",
       "    x.observe(outputEl, {childList: true});\n",
       "}}\n",
       "\n",
       "                        })                };                });            </script>        </div>"
      ]
     },
     "metadata": {},
     "output_type": "display_data"
    }
   ],
   "source": [
    "draw_loss_acc_plot('Salary Predictor with BatchNorm and Pre-trained Embeddings (Glove Twitter 25) (Not-Freezed Weights)', train_loss_8, list_mae_8, list_mse_8)"
   ]
  },
  {
   "cell_type": "code",
   "execution_count": 380,
   "metadata": {},
   "outputs": [
    {
     "name": "stdout",
     "output_type": "stream",
     "text": [
      "[==================================================] 100.0% 1662.8/1662.8MB downloaded\n"
     ]
    }
   ],
   "source": [
    "glove_vectors_2 = gensim.downloader.load('word2vec-google-news-300')\n"
   ]
  },
  {
   "cell_type": "code",
   "execution_count": 383,
   "metadata": {},
   "outputs": [],
   "source": [
    "weights_2 = torch.FloatTensor(glove_vectors_2.vectors)"
   ]
  },
  {
   "cell_type": "code",
   "execution_count": 384,
   "metadata": {},
   "outputs": [
    {
     "data": {
      "text/plain": [
       "torch.Size([3000000, 300])"
      ]
     },
     "execution_count": 384,
     "metadata": {},
     "output_type": "execute_result"
    }
   ],
   "source": [
    "weights_2.shape"
   ]
  },
  {
   "cell_type": "code",
   "execution_count": 385,
   "metadata": {},
   "outputs": [],
   "source": [
    "class SalaryPredictorwBatchNormPretrained1(nn.Module):\n",
    "    def __init__(self, n_tokens=len(tokens), n_cat_features=len(categorical_vectorizer.vocabulary_), hid_size=300):\n",
    "        super().__init__()\n",
    "        self.embedder = nn.Embedding.from_pretrained(weights_2, freeze=True)\n",
    "        self.title_encoder = nn.Sequential(\n",
    "            nn.Conv1d(hid_size, hid_size, kernel_size=2),\n",
    "            nn.Dropout(p=0.25),\n",
    "            nn.BatchNorm1d(hid_size),\n",
    "            nn.ReLU(),\n",
    "            nn.AdaptiveMaxPool1d(output_size=1)\n",
    "        )\n",
    "        self.description_encoder = nn.Sequential(\n",
    "            nn.Conv1d(hid_size, hid_size, kernel_size=2),\n",
    "            nn.Dropout(p=0.25),\n",
    "            nn.BatchNorm1d(hid_size),\n",
    "            nn.ReLU(),\n",
    "            nn.AdaptiveMaxPool1d(output_size=1)\n",
    "        )\n",
    "        self.categorical_encoder = nn.Sequential(\n",
    "            nn.Linear(n_cat_features, hid_size * 2),\n",
    "            nn.BatchNorm1d(hid_size * 2),\n",
    "            nn.ReLU(),\n",
    "            nn.Linear(hid_size * 2, hid_size * 2),\n",
    "            nn.ReLU()\n",
    "        )\n",
    "        self.final_predictor = nn.Sequential(\n",
    "            nn.Linear(hid_size * 4, hid_size),\n",
    "            nn.BatchNorm1d(hid_size),\n",
    "            nn.ReLU(),\n",
    "            nn.Linear(hid_size, 1)\n",
    "        )\n",
    "    \n",
    "    def forward(self, batch):\n",
    "        \n",
    "        title_embeddings = self.embedder(batch['Title']).permute(0, 2, 1)\n",
    "        title_features = self.title_encoder(title_embeddings).squeeze()\n",
    "\n",
    "        description_embeddings = self.embedder(batch['FullDescription']).permute(0, 2, 1)\n",
    "        description_features = self.description_encoder(description_embeddings).squeeze()\n",
    "\n",
    "        categorical_features = self.categorical_encoder(batch['Categorical'])\n",
    "\n",
    "        features = torch.cat(\n",
    "            [title_features, description_features, categorical_features], dim=1)\n",
    "        \n",
    "        return self.final_predictor(features).squeeze()"
   ]
  },
  {
   "cell_type": "code",
   "execution_count": 389,
   "metadata": {},
   "outputs": [
    {
     "name": "stdout",
     "output_type": "stream",
     "text": [
      "epoch: 0\n"
     ]
    },
    {
     "data": {
      "application/vnd.jupyter.widget-view+json": {
       "model_id": "f9e68ad72d2740a2bc289a2d82fb412a",
       "version_major": 2,
       "version_minor": 0
      },
      "text/plain": [
       "HBox(children=(FloatProgress(value=0.0, max=1721.0), HTML(value='')))"
      ]
     },
     "metadata": {},
     "output_type": "display_data"
    },
    {
     "name": "stdout",
     "output_type": "stream",
     "text": [
      "train_loss 1.185969591140747\n",
      "val results:\n",
      "Mean square error: 0.07679\n",
      "Mean absolute error: 0.10165\n",
      "train_loss 0.2072344422340393\n",
      "val results:\n",
      "Mean square error: 0.07957\n",
      "Mean absolute error: 0.11352\n",
      "train_loss 0.1443544328212738\n",
      "val results:\n",
      "Mean square error: 0.15336\n",
      "Mean absolute error: 0.16639\n",
      "train_loss 0.7369789481163025\n",
      "val results:\n",
      "Mean square error: 0.09192\n",
      "Mean absolute error: 0.12040\n",
      "train_loss 0.5817915201187134\n",
      "val results:\n",
      "Mean square error: 0.05187\n",
      "Mean absolute error: 0.08690\n",
      "train_loss 0.1487879753112793\n",
      "val results:\n",
      "Mean square error: 0.04352\n",
      "Mean absolute error: 0.08144\n",
      "train_loss 0.11296243220567703\n",
      "val results:\n",
      "Mean square error: 0.04156\n",
      "Mean absolute error: 0.07987\n",
      "train_loss 0.1808687299489975\n",
      "val results:\n",
      "Mean square error: 0.03328\n",
      "Mean absolute error: 0.07059\n",
      "train_loss 0.22629433870315552\n",
      "val results:\n",
      "Mean square error: 0.09778\n",
      "Mean absolute error: 0.13400\n",
      "train_loss 0.11295998841524124\n",
      "val results:\n",
      "Mean square error: 0.03748\n",
      "Mean absolute error: 0.07592\n",
      "train_loss 0.10098882764577866\n",
      "val results:\n",
      "Mean square error: 0.05775\n",
      "Mean absolute error: 0.09450\n",
      "train_loss 0.12906666100025177\n",
      "val results:\n",
      "Mean square error: 0.05663\n",
      "Mean absolute error: 0.09508\n",
      "train_loss 0.11645057052373886\n",
      "val results:\n",
      "Mean square error: 0.03731\n",
      "Mean absolute error: 0.07570\n",
      "train_loss 0.10315724462270737\n",
      "val results:\n",
      "Mean square error: 0.03036\n",
      "Mean absolute error: 0.06806\n",
      "train_loss 0.1437159776687622\n",
      "val results:\n",
      "Mean square error: 0.02789\n",
      "Mean absolute error: 0.06459\n",
      "train_loss 0.09211723506450653\n",
      "val results:\n",
      "Mean square error: 0.03068\n",
      "Mean absolute error: 0.06748\n",
      "train_loss 0.07884687185287476\n",
      "val results:\n",
      "Mean square error: 0.03321\n",
      "Mean absolute error: 0.07061\n",
      "\n",
      "epoch: 1\n"
     ]
    },
    {
     "data": {
      "application/vnd.jupyter.widget-view+json": {
       "model_id": "22cfa066664649458349e3e0fb6ae9f5",
       "version_major": 2,
       "version_minor": 0
      },
      "text/plain": [
       "HBox(children=(FloatProgress(value=0.0, max=1721.0), HTML(value='')))"
      ]
     },
     "metadata": {},
     "output_type": "display_data"
    },
    {
     "name": "stdout",
     "output_type": "stream",
     "text": [
      "train_loss 0.12720754742622375\n",
      "val results:\n",
      "Mean square error: 0.03105\n",
      "Mean absolute error: 0.06862\n",
      "train_loss 0.2665938436985016\n",
      "val results:\n",
      "Mean square error: 0.03374\n",
      "Mean absolute error: 0.07161\n",
      "train_loss 0.12553144991397858\n",
      "val results:\n",
      "Mean square error: 0.04332\n",
      "Mean absolute error: 0.08305\n",
      "train_loss 0.10694651305675507\n",
      "val results:\n",
      "Mean square error: 0.03041\n",
      "Mean absolute error: 0.06785\n",
      "train_loss 0.10140694677829742\n",
      "val results:\n",
      "Mean square error: 0.03161\n",
      "Mean absolute error: 0.06923\n",
      "train_loss 0.09398296475410461\n",
      "val results:\n",
      "Mean square error: 0.02772\n",
      "Mean absolute error: 0.06416\n",
      "train_loss 0.12429209798574448\n",
      "val results:\n",
      "Mean square error: 0.02749\n",
      "Mean absolute error: 0.06430\n",
      "train_loss 0.10639234632253647\n",
      "val results:\n",
      "Mean square error: 0.02949\n",
      "Mean absolute error: 0.06672\n",
      "train_loss 0.11649727821350098\n",
      "val results:\n",
      "Mean square error: 0.02965\n",
      "Mean absolute error: 0.06735\n",
      "train_loss 0.09038890153169632\n",
      "val results:\n",
      "Mean square error: 0.03955\n",
      "Mean absolute error: 0.07890\n",
      "train_loss 0.10646679997444153\n",
      "val results:\n",
      "Mean square error: 0.02891\n",
      "Mean absolute error: 0.06665\n",
      "train_loss 0.07641023397445679\n",
      "val results:\n",
      "Mean square error: 0.02589\n",
      "Mean absolute error: 0.06216\n",
      "train_loss 0.11001630872488022\n",
      "val results:\n",
      "Mean square error: 0.02397\n",
      "Mean absolute error: 0.05972\n",
      "train_loss 0.12450599670410156\n",
      "val results:\n",
      "Mean square error: 0.03879\n",
      "Mean absolute error: 0.07724\n",
      "train_loss 0.1227913573384285\n",
      "val results:\n",
      "Mean square error: 0.02631\n",
      "Mean absolute error: 0.06342\n",
      "train_loss 0.09387629479169846\n",
      "val results:\n",
      "Mean square error: 0.03479\n",
      "Mean absolute error: 0.07328\n",
      "train_loss 0.1143394485116005\n",
      "val results:\n",
      "Mean square error: 0.02469\n",
      "Mean absolute error: 0.06054\n",
      "\n",
      "epoch: 2\n"
     ]
    },
    {
     "data": {
      "application/vnd.jupyter.widget-view+json": {
       "model_id": "2478ea929cea450e85b1af2caff69ada",
       "version_major": 2,
       "version_minor": 0
      },
      "text/plain": [
       "HBox(children=(FloatProgress(value=0.0, max=1721.0), HTML(value='')))"
      ]
     },
     "metadata": {},
     "output_type": "display_data"
    },
    {
     "name": "stdout",
     "output_type": "stream",
     "text": [
      "train_loss 0.06215323880314827\n",
      "val results:\n",
      "Mean square error: 0.02491\n",
      "Mean absolute error: 0.06052\n",
      "train_loss 0.0851874053478241\n",
      "val results:\n",
      "Mean square error: 0.02712\n",
      "Mean absolute error: 0.06340\n",
      "train_loss 0.086212657392025\n",
      "val results:\n",
      "Mean square error: 0.02390\n",
      "Mean absolute error: 0.05977\n",
      "train_loss 0.07667021453380585\n",
      "val results:\n",
      "Mean square error: 0.02158\n",
      "Mean absolute error: 0.05622\n",
      "train_loss 0.09663384407758713\n",
      "val results:\n",
      "Mean square error: 0.02136\n",
      "Mean absolute error: 0.05559\n",
      "train_loss 0.0819629430770874\n",
      "val results:\n",
      "Mean square error: 0.02650\n",
      "Mean absolute error: 0.06303\n",
      "train_loss 0.08622412383556366\n",
      "val results:\n",
      "Mean square error: 0.02831\n",
      "Mean absolute error: 0.06571\n",
      "train_loss 0.06604547053575516\n",
      "val results:\n",
      "Mean square error: 0.02463\n",
      "Mean absolute error: 0.06084\n",
      "train_loss 0.08313257992267609\n",
      "val results:\n",
      "Mean square error: 0.02546\n",
      "Mean absolute error: 0.06237\n",
      "train_loss 0.07247070223093033\n",
      "val results:\n",
      "Mean square error: 0.02266\n",
      "Mean absolute error: 0.05803\n",
      "train_loss 0.07850656658411026\n",
      "val results:\n",
      "Mean square error: 0.02537\n",
      "Mean absolute error: 0.06244\n",
      "train_loss 0.0765259638428688\n",
      "val results:\n",
      "Mean square error: 0.02065\n",
      "Mean absolute error: 0.05429\n",
      "train_loss 0.07860884070396423\n",
      "val results:\n",
      "Mean square error: 0.02250\n",
      "Mean absolute error: 0.05742\n",
      "train_loss 0.10111243277788162\n",
      "val results:\n",
      "Mean square error: 0.02620\n",
      "Mean absolute error: 0.06375\n",
      "train_loss 0.07098464667797089\n",
      "val results:\n",
      "Mean square error: 0.03079\n",
      "Mean absolute error: 0.06813\n",
      "train_loss 0.07344996184110641\n",
      "val results:\n",
      "Mean square error: 0.02933\n",
      "Mean absolute error: 0.06813\n",
      "train_loss 0.08668635785579681\n",
      "val results:\n",
      "Mean square error: 0.03358\n",
      "Mean absolute error: 0.07246\n",
      "\n"
     ]
    }
   ],
   "source": [
    "model = SalaryPredictorwBatchNormPretrained1().to(DEVICE)\n",
    "criterion = nn.MSELoss(reduction='mean')\n",
    "optimizer = torch.optim.Adam(model.parameters(), lr=1e-3)\n",
    "list_mse_9 = []\n",
    "list_mae_9 = []\n",
    "train_loss_9 = []\n",
    "\n",
    "for epoch in range(EPOCHS):\n",
    "    print(f\"epoch: {epoch}\")\n",
    "    for i, batch in tqdm.notebook.tqdm(enumerate(\n",
    "            iterate_minibatches(\n",
    "                    data_train, \n",
    "                    batch_size=BATCH_SIZE, \n",
    "                    device=DEVICE)), \n",
    "                total=len(data_train) // BATCH_SIZE\n",
    "        ):\n",
    "        model.train()        pred = model(batch)\n",
    "        optimizer.zero_grad()\n",
    "        loss = criterion(pred, batch[TARGET_COLUMN])\n",
    "        loss.backward()\n",
    "        optimizer.step()\n",
    "\n",
    "        if i % 100 == 99:\n",
    "            print('train_loss', loss.item())\n",
    "            train_loss_9.append(loss.item())\n",
    "            print_metrics(model, data_val, list_mse=list_mse_9, list_mae=list_mae_9, \n",
    "                          name='val', batch_size=BATCH_SIZE, device=DEVICE)"
   ]
  },
  {
   "cell_type": "code",
   "execution_count": 390,
   "metadata": {
    "scrolled": false
   },
   "outputs": [
    {
     "data": {
      "application/vnd.plotly.v1+json": {
       "config": {
        "linkText": "Export to plot.ly",
        "plotlyServerURL": "https://plot.ly",
        "showLink": false
       },
       "data": [
        {
         "mode": "lines",
         "name": "Train Loss",
         "showlegend": false,
         "type": "scatter",
         "x": [
          0,
          1,
          2,
          3,
          4,
          5,
          6,
          7,
          8,
          9,
          10,
          11,
          12,
          13,
          14,
          15,
          16,
          17,
          18,
          19,
          20,
          21,
          22,
          23,
          24,
          25,
          26,
          27,
          28,
          29,
          30,
          31,
          32,
          33,
          34,
          35,
          36,
          37,
          38,
          39,
          40,
          41,
          42,
          43,
          44,
          45,
          46,
          47,
          48,
          49,
          50
         ],
         "xaxis": "x",
         "y": [
          1.185969591140747,
          0.2072344422340393,
          0.1443544328212738,
          0.7369789481163025,
          0.5817915201187134,
          0.1487879753112793,
          0.11296243220567703,
          0.1808687299489975,
          0.22629433870315552,
          0.11295998841524124,
          0.10098882764577866,
          0.12906666100025177,
          0.11645057052373886,
          0.10315724462270737,
          0.1437159776687622,
          0.09211723506450653,
          0.07884687185287476,
          0.12720754742622375,
          0.2665938436985016,
          0.12553144991397858,
          0.10694651305675507,
          0.10140694677829742,
          0.09398296475410461,
          0.12429209798574448,
          0.10639234632253647,
          0.11649727821350098,
          0.09038890153169632,
          0.10646679997444153,
          0.07641023397445679,
          0.11001630872488022,
          0.12450599670410156,
          0.1227913573384285,
          0.09387629479169846,
          0.1143394485116005,
          0.06215323880314827,
          0.0851874053478241,
          0.086212657392025,
          0.07667021453380585,
          0.09663384407758713,
          0.0819629430770874,
          0.08622412383556366,
          0.06604547053575516,
          0.08313257992267609,
          0.07247070223093033,
          0.07850656658411026,
          0.0765259638428688,
          0.07860884070396423,
          0.10111243277788162,
          0.07098464667797089,
          0.07344996184110641,
          0.08668635785579681
         ],
         "yaxis": "y"
        },
        {
         "mode": "lines",
         "name": "MAE",
         "type": "scatter",
         "x": [
          0,
          1,
          2,
          3,
          4,
          5,
          6,
          7,
          8,
          9,
          10,
          11,
          12,
          13,
          14,
          15,
          16,
          17,
          18,
          19,
          20,
          21,
          22,
          23,
          24,
          25,
          26,
          27,
          28,
          29,
          30,
          31,
          32,
          33,
          34,
          35,
          36,
          37,
          38,
          39,
          40,
          41,
          42,
          43,
          44,
          45,
          46,
          47,
          48,
          49,
          50
         ],
         "xaxis": "x2",
         "y": [
          0.10165330767631531,
          0.1135207215944926,
          0.16638835271199545,
          0.12039778629938762,
          0.08690342307090759,
          0.08143855631351471,
          0.07987377047538757,
          0.07058555881182353,
          0.13400185108184814,
          0.07591975231965382,
          0.09449662764867146,
          0.09507566690444946,
          0.07570145030816396,
          0.06805849572022755,
          0.0645868827899297,
          0.06747629245122273,
          0.07061296701431274,
          0.0686205526192983,
          0.07160504659016927,
          0.08304521441459656,
          0.06785400708516438,
          0.06922792394955952,
          0.06416267653306325,
          0.06430038809776306,
          0.066716268658638,
          0.06734590729077657,
          0.07890292008717854,
          0.06664629280567169,
          0.06216118733088175,
          0.059717377026875816,
          0.07723643879095714,
          0.06342314680417378,
          0.07328410943349202,
          0.06054141620794932,
          0.06051739056905111,
          0.06339939435323079,
          0.05977478623390198,
          0.05622124175230662,
          0.05559245745340983,
          0.06303104758262634,
          0.06570628782113393,
          0.060840725898742676,
          0.06237151722113291,
          0.05802906056245168,
          0.06244237224260966,
          0.054291486740112305,
          0.05741545061270396,
          0.06375206013520558,
          0.06812560558319092,
          0.06813325484593709,
          0.07245609164237976
         ],
         "yaxis": "y2"
        },
        {
         "mode": "lines",
         "name": "MSE",
         "type": "scatter",
         "x": [
          0,
          1,
          2,
          3,
          4,
          5,
          6,
          7,
          8,
          9,
          10,
          11,
          12,
          13,
          14,
          15,
          16,
          17,
          18,
          19,
          20,
          21,
          22,
          23,
          24,
          25,
          26,
          27,
          28,
          29,
          30,
          31,
          32,
          33,
          34,
          35,
          36,
          37,
          38,
          39,
          40,
          41,
          42,
          43,
          44,
          45,
          46,
          47,
          48,
          49,
          50
         ],
         "xaxis": "x2",
         "y": [
          0.07678804298241933,
          0.07956503331661224,
          0.15336119135220846,
          0.09191912412643433,
          0.05187473694483439,
          0.04351704319318136,
          0.041560898224512734,
          0.03327637414137522,
          0.09777792294820149,
          0.03748049338658651,
          0.05775132278601328,
          0.05662735799948374,
          0.037308509151140846,
          0.030355508128801983,
          0.02789373944203059,
          0.030676953494548798,
          0.03321382155021032,
          0.031046539545059204,
          0.033736112217108406,
          0.043320462107658386,
          0.030408541361490887,
          0.031614355742931366,
          0.02771993726491928,
          0.027492714424928028,
          0.029493885735670727,
          0.02964864671230316,
          0.03954696158568064,
          0.028913944959640503,
          0.025890325506528217,
          0.023969543476899464,
          0.038787717620531716,
          0.02631124605735143,
          0.034794444839159645,
          0.024692003925641377,
          0.02490846316019694,
          0.027120038866996765,
          0.023904097576936085,
          0.0215785950422287,
          0.02136036256949107,
          0.026504936317602795,
          0.02831055720647176,
          0.024626183013121288,
          0.025459863245487213,
          0.02265614519516627,
          0.025367197891076405,
          0.020647592842578888,
          0.022497497498989105,
          0.026202112436294556,
          0.030787994464238484,
          0.029325619339942932,
          0.03358228256305059
         ],
         "yaxis": "y2"
        }
       ],
       "layout": {
        "annotations": [
         {
          "font": {
           "size": 16
          },
          "showarrow": false,
          "text": "<b>Train Loss</b>",
          "x": 0.5,
          "xanchor": "center",
          "xref": "paper",
          "y": 1,
          "yanchor": "bottom",
          "yref": "paper"
         },
         {
          "font": {
           "size": 16
          },
          "showarrow": false,
          "text": "<b>Test Metrics</b>",
          "x": 0.5,
          "xanchor": "center",
          "xref": "paper",
          "y": 0.375,
          "yanchor": "bottom",
          "yref": "paper"
         }
        ],
        "autosize": false,
        "height": 780,
        "legend": {
         "x": 1,
         "y": 0.15
        },
        "margin": {
         "b": 270
        },
        "paper_bgcolor": "rgba(240, 240, 240, 0.95)",
        "plot_bgcolor": "rgba(240, 240, 240, 0.95)",
        "template": {
         "data": {
          "bar": [
           {
            "error_x": {
             "color": "#2a3f5f"
            },
            "error_y": {
             "color": "#2a3f5f"
            },
            "marker": {
             "line": {
              "color": "#E5ECF6",
              "width": 0.5
             }
            },
            "type": "bar"
           }
          ],
          "barpolar": [
           {
            "marker": {
             "line": {
              "color": "#E5ECF6",
              "width": 0.5
             }
            },
            "type": "barpolar"
           }
          ],
          "carpet": [
           {
            "aaxis": {
             "endlinecolor": "#2a3f5f",
             "gridcolor": "white",
             "linecolor": "white",
             "minorgridcolor": "white",
             "startlinecolor": "#2a3f5f"
            },
            "baxis": {
             "endlinecolor": "#2a3f5f",
             "gridcolor": "white",
             "linecolor": "white",
             "minorgridcolor": "white",
             "startlinecolor": "#2a3f5f"
            },
            "type": "carpet"
           }
          ],
          "choropleth": [
           {
            "colorbar": {
             "outlinewidth": 0,
             "ticks": ""
            },
            "type": "choropleth"
           }
          ],
          "contour": [
           {
            "colorbar": {
             "outlinewidth": 0,
             "ticks": ""
            },
            "colorscale": [
             [
              0,
              "#0d0887"
             ],
             [
              0.1111111111111111,
              "#46039f"
             ],
             [
              0.2222222222222222,
              "#7201a8"
             ],
             [
              0.3333333333333333,
              "#9c179e"
             ],
             [
              0.4444444444444444,
              "#bd3786"
             ],
             [
              0.5555555555555556,
              "#d8576b"
             ],
             [
              0.6666666666666666,
              "#ed7953"
             ],
             [
              0.7777777777777778,
              "#fb9f3a"
             ],
             [
              0.8888888888888888,
              "#fdca26"
             ],
             [
              1,
              "#f0f921"
             ]
            ],
            "type": "contour"
           }
          ],
          "contourcarpet": [
           {
            "colorbar": {
             "outlinewidth": 0,
             "ticks": ""
            },
            "type": "contourcarpet"
           }
          ],
          "heatmap": [
           {
            "colorbar": {
             "outlinewidth": 0,
             "ticks": ""
            },
            "colorscale": [
             [
              0,
              "#0d0887"
             ],
             [
              0.1111111111111111,
              "#46039f"
             ],
             [
              0.2222222222222222,
              "#7201a8"
             ],
             [
              0.3333333333333333,
              "#9c179e"
             ],
             [
              0.4444444444444444,
              "#bd3786"
             ],
             [
              0.5555555555555556,
              "#d8576b"
             ],
             [
              0.6666666666666666,
              "#ed7953"
             ],
             [
              0.7777777777777778,
              "#fb9f3a"
             ],
             [
              0.8888888888888888,
              "#fdca26"
             ],
             [
              1,
              "#f0f921"
             ]
            ],
            "type": "heatmap"
           }
          ],
          "heatmapgl": [
           {
            "colorbar": {
             "outlinewidth": 0,
             "ticks": ""
            },
            "colorscale": [
             [
              0,
              "#0d0887"
             ],
             [
              0.1111111111111111,
              "#46039f"
             ],
             [
              0.2222222222222222,
              "#7201a8"
             ],
             [
              0.3333333333333333,
              "#9c179e"
             ],
             [
              0.4444444444444444,
              "#bd3786"
             ],
             [
              0.5555555555555556,
              "#d8576b"
             ],
             [
              0.6666666666666666,
              "#ed7953"
             ],
             [
              0.7777777777777778,
              "#fb9f3a"
             ],
             [
              0.8888888888888888,
              "#fdca26"
             ],
             [
              1,
              "#f0f921"
             ]
            ],
            "type": "heatmapgl"
           }
          ],
          "histogram": [
           {
            "marker": {
             "colorbar": {
              "outlinewidth": 0,
              "ticks": ""
             }
            },
            "type": "histogram"
           }
          ],
          "histogram2d": [
           {
            "colorbar": {
             "outlinewidth": 0,
             "ticks": ""
            },
            "colorscale": [
             [
              0,
              "#0d0887"
             ],
             [
              0.1111111111111111,
              "#46039f"
             ],
             [
              0.2222222222222222,
              "#7201a8"
             ],
             [
              0.3333333333333333,
              "#9c179e"
             ],
             [
              0.4444444444444444,
              "#bd3786"
             ],
             [
              0.5555555555555556,
              "#d8576b"
             ],
             [
              0.6666666666666666,
              "#ed7953"
             ],
             [
              0.7777777777777778,
              "#fb9f3a"
             ],
             [
              0.8888888888888888,
              "#fdca26"
             ],
             [
              1,
              "#f0f921"
             ]
            ],
            "type": "histogram2d"
           }
          ],
          "histogram2dcontour": [
           {
            "colorbar": {
             "outlinewidth": 0,
             "ticks": ""
            },
            "colorscale": [
             [
              0,
              "#0d0887"
             ],
             [
              0.1111111111111111,
              "#46039f"
             ],
             [
              0.2222222222222222,
              "#7201a8"
             ],
             [
              0.3333333333333333,
              "#9c179e"
             ],
             [
              0.4444444444444444,
              "#bd3786"
             ],
             [
              0.5555555555555556,
              "#d8576b"
             ],
             [
              0.6666666666666666,
              "#ed7953"
             ],
             [
              0.7777777777777778,
              "#fb9f3a"
             ],
             [
              0.8888888888888888,
              "#fdca26"
             ],
             [
              1,
              "#f0f921"
             ]
            ],
            "type": "histogram2dcontour"
           }
          ],
          "mesh3d": [
           {
            "colorbar": {
             "outlinewidth": 0,
             "ticks": ""
            },
            "type": "mesh3d"
           }
          ],
          "parcoords": [
           {
            "line": {
             "colorbar": {
              "outlinewidth": 0,
              "ticks": ""
             }
            },
            "type": "parcoords"
           }
          ],
          "pie": [
           {
            "automargin": true,
            "type": "pie"
           }
          ],
          "scatter": [
           {
            "marker": {
             "colorbar": {
              "outlinewidth": 0,
              "ticks": ""
             }
            },
            "type": "scatter"
           }
          ],
          "scatter3d": [
           {
            "line": {
             "colorbar": {
              "outlinewidth": 0,
              "ticks": ""
             }
            },
            "marker": {
             "colorbar": {
              "outlinewidth": 0,
              "ticks": ""
             }
            },
            "type": "scatter3d"
           }
          ],
          "scattercarpet": [
           {
            "marker": {
             "colorbar": {
              "outlinewidth": 0,
              "ticks": ""
             }
            },
            "type": "scattercarpet"
           }
          ],
          "scattergeo": [
           {
            "marker": {
             "colorbar": {
              "outlinewidth": 0,
              "ticks": ""
             }
            },
            "type": "scattergeo"
           }
          ],
          "scattergl": [
           {
            "marker": {
             "colorbar": {
              "outlinewidth": 0,
              "ticks": ""
             }
            },
            "type": "scattergl"
           }
          ],
          "scattermapbox": [
           {
            "marker": {
             "colorbar": {
              "outlinewidth": 0,
              "ticks": ""
             }
            },
            "type": "scattermapbox"
           }
          ],
          "scatterpolar": [
           {
            "marker": {
             "colorbar": {
              "outlinewidth": 0,
              "ticks": ""
             }
            },
            "type": "scatterpolar"
           }
          ],
          "scatterpolargl": [
           {
            "marker": {
             "colorbar": {
              "outlinewidth": 0,
              "ticks": ""
             }
            },
            "type": "scatterpolargl"
           }
          ],
          "scatterternary": [
           {
            "marker": {
             "colorbar": {
              "outlinewidth": 0,
              "ticks": ""
             }
            },
            "type": "scatterternary"
           }
          ],
          "surface": [
           {
            "colorbar": {
             "outlinewidth": 0,
             "ticks": ""
            },
            "colorscale": [
             [
              0,
              "#0d0887"
             ],
             [
              0.1111111111111111,
              "#46039f"
             ],
             [
              0.2222222222222222,
              "#7201a8"
             ],
             [
              0.3333333333333333,
              "#9c179e"
             ],
             [
              0.4444444444444444,
              "#bd3786"
             ],
             [
              0.5555555555555556,
              "#d8576b"
             ],
             [
              0.6666666666666666,
              "#ed7953"
             ],
             [
              0.7777777777777778,
              "#fb9f3a"
             ],
             [
              0.8888888888888888,
              "#fdca26"
             ],
             [
              1,
              "#f0f921"
             ]
            ],
            "type": "surface"
           }
          ],
          "table": [
           {
            "cells": {
             "fill": {
              "color": "#EBF0F8"
             },
             "line": {
              "color": "white"
             }
            },
            "header": {
             "fill": {
              "color": "#C8D4E3"
             },
             "line": {
              "color": "white"
             }
            },
            "type": "table"
           }
          ]
         },
         "layout": {
          "annotationdefaults": {
           "arrowcolor": "#2a3f5f",
           "arrowhead": 0,
           "arrowwidth": 1
          },
          "coloraxis": {
           "colorbar": {
            "outlinewidth": 0,
            "ticks": ""
           }
          },
          "colorscale": {
           "diverging": [
            [
             0,
             "#8e0152"
            ],
            [
             0.1,
             "#c51b7d"
            ],
            [
             0.2,
             "#de77ae"
            ],
            [
             0.3,
             "#f1b6da"
            ],
            [
             0.4,
             "#fde0ef"
            ],
            [
             0.5,
             "#f7f7f7"
            ],
            [
             0.6,
             "#e6f5d0"
            ],
            [
             0.7,
             "#b8e186"
            ],
            [
             0.8,
             "#7fbc41"
            ],
            [
             0.9,
             "#4d9221"
            ],
            [
             1,
             "#276419"
            ]
           ],
           "sequential": [
            [
             0,
             "#0d0887"
            ],
            [
             0.1111111111111111,
             "#46039f"
            ],
            [
             0.2222222222222222,
             "#7201a8"
            ],
            [
             0.3333333333333333,
             "#9c179e"
            ],
            [
             0.4444444444444444,
             "#bd3786"
            ],
            [
             0.5555555555555556,
             "#d8576b"
            ],
            [
             0.6666666666666666,
             "#ed7953"
            ],
            [
             0.7777777777777778,
             "#fb9f3a"
            ],
            [
             0.8888888888888888,
             "#fdca26"
            ],
            [
             1,
             "#f0f921"
            ]
           ],
           "sequentialminus": [
            [
             0,
             "#0d0887"
            ],
            [
             0.1111111111111111,
             "#46039f"
            ],
            [
             0.2222222222222222,
             "#7201a8"
            ],
            [
             0.3333333333333333,
             "#9c179e"
            ],
            [
             0.4444444444444444,
             "#bd3786"
            ],
            [
             0.5555555555555556,
             "#d8576b"
            ],
            [
             0.6666666666666666,
             "#ed7953"
            ],
            [
             0.7777777777777778,
             "#fb9f3a"
            ],
            [
             0.8888888888888888,
             "#fdca26"
            ],
            [
             1,
             "#f0f921"
            ]
           ]
          },
          "colorway": [
           "#636efa",
           "#EF553B",
           "#00cc96",
           "#ab63fa",
           "#FFA15A",
           "#19d3f3",
           "#FF6692",
           "#B6E880",
           "#FF97FF",
           "#FECB52"
          ],
          "font": {
           "color": "#2a3f5f"
          },
          "geo": {
           "bgcolor": "white",
           "lakecolor": "white",
           "landcolor": "#E5ECF6",
           "showlakes": true,
           "showland": true,
           "subunitcolor": "white"
          },
          "hoverlabel": {
           "align": "left"
          },
          "hovermode": "closest",
          "mapbox": {
           "style": "light"
          },
          "paper_bgcolor": "white",
          "plot_bgcolor": "#E5ECF6",
          "polar": {
           "angularaxis": {
            "gridcolor": "white",
            "linecolor": "white",
            "ticks": ""
           },
           "bgcolor": "#E5ECF6",
           "radialaxis": {
            "gridcolor": "white",
            "linecolor": "white",
            "ticks": ""
           }
          },
          "scene": {
           "xaxis": {
            "backgroundcolor": "#E5ECF6",
            "gridcolor": "white",
            "gridwidth": 2,
            "linecolor": "white",
            "showbackground": true,
            "ticks": "",
            "zerolinecolor": "white"
           },
           "yaxis": {
            "backgroundcolor": "#E5ECF6",
            "gridcolor": "white",
            "gridwidth": 2,
            "linecolor": "white",
            "showbackground": true,
            "ticks": "",
            "zerolinecolor": "white"
           },
           "zaxis": {
            "backgroundcolor": "#E5ECF6",
            "gridcolor": "white",
            "gridwidth": 2,
            "linecolor": "white",
            "showbackground": true,
            "ticks": "",
            "zerolinecolor": "white"
           }
          },
          "shapedefaults": {
           "line": {
            "color": "#2a3f5f"
           }
          },
          "ternary": {
           "aaxis": {
            "gridcolor": "white",
            "linecolor": "white",
            "ticks": ""
           },
           "baxis": {
            "gridcolor": "white",
            "linecolor": "white",
            "ticks": ""
           },
           "bgcolor": "#E5ECF6",
           "caxis": {
            "gridcolor": "white",
            "linecolor": "white",
            "ticks": ""
           }
          },
          "title": {
           "x": 0.05
          },
          "xaxis": {
           "automargin": true,
           "gridcolor": "white",
           "linecolor": "white",
           "ticks": "",
           "title": {
            "standoff": 15
           },
           "zerolinecolor": "white",
           "zerolinewidth": 2
          },
          "yaxis": {
           "automargin": true,
           "gridcolor": "white",
           "linecolor": "white",
           "ticks": "",
           "title": {
            "standoff": 15
           },
           "zerolinecolor": "white",
           "zerolinewidth": 2
          }
         }
        },
        "title": {
         "text": "<b>Model performance report</b><br>Salary Predictor with BatchNorm and Pre-trained Embeddings (Word2vec Google News 300) (Freezed Weights)<br><br><br><br><br><br><br><br><br><br><br><br><br><br><br><br><br><br><br><br><br><br><br><br><b><i>Train Loss Stat Values:</i></b><br>Max: 1.19   Mean: 0.15   Min: 0.06   Median: 0.10   Var: 0.03<br><br><b><i>Mean Absolute Error Stat Values:</i></b><br>Max: 0.17   Mean: 0.07   Min: 0.05   Median: 0.07   Var: 0.00<br><br><b><i>Mean Mean Squared Error Stat Values:</i></b><br>Max: 0.15   Mean: 0.04   Min: 0.02   Median: 0.03   Var: 0.00",
         "x": 0.5,
         "xanchor": "center",
         "y": 0.95,
         "yanchor": "top"
        },
        "width": 900,
        "xaxis": {
         "anchor": "y",
         "domain": [
          0,
          1
         ]
        },
        "xaxis2": {
         "anchor": "y2",
         "domain": [
          0,
          1
         ]
        },
        "yaxis": {
         "anchor": "x",
         "domain": [
          0.625,
          1
         ],
         "range": [
          0,
          1
         ]
        },
        "yaxis2": {
         "anchor": "x2",
         "domain": [
          0,
          0.375
         ],
         "range": [
          0,
          1
         ]
        }
       }
      },
      "text/html": [
       "<div>                            <div id=\"2c3429e0-7a43-4e24-a195-f769425d2f35\" class=\"plotly-graph-div\" style=\"height:780px; width:900px;\"></div>            <script type=\"text/javascript\">                require([\"plotly\"], function(Plotly) {                    window.PLOTLYENV=window.PLOTLYENV || {};                                    if (document.getElementById(\"2c3429e0-7a43-4e24-a195-f769425d2f35\")) {                    Plotly.newPlot(                        \"2c3429e0-7a43-4e24-a195-f769425d2f35\",                        [{\"mode\": \"lines\", \"name\": \"Train Loss\", \"showlegend\": false, \"type\": \"scatter\", \"x\": [0, 1, 2, 3, 4, 5, 6, 7, 8, 9, 10, 11, 12, 13, 14, 15, 16, 17, 18, 19, 20, 21, 22, 23, 24, 25, 26, 27, 28, 29, 30, 31, 32, 33, 34, 35, 36, 37, 38, 39, 40, 41, 42, 43, 44, 45, 46, 47, 48, 49, 50], \"xaxis\": \"x\", \"y\": [1.185969591140747, 0.2072344422340393, 0.1443544328212738, 0.7369789481163025, 0.5817915201187134, 0.1487879753112793, 0.11296243220567703, 0.1808687299489975, 0.22629433870315552, 0.11295998841524124, 0.10098882764577866, 0.12906666100025177, 0.11645057052373886, 0.10315724462270737, 0.1437159776687622, 0.09211723506450653, 0.07884687185287476, 0.12720754742622375, 0.2665938436985016, 0.12553144991397858, 0.10694651305675507, 0.10140694677829742, 0.09398296475410461, 0.12429209798574448, 0.10639234632253647, 0.11649727821350098, 0.09038890153169632, 0.10646679997444153, 0.07641023397445679, 0.11001630872488022, 0.12450599670410156, 0.1227913573384285, 0.09387629479169846, 0.1143394485116005, 0.06215323880314827, 0.0851874053478241, 0.086212657392025, 0.07667021453380585, 0.09663384407758713, 0.0819629430770874, 0.08622412383556366, 0.06604547053575516, 0.08313257992267609, 0.07247070223093033, 0.07850656658411026, 0.0765259638428688, 0.07860884070396423, 0.10111243277788162, 0.07098464667797089, 0.07344996184110641, 0.08668635785579681], \"yaxis\": \"y\"}, {\"mode\": \"lines\", \"name\": \"MAE\", \"type\": \"scatter\", \"x\": [0, 1, 2, 3, 4, 5, 6, 7, 8, 9, 10, 11, 12, 13, 14, 15, 16, 17, 18, 19, 20, 21, 22, 23, 24, 25, 26, 27, 28, 29, 30, 31, 32, 33, 34, 35, 36, 37, 38, 39, 40, 41, 42, 43, 44, 45, 46, 47, 48, 49, 50], \"xaxis\": \"x2\", \"y\": [0.10165330767631531, 0.1135207215944926, 0.16638835271199545, 0.12039778629938762, 0.08690342307090759, 0.08143855631351471, 0.07987377047538757, 0.07058555881182353, 0.13400185108184814, 0.07591975231965382, 0.09449662764867146, 0.09507566690444946, 0.07570145030816396, 0.06805849572022755, 0.0645868827899297, 0.06747629245122273, 0.07061296701431274, 0.0686205526192983, 0.07160504659016927, 0.08304521441459656, 0.06785400708516438, 0.06922792394955952, 0.06416267653306325, 0.06430038809776306, 0.066716268658638, 0.06734590729077657, 0.07890292008717854, 0.06664629280567169, 0.06216118733088175, 0.059717377026875816, 0.07723643879095714, 0.06342314680417378, 0.07328410943349202, 0.06054141620794932, 0.06051739056905111, 0.06339939435323079, 0.05977478623390198, 0.05622124175230662, 0.05559245745340983, 0.06303104758262634, 0.06570628782113393, 0.060840725898742676, 0.06237151722113291, 0.05802906056245168, 0.06244237224260966, 0.054291486740112305, 0.05741545061270396, 0.06375206013520558, 0.06812560558319092, 0.06813325484593709, 0.07245609164237976], \"yaxis\": \"y2\"}, {\"mode\": \"lines\", \"name\": \"MSE\", \"type\": \"scatter\", \"x\": [0, 1, 2, 3, 4, 5, 6, 7, 8, 9, 10, 11, 12, 13, 14, 15, 16, 17, 18, 19, 20, 21, 22, 23, 24, 25, 26, 27, 28, 29, 30, 31, 32, 33, 34, 35, 36, 37, 38, 39, 40, 41, 42, 43, 44, 45, 46, 47, 48, 49, 50], \"xaxis\": \"x2\", \"y\": [0.07678804298241933, 0.07956503331661224, 0.15336119135220846, 0.09191912412643433, 0.05187473694483439, 0.04351704319318136, 0.041560898224512734, 0.03327637414137522, 0.09777792294820149, 0.03748049338658651, 0.05775132278601328, 0.05662735799948374, 0.037308509151140846, 0.030355508128801983, 0.02789373944203059, 0.030676953494548798, 0.03321382155021032, 0.031046539545059204, 0.033736112217108406, 0.043320462107658386, 0.030408541361490887, 0.031614355742931366, 0.02771993726491928, 0.027492714424928028, 0.029493885735670727, 0.02964864671230316, 0.03954696158568064, 0.028913944959640503, 0.025890325506528217, 0.023969543476899464, 0.038787717620531716, 0.02631124605735143, 0.034794444839159645, 0.024692003925641377, 0.02490846316019694, 0.027120038866996765, 0.023904097576936085, 0.0215785950422287, 0.02136036256949107, 0.026504936317602795, 0.02831055720647176, 0.024626183013121288, 0.025459863245487213, 0.02265614519516627, 0.025367197891076405, 0.020647592842578888, 0.022497497498989105, 0.026202112436294556, 0.030787994464238484, 0.029325619339942932, 0.03358228256305059], \"yaxis\": \"y2\"}],                        {\"annotations\": [{\"font\": {\"size\": 16}, \"showarrow\": false, \"text\": \"<b>Train Loss</b>\", \"x\": 0.5, \"xanchor\": \"center\", \"xref\": \"paper\", \"y\": 1.0, \"yanchor\": \"bottom\", \"yref\": \"paper\"}, {\"font\": {\"size\": 16}, \"showarrow\": false, \"text\": \"<b>Test Metrics</b>\", \"x\": 0.5, \"xanchor\": \"center\", \"xref\": \"paper\", \"y\": 0.375, \"yanchor\": \"bottom\", \"yref\": \"paper\"}], \"autosize\": false, \"height\": 780, \"legend\": {\"x\": 1, \"y\": 0.15}, \"margin\": {\"b\": 270}, \"paper_bgcolor\": \"rgba(240, 240, 240, 0.95)\", \"plot_bgcolor\": \"rgba(240, 240, 240, 0.95)\", \"template\": {\"data\": {\"bar\": [{\"error_x\": {\"color\": \"#2a3f5f\"}, \"error_y\": {\"color\": \"#2a3f5f\"}, \"marker\": {\"line\": {\"color\": \"#E5ECF6\", \"width\": 0.5}}, \"type\": \"bar\"}], \"barpolar\": [{\"marker\": {\"line\": {\"color\": \"#E5ECF6\", \"width\": 0.5}}, \"type\": \"barpolar\"}], \"carpet\": [{\"aaxis\": {\"endlinecolor\": \"#2a3f5f\", \"gridcolor\": \"white\", \"linecolor\": \"white\", \"minorgridcolor\": \"white\", \"startlinecolor\": \"#2a3f5f\"}, \"baxis\": {\"endlinecolor\": \"#2a3f5f\", \"gridcolor\": \"white\", \"linecolor\": \"white\", \"minorgridcolor\": \"white\", \"startlinecolor\": \"#2a3f5f\"}, \"type\": \"carpet\"}], \"choropleth\": [{\"colorbar\": {\"outlinewidth\": 0, \"ticks\": \"\"}, \"type\": \"choropleth\"}], \"contour\": [{\"colorbar\": {\"outlinewidth\": 0, \"ticks\": \"\"}, \"colorscale\": [[0.0, \"#0d0887\"], [0.1111111111111111, \"#46039f\"], [0.2222222222222222, \"#7201a8\"], [0.3333333333333333, \"#9c179e\"], [0.4444444444444444, \"#bd3786\"], [0.5555555555555556, \"#d8576b\"], [0.6666666666666666, \"#ed7953\"], [0.7777777777777778, \"#fb9f3a\"], [0.8888888888888888, \"#fdca26\"], [1.0, \"#f0f921\"]], \"type\": \"contour\"}], \"contourcarpet\": [{\"colorbar\": {\"outlinewidth\": 0, \"ticks\": \"\"}, \"type\": \"contourcarpet\"}], \"heatmap\": [{\"colorbar\": {\"outlinewidth\": 0, \"ticks\": \"\"}, \"colorscale\": [[0.0, \"#0d0887\"], [0.1111111111111111, \"#46039f\"], [0.2222222222222222, \"#7201a8\"], [0.3333333333333333, \"#9c179e\"], [0.4444444444444444, \"#bd3786\"], [0.5555555555555556, \"#d8576b\"], [0.6666666666666666, \"#ed7953\"], [0.7777777777777778, \"#fb9f3a\"], [0.8888888888888888, \"#fdca26\"], [1.0, \"#f0f921\"]], \"type\": \"heatmap\"}], \"heatmapgl\": [{\"colorbar\": {\"outlinewidth\": 0, \"ticks\": \"\"}, \"colorscale\": [[0.0, \"#0d0887\"], [0.1111111111111111, \"#46039f\"], [0.2222222222222222, \"#7201a8\"], [0.3333333333333333, \"#9c179e\"], [0.4444444444444444, \"#bd3786\"], [0.5555555555555556, \"#d8576b\"], [0.6666666666666666, \"#ed7953\"], [0.7777777777777778, \"#fb9f3a\"], [0.8888888888888888, \"#fdca26\"], [1.0, \"#f0f921\"]], \"type\": \"heatmapgl\"}], \"histogram\": [{\"marker\": {\"colorbar\": {\"outlinewidth\": 0, \"ticks\": \"\"}}, \"type\": \"histogram\"}], \"histogram2d\": [{\"colorbar\": {\"outlinewidth\": 0, \"ticks\": \"\"}, \"colorscale\": [[0.0, \"#0d0887\"], [0.1111111111111111, \"#46039f\"], [0.2222222222222222, \"#7201a8\"], [0.3333333333333333, \"#9c179e\"], [0.4444444444444444, \"#bd3786\"], [0.5555555555555556, \"#d8576b\"], [0.6666666666666666, \"#ed7953\"], [0.7777777777777778, \"#fb9f3a\"], [0.8888888888888888, \"#fdca26\"], [1.0, \"#f0f921\"]], \"type\": \"histogram2d\"}], \"histogram2dcontour\": [{\"colorbar\": {\"outlinewidth\": 0, \"ticks\": \"\"}, \"colorscale\": [[0.0, \"#0d0887\"], [0.1111111111111111, \"#46039f\"], [0.2222222222222222, \"#7201a8\"], [0.3333333333333333, \"#9c179e\"], [0.4444444444444444, \"#bd3786\"], [0.5555555555555556, \"#d8576b\"], [0.6666666666666666, \"#ed7953\"], [0.7777777777777778, \"#fb9f3a\"], [0.8888888888888888, \"#fdca26\"], [1.0, \"#f0f921\"]], \"type\": \"histogram2dcontour\"}], \"mesh3d\": [{\"colorbar\": {\"outlinewidth\": 0, \"ticks\": \"\"}, \"type\": \"mesh3d\"}], \"parcoords\": [{\"line\": {\"colorbar\": {\"outlinewidth\": 0, \"ticks\": \"\"}}, \"type\": \"parcoords\"}], \"pie\": [{\"automargin\": true, \"type\": \"pie\"}], \"scatter\": [{\"marker\": {\"colorbar\": {\"outlinewidth\": 0, \"ticks\": \"\"}}, \"type\": \"scatter\"}], \"scatter3d\": [{\"line\": {\"colorbar\": {\"outlinewidth\": 0, \"ticks\": \"\"}}, \"marker\": {\"colorbar\": {\"outlinewidth\": 0, \"ticks\": \"\"}}, \"type\": \"scatter3d\"}], \"scattercarpet\": [{\"marker\": {\"colorbar\": {\"outlinewidth\": 0, \"ticks\": \"\"}}, \"type\": \"scattercarpet\"}], \"scattergeo\": [{\"marker\": {\"colorbar\": {\"outlinewidth\": 0, \"ticks\": \"\"}}, \"type\": \"scattergeo\"}], \"scattergl\": [{\"marker\": {\"colorbar\": {\"outlinewidth\": 0, \"ticks\": \"\"}}, \"type\": \"scattergl\"}], \"scattermapbox\": [{\"marker\": {\"colorbar\": {\"outlinewidth\": 0, \"ticks\": \"\"}}, \"type\": \"scattermapbox\"}], \"scatterpolar\": [{\"marker\": {\"colorbar\": {\"outlinewidth\": 0, \"ticks\": \"\"}}, \"type\": \"scatterpolar\"}], \"scatterpolargl\": [{\"marker\": {\"colorbar\": {\"outlinewidth\": 0, \"ticks\": \"\"}}, \"type\": \"scatterpolargl\"}], \"scatterternary\": [{\"marker\": {\"colorbar\": {\"outlinewidth\": 0, \"ticks\": \"\"}}, \"type\": \"scatterternary\"}], \"surface\": [{\"colorbar\": {\"outlinewidth\": 0, \"ticks\": \"\"}, \"colorscale\": [[0.0, \"#0d0887\"], [0.1111111111111111, \"#46039f\"], [0.2222222222222222, \"#7201a8\"], [0.3333333333333333, \"#9c179e\"], [0.4444444444444444, \"#bd3786\"], [0.5555555555555556, \"#d8576b\"], [0.6666666666666666, \"#ed7953\"], [0.7777777777777778, \"#fb9f3a\"], [0.8888888888888888, \"#fdca26\"], [1.0, \"#f0f921\"]], \"type\": \"surface\"}], \"table\": [{\"cells\": {\"fill\": {\"color\": \"#EBF0F8\"}, \"line\": {\"color\": \"white\"}}, \"header\": {\"fill\": {\"color\": \"#C8D4E3\"}, \"line\": {\"color\": \"white\"}}, \"type\": \"table\"}]}, \"layout\": {\"annotationdefaults\": {\"arrowcolor\": \"#2a3f5f\", \"arrowhead\": 0, \"arrowwidth\": 1}, \"coloraxis\": {\"colorbar\": {\"outlinewidth\": 0, \"ticks\": \"\"}}, \"colorscale\": {\"diverging\": [[0, \"#8e0152\"], [0.1, \"#c51b7d\"], [0.2, \"#de77ae\"], [0.3, \"#f1b6da\"], [0.4, \"#fde0ef\"], [0.5, \"#f7f7f7\"], [0.6, \"#e6f5d0\"], [0.7, \"#b8e186\"], [0.8, \"#7fbc41\"], [0.9, \"#4d9221\"], [1, \"#276419\"]], \"sequential\": [[0.0, \"#0d0887\"], [0.1111111111111111, \"#46039f\"], [0.2222222222222222, \"#7201a8\"], [0.3333333333333333, \"#9c179e\"], [0.4444444444444444, \"#bd3786\"], [0.5555555555555556, \"#d8576b\"], [0.6666666666666666, \"#ed7953\"], [0.7777777777777778, \"#fb9f3a\"], [0.8888888888888888, \"#fdca26\"], [1.0, \"#f0f921\"]], \"sequentialminus\": [[0.0, \"#0d0887\"], [0.1111111111111111, \"#46039f\"], [0.2222222222222222, \"#7201a8\"], [0.3333333333333333, \"#9c179e\"], [0.4444444444444444, \"#bd3786\"], [0.5555555555555556, \"#d8576b\"], [0.6666666666666666, \"#ed7953\"], [0.7777777777777778, \"#fb9f3a\"], [0.8888888888888888, \"#fdca26\"], [1.0, \"#f0f921\"]]}, \"colorway\": [\"#636efa\", \"#EF553B\", \"#00cc96\", \"#ab63fa\", \"#FFA15A\", \"#19d3f3\", \"#FF6692\", \"#B6E880\", \"#FF97FF\", \"#FECB52\"], \"font\": {\"color\": \"#2a3f5f\"}, \"geo\": {\"bgcolor\": \"white\", \"lakecolor\": \"white\", \"landcolor\": \"#E5ECF6\", \"showlakes\": true, \"showland\": true, \"subunitcolor\": \"white\"}, \"hoverlabel\": {\"align\": \"left\"}, \"hovermode\": \"closest\", \"mapbox\": {\"style\": \"light\"}, \"paper_bgcolor\": \"white\", \"plot_bgcolor\": \"#E5ECF6\", \"polar\": {\"angularaxis\": {\"gridcolor\": \"white\", \"linecolor\": \"white\", \"ticks\": \"\"}, \"bgcolor\": \"#E5ECF6\", \"radialaxis\": {\"gridcolor\": \"white\", \"linecolor\": \"white\", \"ticks\": \"\"}}, \"scene\": {\"xaxis\": {\"backgroundcolor\": \"#E5ECF6\", \"gridcolor\": \"white\", \"gridwidth\": 2, \"linecolor\": \"white\", \"showbackground\": true, \"ticks\": \"\", \"zerolinecolor\": \"white\"}, \"yaxis\": {\"backgroundcolor\": \"#E5ECF6\", \"gridcolor\": \"white\", \"gridwidth\": 2, \"linecolor\": \"white\", \"showbackground\": true, \"ticks\": \"\", \"zerolinecolor\": \"white\"}, \"zaxis\": {\"backgroundcolor\": \"#E5ECF6\", \"gridcolor\": \"white\", \"gridwidth\": 2, \"linecolor\": \"white\", \"showbackground\": true, \"ticks\": \"\", \"zerolinecolor\": \"white\"}}, \"shapedefaults\": {\"line\": {\"color\": \"#2a3f5f\"}}, \"ternary\": {\"aaxis\": {\"gridcolor\": \"white\", \"linecolor\": \"white\", \"ticks\": \"\"}, \"baxis\": {\"gridcolor\": \"white\", \"linecolor\": \"white\", \"ticks\": \"\"}, \"bgcolor\": \"#E5ECF6\", \"caxis\": {\"gridcolor\": \"white\", \"linecolor\": \"white\", \"ticks\": \"\"}}, \"title\": {\"x\": 0.05}, \"xaxis\": {\"automargin\": true, \"gridcolor\": \"white\", \"linecolor\": \"white\", \"ticks\": \"\", \"title\": {\"standoff\": 15}, \"zerolinecolor\": \"white\", \"zerolinewidth\": 2}, \"yaxis\": {\"automargin\": true, \"gridcolor\": \"white\", \"linecolor\": \"white\", \"ticks\": \"\", \"title\": {\"standoff\": 15}, \"zerolinecolor\": \"white\", \"zerolinewidth\": 2}}}, \"title\": {\"text\": \"<b>Model performance report</b><br>Salary Predictor with BatchNorm and Pre-trained Embeddings (Word2vec Google News 300) (Freezed Weights)<br><br><br><br><br><br><br><br><br><br><br><br><br><br><br><br><br><br><br><br><br><br><br><br><b><i>Train Loss Stat Values:</i></b><br>Max: 1.19   Mean: 0.15   Min: 0.06   Median: 0.10   Var: 0.03<br><br><b><i>Mean Absolute Error Stat Values:</i></b><br>Max: 0.17   Mean: 0.07   Min: 0.05   Median: 0.07   Var: 0.00<br><br><b><i>Mean Mean Squared Error Stat Values:</i></b><br>Max: 0.15   Mean: 0.04   Min: 0.02   Median: 0.03   Var: 0.00\", \"x\": 0.5, \"xanchor\": \"center\", \"y\": 0.95, \"yanchor\": \"top\"}, \"width\": 900, \"xaxis\": {\"anchor\": \"y\", \"domain\": [0.0, 1.0]}, \"xaxis2\": {\"anchor\": \"y2\", \"domain\": [0.0, 1.0]}, \"yaxis\": {\"anchor\": \"x\", \"domain\": [0.625, 1.0], \"range\": [0, 1]}, \"yaxis2\": {\"anchor\": \"x2\", \"domain\": [0.0, 0.375], \"range\": [0, 1]}},                        {\"responsive\": true}                    ).then(function(){\n",
       "                            \n",
       "var gd = document.getElementById('2c3429e0-7a43-4e24-a195-f769425d2f35');\n",
       "var x = new MutationObserver(function (mutations, observer) {{\n",
       "        var display = window.getComputedStyle(gd).display;\n",
       "        if (!display || display === 'none') {{\n",
       "            console.log([gd, 'removed!']);\n",
       "            Plotly.purge(gd);\n",
       "            observer.disconnect();\n",
       "        }}\n",
       "}});\n",
       "\n",
       "// Listen for the removal of the full notebook cells\n",
       "var notebookContainer = gd.closest('#notebook-container');\n",
       "if (notebookContainer) {{\n",
       "    x.observe(notebookContainer, {childList: true});\n",
       "}}\n",
       "\n",
       "// Listen for the clearing of the current output cell\n",
       "var outputEl = gd.closest('.output');\n",
       "if (outputEl) {{\n",
       "    x.observe(outputEl, {childList: true});\n",
       "}}\n",
       "\n",
       "                        })                };                });            </script>        </div>"
      ]
     },
     "metadata": {},
     "output_type": "display_data"
    }
   ],
   "source": [
    "draw_loss_acc_plot('Salary Predictor with BatchNorm and Pre-trained Embeddings (Word2vec Google News 300) (Freezed Weights)', train_loss_9, list_mae_9, list_mse_9)"
   ]
  },
  {
   "cell_type": "code",
   "execution_count": null,
   "metadata": {},
   "outputs": [],
   "source": [
    "class SalaryPredictorwBatchNormPretrained1NotFreezed(nn.Module):\n",
    "    def __init__(self, n_tokens=len(tokens), n_cat_features=len(categorical_vectorizer.vocabulary_), hid_size=300):\n",
    "        super().__init__()\n",
    "        self.embedder = nn.Embedding.from_pretrained(weights_2, freeze=False)\n",
    "        self.title_encoder = nn.Sequential(\n",
    "            nn.Conv1d(hid_size, hid_size, kernel_size=2),\n",
    "            nn.Dropout(p=0.25),\n",
    "            nn.BatchNorm1d(hid_size),\n",
    "            nn.ReLU(),\n",
    "            nn.AdaptiveMaxPool1d(output_size=1)\n",
    "        )\n",
    "        self.description_encoder = nn.Sequential(\n",
    "            nn.Conv1d(hid_size, hid_size, kernel_size=2),\n",
    "            nn.Dropout(p=0.25),\n",
    "            nn.BatchNorm1d(hid_size),\n",
    "            nn.ReLU(),\n",
    "            nn.AdaptiveMaxPool1d(output_size=1)\n",
    "        )\n",
    "        self.categorical_encoder = nn.Sequential(\n",
    "            nn.Linear(n_cat_features, hid_size * 2),\n",
    "            nn.BatchNorm1d(hid_size * 2),\n",
    "            nn.ReLU(),\n",
    "            nn.Linear(hid_size * 2, hid_size * 2),\n",
    "            nn.ReLU()\n",
    "        )\n",
    "        self.final_predictor = nn.Sequential(\n",
    "            nn.Linear(hid_size * 4, hid_size),\n",
    "            nn.BatchNorm1d(hid_size),\n",
    "            nn.ReLU(),\n",
    "            nn.Linear(hid_size, 1)\n",
    "        )\n",
    "    \n",
    "    def forward(self, batch):\n",
    "        \n",
    "        title_embeddings = self.embedder(batch['Title']).permute(0, 2, 1)\n",
    "        title_features = self.title_encoder(title_embeddings).squeeze()\n",
    "\n",
    "        description_embeddings = self.embedder(batch['FullDescription']).permute(0, 2, 1)\n",
    "        description_features = self.description_encoder(description_embeddings).squeeze()\n",
    "\n",
    "        categorical_features = self.categorical_encoder(batch['Categorical'])\n",
    "\n",
    "        features = torch.cat(\n",
    "            [title_features, description_features, categorical_features], dim=1)\n",
    "        \n",
    "        return self.final_predictor(features).squeeze()"
   ]
  },
  {
   "cell_type": "code",
   "execution_count": null,
   "metadata": {},
   "outputs": [],
   "source": [
    "model = SalaryPredictorwBatchNormPretrained1NotFreezed().to(DEVICE)\n",
    "criterion = nn.MSELoss(reduction='mean')\n",
    "optimizer = torch.optim.Adam(model.parameters(), lr=1e-3)\n",
    "list_mse_10 = []\n",
    "list_mae_10 = []\n",
    "train_loss_10 = []\n",
    "\n",
    "for epoch in range(EPOCHS):\n",
    "    print(f\"epoch: {epoch}\")\n",
    "    for i, batch in tqdm.notebook.tqdm(enumerate(\n",
    "            iterate_minibatches(\n",
    "                    data_train, \n",
    "                    batch_size=BATCH_SIZE, \n",
    "                    device=DEVICE)), \n",
    "                total=len(data_train) // BATCH_SIZE\n",
    "        ):\n",
    "        model.train()\n",
    "        pred = model(batch)\n",
    "        optimizer.zero_grad()\n",
    "        loss = criterion(pred, batch[TARGET_COLUMN])\n",
    "        loss.backward()\n",
    "        optimizer.step()\n",
    "\n",
    "        if i % 100 == 99:\n",
    "            print('train_loss', loss.item())\n",
    "            train_loss_10.append(loss.item())\n",
    "            print_metrics(model, data_val, list_mse=list_mse_10, list_mae=list_mae_10, \n",
    "                          name='val', batch_size=BATCH_SIZE, device=DEVICE)"
   ]
  },
  {
   "cell_type": "code",
   "execution_count": null,
   "metadata": {},
   "outputs": [],
   "source": [
    "draw_loss_acc_plot('Salary Predictor with BatchNorm and Pre-trained Embeddings (Word2vec Google News 300) (Not-Freezed Weights)', train_loss_10, list_mae_10, list_mse_10)"
   ]
  },
  {
   "cell_type": "markdown",
   "metadata": {},
   "source": [
    "Были выбраны две модели: Glove Twitter 25 и Word2vec Google News 300. Первая немного легче (обучение происходит быстрее), вторая содержить больше данных, поэтому обучение происходило намного дольше. Для первой модели были протестированы как зафиксированные, так и незафиксированные веса, однако результаты получились схожими: единственное, незамороженные веса поспособствовали более быстрому получению лучшего качества метрик. Именно поэтому вторая модель не была протестирована с незамороженными весами: она бы дала схожие результаты. Кстати, модель Word2vec Google News 300 дала самые лучшие результаты метрик (улучшила показатели на ~0.02)."
   ]
  },
  {
   "cell_type": "markdown",
   "metadata": {},
   "source": [
    "**4. Замените сверточные слои на рекуррентные (3 балла)**<a name=\"fourth\"></a>\n",
    "\n",
    "* Замените сверточные слои рекуррентными LSTM/GRU.\n",
    "* Проведите эксперимент с однонаправленной и двунаправленной рекуррентной нейросетью\n",
    "* Попробуйте найти удачный микс рекуррентных и сверточных слоев. Попробуйте разные миксы для Title и FullDescription"
   ]
  },
  {
   "cell_type": "markdown",
   "metadata": {},
   "source": [
    "Методом проб и ошибок, подобрана модель, демонстрирующая наилучшие результаты в своей группе (с однонаправленной и двунаправленной рекуррентной сетью). Это модель, добавляющая рекуррентный слой GRU (Title) к существующей CNN с BatchNorm1d. К сожалению, данная модель не улучшила исходную сеть, а наоборот показала результаты на ~0.04-0.06 (двунаправленная), ~0.1-0.12 (однонаправленная) хуже. С другой стороны, она более \"ровно\" сработала: на первых эпохах нет \"шкалящих\" значений трейн лос, MSE/MAE. "
   ]
  },
  {
   "cell_type": "code",
   "execution_count": 498,
   "metadata": {},
   "outputs": [],
   "source": [
    "class SalaryPredictorGRU(nn.Module):\n",
    "    def __init__(self, n_tokens=len(tokens), n_cat_features=len(categorical_vectorizer.vocabulary_), hid_size=8, bidirectional=True):\n",
    "        super().__init__()\n",
    "        self.embedder = nn.Embedding(n_tokens, hid_size)\n",
    "        self.conv1 = nn.Sequential(\n",
    "            nn.Conv1d(hid_size, hid_size, kernel_size=3),\n",
    "            nn.Dropout(p=0.25),\n",
    "            nn.BatchNorm1d(hid_size),\n",
    "            nn.ReLU()\n",
    "        )\n",
    "        self.pool1 = nn.AdaptiveAvgPool1d(output_size=1)\n",
    "        \n",
    "        self.conv2 = nn.Sequential(\n",
    "            nn.Conv1d(hid_size, hid_size, kernel_size=2),\n",
    "            nn.Conv1d(hid_size, hid_size, kernel_size=2),\n",
    "            nn.Dropout(p=0.25),\n",
    "            nn.BatchNorm1d(hid_size),\n",
    "            nn.ReLU()\n",
    "        )\n",
    "        self.pool2 = nn.AdaptiveAvgPool1d(output_size=1)\n",
    "        \n",
    "        self.GRU = nn.GRU(input_size=hid_size,\n",
    "                          hidden_size=hid_size, \n",
    "#                           dropout=0.01,\n",
    "                          bidirectional=bidirectional)\n",
    "        self.pool3 = nn.AdaptiveAvgPool1d(output_size=1)\n",
    "        \n",
    "        self.description_encoder = nn.Sequential(\n",
    "            nn.Conv1d(hid_size, hid_size, kernel_size=2),\n",
    "            nn.Dropout(p=0.25),\n",
    "            nn.BatchNorm1d(hid_size),\n",
    "            nn.ReLU(),\n",
    "            nn.AdaptiveMaxPool1d(output_size=1)\n",
    "        )\n",
    "        self.categorical_encoder = nn.Sequential(\n",
    "            nn.Linear(n_cat_features, hid_size * 2),\n",
    "            nn.BatchNorm1d(hid_size * 2),\n",
    "            nn.ReLU(),\n",
    "            nn.Linear(hid_size * 2, hid_size * 2),\n",
    "            nn.ReLU()\n",
    "        )\n",
    "        \n",
    "        if bidirectional:\n",
    "            number_input = 7\n",
    "        else:\n",
    "            number_input = 6\n",
    "        \n",
    "        self.final_predictor = nn.Sequential(\n",
    "            nn.Linear(hid_size * number_input, hid_size),\n",
    "            nn.ReLU(),\n",
    "            nn.Linear(hid_size, 1)\n",
    "        )\n",
    "\n",
    "    def forward(self, batch):\n",
    "        title_embeddings = self.embedder(batch['Title']).permute(0, 2, 1)\n",
    "            \n",
    "        title_conv_features1 = self.conv1(title_embeddings)\n",
    "        title_features1 = self.pool1(title_conv_features1).squeeze()\n",
    "\n",
    "        title_conv_features2 = self.conv2(title_embeddings)\n",
    "        title_features2 = self.pool2(title_conv_features2).squeeze()\n",
    "\n",
    "        description_embeddings = self.embedder(batch['FullDescription']).permute(0, 2, 1)\n",
    "        description_features = self.description_encoder(description_embeddings).squeeze()\n",
    "\n",
    "        gru_out, hidden = self.GRU(self.embedder(batch['Title']))\n",
    "        title_gru_features = self.pool3(gru_out.permute(0, 2, 1)).squeeze()\n",
    "            \n",
    "        categorical_features = self.categorical_encoder(batch['Categorical'].float())\n",
    "\n",
    "        features = torch.cat(\n",
    "            [title_features1, title_features2, description_features, title_gru_features, categorical_features], dim=1)\n",
    "\n",
    "        return self.final_predictor(features).squeeze()"
   ]
  },
  {
   "cell_type": "code",
   "execution_count": 499,
   "metadata": {},
   "outputs": [
    {
     "name": "stdout",
     "output_type": "stream",
     "text": [
      "epoch: 0\n"
     ]
    },
    {
     "data": {
      "application/vnd.jupyter.widget-view+json": {
       "model_id": "d7c4c42c9e2949efb1e74886ea39a848",
       "version_major": 2,
       "version_minor": 0
      },
      "text/plain": [
       "HBox(children=(FloatProgress(value=0.0, max=1721.0), HTML(value='')))"
      ]
     },
     "metadata": {},
     "output_type": "display_data"
    },
    {
     "name": "stdout",
     "output_type": "stream",
     "text": [
      "train_loss 1.4564772844314575\n",
      "val results:\n",
      "Mean square error: 0.84723\n",
      "Mean absolute error: 0.42013\n",
      "train_loss 0.502597451210022\n",
      "val results:\n",
      "Mean square error: 0.73069\n",
      "Mean absolute error: 0.39852\n",
      "train_loss 0.36971697211265564\n",
      "val results:\n",
      "Mean square error: 0.62842\n",
      "Mean absolute error: 0.37226\n",
      "train_loss 0.3902624249458313\n",
      "val results:\n",
      "Mean square error: 0.51523\n",
      "Mean absolute error: 0.33520\n",
      "train_loss 0.3377532958984375\n",
      "val results:\n",
      "Mean square error: 0.56839\n",
      "Mean absolute error: 0.35688\n",
      "train_loss 0.3116990625858307\n",
      "val results:\n",
      "Mean square error: 0.49206\n",
      "Mean absolute error: 0.33115\n",
      "train_loss 0.3423656225204468\n",
      "val results:\n",
      "Mean square error: 0.40106\n",
      "Mean absolute error: 0.29587\n",
      "train_loss 0.20194217562675476\n",
      "val results:\n",
      "Mean square error: 0.33597\n",
      "Mean absolute error: 0.26830\n",
      "train_loss 0.20536628365516663\n",
      "val results:\n",
      "Mean square error: 0.34682\n",
      "Mean absolute error: 0.27451\n",
      "train_loss 0.2222428023815155\n",
      "val results:\n",
      "Mean square error: 0.41061\n",
      "Mean absolute error: 0.30261\n",
      "train_loss 0.2173900604248047\n",
      "val results:\n",
      "Mean square error: 0.31936\n",
      "Mean absolute error: 0.26332\n",
      "train_loss 0.23143106698989868\n",
      "val results:\n",
      "Mean square error: 0.29538\n",
      "Mean absolute error: 0.25259\n",
      "train_loss 0.20543986558914185\n",
      "val results:\n",
      "Mean square error: 0.26471\n",
      "Mean absolute error: 0.23742\n",
      "train_loss 0.21503673493862152\n",
      "val results:\n",
      "Mean square error: 0.25290\n",
      "Mean absolute error: 0.23190\n",
      "train_loss 0.16296744346618652\n",
      "val results:\n",
      "Mean square error: 0.26452\n",
      "Mean absolute error: 0.23828\n",
      "train_loss 0.19520479440689087\n",
      "val results:\n",
      "Mean square error: 0.24231\n",
      "Mean absolute error: 0.22702\n",
      "train_loss 0.19054393470287323\n",
      "val results:\n",
      "Mean square error: 0.22815\n",
      "Mean absolute error: 0.21953\n",
      "\n",
      "epoch: 1\n"
     ]
    },
    {
     "data": {
      "application/vnd.jupyter.widget-view+json": {
       "model_id": "3f11fe7b6efa4dda8a2ecfdb71b635d6",
       "version_major": 2,
       "version_minor": 0
      },
      "text/plain": [
       "HBox(children=(FloatProgress(value=0.0, max=1721.0), HTML(value='')))"
      ]
     },
     "metadata": {},
     "output_type": "display_data"
    },
    {
     "name": "stdout",
     "output_type": "stream",
     "text": [
      "train_loss 0.1228812038898468\n",
      "val results:\n",
      "Mean square error: 0.23519\n",
      "Mean absolute error: 0.22415\n",
      "train_loss 0.25365063548088074\n",
      "val results:\n",
      "Mean square error: 0.16233\n",
      "Mean absolute error: 0.18032\n",
      "train_loss 0.14210502803325653\n",
      "val results:\n",
      "Mean square error: 0.22080\n",
      "Mean absolute error: 0.21626\n",
      "train_loss 0.3185582756996155\n",
      "val results:\n",
      "Mean square error: 0.19824\n",
      "Mean absolute error: 0.20355\n",
      "train_loss 0.18994548916816711\n",
      "val results:\n",
      "Mean square error: 0.19838\n",
      "Mean absolute error: 0.20391\n",
      "train_loss 0.2588641345500946\n",
      "val results:\n",
      "Mean square error: 0.22193\n",
      "Mean absolute error: 0.21830\n",
      "train_loss 0.15873809158802032\n",
      "val results:\n",
      "Mean square error: 0.17613\n",
      "Mean absolute error: 0.19104\n",
      "train_loss 0.1898161619901657\n",
      "val results:\n",
      "Mean square error: 0.15933\n",
      "Mean absolute error: 0.18027\n",
      "train_loss 0.14126056432724\n",
      "val results:\n",
      "Mean square error: 0.15845\n",
      "Mean absolute error: 0.17970\n",
      "train_loss 0.18519586324691772\n",
      "val results:\n",
      "Mean square error: 0.20038\n",
      "Mean absolute error: 0.20676\n",
      "train_loss 0.14032244682312012\n",
      "val results:\n",
      "Mean square error: 0.17234\n",
      "Mean absolute error: 0.18951\n",
      "train_loss 0.11000987142324448\n",
      "val results:\n",
      "Mean square error: 0.18815\n",
      "Mean absolute error: 0.19918\n",
      "train_loss 0.15133361518383026\n",
      "val results:\n",
      "Mean square error: 0.17443\n",
      "Mean absolute error: 0.19131\n",
      "train_loss 0.13537552952766418\n",
      "val results:\n",
      "Mean square error: 0.15538\n",
      "Mean absolute error: 0.17873\n",
      "train_loss 0.15075966715812683\n",
      "val results:\n",
      "Mean square error: 0.18115\n",
      "Mean absolute error: 0.19578\n",
      "train_loss 0.1973625123500824\n",
      "val results:\n",
      "Mean square error: 0.12347\n",
      "Mean absolute error: 0.15660\n",
      "train_loss 0.1471555531024933\n",
      "val results:\n",
      "Mean square error: 0.18155\n",
      "Mean absolute error: 0.19662\n",
      "\n",
      "epoch: 2\n"
     ]
    },
    {
     "data": {
      "application/vnd.jupyter.widget-view+json": {
       "model_id": "4779565deac24e17be291925890b9de6",
       "version_major": 2,
       "version_minor": 0
      },
      "text/plain": [
       "HBox(children=(FloatProgress(value=0.0, max=1721.0), HTML(value='')))"
      ]
     },
     "metadata": {},
     "output_type": "display_data"
    },
    {
     "name": "stdout",
     "output_type": "stream",
     "text": [
      "train_loss 0.11961349844932556\n",
      "val results:\n",
      "Mean square error: 0.16569\n",
      "Mean absolute error: 0.18641\n",
      "train_loss 0.12723803520202637\n",
      "val results:\n",
      "Mean square error: 0.15188\n",
      "Mean absolute error: 0.17772\n",
      "train_loss 0.1195269227027893\n",
      "val results:\n",
      "Mean square error: 0.13448\n",
      "Mean absolute error: 0.16536\n",
      "train_loss 0.12277418375015259\n",
      "val results:\n",
      "Mean square error: 0.15278\n",
      "Mean absolute error: 0.17791\n",
      "train_loss 0.15065953135490417\n",
      "val results:\n",
      "Mean square error: 0.15999\n",
      "Mean absolute error: 0.18341\n",
      "train_loss 0.1888146996498108\n",
      "val results:\n",
      "Mean square error: 0.15667\n",
      "Mean absolute error: 0.18111\n",
      "train_loss 0.0874251127243042\n",
      "val results:\n",
      "Mean square error: 0.13400\n",
      "Mean absolute error: 0.16537\n",
      "train_loss 0.13281990587711334\n",
      "val results:\n",
      "Mean square error: 0.10330\n",
      "Mean absolute error: 0.14182\n",
      "train_loss 0.10603449493646622\n",
      "val results:\n",
      "Mean square error: 0.13137\n",
      "Mean absolute error: 0.16368\n",
      "train_loss 0.17772305011749268\n",
      "val results:\n",
      "Mean square error: 0.11957\n",
      "Mean absolute error: 0.15496\n",
      "train_loss 0.11335637420415878\n",
      "val results:\n",
      "Mean square error: 0.15508\n",
      "Mean absolute error: 0.18079\n",
      "train_loss 0.11636495590209961\n",
      "val results:\n",
      "Mean square error: 0.13311\n",
      "Mean absolute error: 0.16519\n",
      "train_loss 0.12353501468896866\n",
      "val results:\n",
      "Mean square error: 0.11629\n",
      "Mean absolute error: 0.15272\n",
      "train_loss 0.0897274985909462\n",
      "val results:\n",
      "Mean square error: 0.09775\n",
      "Mean absolute error: 0.13775\n",
      "train_loss 0.09648134559392929\n",
      "val results:\n",
      "Mean square error: 0.08654\n",
      "Mean absolute error: 0.12796\n",
      "train_loss 0.11246314644813538\n",
      "val results:\n",
      "Mean square error: 0.11165\n",
      "Mean absolute error: 0.14940\n",
      "train_loss 0.09943462163209915\n",
      "val results:\n",
      "Mean square error: 0.10642\n",
      "Mean absolute error: 0.14540\n",
      "\n"
     ]
    }
   ],
   "source": [
    "model = SalaryPredictorGRU().to(DEVICE)\n",
    "criterion = nn.MSELoss(reduction='mean')\n",
    "optimizer = torch.optim.Adam(model.parameters(), lr=1e-3)\n",
    "list_mse_11 = []\n",
    "list_mae_11 = []\n",
    "train_loss_11 = []\n",
    "\n",
    "for epoch in range(EPOCHS):\n",
    "    print(f\"epoch: {epoch}\")\n",
    "    for i, batch in tqdm.notebook.tqdm(enumerate(\n",
    "            iterate_minibatches(\n",
    "                    data_train, \n",
    "                    batch_size=BATCH_SIZE, \n",
    "                    device=DEVICE)), \n",
    "                total=len(data_train) // BATCH_SIZE\n",
    "        ):\n",
    "        model.train()\n",
    "        pred = model(batch)\n",
    "        optimizer.zero_grad()\n",
    "        loss = criterion(pred, batch[TARGET_COLUMN])\n",
    "        loss.backward()\n",
    "        optimizer.step()\n",
    "\n",
    "        if i % 100 == 99:\n",
    "            print('train_loss', loss.item())\n",
    "            train_loss_11.append(loss.item())\n",
    "            print_metrics(model, data_val, list_mse=list_mse_11, list_mae=list_mae_11, \n",
    "                          name='val', batch_size=BATCH_SIZE, device=DEVICE)"
   ]
  },
  {
   "cell_type": "code",
   "execution_count": 503,
   "metadata": {},
   "outputs": [
    {
     "data": {
      "application/vnd.plotly.v1+json": {
       "config": {
        "linkText": "Export to plot.ly",
        "plotlyServerURL": "https://plot.ly",
        "showLink": false
       },
       "data": [
        {
         "mode": "lines",
         "name": "Train Loss",
         "showlegend": false,
         "type": "scatter",
         "x": [
          0,
          1,
          2,
          3,
          4,
          5,
          6,
          7,
          8,
          9,
          10,
          11,
          12,
          13,
          14,
          15,
          16,
          17,
          18,
          19,
          20,
          21,
          22,
          23,
          24,
          25,
          26,
          27,
          28,
          29,
          30,
          31,
          32,
          33,
          34,
          35,
          36,
          37,
          38,
          39,
          40,
          41,
          42,
          43,
          44,
          45,
          46,
          47,
          48,
          49,
          50
         ],
         "xaxis": "x",
         "y": [
          1.4564772844314575,
          0.502597451210022,
          0.36971697211265564,
          0.3902624249458313,
          0.3377532958984375,
          0.3116990625858307,
          0.3423656225204468,
          0.20194217562675476,
          0.20536628365516663,
          0.2222428023815155,
          0.2173900604248047,
          0.23143106698989868,
          0.20543986558914185,
          0.21503673493862152,
          0.16296744346618652,
          0.19520479440689087,
          0.19054393470287323,
          0.1228812038898468,
          0.25365063548088074,
          0.14210502803325653,
          0.3185582756996155,
          0.18994548916816711,
          0.2588641345500946,
          0.15873809158802032,
          0.1898161619901657,
          0.14126056432724,
          0.18519586324691772,
          0.14032244682312012,
          0.11000987142324448,
          0.15133361518383026,
          0.13537552952766418,
          0.15075966715812683,
          0.1973625123500824,
          0.1471555531024933,
          0.11961349844932556,
          0.12723803520202637,
          0.1195269227027893,
          0.12277418375015259,
          0.15065953135490417,
          0.1888146996498108,
          0.0874251127243042,
          0.13281990587711334,
          0.10603449493646622,
          0.17772305011749268,
          0.11335637420415878,
          0.11636495590209961,
          0.12353501468896866,
          0.0897274985909462,
          0.09648134559392929,
          0.11246314644813538,
          0.09943462163209915
         ],
         "yaxis": "y"
        },
        {
         "mode": "lines",
         "name": "MAE",
         "type": "scatter",
         "x": [
          0,
          1,
          2,
          3,
          4,
          5,
          6,
          7,
          8,
          9,
          10,
          11,
          12,
          13,
          14,
          15,
          16,
          17,
          18,
          19,
          20,
          21,
          22,
          23,
          24,
          25,
          26,
          27,
          28,
          29,
          30,
          31,
          32,
          33,
          34,
          35,
          36,
          37,
          38,
          39,
          40,
          41,
          42,
          43,
          44,
          45,
          46,
          47,
          48,
          49,
          50
         ],
         "xaxis": "x2",
         "y": [
          0.420126477877299,
          0.3985228141148885,
          0.3722610870997111,
          0.33520225683848065,
          0.3568814198176066,
          0.33115124702453613,
          0.2958706021308899,
          0.2683038314183553,
          0.27450786034266156,
          0.30261021852493286,
          0.2633201678593953,
          0.25259433190027875,
          0.2374186118443807,
          0.23189854621887207,
          0.23828174670537314,
          0.22702240943908691,
          0.21953133742014566,
          0.2241543928782145,
          0.1803203821182251,
          0.21626389026641846,
          0.20354894797007242,
          0.20390522480010986,
          0.21830028295516968,
          0.1910422444343567,
          0.1802705923716227,
          0.17970192432403564,
          0.2067632476488749,
          0.1895119547843933,
          0.1991772254308065,
          0.1913119355837504,
          0.17872649431228638,
          0.19577854871749878,
          0.1566042105356852,
          0.1966176231702169,
          0.18640695015589395,
          0.17771536111831665,
          0.16536063949267069,
          0.17791467905044556,
          0.18340643246968588,
          0.18111189206441244,
          0.16536823908487955,
          0.1418209175268809,
          0.16367562611897787,
          0.15496104955673218,
          0.18078686793645224,
          0.16518613696098328,
          0.15271679560343424,
          0.13775338729222616,
          0.12796348333358765,
          0.1494032641251882,
          0.14539564649264017
         ],
         "yaxis": "y2"
        },
        {
         "mode": "lines",
         "name": "MSE",
         "type": "scatter",
         "x": [
          0,
          1,
          2,
          3,
          4,
          5,
          6,
          7,
          8,
          9,
          10,
          11,
          12,
          13,
          14,
          15,
          16,
          17,
          18,
          19,
          20,
          21,
          22,
          23,
          24,
          25,
          26,
          27,
          28,
          29,
          30,
          31,
          32,
          33,
          34,
          35,
          36,
          37,
          38,
          39,
          40,
          41,
          42,
          43,
          44,
          45,
          46,
          47,
          48,
          49,
          50
         ],
         "xaxis": "x2",
         "y": [
          0.8472340106964111,
          0.730693499247233,
          0.6284223397572836,
          0.5152349472045898,
          0.5683910449345907,
          0.49206066131591797,
          0.40105970700581867,
          0.3359677791595459,
          0.34682385126749676,
          0.41060582796732586,
          0.3193615674972534,
          0.2953750093777974,
          0.26471004883448285,
          0.252898375193278,
          0.26452094316482544,
          0.24231010675430298,
          0.2281473676363627,
          0.235187033812205,
          0.16232765714327493,
          0.22079726060231528,
          0.19823656479517618,
          0.19838488101959229,
          0.22192897399266562,
          0.17612749338150024,
          0.15932929515838623,
          0.1584497888882955,
          0.2003799875577291,
          0.17234118779500326,
          0.18814982970555624,
          0.17442822456359863,
          0.15538002053896585,
          0.18115150928497314,
          0.12346737583478291,
          0.1815546154975891,
          0.1656851867834727,
          0.1518807907899221,
          0.13448411226272583,
          0.15278219183286032,
          0.15999347964922586,
          0.15666512648264566,
          0.13399934768676758,
          0.1032955249150594,
          0.131369948387146,
          0.11956800023714702,
          0.1550812621911367,
          0.13310815890630087,
          0.1162945032119751,
          0.09774753451347351,
          0.08653984467188518,
          0.11165123184521993,
          0.10641605655352275
         ],
         "yaxis": "y2"
        }
       ],
       "layout": {
        "annotations": [
         {
          "font": {
           "size": 16
          },
          "showarrow": false,
          "text": "<b>Train Loss</b>",
          "x": 0.5,
          "xanchor": "center",
          "xref": "paper",
          "y": 1,
          "yanchor": "bottom",
          "yref": "paper"
         },
         {
          "font": {
           "size": 16
          },
          "showarrow": false,
          "text": "<b>Test Metrics</b>",
          "x": 0.5,
          "xanchor": "center",
          "xref": "paper",
          "y": 0.375,
          "yanchor": "bottom",
          "yref": "paper"
         }
        ],
        "autosize": false,
        "height": 780,
        "legend": {
         "x": 1,
         "y": 0.15
        },
        "margin": {
         "b": 270
        },
        "paper_bgcolor": "rgba(240, 240, 240, 0.95)",
        "plot_bgcolor": "rgba(240, 240, 240, 0.95)",
        "template": {
         "data": {
          "bar": [
           {
            "error_x": {
             "color": "#2a3f5f"
            },
            "error_y": {
             "color": "#2a3f5f"
            },
            "marker": {
             "line": {
              "color": "#E5ECF6",
              "width": 0.5
             }
            },
            "type": "bar"
           }
          ],
          "barpolar": [
           {
            "marker": {
             "line": {
              "color": "#E5ECF6",
              "width": 0.5
             }
            },
            "type": "barpolar"
           }
          ],
          "carpet": [
           {
            "aaxis": {
             "endlinecolor": "#2a3f5f",
             "gridcolor": "white",
             "linecolor": "white",
             "minorgridcolor": "white",
             "startlinecolor": "#2a3f5f"
            },
            "baxis": {
             "endlinecolor": "#2a3f5f",
             "gridcolor": "white",
             "linecolor": "white",
             "minorgridcolor": "white",
             "startlinecolor": "#2a3f5f"
            },
            "type": "carpet"
           }
          ],
          "choropleth": [
           {
            "colorbar": {
             "outlinewidth": 0,
             "ticks": ""
            },
            "type": "choropleth"
           }
          ],
          "contour": [
           {
            "colorbar": {
             "outlinewidth": 0,
             "ticks": ""
            },
            "colorscale": [
             [
              0,
              "#0d0887"
             ],
             [
              0.1111111111111111,
              "#46039f"
             ],
             [
              0.2222222222222222,
              "#7201a8"
             ],
             [
              0.3333333333333333,
              "#9c179e"
             ],
             [
              0.4444444444444444,
              "#bd3786"
             ],
             [
              0.5555555555555556,
              "#d8576b"
             ],
             [
              0.6666666666666666,
              "#ed7953"
             ],
             [
              0.7777777777777778,
              "#fb9f3a"
             ],
             [
              0.8888888888888888,
              "#fdca26"
             ],
             [
              1,
              "#f0f921"
             ]
            ],
            "type": "contour"
           }
          ],
          "contourcarpet": [
           {
            "colorbar": {
             "outlinewidth": 0,
             "ticks": ""
            },
            "type": "contourcarpet"
           }
          ],
          "heatmap": [
           {
            "colorbar": {
             "outlinewidth": 0,
             "ticks": ""
            },
            "colorscale": [
             [
              0,
              "#0d0887"
             ],
             [
              0.1111111111111111,
              "#46039f"
             ],
             [
              0.2222222222222222,
              "#7201a8"
             ],
             [
              0.3333333333333333,
              "#9c179e"
             ],
             [
              0.4444444444444444,
              "#bd3786"
             ],
             [
              0.5555555555555556,
              "#d8576b"
             ],
             [
              0.6666666666666666,
              "#ed7953"
             ],
             [
              0.7777777777777778,
              "#fb9f3a"
             ],
             [
              0.8888888888888888,
              "#fdca26"
             ],
             [
              1,
              "#f0f921"
             ]
            ],
            "type": "heatmap"
           }
          ],
          "heatmapgl": [
           {
            "colorbar": {
             "outlinewidth": 0,
             "ticks": ""
            },
            "colorscale": [
             [
              0,
              "#0d0887"
             ],
             [
              0.1111111111111111,
              "#46039f"
             ],
             [
              0.2222222222222222,
              "#7201a8"
             ],
             [
              0.3333333333333333,
              "#9c179e"
             ],
             [
              0.4444444444444444,
              "#bd3786"
             ],
             [
              0.5555555555555556,
              "#d8576b"
             ],
             [
              0.6666666666666666,
              "#ed7953"
             ],
             [
              0.7777777777777778,
              "#fb9f3a"
             ],
             [
              0.8888888888888888,
              "#fdca26"
             ],
             [
              1,
              "#f0f921"
             ]
            ],
            "type": "heatmapgl"
           }
          ],
          "histogram": [
           {
            "marker": {
             "colorbar": {
              "outlinewidth": 0,
              "ticks": ""
             }
            },
            "type": "histogram"
           }
          ],
          "histogram2d": [
           {
            "colorbar": {
             "outlinewidth": 0,
             "ticks": ""
            },
            "colorscale": [
             [
              0,
              "#0d0887"
             ],
             [
              0.1111111111111111,
              "#46039f"
             ],
             [
              0.2222222222222222,
              "#7201a8"
             ],
             [
              0.3333333333333333,
              "#9c179e"
             ],
             [
              0.4444444444444444,
              "#bd3786"
             ],
             [
              0.5555555555555556,
              "#d8576b"
             ],
             [
              0.6666666666666666,
              "#ed7953"
             ],
             [
              0.7777777777777778,
              "#fb9f3a"
             ],
             [
              0.8888888888888888,
              "#fdca26"
             ],
             [
              1,
              "#f0f921"
             ]
            ],
            "type": "histogram2d"
           }
          ],
          "histogram2dcontour": [
           {
            "colorbar": {
             "outlinewidth": 0,
             "ticks": ""
            },
            "colorscale": [
             [
              0,
              "#0d0887"
             ],
             [
              0.1111111111111111,
              "#46039f"
             ],
             [
              0.2222222222222222,
              "#7201a8"
             ],
             [
              0.3333333333333333,
              "#9c179e"
             ],
             [
              0.4444444444444444,
              "#bd3786"
             ],
             [
              0.5555555555555556,
              "#d8576b"
             ],
             [
              0.6666666666666666,
              "#ed7953"
             ],
             [
              0.7777777777777778,
              "#fb9f3a"
             ],
             [
              0.8888888888888888,
              "#fdca26"
             ],
             [
              1,
              "#f0f921"
             ]
            ],
            "type": "histogram2dcontour"
           }
          ],
          "mesh3d": [
           {
            "colorbar": {
             "outlinewidth": 0,
             "ticks": ""
            },
            "type": "mesh3d"
           }
          ],
          "parcoords": [
           {
            "line": {
             "colorbar": {
              "outlinewidth": 0,
              "ticks": ""
             }
            },
            "type": "parcoords"
           }
          ],
          "pie": [
           {
            "automargin": true,
            "type": "pie"
           }
          ],
          "scatter": [
           {
            "marker": {
             "colorbar": {
              "outlinewidth": 0,
              "ticks": ""
             }
            },
            "type": "scatter"
           }
          ],
          "scatter3d": [
           {
            "line": {
             "colorbar": {
              "outlinewidth": 0,
              "ticks": ""
             }
            },
            "marker": {
             "colorbar": {
              "outlinewidth": 0,
              "ticks": ""
             }
            },
            "type": "scatter3d"
           }
          ],
          "scattercarpet": [
           {
            "marker": {
             "colorbar": {
              "outlinewidth": 0,
              "ticks": ""
             }
            },
            "type": "scattercarpet"
           }
          ],
          "scattergeo": [
           {
            "marker": {
             "colorbar": {
              "outlinewidth": 0,
              "ticks": ""
             }
            },
            "type": "scattergeo"
           }
          ],
          "scattergl": [
           {
            "marker": {
             "colorbar": {
              "outlinewidth": 0,
              "ticks": ""
             }
            },
            "type": "scattergl"
           }
          ],
          "scattermapbox": [
           {
            "marker": {
             "colorbar": {
              "outlinewidth": 0,
              "ticks": ""
             }
            },
            "type": "scattermapbox"
           }
          ],
          "scatterpolar": [
           {
            "marker": {
             "colorbar": {
              "outlinewidth": 0,
              "ticks": ""
             }
            },
            "type": "scatterpolar"
           }
          ],
          "scatterpolargl": [
           {
            "marker": {
             "colorbar": {
              "outlinewidth": 0,
              "ticks": ""
             }
            },
            "type": "scatterpolargl"
           }
          ],
          "scatterternary": [
           {
            "marker": {
             "colorbar": {
              "outlinewidth": 0,
              "ticks": ""
             }
            },
            "type": "scatterternary"
           }
          ],
          "surface": [
           {
            "colorbar": {
             "outlinewidth": 0,
             "ticks": ""
            },
            "colorscale": [
             [
              0,
              "#0d0887"
             ],
             [
              0.1111111111111111,
              "#46039f"
             ],
             [
              0.2222222222222222,
              "#7201a8"
             ],
             [
              0.3333333333333333,
              "#9c179e"
             ],
             [
              0.4444444444444444,
              "#bd3786"
             ],
             [
              0.5555555555555556,
              "#d8576b"
             ],
             [
              0.6666666666666666,
              "#ed7953"
             ],
             [
              0.7777777777777778,
              "#fb9f3a"
             ],
             [
              0.8888888888888888,
              "#fdca26"
             ],
             [
              1,
              "#f0f921"
             ]
            ],
            "type": "surface"
           }
          ],
          "table": [
           {
            "cells": {
             "fill": {
              "color": "#EBF0F8"
             },
             "line": {
              "color": "white"
             }
            },
            "header": {
             "fill": {
              "color": "#C8D4E3"
             },
             "line": {
              "color": "white"
             }
            },
            "type": "table"
           }
          ]
         },
         "layout": {
          "annotationdefaults": {
           "arrowcolor": "#2a3f5f",
           "arrowhead": 0,
           "arrowwidth": 1
          },
          "coloraxis": {
           "colorbar": {
            "outlinewidth": 0,
            "ticks": ""
           }
          },
          "colorscale": {
           "diverging": [
            [
             0,
             "#8e0152"
            ],
            [
             0.1,
             "#c51b7d"
            ],
            [
             0.2,
             "#de77ae"
            ],
            [
             0.3,
             "#f1b6da"
            ],
            [
             0.4,
             "#fde0ef"
            ],
            [
             0.5,
             "#f7f7f7"
            ],
            [
             0.6,
             "#e6f5d0"
            ],
            [
             0.7,
             "#b8e186"
            ],
            [
             0.8,
             "#7fbc41"
            ],
            [
             0.9,
             "#4d9221"
            ],
            [
             1,
             "#276419"
            ]
           ],
           "sequential": [
            [
             0,
             "#0d0887"
            ],
            [
             0.1111111111111111,
             "#46039f"
            ],
            [
             0.2222222222222222,
             "#7201a8"
            ],
            [
             0.3333333333333333,
             "#9c179e"
            ],
            [
             0.4444444444444444,
             "#bd3786"
            ],
            [
             0.5555555555555556,
             "#d8576b"
            ],
            [
             0.6666666666666666,
             "#ed7953"
            ],
            [
             0.7777777777777778,
             "#fb9f3a"
            ],
            [
             0.8888888888888888,
             "#fdca26"
            ],
            [
             1,
             "#f0f921"
            ]
           ],
           "sequentialminus": [
            [
             0,
             "#0d0887"
            ],
            [
             0.1111111111111111,
             "#46039f"
            ],
            [
             0.2222222222222222,
             "#7201a8"
            ],
            [
             0.3333333333333333,
             "#9c179e"
            ],
            [
             0.4444444444444444,
             "#bd3786"
            ],
            [
             0.5555555555555556,
             "#d8576b"
            ],
            [
             0.6666666666666666,
             "#ed7953"
            ],
            [
             0.7777777777777778,
             "#fb9f3a"
            ],
            [
             0.8888888888888888,
             "#fdca26"
            ],
            [
             1,
             "#f0f921"
            ]
           ]
          },
          "colorway": [
           "#636efa",
           "#EF553B",
           "#00cc96",
           "#ab63fa",
           "#FFA15A",
           "#19d3f3",
           "#FF6692",
           "#B6E880",
           "#FF97FF",
           "#FECB52"
          ],
          "font": {
           "color": "#2a3f5f"
          },
          "geo": {
           "bgcolor": "white",
           "lakecolor": "white",
           "landcolor": "#E5ECF6",
           "showlakes": true,
           "showland": true,
           "subunitcolor": "white"
          },
          "hoverlabel": {
           "align": "left"
          },
          "hovermode": "closest",
          "mapbox": {
           "style": "light"
          },
          "paper_bgcolor": "white",
          "plot_bgcolor": "#E5ECF6",
          "polar": {
           "angularaxis": {
            "gridcolor": "white",
            "linecolor": "white",
            "ticks": ""
           },
           "bgcolor": "#E5ECF6",
           "radialaxis": {
            "gridcolor": "white",
            "linecolor": "white",
            "ticks": ""
           }
          },
          "scene": {
           "xaxis": {
            "backgroundcolor": "#E5ECF6",
            "gridcolor": "white",
            "gridwidth": 2,
            "linecolor": "white",
            "showbackground": true,
            "ticks": "",
            "zerolinecolor": "white"
           },
           "yaxis": {
            "backgroundcolor": "#E5ECF6",
            "gridcolor": "white",
            "gridwidth": 2,
            "linecolor": "white",
            "showbackground": true,
            "ticks": "",
            "zerolinecolor": "white"
           },
           "zaxis": {
            "backgroundcolor": "#E5ECF6",
            "gridcolor": "white",
            "gridwidth": 2,
            "linecolor": "white",
            "showbackground": true,
            "ticks": "",
            "zerolinecolor": "white"
           }
          },
          "shapedefaults": {
           "line": {
            "color": "#2a3f5f"
           }
          },
          "ternary": {
           "aaxis": {
            "gridcolor": "white",
            "linecolor": "white",
            "ticks": ""
           },
           "baxis": {
            "gridcolor": "white",
            "linecolor": "white",
            "ticks": ""
           },
           "bgcolor": "#E5ECF6",
           "caxis": {
            "gridcolor": "white",
            "linecolor": "white",
            "ticks": ""
           }
          },
          "title": {
           "x": 0.05
          },
          "xaxis": {
           "automargin": true,
           "gridcolor": "white",
           "linecolor": "white",
           "ticks": "",
           "title": {
            "standoff": 15
           },
           "zerolinecolor": "white",
           "zerolinewidth": 2
          },
          "yaxis": {
           "automargin": true,
           "gridcolor": "white",
           "linecolor": "white",
           "ticks": "",
           "title": {
            "standoff": 15
           },
           "zerolinecolor": "white",
           "zerolinewidth": 2
          }
         }
        },
        "title": {
         "text": "<b>Model performance report</b><br>Salary Predictor with BatchNorm and GRU Layer (Title) (Bidirectional)<br><br><br><br><br><br><br><br><br><br><br><br><br><br><br><br><br><br><br><br><br><br><br><br><b><i>Train Loss Stat Values:</i></b><br>Max: 1.46   Mean: 0.21   Min: 0.09   Median: 0.16   Var: 0.04<br><br><b><i>Mean Absolute Error Stat Values:</i></b><br>Max: 0.42   Mean: 0.22   Min: 0.13   Median: 0.20   Var: 0.00<br><br><b><i>Mean Mean Squared Error Stat Values:</i></b><br>Max: 0.85   Mean: 0.24   Min: 0.09   Median: 0.18   Var: 0.03",
         "x": 0.5,
         "xanchor": "center",
         "y": 0.95,
         "yanchor": "top"
        },
        "width": 900,
        "xaxis": {
         "anchor": "y",
         "domain": [
          0,
          1
         ]
        },
        "xaxis2": {
         "anchor": "y2",
         "domain": [
          0,
          1
         ]
        },
        "yaxis": {
         "anchor": "x",
         "domain": [
          0.625,
          1
         ],
         "range": [
          0,
          1
         ]
        },
        "yaxis2": {
         "anchor": "x2",
         "domain": [
          0,
          0.375
         ],
         "range": [
          0,
          1
         ]
        }
       }
      },
      "text/html": [
       "<div>                            <div id=\"2432413a-86ee-4f1c-82bd-9c013e235356\" class=\"plotly-graph-div\" style=\"height:780px; width:900px;\"></div>            <script type=\"text/javascript\">                require([\"plotly\"], function(Plotly) {                    window.PLOTLYENV=window.PLOTLYENV || {};                                    if (document.getElementById(\"2432413a-86ee-4f1c-82bd-9c013e235356\")) {                    Plotly.newPlot(                        \"2432413a-86ee-4f1c-82bd-9c013e235356\",                        [{\"mode\": \"lines\", \"name\": \"Train Loss\", \"showlegend\": false, \"type\": \"scatter\", \"x\": [0, 1, 2, 3, 4, 5, 6, 7, 8, 9, 10, 11, 12, 13, 14, 15, 16, 17, 18, 19, 20, 21, 22, 23, 24, 25, 26, 27, 28, 29, 30, 31, 32, 33, 34, 35, 36, 37, 38, 39, 40, 41, 42, 43, 44, 45, 46, 47, 48, 49, 50], \"xaxis\": \"x\", \"y\": [1.4564772844314575, 0.502597451210022, 0.36971697211265564, 0.3902624249458313, 0.3377532958984375, 0.3116990625858307, 0.3423656225204468, 0.20194217562675476, 0.20536628365516663, 0.2222428023815155, 0.2173900604248047, 0.23143106698989868, 0.20543986558914185, 0.21503673493862152, 0.16296744346618652, 0.19520479440689087, 0.19054393470287323, 0.1228812038898468, 0.25365063548088074, 0.14210502803325653, 0.3185582756996155, 0.18994548916816711, 0.2588641345500946, 0.15873809158802032, 0.1898161619901657, 0.14126056432724, 0.18519586324691772, 0.14032244682312012, 0.11000987142324448, 0.15133361518383026, 0.13537552952766418, 0.15075966715812683, 0.1973625123500824, 0.1471555531024933, 0.11961349844932556, 0.12723803520202637, 0.1195269227027893, 0.12277418375015259, 0.15065953135490417, 0.1888146996498108, 0.0874251127243042, 0.13281990587711334, 0.10603449493646622, 0.17772305011749268, 0.11335637420415878, 0.11636495590209961, 0.12353501468896866, 0.0897274985909462, 0.09648134559392929, 0.11246314644813538, 0.09943462163209915], \"yaxis\": \"y\"}, {\"mode\": \"lines\", \"name\": \"MAE\", \"type\": \"scatter\", \"x\": [0, 1, 2, 3, 4, 5, 6, 7, 8, 9, 10, 11, 12, 13, 14, 15, 16, 17, 18, 19, 20, 21, 22, 23, 24, 25, 26, 27, 28, 29, 30, 31, 32, 33, 34, 35, 36, 37, 38, 39, 40, 41, 42, 43, 44, 45, 46, 47, 48, 49, 50], \"xaxis\": \"x2\", \"y\": [0.420126477877299, 0.3985228141148885, 0.3722610870997111, 0.33520225683848065, 0.3568814198176066, 0.33115124702453613, 0.2958706021308899, 0.2683038314183553, 0.27450786034266156, 0.30261021852493286, 0.2633201678593953, 0.25259433190027875, 0.2374186118443807, 0.23189854621887207, 0.23828174670537314, 0.22702240943908691, 0.21953133742014566, 0.2241543928782145, 0.1803203821182251, 0.21626389026641846, 0.20354894797007242, 0.20390522480010986, 0.21830028295516968, 0.1910422444343567, 0.1802705923716227, 0.17970192432403564, 0.2067632476488749, 0.1895119547843933, 0.1991772254308065, 0.1913119355837504, 0.17872649431228638, 0.19577854871749878, 0.1566042105356852, 0.1966176231702169, 0.18640695015589395, 0.17771536111831665, 0.16536063949267069, 0.17791467905044556, 0.18340643246968588, 0.18111189206441244, 0.16536823908487955, 0.1418209175268809, 0.16367562611897787, 0.15496104955673218, 0.18078686793645224, 0.16518613696098328, 0.15271679560343424, 0.13775338729222616, 0.12796348333358765, 0.1494032641251882, 0.14539564649264017], \"yaxis\": \"y2\"}, {\"mode\": \"lines\", \"name\": \"MSE\", \"type\": \"scatter\", \"x\": [0, 1, 2, 3, 4, 5, 6, 7, 8, 9, 10, 11, 12, 13, 14, 15, 16, 17, 18, 19, 20, 21, 22, 23, 24, 25, 26, 27, 28, 29, 30, 31, 32, 33, 34, 35, 36, 37, 38, 39, 40, 41, 42, 43, 44, 45, 46, 47, 48, 49, 50], \"xaxis\": \"x2\", \"y\": [0.8472340106964111, 0.730693499247233, 0.6284223397572836, 0.5152349472045898, 0.5683910449345907, 0.49206066131591797, 0.40105970700581867, 0.3359677791595459, 0.34682385126749676, 0.41060582796732586, 0.3193615674972534, 0.2953750093777974, 0.26471004883448285, 0.252898375193278, 0.26452094316482544, 0.24231010675430298, 0.2281473676363627, 0.235187033812205, 0.16232765714327493, 0.22079726060231528, 0.19823656479517618, 0.19838488101959229, 0.22192897399266562, 0.17612749338150024, 0.15932929515838623, 0.1584497888882955, 0.2003799875577291, 0.17234118779500326, 0.18814982970555624, 0.17442822456359863, 0.15538002053896585, 0.18115150928497314, 0.12346737583478291, 0.1815546154975891, 0.1656851867834727, 0.1518807907899221, 0.13448411226272583, 0.15278219183286032, 0.15999347964922586, 0.15666512648264566, 0.13399934768676758, 0.1032955249150594, 0.131369948387146, 0.11956800023714702, 0.1550812621911367, 0.13310815890630087, 0.1162945032119751, 0.09774753451347351, 0.08653984467188518, 0.11165123184521993, 0.10641605655352275], \"yaxis\": \"y2\"}],                        {\"annotations\": [{\"font\": {\"size\": 16}, \"showarrow\": false, \"text\": \"<b>Train Loss</b>\", \"x\": 0.5, \"xanchor\": \"center\", \"xref\": \"paper\", \"y\": 1.0, \"yanchor\": \"bottom\", \"yref\": \"paper\"}, {\"font\": {\"size\": 16}, \"showarrow\": false, \"text\": \"<b>Test Metrics</b>\", \"x\": 0.5, \"xanchor\": \"center\", \"xref\": \"paper\", \"y\": 0.375, \"yanchor\": \"bottom\", \"yref\": \"paper\"}], \"autosize\": false, \"height\": 780, \"legend\": {\"x\": 1, \"y\": 0.15}, \"margin\": {\"b\": 270}, \"paper_bgcolor\": \"rgba(240, 240, 240, 0.95)\", \"plot_bgcolor\": \"rgba(240, 240, 240, 0.95)\", \"template\": {\"data\": {\"bar\": [{\"error_x\": {\"color\": \"#2a3f5f\"}, \"error_y\": {\"color\": \"#2a3f5f\"}, \"marker\": {\"line\": {\"color\": \"#E5ECF6\", \"width\": 0.5}}, \"type\": \"bar\"}], \"barpolar\": [{\"marker\": {\"line\": {\"color\": \"#E5ECF6\", \"width\": 0.5}}, \"type\": \"barpolar\"}], \"carpet\": [{\"aaxis\": {\"endlinecolor\": \"#2a3f5f\", \"gridcolor\": \"white\", \"linecolor\": \"white\", \"minorgridcolor\": \"white\", \"startlinecolor\": \"#2a3f5f\"}, \"baxis\": {\"endlinecolor\": \"#2a3f5f\", \"gridcolor\": \"white\", \"linecolor\": \"white\", \"minorgridcolor\": \"white\", \"startlinecolor\": \"#2a3f5f\"}, \"type\": \"carpet\"}], \"choropleth\": [{\"colorbar\": {\"outlinewidth\": 0, \"ticks\": \"\"}, \"type\": \"choropleth\"}], \"contour\": [{\"colorbar\": {\"outlinewidth\": 0, \"ticks\": \"\"}, \"colorscale\": [[0.0, \"#0d0887\"], [0.1111111111111111, \"#46039f\"], [0.2222222222222222, \"#7201a8\"], [0.3333333333333333, \"#9c179e\"], [0.4444444444444444, \"#bd3786\"], [0.5555555555555556, \"#d8576b\"], [0.6666666666666666, \"#ed7953\"], [0.7777777777777778, \"#fb9f3a\"], [0.8888888888888888, \"#fdca26\"], [1.0, \"#f0f921\"]], \"type\": \"contour\"}], \"contourcarpet\": [{\"colorbar\": {\"outlinewidth\": 0, \"ticks\": \"\"}, \"type\": \"contourcarpet\"}], \"heatmap\": [{\"colorbar\": {\"outlinewidth\": 0, \"ticks\": \"\"}, \"colorscale\": [[0.0, \"#0d0887\"], [0.1111111111111111, \"#46039f\"], [0.2222222222222222, \"#7201a8\"], [0.3333333333333333, \"#9c179e\"], [0.4444444444444444, \"#bd3786\"], [0.5555555555555556, \"#d8576b\"], [0.6666666666666666, \"#ed7953\"], [0.7777777777777778, \"#fb9f3a\"], [0.8888888888888888, \"#fdca26\"], [1.0, \"#f0f921\"]], \"type\": \"heatmap\"}], \"heatmapgl\": [{\"colorbar\": {\"outlinewidth\": 0, \"ticks\": \"\"}, \"colorscale\": [[0.0, \"#0d0887\"], [0.1111111111111111, \"#46039f\"], [0.2222222222222222, \"#7201a8\"], [0.3333333333333333, \"#9c179e\"], [0.4444444444444444, \"#bd3786\"], [0.5555555555555556, \"#d8576b\"], [0.6666666666666666, \"#ed7953\"], [0.7777777777777778, \"#fb9f3a\"], [0.8888888888888888, \"#fdca26\"], [1.0, \"#f0f921\"]], \"type\": \"heatmapgl\"}], \"histogram\": [{\"marker\": {\"colorbar\": {\"outlinewidth\": 0, \"ticks\": \"\"}}, \"type\": \"histogram\"}], \"histogram2d\": [{\"colorbar\": {\"outlinewidth\": 0, \"ticks\": \"\"}, \"colorscale\": [[0.0, \"#0d0887\"], [0.1111111111111111, \"#46039f\"], [0.2222222222222222, \"#7201a8\"], [0.3333333333333333, \"#9c179e\"], [0.4444444444444444, \"#bd3786\"], [0.5555555555555556, \"#d8576b\"], [0.6666666666666666, \"#ed7953\"], [0.7777777777777778, \"#fb9f3a\"], [0.8888888888888888, \"#fdca26\"], [1.0, \"#f0f921\"]], \"type\": \"histogram2d\"}], \"histogram2dcontour\": [{\"colorbar\": {\"outlinewidth\": 0, \"ticks\": \"\"}, \"colorscale\": [[0.0, \"#0d0887\"], [0.1111111111111111, \"#46039f\"], [0.2222222222222222, \"#7201a8\"], [0.3333333333333333, \"#9c179e\"], [0.4444444444444444, \"#bd3786\"], [0.5555555555555556, \"#d8576b\"], [0.6666666666666666, \"#ed7953\"], [0.7777777777777778, \"#fb9f3a\"], [0.8888888888888888, \"#fdca26\"], [1.0, \"#f0f921\"]], \"type\": \"histogram2dcontour\"}], \"mesh3d\": [{\"colorbar\": {\"outlinewidth\": 0, \"ticks\": \"\"}, \"type\": \"mesh3d\"}], \"parcoords\": [{\"line\": {\"colorbar\": {\"outlinewidth\": 0, \"ticks\": \"\"}}, \"type\": \"parcoords\"}], \"pie\": [{\"automargin\": true, \"type\": \"pie\"}], \"scatter\": [{\"marker\": {\"colorbar\": {\"outlinewidth\": 0, \"ticks\": \"\"}}, \"type\": \"scatter\"}], \"scatter3d\": [{\"line\": {\"colorbar\": {\"outlinewidth\": 0, \"ticks\": \"\"}}, \"marker\": {\"colorbar\": {\"outlinewidth\": 0, \"ticks\": \"\"}}, \"type\": \"scatter3d\"}], \"scattercarpet\": [{\"marker\": {\"colorbar\": {\"outlinewidth\": 0, \"ticks\": \"\"}}, \"type\": \"scattercarpet\"}], \"scattergeo\": [{\"marker\": {\"colorbar\": {\"outlinewidth\": 0, \"ticks\": \"\"}}, \"type\": \"scattergeo\"}], \"scattergl\": [{\"marker\": {\"colorbar\": {\"outlinewidth\": 0, \"ticks\": \"\"}}, \"type\": \"scattergl\"}], \"scattermapbox\": [{\"marker\": {\"colorbar\": {\"outlinewidth\": 0, \"ticks\": \"\"}}, \"type\": \"scattermapbox\"}], \"scatterpolar\": [{\"marker\": {\"colorbar\": {\"outlinewidth\": 0, \"ticks\": \"\"}}, \"type\": \"scatterpolar\"}], \"scatterpolargl\": [{\"marker\": {\"colorbar\": {\"outlinewidth\": 0, \"ticks\": \"\"}}, \"type\": \"scatterpolargl\"}], \"scatterternary\": [{\"marker\": {\"colorbar\": {\"outlinewidth\": 0, \"ticks\": \"\"}}, \"type\": \"scatterternary\"}], \"surface\": [{\"colorbar\": {\"outlinewidth\": 0, \"ticks\": \"\"}, \"colorscale\": [[0.0, \"#0d0887\"], [0.1111111111111111, \"#46039f\"], [0.2222222222222222, \"#7201a8\"], [0.3333333333333333, \"#9c179e\"], [0.4444444444444444, \"#bd3786\"], [0.5555555555555556, \"#d8576b\"], [0.6666666666666666, \"#ed7953\"], [0.7777777777777778, \"#fb9f3a\"], [0.8888888888888888, \"#fdca26\"], [1.0, \"#f0f921\"]], \"type\": \"surface\"}], \"table\": [{\"cells\": {\"fill\": {\"color\": \"#EBF0F8\"}, \"line\": {\"color\": \"white\"}}, \"header\": {\"fill\": {\"color\": \"#C8D4E3\"}, \"line\": {\"color\": \"white\"}}, \"type\": \"table\"}]}, \"layout\": {\"annotationdefaults\": {\"arrowcolor\": \"#2a3f5f\", \"arrowhead\": 0, \"arrowwidth\": 1}, \"coloraxis\": {\"colorbar\": {\"outlinewidth\": 0, \"ticks\": \"\"}}, \"colorscale\": {\"diverging\": [[0, \"#8e0152\"], [0.1, \"#c51b7d\"], [0.2, \"#de77ae\"], [0.3, \"#f1b6da\"], [0.4, \"#fde0ef\"], [0.5, \"#f7f7f7\"], [0.6, \"#e6f5d0\"], [0.7, \"#b8e186\"], [0.8, \"#7fbc41\"], [0.9, \"#4d9221\"], [1, \"#276419\"]], \"sequential\": [[0.0, \"#0d0887\"], [0.1111111111111111, \"#46039f\"], [0.2222222222222222, \"#7201a8\"], [0.3333333333333333, \"#9c179e\"], [0.4444444444444444, \"#bd3786\"], [0.5555555555555556, \"#d8576b\"], [0.6666666666666666, \"#ed7953\"], [0.7777777777777778, \"#fb9f3a\"], [0.8888888888888888, \"#fdca26\"], [1.0, \"#f0f921\"]], \"sequentialminus\": [[0.0, \"#0d0887\"], [0.1111111111111111, \"#46039f\"], [0.2222222222222222, \"#7201a8\"], [0.3333333333333333, \"#9c179e\"], [0.4444444444444444, \"#bd3786\"], [0.5555555555555556, \"#d8576b\"], [0.6666666666666666, \"#ed7953\"], [0.7777777777777778, \"#fb9f3a\"], [0.8888888888888888, \"#fdca26\"], [1.0, \"#f0f921\"]]}, \"colorway\": [\"#636efa\", \"#EF553B\", \"#00cc96\", \"#ab63fa\", \"#FFA15A\", \"#19d3f3\", \"#FF6692\", \"#B6E880\", \"#FF97FF\", \"#FECB52\"], \"font\": {\"color\": \"#2a3f5f\"}, \"geo\": {\"bgcolor\": \"white\", \"lakecolor\": \"white\", \"landcolor\": \"#E5ECF6\", \"showlakes\": true, \"showland\": true, \"subunitcolor\": \"white\"}, \"hoverlabel\": {\"align\": \"left\"}, \"hovermode\": \"closest\", \"mapbox\": {\"style\": \"light\"}, \"paper_bgcolor\": \"white\", \"plot_bgcolor\": \"#E5ECF6\", \"polar\": {\"angularaxis\": {\"gridcolor\": \"white\", \"linecolor\": \"white\", \"ticks\": \"\"}, \"bgcolor\": \"#E5ECF6\", \"radialaxis\": {\"gridcolor\": \"white\", \"linecolor\": \"white\", \"ticks\": \"\"}}, \"scene\": {\"xaxis\": {\"backgroundcolor\": \"#E5ECF6\", \"gridcolor\": \"white\", \"gridwidth\": 2, \"linecolor\": \"white\", \"showbackground\": true, \"ticks\": \"\", \"zerolinecolor\": \"white\"}, \"yaxis\": {\"backgroundcolor\": \"#E5ECF6\", \"gridcolor\": \"white\", \"gridwidth\": 2, \"linecolor\": \"white\", \"showbackground\": true, \"ticks\": \"\", \"zerolinecolor\": \"white\"}, \"zaxis\": {\"backgroundcolor\": \"#E5ECF6\", \"gridcolor\": \"white\", \"gridwidth\": 2, \"linecolor\": \"white\", \"showbackground\": true, \"ticks\": \"\", \"zerolinecolor\": \"white\"}}, \"shapedefaults\": {\"line\": {\"color\": \"#2a3f5f\"}}, \"ternary\": {\"aaxis\": {\"gridcolor\": \"white\", \"linecolor\": \"white\", \"ticks\": \"\"}, \"baxis\": {\"gridcolor\": \"white\", \"linecolor\": \"white\", \"ticks\": \"\"}, \"bgcolor\": \"#E5ECF6\", \"caxis\": {\"gridcolor\": \"white\", \"linecolor\": \"white\", \"ticks\": \"\"}}, \"title\": {\"x\": 0.05}, \"xaxis\": {\"automargin\": true, \"gridcolor\": \"white\", \"linecolor\": \"white\", \"ticks\": \"\", \"title\": {\"standoff\": 15}, \"zerolinecolor\": \"white\", \"zerolinewidth\": 2}, \"yaxis\": {\"automargin\": true, \"gridcolor\": \"white\", \"linecolor\": \"white\", \"ticks\": \"\", \"title\": {\"standoff\": 15}, \"zerolinecolor\": \"white\", \"zerolinewidth\": 2}}}, \"title\": {\"text\": \"<b>Model performance report</b><br>Salary Predictor with BatchNorm and GRU Layer (Title) (Bidirectional)<br><br><br><br><br><br><br><br><br><br><br><br><br><br><br><br><br><br><br><br><br><br><br><br><b><i>Train Loss Stat Values:</i></b><br>Max: 1.46   Mean: 0.21   Min: 0.09   Median: 0.16   Var: 0.04<br><br><b><i>Mean Absolute Error Stat Values:</i></b><br>Max: 0.42   Mean: 0.22   Min: 0.13   Median: 0.20   Var: 0.00<br><br><b><i>Mean Mean Squared Error Stat Values:</i></b><br>Max: 0.85   Mean: 0.24   Min: 0.09   Median: 0.18   Var: 0.03\", \"x\": 0.5, \"xanchor\": \"center\", \"y\": 0.95, \"yanchor\": \"top\"}, \"width\": 900, \"xaxis\": {\"anchor\": \"y\", \"domain\": [0.0, 1.0]}, \"xaxis2\": {\"anchor\": \"y2\", \"domain\": [0.0, 1.0]}, \"yaxis\": {\"anchor\": \"x\", \"domain\": [0.625, 1.0], \"range\": [0, 1]}, \"yaxis2\": {\"anchor\": \"x2\", \"domain\": [0.0, 0.375], \"range\": [0, 1]}},                        {\"responsive\": true}                    ).then(function(){\n",
       "                            \n",
       "var gd = document.getElementById('2432413a-86ee-4f1c-82bd-9c013e235356');\n",
       "var x = new MutationObserver(function (mutations, observer) {{\n",
       "        var display = window.getComputedStyle(gd).display;\n",
       "        if (!display || display === 'none') {{\n",
       "            console.log([gd, 'removed!']);\n",
       "            Plotly.purge(gd);\n",
       "            observer.disconnect();\n",
       "        }}\n",
       "}});\n",
       "\n",
       "// Listen for the removal of the full notebook cells\n",
       "var notebookContainer = gd.closest('#notebook-container');\n",
       "if (notebookContainer) {{\n",
       "    x.observe(notebookContainer, {childList: true});\n",
       "}}\n",
       "\n",
       "// Listen for the clearing of the current output cell\n",
       "var outputEl = gd.closest('.output');\n",
       "if (outputEl) {{\n",
       "    x.observe(outputEl, {childList: true});\n",
       "}}\n",
       "\n",
       "                        })                };                });            </script>        </div>"
      ]
     },
     "metadata": {},
     "output_type": "display_data"
    }
   ],
   "source": [
    "draw_loss_acc_plot('Salary Predictor with BatchNorm and GRU Layer (Title) (Bidirectional)', train_loss_11, list_mae_11, list_mse_11)"
   ]
  },
  {
   "cell_type": "code",
   "execution_count": 502,
   "metadata": {},
   "outputs": [
    {
     "name": "stdout",
     "output_type": "stream",
     "text": [
      "epoch: 0\n"
     ]
    },
    {
     "data": {
      "application/vnd.jupyter.widget-view+json": {
       "model_id": "3ae7fcd688614480ba9b7dbdba768c01",
       "version_major": 2,
       "version_minor": 0
      },
      "text/plain": [
       "HBox(children=(FloatProgress(value=0.0, max=1721.0), HTML(value='')))"
      ]
     },
     "metadata": {},
     "output_type": "display_data"
    },
    {
     "name": "stdout",
     "output_type": "stream",
     "text": [
      "train_loss 2.4311275482177734\n",
      "val results:\n",
      "Mean square error: 1.58152\n",
      "Mean absolute error: 0.60414\n",
      "train_loss 0.7110796570777893\n",
      "val results:\n",
      "Mean square error: 0.78291\n",
      "Mean absolute error: 0.41744\n",
      "train_loss 0.4688250422477722\n",
      "val results:\n",
      "Mean square error: 0.53390\n",
      "Mean absolute error: 0.34027\n",
      "train_loss 0.8332853317260742\n",
      "val results:\n",
      "Mean square error: 0.54095\n",
      "Mean absolute error: 0.34599\n",
      "train_loss 0.2506342828273773\n",
      "val results:\n",
      "Mean square error: 0.46227\n",
      "Mean absolute error: 0.31859\n",
      "train_loss 0.3947269916534424\n",
      "val results:\n",
      "Mean square error: 0.40217\n",
      "Mean absolute error: 0.29591\n",
      "train_loss 0.37565499544143677\n",
      "val results:\n",
      "Mean square error: 0.37983\n",
      "Mean absolute error: 0.28818\n",
      "train_loss 0.2549913823604584\n",
      "val results:\n",
      "Mean square error: 0.36360\n",
      "Mean absolute error: 0.28163\n",
      "train_loss 0.2516132593154907\n",
      "val results:\n",
      "Mean square error: 0.37927\n",
      "Mean absolute error: 0.28899\n",
      "train_loss 0.21968954801559448\n",
      "val results:\n",
      "Mean square error: 0.32822\n",
      "Mean absolute error: 0.26714\n",
      "train_loss 0.22500571608543396\n",
      "val results:\n",
      "Mean square error: 0.34527\n",
      "Mean absolute error: 0.27561\n",
      "train_loss 0.2463725060224533\n",
      "val results:\n",
      "Mean square error: 0.40185\n",
      "Mean absolute error: 0.30031\n",
      "train_loss 0.3964443802833557\n",
      "val results:\n",
      "Mean square error: 0.30133\n",
      "Mean absolute error: 0.25595\n",
      "train_loss 0.30525022745132446\n",
      "val results:\n",
      "Mean square error: 0.26652\n",
      "Mean absolute error: 0.23863\n",
      "train_loss 0.2167043536901474\n",
      "val results:\n",
      "Mean square error: 0.33137\n",
      "Mean absolute error: 0.27063\n",
      "train_loss 0.23710165917873383\n",
      "val results:\n",
      "Mean square error: 0.29554\n",
      "Mean absolute error: 0.25375\n",
      "train_loss 0.16319772601127625\n",
      "val results:\n",
      "Mean square error: 0.31754\n",
      "Mean absolute error: 0.26481\n",
      "\n",
      "epoch: 1\n"
     ]
    },
    {
     "data": {
      "application/vnd.jupyter.widget-view+json": {
       "model_id": "8ba3f76345d94568991dff8116bb2c76",
       "version_major": 2,
       "version_minor": 0
      },
      "text/plain": [
       "HBox(children=(FloatProgress(value=0.0, max=1721.0), HTML(value='')))"
      ]
     },
     "metadata": {},
     "output_type": "display_data"
    },
    {
     "name": "stdout",
     "output_type": "stream",
     "text": [
      "train_loss 0.25924015045166016\n",
      "val results:\n",
      "Mean square error: 0.26620\n",
      "Mean absolute error: 0.24008\n",
      "train_loss 0.17335018515586853\n",
      "val results:\n",
      "Mean square error: 0.27006\n",
      "Mean absolute error: 0.24215\n",
      "train_loss 0.1379833072423935\n",
      "val results:\n",
      "Mean square error: 0.21903\n",
      "Mean absolute error: 0.21514\n",
      "train_loss 0.12657450139522552\n",
      "val results:\n",
      "Mean square error: 0.25517\n",
      "Mean absolute error: 0.23487\n",
      "train_loss 0.18299518525600433\n",
      "val results:\n",
      "Mean square error: 0.28913\n",
      "Mean absolute error: 0.25220\n",
      "train_loss 0.15524959564208984\n",
      "val results:\n",
      "Mean square error: 0.27730\n",
      "Mean absolute error: 0.24629\n",
      "train_loss 0.1525503247976303\n",
      "val results:\n",
      "Mean square error: 0.23510\n",
      "Mean absolute error: 0.22490\n",
      "train_loss 0.17945735156536102\n",
      "val results:\n",
      "Mean square error: 0.23051\n",
      "Mean absolute error: 0.22254\n",
      "train_loss 0.1752813458442688\n",
      "val results:\n",
      "Mean square error: 0.23998\n",
      "Mean absolute error: 0.22778\n",
      "train_loss 0.25464415550231934\n",
      "val results:\n",
      "Mean square error: 0.30321\n",
      "Mean absolute error: 0.26007\n",
      "train_loss 0.19793379306793213\n",
      "val results:\n",
      "Mean square error: 0.28100\n",
      "Mean absolute error: 0.24913\n",
      "train_loss 0.16976617276668549\n",
      "val results:\n",
      "Mean square error: 0.26736\n",
      "Mean absolute error: 0.24256\n",
      "train_loss 0.20477789640426636\n",
      "val results:\n",
      "Mean square error: 0.24368\n",
      "Mean absolute error: 0.23070\n",
      "train_loss 0.38990676403045654\n",
      "val results:\n",
      "Mean square error: 0.24057\n",
      "Mean absolute error: 0.22887\n",
      "train_loss 0.3524605929851532\n",
      "val results:\n",
      "Mean square error: 0.20533\n",
      "Mean absolute error: 0.20924\n",
      "train_loss 0.14536318182945251\n",
      "val results:\n",
      "Mean square error: 0.25884\n",
      "Mean absolute error: 0.23883\n",
      "train_loss 0.13104119896888733\n",
      "val results:\n",
      "Mean square error: 0.23020\n",
      "Mean absolute error: 0.22397\n",
      "\n",
      "epoch: 2\n"
     ]
    },
    {
     "data": {
      "application/vnd.jupyter.widget-view+json": {
       "model_id": "7054587df911416c97abff1525f0aed3",
       "version_major": 2,
       "version_minor": 0
      },
      "text/plain": [
       "HBox(children=(FloatProgress(value=0.0, max=1721.0), HTML(value='')))"
      ]
     },
     "metadata": {},
     "output_type": "display_data"
    },
    {
     "name": "stdout",
     "output_type": "stream",
     "text": [
      "train_loss 0.11583413183689117\n",
      "val results:\n",
      "Mean square error: 0.24791\n",
      "Mean absolute error: 0.23337\n",
      "train_loss 0.1491912305355072\n",
      "val results:\n",
      "Mean square error: 0.19361\n",
      "Mean absolute error: 0.20317\n",
      "train_loss 0.1597648411989212\n",
      "val results:\n",
      "Mean square error: 0.24936\n",
      "Mean absolute error: 0.23453\n",
      "train_loss 0.14169250428676605\n",
      "val results:\n",
      "Mean square error: 0.19556\n",
      "Mean absolute error: 0.20443\n",
      "train_loss 0.15195554494857788\n",
      "val results:\n",
      "Mean square error: 0.22119\n",
      "Mean absolute error: 0.21939\n",
      "train_loss 0.13815265893936157\n",
      "val results:\n",
      "Mean square error: 0.27841\n",
      "Mean absolute error: 0.24929\n",
      "train_loss 0.1550302356481552\n",
      "val results:\n",
      "Mean square error: 0.29768\n",
      "Mean absolute error: 0.25835\n",
      "train_loss 0.13750894367694855\n",
      "val results:\n",
      "Mean square error: 0.23035\n",
      "Mean absolute error: 0.22446\n",
      "train_loss 0.21031658351421356\n",
      "val results:\n",
      "Mean square error: 0.21639\n",
      "Mean absolute error: 0.21641\n",
      "train_loss 0.19737602770328522\n",
      "val results:\n",
      "Mean square error: 0.24105\n",
      "Mean absolute error: 0.23024\n",
      "train_loss 0.14833498001098633\n",
      "val results:\n",
      "Mean square error: 0.17556\n",
      "Mean absolute error: 0.19301\n",
      "train_loss 0.1488625854253769\n",
      "val results:\n",
      "Mean square error: 0.26949\n",
      "Mean absolute error: 0.24538\n",
      "train_loss 0.1535719782114029\n",
      "val results:\n",
      "Mean square error: 0.23198\n",
      "Mean absolute error: 0.22588\n",
      "train_loss 0.13024869561195374\n",
      "val results:\n",
      "Mean square error: 0.16641\n",
      "Mean absolute error: 0.18759\n",
      "train_loss 0.16933345794677734\n",
      "val results:\n",
      "Mean square error: 0.17803\n",
      "Mean absolute error: 0.19518\n",
      "train_loss 0.10484584420919418\n",
      "val results:\n",
      "Mean square error: 0.20723\n",
      "Mean absolute error: 0.21266\n",
      "train_loss 0.08719240874052048\n",
      "val results:\n",
      "Mean square error: 0.17679\n",
      "Mean absolute error: 0.19436\n",
      "\n"
     ]
    }
   ],
   "source": [
    "model = SalaryPredictorGRU(bidirectional=False).to(DEVICE)\n",
    "criterion = nn.MSELoss(reduction='mean')\n",
    "optimizer = torch.optim.Adam(model.parameters(), lr=1e-3)\n",
    "list_mse_12 = []\n",
    "list_mae_12 = []\n",
    "train_loss_12 = []\n",
    "\n",
    "for epoch in range(EPOCHS):\n",
    "    print(f\"epoch: {epoch}\")\n",
    "    for i, batch in tqdm.notebook.tqdm(enumerate(\n",
    "            iterate_minibatches(\n",
    "                    data_train, \n",
    "                    batch_size=BATCH_SIZE, \n",
    "                    device=DEVICE)), \n",
    "                total=len(data_train) // BATCH_SIZE\n",
    "        ):\n",
    "        model.train()\n",
    "        pred = model(batch)\n",
    "        optimizer.zero_grad()\n",
    "        loss = criterion(pred, batch[TARGET_COLUMN])\n",
    "        loss.backward()\n",
    "        optimizer.step()\n",
    "\n",
    "        if i % 100 == 99:\n",
    "            print('train_loss', loss.item())\n",
    "            train_loss_12.append(loss.item())\n",
    "            print_metrics(model, data_val, list_mse=list_mse_12, list_mae=list_mae_12, \n",
    "                          name='val', batch_size=BATCH_SIZE, device=DEVICE)"
   ]
  },
  {
   "cell_type": "code",
   "execution_count": 504,
   "metadata": {},
   "outputs": [
    {
     "data": {
      "application/vnd.plotly.v1+json": {
       "config": {
        "linkText": "Export to plot.ly",
        "plotlyServerURL": "https://plot.ly",
        "showLink": false
       },
       "data": [
        {
         "mode": "lines",
         "name": "Train Loss",
         "showlegend": false,
         "type": "scatter",
         "x": [
          0,
          1,
          2,
          3,
          4,
          5,
          6,
          7,
          8,
          9,
          10,
          11,
          12,
          13,
          14,
          15,
          16,
          17,
          18,
          19,
          20,
          21,
          22,
          23,
          24,
          25,
          26,
          27,
          28,
          29,
          30,
          31,
          32,
          33,
          34,
          35,
          36,
          37,
          38,
          39,
          40,
          41,
          42,
          43,
          44,
          45,
          46,
          47,
          48,
          49,
          50
         ],
         "xaxis": "x",
         "y": [
          2.4311275482177734,
          0.7110796570777893,
          0.4688250422477722,
          0.8332853317260742,
          0.2506342828273773,
          0.3947269916534424,
          0.37565499544143677,
          0.2549913823604584,
          0.2516132593154907,
          0.21968954801559448,
          0.22500571608543396,
          0.2463725060224533,
          0.3964443802833557,
          0.30525022745132446,
          0.2167043536901474,
          0.23710165917873383,
          0.16319772601127625,
          0.25924015045166016,
          0.17335018515586853,
          0.1379833072423935,
          0.12657450139522552,
          0.18299518525600433,
          0.15524959564208984,
          0.1525503247976303,
          0.17945735156536102,
          0.1752813458442688,
          0.25464415550231934,
          0.19793379306793213,
          0.16976617276668549,
          0.20477789640426636,
          0.38990676403045654,
          0.3524605929851532,
          0.14536318182945251,
          0.13104119896888733,
          0.11583413183689117,
          0.1491912305355072,
          0.1597648411989212,
          0.14169250428676605,
          0.15195554494857788,
          0.13815265893936157,
          0.1550302356481552,
          0.13750894367694855,
          0.21031658351421356,
          0.19737602770328522,
          0.14833498001098633,
          0.1488625854253769,
          0.1535719782114029,
          0.13024869561195374,
          0.16933345794677734,
          0.10484584420919418,
          0.08719240874052048
         ],
         "yaxis": "y"
        },
        {
         "mode": "lines",
         "name": "MAE",
         "type": "scatter",
         "x": [
          0,
          1,
          2,
          3,
          4,
          5,
          6,
          7,
          8,
          9,
          10,
          11,
          12,
          13,
          14,
          15,
          16,
          17,
          18,
          19,
          20,
          21,
          22,
          23,
          24,
          25,
          26,
          27,
          28,
          29,
          30,
          31,
          32,
          33,
          34,
          35,
          36,
          37,
          38,
          39,
          40,
          41,
          42,
          43,
          44,
          45,
          46,
          47,
          48,
          49,
          50
         ],
         "xaxis": "x2",
         "y": [
          0.6041393677393595,
          0.4174357255299886,
          0.34026646614074707,
          0.34598803520202637,
          0.31858666737874347,
          0.2959062059720357,
          0.28818321228027344,
          0.2816263635953267,
          0.28898706038792926,
          0.2671379844347636,
          0.27560917536417645,
          0.30031222105026245,
          0.2559549609820048,
          0.23863069216410318,
          0.270632266998291,
          0.2537519534428914,
          0.2648101846377055,
          0.24007825056711832,
          0.24215449889500937,
          0.21513559420903525,
          0.2348687251408895,
          0.25219903389612836,
          0.24629046519597372,
          0.22490495443344116,
          0.22254000107447305,
          0.22777958710988364,
          0.2600707809130351,
          0.24913458029429117,
          0.24255657196044922,
          0.23069506883621216,
          0.22886798779169717,
          0.20924407243728638,
          0.2388319969177246,
          0.22396727403004965,
          0.2333698272705078,
          0.20317278305689493,
          0.2345296541849772,
          0.20442932844161987,
          0.2193885842959086,
          0.24928985039393106,
          0.25835394859313965,
          0.22446024417877197,
          0.21641000111897787,
          0.23024181524912515,
          0.1930086612701416,
          0.24537541468938193,
          0.22587905327479044,
          0.18758569161097208,
          0.19517521063486734,
          0.21266372998555502,
          0.19435801108678183
         ],
         "yaxis": "y2"
        },
        {
         "mode": "lines",
         "name": "MSE",
         "type": "scatter",
         "x": [
          0,
          1,
          2,
          3,
          4,
          5,
          6,
          7,
          8,
          9,
          10,
          11,
          12,
          13,
          14,
          15,
          16,
          17,
          18,
          19,
          20,
          21,
          22,
          23,
          24,
          25,
          26,
          27,
          28,
          29,
          30,
          31,
          32,
          33,
          34,
          35,
          36,
          37,
          38,
          39,
          40,
          41,
          42,
          43,
          44,
          45,
          46,
          47,
          48,
          49,
          50
         ],
         "xaxis": "x2",
         "y": [
          1.5815167427062988,
          0.78291122118632,
          0.5339036782582601,
          0.540945291519165,
          0.46227407455444336,
          0.4021671215693156,
          0.37982579072316486,
          0.363601287206014,
          0.37927476565043133,
          0.32821818192799884,
          0.3452674945195516,
          0.4018501440684001,
          0.3013272484143575,
          0.26651980479558307,
          0.33137309551239014,
          0.2955367962519328,
          0.31753915548324585,
          0.26620233058929443,
          0.2700609763463338,
          0.21902589003245035,
          0.2551686763763428,
          0.2891279458999634,
          0.27729878822962445,
          0.2351000706354777,
          0.23051238059997559,
          0.2399778962135315,
          0.30320576826731366,
          0.2809959848721822,
          0.2673571705818176,
          0.24367554982503256,
          0.24056841929753622,
          0.20533414681752524,
          0.25883758068084717,
          0.2302046219507853,
          0.24791244665781656,
          0.19360987345377603,
          0.2493587334950765,
          0.19556216398874918,
          0.22118747234344482,
          0.27841252088546753,
          0.29768437147140503,
          0.23034854729970297,
          0.2163881262143453,
          0.24104533592859903,
          0.17555818955103555,
          0.26948503653208417,
          0.23198447624842325,
          0.1664114793141683,
          0.17802502711613974,
          0.20723011096318564,
          0.17679176727930704
         ],
         "yaxis": "y2"
        }
       ],
       "layout": {
        "annotations": [
         {
          "font": {
           "size": 16
          },
          "showarrow": false,
          "text": "<b>Train Loss</b>",
          "x": 0.5,
          "xanchor": "center",
          "xref": "paper",
          "y": 1,
          "yanchor": "bottom",
          "yref": "paper"
         },
         {
          "font": {
           "size": 16
          },
          "showarrow": false,
          "text": "<b>Test Metrics</b>",
          "x": 0.5,
          "xanchor": "center",
          "xref": "paper",
          "y": 0.375,
          "yanchor": "bottom",
          "yref": "paper"
         }
        ],
        "autosize": false,
        "height": 780,
        "legend": {
         "x": 1,
         "y": 0.15
        },
        "margin": {
         "b": 270
        },
        "paper_bgcolor": "rgba(240, 240, 240, 0.95)",
        "plot_bgcolor": "rgba(240, 240, 240, 0.95)",
        "template": {
         "data": {
          "bar": [
           {
            "error_x": {
             "color": "#2a3f5f"
            },
            "error_y": {
             "color": "#2a3f5f"
            },
            "marker": {
             "line": {
              "color": "#E5ECF6",
              "width": 0.5
             }
            },
            "type": "bar"
           }
          ],
          "barpolar": [
           {
            "marker": {
             "line": {
              "color": "#E5ECF6",
              "width": 0.5
             }
            },
            "type": "barpolar"
           }
          ],
          "carpet": [
           {
            "aaxis": {
             "endlinecolor": "#2a3f5f",
             "gridcolor": "white",
             "linecolor": "white",
             "minorgridcolor": "white",
             "startlinecolor": "#2a3f5f"
            },
            "baxis": {
             "endlinecolor": "#2a3f5f",
             "gridcolor": "white",
             "linecolor": "white",
             "minorgridcolor": "white",
             "startlinecolor": "#2a3f5f"
            },
            "type": "carpet"
           }
          ],
          "choropleth": [
           {
            "colorbar": {
             "outlinewidth": 0,
             "ticks": ""
            },
            "type": "choropleth"
           }
          ],
          "contour": [
           {
            "colorbar": {
             "outlinewidth": 0,
             "ticks": ""
            },
            "colorscale": [
             [
              0,
              "#0d0887"
             ],
             [
              0.1111111111111111,
              "#46039f"
             ],
             [
              0.2222222222222222,
              "#7201a8"
             ],
             [
              0.3333333333333333,
              "#9c179e"
             ],
             [
              0.4444444444444444,
              "#bd3786"
             ],
             [
              0.5555555555555556,
              "#d8576b"
             ],
             [
              0.6666666666666666,
              "#ed7953"
             ],
             [
              0.7777777777777778,
              "#fb9f3a"
             ],
             [
              0.8888888888888888,
              "#fdca26"
             ],
             [
              1,
              "#f0f921"
             ]
            ],
            "type": "contour"
           }
          ],
          "contourcarpet": [
           {
            "colorbar": {
             "outlinewidth": 0,
             "ticks": ""
            },
            "type": "contourcarpet"
           }
          ],
          "heatmap": [
           {
            "colorbar": {
             "outlinewidth": 0,
             "ticks": ""
            },
            "colorscale": [
             [
              0,
              "#0d0887"
             ],
             [
              0.1111111111111111,
              "#46039f"
             ],
             [
              0.2222222222222222,
              "#7201a8"
             ],
             [
              0.3333333333333333,
              "#9c179e"
             ],
             [
              0.4444444444444444,
              "#bd3786"
             ],
             [
              0.5555555555555556,
              "#d8576b"
             ],
             [
              0.6666666666666666,
              "#ed7953"
             ],
             [
              0.7777777777777778,
              "#fb9f3a"
             ],
             [
              0.8888888888888888,
              "#fdca26"
             ],
             [
              1,
              "#f0f921"
             ]
            ],
            "type": "heatmap"
           }
          ],
          "heatmapgl": [
           {
            "colorbar": {
             "outlinewidth": 0,
             "ticks": ""
            },
            "colorscale": [
             [
              0,
              "#0d0887"
             ],
             [
              0.1111111111111111,
              "#46039f"
             ],
             [
              0.2222222222222222,
              "#7201a8"
             ],
             [
              0.3333333333333333,
              "#9c179e"
             ],
             [
              0.4444444444444444,
              "#bd3786"
             ],
             [
              0.5555555555555556,
              "#d8576b"
             ],
             [
              0.6666666666666666,
              "#ed7953"
             ],
             [
              0.7777777777777778,
              "#fb9f3a"
             ],
             [
              0.8888888888888888,
              "#fdca26"
             ],
             [
              1,
              "#f0f921"
             ]
            ],
            "type": "heatmapgl"
           }
          ],
          "histogram": [
           {
            "marker": {
             "colorbar": {
              "outlinewidth": 0,
              "ticks": ""
             }
            },
            "type": "histogram"
           }
          ],
          "histogram2d": [
           {
            "colorbar": {
             "outlinewidth": 0,
             "ticks": ""
            },
            "colorscale": [
             [
              0,
              "#0d0887"
             ],
             [
              0.1111111111111111,
              "#46039f"
             ],
             [
              0.2222222222222222,
              "#7201a8"
             ],
             [
              0.3333333333333333,
              "#9c179e"
             ],
             [
              0.4444444444444444,
              "#bd3786"
             ],
             [
              0.5555555555555556,
              "#d8576b"
             ],
             [
              0.6666666666666666,
              "#ed7953"
             ],
             [
              0.7777777777777778,
              "#fb9f3a"
             ],
             [
              0.8888888888888888,
              "#fdca26"
             ],
             [
              1,
              "#f0f921"
             ]
            ],
            "type": "histogram2d"
           }
          ],
          "histogram2dcontour": [
           {
            "colorbar": {
             "outlinewidth": 0,
             "ticks": ""
            },
            "colorscale": [
             [
              0,
              "#0d0887"
             ],
             [
              0.1111111111111111,
              "#46039f"
             ],
             [
              0.2222222222222222,
              "#7201a8"
             ],
             [
              0.3333333333333333,
              "#9c179e"
             ],
             [
              0.4444444444444444,
              "#bd3786"
             ],
             [
              0.5555555555555556,
              "#d8576b"
             ],
             [
              0.6666666666666666,
              "#ed7953"
             ],
             [
              0.7777777777777778,
              "#fb9f3a"
             ],
             [
              0.8888888888888888,
              "#fdca26"
             ],
             [
              1,
              "#f0f921"
             ]
            ],
            "type": "histogram2dcontour"
           }
          ],
          "mesh3d": [
           {
            "colorbar": {
             "outlinewidth": 0,
             "ticks": ""
            },
            "type": "mesh3d"
           }
          ],
          "parcoords": [
           {
            "line": {
             "colorbar": {
              "outlinewidth": 0,
              "ticks": ""
             }
            },
            "type": "parcoords"
           }
          ],
          "pie": [
           {
            "automargin": true,
            "type": "pie"
           }
          ],
          "scatter": [
           {
            "marker": {
             "colorbar": {
              "outlinewidth": 0,
              "ticks": ""
             }
            },
            "type": "scatter"
           }
          ],
          "scatter3d": [
           {
            "line": {
             "colorbar": {
              "outlinewidth": 0,
              "ticks": ""
             }
            },
            "marker": {
             "colorbar": {
              "outlinewidth": 0,
              "ticks": ""
             }
            },
            "type": "scatter3d"
           }
          ],
          "scattercarpet": [
           {
            "marker": {
             "colorbar": {
              "outlinewidth": 0,
              "ticks": ""
             }
            },
            "type": "scattercarpet"
           }
          ],
          "scattergeo": [
           {
            "marker": {
             "colorbar": {
              "outlinewidth": 0,
              "ticks": ""
             }
            },
            "type": "scattergeo"
           }
          ],
          "scattergl": [
           {
            "marker": {
             "colorbar": {
              "outlinewidth": 0,
              "ticks": ""
             }
            },
            "type": "scattergl"
           }
          ],
          "scattermapbox": [
           {
            "marker": {
             "colorbar": {
              "outlinewidth": 0,
              "ticks": ""
             }
            },
            "type": "scattermapbox"
           }
          ],
          "scatterpolar": [
           {
            "marker": {
             "colorbar": {
              "outlinewidth": 0,
              "ticks": ""
             }
            },
            "type": "scatterpolar"
           }
          ],
          "scatterpolargl": [
           {
            "marker": {
             "colorbar": {
              "outlinewidth": 0,
              "ticks": ""
             }
            },
            "type": "scatterpolargl"
           }
          ],
          "scatterternary": [
           {
            "marker": {
             "colorbar": {
              "outlinewidth": 0,
              "ticks": ""
             }
            },
            "type": "scatterternary"
           }
          ],
          "surface": [
           {
            "colorbar": {
             "outlinewidth": 0,
             "ticks": ""
            },
            "colorscale": [
             [
              0,
              "#0d0887"
             ],
             [
              0.1111111111111111,
              "#46039f"
             ],
             [
              0.2222222222222222,
              "#7201a8"
             ],
             [
              0.3333333333333333,
              "#9c179e"
             ],
             [
              0.4444444444444444,
              "#bd3786"
             ],
             [
              0.5555555555555556,
              "#d8576b"
             ],
             [
              0.6666666666666666,
              "#ed7953"
             ],
             [
              0.7777777777777778,
              "#fb9f3a"
             ],
             [
              0.8888888888888888,
              "#fdca26"
             ],
             [
              1,
              "#f0f921"
             ]
            ],
            "type": "surface"
           }
          ],
          "table": [
           {
            "cells": {
             "fill": {
              "color": "#EBF0F8"
             },
             "line": {
              "color": "white"
             }
            },
            "header": {
             "fill": {
              "color": "#C8D4E3"
             },
             "line": {
              "color": "white"
             }
            },
            "type": "table"
           }
          ]
         },
         "layout": {
          "annotationdefaults": {
           "arrowcolor": "#2a3f5f",
           "arrowhead": 0,
           "arrowwidth": 1
          },
          "coloraxis": {
           "colorbar": {
            "outlinewidth": 0,
            "ticks": ""
           }
          },
          "colorscale": {
           "diverging": [
            [
             0,
             "#8e0152"
            ],
            [
             0.1,
             "#c51b7d"
            ],
            [
             0.2,
             "#de77ae"
            ],
            [
             0.3,
             "#f1b6da"
            ],
            [
             0.4,
             "#fde0ef"
            ],
            [
             0.5,
             "#f7f7f7"
            ],
            [
             0.6,
             "#e6f5d0"
            ],
            [
             0.7,
             "#b8e186"
            ],
            [
             0.8,
             "#7fbc41"
            ],
            [
             0.9,
             "#4d9221"
            ],
            [
             1,
             "#276419"
            ]
           ],
           "sequential": [
            [
             0,
             "#0d0887"
            ],
            [
             0.1111111111111111,
             "#46039f"
            ],
            [
             0.2222222222222222,
             "#7201a8"
            ],
            [
             0.3333333333333333,
             "#9c179e"
            ],
            [
             0.4444444444444444,
             "#bd3786"
            ],
            [
             0.5555555555555556,
             "#d8576b"
            ],
            [
             0.6666666666666666,
             "#ed7953"
            ],
            [
             0.7777777777777778,
             "#fb9f3a"
            ],
            [
             0.8888888888888888,
             "#fdca26"
            ],
            [
             1,
             "#f0f921"
            ]
           ],
           "sequentialminus": [
            [
             0,
             "#0d0887"
            ],
            [
             0.1111111111111111,
             "#46039f"
            ],
            [
             0.2222222222222222,
             "#7201a8"
            ],
            [
             0.3333333333333333,
             "#9c179e"
            ],
            [
             0.4444444444444444,
             "#bd3786"
            ],
            [
             0.5555555555555556,
             "#d8576b"
            ],
            [
             0.6666666666666666,
             "#ed7953"
            ],
            [
             0.7777777777777778,
             "#fb9f3a"
            ],
            [
             0.8888888888888888,
             "#fdca26"
            ],
            [
             1,
             "#f0f921"
            ]
           ]
          },
          "colorway": [
           "#636efa",
           "#EF553B",
           "#00cc96",
           "#ab63fa",
           "#FFA15A",
           "#19d3f3",
           "#FF6692",
           "#B6E880",
           "#FF97FF",
           "#FECB52"
          ],
          "font": {
           "color": "#2a3f5f"
          },
          "geo": {
           "bgcolor": "white",
           "lakecolor": "white",
           "landcolor": "#E5ECF6",
           "showlakes": true,
           "showland": true,
           "subunitcolor": "white"
          },
          "hoverlabel": {
           "align": "left"
          },
          "hovermode": "closest",
          "mapbox": {
           "style": "light"
          },
          "paper_bgcolor": "white",
          "plot_bgcolor": "#E5ECF6",
          "polar": {
           "angularaxis": {
            "gridcolor": "white",
            "linecolor": "white",
            "ticks": ""
           },
           "bgcolor": "#E5ECF6",
           "radialaxis": {
            "gridcolor": "white",
            "linecolor": "white",
            "ticks": ""
           }
          },
          "scene": {
           "xaxis": {
            "backgroundcolor": "#E5ECF6",
            "gridcolor": "white",
            "gridwidth": 2,
            "linecolor": "white",
            "showbackground": true,
            "ticks": "",
            "zerolinecolor": "white"
           },
           "yaxis": {
            "backgroundcolor": "#E5ECF6",
            "gridcolor": "white",
            "gridwidth": 2,
            "linecolor": "white",
            "showbackground": true,
            "ticks": "",
            "zerolinecolor": "white"
           },
           "zaxis": {
            "backgroundcolor": "#E5ECF6",
            "gridcolor": "white",
            "gridwidth": 2,
            "linecolor": "white",
            "showbackground": true,
            "ticks": "",
            "zerolinecolor": "white"
           }
          },
          "shapedefaults": {
           "line": {
            "color": "#2a3f5f"
           }
          },
          "ternary": {
           "aaxis": {
            "gridcolor": "white",
            "linecolor": "white",
            "ticks": ""
           },
           "baxis": {
            "gridcolor": "white",
            "linecolor": "white",
            "ticks": ""
           },
           "bgcolor": "#E5ECF6",
           "caxis": {
            "gridcolor": "white",
            "linecolor": "white",
            "ticks": ""
           }
          },
          "title": {
           "x": 0.05
          },
          "xaxis": {
           "automargin": true,
           "gridcolor": "white",
           "linecolor": "white",
           "ticks": "",
           "title": {
            "standoff": 15
           },
           "zerolinecolor": "white",
           "zerolinewidth": 2
          },
          "yaxis": {
           "automargin": true,
           "gridcolor": "white",
           "linecolor": "white",
           "ticks": "",
           "title": {
            "standoff": 15
           },
           "zerolinecolor": "white",
           "zerolinewidth": 2
          }
         }
        },
        "title": {
         "text": "<b>Model performance report</b><br>Salary Predictor with BatchNorm and GRU Layer (Title) (Not_Bidirectional)<br><br><br><br><br><br><br><br><br><br><br><br><br><br><br><br><br><br><br><br><br><br><br><br><b><i>Train Loss Stat Values:</i></b><br>Max: 2.43   Mean: 0.27   Min: 0.09   Median: 0.18   Var: 0.11<br><br><b><i>Mean Absolute Error Stat Values:</i></b><br>Max: 0.60   Mean: 0.26   Min: 0.19   Median: 0.24   Var: 0.00<br><br><b><i>Mean Mean Squared Error Stat Values:</i></b><br>Max: 1.58   Mean: 0.32   Min: 0.17   Median: 0.27   Var: 0.04",
         "x": 0.5,
         "xanchor": "center",
         "y": 0.95,
         "yanchor": "top"
        },
        "width": 900,
        "xaxis": {
         "anchor": "y",
         "domain": [
          0,
          1
         ]
        },
        "xaxis2": {
         "anchor": "y2",
         "domain": [
          0,
          1
         ]
        },
        "yaxis": {
         "anchor": "x",
         "domain": [
          0.625,
          1
         ],
         "range": [
          0,
          1
         ]
        },
        "yaxis2": {
         "anchor": "x2",
         "domain": [
          0,
          0.375
         ],
         "range": [
          0,
          1
         ]
        }
       }
      },
      "text/html": [
       "<div>                            <div id=\"97a80ed7-feb4-44d4-b803-80fda1e01e62\" class=\"plotly-graph-div\" style=\"height:780px; width:900px;\"></div>            <script type=\"text/javascript\">                require([\"plotly\"], function(Plotly) {                    window.PLOTLYENV=window.PLOTLYENV || {};                                    if (document.getElementById(\"97a80ed7-feb4-44d4-b803-80fda1e01e62\")) {                    Plotly.newPlot(                        \"97a80ed7-feb4-44d4-b803-80fda1e01e62\",                        [{\"mode\": \"lines\", \"name\": \"Train Loss\", \"showlegend\": false, \"type\": \"scatter\", \"x\": [0, 1, 2, 3, 4, 5, 6, 7, 8, 9, 10, 11, 12, 13, 14, 15, 16, 17, 18, 19, 20, 21, 22, 23, 24, 25, 26, 27, 28, 29, 30, 31, 32, 33, 34, 35, 36, 37, 38, 39, 40, 41, 42, 43, 44, 45, 46, 47, 48, 49, 50], \"xaxis\": \"x\", \"y\": [2.4311275482177734, 0.7110796570777893, 0.4688250422477722, 0.8332853317260742, 0.2506342828273773, 0.3947269916534424, 0.37565499544143677, 0.2549913823604584, 0.2516132593154907, 0.21968954801559448, 0.22500571608543396, 0.2463725060224533, 0.3964443802833557, 0.30525022745132446, 0.2167043536901474, 0.23710165917873383, 0.16319772601127625, 0.25924015045166016, 0.17335018515586853, 0.1379833072423935, 0.12657450139522552, 0.18299518525600433, 0.15524959564208984, 0.1525503247976303, 0.17945735156536102, 0.1752813458442688, 0.25464415550231934, 0.19793379306793213, 0.16976617276668549, 0.20477789640426636, 0.38990676403045654, 0.3524605929851532, 0.14536318182945251, 0.13104119896888733, 0.11583413183689117, 0.1491912305355072, 0.1597648411989212, 0.14169250428676605, 0.15195554494857788, 0.13815265893936157, 0.1550302356481552, 0.13750894367694855, 0.21031658351421356, 0.19737602770328522, 0.14833498001098633, 0.1488625854253769, 0.1535719782114029, 0.13024869561195374, 0.16933345794677734, 0.10484584420919418, 0.08719240874052048], \"yaxis\": \"y\"}, {\"mode\": \"lines\", \"name\": \"MAE\", \"type\": \"scatter\", \"x\": [0, 1, 2, 3, 4, 5, 6, 7, 8, 9, 10, 11, 12, 13, 14, 15, 16, 17, 18, 19, 20, 21, 22, 23, 24, 25, 26, 27, 28, 29, 30, 31, 32, 33, 34, 35, 36, 37, 38, 39, 40, 41, 42, 43, 44, 45, 46, 47, 48, 49, 50], \"xaxis\": \"x2\", \"y\": [0.6041393677393595, 0.4174357255299886, 0.34026646614074707, 0.34598803520202637, 0.31858666737874347, 0.2959062059720357, 0.28818321228027344, 0.2816263635953267, 0.28898706038792926, 0.2671379844347636, 0.27560917536417645, 0.30031222105026245, 0.2559549609820048, 0.23863069216410318, 0.270632266998291, 0.2537519534428914, 0.2648101846377055, 0.24007825056711832, 0.24215449889500937, 0.21513559420903525, 0.2348687251408895, 0.25219903389612836, 0.24629046519597372, 0.22490495443344116, 0.22254000107447305, 0.22777958710988364, 0.2600707809130351, 0.24913458029429117, 0.24255657196044922, 0.23069506883621216, 0.22886798779169717, 0.20924407243728638, 0.2388319969177246, 0.22396727403004965, 0.2333698272705078, 0.20317278305689493, 0.2345296541849772, 0.20442932844161987, 0.2193885842959086, 0.24928985039393106, 0.25835394859313965, 0.22446024417877197, 0.21641000111897787, 0.23024181524912515, 0.1930086612701416, 0.24537541468938193, 0.22587905327479044, 0.18758569161097208, 0.19517521063486734, 0.21266372998555502, 0.19435801108678183], \"yaxis\": \"y2\"}, {\"mode\": \"lines\", \"name\": \"MSE\", \"type\": \"scatter\", \"x\": [0, 1, 2, 3, 4, 5, 6, 7, 8, 9, 10, 11, 12, 13, 14, 15, 16, 17, 18, 19, 20, 21, 22, 23, 24, 25, 26, 27, 28, 29, 30, 31, 32, 33, 34, 35, 36, 37, 38, 39, 40, 41, 42, 43, 44, 45, 46, 47, 48, 49, 50], \"xaxis\": \"x2\", \"y\": [1.5815167427062988, 0.78291122118632, 0.5339036782582601, 0.540945291519165, 0.46227407455444336, 0.4021671215693156, 0.37982579072316486, 0.363601287206014, 0.37927476565043133, 0.32821818192799884, 0.3452674945195516, 0.4018501440684001, 0.3013272484143575, 0.26651980479558307, 0.33137309551239014, 0.2955367962519328, 0.31753915548324585, 0.26620233058929443, 0.2700609763463338, 0.21902589003245035, 0.2551686763763428, 0.2891279458999634, 0.27729878822962445, 0.2351000706354777, 0.23051238059997559, 0.2399778962135315, 0.30320576826731366, 0.2809959848721822, 0.2673571705818176, 0.24367554982503256, 0.24056841929753622, 0.20533414681752524, 0.25883758068084717, 0.2302046219507853, 0.24791244665781656, 0.19360987345377603, 0.2493587334950765, 0.19556216398874918, 0.22118747234344482, 0.27841252088546753, 0.29768437147140503, 0.23034854729970297, 0.2163881262143453, 0.24104533592859903, 0.17555818955103555, 0.26948503653208417, 0.23198447624842325, 0.1664114793141683, 0.17802502711613974, 0.20723011096318564, 0.17679176727930704], \"yaxis\": \"y2\"}],                        {\"annotations\": [{\"font\": {\"size\": 16}, \"showarrow\": false, \"text\": \"<b>Train Loss</b>\", \"x\": 0.5, \"xanchor\": \"center\", \"xref\": \"paper\", \"y\": 1.0, \"yanchor\": \"bottom\", \"yref\": \"paper\"}, {\"font\": {\"size\": 16}, \"showarrow\": false, \"text\": \"<b>Test Metrics</b>\", \"x\": 0.5, \"xanchor\": \"center\", \"xref\": \"paper\", \"y\": 0.375, \"yanchor\": \"bottom\", \"yref\": \"paper\"}], \"autosize\": false, \"height\": 780, \"legend\": {\"x\": 1, \"y\": 0.15}, \"margin\": {\"b\": 270}, \"paper_bgcolor\": \"rgba(240, 240, 240, 0.95)\", \"plot_bgcolor\": \"rgba(240, 240, 240, 0.95)\", \"template\": {\"data\": {\"bar\": [{\"error_x\": {\"color\": \"#2a3f5f\"}, \"error_y\": {\"color\": \"#2a3f5f\"}, \"marker\": {\"line\": {\"color\": \"#E5ECF6\", \"width\": 0.5}}, \"type\": \"bar\"}], \"barpolar\": [{\"marker\": {\"line\": {\"color\": \"#E5ECF6\", \"width\": 0.5}}, \"type\": \"barpolar\"}], \"carpet\": [{\"aaxis\": {\"endlinecolor\": \"#2a3f5f\", \"gridcolor\": \"white\", \"linecolor\": \"white\", \"minorgridcolor\": \"white\", \"startlinecolor\": \"#2a3f5f\"}, \"baxis\": {\"endlinecolor\": \"#2a3f5f\", \"gridcolor\": \"white\", \"linecolor\": \"white\", \"minorgridcolor\": \"white\", \"startlinecolor\": \"#2a3f5f\"}, \"type\": \"carpet\"}], \"choropleth\": [{\"colorbar\": {\"outlinewidth\": 0, \"ticks\": \"\"}, \"type\": \"choropleth\"}], \"contour\": [{\"colorbar\": {\"outlinewidth\": 0, \"ticks\": \"\"}, \"colorscale\": [[0.0, \"#0d0887\"], [0.1111111111111111, \"#46039f\"], [0.2222222222222222, \"#7201a8\"], [0.3333333333333333, \"#9c179e\"], [0.4444444444444444, \"#bd3786\"], [0.5555555555555556, \"#d8576b\"], [0.6666666666666666, \"#ed7953\"], [0.7777777777777778, \"#fb9f3a\"], [0.8888888888888888, \"#fdca26\"], [1.0, \"#f0f921\"]], \"type\": \"contour\"}], \"contourcarpet\": [{\"colorbar\": {\"outlinewidth\": 0, \"ticks\": \"\"}, \"type\": \"contourcarpet\"}], \"heatmap\": [{\"colorbar\": {\"outlinewidth\": 0, \"ticks\": \"\"}, \"colorscale\": [[0.0, \"#0d0887\"], [0.1111111111111111, \"#46039f\"], [0.2222222222222222, \"#7201a8\"], [0.3333333333333333, \"#9c179e\"], [0.4444444444444444, \"#bd3786\"], [0.5555555555555556, \"#d8576b\"], [0.6666666666666666, \"#ed7953\"], [0.7777777777777778, \"#fb9f3a\"], [0.8888888888888888, \"#fdca26\"], [1.0, \"#f0f921\"]], \"type\": \"heatmap\"}], \"heatmapgl\": [{\"colorbar\": {\"outlinewidth\": 0, \"ticks\": \"\"}, \"colorscale\": [[0.0, \"#0d0887\"], [0.1111111111111111, \"#46039f\"], [0.2222222222222222, \"#7201a8\"], [0.3333333333333333, \"#9c179e\"], [0.4444444444444444, \"#bd3786\"], [0.5555555555555556, \"#d8576b\"], [0.6666666666666666, \"#ed7953\"], [0.7777777777777778, \"#fb9f3a\"], [0.8888888888888888, \"#fdca26\"], [1.0, \"#f0f921\"]], \"type\": \"heatmapgl\"}], \"histogram\": [{\"marker\": {\"colorbar\": {\"outlinewidth\": 0, \"ticks\": \"\"}}, \"type\": \"histogram\"}], \"histogram2d\": [{\"colorbar\": {\"outlinewidth\": 0, \"ticks\": \"\"}, \"colorscale\": [[0.0, \"#0d0887\"], [0.1111111111111111, \"#46039f\"], [0.2222222222222222, \"#7201a8\"], [0.3333333333333333, \"#9c179e\"], [0.4444444444444444, \"#bd3786\"], [0.5555555555555556, \"#d8576b\"], [0.6666666666666666, \"#ed7953\"], [0.7777777777777778, \"#fb9f3a\"], [0.8888888888888888, \"#fdca26\"], [1.0, \"#f0f921\"]], \"type\": \"histogram2d\"}], \"histogram2dcontour\": [{\"colorbar\": {\"outlinewidth\": 0, \"ticks\": \"\"}, \"colorscale\": [[0.0, \"#0d0887\"], [0.1111111111111111, \"#46039f\"], [0.2222222222222222, \"#7201a8\"], [0.3333333333333333, \"#9c179e\"], [0.4444444444444444, \"#bd3786\"], [0.5555555555555556, \"#d8576b\"], [0.6666666666666666, \"#ed7953\"], [0.7777777777777778, \"#fb9f3a\"], [0.8888888888888888, \"#fdca26\"], [1.0, \"#f0f921\"]], \"type\": \"histogram2dcontour\"}], \"mesh3d\": [{\"colorbar\": {\"outlinewidth\": 0, \"ticks\": \"\"}, \"type\": \"mesh3d\"}], \"parcoords\": [{\"line\": {\"colorbar\": {\"outlinewidth\": 0, \"ticks\": \"\"}}, \"type\": \"parcoords\"}], \"pie\": [{\"automargin\": true, \"type\": \"pie\"}], \"scatter\": [{\"marker\": {\"colorbar\": {\"outlinewidth\": 0, \"ticks\": \"\"}}, \"type\": \"scatter\"}], \"scatter3d\": [{\"line\": {\"colorbar\": {\"outlinewidth\": 0, \"ticks\": \"\"}}, \"marker\": {\"colorbar\": {\"outlinewidth\": 0, \"ticks\": \"\"}}, \"type\": \"scatter3d\"}], \"scattercarpet\": [{\"marker\": {\"colorbar\": {\"outlinewidth\": 0, \"ticks\": \"\"}}, \"type\": \"scattercarpet\"}], \"scattergeo\": [{\"marker\": {\"colorbar\": {\"outlinewidth\": 0, \"ticks\": \"\"}}, \"type\": \"scattergeo\"}], \"scattergl\": [{\"marker\": {\"colorbar\": {\"outlinewidth\": 0, \"ticks\": \"\"}}, \"type\": \"scattergl\"}], \"scattermapbox\": [{\"marker\": {\"colorbar\": {\"outlinewidth\": 0, \"ticks\": \"\"}}, \"type\": \"scattermapbox\"}], \"scatterpolar\": [{\"marker\": {\"colorbar\": {\"outlinewidth\": 0, \"ticks\": \"\"}}, \"type\": \"scatterpolar\"}], \"scatterpolargl\": [{\"marker\": {\"colorbar\": {\"outlinewidth\": 0, \"ticks\": \"\"}}, \"type\": \"scatterpolargl\"}], \"scatterternary\": [{\"marker\": {\"colorbar\": {\"outlinewidth\": 0, \"ticks\": \"\"}}, \"type\": \"scatterternary\"}], \"surface\": [{\"colorbar\": {\"outlinewidth\": 0, \"ticks\": \"\"}, \"colorscale\": [[0.0, \"#0d0887\"], [0.1111111111111111, \"#46039f\"], [0.2222222222222222, \"#7201a8\"], [0.3333333333333333, \"#9c179e\"], [0.4444444444444444, \"#bd3786\"], [0.5555555555555556, \"#d8576b\"], [0.6666666666666666, \"#ed7953\"], [0.7777777777777778, \"#fb9f3a\"], [0.8888888888888888, \"#fdca26\"], [1.0, \"#f0f921\"]], \"type\": \"surface\"}], \"table\": [{\"cells\": {\"fill\": {\"color\": \"#EBF0F8\"}, \"line\": {\"color\": \"white\"}}, \"header\": {\"fill\": {\"color\": \"#C8D4E3\"}, \"line\": {\"color\": \"white\"}}, \"type\": \"table\"}]}, \"layout\": {\"annotationdefaults\": {\"arrowcolor\": \"#2a3f5f\", \"arrowhead\": 0, \"arrowwidth\": 1}, \"coloraxis\": {\"colorbar\": {\"outlinewidth\": 0, \"ticks\": \"\"}}, \"colorscale\": {\"diverging\": [[0, \"#8e0152\"], [0.1, \"#c51b7d\"], [0.2, \"#de77ae\"], [0.3, \"#f1b6da\"], [0.4, \"#fde0ef\"], [0.5, \"#f7f7f7\"], [0.6, \"#e6f5d0\"], [0.7, \"#b8e186\"], [0.8, \"#7fbc41\"], [0.9, \"#4d9221\"], [1, \"#276419\"]], \"sequential\": [[0.0, \"#0d0887\"], [0.1111111111111111, \"#46039f\"], [0.2222222222222222, \"#7201a8\"], [0.3333333333333333, \"#9c179e\"], [0.4444444444444444, \"#bd3786\"], [0.5555555555555556, \"#d8576b\"], [0.6666666666666666, \"#ed7953\"], [0.7777777777777778, \"#fb9f3a\"], [0.8888888888888888, \"#fdca26\"], [1.0, \"#f0f921\"]], \"sequentialminus\": [[0.0, \"#0d0887\"], [0.1111111111111111, \"#46039f\"], [0.2222222222222222, \"#7201a8\"], [0.3333333333333333, \"#9c179e\"], [0.4444444444444444, \"#bd3786\"], [0.5555555555555556, \"#d8576b\"], [0.6666666666666666, \"#ed7953\"], [0.7777777777777778, \"#fb9f3a\"], [0.8888888888888888, \"#fdca26\"], [1.0, \"#f0f921\"]]}, \"colorway\": [\"#636efa\", \"#EF553B\", \"#00cc96\", \"#ab63fa\", \"#FFA15A\", \"#19d3f3\", \"#FF6692\", \"#B6E880\", \"#FF97FF\", \"#FECB52\"], \"font\": {\"color\": \"#2a3f5f\"}, \"geo\": {\"bgcolor\": \"white\", \"lakecolor\": \"white\", \"landcolor\": \"#E5ECF6\", \"showlakes\": true, \"showland\": true, \"subunitcolor\": \"white\"}, \"hoverlabel\": {\"align\": \"left\"}, \"hovermode\": \"closest\", \"mapbox\": {\"style\": \"light\"}, \"paper_bgcolor\": \"white\", \"plot_bgcolor\": \"#E5ECF6\", \"polar\": {\"angularaxis\": {\"gridcolor\": \"white\", \"linecolor\": \"white\", \"ticks\": \"\"}, \"bgcolor\": \"#E5ECF6\", \"radialaxis\": {\"gridcolor\": \"white\", \"linecolor\": \"white\", \"ticks\": \"\"}}, \"scene\": {\"xaxis\": {\"backgroundcolor\": \"#E5ECF6\", \"gridcolor\": \"white\", \"gridwidth\": 2, \"linecolor\": \"white\", \"showbackground\": true, \"ticks\": \"\", \"zerolinecolor\": \"white\"}, \"yaxis\": {\"backgroundcolor\": \"#E5ECF6\", \"gridcolor\": \"white\", \"gridwidth\": 2, \"linecolor\": \"white\", \"showbackground\": true, \"ticks\": \"\", \"zerolinecolor\": \"white\"}, \"zaxis\": {\"backgroundcolor\": \"#E5ECF6\", \"gridcolor\": \"white\", \"gridwidth\": 2, \"linecolor\": \"white\", \"showbackground\": true, \"ticks\": \"\", \"zerolinecolor\": \"white\"}}, \"shapedefaults\": {\"line\": {\"color\": \"#2a3f5f\"}}, \"ternary\": {\"aaxis\": {\"gridcolor\": \"white\", \"linecolor\": \"white\", \"ticks\": \"\"}, \"baxis\": {\"gridcolor\": \"white\", \"linecolor\": \"white\", \"ticks\": \"\"}, \"bgcolor\": \"#E5ECF6\", \"caxis\": {\"gridcolor\": \"white\", \"linecolor\": \"white\", \"ticks\": \"\"}}, \"title\": {\"x\": 0.05}, \"xaxis\": {\"automargin\": true, \"gridcolor\": \"white\", \"linecolor\": \"white\", \"ticks\": \"\", \"title\": {\"standoff\": 15}, \"zerolinecolor\": \"white\", \"zerolinewidth\": 2}, \"yaxis\": {\"automargin\": true, \"gridcolor\": \"white\", \"linecolor\": \"white\", \"ticks\": \"\", \"title\": {\"standoff\": 15}, \"zerolinecolor\": \"white\", \"zerolinewidth\": 2}}}, \"title\": {\"text\": \"<b>Model performance report</b><br>Salary Predictor with BatchNorm and GRU Layer (Title) (Not_Bidirectional)<br><br><br><br><br><br><br><br><br><br><br><br><br><br><br><br><br><br><br><br><br><br><br><br><b><i>Train Loss Stat Values:</i></b><br>Max: 2.43   Mean: 0.27   Min: 0.09   Median: 0.18   Var: 0.11<br><br><b><i>Mean Absolute Error Stat Values:</i></b><br>Max: 0.60   Mean: 0.26   Min: 0.19   Median: 0.24   Var: 0.00<br><br><b><i>Mean Mean Squared Error Stat Values:</i></b><br>Max: 1.58   Mean: 0.32   Min: 0.17   Median: 0.27   Var: 0.04\", \"x\": 0.5, \"xanchor\": \"center\", \"y\": 0.95, \"yanchor\": \"top\"}, \"width\": 900, \"xaxis\": {\"anchor\": \"y\", \"domain\": [0.0, 1.0]}, \"xaxis2\": {\"anchor\": \"y2\", \"domain\": [0.0, 1.0]}, \"yaxis\": {\"anchor\": \"x\", \"domain\": [0.625, 1.0], \"range\": [0, 1]}, \"yaxis2\": {\"anchor\": \"x2\", \"domain\": [0.0, 0.375], \"range\": [0, 1]}},                        {\"responsive\": true}                    ).then(function(){\n",
       "                            \n",
       "var gd = document.getElementById('97a80ed7-feb4-44d4-b803-80fda1e01e62');\n",
       "var x = new MutationObserver(function (mutations, observer) {{\n",
       "        var display = window.getComputedStyle(gd).display;\n",
       "        if (!display || display === 'none') {{\n",
       "            console.log([gd, 'removed!']);\n",
       "            Plotly.purge(gd);\n",
       "            observer.disconnect();\n",
       "        }}\n",
       "}});\n",
       "\n",
       "// Listen for the removal of the full notebook cells\n",
       "var notebookContainer = gd.closest('#notebook-container');\n",
       "if (notebookContainer) {{\n",
       "    x.observe(notebookContainer, {childList: true});\n",
       "}}\n",
       "\n",
       "// Listen for the clearing of the current output cell\n",
       "var outputEl = gd.closest('.output');\n",
       "if (outputEl) {{\n",
       "    x.observe(outputEl, {childList: true});\n",
       "}}\n",
       "\n",
       "                        })                };                });            </script>        </div>"
      ]
     },
     "metadata": {},
     "output_type": "display_data"
    }
   ],
   "source": [
    "draw_loss_acc_plot('Salary Predictor with BatchNorm and GRU Layer (Title) (Not_Bidirectional)', train_loss_12, list_mae_12, list_mse_12)"
   ]
  },
  {
   "cell_type": "markdown",
   "metadata": {},
   "source": [
    "**5. Вытащите признаки из нейронной сети и используйте их в ансамбле деревьев решений. (2 балла)**<a name=\"fifth\"></a>\n",
    "\n",
    "* Вытащите признаки с предпоследнего слоя обученной нейросети и передайте их в ансамбль деревьев решений.\n",
    "* Сравните результаты работы лучшей нейросети и ансамбля деревьев решений, построенном на признаках из этой нейросети. Сможет ли замена последнего слоя на ансамбль деревьев решений улучшить результат?"
   ]
  },
  {
   "cell_type": "code",
   "execution_count": 30,
   "metadata": {},
   "outputs": [],
   "source": [
    "from sklearn.ensemble import RandomForestRegressor \n",
    "from sklearn.metrics import mean_squared_error, mean_absolute_error"
   ]
  },
  {
   "cell_type": "code",
   "execution_count": 31,
   "metadata": {},
   "outputs": [],
   "source": [
    "data_test, data_val = train_test_split(data_val, test_size=0.5, random_state=77)\n",
    "data_test.index = range(len(data_test))\n",
    "data_val.index = range(len(data_val))"
   ]
  },
  {
   "cell_type": "code",
   "execution_count": 49,
   "metadata": {},
   "outputs": [],
   "source": [
    "class SalaryPredictorRandomForest(nn.Module):\n",
    "    def __init__(self, n_tokens=len(tokens), n_cat_features=len(categorical_vectorizer.vocabulary_), hid_size=8):\n",
    "        super().__init__()\n",
    "        self.embedder = nn.Embedding(n_tokens, hid_size)\n",
    "        self.title_encoder = nn.Sequential(\n",
    "            nn.Conv1d(hid_size, hid_size, kernel_size=2),\n",
    "            nn.ReLU(),\n",
    "            nn.BatchNorm1d(hid_size),\n",
    "            nn.Dropout(p=0.25),\n",
    "            nn.AdaptiveAvgPool1d(output_size=1)\n",
    "        )\n",
    "        self.description_encoder = nn.Sequential(\n",
    "            nn.Conv1d(hid_size, hid_size, kernel_size=2),\n",
    "            nn.ReLU(),\n",
    "            nn.BatchNorm1d(hid_size),\n",
    "            nn.Dropout(p=0.25),\n",
    "            nn.AdaptiveAvgPool1d(output_size=1)\n",
    "        )\n",
    "        self.categorical_encoder = nn.Sequential(\n",
    "            nn.Linear(n_cat_features, hid_size * 2),\n",
    "            nn.ReLU(),\n",
    "            nn.BatchNorm1d(hid_size * 2),\n",
    "            nn.Dropout(p=0.25),\n",
    "            nn.Linear(hid_size * 2, hid_size * 2),\n",
    "            nn.ReLU(),\n",
    "            nn.BatchNorm1d(hid_size * 2),\n",
    "            nn.Dropout(p=0.25),\n",
    "            nn.Linear(hid_size * 2, hid_size * 2),\n",
    "            nn.ReLU()\n",
    "        )\n",
    "        self.final_predictor = nn.Sequential(\n",
    "            nn.Linear(hid_size * 4, hid_size * 2),\n",
    "            nn.ReLU(),\n",
    "            nn.BatchNorm1d(hid_size * 2),\n",
    "            nn.Dropout(p=0.25),\n",
    "            nn.Linear(hid_size * 2, hid_size),\n",
    "            nn.ReLU(),\n",
    "            nn.BatchNorm1d(hid_size),\n",
    "            nn.Dropout(p=0.25),\n",
    "            nn.Linear(hid_size, 1)\n",
    "        )\n",
    "        \n",
    "    def forward(self, batch):\n",
    "        title_embeddings = self.embedder(batch['Title']).permute(0, 2, 1)\n",
    "        title_features = self.title_encoder(title_embeddings).squeeze()\n",
    "\n",
    "        description_embeddings = self.embedder(batch['FullDescription']).permute(0, 2, 1)\n",
    "        description_features = self.description_encoder(description_embeddings).squeeze()\n",
    "\n",
    "        categorical_features = self.categorical_encoder(batch['Categorical'])\n",
    "\n",
    "        features = torch.cat(\n",
    "            [title_features, description_features, categorical_features], dim=1)\n",
    "        \n",
    "        return self.final_predictor(features).squeeze()\n",
    "    \n",
    "    def features(self, batch):\n",
    "        title_embeddings = self.embedder(batch['Title']).permute(0, 2, 1)\n",
    "        title_features = self.title_encoder(title_embeddings).squeeze()\n",
    "\n",
    "        description_embeddings = self.embedder(batch['FullDescription']).permute(0, 2, 1)\n",
    "        description_features = self.description_encoder(description_embeddings).squeeze()\n",
    "\n",
    "        categorical_features = self.categorical_encoder(batch['Categorical'])\n",
    "\n",
    "        features = torch.cat(\n",
    "            [title_features, description_features, categorical_features], dim=1)\n",
    "        \n",
    "        return features"
   ]
  },
  {
   "cell_type": "code",
   "execution_count": 55,
   "metadata": {},
   "outputs": [],
   "source": [
    "def data_preprosessind(model, data, batch_size=BATCH_SIZE):\n",
    "    \n",
    "    batch_features = []\n",
    "    batch_targets = []\n",
    "    model.eval()\n",
    "    \n",
    "    with torch.no_grad():\n",
    "        for batch in iterate_minibatches(data, batch_size=batch_size, shuffle=False, device=DEVICE):\n",
    "            \n",
    "            b_features = model.features(batch)\n",
    "            batch_features.append(b_features)\n",
    "            batch_targets.append(batch[TARGET_COLUMN])\n",
    "\n",
    "        prep_features = torch.cat(batch_features, 0)\n",
    "        prep_targets = torch.cat(batch_targets, 0)\n",
    "        \n",
    "        prep_features_cpu = prep_features.detach().cpu().numpy()\n",
    "        prep_targets_cpu = prep_targets.detach().cpu().numpy()\n",
    "        \n",
    "    return (prep_features_cpu, prep_targets_cpu)"
   ]
  },
  {
   "cell_type": "code",
   "execution_count": 51,
   "metadata": {},
   "outputs": [],
   "source": [
    "def calculate_metrics(model, data, target, process):\n",
    "    mse = mean_squared_error(target, model.predict(data))\n",
    "    mae = mean_absolute_error(target, model.predict(data))\n",
    "    print('Calculate metrics for: {}\\n\\tMSE: {}\\n\\tMAE: {}\\n\\n'.format(process, mse, mae))"
   ]
  },
  {
   "cell_type": "code",
   "execution_count": 52,
   "metadata": {
    "scrolled": true
   },
   "outputs": [
    {
     "name": "stdout",
     "output_type": "stream",
     "text": [
      "epoch: 0\n"
     ]
    },
    {
     "data": {
      "application/vnd.jupyter.widget-view+json": {
       "model_id": "5e025503c05b4814be7a3bbd7f41cefa",
       "version_major": 2,
       "version_minor": 0
      },
      "text/plain": [
       "HBox(children=(FloatProgress(value=0.0, max=1721.0), HTML(value='')))"
      ]
     },
     "metadata": {},
     "output_type": "display_data"
    },
    {
     "name": "stdout",
     "output_type": "stream",
     "text": [
      "train_loss 100.4024658203125\n",
      "val results:\n",
      "Mean square error: 25.53733\n",
      "Mean absolute error: 2.52254\n",
      "train_loss 89.60852813720703\n",
      "val results:\n",
      "Mean square error: 22.49208\n",
      "Mean absolute error: 2.36674\n",
      "train_loss 73.59700012207031\n",
      "val results:\n",
      "Mean square error: 18.56761\n",
      "Mean absolute error: 2.14964\n",
      "train_loss 52.373779296875\n",
      "val results:\n",
      "Mean square error: 13.43840\n",
      "Mean absolute error: 1.82683\n",
      "train_loss 34.823307037353516\n",
      "val results:\n",
      "Mean square error: 8.85459\n",
      "Mean absolute error: 1.48080\n",
      "train_loss 19.898197174072266\n",
      "val results:\n",
      "Mean square error: 4.92784\n",
      "Mean absolute error: 1.10150\n",
      "train_loss 11.983478546142578\n",
      "val results:\n",
      "Mean square error: 2.41476\n",
      "Mean absolute error: 0.76589\n",
      "train_loss 7.34211540222168\n",
      "val results:\n",
      "Mean square error: 1.09013\n",
      "Mean absolute error: 0.50645\n",
      "train_loss 4.980863571166992\n",
      "val results:\n",
      "Mean square error: 0.49253\n",
      "Mean absolute error: 0.32856\n",
      "train_loss 3.9419667720794678\n",
      "val results:\n",
      "Mean square error: 0.24127\n",
      "Mean absolute error: 0.21694\n",
      "train_loss 4.26679801940918\n",
      "val results:\n",
      "Mean square error: 0.15980\n",
      "Mean absolute error: 0.16787\n",
      "train_loss 4.511557579040527\n",
      "val results:\n",
      "Mean square error: 0.12506\n",
      "Mean absolute error: 0.14461\n",
      "train_loss 4.904001235961914\n",
      "val results:\n",
      "Mean square error: 0.10905\n",
      "Mean absolute error: 0.13349\n",
      "train_loss 4.226234436035156\n",
      "val results:\n",
      "Mean square error: 0.09366\n",
      "Mean absolute error: 0.12231\n",
      "train_loss 3.960690498352051\n",
      "val results:\n",
      "Mean square error: 0.09864\n",
      "Mean absolute error: 0.12592\n",
      "train_loss 3.8809807300567627\n",
      "val results:\n",
      "Mean square error: 0.09079\n",
      "Mean absolute error: 0.12022\n",
      "train_loss 4.00433349609375\n",
      "val results:\n",
      "Mean square error: 0.09083\n",
      "Mean absolute error: 0.12036\n",
      "\n",
      "epoch: 1\n"
     ]
    },
    {
     "data": {
      "application/vnd.jupyter.widget-view+json": {
       "model_id": "0d35ebc683ae43288242ea85661e0504",
       "version_major": 2,
       "version_minor": 0
      },
      "text/plain": [
       "HBox(children=(FloatProgress(value=0.0, max=1721.0), HTML(value='')))"
      ]
     },
     "metadata": {},
     "output_type": "display_data"
    },
    {
     "name": "stdout",
     "output_type": "stream",
     "text": [
      "train_loss 3.4002044200897217\n",
      "val results:\n",
      "Mean square error: 0.09474\n",
      "Mean absolute error: 0.12337\n",
      "train_loss 3.408571243286133\n",
      "val results:\n",
      "Mean square error: 0.08623\n",
      "Mean absolute error: 0.11698\n",
      "train_loss 3.566514253616333\n",
      "val results:\n",
      "Mean square error: 0.08756\n",
      "Mean absolute error: 0.11821\n",
      "train_loss 3.5647287368774414\n",
      "val results:\n",
      "Mean square error: 0.08704\n",
      "Mean absolute error: 0.11788\n",
      "train_loss 4.133770942687988\n",
      "val results:\n",
      "Mean square error: 0.08855\n",
      "Mean absolute error: 0.11902\n",
      "train_loss 3.3318111896514893\n",
      "val results:\n",
      "Mean square error: 0.08509\n",
      "Mean absolute error: 0.11626\n",
      "train_loss 3.9558258056640625\n",
      "val results:\n",
      "Mean square error: 0.09158\n",
      "Mean absolute error: 0.12133\n",
      "train_loss 3.5518596172332764\n",
      "val results:\n",
      "Mean square error: 0.08710\n",
      "Mean absolute error: 0.11805\n",
      "train_loss 4.361154556274414\n",
      "val results:\n",
      "Mean square error: 0.08578\n",
      "Mean absolute error: 0.11696\n",
      "train_loss 3.3761746883392334\n",
      "val results:\n",
      "Mean square error: 0.08863\n",
      "Mean absolute error: 0.11917\n",
      "train_loss 3.8106400966644287\n",
      "val results:\n",
      "Mean square error: 0.08074\n",
      "Mean absolute error: 0.11316\n",
      "train_loss 4.561573505401611\n",
      "val results:\n",
      "Mean square error: 0.08614\n",
      "Mean absolute error: 0.11747\n",
      "train_loss 3.838808536529541\n",
      "val results:\n",
      "Mean square error: 0.07860\n",
      "Mean absolute error: 0.11143\n",
      "train_loss 4.336297988891602\n",
      "val results:\n",
      "Mean square error: 0.08225\n",
      "Mean absolute error: 0.11462\n",
      "train_loss 3.5910918712615967\n",
      "val results:\n",
      "Mean square error: 0.07972\n",
      "Mean absolute error: 0.11264\n",
      "train_loss 3.302199125289917\n",
      "val results:\n",
      "Mean square error: 0.08178\n",
      "Mean absolute error: 0.11436\n",
      "train_loss 3.7676706314086914\n",
      "val results:\n",
      "Mean square error: 0.07745\n",
      "Mean absolute error: 0.11086\n",
      "\n",
      "epoch: 2\n"
     ]
    },
    {
     "data": {
      "application/vnd.jupyter.widget-view+json": {
       "model_id": "16ce221129d84d1aaef7d2c7ffea22f3",
       "version_major": 2,
       "version_minor": 0
      },
      "text/plain": [
       "HBox(children=(FloatProgress(value=0.0, max=1721.0), HTML(value='')))"
      ]
     },
     "metadata": {},
     "output_type": "display_data"
    },
    {
     "name": "stdout",
     "output_type": "stream",
     "text": [
      "train_loss 3.243622064590454\n",
      "val results:\n",
      "Mean square error: 0.08021\n",
      "Mean absolute error: 0.11331\n",
      "train_loss 4.041497230529785\n",
      "val results:\n",
      "Mean square error: 0.07417\n",
      "Mean absolute error: 0.10849\n",
      "train_loss 3.2510743141174316\n",
      "val results:\n",
      "Mean square error: 0.08115\n",
      "Mean absolute error: 0.11430\n",
      "train_loss 3.642855644226074\n",
      "val results:\n",
      "Mean square error: 0.07950\n",
      "Mean absolute error: 0.11303\n",
      "train_loss 5.089719772338867\n",
      "val results:\n",
      "Mean square error: 0.07743\n",
      "Mean absolute error: 0.11125\n",
      "train_loss 3.625030755996704\n",
      "val results:\n",
      "Mean square error: 0.07178\n",
      "Mean absolute error: 0.10654\n",
      "train_loss 3.4076786041259766\n",
      "val results:\n",
      "Mean square error: 0.07691\n",
      "Mean absolute error: 0.11123\n",
      "train_loss 3.3123655319213867\n",
      "val results:\n",
      "Mean square error: 0.07634\n",
      "Mean absolute error: 0.11075\n",
      "train_loss 3.5462536811828613\n",
      "val results:\n",
      "Mean square error: 0.07550\n",
      "Mean absolute error: 0.11020\n",
      "train_loss 3.2887401580810547\n",
      "val results:\n",
      "Mean square error: 0.07375\n",
      "Mean absolute error: 0.10860\n",
      "train_loss 2.9632647037506104\n",
      "val results:\n",
      "Mean square error: 0.07333\n",
      "Mean absolute error: 0.10819\n",
      "train_loss 3.561868906021118\n",
      "val results:\n",
      "Mean square error: 0.07617\n",
      "Mean absolute error: 0.11087\n",
      "train_loss 3.5534026622772217\n",
      "val results:\n",
      "Mean square error: 0.07625\n",
      "Mean absolute error: 0.11102\n",
      "train_loss 2.719564437866211\n",
      "val results:\n",
      "Mean square error: 0.06537\n",
      "Mean absolute error: 0.10125\n",
      "train_loss 3.072370767593384\n",
      "val results:\n",
      "Mean square error: 0.07354\n",
      "Mean absolute error: 0.10856\n",
      "train_loss 3.9310121536254883\n",
      "val results:\n",
      "Mean square error: 0.07039\n",
      "Mean absolute error: 0.10571\n",
      "train_loss 2.908565044403076\n",
      "val results:\n",
      "Mean square error: 0.06344\n",
      "Mean absolute error: 0.09985\n",
      "\n",
      "epoch: 3\n"
     ]
    },
    {
     "data": {
      "application/vnd.jupyter.widget-view+json": {
       "model_id": "37b5da78401e4b7190df007ffcc63725",
       "version_major": 2,
       "version_minor": 0
      },
      "text/plain": [
       "HBox(children=(FloatProgress(value=0.0, max=1721.0), HTML(value='')))"
      ]
     },
     "metadata": {},
     "output_type": "display_data"
    },
    {
     "name": "stdout",
     "output_type": "stream",
     "text": [
      "train_loss 2.7740471363067627\n",
      "val results:\n",
      "Mean square error: 0.06737\n",
      "Mean absolute error: 0.10349\n",
      "train_loss 2.7345147132873535\n",
      "val results:\n",
      "Mean square error: 0.06168\n",
      "Mean absolute error: 0.09850\n",
      "train_loss 2.9157395362854004\n",
      "val results:\n",
      "Mean square error: 0.06363\n",
      "Mean absolute error: 0.10009\n",
      "train_loss 3.3859851360321045\n",
      "val results:\n",
      "Mean square error: 0.06802\n",
      "Mean absolute error: 0.10464\n",
      "train_loss 2.3687024116516113\n",
      "val results:\n",
      "Mean square error: 0.07117\n",
      "Mean absolute error: 0.10787\n",
      "train_loss 3.2247226238250732\n",
      "val results:\n",
      "Mean square error: 0.06041\n",
      "Mean absolute error: 0.09778\n",
      "train_loss 2.983505964279175\n",
      "val results:\n",
      "Mean square error: 0.06541\n",
      "Mean absolute error: 0.10198\n",
      "train_loss 2.3278465270996094\n",
      "val results:\n",
      "Mean square error: 0.05702\n",
      "Mean absolute error: 0.09421\n",
      "train_loss 2.3366141319274902\n",
      "val results:\n",
      "Mean square error: 0.06450\n",
      "Mean absolute error: 0.10140\n",
      "train_loss 2.0902762413024902\n",
      "val results:\n",
      "Mean square error: 0.05663\n",
      "Mean absolute error: 0.09371\n",
      "train_loss 3.1328766345977783\n",
      "val results:\n",
      "Mean square error: 0.06079\n",
      "Mean absolute error: 0.09780\n",
      "train_loss 2.6124560832977295\n",
      "val results:\n",
      "Mean square error: 0.07293\n",
      "Mean absolute error: 0.10902\n",
      "train_loss 3.032475233078003\n",
      "val results:\n",
      "Mean square error: 0.05377\n",
      "Mean absolute error: 0.09086\n",
      "train_loss 2.4230144023895264\n",
      "val results:\n",
      "Mean square error: 0.06361\n",
      "Mean absolute error: 0.10052\n",
      "train_loss 2.671381711959839\n",
      "val results:\n",
      "Mean square error: 0.07497\n",
      "Mean absolute error: 0.11130\n",
      "train_loss 2.5172972679138184\n",
      "val results:\n",
      "Mean square error: 0.06588\n",
      "Mean absolute error: 0.10294\n",
      "train_loss 2.2408761978149414\n",
      "val results:\n",
      "Mean square error: 0.05719\n",
      "Mean absolute error: 0.09469\n",
      "\n",
      "epoch: 4\n"
     ]
    },
    {
     "data": {
      "application/vnd.jupyter.widget-view+json": {
       "model_id": "271ae0c45f464cc2a3e610fa70701225",
       "version_major": 2,
       "version_minor": 0
      },
      "text/plain": [
       "HBox(children=(FloatProgress(value=0.0, max=1721.0), HTML(value='')))"
      ]
     },
     "metadata": {},
     "output_type": "display_data"
    },
    {
     "name": "stdout",
     "output_type": "stream",
     "text": [
      "train_loss 2.2177767753601074\n",
      "val results:\n",
      "Mean square error: 0.05399\n",
      "Mean absolute error: 0.09133\n",
      "train_loss 1.9820399284362793\n",
      "val results:\n",
      "Mean square error: 0.05140\n",
      "Mean absolute error: 0.08876\n",
      "train_loss 2.852447509765625\n",
      "val results:\n",
      "Mean square error: 0.05675\n",
      "Mean absolute error: 0.09428\n",
      "train_loss 2.145294189453125\n",
      "val results:\n",
      "Mean square error: 0.05301\n",
      "Mean absolute error: 0.09080\n",
      "train_loss 2.2486412525177\n",
      "val results:\n",
      "Mean square error: 0.04474\n",
      "Mean absolute error: 0.08194\n",
      "train_loss 2.0491626262664795\n",
      "val results:\n",
      "Mean square error: 0.05307\n",
      "Mean absolute error: 0.09099\n",
      "train_loss 2.381028890609741\n",
      "val results:\n",
      "Mean square error: 0.04638\n",
      "Mean absolute error: 0.08411\n",
      "train_loss 1.966610074043274\n",
      "val results:\n",
      "Mean square error: 0.04522\n",
      "Mean absolute error: 0.08287\n",
      "train_loss 2.5110585689544678\n",
      "val results:\n",
      "Mean square error: 0.03902\n",
      "Mean absolute error: 0.07611\n",
      "train_loss 1.741781234741211\n",
      "val results:\n",
      "Mean square error: 0.04745\n",
      "Mean absolute error: 0.08553\n",
      "train_loss 1.983203649520874\n",
      "val results:\n",
      "Mean square error: 0.04612\n",
      "Mean absolute error: 0.08424\n",
      "train_loss 1.9670233726501465\n",
      "val results:\n",
      "Mean square error: 0.04675\n",
      "Mean absolute error: 0.08482\n",
      "train_loss 2.1277694702148438\n",
      "val results:\n",
      "Mean square error: 0.04237\n",
      "Mean absolute error: 0.08030\n",
      "train_loss 1.9870879650115967\n",
      "val results:\n",
      "Mean square error: 0.04761\n",
      "Mean absolute error: 0.08634\n",
      "train_loss 1.2850775718688965\n",
      "val results:\n",
      "Mean square error: 0.04760\n",
      "Mean absolute error: 0.08559\n",
      "train_loss 1.8809224367141724\n",
      "val results:\n",
      "Mean square error: 0.03696\n",
      "Mean absolute error: 0.07364\n",
      "train_loss 1.5309109687805176\n",
      "val results:\n",
      "Mean square error: 0.04465\n",
      "Mean absolute error: 0.08223\n",
      "\n"
     ]
    }
   ],
   "source": [
    "model = SalaryPredictorRandomForest().to(DEVICE)\n",
    "criterion = nn.MSELoss(reduction='mean')\n",
    "optimizer = torch.optim.Adam(model.parameters(), lr=1e-3)\n",
    "list_mse_15 = []\n",
    "list_mae_15 = []\n",
    "train_loss_15 = []\n",
    "EPOCHS = 5\n",
    "\n",
    "for epoch in range(EPOCHS):\n",
    "    print(f\"epoch: {epoch}\")\n",
    "    for i, batch in tqdm.notebook.tqdm(enumerate(\n",
    "            iterate_minibatches(\n",
    "                    data_train, \n",
    "                    batch_size=BATCH_SIZE, \n",
    "                    device=DEVICE)), \n",
    "                total=len(data_train) // BATCH_SIZE\n",
    "        ):\n",
    "        model.train()\n",
    "        pred = model(batch)\n",
    "        optimizer.zero_grad()\n",
    "        loss = criterion(pred, batch[TARGET_COLUMN])\n",
    "        loss.backward()\n",
    "        optimizer.step()\n",
    "\n",
    "        if i % 100 == 99:\n",
    "            print('train_loss', loss.item())\n",
    "            train_loss_15.append(loss.item())\n",
    "            print_metrics(model, data_val, list_mse=list_mse_15, list_mae=list_mae_15, \n",
    "                          name='val', batch_size=BATCH_SIZE, device=DEVICE)"
   ]
  },
  {
   "cell_type": "code",
   "execution_count": 56,
   "metadata": {},
   "outputs": [],
   "source": [
    "train_features, train_targets = data_preprosessind(model, data_train)\n",
    "test_features, test_targets = data_preprosessind(model, data_test)\n",
    "val_features, val_targets = data_preprosessind(model, data_val)"
   ]
  },
  {
   "cell_type": "code",
   "execution_count": 57,
   "metadata": {},
   "outputs": [
    {
     "data": {
      "text/plain": [
       "RandomForestRegressor(max_depth=4, n_estimators=10, random_state=77)"
      ]
     },
     "execution_count": 57,
     "metadata": {},
     "output_type": "execute_result"
    }
   ],
   "source": [
    "ensemble_forest = RandomForestRegressor(n_estimators=10, max_depth=4, random_state=77)\n",
    "ensemble_forest.fit(train_features, train_targets)"
   ]
  },
  {
   "cell_type": "code",
   "execution_count": 58,
   "metadata": {},
   "outputs": [
    {
     "data": {
      "application/vnd.plotly.v1+json": {
       "config": {
        "linkText": "Export to plot.ly",
        "plotlyServerURL": "https://plot.ly",
        "showLink": false
       },
       "data": [
        {
         "mode": "lines",
         "name": "Train Loss",
         "showlegend": false,
         "type": "scatter",
         "x": [
          0,
          1,
          2,
          3,
          4,
          5,
          6,
          7,
          8,
          9,
          10,
          11,
          12,
          13,
          14,
          15,
          16,
          17,
          18,
          19,
          20,
          21,
          22,
          23,
          24,
          25,
          26,
          27,
          28,
          29,
          30,
          31,
          32,
          33,
          34,
          35,
          36,
          37,
          38,
          39,
          40,
          41,
          42,
          43,
          44,
          45,
          46,
          47,
          48,
          49,
          50,
          51,
          52,
          53,
          54,
          55,
          56,
          57,
          58,
          59,
          60,
          61,
          62,
          63,
          64,
          65,
          66,
          67,
          68,
          69,
          70,
          71,
          72,
          73,
          74,
          75,
          76,
          77,
          78,
          79,
          80,
          81,
          82,
          83,
          84
         ],
         "xaxis": "x",
         "y": [
          100.4024658203125,
          89.60852813720703,
          73.59700012207031,
          52.373779296875,
          34.823307037353516,
          19.898197174072266,
          11.983478546142578,
          7.34211540222168,
          4.980863571166992,
          3.9419667720794678,
          4.26679801940918,
          4.511557579040527,
          4.904001235961914,
          4.226234436035156,
          3.960690498352051,
          3.8809807300567627,
          4.00433349609375,
          3.4002044200897217,
          3.408571243286133,
          3.566514253616333,
          3.5647287368774414,
          4.133770942687988,
          3.3318111896514893,
          3.9558258056640625,
          3.5518596172332764,
          4.361154556274414,
          3.3761746883392334,
          3.8106400966644287,
          4.561573505401611,
          3.838808536529541,
          4.336297988891602,
          3.5910918712615967,
          3.302199125289917,
          3.7676706314086914,
          3.243622064590454,
          4.041497230529785,
          3.2510743141174316,
          3.642855644226074,
          5.089719772338867,
          3.625030755996704,
          3.4076786041259766,
          3.3123655319213867,
          3.5462536811828613,
          3.2887401580810547,
          2.9632647037506104,
          3.561868906021118,
          3.5534026622772217,
          2.719564437866211,
          3.072370767593384,
          3.9310121536254883,
          2.908565044403076,
          2.7740471363067627,
          2.7345147132873535,
          2.9157395362854004,
          3.3859851360321045,
          2.3687024116516113,
          3.2247226238250732,
          2.983505964279175,
          2.3278465270996094,
          2.3366141319274902,
          2.0902762413024902,
          3.1328766345977783,
          2.6124560832977295,
          3.032475233078003,
          2.4230144023895264,
          2.671381711959839,
          2.5172972679138184,
          2.2408761978149414,
          2.2177767753601074,
          1.9820399284362793,
          2.852447509765625,
          2.145294189453125,
          2.2486412525177,
          2.0491626262664795,
          2.381028890609741,
          1.966610074043274,
          2.5110585689544678,
          1.741781234741211,
          1.983203649520874,
          1.9670233726501465,
          2.1277694702148438,
          1.9870879650115967,
          1.2850775718688965,
          1.8809224367141724,
          1.5309109687805176
         ],
         "yaxis": "y"
        },
        {
         "mode": "lines",
         "name": "MAE",
         "type": "scatter",
         "x": [
          0,
          1,
          2,
          3,
          4,
          5,
          6,
          7,
          8,
          9,
          10,
          11,
          12,
          13,
          14,
          15,
          16,
          17,
          18,
          19,
          20,
          21,
          22,
          23,
          24,
          25,
          26,
          27,
          28,
          29,
          30,
          31,
          32,
          33,
          34,
          35,
          36,
          37,
          38,
          39,
          40,
          41,
          42,
          43,
          44,
          45,
          46,
          47,
          48,
          49,
          50,
          51,
          52,
          53,
          54,
          55,
          56,
          57,
          58,
          59,
          60,
          61,
          62,
          63,
          64,
          65,
          66,
          67,
          68,
          69,
          70,
          71,
          72,
          73,
          74,
          75,
          76,
          77,
          78,
          79,
          80,
          81,
          82,
          83,
          84
         ],
         "xaxis": "x2",
         "y": [
          2.5225416819254556,
          2.3667383193969727,
          2.1496384938557944,
          1.8268346786499023,
          1.4807984034220378,
          1.1015005111694336,
          0.7658944924672445,
          0.5064461628595988,
          0.3285612463951111,
          0.2169395089149475,
          0.16786726315816244,
          0.14460707704226175,
          0.1334896186987559,
          0.12231044967969258,
          0.12591626246770224,
          0.12022497256596883,
          0.1203615168730418,
          0.12337072690327962,
          0.11697944005330403,
          0.1182107925415039,
          0.1178846259911855,
          0.11901675661404927,
          0.1162626842657725,
          0.12132696310679118,
          0.118050217628479,
          0.11696156859397888,
          0.11916545033454895,
          0.11316424608230591,
          0.11746783057848613,
          0.11143017808596294,
          0.11462323864301045,
          0.11263959606488545,
          0.11435684561729431,
          0.11086377501487732,
          0.11330772439638774,
          0.10849227507909139,
          0.11429614822069804,
          0.11302792032559712,
          0.11125011245409648,
          0.10653637846310933,
          0.11123492320378621,
          0.11075236399968465,
          0.11020281910896301,
          0.10859572887420654,
          0.1081877847512563,
          0.11087094744046529,
          0.11102375388145447,
          0.1012472112973531,
          0.10856424768765767,
          0.10571372509002686,
          0.09985262155532837,
          0.10349185268084209,
          0.09849913914998372,
          0.10008503993352254,
          0.10464155673980713,
          0.10787428418795268,
          0.0977844496568044,
          0.10198250412940979,
          0.09421393275260925,
          0.10139523943265279,
          0.09370778997739156,
          0.0977989137172699,
          0.10902085900306702,
          0.09086484710375468,
          0.1005154550075531,
          0.1113002598285675,
          0.10293543338775635,
          0.09469367067019145,
          0.09132962425549825,
          0.08876359462738037,
          0.0942823092142741,
          0.0907959242661794,
          0.08193973700205485,
          0.0909934937953949,
          0.08410783608754475,
          0.08287053803602855,
          0.07610654334227245,
          0.08552523454030354,
          0.08423590660095215,
          0.08481951554616292,
          0.08030396699905396,
          0.08634180823961894,
          0.08559101819992065,
          0.0736447125673294,
          0.08223034938176473
         ],
         "yaxis": "y2"
        },
        {
         "mode": "lines",
         "name": "MSE",
         "type": "scatter",
         "x": [
          0,
          1,
          2,
          3,
          4,
          5,
          6,
          7,
          8,
          9,
          10,
          11,
          12,
          13,
          14,
          15,
          16,
          17,
          18,
          19,
          20,
          21,
          22,
          23,
          24,
          25,
          26,
          27,
          28,
          29,
          30,
          31,
          32,
          33,
          34,
          35,
          36,
          37,
          38,
          39,
          40,
          41,
          42,
          43,
          44,
          45,
          46,
          47,
          48,
          49,
          50,
          51,
          52,
          53,
          54,
          55,
          56,
          57,
          58,
          59,
          60,
          61,
          62,
          63,
          64,
          65,
          66,
          67,
          68,
          69,
          70,
          71,
          72,
          73,
          74,
          75,
          76,
          77,
          78,
          79,
          80,
          81,
          82,
          83,
          84
         ],
         "xaxis": "x2",
         "y": [
          25.537333170572918,
          22.49207814534505,
          18.56760533650716,
          13.438398996988932,
          8.854586919148764,
          4.927837053934733,
          2.414761543273926,
          1.0901278654734294,
          0.492534597714742,
          0.24127459526062012,
          0.15979638695716858,
          0.12506203850110373,
          0.1090466280778249,
          0.09365953008333842,
          0.0986411174138387,
          0.09078929821650188,
          0.0908259650071462,
          0.0947352945804596,
          0.08623109261194865,
          0.08756181597709656,
          0.08703917264938354,
          0.08854700128237407,
          0.08509170015652974,
          0.09158145387967427,
          0.08710482716560364,
          0.08577794830004375,
          0.08863191803296407,
          0.08073624471823375,
          0.08614168564478557,
          0.07860018312931061,
          0.08224879701932271,
          0.07971582313378651,
          0.0817768673102061,
          0.07745486001173656,
          0.08020899693171184,
          0.07417401174704234,
          0.08115348219871521,
          0.0795048326253891,
          0.07742942869663239,
          0.07178278267383575,
          0.07691257695357005,
          0.07633752624193828,
          0.07549600799878438,
          0.07375192145506541,
          0.07332810759544373,
          0.07616532842318217,
          0.07625251511732738,
          0.06537340581417084,
          0.07354292770226796,
          0.0703895737727483,
          0.06343835095564525,
          0.06737339496612549,
          0.06167971591154734,
          0.06363014876842499,
          0.06801878909269969,
          0.07116706172625224,
          0.06040866672992706,
          0.0654101272424062,
          0.05702133973439535,
          0.06449547906716664,
          0.05663464963436127,
          0.06079450249671936,
          0.07292783260345459,
          0.05376917123794556,
          0.06361388166745503,
          0.07496859629948933,
          0.06587966283162434,
          0.05719428757826487,
          0.05399416387081146,
          0.05139642457167307,
          0.05674836039543152,
          0.053006509939829506,
          0.044741421937942505,
          0.053073366483052574,
          0.0463777631521225,
          0.04522460699081421,
          0.03902096301317215,
          0.047450954715410866,
          0.046117573976516724,
          0.0467505156993866,
          0.04237362742424011,
          0.04761330783367157,
          0.04760142664114634,
          0.036959449450174965,
          0.044654508431752525
         ],
         "yaxis": "y2"
        }
       ],
       "layout": {
        "annotations": [
         {
          "font": {
           "size": 16
          },
          "showarrow": false,
          "text": "<b>Train Loss</b>",
          "x": 0.5,
          "xanchor": "center",
          "xref": "paper",
          "y": 1,
          "yanchor": "bottom",
          "yref": "paper"
         },
         {
          "font": {
           "size": 16
          },
          "showarrow": false,
          "text": "<b>Test Metrics</b>",
          "x": 0.5,
          "xanchor": "center",
          "xref": "paper",
          "y": 0.375,
          "yanchor": "bottom",
          "yref": "paper"
         }
        ],
        "autosize": false,
        "height": 780,
        "legend": {
         "x": 1,
         "y": 0.15
        },
        "margin": {
         "b": 270
        },
        "paper_bgcolor": "rgba(240, 240, 240, 0.95)",
        "plot_bgcolor": "rgba(240, 240, 240, 0.95)",
        "template": {
         "data": {
          "bar": [
           {
            "error_x": {
             "color": "#2a3f5f"
            },
            "error_y": {
             "color": "#2a3f5f"
            },
            "marker": {
             "line": {
              "color": "#E5ECF6",
              "width": 0.5
             }
            },
            "type": "bar"
           }
          ],
          "barpolar": [
           {
            "marker": {
             "line": {
              "color": "#E5ECF6",
              "width": 0.5
             }
            },
            "type": "barpolar"
           }
          ],
          "carpet": [
           {
            "aaxis": {
             "endlinecolor": "#2a3f5f",
             "gridcolor": "white",
             "linecolor": "white",
             "minorgridcolor": "white",
             "startlinecolor": "#2a3f5f"
            },
            "baxis": {
             "endlinecolor": "#2a3f5f",
             "gridcolor": "white",
             "linecolor": "white",
             "minorgridcolor": "white",
             "startlinecolor": "#2a3f5f"
            },
            "type": "carpet"
           }
          ],
          "choropleth": [
           {
            "colorbar": {
             "outlinewidth": 0,
             "ticks": ""
            },
            "type": "choropleth"
           }
          ],
          "contour": [
           {
            "colorbar": {
             "outlinewidth": 0,
             "ticks": ""
            },
            "colorscale": [
             [
              0,
              "#0d0887"
             ],
             [
              0.1111111111111111,
              "#46039f"
             ],
             [
              0.2222222222222222,
              "#7201a8"
             ],
             [
              0.3333333333333333,
              "#9c179e"
             ],
             [
              0.4444444444444444,
              "#bd3786"
             ],
             [
              0.5555555555555556,
              "#d8576b"
             ],
             [
              0.6666666666666666,
              "#ed7953"
             ],
             [
              0.7777777777777778,
              "#fb9f3a"
             ],
             [
              0.8888888888888888,
              "#fdca26"
             ],
             [
              1,
              "#f0f921"
             ]
            ],
            "type": "contour"
           }
          ],
          "contourcarpet": [
           {
            "colorbar": {
             "outlinewidth": 0,
             "ticks": ""
            },
            "type": "contourcarpet"
           }
          ],
          "heatmap": [
           {
            "colorbar": {
             "outlinewidth": 0,
             "ticks": ""
            },
            "colorscale": [
             [
              0,
              "#0d0887"
             ],
             [
              0.1111111111111111,
              "#46039f"
             ],
             [
              0.2222222222222222,
              "#7201a8"
             ],
             [
              0.3333333333333333,
              "#9c179e"
             ],
             [
              0.4444444444444444,
              "#bd3786"
             ],
             [
              0.5555555555555556,
              "#d8576b"
             ],
             [
              0.6666666666666666,
              "#ed7953"
             ],
             [
              0.7777777777777778,
              "#fb9f3a"
             ],
             [
              0.8888888888888888,
              "#fdca26"
             ],
             [
              1,
              "#f0f921"
             ]
            ],
            "type": "heatmap"
           }
          ],
          "heatmapgl": [
           {
            "colorbar": {
             "outlinewidth": 0,
             "ticks": ""
            },
            "colorscale": [
             [
              0,
              "#0d0887"
             ],
             [
              0.1111111111111111,
              "#46039f"
             ],
             [
              0.2222222222222222,
              "#7201a8"
             ],
             [
              0.3333333333333333,
              "#9c179e"
             ],
             [
              0.4444444444444444,
              "#bd3786"
             ],
             [
              0.5555555555555556,
              "#d8576b"
             ],
             [
              0.6666666666666666,
              "#ed7953"
             ],
             [
              0.7777777777777778,
              "#fb9f3a"
             ],
             [
              0.8888888888888888,
              "#fdca26"
             ],
             [
              1,
              "#f0f921"
             ]
            ],
            "type": "heatmapgl"
           }
          ],
          "histogram": [
           {
            "marker": {
             "colorbar": {
              "outlinewidth": 0,
              "ticks": ""
             }
            },
            "type": "histogram"
           }
          ],
          "histogram2d": [
           {
            "colorbar": {
             "outlinewidth": 0,
             "ticks": ""
            },
            "colorscale": [
             [
              0,
              "#0d0887"
             ],
             [
              0.1111111111111111,
              "#46039f"
             ],
             [
              0.2222222222222222,
              "#7201a8"
             ],
             [
              0.3333333333333333,
              "#9c179e"
             ],
             [
              0.4444444444444444,
              "#bd3786"
             ],
             [
              0.5555555555555556,
              "#d8576b"
             ],
             [
              0.6666666666666666,
              "#ed7953"
             ],
             [
              0.7777777777777778,
              "#fb9f3a"
             ],
             [
              0.8888888888888888,
              "#fdca26"
             ],
             [
              1,
              "#f0f921"
             ]
            ],
            "type": "histogram2d"
           }
          ],
          "histogram2dcontour": [
           {
            "colorbar": {
             "outlinewidth": 0,
             "ticks": ""
            },
            "colorscale": [
             [
              0,
              "#0d0887"
             ],
             [
              0.1111111111111111,
              "#46039f"
             ],
             [
              0.2222222222222222,
              "#7201a8"
             ],
             [
              0.3333333333333333,
              "#9c179e"
             ],
             [
              0.4444444444444444,
              "#bd3786"
             ],
             [
              0.5555555555555556,
              "#d8576b"
             ],
             [
              0.6666666666666666,
              "#ed7953"
             ],
             [
              0.7777777777777778,
              "#fb9f3a"
             ],
             [
              0.8888888888888888,
              "#fdca26"
             ],
             [
              1,
              "#f0f921"
             ]
            ],
            "type": "histogram2dcontour"
           }
          ],
          "mesh3d": [
           {
            "colorbar": {
             "outlinewidth": 0,
             "ticks": ""
            },
            "type": "mesh3d"
           }
          ],
          "parcoords": [
           {
            "line": {
             "colorbar": {
              "outlinewidth": 0,
              "ticks": ""
             }
            },
            "type": "parcoords"
           }
          ],
          "pie": [
           {
            "automargin": true,
            "type": "pie"
           }
          ],
          "scatter": [
           {
            "marker": {
             "colorbar": {
              "outlinewidth": 0,
              "ticks": ""
             }
            },
            "type": "scatter"
           }
          ],
          "scatter3d": [
           {
            "line": {
             "colorbar": {
              "outlinewidth": 0,
              "ticks": ""
             }
            },
            "marker": {
             "colorbar": {
              "outlinewidth": 0,
              "ticks": ""
             }
            },
            "type": "scatter3d"
           }
          ],
          "scattercarpet": [
           {
            "marker": {
             "colorbar": {
              "outlinewidth": 0,
              "ticks": ""
             }
            },
            "type": "scattercarpet"
           }
          ],
          "scattergeo": [
           {
            "marker": {
             "colorbar": {
              "outlinewidth": 0,
              "ticks": ""
             }
            },
            "type": "scattergeo"
           }
          ],
          "scattergl": [
           {
            "marker": {
             "colorbar": {
              "outlinewidth": 0,
              "ticks": ""
             }
            },
            "type": "scattergl"
           }
          ],
          "scattermapbox": [
           {
            "marker": {
             "colorbar": {
              "outlinewidth": 0,
              "ticks": ""
             }
            },
            "type": "scattermapbox"
           }
          ],
          "scatterpolar": [
           {
            "marker": {
             "colorbar": {
              "outlinewidth": 0,
              "ticks": ""
             }
            },
            "type": "scatterpolar"
           }
          ],
          "scatterpolargl": [
           {
            "marker": {
             "colorbar": {
              "outlinewidth": 0,
              "ticks": ""
             }
            },
            "type": "scatterpolargl"
           }
          ],
          "scatterternary": [
           {
            "marker": {
             "colorbar": {
              "outlinewidth": 0,
              "ticks": ""
             }
            },
            "type": "scatterternary"
           }
          ],
          "surface": [
           {
            "colorbar": {
             "outlinewidth": 0,
             "ticks": ""
            },
            "colorscale": [
             [
              0,
              "#0d0887"
             ],
             [
              0.1111111111111111,
              "#46039f"
             ],
             [
              0.2222222222222222,
              "#7201a8"
             ],
             [
              0.3333333333333333,
              "#9c179e"
             ],
             [
              0.4444444444444444,
              "#bd3786"
             ],
             [
              0.5555555555555556,
              "#d8576b"
             ],
             [
              0.6666666666666666,
              "#ed7953"
             ],
             [
              0.7777777777777778,
              "#fb9f3a"
             ],
             [
              0.8888888888888888,
              "#fdca26"
             ],
             [
              1,
              "#f0f921"
             ]
            ],
            "type": "surface"
           }
          ],
          "table": [
           {
            "cells": {
             "fill": {
              "color": "#EBF0F8"
             },
             "line": {
              "color": "white"
             }
            },
            "header": {
             "fill": {
              "color": "#C8D4E3"
             },
             "line": {
              "color": "white"
             }
            },
            "type": "table"
           }
          ]
         },
         "layout": {
          "annotationdefaults": {
           "arrowcolor": "#2a3f5f",
           "arrowhead": 0,
           "arrowwidth": 1
          },
          "coloraxis": {
           "colorbar": {
            "outlinewidth": 0,
            "ticks": ""
           }
          },
          "colorscale": {
           "diverging": [
            [
             0,
             "#8e0152"
            ],
            [
             0.1,
             "#c51b7d"
            ],
            [
             0.2,
             "#de77ae"
            ],
            [
             0.3,
             "#f1b6da"
            ],
            [
             0.4,
             "#fde0ef"
            ],
            [
             0.5,
             "#f7f7f7"
            ],
            [
             0.6,
             "#e6f5d0"
            ],
            [
             0.7,
             "#b8e186"
            ],
            [
             0.8,
             "#7fbc41"
            ],
            [
             0.9,
             "#4d9221"
            ],
            [
             1,
             "#276419"
            ]
           ],
           "sequential": [
            [
             0,
             "#0d0887"
            ],
            [
             0.1111111111111111,
             "#46039f"
            ],
            [
             0.2222222222222222,
             "#7201a8"
            ],
            [
             0.3333333333333333,
             "#9c179e"
            ],
            [
             0.4444444444444444,
             "#bd3786"
            ],
            [
             0.5555555555555556,
             "#d8576b"
            ],
            [
             0.6666666666666666,
             "#ed7953"
            ],
            [
             0.7777777777777778,
             "#fb9f3a"
            ],
            [
             0.8888888888888888,
             "#fdca26"
            ],
            [
             1,
             "#f0f921"
            ]
           ],
           "sequentialminus": [
            [
             0,
             "#0d0887"
            ],
            [
             0.1111111111111111,
             "#46039f"
            ],
            [
             0.2222222222222222,
             "#7201a8"
            ],
            [
             0.3333333333333333,
             "#9c179e"
            ],
            [
             0.4444444444444444,
             "#bd3786"
            ],
            [
             0.5555555555555556,
             "#d8576b"
            ],
            [
             0.6666666666666666,
             "#ed7953"
            ],
            [
             0.7777777777777778,
             "#fb9f3a"
            ],
            [
             0.8888888888888888,
             "#fdca26"
            ],
            [
             1,
             "#f0f921"
            ]
           ]
          },
          "colorway": [
           "#636efa",
           "#EF553B",
           "#00cc96",
           "#ab63fa",
           "#FFA15A",
           "#19d3f3",
           "#FF6692",
           "#B6E880",
           "#FF97FF",
           "#FECB52"
          ],
          "font": {
           "color": "#2a3f5f"
          },
          "geo": {
           "bgcolor": "white",
           "lakecolor": "white",
           "landcolor": "#E5ECF6",
           "showlakes": true,
           "showland": true,
           "subunitcolor": "white"
          },
          "hoverlabel": {
           "align": "left"
          },
          "hovermode": "closest",
          "mapbox": {
           "style": "light"
          },
          "paper_bgcolor": "white",
          "plot_bgcolor": "#E5ECF6",
          "polar": {
           "angularaxis": {
            "gridcolor": "white",
            "linecolor": "white",
            "ticks": ""
           },
           "bgcolor": "#E5ECF6",
           "radialaxis": {
            "gridcolor": "white",
            "linecolor": "white",
            "ticks": ""
           }
          },
          "scene": {
           "xaxis": {
            "backgroundcolor": "#E5ECF6",
            "gridcolor": "white",
            "gridwidth": 2,
            "linecolor": "white",
            "showbackground": true,
            "ticks": "",
            "zerolinecolor": "white"
           },
           "yaxis": {
            "backgroundcolor": "#E5ECF6",
            "gridcolor": "white",
            "gridwidth": 2,
            "linecolor": "white",
            "showbackground": true,
            "ticks": "",
            "zerolinecolor": "white"
           },
           "zaxis": {
            "backgroundcolor": "#E5ECF6",
            "gridcolor": "white",
            "gridwidth": 2,
            "linecolor": "white",
            "showbackground": true,
            "ticks": "",
            "zerolinecolor": "white"
           }
          },
          "shapedefaults": {
           "line": {
            "color": "#2a3f5f"
           }
          },
          "ternary": {
           "aaxis": {
            "gridcolor": "white",
            "linecolor": "white",
            "ticks": ""
           },
           "baxis": {
            "gridcolor": "white",
            "linecolor": "white",
            "ticks": ""
           },
           "bgcolor": "#E5ECF6",
           "caxis": {
            "gridcolor": "white",
            "linecolor": "white",
            "ticks": ""
           }
          },
          "title": {
           "x": 0.05
          },
          "xaxis": {
           "automargin": true,
           "gridcolor": "white",
           "linecolor": "white",
           "ticks": "",
           "title": {
            "standoff": 15
           },
           "zerolinecolor": "white",
           "zerolinewidth": 2
          },
          "yaxis": {
           "automargin": true,
           "gridcolor": "white",
           "linecolor": "white",
           "ticks": "",
           "title": {
            "standoff": 15
           },
           "zerolinecolor": "white",
           "zerolinewidth": 2
          }
         }
        },
        "title": {
         "text": "<b>Model performance report</b><br>Salary Predictor without Random Forest Regressor Ensemble<br><br><br><br><br><br><br><br><br><br><br><br><br><br><br><br><br><br><br><br><br><br><br><br><b><i>Train Loss Stat Values:</i></b><br>Max: 100.40   Mean: 7.44   Min: 1.29   Median: 3.33   Var: 284.60<br><br><b><i>Mean Absolute Error Stat Values:</i></b><br>Max: 2.52   Mean: 0.25   Min: 0.07   Median: 0.11   Var: 0.23<br><br><b><i>Mean Squared Error Stat Values:</i></b><br>Max: 25.54   Mean: 1.22   Min: 0.04   Median: 0.08   Var: 19.62",
         "x": 0.5,
         "xanchor": "center",
         "y": 0.95,
         "yanchor": "top"
        },
        "width": 900,
        "xaxis": {
         "anchor": "y",
         "domain": [
          0,
          1
         ]
        },
        "xaxis2": {
         "anchor": "y2",
         "domain": [
          0,
          1
         ]
        },
        "yaxis": {
         "anchor": "x",
         "domain": [
          0.625,
          1
         ],
         "range": [
          0,
          1
         ]
        },
        "yaxis2": {
         "anchor": "x2",
         "domain": [
          0,
          0.375
         ],
         "range": [
          0,
          1
         ]
        }
       }
      },
      "text/html": [
       "<div>                            <div id=\"e77d1c8b-e6c8-408e-9a5e-2c6bcce40618\" class=\"plotly-graph-div\" style=\"height:780px; width:900px;\"></div>            <script type=\"text/javascript\">                require([\"plotly\"], function(Plotly) {                    window.PLOTLYENV=window.PLOTLYENV || {};                                    if (document.getElementById(\"e77d1c8b-e6c8-408e-9a5e-2c6bcce40618\")) {                    Plotly.newPlot(                        \"e77d1c8b-e6c8-408e-9a5e-2c6bcce40618\",                        [{\"mode\": \"lines\", \"name\": \"Train Loss\", \"showlegend\": false, \"type\": \"scatter\", \"x\": [0, 1, 2, 3, 4, 5, 6, 7, 8, 9, 10, 11, 12, 13, 14, 15, 16, 17, 18, 19, 20, 21, 22, 23, 24, 25, 26, 27, 28, 29, 30, 31, 32, 33, 34, 35, 36, 37, 38, 39, 40, 41, 42, 43, 44, 45, 46, 47, 48, 49, 50, 51, 52, 53, 54, 55, 56, 57, 58, 59, 60, 61, 62, 63, 64, 65, 66, 67, 68, 69, 70, 71, 72, 73, 74, 75, 76, 77, 78, 79, 80, 81, 82, 83, 84], \"xaxis\": \"x\", \"y\": [100.4024658203125, 89.60852813720703, 73.59700012207031, 52.373779296875, 34.823307037353516, 19.898197174072266, 11.983478546142578, 7.34211540222168, 4.980863571166992, 3.9419667720794678, 4.26679801940918, 4.511557579040527, 4.904001235961914, 4.226234436035156, 3.960690498352051, 3.8809807300567627, 4.00433349609375, 3.4002044200897217, 3.408571243286133, 3.566514253616333, 3.5647287368774414, 4.133770942687988, 3.3318111896514893, 3.9558258056640625, 3.5518596172332764, 4.361154556274414, 3.3761746883392334, 3.8106400966644287, 4.561573505401611, 3.838808536529541, 4.336297988891602, 3.5910918712615967, 3.302199125289917, 3.7676706314086914, 3.243622064590454, 4.041497230529785, 3.2510743141174316, 3.642855644226074, 5.089719772338867, 3.625030755996704, 3.4076786041259766, 3.3123655319213867, 3.5462536811828613, 3.2887401580810547, 2.9632647037506104, 3.561868906021118, 3.5534026622772217, 2.719564437866211, 3.072370767593384, 3.9310121536254883, 2.908565044403076, 2.7740471363067627, 2.7345147132873535, 2.9157395362854004, 3.3859851360321045, 2.3687024116516113, 3.2247226238250732, 2.983505964279175, 2.3278465270996094, 2.3366141319274902, 2.0902762413024902, 3.1328766345977783, 2.6124560832977295, 3.032475233078003, 2.4230144023895264, 2.671381711959839, 2.5172972679138184, 2.2408761978149414, 2.2177767753601074, 1.9820399284362793, 2.852447509765625, 2.145294189453125, 2.2486412525177, 2.0491626262664795, 2.381028890609741, 1.966610074043274, 2.5110585689544678, 1.741781234741211, 1.983203649520874, 1.9670233726501465, 2.1277694702148438, 1.9870879650115967, 1.2850775718688965, 1.8809224367141724, 1.5309109687805176], \"yaxis\": \"y\"}, {\"mode\": \"lines\", \"name\": \"MAE\", \"type\": \"scatter\", \"x\": [0, 1, 2, 3, 4, 5, 6, 7, 8, 9, 10, 11, 12, 13, 14, 15, 16, 17, 18, 19, 20, 21, 22, 23, 24, 25, 26, 27, 28, 29, 30, 31, 32, 33, 34, 35, 36, 37, 38, 39, 40, 41, 42, 43, 44, 45, 46, 47, 48, 49, 50, 51, 52, 53, 54, 55, 56, 57, 58, 59, 60, 61, 62, 63, 64, 65, 66, 67, 68, 69, 70, 71, 72, 73, 74, 75, 76, 77, 78, 79, 80, 81, 82, 83, 84], \"xaxis\": \"x2\", \"y\": [2.5225416819254556, 2.3667383193969727, 2.1496384938557944, 1.8268346786499023, 1.4807984034220378, 1.1015005111694336, 0.7658944924672445, 0.5064461628595988, 0.3285612463951111, 0.2169395089149475, 0.16786726315816244, 0.14460707704226175, 0.1334896186987559, 0.12231044967969258, 0.12591626246770224, 0.12022497256596883, 0.1203615168730418, 0.12337072690327962, 0.11697944005330403, 0.1182107925415039, 0.1178846259911855, 0.11901675661404927, 0.1162626842657725, 0.12132696310679118, 0.118050217628479, 0.11696156859397888, 0.11916545033454895, 0.11316424608230591, 0.11746783057848613, 0.11143017808596294, 0.11462323864301045, 0.11263959606488545, 0.11435684561729431, 0.11086377501487732, 0.11330772439638774, 0.10849227507909139, 0.11429614822069804, 0.11302792032559712, 0.11125011245409648, 0.10653637846310933, 0.11123492320378621, 0.11075236399968465, 0.11020281910896301, 0.10859572887420654, 0.1081877847512563, 0.11087094744046529, 0.11102375388145447, 0.1012472112973531, 0.10856424768765767, 0.10571372509002686, 0.09985262155532837, 0.10349185268084209, 0.09849913914998372, 0.10008503993352254, 0.10464155673980713, 0.10787428418795268, 0.0977844496568044, 0.10198250412940979, 0.09421393275260925, 0.10139523943265279, 0.09370778997739156, 0.0977989137172699, 0.10902085900306702, 0.09086484710375468, 0.1005154550075531, 0.1113002598285675, 0.10293543338775635, 0.09469367067019145, 0.09132962425549825, 0.08876359462738037, 0.0942823092142741, 0.0907959242661794, 0.08193973700205485, 0.0909934937953949, 0.08410783608754475, 0.08287053803602855, 0.07610654334227245, 0.08552523454030354, 0.08423590660095215, 0.08481951554616292, 0.08030396699905396, 0.08634180823961894, 0.08559101819992065, 0.0736447125673294, 0.08223034938176473], \"yaxis\": \"y2\"}, {\"mode\": \"lines\", \"name\": \"MSE\", \"type\": \"scatter\", \"x\": [0, 1, 2, 3, 4, 5, 6, 7, 8, 9, 10, 11, 12, 13, 14, 15, 16, 17, 18, 19, 20, 21, 22, 23, 24, 25, 26, 27, 28, 29, 30, 31, 32, 33, 34, 35, 36, 37, 38, 39, 40, 41, 42, 43, 44, 45, 46, 47, 48, 49, 50, 51, 52, 53, 54, 55, 56, 57, 58, 59, 60, 61, 62, 63, 64, 65, 66, 67, 68, 69, 70, 71, 72, 73, 74, 75, 76, 77, 78, 79, 80, 81, 82, 83, 84], \"xaxis\": \"x2\", \"y\": [25.537333170572918, 22.49207814534505, 18.56760533650716, 13.438398996988932, 8.854586919148764, 4.927837053934733, 2.414761543273926, 1.0901278654734294, 0.492534597714742, 0.24127459526062012, 0.15979638695716858, 0.12506203850110373, 0.1090466280778249, 0.09365953008333842, 0.0986411174138387, 0.09078929821650188, 0.0908259650071462, 0.0947352945804596, 0.08623109261194865, 0.08756181597709656, 0.08703917264938354, 0.08854700128237407, 0.08509170015652974, 0.09158145387967427, 0.08710482716560364, 0.08577794830004375, 0.08863191803296407, 0.08073624471823375, 0.08614168564478557, 0.07860018312931061, 0.08224879701932271, 0.07971582313378651, 0.0817768673102061, 0.07745486001173656, 0.08020899693171184, 0.07417401174704234, 0.08115348219871521, 0.0795048326253891, 0.07742942869663239, 0.07178278267383575, 0.07691257695357005, 0.07633752624193828, 0.07549600799878438, 0.07375192145506541, 0.07332810759544373, 0.07616532842318217, 0.07625251511732738, 0.06537340581417084, 0.07354292770226796, 0.0703895737727483, 0.06343835095564525, 0.06737339496612549, 0.06167971591154734, 0.06363014876842499, 0.06801878909269969, 0.07116706172625224, 0.06040866672992706, 0.0654101272424062, 0.05702133973439535, 0.06449547906716664, 0.05663464963436127, 0.06079450249671936, 0.07292783260345459, 0.05376917123794556, 0.06361388166745503, 0.07496859629948933, 0.06587966283162434, 0.05719428757826487, 0.05399416387081146, 0.05139642457167307, 0.05674836039543152, 0.053006509939829506, 0.044741421937942505, 0.053073366483052574, 0.0463777631521225, 0.04522460699081421, 0.03902096301317215, 0.047450954715410866, 0.046117573976516724, 0.0467505156993866, 0.04237362742424011, 0.04761330783367157, 0.04760142664114634, 0.036959449450174965, 0.044654508431752525], \"yaxis\": \"y2\"}],                        {\"annotations\": [{\"font\": {\"size\": 16}, \"showarrow\": false, \"text\": \"<b>Train Loss</b>\", \"x\": 0.5, \"xanchor\": \"center\", \"xref\": \"paper\", \"y\": 1.0, \"yanchor\": \"bottom\", \"yref\": \"paper\"}, {\"font\": {\"size\": 16}, \"showarrow\": false, \"text\": \"<b>Test Metrics</b>\", \"x\": 0.5, \"xanchor\": \"center\", \"xref\": \"paper\", \"y\": 0.375, \"yanchor\": \"bottom\", \"yref\": \"paper\"}], \"autosize\": false, \"height\": 780, \"legend\": {\"x\": 1, \"y\": 0.15}, \"margin\": {\"b\": 270}, \"paper_bgcolor\": \"rgba(240, 240, 240, 0.95)\", \"plot_bgcolor\": \"rgba(240, 240, 240, 0.95)\", \"template\": {\"data\": {\"bar\": [{\"error_x\": {\"color\": \"#2a3f5f\"}, \"error_y\": {\"color\": \"#2a3f5f\"}, \"marker\": {\"line\": {\"color\": \"#E5ECF6\", \"width\": 0.5}}, \"type\": \"bar\"}], \"barpolar\": [{\"marker\": {\"line\": {\"color\": \"#E5ECF6\", \"width\": 0.5}}, \"type\": \"barpolar\"}], \"carpet\": [{\"aaxis\": {\"endlinecolor\": \"#2a3f5f\", \"gridcolor\": \"white\", \"linecolor\": \"white\", \"minorgridcolor\": \"white\", \"startlinecolor\": \"#2a3f5f\"}, \"baxis\": {\"endlinecolor\": \"#2a3f5f\", \"gridcolor\": \"white\", \"linecolor\": \"white\", \"minorgridcolor\": \"white\", \"startlinecolor\": \"#2a3f5f\"}, \"type\": \"carpet\"}], \"choropleth\": [{\"colorbar\": {\"outlinewidth\": 0, \"ticks\": \"\"}, \"type\": \"choropleth\"}], \"contour\": [{\"colorbar\": {\"outlinewidth\": 0, \"ticks\": \"\"}, \"colorscale\": [[0.0, \"#0d0887\"], [0.1111111111111111, \"#46039f\"], [0.2222222222222222, \"#7201a8\"], [0.3333333333333333, \"#9c179e\"], [0.4444444444444444, \"#bd3786\"], [0.5555555555555556, \"#d8576b\"], [0.6666666666666666, \"#ed7953\"], [0.7777777777777778, \"#fb9f3a\"], [0.8888888888888888, \"#fdca26\"], [1.0, \"#f0f921\"]], \"type\": \"contour\"}], \"contourcarpet\": [{\"colorbar\": {\"outlinewidth\": 0, \"ticks\": \"\"}, \"type\": \"contourcarpet\"}], \"heatmap\": [{\"colorbar\": {\"outlinewidth\": 0, \"ticks\": \"\"}, \"colorscale\": [[0.0, \"#0d0887\"], [0.1111111111111111, \"#46039f\"], [0.2222222222222222, \"#7201a8\"], [0.3333333333333333, \"#9c179e\"], [0.4444444444444444, \"#bd3786\"], [0.5555555555555556, \"#d8576b\"], [0.6666666666666666, \"#ed7953\"], [0.7777777777777778, \"#fb9f3a\"], [0.8888888888888888, \"#fdca26\"], [1.0, \"#f0f921\"]], \"type\": \"heatmap\"}], \"heatmapgl\": [{\"colorbar\": {\"outlinewidth\": 0, \"ticks\": \"\"}, \"colorscale\": [[0.0, \"#0d0887\"], [0.1111111111111111, \"#46039f\"], [0.2222222222222222, \"#7201a8\"], [0.3333333333333333, \"#9c179e\"], [0.4444444444444444, \"#bd3786\"], [0.5555555555555556, \"#d8576b\"], [0.6666666666666666, \"#ed7953\"], [0.7777777777777778, \"#fb9f3a\"], [0.8888888888888888, \"#fdca26\"], [1.0, \"#f0f921\"]], \"type\": \"heatmapgl\"}], \"histogram\": [{\"marker\": {\"colorbar\": {\"outlinewidth\": 0, \"ticks\": \"\"}}, \"type\": \"histogram\"}], \"histogram2d\": [{\"colorbar\": {\"outlinewidth\": 0, \"ticks\": \"\"}, \"colorscale\": [[0.0, \"#0d0887\"], [0.1111111111111111, \"#46039f\"], [0.2222222222222222, \"#7201a8\"], [0.3333333333333333, \"#9c179e\"], [0.4444444444444444, \"#bd3786\"], [0.5555555555555556, \"#d8576b\"], [0.6666666666666666, \"#ed7953\"], [0.7777777777777778, \"#fb9f3a\"], [0.8888888888888888, \"#fdca26\"], [1.0, \"#f0f921\"]], \"type\": \"histogram2d\"}], \"histogram2dcontour\": [{\"colorbar\": {\"outlinewidth\": 0, \"ticks\": \"\"}, \"colorscale\": [[0.0, \"#0d0887\"], [0.1111111111111111, \"#46039f\"], [0.2222222222222222, \"#7201a8\"], [0.3333333333333333, \"#9c179e\"], [0.4444444444444444, \"#bd3786\"], [0.5555555555555556, \"#d8576b\"], [0.6666666666666666, \"#ed7953\"], [0.7777777777777778, \"#fb9f3a\"], [0.8888888888888888, \"#fdca26\"], [1.0, \"#f0f921\"]], \"type\": \"histogram2dcontour\"}], \"mesh3d\": [{\"colorbar\": {\"outlinewidth\": 0, \"ticks\": \"\"}, \"type\": \"mesh3d\"}], \"parcoords\": [{\"line\": {\"colorbar\": {\"outlinewidth\": 0, \"ticks\": \"\"}}, \"type\": \"parcoords\"}], \"pie\": [{\"automargin\": true, \"type\": \"pie\"}], \"scatter\": [{\"marker\": {\"colorbar\": {\"outlinewidth\": 0, \"ticks\": \"\"}}, \"type\": \"scatter\"}], \"scatter3d\": [{\"line\": {\"colorbar\": {\"outlinewidth\": 0, \"ticks\": \"\"}}, \"marker\": {\"colorbar\": {\"outlinewidth\": 0, \"ticks\": \"\"}}, \"type\": \"scatter3d\"}], \"scattercarpet\": [{\"marker\": {\"colorbar\": {\"outlinewidth\": 0, \"ticks\": \"\"}}, \"type\": \"scattercarpet\"}], \"scattergeo\": [{\"marker\": {\"colorbar\": {\"outlinewidth\": 0, \"ticks\": \"\"}}, \"type\": \"scattergeo\"}], \"scattergl\": [{\"marker\": {\"colorbar\": {\"outlinewidth\": 0, \"ticks\": \"\"}}, \"type\": \"scattergl\"}], \"scattermapbox\": [{\"marker\": {\"colorbar\": {\"outlinewidth\": 0, \"ticks\": \"\"}}, \"type\": \"scattermapbox\"}], \"scatterpolar\": [{\"marker\": {\"colorbar\": {\"outlinewidth\": 0, \"ticks\": \"\"}}, \"type\": \"scatterpolar\"}], \"scatterpolargl\": [{\"marker\": {\"colorbar\": {\"outlinewidth\": 0, \"ticks\": \"\"}}, \"type\": \"scatterpolargl\"}], \"scatterternary\": [{\"marker\": {\"colorbar\": {\"outlinewidth\": 0, \"ticks\": \"\"}}, \"type\": \"scatterternary\"}], \"surface\": [{\"colorbar\": {\"outlinewidth\": 0, \"ticks\": \"\"}, \"colorscale\": [[0.0, \"#0d0887\"], [0.1111111111111111, \"#46039f\"], [0.2222222222222222, \"#7201a8\"], [0.3333333333333333, \"#9c179e\"], [0.4444444444444444, \"#bd3786\"], [0.5555555555555556, \"#d8576b\"], [0.6666666666666666, \"#ed7953\"], [0.7777777777777778, \"#fb9f3a\"], [0.8888888888888888, \"#fdca26\"], [1.0, \"#f0f921\"]], \"type\": \"surface\"}], \"table\": [{\"cells\": {\"fill\": {\"color\": \"#EBF0F8\"}, \"line\": {\"color\": \"white\"}}, \"header\": {\"fill\": {\"color\": \"#C8D4E3\"}, \"line\": {\"color\": \"white\"}}, \"type\": \"table\"}]}, \"layout\": {\"annotationdefaults\": {\"arrowcolor\": \"#2a3f5f\", \"arrowhead\": 0, \"arrowwidth\": 1}, \"coloraxis\": {\"colorbar\": {\"outlinewidth\": 0, \"ticks\": \"\"}}, \"colorscale\": {\"diverging\": [[0, \"#8e0152\"], [0.1, \"#c51b7d\"], [0.2, \"#de77ae\"], [0.3, \"#f1b6da\"], [0.4, \"#fde0ef\"], [0.5, \"#f7f7f7\"], [0.6, \"#e6f5d0\"], [0.7, \"#b8e186\"], [0.8, \"#7fbc41\"], [0.9, \"#4d9221\"], [1, \"#276419\"]], \"sequential\": [[0.0, \"#0d0887\"], [0.1111111111111111, \"#46039f\"], [0.2222222222222222, \"#7201a8\"], [0.3333333333333333, \"#9c179e\"], [0.4444444444444444, \"#bd3786\"], [0.5555555555555556, \"#d8576b\"], [0.6666666666666666, \"#ed7953\"], [0.7777777777777778, \"#fb9f3a\"], [0.8888888888888888, \"#fdca26\"], [1.0, \"#f0f921\"]], \"sequentialminus\": [[0.0, \"#0d0887\"], [0.1111111111111111, \"#46039f\"], [0.2222222222222222, \"#7201a8\"], [0.3333333333333333, \"#9c179e\"], [0.4444444444444444, \"#bd3786\"], [0.5555555555555556, \"#d8576b\"], [0.6666666666666666, \"#ed7953\"], [0.7777777777777778, \"#fb9f3a\"], [0.8888888888888888, \"#fdca26\"], [1.0, \"#f0f921\"]]}, \"colorway\": [\"#636efa\", \"#EF553B\", \"#00cc96\", \"#ab63fa\", \"#FFA15A\", \"#19d3f3\", \"#FF6692\", \"#B6E880\", \"#FF97FF\", \"#FECB52\"], \"font\": {\"color\": \"#2a3f5f\"}, \"geo\": {\"bgcolor\": \"white\", \"lakecolor\": \"white\", \"landcolor\": \"#E5ECF6\", \"showlakes\": true, \"showland\": true, \"subunitcolor\": \"white\"}, \"hoverlabel\": {\"align\": \"left\"}, \"hovermode\": \"closest\", \"mapbox\": {\"style\": \"light\"}, \"paper_bgcolor\": \"white\", \"plot_bgcolor\": \"#E5ECF6\", \"polar\": {\"angularaxis\": {\"gridcolor\": \"white\", \"linecolor\": \"white\", \"ticks\": \"\"}, \"bgcolor\": \"#E5ECF6\", \"radialaxis\": {\"gridcolor\": \"white\", \"linecolor\": \"white\", \"ticks\": \"\"}}, \"scene\": {\"xaxis\": {\"backgroundcolor\": \"#E5ECF6\", \"gridcolor\": \"white\", \"gridwidth\": 2, \"linecolor\": \"white\", \"showbackground\": true, \"ticks\": \"\", \"zerolinecolor\": \"white\"}, \"yaxis\": {\"backgroundcolor\": \"#E5ECF6\", \"gridcolor\": \"white\", \"gridwidth\": 2, \"linecolor\": \"white\", \"showbackground\": true, \"ticks\": \"\", \"zerolinecolor\": \"white\"}, \"zaxis\": {\"backgroundcolor\": \"#E5ECF6\", \"gridcolor\": \"white\", \"gridwidth\": 2, \"linecolor\": \"white\", \"showbackground\": true, \"ticks\": \"\", \"zerolinecolor\": \"white\"}}, \"shapedefaults\": {\"line\": {\"color\": \"#2a3f5f\"}}, \"ternary\": {\"aaxis\": {\"gridcolor\": \"white\", \"linecolor\": \"white\", \"ticks\": \"\"}, \"baxis\": {\"gridcolor\": \"white\", \"linecolor\": \"white\", \"ticks\": \"\"}, \"bgcolor\": \"#E5ECF6\", \"caxis\": {\"gridcolor\": \"white\", \"linecolor\": \"white\", \"ticks\": \"\"}}, \"title\": {\"x\": 0.05}, \"xaxis\": {\"automargin\": true, \"gridcolor\": \"white\", \"linecolor\": \"white\", \"ticks\": \"\", \"title\": {\"standoff\": 15}, \"zerolinecolor\": \"white\", \"zerolinewidth\": 2}, \"yaxis\": {\"automargin\": true, \"gridcolor\": \"white\", \"linecolor\": \"white\", \"ticks\": \"\", \"title\": {\"standoff\": 15}, \"zerolinecolor\": \"white\", \"zerolinewidth\": 2}}}, \"title\": {\"text\": \"<b>Model performance report</b><br>Salary Predictor without Random Forest Regressor Ensemble<br><br><br><br><br><br><br><br><br><br><br><br><br><br><br><br><br><br><br><br><br><br><br><br><b><i>Train Loss Stat Values:</i></b><br>Max: 100.40   Mean: 7.44   Min: 1.29   Median: 3.33   Var: 284.60<br><br><b><i>Mean Absolute Error Stat Values:</i></b><br>Max: 2.52   Mean: 0.25   Min: 0.07   Median: 0.11   Var: 0.23<br><br><b><i>Mean Squared Error Stat Values:</i></b><br>Max: 25.54   Mean: 1.22   Min: 0.04   Median: 0.08   Var: 19.62\", \"x\": 0.5, \"xanchor\": \"center\", \"y\": 0.95, \"yanchor\": \"top\"}, \"width\": 900, \"xaxis\": {\"anchor\": \"y\", \"domain\": [0.0, 1.0]}, \"xaxis2\": {\"anchor\": \"y2\", \"domain\": [0.0, 1.0]}, \"yaxis\": {\"anchor\": \"x\", \"domain\": [0.625, 1.0], \"range\": [0, 1]}, \"yaxis2\": {\"anchor\": \"x2\", \"domain\": [0.0, 0.375], \"range\": [0, 1]}},                        {\"responsive\": true}                    ).then(function(){\n",
       "                            \n",
       "var gd = document.getElementById('e77d1c8b-e6c8-408e-9a5e-2c6bcce40618');\n",
       "var x = new MutationObserver(function (mutations, observer) {{\n",
       "        var display = window.getComputedStyle(gd).display;\n",
       "        if (!display || display === 'none') {{\n",
       "            console.log([gd, 'removed!']);\n",
       "            Plotly.purge(gd);\n",
       "            observer.disconnect();\n",
       "        }}\n",
       "}});\n",
       "\n",
       "// Listen for the removal of the full notebook cells\n",
       "var notebookContainer = gd.closest('#notebook-container');\n",
       "if (notebookContainer) {{\n",
       "    x.observe(notebookContainer, {childList: true});\n",
       "}}\n",
       "\n",
       "// Listen for the clearing of the current output cell\n",
       "var outputEl = gd.closest('.output');\n",
       "if (outputEl) {{\n",
       "    x.observe(outputEl, {childList: true});\n",
       "}}\n",
       "\n",
       "                        })                };                });            </script>        </div>"
      ]
     },
     "metadata": {},
     "output_type": "display_data"
    }
   ],
   "source": [
    "draw_loss_acc_plot('Salary Predictor without Random Forest Regressor Ensemble', train_loss_15, list_mae_15, list_mse_15)"
   ]
  },
  {
   "cell_type": "code",
   "execution_count": 59,
   "metadata": {},
   "outputs": [
    {
     "name": "stdout",
     "output_type": "stream",
     "text": [
      "Calculate metrics for: train\n",
      "\tMSE: 0.13222194200553267\n",
      "\tMAE: 0.28134473031697094\n",
      "\n",
      "\n",
      "Calculate metrics for: test\n",
      "\tMSE: 0.133470539519901\n",
      "\tMAE: 0.2826672697246609\n",
      "\n",
      "\n",
      "Calculate metrics for: validation\n",
      "\tMSE: 0.1358156342015807\n",
      "\tMAE: 0.2853868289451418\n",
      "\n",
      "\n"
     ]
    }
   ],
   "source": [
    "calculate_metrics(ensemble_forest, train_features, train_targets, 'train')\n",
    "calculate_metrics(ensemble_forest, test_features, test_targets, 'test')\n",
    "calculate_metrics(ensemble_forest, val_features, val_targets, 'validation')"
   ]
  },
  {
   "cell_type": "markdown",
   "metadata": {},
   "source": [
    "Ансамбль деревьев решений с признаками из предпоследнего слоя обученной нейросети сработал намного хуже, чем взятая за основу нейросеть. Для сравнения метрики представлены выше."
   ]
  }
 ],
 "metadata": {
  "accelerator": "GPU",
  "colab": {
   "collapsed_sections": [],
   "name": "seminar_torch.ipynb",
   "provenance": []
  },
  "kernelspec": {
   "display_name": "Python 3",
   "language": "python",
   "name": "python3"
  },
  "language_info": {
   "codemirror_mode": {
    "name": "ipython",
    "version": 3
   },
   "file_extension": ".py",
   "mimetype": "text/x-python",
   "name": "python",
   "nbconvert_exporter": "python",
   "pygments_lexer": "ipython3",
   "version": "3.8.3"
  },
  "widgets": {
   "application/vnd.jupyter.widget-state+json": {
    "03f11c5e7e00439cb3d2b2d2b7686cb5": {
     "model_module": "@jupyter-widgets/controls",
     "model_name": "FloatProgressModel",
     "state": {
      "_dom_classes": [],
      "_model_module": "@jupyter-widgets/controls",
      "_model_module_version": "1.5.0",
      "_model_name": "FloatProgressModel",
      "_view_count": null,
      "_view_module": "@jupyter-widgets/controls",
      "_view_module_version": "1.5.0",
      "_view_name": "ProgressView",
      "bar_style": "success",
      "description": "",
      "description_tooltip": null,
      "layout": "IPY_MODEL_16d2b792e6cf49cc8380a223a64495dd",
      "max": 1721,
      "min": 0,
      "orientation": "horizontal",
      "style": "IPY_MODEL_f1a3091f5ff0491a84e95ed35dfe81e4",
      "value": 1721
     }
    },
    "16d2b792e6cf49cc8380a223a64495dd": {
     "model_module": "@jupyter-widgets/base",
     "model_name": "LayoutModel",
     "state": {
      "_model_module": "@jupyter-widgets/base",
      "_model_module_version": "1.2.0",
      "_model_name": "LayoutModel",
      "_view_count": null,
      "_view_module": "@jupyter-widgets/base",
      "_view_module_version": "1.2.0",
      "_view_name": "LayoutView",
      "align_content": null,
      "align_items": null,
      "align_self": null,
      "border": null,
      "bottom": null,
      "display": null,
      "flex": null,
      "flex_flow": null,
      "grid_area": null,
      "grid_auto_columns": null,
      "grid_auto_flow": null,
      "grid_auto_rows": null,
      "grid_column": null,
      "grid_gap": null,
      "grid_row": null,
      "grid_template_areas": null,
      "grid_template_columns": null,
      "grid_template_rows": null,
      "height": null,
      "justify_content": null,
      "justify_items": null,
      "left": null,
      "margin": null,
      "max_height": null,
      "max_width": null,
      "min_height": null,
      "min_width": null,
      "object_fit": null,
      "object_position": null,
      "order": null,
      "overflow": null,
      "overflow_x": null,
      "overflow_y": null,
      "padding": null,
      "right": null,
      "top": null,
      "visibility": null,
      "width": null
     }
    },
    "20a09116eab6463baefb4d477c1e410c": {
     "model_module": "@jupyter-widgets/controls",
     "model_name": "HTMLModel",
     "state": {
      "_dom_classes": [],
      "_model_module": "@jupyter-widgets/controls",
      "_model_module_version": "1.5.0",
      "_model_name": "HTMLModel",
      "_view_count": null,
      "_view_module": "@jupyter-widgets/controls",
      "_view_module_version": "1.5.0",
      "_view_name": "HTMLView",
      "description": "",
      "description_tooltip": null,
      "layout": "IPY_MODEL_c942b73284194cc39320af47794f185d",
      "placeholder": "​",
      "style": "IPY_MODEL_edd9456f344b44dab1ab189764d83a37",
      "value": " 1722/? [01:39&lt;00:00, 17.31it/s]"
     }
    },
    "2453cfecaf814b27986da75e45d9fe5e": {
     "model_module": "@jupyter-widgets/base",
     "model_name": "LayoutModel",
     "state": {
      "_model_module": "@jupyter-widgets/base",
      "_model_module_version": "1.2.0",
      "_model_name": "LayoutModel",
      "_view_count": null,
      "_view_module": "@jupyter-widgets/base",
      "_view_module_version": "1.2.0",
      "_view_name": "LayoutView",
      "align_content": null,
      "align_items": null,
      "align_self": null,
      "border": null,
      "bottom": null,
      "display": null,
      "flex": null,
      "flex_flow": null,
      "grid_area": null,
      "grid_auto_columns": null,
      "grid_auto_flow": null,
      "grid_auto_rows": null,
      "grid_column": null,
      "grid_gap": null,
      "grid_row": null,
      "grid_template_areas": null,
      "grid_template_columns": null,
      "grid_template_rows": null,
      "height": null,
      "justify_content": null,
      "justify_items": null,
      "left": null,
      "margin": null,
      "max_height": null,
      "max_width": null,
      "min_height": null,
      "min_width": null,
      "object_fit": null,
      "object_position": null,
      "order": null,
      "overflow": null,
      "overflow_x": null,
      "overflow_y": null,
      "padding": null,
      "right": null,
      "top": null,
      "visibility": null,
      "width": null
     }
    },
    "35e0b8011a3e4a09b549c91128e6efeb": {
     "model_module": "@jupyter-widgets/controls",
     "model_name": "HBoxModel",
     "state": {
      "_dom_classes": [],
      "_model_module": "@jupyter-widgets/controls",
      "_model_module_version": "1.5.0",
      "_model_name": "HBoxModel",
      "_view_count": null,
      "_view_module": "@jupyter-widgets/controls",
      "_view_module_version": "1.5.0",
      "_view_name": "HBoxView",
      "box_style": "",
      "children": [
       "IPY_MODEL_03f11c5e7e00439cb3d2b2d2b7686cb5",
       "IPY_MODEL_426f02a100ba4a50a4c428d2215fca1e"
      ],
      "layout": "IPY_MODEL_6d1a80fa13e9428fb3ef47552b39752b"
     }
    },
    "426f02a100ba4a50a4c428d2215fca1e": {
     "model_module": "@jupyter-widgets/controls",
     "model_name": "HTMLModel",
     "state": {
      "_dom_classes": [],
      "_model_module": "@jupyter-widgets/controls",
      "_model_module_version": "1.5.0",
      "_model_name": "HTMLModel",
      "_view_count": null,
      "_view_module": "@jupyter-widgets/controls",
      "_view_module_version": "1.5.0",
      "_view_name": "HTMLView",
      "description": "",
      "description_tooltip": null,
      "layout": "IPY_MODEL_9b37a2a98204452eab3455ddea0bee2e",
      "placeholder": "​",
      "style": "IPY_MODEL_810e2fcd62c749d898b9db1a2b5cc4e6",
      "value": " 1722/? [01:39&lt;00:00, 17.28it/s]"
     }
    },
    "4a1242a11d3649a685d745b195ac83fd": {
     "model_module": "@jupyter-widgets/base",
     "model_name": "LayoutModel",
     "state": {
      "_model_module": "@jupyter-widgets/base",
      "_model_module_version": "1.2.0",
      "_model_name": "LayoutModel",
      "_view_count": null,
      "_view_module": "@jupyter-widgets/base",
      "_view_module_version": "1.2.0",
      "_view_name": "LayoutView",
      "align_content": null,
      "align_items": null,
      "align_self": null,
      "border": null,
      "bottom": null,
      "display": null,
      "flex": null,
      "flex_flow": null,
      "grid_area": null,
      "grid_auto_columns": null,
      "grid_auto_flow": null,
      "grid_auto_rows": null,
      "grid_column": null,
      "grid_gap": null,
      "grid_row": null,
      "grid_template_areas": null,
      "grid_template_columns": null,
      "grid_template_rows": null,
      "height": null,
      "justify_content": null,
      "justify_items": null,
      "left": null,
      "margin": null,
      "max_height": null,
      "max_width": null,
      "min_height": null,
      "min_width": null,
      "object_fit": null,
      "object_position": null,
      "order": null,
      "overflow": null,
      "overflow_x": null,
      "overflow_y": null,
      "padding": null,
      "right": null,
      "top": null,
      "visibility": null,
      "width": null
     }
    },
    "600cec0f9a8a45c099c5d3a38c655deb": {
     "model_module": "@jupyter-widgets/controls",
     "model_name": "HBoxModel",
     "state": {
      "_dom_classes": [],
      "_model_module": "@jupyter-widgets/controls",
      "_model_module_version": "1.5.0",
      "_model_name": "HBoxModel",
      "_view_count": null,
      "_view_module": "@jupyter-widgets/controls",
      "_view_module_version": "1.5.0",
      "_view_name": "HBoxView",
      "box_style": "",
      "children": [
       "IPY_MODEL_d81052a8fcbd4b0d9c2f999e8819c676",
       "IPY_MODEL_20a09116eab6463baefb4d477c1e410c"
      ],
      "layout": "IPY_MODEL_2453cfecaf814b27986da75e45d9fe5e"
     }
    },
    "69ff883912e2485ead2772471a51e049": {
     "model_module": "@jupyter-widgets/controls",
     "model_name": "FloatProgressModel",
     "state": {
      "_dom_classes": [],
      "_model_module": "@jupyter-widgets/controls",
      "_model_module_version": "1.5.0",
      "_model_name": "FloatProgressModel",
      "_view_count": null,
      "_view_module": "@jupyter-widgets/controls",
      "_view_module_version": "1.5.0",
      "_view_name": "ProgressView",
      "bar_style": "success",
      "description": "",
      "description_tooltip": null,
      "layout": "IPY_MODEL_7baa68643da842baa7c8c57442c6ea56",
      "max": 1721,
      "min": 0,
      "orientation": "horizontal",
      "style": "IPY_MODEL_7df985e91b3246759786a6000119f3e4",
      "value": 1721
     }
    },
    "6d1a80fa13e9428fb3ef47552b39752b": {
     "model_module": "@jupyter-widgets/base",
     "model_name": "LayoutModel",
     "state": {
      "_model_module": "@jupyter-widgets/base",
      "_model_module_version": "1.2.0",
      "_model_name": "LayoutModel",
      "_view_count": null,
      "_view_module": "@jupyter-widgets/base",
      "_view_module_version": "1.2.0",
      "_view_name": "LayoutView",
      "align_content": null,
      "align_items": null,
      "align_self": null,
      "border": null,
      "bottom": null,
      "display": null,
      "flex": null,
      "flex_flow": null,
      "grid_area": null,
      "grid_auto_columns": null,
      "grid_auto_flow": null,
      "grid_auto_rows": null,
      "grid_column": null,
      "grid_gap": null,
      "grid_row": null,
      "grid_template_areas": null,
      "grid_template_columns": null,
      "grid_template_rows": null,
      "height": null,
      "justify_content": null,
      "justify_items": null,
      "left": null,
      "margin": null,
      "max_height": null,
      "max_width": null,
      "min_height": null,
      "min_width": null,
      "object_fit": null,
      "object_position": null,
      "order": null,
      "overflow": null,
      "overflow_x": null,
      "overflow_y": null,
      "padding": null,
      "right": null,
      "top": null,
      "visibility": null,
      "width": null
     }
    },
    "7baa68643da842baa7c8c57442c6ea56": {
     "model_module": "@jupyter-widgets/base",
     "model_name": "LayoutModel",
     "state": {
      "_model_module": "@jupyter-widgets/base",
      "_model_module_version": "1.2.0",
      "_model_name": "LayoutModel",
      "_view_count": null,
      "_view_module": "@jupyter-widgets/base",
      "_view_module_version": "1.2.0",
      "_view_name": "LayoutView",
      "align_content": null,
      "align_items": null,
      "align_self": null,
      "border": null,
      "bottom": null,
      "display": null,
      "flex": null,
      "flex_flow": null,
      "grid_area": null,
      "grid_auto_columns": null,
      "grid_auto_flow": null,
      "grid_auto_rows": null,
      "grid_column": null,
      "grid_gap": null,
      "grid_row": null,
      "grid_template_areas": null,
      "grid_template_columns": null,
      "grid_template_rows": null,
      "height": null,
      "justify_content": null,
      "justify_items": null,
      "left": null,
      "margin": null,
      "max_height": null,
      "max_width": null,
      "min_height": null,
      "min_width": null,
      "object_fit": null,
      "object_position": null,
      "order": null,
      "overflow": null,
      "overflow_x": null,
      "overflow_y": null,
      "padding": null,
      "right": null,
      "top": null,
      "visibility": null,
      "width": null
     }
    },
    "7df985e91b3246759786a6000119f3e4": {
     "model_module": "@jupyter-widgets/controls",
     "model_name": "ProgressStyleModel",
     "state": {
      "_model_module": "@jupyter-widgets/controls",
      "_model_module_version": "1.5.0",
      "_model_name": "ProgressStyleModel",
      "_view_count": null,
      "_view_module": "@jupyter-widgets/base",
      "_view_module_version": "1.2.0",
      "_view_name": "StyleView",
      "bar_color": null,
      "description_width": "initial"
     }
    },
    "810e2fcd62c749d898b9db1a2b5cc4e6": {
     "model_module": "@jupyter-widgets/controls",
     "model_name": "DescriptionStyleModel",
     "state": {
      "_model_module": "@jupyter-widgets/controls",
      "_model_module_version": "1.5.0",
      "_model_name": "DescriptionStyleModel",
      "_view_count": null,
      "_view_module": "@jupyter-widgets/base",
      "_view_module_version": "1.2.0",
      "_view_name": "StyleView",
      "description_width": ""
     }
    },
    "95f2fd000f564836bbd92a23dd45dc4a": {
     "model_module": "@jupyter-widgets/base",
     "model_name": "LayoutModel",
     "state": {
      "_model_module": "@jupyter-widgets/base",
      "_model_module_version": "1.2.0",
      "_model_name": "LayoutModel",
      "_view_count": null,
      "_view_module": "@jupyter-widgets/base",
      "_view_module_version": "1.2.0",
      "_view_name": "LayoutView",
      "align_content": null,
      "align_items": null,
      "align_self": null,
      "border": null,
      "bottom": null,
      "display": null,
      "flex": null,
      "flex_flow": null,
      "grid_area": null,
      "grid_auto_columns": null,
      "grid_auto_flow": null,
      "grid_auto_rows": null,
      "grid_column": null,
      "grid_gap": null,
      "grid_row": null,
      "grid_template_areas": null,
      "grid_template_columns": null,
      "grid_template_rows": null,
      "height": null,
      "justify_content": null,
      "justify_items": null,
      "left": null,
      "margin": null,
      "max_height": null,
      "max_width": null,
      "min_height": null,
      "min_width": null,
      "object_fit": null,
      "object_position": null,
      "order": null,
      "overflow": null,
      "overflow_x": null,
      "overflow_y": null,
      "padding": null,
      "right": null,
      "top": null,
      "visibility": null,
      "width": null
     }
    },
    "9b37a2a98204452eab3455ddea0bee2e": {
     "model_module": "@jupyter-widgets/base",
     "model_name": "LayoutModel",
     "state": {
      "_model_module": "@jupyter-widgets/base",
      "_model_module_version": "1.2.0",
      "_model_name": "LayoutModel",
      "_view_count": null,
      "_view_module": "@jupyter-widgets/base",
      "_view_module_version": "1.2.0",
      "_view_name": "LayoutView",
      "align_content": null,
      "align_items": null,
      "align_self": null,
      "border": null,
      "bottom": null,
      "display": null,
      "flex": null,
      "flex_flow": null,
      "grid_area": null,
      "grid_auto_columns": null,
      "grid_auto_flow": null,
      "grid_auto_rows": null,
      "grid_column": null,
      "grid_gap": null,
      "grid_row": null,
      "grid_template_areas": null,
      "grid_template_columns": null,
      "grid_template_rows": null,
      "height": null,
      "justify_content": null,
      "justify_items": null,
      "left": null,
      "margin": null,
      "max_height": null,
      "max_width": null,
      "min_height": null,
      "min_width": null,
      "object_fit": null,
      "object_position": null,
      "order": null,
      "overflow": null,
      "overflow_x": null,
      "overflow_y": null,
      "padding": null,
      "right": null,
      "top": null,
      "visibility": null,
      "width": null
     }
    },
    "b42c005eed2448b59acaf8c8497f8049": {
     "model_module": "@jupyter-widgets/controls",
     "model_name": "HTMLModel",
     "state": {
      "_dom_classes": [],
      "_model_module": "@jupyter-widgets/controls",
      "_model_module_version": "1.5.0",
      "_model_name": "HTMLModel",
      "_view_count": null,
      "_view_module": "@jupyter-widgets/controls",
      "_view_module_version": "1.5.0",
      "_view_name": "HTMLView",
      "description": "",
      "description_tooltip": null,
      "layout": "IPY_MODEL_4a1242a11d3649a685d745b195ac83fd",
      "placeholder": "​",
      "style": "IPY_MODEL_e6848159df574f03bce01306607ae5cc",
      "value": " 1722/? [01:39&lt;00:00, 17.27it/s]"
     }
    },
    "b60f626f5af24cd2a5da08b69e5fa0a4": {
     "model_module": "@jupyter-widgets/controls",
     "model_name": "HBoxModel",
     "state": {
      "_dom_classes": [],
      "_model_module": "@jupyter-widgets/controls",
      "_model_module_version": "1.5.0",
      "_model_name": "HBoxModel",
      "_view_count": null,
      "_view_module": "@jupyter-widgets/controls",
      "_view_module_version": "1.5.0",
      "_view_name": "HBoxView",
      "box_style": "",
      "children": [
       "IPY_MODEL_69ff883912e2485ead2772471a51e049",
       "IPY_MODEL_b42c005eed2448b59acaf8c8497f8049"
      ],
      "layout": "IPY_MODEL_95f2fd000f564836bbd92a23dd45dc4a"
     }
    },
    "c720a880d9e24d31a8d7f3f8c326252a": {
     "model_module": "@jupyter-widgets/controls",
     "model_name": "ProgressStyleModel",
     "state": {
      "_model_module": "@jupyter-widgets/controls",
      "_model_module_version": "1.5.0",
      "_model_name": "ProgressStyleModel",
      "_view_count": null,
      "_view_module": "@jupyter-widgets/base",
      "_view_module_version": "1.2.0",
      "_view_name": "StyleView",
      "bar_color": null,
      "description_width": "initial"
     }
    },
    "c942b73284194cc39320af47794f185d": {
     "model_module": "@jupyter-widgets/base",
     "model_name": "LayoutModel",
     "state": {
      "_model_module": "@jupyter-widgets/base",
      "_model_module_version": "1.2.0",
      "_model_name": "LayoutModel",
      "_view_count": null,
      "_view_module": "@jupyter-widgets/base",
      "_view_module_version": "1.2.0",
      "_view_name": "LayoutView",
      "align_content": null,
      "align_items": null,
      "align_self": null,
      "border": null,
      "bottom": null,
      "display": null,
      "flex": null,
      "flex_flow": null,
      "grid_area": null,
      "grid_auto_columns": null,
      "grid_auto_flow": null,
      "grid_auto_rows": null,
      "grid_column": null,
      "grid_gap": null,
      "grid_row": null,
      "grid_template_areas": null,
      "grid_template_columns": null,
      "grid_template_rows": null,
      "height": null,
      "justify_content": null,
      "justify_items": null,
      "left": null,
      "margin": null,
      "max_height": null,
      "max_width": null,
      "min_height": null,
      "min_width": null,
      "object_fit": null,
      "object_position": null,
      "order": null,
      "overflow": null,
      "overflow_x": null,
      "overflow_y": null,
      "padding": null,
      "right": null,
      "top": null,
      "visibility": null,
      "width": null
     }
    },
    "d81052a8fcbd4b0d9c2f999e8819c676": {
     "model_module": "@jupyter-widgets/controls",
     "model_name": "FloatProgressModel",
     "state": {
      "_dom_classes": [],
      "_model_module": "@jupyter-widgets/controls",
      "_model_module_version": "1.5.0",
      "_model_name": "FloatProgressModel",
      "_view_count": null,
      "_view_module": "@jupyter-widgets/controls",
      "_view_module_version": "1.5.0",
      "_view_name": "ProgressView",
      "bar_style": "success",
      "description": "",
      "description_tooltip": null,
      "layout": "IPY_MODEL_e1fa412f3b83433e872e619cdaf2fc51",
      "max": 1721,
      "min": 0,
      "orientation": "horizontal",
      "style": "IPY_MODEL_c720a880d9e24d31a8d7f3f8c326252a",
      "value": 1721
     }
    },
    "e1fa412f3b83433e872e619cdaf2fc51": {
     "model_module": "@jupyter-widgets/base",
     "model_name": "LayoutModel",
     "state": {
      "_model_module": "@jupyter-widgets/base",
      "_model_module_version": "1.2.0",
      "_model_name": "LayoutModel",
      "_view_count": null,
      "_view_module": "@jupyter-widgets/base",
      "_view_module_version": "1.2.0",
      "_view_name": "LayoutView",
      "align_content": null,
      "align_items": null,
      "align_self": null,
      "border": null,
      "bottom": null,
      "display": null,
      "flex": null,
      "flex_flow": null,
      "grid_area": null,
      "grid_auto_columns": null,
      "grid_auto_flow": null,
      "grid_auto_rows": null,
      "grid_column": null,
      "grid_gap": null,
      "grid_row": null,
      "grid_template_areas": null,
      "grid_template_columns": null,
      "grid_template_rows": null,
      "height": null,
      "justify_content": null,
      "justify_items": null,
      "left": null,
      "margin": null,
      "max_height": null,
      "max_width": null,
      "min_height": null,
      "min_width": null,
      "object_fit": null,
      "object_position": null,
      "order": null,
      "overflow": null,
      "overflow_x": null,
      "overflow_y": null,
      "padding": null,
      "right": null,
      "top": null,
      "visibility": null,
      "width": null
     }
    },
    "e6848159df574f03bce01306607ae5cc": {
     "model_module": "@jupyter-widgets/controls",
     "model_name": "DescriptionStyleModel",
     "state": {
      "_model_module": "@jupyter-widgets/controls",
      "_model_module_version": "1.5.0",
      "_model_name": "DescriptionStyleModel",
      "_view_count": null,
      "_view_module": "@jupyter-widgets/base",
      "_view_module_version": "1.2.0",
      "_view_name": "StyleView",
      "description_width": ""
     }
    },
    "edd9456f344b44dab1ab189764d83a37": {
     "model_module": "@jupyter-widgets/controls",
     "model_name": "DescriptionStyleModel",
     "state": {
      "_model_module": "@jupyter-widgets/controls",
      "_model_module_version": "1.5.0",
      "_model_name": "DescriptionStyleModel",
      "_view_count": null,
      "_view_module": "@jupyter-widgets/base",
      "_view_module_version": "1.2.0",
      "_view_name": "StyleView",
      "description_width": ""
     }
    },
    "f1a3091f5ff0491a84e95ed35dfe81e4": {
     "model_module": "@jupyter-widgets/controls",
     "model_name": "ProgressStyleModel",
     "state": {
      "_model_module": "@jupyter-widgets/controls",
      "_model_module_version": "1.5.0",
      "_model_name": "ProgressStyleModel",
      "_view_count": null,
      "_view_module": "@jupyter-widgets/base",
      "_view_module_version": "1.2.0",
      "_view_name": "StyleView",
      "bar_color": null,
      "description_width": "initial"
     }
    }
   }
  }
 },
 "nbformat": 4,
 "nbformat_minor": 1
}
